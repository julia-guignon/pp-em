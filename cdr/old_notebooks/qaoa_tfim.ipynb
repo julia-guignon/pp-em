{
 "cells": [
  {
   "cell_type": "code",
   "execution_count": 1,
   "metadata": {},
   "outputs": [],
   "source": [
    "using PauliPropagation\n",
    "using Random\n",
    "using Optim\n",
    "using Plots\n",
    "Random.seed!(43)\n",
    "using ReverseDiff: GradientTape, gradient!, compile\n",
    "using LinearAlgebra\n",
    "using StatsBase"
   ]
  },
  {
   "cell_type": "markdown",
   "metadata": {},
   "source": [
    "## CDR (Clifford Data Regression) \n",
    "This is the main idea:\n",
    "(https://arxiv.org/abs/2005.10189)\n",
    "\n",
    "- We create a training set consisting of classical \"exact\" expectation values using PP and noisy expectation values using a noisy simulator or a quantum device.\n",
    "- Then we fit a linear ansatz (and later a more complex noise model) in order to predict the correction to mitigate the errors on our noisy observables.\n",
    "- To create the training set, we use MCMC sampling.\n",
    "- Question: Could we use the noisy circuits within `PauliPropagation.jl` to generate our noisy expectation values? -Yes we can, we can model our noise using gates, in the case of global noise, the linear fit will give us the exact correction. We can also apply local noise and try to find a better model (Lindblad) to correct for this.\n",
    "\n",
    "In the first step we implement the system they use in the paper, but replace the MPS with PP.\n"
   ]
  },
  {
   "cell_type": "markdown",
   "metadata": {},
   "source": [
    "### Functions for QAOA on Ising spin chain\n",
    "We take the same setup as in the paper:\n",
    "- TFIM with obc and even number of qubits\n",
    "- QAOA (Quantum Alternating Operator Ansatz) circuit\n",
    "- Parameter assignment function (each RZZ and each RZ layer has the same parameters)"
   ]
  },
  {
   "cell_type": "code",
   "execution_count": 2,
   "metadata": {},
   "outputs": [
    {
     "data": {
      "text/plain": [
       "tfimqaoacircuit (generic function with 1 method)"
      ]
     },
     "metadata": {},
     "output_type": "display_data"
    }
   ],
   "source": [
    "#QAOA circuit (Fig 10)\n",
    "function tfimqaoacircuit(nqubits::Integer, nlayers::Integer; topology=nothing)\n",
    "    circuit::Vector{Gate} = []\n",
    "\n",
    "    if isnothing(topology)\n",
    "        topology = bricklayertopology(nqubits;periodic=false) #chain with obc\n",
    "    end\n",
    "\n",
    "    for i in 1:nlayers\n",
    "        rzzlayer!(circuit, topology)\n",
    "        for qubit in 1:nqubits\n",
    "            push!(circuit, CliffordGate(:S, qubit))\n",
    "            push!(circuit, PauliRotation(:X, qubit, π/2)) # Fig 10: P=R_X(π/2)\n",
    "            push!(circuit, PauliRotation(:Z, qubit))\n",
    "            push!(circuit, PauliRotation(:X, qubit, π/2))\n",
    "            push!(circuit, CliffordGate(:S, qubit))\n",
    "\n",
    "        end\n",
    "    end\n",
    "    return circuit\n",
    "end"
   ]
  },
  {
   "cell_type": "code",
   "execution_count": 3,
   "metadata": {},
   "outputs": [
    {
     "data": {
      "text/plain": [
       "assign_qaoa_parameters (generic function with 1 method)"
      ]
     },
     "metadata": {},
     "output_type": "display_data"
    }
   ],
   "source": [
    "#grouped assignment of the params for QAOA circuit\n",
    "function assign_qaoa_parameters(circuit, nqubits::Integer, nlayers::Integer)\n",
    "    \n",
    "    rzz_indices = getparameterindices(circuit, PauliRotation, [:Z, :Z])\n",
    "    rz_indices = getparameterindices(circuit, PauliRotation, [:Z])\n",
    "\n",
    "    #group sizes\n",
    "    Q_minus_1 = (nqubits - 1) * nlayers  # RZZ parameters\n",
    "    Q = nqubits * nlayers                # RZ parameters\n",
    "\n",
    "    #group the random values according to circuit layout\n",
    "    thetas = zeros(maximum(vcat(rzz_indices, rz_indices)))\n",
    "    thetas[rzz_indices] .= repeat(randn(nlayers), inner=(Q_minus_1 ÷ nlayers))\n",
    "    thetas[rz_indices] .= repeat(randn(nlayers), inner=(Q ÷ nlayers))\n",
    "\n",
    "    return thetas\n",
    "end"
   ]
  },
  {
   "cell_type": "markdown",
   "metadata": {},
   "source": [
    "### Initialize circuit\n",
    "- initial parameters are set\n",
    "- define truncations dpending on the method of gradient computation\n",
    "- for `ReverseDiff`, better to use `max_weight` (number of non-Id in string), `max_freq`, and `max_sins`(number of sins - as in SPD) (see notebook 8)\n",
    "- define H within loss function"
   ]
  },
  {
   "cell_type": "code",
   "execution_count": 4,
   "metadata": {},
   "outputs": [
    {
     "data": {
      "text/plain": [
       "2"
      ]
     },
     "metadata": {},
     "output_type": "display_data"
    }
   ],
   "source": [
    "const nq = 4 #we set const for global vars in fcts to opt performance\n",
    "const nl = 2 #number of layers/rounds\n",
    "const topology = bricklayertopology(nq;periodic=false) #chain with obc  \n",
    "const g = 2 #paramagnetic phase"
   ]
  },
  {
   "cell_type": "code",
   "execution_count": 5,
   "metadata": {},
   "outputs": [
    {
     "name": "stdout",
     "output_type": "stream",
     "text": [
      "Number of parameters: 14\n",
      "Parameters: [0.31552274336867586, 0.31552274336867586, 0.31552274336867586, -0.48993012686076465, -0.48993012686076465, -0.48993012686076465, -0.48993012686076465, -1.6267504320446404, -1.6267504320446404, -1.6267504320446404, 0.9627677544110731, 0.9627677544110731, 0.9627677544110731, 0.9627677544110731]\n"
     ]
    }
   ],
   "source": [
    "const circuit = tfimqaoacircuit(nq, nl; topology=topology)\n",
    "nparams = countparameters(circuit)\n",
    "println(\"Number of parameters: \", nparams) \n",
    "#generate random parameters\n",
    "thetas_init = assign_qaoa_parameters(circuit, nq, nl)\n",
    "println(\"Parameters: \", thetas_init)"
   ]
  },
  {
   "cell_type": "code",
   "execution_count": 6,
   "metadata": {},
   "outputs": [
    {
     "data": {
      "text/plain": [
       "5"
      ]
     },
     "metadata": {},
     "output_type": "display_data"
    }
   ],
   "source": [
    "#define the truncations\n",
    "const max_freq = 30\n",
    "const max_weight = 5 #number of non-Id Paulis in string"
   ]
  },
  {
   "cell_type": "markdown",
   "metadata": {},
   "source": [
    "### Loss function for TFIM and classical optimization"
   ]
  },
  {
   "cell_type": "code",
   "execution_count": 7,
   "metadata": {},
   "outputs": [
    {
     "data": {
      "text/plain": [
       "#13 (generic function with 1 method)"
      ]
     },
     "metadata": {},
     "output_type": "display_data"
    }
   ],
   "source": [
    "# function lossfunction(thetas)\n",
    "#     type_of_coeff = eltype(thetas)\n",
    "#     H = PauliSum(nq, type_of_coeff)\n",
    "#     for qind in 1:nq\n",
    "#         add!(H, :X, qind, type_of_coeff(-g))\n",
    "#     end\n",
    "#     for pair in topology\n",
    "#         add!(H, [:Z, :Z], collect(pair), type_of_coeff(1.0))\n",
    "#     end\n",
    "    \n",
    "#     wrapped_H = wrapcoefficients(H, PauliFreqTracker) #wrap to keep track of path splitting\n",
    "\n",
    "#     # We also need to run the in-place version with `!`, because by default we copy the Pauli sum\n",
    "#     wrapped_H = propagate!(circuit, wrapped_H, thetas; max_freq, max_weight);\n",
    "#     return overlapwithplus(wrapped_H)\n",
    "# end\n",
    "\n",
    "function fulllossfunction(thetas, circuit, topology, nq; max_freq=Inf, max_weight=Inf)\n",
    "    type_of_coeff = eltype(thetas)\n",
    "    H = PauliSum(nq, type_of_coeff)\n",
    "    for qind in 1:nq\n",
    "        add!(H, :X, qind, type_of_coeff(-g))\n",
    "    end\n",
    "    for pair in topology\n",
    "        add!(H, [:Z, :Z], collect(pair), type_of_coeff(1.0))\n",
    "    end\n",
    "    \n",
    "    wrapped_H = wrapcoefficients(H, PauliFreqTracker) #wrap to keep track of path splitting\n",
    "\n",
    "    # We also need to run the in-place version with `!`, because by default we copy the Pauli sum\n",
    "    wrapped_H = propagate!(circuit, wrapped_H, thetas; max_freq, max_weight);\n",
    "\n",
    "    # MR: Shouldn't this be plus for QAOA?\n",
    "    return overlapwithplus(wrapped_H)\n",
    "end\n",
    "\n",
    "lossfunction = let const_circuit=circuit, const_topology=topology, const_nq=nq, const_max_freq=max_freq,  const_max_weight=max_weight\n",
    "    # these are now all captured variables with known types and we return a function that only takes thetas\n",
    "    # See also \"closures\"\n",
    "    thetas -> fulllossfunction(thetas, const_circuit, const_topology, const_nq; max_freq=const_max_freq, max_weight=const_max_weight)\n",
    "end\n"
   ]
  },
  {
   "cell_type": "code",
   "execution_count": 8,
   "metadata": {},
   "outputs": [
    {
     "name": "stdout",
     "output_type": "stream",
     "text": [
      "  1.655112 seconds (4.67 M allocations: 230.087 MiB, 3.40% gc time, 99.96% compilation time)\n"
     ]
    },
    {
     "data": {
      "text/plain": [
       "-2.0562293696096825"
      ]
     },
     "metadata": {},
     "output_type": "display_data"
    }
   ],
   "source": [
    "@time lossfunction(thetas_init) #check"
   ]
  },
  {
   "cell_type": "code",
   "execution_count": 9,
   "metadata": {},
   "outputs": [],
   "source": [
    "### This is following an ReverseDiff.jl example\n",
    "\n",
    "# some inputs and work buffer to play around with\n",
    "# grad_array_compiled = similar(thetas_init);\n",
    "\n",
    "# # pre-record a GradientTape for `gradsimulation` using inputs of length m with Float64 elements\n",
    "\n",
    "# const simulation_tape = GradientTape(lossfunction, thetas_init)\n",
    "# const compiled_simulation_tape = compile(simulation_tape)\n",
    "#graph for the chain rule is computed only once! (const)\n",
    "\n",
    "# first evaluation compiles and is slower\n",
    "#@time gradient!(grad_array_compiled, compiled_simulation_tape, thetas)\n",
    "# second evaluation\n",
    "#@time gradient!(grad_array_compiled, compiled_simulation_tape, thetas);"
   ]
  },
  {
   "cell_type": "code",
   "execution_count": 10,
   "metadata": {},
   "outputs": [
    {
     "data": {
      "text/plain": [
       "constrain_params (generic function with 1 method)"
      ]
     },
     "metadata": {},
     "output_type": "display_data"
    }
   ],
   "source": [
    "function constrain_params(thetas, repartition)\n",
    "    for r in repartition\n",
    "        for q in r\n",
    "            thetas[q] = thetas[r[1]]\n",
    "        end\n",
    "    end\n",
    "end"
   ]
  },
  {
   "cell_type": "code",
   "execution_count": 11,
   "metadata": {},
   "outputs": [
    {
     "data": {
      "text/plain": [
       "gd (generic function with 3 methods)"
      ]
     },
     "metadata": {},
     "output_type": "display_data"
    }
   ],
   "source": [
    "function gd(thetas_init, repartition, eta=0.1, steps=100)\n",
    "    # some inputs and work buffer to play around with\n",
    "    grad_array_compiled = similar(thetas_init);\n",
    "    \n",
    "    # pre-record a GradientTape for `gradsimulation` using inputs of length m with Float64 elements\n",
    "    \n",
    "    simulation_tape = GradientTape(lossfunction, thetas_init)\n",
    "    compiled_simulation_tape = compile(simulation_tape)\n",
    "\n",
    "    opt_energy_gd = []\n",
    "    thetas = thetas_init\n",
    "    for i in 1:steps # steps\n",
    "        gradient!(grad_array_compiled, simulation_tape, thetas)\n",
    "        thetas .-= eta * grad_array_compiled\n",
    "        constrain_params(thetas, repartition)\n",
    "        opt_energy_gd = push!(opt_energy_gd, lossfunction(thetas)/nq)\n",
    "    end\n",
    "\n",
    "    return thetas, opt_energy_gd\n",
    "end"
   ]
  },
  {
   "cell_type": "code",
   "execution_count": 12,
   "metadata": {},
   "outputs": [
    {
     "name": "stdout",
     "output_type": "stream",
     "text": [
      "-2.0883051873187206\n"
     ]
    },
    {
     "data": {
      "image/png": "[encoded data removed]",
      "image/svg+xml": [
       "<?xml version=\"1.0\" encoding=\"utf-8\"?>\n",
       "<svg xmlns=\"http://www.w3.org/2000/svg\" xmlns:xlink=\"http://www.w3.org/1999/xlink\" width=\"600\" height=\"400\" viewBox=\"0 0 2400 1600\">\n",
       "<defs>\n",
       "  <clipPath id=\"clip140\">\n",
       "    <rect x=\"0\" y=\"0\" width=\"2400\" height=\"1600\"/>\n",
       "  </clipPath>\n",
       "</defs>\n",
       "<path clip-path=\"url(#clip140)\" d=\"M0 1600 L2400 1600 L2400 0 L0 0  Z\" fill=\"#ffffff\" fill-rule=\"evenodd\" fill-opacity=\"1\"/>\n",
       "<defs>\n",
       "  <clipPath id=\"clip141\">\n",
       "    <rect x=\"480\" y=\"0\" width=\"1681\" height=\"1600\"/>\n",
       "  </clipPath>\n",
       "</defs>\n",
       "<path clip-path=\"url(#clip140)\" d=\"M257.69 1423.18 L2352.76 1423.18 L2352.76 123.472 L257.69 123.472  Z\" fill=\"#ffffff\" fill-rule=\"evenodd\" fill-opacity=\"1\"/>\n",
       "<defs>\n",
       "  <clipPath id=\"clip142\">\n",
       "    <rect x=\"257\" y=\"123\" width=\"2096\" height=\"1301\"/>\n",
       "  </clipPath>\n",
       "</defs>\n",
       "<polyline clip-path=\"url(#clip142)\" style=\"stroke:#000000; stroke-linecap:round; stroke-linejoin:round; stroke-width:2; stroke-opacity:0.1; fill:none\" points=\"297.02,1423.18 297.02,123.472 \"/>\n",
       "<polyline clip-path=\"url(#clip142)\" style=\"stroke:#000000; stroke-linecap:round; stroke-linejoin:round; stroke-width:2; stroke-opacity:0.1; fill:none\" points=\"796.13,1423.18 796.13,123.472 \"/>\n",
       "<polyline clip-path=\"url(#clip142)\" style=\"stroke:#000000; stroke-linecap:round; stroke-linejoin:round; stroke-width:2; stroke-opacity:0.1; fill:none\" points=\"1295.24,1423.18 1295.24,123.472 \"/>\n",
       "<polyline clip-path=\"url(#clip142)\" style=\"stroke:#000000; stroke-linecap:round; stroke-linejoin:round; stroke-width:2; stroke-opacity:0.1; fill:none\" points=\"1794.35,1423.18 1794.35,123.472 \"/>\n",
       "<polyline clip-path=\"url(#clip142)\" style=\"stroke:#000000; stroke-linecap:round; stroke-linejoin:round; stroke-width:2; stroke-opacity:0.1; fill:none\" points=\"2293.46,1423.18 2293.46,123.472 \"/>\n",
       "<polyline clip-path=\"url(#clip142)\" style=\"stroke:#000000; stroke-linecap:round; stroke-linejoin:round; stroke-width:2; stroke-opacity:0.1; fill:none\" points=\"257.69,1267.82 2352.76,1267.82 \"/>\n",
       "<polyline clip-path=\"url(#clip142)\" style=\"stroke:#000000; stroke-linecap:round; stroke-linejoin:round; stroke-width:2; stroke-opacity:0.1; fill:none\" points=\"257.69,999.519 2352.76,999.519 \"/>\n",
       "<polyline clip-path=\"url(#clip142)\" style=\"stroke:#000000; stroke-linecap:round; stroke-linejoin:round; stroke-width:2; stroke-opacity:0.1; fill:none\" points=\"257.69,731.221 2352.76,731.221 \"/>\n",
       "<polyline clip-path=\"url(#clip142)\" style=\"stroke:#000000; stroke-linecap:round; stroke-linejoin:round; stroke-width:2; stroke-opacity:0.1; fill:none\" points=\"257.69,462.924 2352.76,462.924 \"/>\n",
       "<polyline clip-path=\"url(#clip142)\" style=\"stroke:#000000; stroke-linecap:round; stroke-linejoin:round; stroke-width:2; stroke-opacity:0.1; fill:none\" points=\"257.69,194.627 2352.76,194.627 \"/>\n",
       "<polyline clip-path=\"url(#clip140)\" style=\"stroke:#000000; stroke-linecap:round; stroke-linejoin:round; stroke-width:4; stroke-opacity:1; fill:none\" points=\"257.69,1423.18 2352.76,1423.18 \"/>\n",
       "<polyline clip-path=\"url(#clip140)\" style=\"stroke:#000000; stroke-linecap:round; stroke-linejoin:round; stroke-width:4; stroke-opacity:1; fill:none\" points=\"297.02,1423.18 297.02,1404.28 \"/>\n",
       "<polyline clip-path=\"url(#clip140)\" style=\"stroke:#000000; stroke-linecap:round; stroke-linejoin:round; stroke-width:4; stroke-opacity:1; fill:none\" points=\"796.13,1423.18 796.13,1404.28 \"/>\n",
       "<polyline clip-path=\"url(#clip140)\" style=\"stroke:#000000; stroke-linecap:round; stroke-linejoin:round; stroke-width:4; stroke-opacity:1; fill:none\" points=\"1295.24,1423.18 1295.24,1404.28 \"/>\n",
       "<polyline clip-path=\"url(#clip140)\" style=\"stroke:#000000; stroke-linecap:round; stroke-linejoin:round; stroke-width:4; stroke-opacity:1; fill:none\" points=\"1794.35,1423.18 1794.35,1404.28 \"/>\n",
       "<polyline clip-path=\"url(#clip140)\" style=\"stroke:#000000; stroke-linecap:round; stroke-linejoin:round; stroke-width:4; stroke-opacity:1; fill:none\" points=\"2293.46,1423.18 2293.46,1404.28 \"/>\n",
       "<path clip-path=\"url(#clip140)\" d=\"M297.02 1454.1 Q293.409 1454.1 291.58 1457.66 Q289.775 1461.2 289.775 1468.33 Q289.775 1475.44 291.58 1479.01 Q293.409 1482.55 297.02 1482.55 Q300.654 1482.55 302.46 1479.01 Q304.289 1475.44 304.289 1468.33 Q304.289 1461.2 302.46 1457.66 Q300.654 1454.1 297.02 1454.1 M297.02 1450.39 Q302.83 1450.39 305.886 1455 Q308.964 1459.58 308.964 1468.33 Q308.964 1477.06 305.886 1481.67 Q302.83 1486.25 297.02 1486.25 Q291.21 1486.25 288.131 1481.67 Q285.076 1477.06 285.076 1468.33 Q285.076 1459.58 288.131 1455 Q291.21 1450.39 297.02 1450.39 Z\" fill=\"#000000\" fill-rule=\"nonzero\" fill-opacity=\"1\" /><path clip-path=\"url(#clip140)\" d=\"M775.401 1481.64 L791.721 1481.64 L791.721 1485.58 L769.776 1485.58 L769.776 1481.64 Q772.438 1478.89 777.022 1474.26 Q781.628 1469.61 782.809 1468.27 Q785.054 1465.74 785.934 1464.01 Q786.836 1462.25 786.836 1460.56 Q786.836 1457.8 784.892 1456.07 Q782.971 1454.33 779.869 1454.33 Q777.67 1454.33 775.216 1455.09 Q772.786 1455.86 770.008 1457.41 L770.008 1452.69 Q772.832 1451.55 775.286 1450.97 Q777.739 1450.39 779.776 1450.39 Q785.147 1450.39 788.341 1453.08 Q791.536 1455.77 791.536 1460.26 Q791.536 1462.39 790.725 1464.31 Q789.938 1466.2 787.832 1468.8 Q787.253 1469.47 784.151 1472.69 Q781.049 1475.88 775.401 1481.64 Z\" fill=\"#000000\" fill-rule=\"nonzero\" fill-opacity=\"1\" /><path clip-path=\"url(#clip140)\" d=\"M801.582 1451.02 L819.938 1451.02 L819.938 1454.96 L805.864 1454.96 L805.864 1463.43 Q806.883 1463.08 807.901 1462.92 Q808.92 1462.73 809.938 1462.73 Q815.725 1462.73 819.105 1465.9 Q822.484 1469.08 822.484 1474.49 Q822.484 1480.07 819.012 1483.17 Q815.54 1486.25 809.221 1486.25 Q807.045 1486.25 804.776 1485.88 Q802.531 1485.51 800.123 1484.77 L800.123 1480.07 Q802.207 1481.2 804.429 1481.76 Q806.651 1482.32 809.128 1482.32 Q813.133 1482.32 815.471 1480.21 Q817.809 1478.1 817.809 1474.49 Q817.809 1470.88 815.471 1468.77 Q813.133 1466.67 809.128 1466.67 Q807.253 1466.67 805.378 1467.08 Q803.526 1467.5 801.582 1468.38 L801.582 1451.02 Z\" fill=\"#000000\" fill-rule=\"nonzero\" fill-opacity=\"1\" /><path clip-path=\"url(#clip140)\" d=\"M1269.94 1451.02 L1288.3 1451.02 L1288.3 1454.96 L1274.22 1454.96 L1274.22 1463.43 Q1275.24 1463.08 1276.26 1462.92 Q1277.28 1462.73 1278.3 1462.73 Q1284.08 1462.73 1287.46 1465.9 Q1290.84 1469.08 1290.84 1474.49 Q1290.84 1480.07 1287.37 1483.17 Q1283.9 1486.25 1277.58 1486.25 Q1275.4 1486.25 1273.13 1485.88 Q1270.89 1485.51 1268.48 1484.77 L1268.48 1480.07 Q1270.57 1481.2 1272.79 1481.76 Q1275.01 1482.32 1277.49 1482.32 Q1281.49 1482.32 1283.83 1480.21 Q1286.17 1478.1 1286.17 1474.49 Q1286.17 1470.88 1283.83 1468.77 Q1281.49 1466.67 1277.49 1466.67 Q1275.61 1466.67 1273.74 1467.08 Q1271.88 1467.5 1269.94 1468.38 L1269.94 1451.02 Z\" fill=\"#000000\" fill-rule=\"nonzero\" fill-opacity=\"1\" /><path clip-path=\"url(#clip140)\" d=\"M1310.06 1454.1 Q1306.44 1454.1 1304.62 1457.66 Q1302.81 1461.2 1302.81 1468.33 Q1302.81 1475.44 1304.62 1479.01 Q1306.44 1482.55 1310.06 1482.55 Q1313.69 1482.55 1315.5 1479.01 Q1317.32 1475.44 1317.32 1468.33 Q1317.32 1461.2 1315.5 1457.66 Q1313.69 1454.1 1310.06 1454.1 M1310.06 1450.39 Q1315.87 1450.39 1318.92 1455 Q1322 1459.58 1322 1468.33 Q1322 1477.06 1318.92 1481.67 Q1315.87 1486.25 1310.06 1486.25 Q1304.25 1486.25 1301.17 1481.67 Q1298.11 1477.06 1298.11 1468.33 Q1298.11 1459.58 1301.17 1455 Q1304.25 1450.39 1310.06 1450.39 Z\" fill=\"#000000\" fill-rule=\"nonzero\" fill-opacity=\"1\" /><path clip-path=\"url(#clip140)\" d=\"M1768.21 1451.02 L1790.43 1451.02 L1790.43 1453.01 L1777.88 1485.58 L1773 1485.58 L1784.8 1454.96 L1768.21 1454.96 L1768.21 1451.02 Z\" fill=\"#000000\" fill-rule=\"nonzero\" fill-opacity=\"1\" /><path clip-path=\"url(#clip140)\" d=\"M1799.59 1451.02 L1817.95 1451.02 L1817.95 1454.96 L1803.88 1454.96 L1803.88 1463.43 Q1804.9 1463.08 1805.91 1462.92 Q1806.93 1462.73 1807.95 1462.73 Q1813.74 1462.73 1817.12 1465.9 Q1820.5 1469.08 1820.5 1474.49 Q1820.5 1480.07 1817.02 1483.17 Q1813.55 1486.25 1807.23 1486.25 Q1805.06 1486.25 1802.79 1485.88 Q1800.54 1485.51 1798.14 1484.77 L1798.14 1480.07 Q1800.22 1481.2 1802.44 1481.76 Q1804.66 1482.32 1807.14 1482.32 Q1811.15 1482.32 1813.48 1480.21 Q1815.82 1478.1 1815.82 1474.49 Q1815.82 1470.88 1813.48 1468.77 Q1811.15 1466.67 1807.14 1466.67 Q1805.27 1466.67 1803.39 1467.08 Q1801.54 1467.5 1799.59 1468.38 L1799.59 1451.02 Z\" fill=\"#000000\" fill-rule=\"nonzero\" fill-opacity=\"1\" /><path clip-path=\"url(#clip140)\" d=\"M2253.07 1481.64 L2260.71 1481.64 L2260.71 1455.28 L2252.4 1456.95 L2252.4 1452.69 L2260.66 1451.02 L2265.34 1451.02 L2265.34 1481.64 L2272.98 1481.64 L2272.98 1485.58 L2253.07 1485.58 L2253.07 1481.64 Z\" fill=\"#000000\" fill-rule=\"nonzero\" fill-opacity=\"1\" /><path clip-path=\"url(#clip140)\" d=\"M2292.42 1454.1 Q2288.81 1454.1 2286.98 1457.66 Q2285.17 1461.2 2285.17 1468.33 Q2285.17 1475.44 2286.98 1479.01 Q2288.81 1482.55 2292.42 1482.55 Q2296.05 1482.55 2297.86 1479.01 Q2299.69 1475.44 2299.69 1468.33 Q2299.69 1461.2 2297.86 1457.66 Q2296.05 1454.1 2292.42 1454.1 M2292.42 1450.39 Q2298.23 1450.39 2301.29 1455 Q2304.36 1459.58 2304.36 1468.33 Q2304.36 1477.06 2301.29 1481.67 Q2298.23 1486.25 2292.42 1486.25 Q2286.61 1486.25 2283.53 1481.67 Q2280.48 1477.06 2280.48 1468.33 Q2280.48 1459.58 2283.53 1455 Q2286.61 1450.39 2292.42 1450.39 Z\" fill=\"#000000\" fill-rule=\"nonzero\" fill-opacity=\"1\" /><path clip-path=\"url(#clip140)\" d=\"M2322.58 1454.1 Q2318.97 1454.1 2317.14 1457.66 Q2315.34 1461.2 2315.34 1468.33 Q2315.34 1475.44 2317.14 1479.01 Q2318.97 1482.55 2322.58 1482.55 Q2326.22 1482.55 2328.02 1479.01 Q2329.85 1475.44 2329.85 1468.33 Q2329.85 1461.2 2328.02 1457.66 Q2326.22 1454.1 2322.58 1454.1 M2322.58 1450.39 Q2328.39 1450.39 2331.45 1455 Q2334.53 1459.58 2334.53 1468.33 Q2334.53 1477.06 2331.45 1481.67 Q2328.39 1486.25 2322.58 1486.25 Q2316.77 1486.25 2313.69 1481.67 Q2310.64 1477.06 2310.64 1468.33 Q2310.64 1459.58 2313.69 1455 Q2316.77 1450.39 2322.58 1450.39 Z\" fill=\"#000000\" fill-rule=\"nonzero\" fill-opacity=\"1\" /><path clip-path=\"url(#clip140)\" d=\"M1156.81 1537.87 Q1155.82 1537.3 1154.64 1537.04 Q1153.5 1536.76 1152.1 1536.76 Q1147.13 1536.76 1144.46 1540 Q1141.82 1543.22 1141.82 1549.27 L1141.82 1568.04 L1135.93 1568.04 L1135.93 1532.4 L1141.82 1532.4 L1141.82 1537.93 Q1143.66 1534.69 1146.62 1533.13 Q1149.58 1531.54 1153.81 1531.54 Q1154.42 1531.54 1155.15 1531.63 Q1155.88 1531.7 1156.77 1531.85 L1156.81 1537.87 Z\" fill=\"#000000\" fill-rule=\"nonzero\" fill-opacity=\"1\" /><path clip-path=\"url(#clip140)\" d=\"M1162.34 1553.98 L1162.34 1532.4 L1168.2 1532.4 L1168.2 1553.75 Q1168.2 1558.81 1170.17 1561.36 Q1172.15 1563.87 1176.09 1563.87 Q1180.84 1563.87 1183.57 1560.85 Q1186.34 1557.83 1186.34 1552.61 L1186.34 1532.4 L1192.2 1532.4 L1192.2 1568.04 L1186.34 1568.04 L1186.34 1562.57 Q1184.21 1565.82 1181.38 1567.41 Q1178.58 1568.97 1174.85 1568.97 Q1168.71 1568.97 1165.53 1565.15 Q1162.34 1561.33 1162.34 1553.98 M1177.08 1531.54 L1177.08 1531.54 Z\" fill=\"#000000\" fill-rule=\"nonzero\" fill-opacity=\"1\" /><path clip-path=\"url(#clip140)\" d=\"M1233.9 1546.53 L1233.9 1568.04 L1228.04 1568.04 L1228.04 1546.72 Q1228.04 1541.66 1226.07 1539.14 Q1224.09 1536.63 1220.15 1536.63 Q1215.4 1536.63 1212.67 1539.65 Q1209.93 1542.68 1209.93 1547.9 L1209.93 1568.04 L1204.04 1568.04 L1204.04 1532.4 L1209.93 1532.4 L1209.93 1537.93 Q1212.03 1534.72 1214.86 1533.13 Q1217.73 1531.54 1221.45 1531.54 Q1227.59 1531.54 1230.74 1535.36 Q1233.9 1539.14 1233.9 1546.53 Z\" fill=\"#000000\" fill-rule=\"nonzero\" fill-opacity=\"1\" /><path clip-path=\"url(#clip140)\" d=\"M1268.3 1533.45 L1268.3 1538.98 Q1265.82 1537.71 1263.15 1537.07 Q1260.47 1536.44 1257.61 1536.44 Q1253.25 1536.44 1251.05 1537.77 Q1248.89 1539.11 1248.89 1541.79 Q1248.89 1543.82 1250.45 1545 Q1252.01 1546.15 1256.72 1547.2 L1258.72 1547.64 Q1264.96 1548.98 1267.57 1551.43 Q1270.21 1553.85 1270.21 1558.21 Q1270.21 1563.17 1266.26 1566.07 Q1262.35 1568.97 1255.48 1568.97 Q1252.61 1568.97 1249.49 1568.39 Q1246.4 1567.85 1242.97 1566.74 L1242.97 1560.69 Q1246.21 1562.38 1249.36 1563.24 Q1252.51 1564.07 1255.6 1564.07 Q1259.74 1564.07 1261.97 1562.66 Q1264.2 1561.23 1264.2 1558.65 Q1264.2 1556.27 1262.57 1554.99 Q1260.98 1553.72 1255.54 1552.54 L1253.5 1552.07 Q1248.06 1550.92 1245.64 1548.56 Q1243.22 1546.18 1243.22 1542.04 Q1243.22 1537.01 1246.79 1534.27 Q1250.35 1531.54 1256.91 1531.54 Q1260.15 1531.54 1263.02 1532.01 Q1265.88 1532.49 1268.3 1533.45 Z\" fill=\"#000000\" fill-rule=\"nonzero\" fill-opacity=\"1\" /><path clip-path=\"url(#clip140)\" d=\"M1314.07 1536.5 Q1309.36 1536.5 1306.62 1540.19 Q1303.89 1543.85 1303.89 1550.25 Q1303.89 1556.65 1306.59 1560.34 Q1309.33 1564 1314.07 1564 Q1318.75 1564 1321.49 1560.31 Q1324.22 1556.62 1324.22 1550.25 Q1324.22 1543.92 1321.49 1540.23 Q1318.75 1536.5 1314.07 1536.5 M1314.07 1531.54 Q1321.71 1531.54 1326.07 1536.5 Q1330.43 1541.47 1330.43 1550.25 Q1330.43 1559 1326.07 1564 Q1321.71 1568.97 1314.07 1568.97 Q1306.4 1568.97 1302.04 1564 Q1297.71 1559 1297.71 1550.25 Q1297.71 1541.47 1302.04 1536.5 Q1306.4 1531.54 1314.07 1531.54 Z\" fill=\"#000000\" fill-rule=\"nonzero\" fill-opacity=\"1\" /><path clip-path=\"url(#clip140)\" d=\"M1358.19 1518.52 L1358.19 1523.39 L1352.58 1523.39 Q1349.43 1523.39 1348.19 1524.66 Q1346.98 1525.93 1346.98 1529.24 L1346.98 1532.4 L1356.63 1532.4 L1356.63 1536.95 L1346.98 1536.95 L1346.98 1568.04 L1341.09 1568.04 L1341.09 1536.95 L1335.49 1536.95 L1335.49 1532.4 L1341.09 1532.4 L1341.09 1529.91 Q1341.09 1523.96 1343.86 1521.26 Q1346.63 1518.52 1352.65 1518.52 L1358.19 1518.52 Z\" fill=\"#000000\" fill-rule=\"nonzero\" fill-opacity=\"1\" /><path clip-path=\"url(#clip140)\" d=\"M1416.46 1561.26 L1416.46 1548.5 L1405.96 1548.5 L1405.96 1543.22 L1422.83 1543.22 L1422.83 1563.62 Q1419.11 1566.26 1414.62 1567.63 Q1410.13 1568.97 1405.04 1568.97 Q1393.9 1568.97 1387.6 1562.47 Q1381.33 1555.95 1381.33 1544.33 Q1381.33 1532.68 1387.6 1526.19 Q1393.9 1519.66 1405.04 1519.66 Q1409.68 1519.66 1413.85 1520.81 Q1418.06 1521.96 1421.59 1524.18 L1421.59 1531.03 Q1418.02 1528 1414.01 1526.48 Q1410 1524.95 1405.58 1524.95 Q1396.86 1524.95 1392.47 1529.82 Q1388.1 1534.69 1388.1 1544.33 Q1388.1 1553.94 1392.47 1558.81 Q1396.86 1563.68 1405.58 1563.68 Q1408.98 1563.68 1411.66 1563.11 Q1414.33 1562.51 1416.46 1561.26 Z\" fill=\"#000000\" fill-rule=\"nonzero\" fill-opacity=\"1\" /><path clip-path=\"url(#clip140)\" d=\"M1441 1525.81 L1441 1562.76 L1448.77 1562.76 Q1458.6 1562.76 1463.16 1558.3 Q1467.74 1553.85 1467.74 1544.24 Q1467.74 1534.69 1463.16 1530.26 Q1458.6 1525.81 1448.77 1525.81 L1441 1525.81 M1434.57 1520.52 L1447.78 1520.52 Q1461.6 1520.52 1468.06 1526.28 Q1474.52 1532.01 1474.52 1544.24 Q1474.52 1556.52 1468.03 1562.28 Q1461.53 1568.04 1447.78 1568.04 L1434.57 1568.04 L1434.57 1520.52 Z\" fill=\"#000000\" fill-rule=\"nonzero\" fill-opacity=\"1\" /><polyline clip-path=\"url(#clip140)\" style=\"stroke:#000000; stroke-linecap:round; stroke-linejoin:round; stroke-width:4; stroke-opacity:1; fill:none\" points=\"257.69,1423.18 257.69,123.472 \"/>\n",
       "<polyline clip-path=\"url(#clip140)\" style=\"stroke:#000000; stroke-linecap:round; stroke-linejoin:round; stroke-width:4; stroke-opacity:1; fill:none\" points=\"257.69,1267.82 276.588,1267.82 \"/>\n",
       "<polyline clip-path=\"url(#clip140)\" style=\"stroke:#000000; stroke-linecap:round; stroke-linejoin:round; stroke-width:4; stroke-opacity:1; fill:none\" points=\"257.69,999.519 276.588,999.519 \"/>\n",
       "<polyline clip-path=\"url(#clip140)\" style=\"stroke:#000000; stroke-linecap:round; stroke-linejoin:round; stroke-width:4; stroke-opacity:1; fill:none\" points=\"257.69,731.221 276.588,731.221 \"/>\n",
       "<polyline clip-path=\"url(#clip140)\" style=\"stroke:#000000; stroke-linecap:round; stroke-linejoin:round; stroke-width:4; stroke-opacity:1; fill:none\" points=\"257.69,462.924 276.588,462.924 \"/>\n",
       "<polyline clip-path=\"url(#clip140)\" style=\"stroke:#000000; stroke-linecap:round; stroke-linejoin:round; stroke-width:4; stroke-opacity:1; fill:none\" points=\"257.69,194.627 276.588,194.627 \"/>\n",
       "<path clip-path=\"url(#clip140)\" d=\"M114.746 1268.27 L144.422 1268.27 L144.422 1272.2 L114.746 1272.2 L114.746 1268.27 Z\" fill=\"#000000\" fill-rule=\"nonzero\" fill-opacity=\"1\" /><path clip-path=\"url(#clip140)\" d=\"M158.542 1281.16 L174.862 1281.16 L174.862 1285.1 L152.917 1285.1 L152.917 1281.16 Q155.579 1278.41 160.163 1273.78 Q164.769 1269.12 165.95 1267.78 Q168.195 1265.26 169.075 1263.52 Q169.977 1261.76 169.977 1260.07 Q169.977 1257.32 168.033 1255.58 Q166.112 1253.85 163.01 1253.85 Q160.811 1253.85 158.357 1254.61 Q155.927 1255.37 153.149 1256.92 L153.149 1252.2 Q155.973 1251.07 158.427 1250.49 Q160.88 1249.91 162.917 1249.91 Q168.288 1249.91 171.482 1252.6 Q174.677 1255.28 174.677 1259.77 Q174.677 1261.9 173.866 1263.82 Q173.079 1265.72 170.973 1268.31 Q170.394 1268.98 167.292 1272.2 Q164.19 1275.4 158.542 1281.16 Z\" fill=\"#000000\" fill-rule=\"nonzero\" fill-opacity=\"1\" /><path clip-path=\"url(#clip140)\" d=\"M184.676 1279.22 L189.561 1279.22 L189.561 1285.1 L184.676 1285.1 L184.676 1279.22 Z\" fill=\"#000000\" fill-rule=\"nonzero\" fill-opacity=\"1\" /><path clip-path=\"url(#clip140)\" d=\"M209.746 1253.61 Q206.135 1253.61 204.306 1257.18 Q202.5 1260.72 202.5 1267.85 Q202.5 1274.96 204.306 1278.52 Q206.135 1282.06 209.746 1282.06 Q213.38 1282.06 215.186 1278.52 Q217.014 1274.96 217.014 1267.85 Q217.014 1260.72 215.186 1257.18 Q213.38 1253.61 209.746 1253.61 M209.746 1249.91 Q215.556 1249.91 218.611 1254.52 Q221.69 1259.1 221.69 1267.85 Q221.69 1276.58 218.611 1281.18 Q215.556 1285.77 209.746 1285.77 Q203.936 1285.77 200.857 1281.18 Q197.801 1276.58 197.801 1267.85 Q197.801 1259.1 200.857 1254.52 Q203.936 1249.91 209.746 1249.91 Z\" fill=\"#000000\" fill-rule=\"nonzero\" fill-opacity=\"1\" /><path clip-path=\"url(#clip140)\" d=\"M114.839 999.97 L144.515 999.97 L144.515 1003.91 L114.839 1003.91 L114.839 999.97 Z\" fill=\"#000000\" fill-rule=\"nonzero\" fill-opacity=\"1\" /><path clip-path=\"url(#clip140)\" d=\"M155.417 1012.86 L163.056 1012.86 L163.056 986.498 L154.746 988.165 L154.746 983.905 L163.01 982.239 L167.686 982.239 L167.686 1012.86 L175.325 1012.86 L175.325 1016.8 L155.417 1016.8 L155.417 1012.86 Z\" fill=\"#000000\" fill-rule=\"nonzero\" fill-opacity=\"1\" /><path clip-path=\"url(#clip140)\" d=\"M184.769 1010.92 L189.653 1010.92 L189.653 1016.8 L184.769 1016.8 L184.769 1010.92 Z\" fill=\"#000000\" fill-rule=\"nonzero\" fill-opacity=\"1\" /><path clip-path=\"url(#clip140)\" d=\"M209.838 1000.39 Q206.505 1000.39 204.584 1002.17 Q202.686 1003.95 202.686 1007.08 Q202.686 1010.2 204.584 1011.98 Q206.505 1013.77 209.838 1013.77 Q213.172 1013.77 215.093 1011.98 Q217.014 1010.18 217.014 1007.08 Q217.014 1003.95 215.093 1002.17 Q213.195 1000.39 209.838 1000.39 M205.162 998.396 Q202.153 997.655 200.463 995.595 Q198.797 993.535 198.797 990.572 Q198.797 986.428 201.737 984.021 Q204.699 981.614 209.838 981.614 Q215 981.614 217.94 984.021 Q220.88 986.428 220.88 990.572 Q220.88 993.535 219.19 995.595 Q217.523 997.655 214.537 998.396 Q217.917 999.183 219.792 1001.47 Q221.69 1003.77 221.69 1007.08 Q221.69 1012.1 218.611 1014.78 Q215.556 1017.47 209.838 1017.47 Q204.121 1017.47 201.042 1014.78 Q197.987 1012.1 197.987 1007.08 Q197.987 1003.77 199.885 1001.47 Q201.783 999.183 205.162 998.396 M203.449 991.012 Q203.449 993.697 205.116 995.202 Q206.806 996.706 209.838 996.706 Q212.848 996.706 214.537 995.202 Q216.25 993.697 216.25 991.012 Q216.25 988.327 214.537 986.822 Q212.848 985.317 209.838 985.317 Q206.806 985.317 205.116 986.822 Q203.449 988.327 203.449 991.012 Z\" fill=\"#000000\" fill-rule=\"nonzero\" fill-opacity=\"1\" /><path clip-path=\"url(#clip140)\" d=\"M114.584 731.673 L144.26 731.673 L144.26 735.608 L114.584 735.608 L114.584 731.673 Z\" fill=\"#000000\" fill-rule=\"nonzero\" fill-opacity=\"1\" /><path clip-path=\"url(#clip140)\" d=\"M155.163 744.566 L162.802 744.566 L162.802 718.201 L154.491 719.867 L154.491 715.608 L162.755 713.941 L167.431 713.941 L167.431 744.566 L175.07 744.566 L175.07 748.501 L155.163 748.501 L155.163 744.566 Z\" fill=\"#000000\" fill-rule=\"nonzero\" fill-opacity=\"1\" /><path clip-path=\"url(#clip140)\" d=\"M184.514 742.622 L189.399 742.622 L189.399 748.501 L184.514 748.501 L184.514 742.622 Z\" fill=\"#000000\" fill-rule=\"nonzero\" fill-opacity=\"1\" /><path clip-path=\"url(#clip140)\" d=\"M210.162 729.358 Q207.014 729.358 205.162 731.511 Q203.334 733.664 203.334 737.414 Q203.334 741.14 205.162 743.316 Q207.014 745.469 210.162 745.469 Q213.311 745.469 215.139 743.316 Q216.991 741.14 216.991 737.414 Q216.991 733.664 215.139 731.511 Q213.311 729.358 210.162 729.358 M219.445 714.705 L219.445 718.965 Q217.686 718.131 215.88 717.691 Q214.098 717.252 212.338 717.252 Q207.709 717.252 205.255 720.377 Q202.824 723.502 202.477 729.821 Q203.843 727.807 205.903 726.742 Q207.963 725.654 210.44 725.654 Q215.649 725.654 218.658 728.826 Q221.69 731.974 221.69 737.414 Q221.69 742.738 218.542 745.955 Q215.394 749.173 210.162 749.173 Q204.167 749.173 200.996 744.589 Q197.825 739.983 197.825 731.256 Q197.825 723.062 201.713 718.201 Q205.602 713.316 212.153 713.316 Q213.912 713.316 215.695 713.664 Q217.5 714.011 219.445 714.705 Z\" fill=\"#000000\" fill-rule=\"nonzero\" fill-opacity=\"1\" /><path clip-path=\"url(#clip140)\" d=\"M114.26 463.376 L143.936 463.376 L143.936 467.311 L114.26 467.311 L114.26 463.376 Z\" fill=\"#000000\" fill-rule=\"nonzero\" fill-opacity=\"1\" /><path clip-path=\"url(#clip140)\" d=\"M154.839 476.269 L162.477 476.269 L162.477 449.904 L154.167 451.57 L154.167 447.311 L162.431 445.644 L167.107 445.644 L167.107 476.269 L174.746 476.269 L174.746 480.204 L154.839 480.204 L154.839 476.269 Z\" fill=\"#000000\" fill-rule=\"nonzero\" fill-opacity=\"1\" /><path clip-path=\"url(#clip140)\" d=\"M184.19 474.325 L189.075 474.325 L189.075 480.204 L184.19 480.204 L184.19 474.325 Z\" fill=\"#000000\" fill-rule=\"nonzero\" fill-opacity=\"1\" /><path clip-path=\"url(#clip140)\" d=\"M212.107 449.718 L200.301 468.167 L212.107 468.167 L212.107 449.718 M210.88 445.644 L216.76 445.644 L216.76 468.167 L221.69 468.167 L221.69 472.056 L216.76 472.056 L216.76 480.204 L212.107 480.204 L212.107 472.056 L196.505 472.056 L196.505 467.542 L210.88 445.644 Z\" fill=\"#000000\" fill-rule=\"nonzero\" fill-opacity=\"1\" /><path clip-path=\"url(#clip140)\" d=\"M116.343 195.078 L146.019 195.078 L146.019 199.014 L116.343 199.014 L116.343 195.078 Z\" fill=\"#000000\" fill-rule=\"nonzero\" fill-opacity=\"1\" /><path clip-path=\"url(#clip140)\" d=\"M156.922 207.972 L164.561 207.972 L164.561 181.606 L156.251 183.273 L156.251 179.014 L164.515 177.347 L169.19 177.347 L169.19 207.972 L176.829 207.972 L176.829 211.907 L156.922 211.907 L156.922 207.972 Z\" fill=\"#000000\" fill-rule=\"nonzero\" fill-opacity=\"1\" /><path clip-path=\"url(#clip140)\" d=\"M186.274 206.028 L191.158 206.028 L191.158 211.907 L186.274 211.907 L186.274 206.028 Z\" fill=\"#000000\" fill-rule=\"nonzero\" fill-opacity=\"1\" /><path clip-path=\"url(#clip140)\" d=\"M205.371 207.972 L221.69 207.972 L221.69 211.907 L199.746 211.907 L199.746 207.972 Q202.408 205.217 206.991 200.588 Q211.598 195.935 212.778 194.592 Q215.024 192.069 215.903 190.333 Q216.806 188.574 216.806 186.884 Q216.806 184.129 214.861 182.393 Q212.94 180.657 209.838 180.657 Q207.639 180.657 205.186 181.421 Q202.755 182.185 199.977 183.736 L199.977 179.014 Q202.801 177.88 205.255 177.301 Q207.709 176.722 209.746 176.722 Q215.116 176.722 218.311 179.407 Q221.505 182.092 221.505 186.583 Q221.505 188.713 220.695 190.634 Q219.908 192.532 217.801 195.125 Q217.223 195.796 214.121 199.014 Q211.019 202.208 205.371 207.972 Z\" fill=\"#000000\" fill-rule=\"nonzero\" fill-opacity=\"1\" /><path clip-path=\"url(#clip140)\" d=\"M16.4842 825.525 L16.4842 795.479 L21.895 795.479 L21.895 819.095 L35.9632 819.095 L35.9632 796.465 L41.3741 796.465 L41.3741 819.095 L58.5933 819.095 L58.5933 794.906 L64.0042 794.906 L64.0042 825.525 L16.4842 825.525 Z\" fill=\"#000000\" fill-rule=\"nonzero\" fill-opacity=\"1\" /><path clip-path=\"url(#clip140)\" d=\"M16.4842 774.185 L16.4842 768.775 L70.0516 785.325 L70.0516 790.736 L16.4842 774.185 Z\" fill=\"#000000\" fill-rule=\"nonzero\" fill-opacity=\"1\" /><path clip-path=\"url(#clip140)\" d=\"M20.8447 743.089 Q20.8447 750.091 26.0645 754.229 Q31.2844 758.335 40.2919 758.335 Q49.2675 758.335 54.4874 754.229 Q59.7073 750.091 59.7073 743.089 Q59.7073 736.087 54.4874 732.013 Q49.2675 727.907 40.2919 727.907 Q31.2844 727.907 26.0645 732.013 Q20.8447 736.087 20.8447 743.089 M63.1448 734.081 L72.4069 725.615 L72.4069 733.381 L64.7999 740.415 Q64.8635 741.466 64.8954 742.039 Q64.9272 742.58 64.9272 743.089 Q64.9272 753.115 58.2432 759.13 Q51.5274 765.114 40.2919 765.114 Q29.0246 765.114 22.3406 759.13 Q15.6248 753.115 15.6248 743.089 Q15.6248 733.095 22.3406 727.111 Q29.0246 721.127 40.2919 721.127 Q48.5673 721.127 54.4556 724.469 Q60.3439 727.779 63.1448 734.081 Z\" fill=\"#000000\" fill-rule=\"nonzero\" fill-opacity=\"1\" /><path clip-path=\"url(#clip140)\" d=\"M716.951 12.096 L755.191 12.096 L755.191 18.9825 L725.134 18.9825 L725.134 36.8875 L753.935 36.8875 L753.935 43.7741 L725.134 43.7741 L725.134 65.6895 L755.92 65.6895 L755.92 72.576 L716.951 72.576 L716.951 12.096 Z\" fill=\"#000000\" fill-rule=\"nonzero\" fill-opacity=\"1\" /><path clip-path=\"url(#clip140)\" d=\"M806.759 45.1919 L806.759 72.576 L799.306 72.576 L799.306 45.4349 Q799.306 38.994 796.794 35.7938 Q794.282 32.5936 789.259 32.5936 Q783.224 32.5936 779.74 36.4419 Q776.256 40.2903 776.256 46.9338 L776.256 72.576 L768.762 72.576 L768.762 27.2059 L776.256 27.2059 L776.256 34.2544 Q778.93 30.163 782.535 28.1376 Q786.181 26.1121 790.92 26.1121 Q798.738 26.1121 802.749 30.9732 Q806.759 35.7938 806.759 45.1919 Z\" fill=\"#000000\" fill-rule=\"nonzero\" fill-opacity=\"1\" /><path clip-path=\"url(#clip140)\" d=\"M860.434 48.0275 L860.434 51.6733 L826.163 51.6733 Q826.649 59.3701 830.781 63.421 Q834.954 67.4314 842.367 67.4314 Q846.661 67.4314 850.671 66.3781 Q854.722 65.3249 858.692 63.2184 L858.692 70.267 Q854.681 71.9684 850.469 72.8596 Q846.256 73.7508 841.921 73.7508 Q831.065 73.7508 824.705 67.4314 Q818.385 61.1119 818.385 50.3365 Q818.385 39.1965 824.381 32.6746 Q830.417 26.1121 840.625 26.1121 Q849.78 26.1121 855.087 32.0264 Q860.434 37.9003 860.434 48.0275 M852.98 45.84 Q852.899 39.7232 849.537 36.0774 Q846.215 32.4315 840.706 32.4315 Q834.467 32.4315 830.7 35.9558 Q826.973 39.4801 826.406 45.8805 L852.98 45.84 Z\" fill=\"#000000\" fill-rule=\"nonzero\" fill-opacity=\"1\" /><path clip-path=\"url(#clip140)\" d=\"M898.958 34.1734 Q897.702 33.4443 896.203 33.1202 Q894.745 32.7556 892.962 32.7556 Q886.643 32.7556 883.24 36.8875 Q879.878 40.9789 879.878 48.6757 L879.878 72.576 L872.384 72.576 L872.384 27.2059 L879.878 27.2059 L879.878 34.2544 Q882.228 30.1225 885.995 28.1376 Q889.762 26.1121 895.15 26.1121 Q895.92 26.1121 896.851 26.2337 Q897.783 26.3147 898.917 26.5172 L898.958 34.1734 Z\" fill=\"#000000\" fill-rule=\"nonzero\" fill-opacity=\"1\" /><path clip-path=\"url(#clip140)\" d=\"M935.173 49.3643 Q935.173 41.2625 931.811 36.8065 Q928.489 32.3505 922.453 32.3505 Q916.458 32.3505 913.095 36.8065 Q909.774 41.2625 909.774 49.3643 Q909.774 57.4256 913.095 61.8816 Q916.458 66.3376 922.453 66.3376 Q928.489 66.3376 931.811 61.8816 Q935.173 57.4256 935.173 49.3643 M942.627 66.9452 Q942.627 78.5308 937.482 84.1616 Q932.337 89.8329 921.724 89.8329 Q917.795 89.8329 914.311 89.2252 Q910.827 88.6581 907.546 87.4428 L907.546 80.1917 Q910.827 81.9741 914.027 82.8248 Q917.227 83.6755 920.549 83.6755 Q927.881 83.6755 931.527 79.8271 Q935.173 76.0193 935.173 68.282 L935.173 64.5957 Q932.864 68.6061 929.259 70.5911 Q925.653 72.576 920.63 72.576 Q912.285 72.576 907.181 66.2161 Q902.077 59.8562 902.077 49.3643 Q902.077 38.832 907.181 32.472 Q912.285 26.1121 920.63 26.1121 Q925.653 26.1121 929.259 28.0971 Q932.864 30.082 935.173 34.0924 L935.173 27.2059 L942.627 27.2059 L942.627 66.9452 Z\" fill=\"#000000\" fill-rule=\"nonzero\" fill-opacity=\"1\" /><path clip-path=\"url(#clip140)\" d=\"M976.857 76.7889 Q973.697 84.8907 970.699 87.3618 Q967.702 89.8329 962.679 89.8329 L956.724 89.8329 L956.724 83.5945 L961.099 83.5945 Q964.177 83.5945 965.879 82.1361 Q967.58 80.6778 969.646 75.2496 L970.983 71.8468 L952.632 27.2059 L960.532 27.2059 L974.71 62.6918 L988.888 27.2059 L996.787 27.2059 L976.857 76.7889 Z\" fill=\"#000000\" fill-rule=\"nonzero\" fill-opacity=\"1\" /><path clip-path=\"url(#clip140)\" d=\"M1051.03 32.4315 Q1045.03 32.4315 1041.55 37.1306 Q1038.07 41.7891 1038.07 49.9314 Q1038.07 58.0738 1041.51 62.7728 Q1044.99 67.4314 1051.03 67.4314 Q1056.98 67.4314 1060.47 62.7323 Q1063.95 58.0333 1063.95 49.9314 Q1063.95 41.8701 1060.47 37.1711 Q1056.98 32.4315 1051.03 32.4315 M1051.03 26.1121 Q1060.75 26.1121 1066.3 32.4315 Q1071.85 38.7509 1071.85 49.9314 Q1071.85 61.0714 1066.3 67.4314 Q1060.75 73.7508 1051.03 73.7508 Q1041.27 73.7508 1035.72 67.4314 Q1030.21 61.0714 1030.21 49.9314 Q1030.21 38.7509 1035.72 32.4315 Q1041.27 26.1121 1051.03 26.1121 Z\" fill=\"#000000\" fill-rule=\"nonzero\" fill-opacity=\"1\" /><path clip-path=\"url(#clip140)\" d=\"M1091.42 65.7705 L1091.42 89.8329 L1083.92 89.8329 L1083.92 27.2059 L1091.42 27.2059 L1091.42 34.0924 Q1093.77 30.0415 1097.33 28.0971 Q1100.94 26.1121 1105.92 26.1121 Q1114.18 26.1121 1119.33 32.6746 Q1124.51 39.2371 1124.51 49.9314 Q1124.51 60.6258 1119.33 67.1883 Q1114.18 73.7508 1105.92 73.7508 Q1100.94 73.7508 1097.33 71.8063 Q1093.77 69.8214 1091.42 65.7705 M1116.77 49.9314 Q1116.77 41.7081 1113.37 37.0496 Q1110.01 32.3505 1104.1 32.3505 Q1098.18 32.3505 1094.78 37.0496 Q1091.42 41.7081 1091.42 49.9314 Q1091.42 58.1548 1094.78 62.8538 Q1098.18 67.5124 1104.1 67.5124 Q1110.01 67.5124 1113.37 62.8538 Q1116.77 58.1548 1116.77 49.9314 Z\" fill=\"#000000\" fill-rule=\"nonzero\" fill-opacity=\"1\" /><path clip-path=\"url(#clip140)\" d=\"M1144.24 14.324 L1144.24 27.2059 L1159.59 27.2059 L1159.59 32.9987 L1144.24 32.9987 L1144.24 57.6282 Q1144.24 63.1779 1145.74 64.7578 Q1147.28 66.3376 1151.94 66.3376 L1159.59 66.3376 L1159.59 72.576 L1151.94 72.576 Q1143.31 72.576 1140.03 69.3758 Q1136.75 66.1351 1136.75 57.6282 L1136.75 32.9987 L1131.28 32.9987 L1131.28 27.2059 L1136.75 27.2059 L1136.75 14.324 L1144.24 14.324 Z\" fill=\"#000000\" fill-rule=\"nonzero\" fill-opacity=\"1\" /><path clip-path=\"url(#clip140)\" d=\"M1169.4 27.2059 L1176.85 27.2059 L1176.85 72.576 L1169.4 72.576 L1169.4 27.2059 M1169.4 9.54393 L1176.85 9.54393 L1176.85 18.9825 L1169.4 18.9825 L1169.4 9.54393 Z\" fill=\"#000000\" fill-rule=\"nonzero\" fill-opacity=\"1\" /><path clip-path=\"url(#clip140)\" d=\"M1227.77 35.9153 Q1230.56 30.8922 1234.45 28.5022 Q1238.34 26.1121 1243.61 26.1121 Q1250.7 26.1121 1254.55 31.0947 Q1258.39 36.0368 1258.39 45.1919 L1258.39 72.576 L1250.9 72.576 L1250.9 45.4349 Q1250.9 38.913 1248.59 35.7533 Q1246.28 32.5936 1241.54 32.5936 Q1235.75 32.5936 1232.39 36.4419 Q1229.03 40.2903 1229.03 46.9338 L1229.03 72.576 L1221.53 72.576 L1221.53 45.4349 Q1221.53 38.8725 1219.22 35.7533 Q1216.91 32.5936 1212.09 32.5936 Q1206.38 32.5936 1203.02 36.4824 Q1199.66 40.3308 1199.66 46.9338 L1199.66 72.576 L1192.16 72.576 L1192.16 27.2059 L1199.66 27.2059 L1199.66 34.2544 Q1202.21 30.082 1205.77 28.0971 Q1209.34 26.1121 1214.24 26.1121 Q1219.18 26.1121 1222.63 28.6237 Q1226.11 31.1352 1227.77 35.9153 Z\" fill=\"#000000\" fill-rule=\"nonzero\" fill-opacity=\"1\" /><path clip-path=\"url(#clip140)\" d=\"M1273.26 27.2059 L1280.72 27.2059 L1280.72 72.576 L1273.26 72.576 L1273.26 27.2059 M1273.26 9.54393 L1280.72 9.54393 L1280.72 18.9825 L1273.26 18.9825 L1273.26 9.54393 Z\" fill=\"#000000\" fill-rule=\"nonzero\" fill-opacity=\"1\" /><path clip-path=\"url(#clip140)\" d=\"M1325.23 28.5427 L1325.23 35.5912 Q1322.07 33.9709 1318.67 33.1607 Q1315.27 32.3505 1311.62 32.3505 Q1306.07 32.3505 1303.28 34.0519 Q1300.52 35.7533 1300.52 39.156 Q1300.52 41.7486 1302.51 43.2475 Q1304.49 44.7058 1310.49 46.0426 L1313.04 46.6097 Q1320.98 48.3111 1324.3 51.4303 Q1327.67 54.509 1327.67 60.0587 Q1327.67 66.3781 1322.64 70.0644 Q1317.66 73.7508 1308.91 73.7508 Q1305.26 73.7508 1301.29 73.0216 Q1297.36 72.3329 1292.99 70.9151 L1292.99 63.2184 Q1297.12 65.3654 1301.13 66.4591 Q1305.14 67.5124 1309.07 67.5124 Q1314.34 67.5124 1317.17 65.73 Q1320.01 63.9071 1320.01 60.6258 Q1320.01 57.5877 1317.94 55.9673 Q1315.92 54.3469 1308.99 52.8481 L1306.4 52.2405 Q1299.47 50.7821 1296.39 47.7845 Q1293.31 44.7463 1293.31 39.4801 Q1293.31 33.0797 1297.85 29.5959 Q1302.39 26.1121 1310.73 26.1121 Q1314.86 26.1121 1318.51 26.7198 Q1322.16 27.3274 1325.23 28.5427 Z\" fill=\"#000000\" fill-rule=\"nonzero\" fill-opacity=\"1\" /><path clip-path=\"url(#clip140)\" d=\"M1360.15 49.7694 Q1351.12 49.7694 1347.64 51.8354 Q1344.15 53.9013 1344.15 58.8839 Q1344.15 62.8538 1346.74 65.2034 Q1349.38 67.5124 1353.87 67.5124 Q1360.07 67.5124 1363.8 63.1374 Q1367.57 58.7219 1367.57 51.4303 L1367.57 49.7694 L1360.15 49.7694 M1375.02 46.6907 L1375.02 72.576 L1367.57 72.576 L1367.57 65.6895 Q1365.01 69.8214 1361.21 71.8063 Q1357.4 73.7508 1351.89 73.7508 Q1344.92 73.7508 1340.79 69.8619 Q1336.7 65.9325 1336.7 59.3701 Q1336.7 51.7138 1341.8 47.825 Q1346.95 43.9361 1357.12 43.9361 L1367.57 43.9361 L1367.57 43.2069 Q1367.57 38.0623 1364.16 35.2672 Q1360.8 32.4315 1354.68 32.4315 Q1350.8 32.4315 1347.11 33.3632 Q1343.42 34.295 1340.02 36.1584 L1340.02 29.2718 Q1344.11 27.692 1347.96 26.9223 Q1351.81 26.1121 1355.45 26.1121 Q1365.3 26.1121 1370.16 31.2163 Q1375.02 36.3204 1375.02 46.6907 Z\" fill=\"#000000\" fill-rule=\"nonzero\" fill-opacity=\"1\" /><path clip-path=\"url(#clip140)\" d=\"M1397.75 14.324 L1397.75 27.2059 L1413.1 27.2059 L1413.1 32.9987 L1397.75 32.9987 L1397.75 57.6282 Q1397.75 63.1779 1399.24 64.7578 Q1400.78 66.3376 1405.44 66.3376 L1413.1 66.3376 L1413.1 72.576 L1405.44 72.576 Q1396.81 72.576 1393.53 69.3758 Q1390.25 66.1351 1390.25 57.6282 L1390.25 32.9987 L1384.78 32.9987 L1384.78 27.2059 L1390.25 27.2059 L1390.25 14.324 L1397.75 14.324 Z\" fill=\"#000000\" fill-rule=\"nonzero\" fill-opacity=\"1\" /><path clip-path=\"url(#clip140)\" d=\"M1422.9 27.2059 L1430.36 27.2059 L1430.36 72.576 L1422.9 72.576 L1422.9 27.2059 M1422.9 9.54393 L1430.36 9.54393 L1430.36 18.9825 L1422.9 18.9825 L1422.9 9.54393 Z\" fill=\"#000000\" fill-rule=\"nonzero\" fill-opacity=\"1\" /><path clip-path=\"url(#clip140)\" d=\"M1463.53 32.4315 Q1457.54 32.4315 1454.05 37.1306 Q1450.57 41.7891 1450.57 49.9314 Q1450.57 58.0738 1454.01 62.7728 Q1457.5 67.4314 1463.53 67.4314 Q1469.49 67.4314 1472.97 62.7323 Q1476.45 58.0333 1476.45 49.9314 Q1476.45 41.8701 1472.97 37.1711 Q1469.49 32.4315 1463.53 32.4315 M1463.53 26.1121 Q1473.25 26.1121 1478.8 32.4315 Q1484.35 38.7509 1484.35 49.9314 Q1484.35 61.0714 1478.8 67.4314 Q1473.25 73.7508 1463.53 73.7508 Q1453.77 73.7508 1448.22 67.4314 Q1442.71 61.0714 1442.71 49.9314 Q1442.71 38.7509 1448.22 32.4315 Q1453.77 26.1121 1463.53 26.1121 Z\" fill=\"#000000\" fill-rule=\"nonzero\" fill-opacity=\"1\" /><path clip-path=\"url(#clip140)\" d=\"M1534.42 45.1919 L1534.42 72.576 L1526.97 72.576 L1526.97 45.4349 Q1526.97 38.994 1524.46 35.7938 Q1521.95 32.5936 1516.92 32.5936 Q1510.89 32.5936 1507.4 36.4419 Q1503.92 40.2903 1503.92 46.9338 L1503.92 72.576 L1496.43 72.576 L1496.43 27.2059 L1503.92 27.2059 L1503.92 34.2544 Q1506.59 30.163 1510.2 28.1376 Q1513.84 26.1121 1518.58 26.1121 Q1526.4 26.1121 1530.41 30.9732 Q1534.42 35.7938 1534.42 45.1919 Z\" fill=\"#000000\" fill-rule=\"nonzero\" fill-opacity=\"1\" /><path clip-path=\"url(#clip140)\" d=\"M1571.33 27.2059 L1578.78 27.2059 L1588.1 62.6108 L1597.37 27.2059 L1606.16 27.2059 L1615.48 62.6108 L1624.76 27.2059 L1632.21 27.2059 L1620.34 72.576 L1611.55 72.576 L1601.79 35.3887 L1591.99 72.576 L1583.2 72.576 L1571.33 27.2059 Z\" fill=\"#000000\" fill-rule=\"nonzero\" fill-opacity=\"1\" /><path clip-path=\"url(#clip140)\" d=\"M1643.51 27.2059 L1650.97 27.2059 L1650.97 72.576 L1643.51 72.576 L1643.51 27.2059 M1643.51 9.54393 L1650.97 9.54393 L1650.97 18.9825 L1643.51 18.9825 L1643.51 9.54393 Z\" fill=\"#000000\" fill-rule=\"nonzero\" fill-opacity=\"1\" /><path clip-path=\"url(#clip140)\" d=\"M1673.94 14.324 L1673.94 27.2059 L1689.29 27.2059 L1689.29 32.9987 L1673.94 32.9987 L1673.94 57.6282 Q1673.94 63.1779 1675.44 64.7578 Q1676.97 66.3376 1681.63 66.3376 L1689.29 66.3376 L1689.29 72.576 L1681.63 72.576 Q1673 72.576 1669.72 69.3758 Q1666.44 66.1351 1666.44 57.6282 L1666.44 32.9987 L1660.97 32.9987 L1660.97 27.2059 L1666.44 27.2059 L1666.44 14.324 L1673.94 14.324 Z\" fill=\"#000000\" fill-rule=\"nonzero\" fill-opacity=\"1\" /><path clip-path=\"url(#clip140)\" d=\"M1736.81 45.1919 L1736.81 72.576 L1729.35 72.576 L1729.35 45.4349 Q1729.35 38.994 1726.84 35.7938 Q1724.33 32.5936 1719.31 32.5936 Q1713.27 32.5936 1709.79 36.4419 Q1706.3 40.2903 1706.3 46.9338 L1706.3 72.576 L1698.81 72.576 L1698.81 9.54393 L1706.3 9.54393 L1706.3 34.2544 Q1708.98 30.163 1712.58 28.1376 Q1716.23 26.1121 1720.97 26.1121 Q1728.79 26.1121 1732.8 30.9732 Q1736.81 35.7938 1736.81 45.1919 Z\" fill=\"#000000\" fill-rule=\"nonzero\" fill-opacity=\"1\" /><path clip-path=\"url(#clip140)\" d=\"M1819.61 63.9476 L1819.61 47.7034 L1806.24 47.7034 L1806.24 40.9789 L1827.71 40.9789 L1827.71 66.9452 Q1822.97 70.3075 1817.26 72.0494 Q1811.55 73.7508 1805.06 73.7508 Q1790.89 73.7508 1782.87 65.4869 Q1774.88 57.1826 1774.88 42.3968 Q1774.88 27.5705 1782.87 19.3066 Q1790.89 11.0023 1805.06 11.0023 Q1810.98 11.0023 1816.29 12.4606 Q1821.63 13.9189 1826.13 16.7545 L1826.13 25.464 Q1821.59 21.6156 1816.49 19.6712 Q1811.38 17.7268 1805.75 17.7268 Q1794.65 17.7268 1789.06 23.9246 Q1783.51 30.1225 1783.51 42.3968 Q1783.51 54.6305 1789.06 60.8284 Q1794.65 67.0263 1805.75 67.0263 Q1810.09 67.0263 1813.49 66.2971 Q1816.89 65.5274 1819.61 63.9476 Z\" fill=\"#000000\" fill-rule=\"nonzero\" fill-opacity=\"1\" /><path clip-path=\"url(#clip140)\" d=\"M1850.84 18.8205 L1850.84 65.8515 L1860.72 65.8515 Q1873.24 65.8515 1879.03 60.1802 Q1884.87 54.509 1884.87 42.2752 Q1884.87 30.1225 1879.03 24.4918 Q1873.24 18.8205 1860.72 18.8205 L1850.84 18.8205 M1842.66 12.096 L1859.47 12.096 Q1877.05 12.096 1885.27 19.4281 Q1893.5 26.7198 1893.5 42.2752 Q1893.5 57.9117 1885.23 65.2439 Q1876.97 72.576 1859.47 72.576 L1842.66 72.576 L1842.66 12.096 Z\" fill=\"#000000\" fill-rule=\"nonzero\" fill-opacity=\"1\" /><polyline clip-path=\"url(#clip142)\" style=\"stroke:#009af9; stroke-linecap:round; stroke-linejoin:round; stroke-width:4; stroke-opacity:1; fill:none\" points=\"316.984,160.256 336.949,890.237 356.913,1212.4 376.878,1323.87 396.842,1364.67 416.807,1379.49 436.771,1384.56 456.735,1386.08 476.7,1386.4 496.664,1386.35 516.629,1386.23 536.593,1386.12 556.557,1386.05 576.522,1385.99 596.486,1385.96 616.451,1385.94 636.415,1385.93 656.38,1385.93 676.344,1385.93 696.308,1385.93 716.273,1385.93 736.237,1385.93 756.202,1385.94 776.166,1385.94 796.13,1385.95 816.095,1385.95 836.059,1385.96 856.024,1385.96 875.988,1385.97 895.953,1385.97 915.917,1385.97 935.881,1385.98 955.846,1385.98 975.81,1385.99 995.775,1385.99 1015.74,1386 1035.7,1386 1055.67,1386.01 1075.63,1386.01 1095.6,1386.02 1115.56,1386.02 1135.53,1386.03 1155.49,1386.03 1175.45,1386.03 1195.42,1386.04 1215.38,1386.04 1235.35,1386.05 1255.31,1386.05 1275.28,1386.06 1295.24,1386.06 1315.21,1386.07 1335.17,1386.07 1355.13,1386.08 1375.1,1386.08 1395.06,1386.08 1415.03,1386.09 1434.99,1386.09 1454.96,1386.1 1474.92,1386.1 1494.88,1386.11 1514.85,1386.11 1534.81,1386.12 1554.78,1386.12 1574.74,1386.12 1594.71,1386.13 1614.67,1386.13 1634.64,1386.14 1654.6,1386.14 1674.56,1386.15 1694.53,1386.15 1714.49,1386.15 1734.46,1386.16 1754.42,1386.16 1774.39,1386.17 1794.35,1386.17 1814.32,1386.18 1834.28,1386.18 1854.24,1386.18 1874.21,1386.19 1894.17,1386.19 1914.14,1386.2 1934.1,1386.2 1954.07,1386.21 1974.03,1386.21 1994,1386.21 2013.96,1386.22 2033.92,1386.22 2053.89,1386.23 2073.85,1386.23 2093.82,1386.24 2113.78,1386.24 2133.75,1386.24 2153.71,1386.25 2173.68,1386.25 2193.64,1386.26 2213.6,1386.26 2233.57,1386.26 2253.53,1386.27 2273.5,1386.27 2293.46,1386.28 \"/>\n",
       "<path clip-path=\"url(#clip140)\" d=\"M2020.98 270.476 L2282.92 270.476 L2282.92 166.796 L2020.98 166.796  Z\" fill=\"#ffffff\" fill-rule=\"evenodd\" fill-opacity=\"1\"/>\n",
       "<polyline clip-path=\"url(#clip140)\" style=\"stroke:#000000; stroke-linecap:round; stroke-linejoin:round; stroke-width:4; stroke-opacity:1; fill:none\" points=\"2020.98,270.476 2282.92,270.476 2282.92,166.796 2020.98,166.796 2020.98,270.476 \"/>\n",
       "<polyline clip-path=\"url(#clip140)\" style=\"stroke:#009af9; stroke-linecap:round; stroke-linejoin:round; stroke-width:4; stroke-opacity:1; fill:none\" points=\"2044.26,218.636 2183.93,218.636 \"/>\n",
       "<path clip-path=\"url(#clip140)\" d=\"M2221.05 238.323 Q2219.25 242.953 2217.54 244.365 Q2215.82 245.777 2212.95 245.777 L2209.55 245.777 L2209.55 242.212 L2212.05 242.212 Q2213.81 242.212 2214.78 241.379 Q2215.75 240.545 2216.93 237.443 L2217.7 235.499 L2207.21 209.99 L2211.73 209.99 L2219.83 230.268 L2227.93 209.99 L2232.44 209.99 L2221.05 238.323 Z\" fill=\"#000000\" fill-rule=\"nonzero\" fill-opacity=\"1\" /><path clip-path=\"url(#clip140)\" d=\"M2239.73 231.981 L2247.37 231.981 L2247.37 205.615 L2239.06 207.282 L2239.06 203.022 L2247.33 201.356 L2252 201.356 L2252 231.981 L2259.64 231.981 L2259.64 235.916 L2239.73 235.916 L2239.73 231.981 Z\" fill=\"#000000\" fill-rule=\"nonzero\" fill-opacity=\"1\" /></svg>\n"
      ],
      "text/html": [
       "<?xml version=\"1.0\" encoding=\"utf-8\"?>\n",
       "<svg xmlns=\"http://www.w3.org/2000/svg\" xmlns:xlink=\"http://www.w3.org/1999/xlink\" width=\"600\" height=\"400\" viewBox=\"0 0 2400 1600\">\n",
       "<defs>\n",
       "  <clipPath id=\"clip190\">\n",
       "    <rect x=\"0\" y=\"0\" width=\"2400\" height=\"1600\"/>\n",
       "  </clipPath>\n",
       "</defs>\n",
       "<path clip-path=\"url(#clip190)\" d=\"M0 1600 L2400 1600 L2400 0 L0 0  Z\" fill=\"#ffffff\" fill-rule=\"evenodd\" fill-opacity=\"1\"/>\n",
       "<defs>\n",
       "  <clipPath id=\"clip191\">\n",
       "    <rect x=\"480\" y=\"0\" width=\"1681\" height=\"1600\"/>\n",
       "  </clipPath>\n",
       "</defs>\n",
       "<path clip-path=\"url(#clip190)\" d=\"M257.69 1423.18 L2352.76 1423.18 L2352.76 123.472 L257.69 123.472  Z\" fill=\"#ffffff\" fill-rule=\"evenodd\" fill-opacity=\"1\"/>\n",
       "<defs>\n",
       "  <clipPath id=\"clip192\">\n",
       "    <rect x=\"257\" y=\"123\" width=\"2096\" height=\"1301\"/>\n",
       "  </clipPath>\n",
       "</defs>\n",
       "<polyline clip-path=\"url(#clip192)\" style=\"stroke:#000000; stroke-linecap:round; stroke-linejoin:round; stroke-width:2; stroke-opacity:0.1; fill:none\" points=\"297.02,1423.18 297.02,123.472 \"/>\n",
       "<polyline clip-path=\"url(#clip192)\" style=\"stroke:#000000; stroke-linecap:round; stroke-linejoin:round; stroke-width:2; stroke-opacity:0.1; fill:none\" points=\"796.13,1423.18 796.13,123.472 \"/>\n",
       "<polyline clip-path=\"url(#clip192)\" style=\"stroke:#000000; stroke-linecap:round; stroke-linejoin:round; stroke-width:2; stroke-opacity:0.1; fill:none\" points=\"1295.24,1423.18 1295.24,123.472 \"/>\n",
       "<polyline clip-path=\"url(#clip192)\" style=\"stroke:#000000; stroke-linecap:round; stroke-linejoin:round; stroke-width:2; stroke-opacity:0.1; fill:none\" points=\"1794.35,1423.18 1794.35,123.472 \"/>\n",
       "<polyline clip-path=\"url(#clip192)\" style=\"stroke:#000000; stroke-linecap:round; stroke-linejoin:round; stroke-width:2; stroke-opacity:0.1; fill:none\" points=\"2293.46,1423.18 2293.46,123.472 \"/>\n",
       "<polyline clip-path=\"url(#clip192)\" style=\"stroke:#000000; stroke-linecap:round; stroke-linejoin:round; stroke-width:2; stroke-opacity:0.1; fill:none\" points=\"257.69,1267.82 2352.76,1267.82 \"/>\n",
       "<polyline clip-path=\"url(#clip192)\" style=\"stroke:#000000; stroke-linecap:round; stroke-linejoin:round; stroke-width:2; stroke-opacity:0.1; fill:none\" points=\"257.69,999.519 2352.76,999.519 \"/>\n",
       "<polyline clip-path=\"url(#clip192)\" style=\"stroke:#000000; stroke-linecap:round; stroke-linejoin:round; stroke-width:2; stroke-opacity:0.1; fill:none\" points=\"257.69,731.221 2352.76,731.221 \"/>\n",
       "<polyline clip-path=\"url(#clip192)\" style=\"stroke:#000000; stroke-linecap:round; stroke-linejoin:round; stroke-width:2; stroke-opacity:0.1; fill:none\" points=\"257.69,462.924 2352.76,462.924 \"/>\n",
       "<polyline clip-path=\"url(#clip192)\" style=\"stroke:#000000; stroke-linecap:round; stroke-linejoin:round; stroke-width:2; stroke-opacity:0.1; fill:none\" points=\"257.69,194.627 2352.76,194.627 \"/>\n",
       "<polyline clip-path=\"url(#clip190)\" style=\"stroke:#000000; stroke-linecap:round; stroke-linejoin:round; stroke-width:4; stroke-opacity:1; fill:none\" points=\"257.69,1423.18 2352.76,1423.18 \"/>\n",
       "<polyline clip-path=\"url(#clip190)\" style=\"stroke:#000000; stroke-linecap:round; stroke-linejoin:round; stroke-width:4; stroke-opacity:1; fill:none\" points=\"297.02,1423.18 297.02,1404.28 \"/>\n",
       "<polyline clip-path=\"url(#clip190)\" style=\"stroke:#000000; stroke-linecap:round; stroke-linejoin:round; stroke-width:4; stroke-opacity:1; fill:none\" points=\"796.13,1423.18 796.13,1404.28 \"/>\n",
       "<polyline clip-path=\"url(#clip190)\" style=\"stroke:#000000; stroke-linecap:round; stroke-linejoin:round; stroke-width:4; stroke-opacity:1; fill:none\" points=\"1295.24,1423.18 1295.24,1404.28 \"/>\n",
       "<polyline clip-path=\"url(#clip190)\" style=\"stroke:#000000; stroke-linecap:round; stroke-linejoin:round; stroke-width:4; stroke-opacity:1; fill:none\" points=\"1794.35,1423.18 1794.35,1404.28 \"/>\n",
       "<polyline clip-path=\"url(#clip190)\" style=\"stroke:#000000; stroke-linecap:round; stroke-linejoin:round; stroke-width:4; stroke-opacity:1; fill:none\" points=\"2293.46,1423.18 2293.46,1404.28 \"/>\n",
       "<path clip-path=\"url(#clip190)\" d=\"M297.02 1454.1 Q293.409 1454.1 291.58 1457.66 Q289.775 1461.2 289.775 1468.33 Q289.775 1475.44 291.58 1479.01 Q293.409 1482.55 297.02 1482.55 Q300.654 1482.55 302.46 1479.01 Q304.289 1475.44 304.289 1468.33 Q304.289 1461.2 302.46 1457.66 Q300.654 1454.1 297.02 1454.1 M297.02 1450.39 Q302.83 1450.39 305.886 1455 Q308.964 1459.58 308.964 1468.33 Q308.964 1477.06 305.886 1481.67 Q302.83 1486.25 297.02 1486.25 Q291.21 1486.25 288.131 1481.67 Q285.076 1477.06 285.076 1468.33 Q285.076 1459.58 288.131 1455 Q291.21 1450.39 297.02 1450.39 Z\" fill=\"#000000\" fill-rule=\"nonzero\" fill-opacity=\"1\" /><path clip-path=\"url(#clip190)\" d=\"M775.401 1481.64 L791.721 1481.64 L791.721 1485.58 L769.776 1485.58 L769.776 1481.64 Q772.438 1478.89 777.022 1474.26 Q781.628 1469.61 782.809 1468.27 Q785.054 1465.74 785.934 1464.01 Q786.836 1462.25 786.836 1460.56 Q786.836 1457.8 784.892 1456.07 Q782.971 1454.33 779.869 1454.33 Q777.67 1454.33 775.216 1455.09 Q772.786 1455.86 770.008 1457.41 L770.008 1452.69 Q772.832 1451.55 775.286 1450.97 Q777.739 1450.39 779.776 1450.39 Q785.147 1450.39 788.341 1453.08 Q791.536 1455.77 791.536 1460.26 Q791.536 1462.39 790.725 1464.31 Q789.938 1466.2 787.832 1468.8 Q787.253 1469.47 784.151 1472.69 Q781.049 1475.88 775.401 1481.64 Z\" fill=\"#000000\" fill-rule=\"nonzero\" fill-opacity=\"1\" /><path clip-path=\"url(#clip190)\" d=\"M801.582 1451.02 L819.938 1451.02 L819.938 1454.96 L805.864 1454.96 L805.864 1463.43 Q806.883 1463.08 807.901 1462.92 Q808.92 1462.73 809.938 1462.73 Q815.725 1462.73 819.105 1465.9 Q822.484 1469.08 822.484 1474.49 Q822.484 1480.07 819.012 1483.17 Q815.54 1486.25 809.221 1486.25 Q807.045 1486.25 804.776 1485.88 Q802.531 1485.51 800.123 1484.77 L800.123 1480.07 Q802.207 1481.2 804.429 1481.76 Q806.651 1482.32 809.128 1482.32 Q813.133 1482.32 815.471 1480.21 Q817.809 1478.1 817.809 1474.49 Q817.809 1470.88 815.471 1468.77 Q813.133 1466.67 809.128 1466.67 Q807.253 1466.67 805.378 1467.08 Q803.526 1467.5 801.582 1468.38 L801.582 1451.02 Z\" fill=\"#000000\" fill-rule=\"nonzero\" fill-opacity=\"1\" /><path clip-path=\"url(#clip190)\" d=\"M1269.94 1451.02 L1288.3 1451.02 L1288.3 1454.96 L1274.22 1454.96 L1274.22 1463.43 Q1275.24 1463.08 1276.26 1462.92 Q1277.28 1462.73 1278.3 1462.73 Q1284.08 1462.73 1287.46 1465.9 Q1290.84 1469.08 1290.84 1474.49 Q1290.84 1480.07 1287.37 1483.17 Q1283.9 1486.25 1277.58 1486.25 Q1275.4 1486.25 1273.13 1485.88 Q1270.89 1485.51 1268.48 1484.77 L1268.48 1480.07 Q1270.57 1481.2 1272.79 1481.76 Q1275.01 1482.32 1277.49 1482.32 Q1281.49 1482.32 1283.83 1480.21 Q1286.17 1478.1 1286.17 1474.49 Q1286.17 1470.88 1283.83 1468.77 Q1281.49 1466.67 1277.49 1466.67 Q1275.61 1466.67 1273.74 1467.08 Q1271.88 1467.5 1269.94 1468.38 L1269.94 1451.02 Z\" fill=\"#000000\" fill-rule=\"nonzero\" fill-opacity=\"1\" /><path clip-path=\"url(#clip190)\" d=\"M1310.06 1454.1 Q1306.44 1454.1 1304.62 1457.66 Q1302.81 1461.2 1302.81 1468.33 Q1302.81 1475.44 1304.62 1479.01 Q1306.44 1482.55 1310.06 1482.55 Q1313.69 1482.55 1315.5 1479.01 Q1317.32 1475.44 1317.32 1468.33 Q1317.32 1461.2 1315.5 1457.66 Q1313.69 1454.1 1310.06 1454.1 M1310.06 1450.39 Q1315.87 1450.39 1318.92 1455 Q1322 1459.58 1322 1468.33 Q1322 1477.06 1318.92 1481.67 Q1315.87 1486.25 1310.06 1486.25 Q1304.25 1486.25 1301.17 1481.67 Q1298.11 1477.06 1298.11 1468.33 Q1298.11 1459.58 1301.17 1455 Q1304.25 1450.39 1310.06 1450.39 Z\" fill=\"#000000\" fill-rule=\"nonzero\" fill-opacity=\"1\" /><path clip-path=\"url(#clip190)\" d=\"M1768.21 1451.02 L1790.43 1451.02 L1790.43 1453.01 L1777.88 1485.58 L1773 1485.58 L1784.8 1454.96 L1768.21 1454.96 L1768.21 1451.02 Z\" fill=\"#000000\" fill-rule=\"nonzero\" fill-opacity=\"1\" /><path clip-path=\"url(#clip190)\" d=\"M1799.59 1451.02 L1817.95 1451.02 L1817.95 1454.96 L1803.88 1454.96 L1803.88 1463.43 Q1804.9 1463.08 1805.91 1462.92 Q1806.93 1462.73 1807.95 1462.73 Q1813.74 1462.73 1817.12 1465.9 Q1820.5 1469.08 1820.5 1474.49 Q1820.5 1480.07 1817.02 1483.17 Q1813.55 1486.25 1807.23 1486.25 Q1805.06 1486.25 1802.79 1485.88 Q1800.54 1485.51 1798.14 1484.77 L1798.14 1480.07 Q1800.22 1481.2 1802.44 1481.76 Q1804.66 1482.32 1807.14 1482.32 Q1811.15 1482.32 1813.48 1480.21 Q1815.82 1478.1 1815.82 1474.49 Q1815.82 1470.88 1813.48 1468.77 Q1811.15 1466.67 1807.14 1466.67 Q1805.27 1466.67 1803.39 1467.08 Q1801.54 1467.5 1799.59 1468.38 L1799.59 1451.02 Z\" fill=\"#000000\" fill-rule=\"nonzero\" fill-opacity=\"1\" /><path clip-path=\"url(#clip190)\" d=\"M2253.07 1481.64 L2260.71 1481.64 L2260.71 1455.28 L2252.4 1456.95 L2252.4 1452.69 L2260.66 1451.02 L2265.34 1451.02 L2265.34 1481.64 L2272.98 1481.64 L2272.98 1485.58 L2253.07 1485.58 L2253.07 1481.64 Z\" fill=\"#000000\" fill-rule=\"nonzero\" fill-opacity=\"1\" /><path clip-path=\"url(#clip190)\" d=\"M2292.42 1454.1 Q2288.81 1454.1 2286.98 1457.66 Q2285.17 1461.2 2285.17 1468.33 Q2285.17 1475.44 2286.98 1479.01 Q2288.81 1482.55 2292.42 1482.55 Q2296.05 1482.55 2297.86 1479.01 Q2299.69 1475.44 2299.69 1468.33 Q2299.69 1461.2 2297.86 1457.66 Q2296.05 1454.1 2292.42 1454.1 M2292.42 1450.39 Q2298.23 1450.39 2301.29 1455 Q2304.36 1459.58 2304.36 1468.33 Q2304.36 1477.06 2301.29 1481.67 Q2298.23 1486.25 2292.42 1486.25 Q2286.61 1486.25 2283.53 1481.67 Q2280.48 1477.06 2280.48 1468.33 Q2280.48 1459.58 2283.53 1455 Q2286.61 1450.39 2292.42 1450.39 Z\" fill=\"#000000\" fill-rule=\"nonzero\" fill-opacity=\"1\" /><path clip-path=\"url(#clip190)\" d=\"M2322.58 1454.1 Q2318.97 1454.1 2317.14 1457.66 Q2315.34 1461.2 2315.34 1468.33 Q2315.34 1475.44 2317.14 1479.01 Q2318.97 1482.55 2322.58 1482.55 Q2326.22 1482.55 2328.02 1479.01 Q2329.85 1475.44 2329.85 1468.33 Q2329.85 1461.2 2328.02 1457.66 Q2326.22 1454.1 2322.58 1454.1 M2322.58 1450.39 Q2328.39 1450.39 2331.45 1455 Q2334.53 1459.58 2334.53 1468.33 Q2334.53 1477.06 2331.45 1481.67 Q2328.39 1486.25 2322.58 1486.25 Q2316.77 1486.25 2313.69 1481.67 Q2310.64 1477.06 2310.64 1468.33 Q2310.64 1459.58 2313.69 1455 Q2316.77 1450.39 2322.58 1450.39 Z\" fill=\"#000000\" fill-rule=\"nonzero\" fill-opacity=\"1\" /><path clip-path=\"url(#clip190)\" d=\"M1156.81 1537.87 Q1155.82 1537.3 1154.64 1537.04 Q1153.5 1536.76 1152.1 1536.76 Q1147.13 1536.76 1144.46 1540 Q1141.82 1543.22 1141.82 1549.27 L1141.82 1568.04 L1135.93 1568.04 L1135.93 1532.4 L1141.82 1532.4 L1141.82 1537.93 Q1143.66 1534.69 1146.62 1533.13 Q1149.58 1531.54 1153.81 1531.54 Q1154.42 1531.54 1155.15 1531.63 Q1155.88 1531.7 1156.77 1531.85 L1156.81 1537.87 Z\" fill=\"#000000\" fill-rule=\"nonzero\" fill-opacity=\"1\" /><path clip-path=\"url(#clip190)\" d=\"M1162.34 1553.98 L1162.34 1532.4 L1168.2 1532.4 L1168.2 1553.75 Q1168.2 1558.81 1170.17 1561.36 Q1172.15 1563.87 1176.09 1563.87 Q1180.84 1563.87 1183.57 1560.85 Q1186.34 1557.83 1186.34 1552.61 L1186.34 1532.4 L1192.2 1532.4 L1192.2 1568.04 L1186.34 1568.04 L1186.34 1562.57 Q1184.21 1565.82 1181.38 1567.41 Q1178.58 1568.97 1174.85 1568.97 Q1168.71 1568.97 1165.53 1565.15 Q1162.34 1561.33 1162.34 1553.98 M1177.08 1531.54 L1177.08 1531.54 Z\" fill=\"#000000\" fill-rule=\"nonzero\" fill-opacity=\"1\" /><path clip-path=\"url(#clip190)\" d=\"M1233.9 1546.53 L1233.9 1568.04 L1228.04 1568.04 L1228.04 1546.72 Q1228.04 1541.66 1226.07 1539.14 Q1224.09 1536.63 1220.15 1536.63 Q1215.4 1536.63 1212.67 1539.65 Q1209.93 1542.68 1209.93 1547.9 L1209.93 1568.04 L1204.04 1568.04 L1204.04 1532.4 L1209.93 1532.4 L1209.93 1537.93 Q1212.03 1534.72 1214.86 1533.13 Q1217.73 1531.54 1221.45 1531.54 Q1227.59 1531.54 1230.74 1535.36 Q1233.9 1539.14 1233.9 1546.53 Z\" fill=\"#000000\" fill-rule=\"nonzero\" fill-opacity=\"1\" /><path clip-path=\"url(#clip190)\" d=\"M1268.3 1533.45 L1268.3 1538.98 Q1265.82 1537.71 1263.15 1537.07 Q1260.47 1536.44 1257.61 1536.44 Q1253.25 1536.44 1251.05 1537.77 Q1248.89 1539.11 1248.89 1541.79 Q1248.89 1543.82 1250.45 1545 Q1252.01 1546.15 1256.72 1547.2 L1258.72 1547.64 Q1264.96 1548.98 1267.57 1551.43 Q1270.21 1553.85 1270.21 1558.21 Q1270.21 1563.17 1266.26 1566.07 Q1262.35 1568.97 1255.48 1568.97 Q1252.61 1568.97 1249.49 1568.39 Q1246.4 1567.85 1242.97 1566.74 L1242.97 1560.69 Q1246.21 1562.38 1249.36 1563.24 Q1252.51 1564.07 1255.6 1564.07 Q1259.74 1564.07 1261.97 1562.66 Q1264.2 1561.23 1264.2 1558.65 Q1264.2 1556.27 1262.57 1554.99 Q1260.98 1553.72 1255.54 1552.54 L1253.5 1552.07 Q1248.06 1550.92 1245.64 1548.56 Q1243.22 1546.18 1243.22 1542.04 Q1243.22 1537.01 1246.79 1534.27 Q1250.35 1531.54 1256.91 1531.54 Q1260.15 1531.54 1263.02 1532.01 Q1265.88 1532.49 1268.3 1533.45 Z\" fill=\"#000000\" fill-rule=\"nonzero\" fill-opacity=\"1\" /><path clip-path=\"url(#clip190)\" d=\"M1314.07 1536.5 Q1309.36 1536.5 1306.62 1540.19 Q1303.89 1543.85 1303.89 1550.25 Q1303.89 1556.65 1306.59 1560.34 Q1309.33 1564 1314.07 1564 Q1318.75 1564 1321.49 1560.31 Q1324.22 1556.62 1324.22 1550.25 Q1324.22 1543.92 1321.49 1540.23 Q1318.75 1536.5 1314.07 1536.5 M1314.07 1531.54 Q1321.71 1531.54 1326.07 1536.5 Q1330.43 1541.47 1330.43 1550.25 Q1330.43 1559 1326.07 1564 Q1321.71 1568.97 1314.07 1568.97 Q1306.4 1568.97 1302.04 1564 Q1297.71 1559 1297.71 1550.25 Q1297.71 1541.47 1302.04 1536.5 Q1306.4 1531.54 1314.07 1531.54 Z\" fill=\"#000000\" fill-rule=\"nonzero\" fill-opacity=\"1\" /><path clip-path=\"url(#clip190)\" d=\"M1358.19 1518.52 L1358.19 1523.39 L1352.58 1523.39 Q1349.43 1523.39 1348.19 1524.66 Q1346.98 1525.93 1346.98 1529.24 L1346.98 1532.4 L1356.63 1532.4 L1356.63 1536.95 L1346.98 1536.95 L1346.98 1568.04 L1341.09 1568.04 L1341.09 1536.95 L1335.49 1536.95 L1335.49 1532.4 L1341.09 1532.4 L1341.09 1529.91 Q1341.09 1523.96 1343.86 1521.26 Q1346.63 1518.52 1352.65 1518.52 L1358.19 1518.52 Z\" fill=\"#000000\" fill-rule=\"nonzero\" fill-opacity=\"1\" /><path clip-path=\"url(#clip190)\" d=\"M1416.46 1561.26 L1416.46 1548.5 L1405.96 1548.5 L1405.96 1543.22 L1422.83 1543.22 L1422.83 1563.62 Q1419.11 1566.26 1414.62 1567.63 Q1410.13 1568.97 1405.04 1568.97 Q1393.9 1568.97 1387.6 1562.47 Q1381.33 1555.95 1381.33 1544.33 Q1381.33 1532.68 1387.6 1526.19 Q1393.9 1519.66 1405.04 1519.66 Q1409.68 1519.66 1413.85 1520.81 Q1418.06 1521.96 1421.59 1524.18 L1421.59 1531.03 Q1418.02 1528 1414.01 1526.48 Q1410 1524.95 1405.58 1524.95 Q1396.86 1524.95 1392.47 1529.82 Q1388.1 1534.69 1388.1 1544.33 Q1388.1 1553.94 1392.47 1558.81 Q1396.86 1563.68 1405.58 1563.68 Q1408.98 1563.68 1411.66 1563.11 Q1414.33 1562.51 1416.46 1561.26 Z\" fill=\"#000000\" fill-rule=\"nonzero\" fill-opacity=\"1\" /><path clip-path=\"url(#clip190)\" d=\"M1441 1525.81 L1441 1562.76 L1448.77 1562.76 Q1458.6 1562.76 1463.16 1558.3 Q1467.74 1553.85 1467.74 1544.24 Q1467.74 1534.69 1463.16 1530.26 Q1458.6 1525.81 1448.77 1525.81 L1441 1525.81 M1434.57 1520.52 L1447.78 1520.52 Q1461.6 1520.52 1468.06 1526.28 Q1474.52 1532.01 1474.52 1544.24 Q1474.52 1556.52 1468.03 1562.28 Q1461.53 1568.04 1447.78 1568.04 L1434.57 1568.04 L1434.57 1520.52 Z\" fill=\"#000000\" fill-rule=\"nonzero\" fill-opacity=\"1\" /><polyline clip-path=\"url(#clip190)\" style=\"stroke:#000000; stroke-linecap:round; stroke-linejoin:round; stroke-width:4; stroke-opacity:1; fill:none\" points=\"257.69,1423.18 257.69,123.472 \"/>\n",
       "<polyline clip-path=\"url(#clip190)\" style=\"stroke:#000000; stroke-linecap:round; stroke-linejoin:round; stroke-width:4; stroke-opacity:1; fill:none\" points=\"257.69,1267.82 276.588,1267.82 \"/>\n",
       "<polyline clip-path=\"url(#clip190)\" style=\"stroke:#000000; stroke-linecap:round; stroke-linejoin:round; stroke-width:4; stroke-opacity:1; fill:none\" points=\"257.69,999.519 276.588,999.519 \"/>\n",
       "<polyline clip-path=\"url(#clip190)\" style=\"stroke:#000000; stroke-linecap:round; stroke-linejoin:round; stroke-width:4; stroke-opacity:1; fill:none\" points=\"257.69,731.221 276.588,731.221 \"/>\n",
       "<polyline clip-path=\"url(#clip190)\" style=\"stroke:#000000; stroke-linecap:round; stroke-linejoin:round; stroke-width:4; stroke-opacity:1; fill:none\" points=\"257.69,462.924 276.588,462.924 \"/>\n",
       "<polyline clip-path=\"url(#clip190)\" style=\"stroke:#000000; stroke-linecap:round; stroke-linejoin:round; stroke-width:4; stroke-opacity:1; fill:none\" points=\"257.69,194.627 276.588,194.627 \"/>\n",
       "<path clip-path=\"url(#clip190)\" d=\"M114.746 1268.27 L144.422 1268.27 L144.422 1272.2 L114.746 1272.2 L114.746 1268.27 Z\" fill=\"#000000\" fill-rule=\"nonzero\" fill-opacity=\"1\" /><path clip-path=\"url(#clip190)\" d=\"M158.542 1281.16 L174.862 1281.16 L174.862 1285.1 L152.917 1285.1 L152.917 1281.16 Q155.579 1278.41 160.163 1273.78 Q164.769 1269.12 165.95 1267.78 Q168.195 1265.26 169.075 1263.52 Q169.977 1261.76 169.977 1260.07 Q169.977 1257.32 168.033 1255.58 Q166.112 1253.85 163.01 1253.85 Q160.811 1253.85 158.357 1254.61 Q155.927 1255.37 153.149 1256.92 L153.149 1252.2 Q155.973 1251.07 158.427 1250.49 Q160.88 1249.91 162.917 1249.91 Q168.288 1249.91 171.482 1252.6 Q174.677 1255.28 174.677 1259.77 Q174.677 1261.9 173.866 1263.82 Q173.079 1265.72 170.973 1268.31 Q170.394 1268.98 167.292 1272.2 Q164.19 1275.4 158.542 1281.16 Z\" fill=\"#000000\" fill-rule=\"nonzero\" fill-opacity=\"1\" /><path clip-path=\"url(#clip190)\" d=\"M184.676 1279.22 L189.561 1279.22 L189.561 1285.1 L184.676 1285.1 L184.676 1279.22 Z\" fill=\"#000000\" fill-rule=\"nonzero\" fill-opacity=\"1\" /><path clip-path=\"url(#clip190)\" d=\"M209.746 1253.61 Q206.135 1253.61 204.306 1257.18 Q202.5 1260.72 202.5 1267.85 Q202.5 1274.96 204.306 1278.52 Q206.135 1282.06 209.746 1282.06 Q213.38 1282.06 215.186 1278.52 Q217.014 1274.96 217.014 1267.85 Q217.014 1260.72 215.186 1257.18 Q213.38 1253.61 209.746 1253.61 M209.746 1249.91 Q215.556 1249.91 218.611 1254.52 Q221.69 1259.1 221.69 1267.85 Q221.69 1276.58 218.611 1281.18 Q215.556 1285.77 209.746 1285.77 Q203.936 1285.77 200.857 1281.18 Q197.801 1276.58 197.801 1267.85 Q197.801 1259.1 200.857 1254.52 Q203.936 1249.91 209.746 1249.91 Z\" fill=\"#000000\" fill-rule=\"nonzero\" fill-opacity=\"1\" /><path clip-path=\"url(#clip190)\" d=\"M114.839 999.97 L144.515 999.97 L144.515 1003.91 L114.839 1003.91 L114.839 999.97 Z\" fill=\"#000000\" fill-rule=\"nonzero\" fill-opacity=\"1\" /><path clip-path=\"url(#clip190)\" d=\"M155.417 1012.86 L163.056 1012.86 L163.056 986.498 L154.746 988.165 L154.746 983.905 L163.01 982.239 L167.686 982.239 L167.686 1012.86 L175.325 1012.86 L175.325 1016.8 L155.417 1016.8 L155.417 1012.86 Z\" fill=\"#000000\" fill-rule=\"nonzero\" fill-opacity=\"1\" /><path clip-path=\"url(#clip190)\" d=\"M184.769 1010.92 L189.653 1010.92 L189.653 1016.8 L184.769 1016.8 L184.769 1010.92 Z\" fill=\"#000000\" fill-rule=\"nonzero\" fill-opacity=\"1\" /><path clip-path=\"url(#clip190)\" d=\"M209.838 1000.39 Q206.505 1000.39 204.584 1002.17 Q202.686 1003.95 202.686 1007.08 Q202.686 1010.2 204.584 1011.98 Q206.505 1013.77 209.838 1013.77 Q213.172 1013.77 215.093 1011.98 Q217.014 1010.18 217.014 1007.08 Q217.014 1003.95 215.093 1002.17 Q213.195 1000.39 209.838 1000.39 M205.162 998.396 Q202.153 997.655 200.463 995.595 Q198.797 993.535 198.797 990.572 Q198.797 986.428 201.737 984.021 Q204.699 981.614 209.838 981.614 Q215 981.614 217.94 984.021 Q220.88 986.428 220.88 990.572 Q220.88 993.535 219.19 995.595 Q217.523 997.655 214.537 998.396 Q217.917 999.183 219.792 1001.47 Q221.69 1003.77 221.69 1007.08 Q221.69 1012.1 218.611 1014.78 Q215.556 1017.47 209.838 1017.47 Q204.121 1017.47 201.042 1014.78 Q197.987 1012.1 197.987 1007.08 Q197.987 1003.77 199.885 1001.47 Q201.783 999.183 205.162 998.396 M203.449 991.012 Q203.449 993.697 205.116 995.202 Q206.806 996.706 209.838 996.706 Q212.848 996.706 214.537 995.202 Q216.25 993.697 216.25 991.012 Q216.25 988.327 214.537 986.822 Q212.848 985.317 209.838 985.317 Q206.806 985.317 205.116 986.822 Q203.449 988.327 203.449 991.012 Z\" fill=\"#000000\" fill-rule=\"nonzero\" fill-opacity=\"1\" /><path clip-path=\"url(#clip190)\" d=\"M114.584 731.673 L144.26 731.673 L144.26 735.608 L114.584 735.608 L114.584 731.673 Z\" fill=\"#000000\" fill-rule=\"nonzero\" fill-opacity=\"1\" /><path clip-path=\"url(#clip190)\" d=\"M155.163 744.566 L162.802 744.566 L162.802 718.201 L154.491 719.867 L154.491 715.608 L162.755 713.941 L167.431 713.941 L167.431 744.566 L175.07 744.566 L175.07 748.501 L155.163 748.501 L155.163 744.566 Z\" fill=\"#000000\" fill-rule=\"nonzero\" fill-opacity=\"1\" /><path clip-path=\"url(#clip190)\" d=\"M184.514 742.622 L189.399 742.622 L189.399 748.501 L184.514 748.501 L184.514 742.622 Z\" fill=\"#000000\" fill-rule=\"nonzero\" fill-opacity=\"1\" /><path clip-path=\"url(#clip190)\" d=\"M210.162 729.358 Q207.014 729.358 205.162 731.511 Q203.334 733.664 203.334 737.414 Q203.334 741.14 205.162 743.316 Q207.014 745.469 210.162 745.469 Q213.311 745.469 215.139 743.316 Q216.991 741.14 216.991 737.414 Q216.991 733.664 215.139 731.511 Q213.311 729.358 210.162 729.358 M219.445 714.705 L219.445 718.965 Q217.686 718.131 215.88 717.691 Q214.098 717.252 212.338 717.252 Q207.709 717.252 205.255 720.377 Q202.824 723.502 202.477 729.821 Q203.843 727.807 205.903 726.742 Q207.963 725.654 210.44 725.654 Q215.649 725.654 218.658 728.826 Q221.69 731.974 221.69 737.414 Q221.69 742.738 218.542 745.955 Q215.394 749.173 210.162 749.173 Q204.167 749.173 200.996 744.589 Q197.825 739.983 197.825 731.256 Q197.825 723.062 201.713 718.201 Q205.602 713.316 212.153 713.316 Q213.912 713.316 215.695 713.664 Q217.5 714.011 219.445 714.705 Z\" fill=\"#000000\" fill-rule=\"nonzero\" fill-opacity=\"1\" /><path clip-path=\"url(#clip190)\" d=\"M114.26 463.376 L143.936 463.376 L143.936 467.311 L114.26 467.311 L114.26 463.376 Z\" fill=\"#000000\" fill-rule=\"nonzero\" fill-opacity=\"1\" /><path clip-path=\"url(#clip190)\" d=\"M154.839 476.269 L162.477 476.269 L162.477 449.904 L154.167 451.57 L154.167 447.311 L162.431 445.644 L167.107 445.644 L167.107 476.269 L174.746 476.269 L174.746 480.204 L154.839 480.204 L154.839 476.269 Z\" fill=\"#000000\" fill-rule=\"nonzero\" fill-opacity=\"1\" /><path clip-path=\"url(#clip190)\" d=\"M184.19 474.325 L189.075 474.325 L189.075 480.204 L184.19 480.204 L184.19 474.325 Z\" fill=\"#000000\" fill-rule=\"nonzero\" fill-opacity=\"1\" /><path clip-path=\"url(#clip190)\" d=\"M212.107 449.718 L200.301 468.167 L212.107 468.167 L212.107 449.718 M210.88 445.644 L216.76 445.644 L216.76 468.167 L221.69 468.167 L221.69 472.056 L216.76 472.056 L216.76 480.204 L212.107 480.204 L212.107 472.056 L196.505 472.056 L196.505 467.542 L210.88 445.644 Z\" fill=\"#000000\" fill-rule=\"nonzero\" fill-opacity=\"1\" /><path clip-path=\"url(#clip190)\" d=\"M116.343 195.078 L146.019 195.078 L146.019 199.014 L116.343 199.014 L116.343 195.078 Z\" fill=\"#000000\" fill-rule=\"nonzero\" fill-opacity=\"1\" /><path clip-path=\"url(#clip190)\" d=\"M156.922 207.972 L164.561 207.972 L164.561 181.606 L156.251 183.273 L156.251 179.014 L164.515 177.347 L169.19 177.347 L169.19 207.972 L176.829 207.972 L176.829 211.907 L156.922 211.907 L156.922 207.972 Z\" fill=\"#000000\" fill-rule=\"nonzero\" fill-opacity=\"1\" /><path clip-path=\"url(#clip190)\" d=\"M186.274 206.028 L191.158 206.028 L191.158 211.907 L186.274 211.907 L186.274 206.028 Z\" fill=\"#000000\" fill-rule=\"nonzero\" fill-opacity=\"1\" /><path clip-path=\"url(#clip190)\" d=\"M205.371 207.972 L221.69 207.972 L221.69 211.907 L199.746 211.907 L199.746 207.972 Q202.408 205.217 206.991 200.588 Q211.598 195.935 212.778 194.592 Q215.024 192.069 215.903 190.333 Q216.806 188.574 216.806 186.884 Q216.806 184.129 214.861 182.393 Q212.94 180.657 209.838 180.657 Q207.639 180.657 205.186 181.421 Q202.755 182.185 199.977 183.736 L199.977 179.014 Q202.801 177.88 205.255 177.301 Q207.709 176.722 209.746 176.722 Q215.116 176.722 218.311 179.407 Q221.505 182.092 221.505 186.583 Q221.505 188.713 220.695 190.634 Q219.908 192.532 217.801 195.125 Q217.223 195.796 214.121 199.014 Q211.019 202.208 205.371 207.972 Z\" fill=\"#000000\" fill-rule=\"nonzero\" fill-opacity=\"1\" /><path clip-path=\"url(#clip190)\" d=\"M16.4842 825.525 L16.4842 795.479 L21.895 795.479 L21.895 819.095 L35.9632 819.095 L35.9632 796.465 L41.3741 796.465 L41.3741 819.095 L58.5933 819.095 L58.5933 794.906 L64.0042 794.906 L64.0042 825.525 L16.4842 825.525 Z\" fill=\"#000000\" fill-rule=\"nonzero\" fill-opacity=\"1\" /><path clip-path=\"url(#clip190)\" d=\"M16.4842 774.185 L16.4842 768.775 L70.0516 785.325 L70.0516 790.736 L16.4842 774.185 Z\" fill=\"#000000\" fill-rule=\"nonzero\" fill-opacity=\"1\" /><path clip-path=\"url(#clip190)\" d=\"M20.8447 743.089 Q20.8447 750.091 26.0645 754.229 Q31.2844 758.335 40.2919 758.335 Q49.2675 758.335 54.4874 754.229 Q59.7073 750.091 59.7073 743.089 Q59.7073 736.087 54.4874 732.013 Q49.2675 727.907 40.2919 727.907 Q31.2844 727.907 26.0645 732.013 Q20.8447 736.087 20.8447 743.089 M63.1448 734.081 L72.4069 725.615 L72.4069 733.381 L64.7999 740.415 Q64.8635 741.466 64.8954 742.039 Q64.9272 742.58 64.9272 743.089 Q64.9272 753.115 58.2432 759.13 Q51.5274 765.114 40.2919 765.114 Q29.0246 765.114 22.3406 759.13 Q15.6248 753.115 15.6248 743.089 Q15.6248 733.095 22.3406 727.111 Q29.0246 721.127 40.2919 721.127 Q48.5673 721.127 54.4556 724.469 Q60.3439 727.779 63.1448 734.081 Z\" fill=\"#000000\" fill-rule=\"nonzero\" fill-opacity=\"1\" /><path clip-path=\"url(#clip190)\" d=\"M716.951 12.096 L755.191 12.096 L755.191 18.9825 L725.134 18.9825 L725.134 36.8875 L753.935 36.8875 L753.935 43.7741 L725.134 43.7741 L725.134 65.6895 L755.92 65.6895 L755.92 72.576 L716.951 72.576 L716.951 12.096 Z\" fill=\"#000000\" fill-rule=\"nonzero\" fill-opacity=\"1\" /><path clip-path=\"url(#clip190)\" d=\"M806.759 45.1919 L806.759 72.576 L799.306 72.576 L799.306 45.4349 Q799.306 38.994 796.794 35.7938 Q794.282 32.5936 789.259 32.5936 Q783.224 32.5936 779.74 36.4419 Q776.256 40.2903 776.256 46.9338 L776.256 72.576 L768.762 72.576 L768.762 27.2059 L776.256 27.2059 L776.256 34.2544 Q778.93 30.163 782.535 28.1376 Q786.181 26.1121 790.92 26.1121 Q798.738 26.1121 802.749 30.9732 Q806.759 35.7938 806.759 45.1919 Z\" fill=\"#000000\" fill-rule=\"nonzero\" fill-opacity=\"1\" /><path clip-path=\"url(#clip190)\" d=\"M860.434 48.0275 L860.434 51.6733 L826.163 51.6733 Q826.649 59.3701 830.781 63.421 Q834.954 67.4314 842.367 67.4314 Q846.661 67.4314 850.671 66.3781 Q854.722 65.3249 858.692 63.2184 L858.692 70.267 Q854.681 71.9684 850.469 72.8596 Q846.256 73.7508 841.921 73.7508 Q831.065 73.7508 824.705 67.4314 Q818.385 61.1119 818.385 50.3365 Q818.385 39.1965 824.381 32.6746 Q830.417 26.1121 840.625 26.1121 Q849.78 26.1121 855.087 32.0264 Q860.434 37.9003 860.434 48.0275 M852.98 45.84 Q852.899 39.7232 849.537 36.0774 Q846.215 32.4315 840.706 32.4315 Q834.467 32.4315 830.7 35.9558 Q826.973 39.4801 826.406 45.8805 L852.98 45.84 Z\" fill=\"#000000\" fill-rule=\"nonzero\" fill-opacity=\"1\" /><path clip-path=\"url(#clip190)\" d=\"M898.958 34.1734 Q897.702 33.4443 896.203 33.1202 Q894.745 32.7556 892.962 32.7556 Q886.643 32.7556 883.24 36.8875 Q879.878 40.9789 879.878 48.6757 L879.878 72.576 L872.384 72.576 L872.384 27.2059 L879.878 27.2059 L879.878 34.2544 Q882.228 30.1225 885.995 28.1376 Q889.762 26.1121 895.15 26.1121 Q895.92 26.1121 896.851 26.2337 Q897.783 26.3147 898.917 26.5172 L898.958 34.1734 Z\" fill=\"#000000\" fill-rule=\"nonzero\" fill-opacity=\"1\" /><path clip-path=\"url(#clip190)\" d=\"M935.173 49.3643 Q935.173 41.2625 931.811 36.8065 Q928.489 32.3505 922.453 32.3505 Q916.458 32.3505 913.095 36.8065 Q909.774 41.2625 909.774 49.3643 Q909.774 57.4256 913.095 61.8816 Q916.458 66.3376 922.453 66.3376 Q928.489 66.3376 931.811 61.8816 Q935.173 57.4256 935.173 49.3643 M942.627 66.9452 Q942.627 78.5308 937.482 84.1616 Q932.337 89.8329 921.724 89.8329 Q917.795 89.8329 914.311 89.2252 Q910.827 88.6581 907.546 87.4428 L907.546 80.1917 Q910.827 81.9741 914.027 82.8248 Q917.227 83.6755 920.549 83.6755 Q927.881 83.6755 931.527 79.8271 Q935.173 76.0193 935.173 68.282 L935.173 64.5957 Q932.864 68.6061 929.259 70.5911 Q925.653 72.576 920.63 72.576 Q912.285 72.576 907.181 66.2161 Q902.077 59.8562 902.077 49.3643 Q902.077 38.832 907.181 32.472 Q912.285 26.1121 920.63 26.1121 Q925.653 26.1121 929.259 28.0971 Q932.864 30.082 935.173 34.0924 L935.173 27.2059 L942.627 27.2059 L942.627 66.9452 Z\" fill=\"#000000\" fill-rule=\"nonzero\" fill-opacity=\"1\" /><path clip-path=\"url(#clip190)\" d=\"M976.857 76.7889 Q973.697 84.8907 970.699 87.3618 Q967.702 89.8329 962.679 89.8329 L956.724 89.8329 L956.724 83.5945 L961.099 83.5945 Q964.177 83.5945 965.879 82.1361 Q967.58 80.6778 969.646 75.2496 L970.983 71.8468 L952.632 27.2059 L960.532 27.2059 L974.71 62.6918 L988.888 27.2059 L996.787 27.2059 L976.857 76.7889 Z\" fill=\"#000000\" fill-rule=\"nonzero\" fill-opacity=\"1\" /><path clip-path=\"url(#clip190)\" d=\"M1051.03 32.4315 Q1045.03 32.4315 1041.55 37.1306 Q1038.07 41.7891 1038.07 49.9314 Q1038.07 58.0738 1041.51 62.7728 Q1044.99 67.4314 1051.03 67.4314 Q1056.98 67.4314 1060.47 62.7323 Q1063.95 58.0333 1063.95 49.9314 Q1063.95 41.8701 1060.47 37.1711 Q1056.98 32.4315 1051.03 32.4315 M1051.03 26.1121 Q1060.75 26.1121 1066.3 32.4315 Q1071.85 38.7509 1071.85 49.9314 Q1071.85 61.0714 1066.3 67.4314 Q1060.75 73.7508 1051.03 73.7508 Q1041.27 73.7508 1035.72 67.4314 Q1030.21 61.0714 1030.21 49.9314 Q1030.21 38.7509 1035.72 32.4315 Q1041.27 26.1121 1051.03 26.1121 Z\" fill=\"#000000\" fill-rule=\"nonzero\" fill-opacity=\"1\" /><path clip-path=\"url(#clip190)\" d=\"M1091.42 65.7705 L1091.42 89.8329 L1083.92 89.8329 L1083.92 27.2059 L1091.42 27.2059 L1091.42 34.0924 Q1093.77 30.0415 1097.33 28.0971 Q1100.94 26.1121 1105.92 26.1121 Q1114.18 26.1121 1119.33 32.6746 Q1124.51 39.2371 1124.51 49.9314 Q1124.51 60.6258 1119.33 67.1883 Q1114.18 73.7508 1105.92 73.7508 Q1100.94 73.7508 1097.33 71.8063 Q1093.77 69.8214 1091.42 65.7705 M1116.77 49.9314 Q1116.77 41.7081 1113.37 37.0496 Q1110.01 32.3505 1104.1 32.3505 Q1098.18 32.3505 1094.78 37.0496 Q1091.42 41.7081 1091.42 49.9314 Q1091.42 58.1548 1094.78 62.8538 Q1098.18 67.5124 1104.1 67.5124 Q1110.01 67.5124 1113.37 62.8538 Q1116.77 58.1548 1116.77 49.9314 Z\" fill=\"#000000\" fill-rule=\"nonzero\" fill-opacity=\"1\" /><path clip-path=\"url(#clip190)\" d=\"M1144.24 14.324 L1144.24 27.2059 L1159.59 27.2059 L1159.59 32.9987 L1144.24 32.9987 L1144.24 57.6282 Q1144.24 63.1779 1145.74 64.7578 Q1147.28 66.3376 1151.94 66.3376 L1159.59 66.3376 L1159.59 72.576 L1151.94 72.576 Q1143.31 72.576 1140.03 69.3758 Q1136.75 66.1351 1136.75 57.6282 L1136.75 32.9987 L1131.28 32.9987 L1131.28 27.2059 L1136.75 27.2059 L1136.75 14.324 L1144.24 14.324 Z\" fill=\"#000000\" fill-rule=\"nonzero\" fill-opacity=\"1\" /><path clip-path=\"url(#clip190)\" d=\"M1169.4 27.2059 L1176.85 27.2059 L1176.85 72.576 L1169.4 72.576 L1169.4 27.2059 M1169.4 9.54393 L1176.85 9.54393 L1176.85 18.9825 L1169.4 18.9825 L1169.4 9.54393 Z\" fill=\"#000000\" fill-rule=\"nonzero\" fill-opacity=\"1\" /><path clip-path=\"url(#clip190)\" d=\"M1227.77 35.9153 Q1230.56 30.8922 1234.45 28.5022 Q1238.34 26.1121 1243.61 26.1121 Q1250.7 26.1121 1254.55 31.0947 Q1258.39 36.0368 1258.39 45.1919 L1258.39 72.576 L1250.9 72.576 L1250.9 45.4349 Q1250.9 38.913 1248.59 35.7533 Q1246.28 32.5936 1241.54 32.5936 Q1235.75 32.5936 1232.39 36.4419 Q1229.03 40.2903 1229.03 46.9338 L1229.03 72.576 L1221.53 72.576 L1221.53 45.4349 Q1221.53 38.8725 1219.22 35.7533 Q1216.91 32.5936 1212.09 32.5936 Q1206.38 32.5936 1203.02 36.4824 Q1199.66 40.3308 1199.66 46.9338 L1199.66 72.576 L1192.16 72.576 L1192.16 27.2059 L1199.66 27.2059 L1199.66 34.2544 Q1202.21 30.082 1205.77 28.0971 Q1209.34 26.1121 1214.24 26.1121 Q1219.18 26.1121 1222.63 28.6237 Q1226.11 31.1352 1227.77 35.9153 Z\" fill=\"#000000\" fill-rule=\"nonzero\" fill-opacity=\"1\" /><path clip-path=\"url(#clip190)\" d=\"M1273.26 27.2059 L1280.72 27.2059 L1280.72 72.576 L1273.26 72.576 L1273.26 27.2059 M1273.26 9.54393 L1280.72 9.54393 L1280.72 18.9825 L1273.26 18.9825 L1273.26 9.54393 Z\" fill=\"#000000\" fill-rule=\"nonzero\" fill-opacity=\"1\" /><path clip-path=\"url(#clip190)\" d=\"M1325.23 28.5427 L1325.23 35.5912 Q1322.07 33.9709 1318.67 33.1607 Q1315.27 32.3505 1311.62 32.3505 Q1306.07 32.3505 1303.28 34.0519 Q1300.52 35.7533 1300.52 39.156 Q1300.52 41.7486 1302.51 43.2475 Q1304.49 44.7058 1310.49 46.0426 L1313.04 46.6097 Q1320.98 48.3111 1324.3 51.4303 Q1327.67 54.509 1327.67 60.0587 Q1327.67 66.3781 1322.64 70.0644 Q1317.66 73.7508 1308.91 73.7508 Q1305.26 73.7508 1301.29 73.0216 Q1297.36 72.3329 1292.99 70.9151 L1292.99 63.2184 Q1297.12 65.3654 1301.13 66.4591 Q1305.14 67.5124 1309.07 67.5124 Q1314.34 67.5124 1317.17 65.73 Q1320.01 63.9071 1320.01 60.6258 Q1320.01 57.5877 1317.94 55.9673 Q1315.92 54.3469 1308.99 52.8481 L1306.4 52.2405 Q1299.47 50.7821 1296.39 47.7845 Q1293.31 44.7463 1293.31 39.4801 Q1293.31 33.0797 1297.85 29.5959 Q1302.39 26.1121 1310.73 26.1121 Q1314.86 26.1121 1318.51 26.7198 Q1322.16 27.3274 1325.23 28.5427 Z\" fill=\"#000000\" fill-rule=\"nonzero\" fill-opacity=\"1\" /><path clip-path=\"url(#clip190)\" d=\"M1360.15 49.7694 Q1351.12 49.7694 1347.64 51.8354 Q1344.15 53.9013 1344.15 58.8839 Q1344.15 62.8538 1346.74 65.2034 Q1349.38 67.5124 1353.87 67.5124 Q1360.07 67.5124 1363.8 63.1374 Q1367.57 58.7219 1367.57 51.4303 L1367.57 49.7694 L1360.15 49.7694 M1375.02 46.6907 L1375.02 72.576 L1367.57 72.576 L1367.57 65.6895 Q1365.01 69.8214 1361.21 71.8063 Q1357.4 73.7508 1351.89 73.7508 Q1344.92 73.7508 1340.79 69.8619 Q1336.7 65.9325 1336.7 59.3701 Q1336.7 51.7138 1341.8 47.825 Q1346.95 43.9361 1357.12 43.9361 L1367.57 43.9361 L1367.57 43.2069 Q1367.57 38.0623 1364.16 35.2672 Q1360.8 32.4315 1354.68 32.4315 Q1350.8 32.4315 1347.11 33.3632 Q1343.42 34.295 1340.02 36.1584 L1340.02 29.2718 Q1344.11 27.692 1347.96 26.9223 Q1351.81 26.1121 1355.45 26.1121 Q1365.3 26.1121 1370.16 31.2163 Q1375.02 36.3204 1375.02 46.6907 Z\" fill=\"#000000\" fill-rule=\"nonzero\" fill-opacity=\"1\" /><path clip-path=\"url(#clip190)\" d=\"M1397.75 14.324 L1397.75 27.2059 L1413.1 27.2059 L1413.1 32.9987 L1397.75 32.9987 L1397.75 57.6282 Q1397.75 63.1779 1399.24 64.7578 Q1400.78 66.3376 1405.44 66.3376 L1413.1 66.3376 L1413.1 72.576 L1405.44 72.576 Q1396.81 72.576 1393.53 69.3758 Q1390.25 66.1351 1390.25 57.6282 L1390.25 32.9987 L1384.78 32.9987 L1384.78 27.2059 L1390.25 27.2059 L1390.25 14.324 L1397.75 14.324 Z\" fill=\"#000000\" fill-rule=\"nonzero\" fill-opacity=\"1\" /><path clip-path=\"url(#clip190)\" d=\"M1422.9 27.2059 L1430.36 27.2059 L1430.36 72.576 L1422.9 72.576 L1422.9 27.2059 M1422.9 9.54393 L1430.36 9.54393 L1430.36 18.9825 L1422.9 18.9825 L1422.9 9.54393 Z\" fill=\"#000000\" fill-rule=\"nonzero\" fill-opacity=\"1\" /><path clip-path=\"url(#clip190)\" d=\"M1463.53 32.4315 Q1457.54 32.4315 1454.05 37.1306 Q1450.57 41.7891 1450.57 49.9314 Q1450.57 58.0738 1454.01 62.7728 Q1457.5 67.4314 1463.53 67.4314 Q1469.49 67.4314 1472.97 62.7323 Q1476.45 58.0333 1476.45 49.9314 Q1476.45 41.8701 1472.97 37.1711 Q1469.49 32.4315 1463.53 32.4315 M1463.53 26.1121 Q1473.25 26.1121 1478.8 32.4315 Q1484.35 38.7509 1484.35 49.9314 Q1484.35 61.0714 1478.8 67.4314 Q1473.25 73.7508 1463.53 73.7508 Q1453.77 73.7508 1448.22 67.4314 Q1442.71 61.0714 1442.71 49.9314 Q1442.71 38.7509 1448.22 32.4315 Q1453.77 26.1121 1463.53 26.1121 Z\" fill=\"#000000\" fill-rule=\"nonzero\" fill-opacity=\"1\" /><path clip-path=\"url(#clip190)\" d=\"M1534.42 45.1919 L1534.42 72.576 L1526.97 72.576 L1526.97 45.4349 Q1526.97 38.994 1524.46 35.7938 Q1521.95 32.5936 1516.92 32.5936 Q1510.89 32.5936 1507.4 36.4419 Q1503.92 40.2903 1503.92 46.9338 L1503.92 72.576 L1496.43 72.576 L1496.43 27.2059 L1503.92 27.2059 L1503.92 34.2544 Q1506.59 30.163 1510.2 28.1376 Q1513.84 26.1121 1518.58 26.1121 Q1526.4 26.1121 1530.41 30.9732 Q1534.42 35.7938 1534.42 45.1919 Z\" fill=\"#000000\" fill-rule=\"nonzero\" fill-opacity=\"1\" /><path clip-path=\"url(#clip190)\" d=\"M1571.33 27.2059 L1578.78 27.2059 L1588.1 62.6108 L1597.37 27.2059 L1606.16 27.2059 L1615.48 62.6108 L1624.76 27.2059 L1632.21 27.2059 L1620.34 72.576 L1611.55 72.576 L1601.79 35.3887 L1591.99 72.576 L1583.2 72.576 L1571.33 27.2059 Z\" fill=\"#000000\" fill-rule=\"nonzero\" fill-opacity=\"1\" /><path clip-path=\"url(#clip190)\" d=\"M1643.51 27.2059 L1650.97 27.2059 L1650.97 72.576 L1643.51 72.576 L1643.51 27.2059 M1643.51 9.54393 L1650.97 9.54393 L1650.97 18.9825 L1643.51 18.9825 L1643.51 9.54393 Z\" fill=\"#000000\" fill-rule=\"nonzero\" fill-opacity=\"1\" /><path clip-path=\"url(#clip190)\" d=\"M1673.94 14.324 L1673.94 27.2059 L1689.29 27.2059 L1689.29 32.9987 L1673.94 32.9987 L1673.94 57.6282 Q1673.94 63.1779 1675.44 64.7578 Q1676.97 66.3376 1681.63 66.3376 L1689.29 66.3376 L1689.29 72.576 L1681.63 72.576 Q1673 72.576 1669.72 69.3758 Q1666.44 66.1351 1666.44 57.6282 L1666.44 32.9987 L1660.97 32.9987 L1660.97 27.2059 L1666.44 27.2059 L1666.44 14.324 L1673.94 14.324 Z\" fill=\"#000000\" fill-rule=\"nonzero\" fill-opacity=\"1\" /><path clip-path=\"url(#clip190)\" d=\"M1736.81 45.1919 L1736.81 72.576 L1729.35 72.576 L1729.35 45.4349 Q1729.35 38.994 1726.84 35.7938 Q1724.33 32.5936 1719.31 32.5936 Q1713.27 32.5936 1709.79 36.4419 Q1706.3 40.2903 1706.3 46.9338 L1706.3 72.576 L1698.81 72.576 L1698.81 9.54393 L1706.3 9.54393 L1706.3 34.2544 Q1708.98 30.163 1712.58 28.1376 Q1716.23 26.1121 1720.97 26.1121 Q1728.79 26.1121 1732.8 30.9732 Q1736.81 35.7938 1736.81 45.1919 Z\" fill=\"#000000\" fill-rule=\"nonzero\" fill-opacity=\"1\" /><path clip-path=\"url(#clip190)\" d=\"M1819.61 63.9476 L1819.61 47.7034 L1806.24 47.7034 L1806.24 40.9789 L1827.71 40.9789 L1827.71 66.9452 Q1822.97 70.3075 1817.26 72.0494 Q1811.55 73.7508 1805.06 73.7508 Q1790.89 73.7508 1782.87 65.4869 Q1774.88 57.1826 1774.88 42.3968 Q1774.88 27.5705 1782.87 19.3066 Q1790.89 11.0023 1805.06 11.0023 Q1810.98 11.0023 1816.29 12.4606 Q1821.63 13.9189 1826.13 16.7545 L1826.13 25.464 Q1821.59 21.6156 1816.49 19.6712 Q1811.38 17.7268 1805.75 17.7268 Q1794.65 17.7268 1789.06 23.9246 Q1783.51 30.1225 1783.51 42.3968 Q1783.51 54.6305 1789.06 60.8284 Q1794.65 67.0263 1805.75 67.0263 Q1810.09 67.0263 1813.49 66.2971 Q1816.89 65.5274 1819.61 63.9476 Z\" fill=\"#000000\" fill-rule=\"nonzero\" fill-opacity=\"1\" /><path clip-path=\"url(#clip190)\" d=\"M1850.84 18.8205 L1850.84 65.8515 L1860.72 65.8515 Q1873.24 65.8515 1879.03 60.1802 Q1884.87 54.509 1884.87 42.2752 Q1884.87 30.1225 1879.03 24.4918 Q1873.24 18.8205 1860.72 18.8205 L1850.84 18.8205 M1842.66 12.096 L1859.47 12.096 Q1877.05 12.096 1885.27 19.4281 Q1893.5 26.7198 1893.5 42.2752 Q1893.5 57.9117 1885.23 65.2439 Q1876.97 72.576 1859.47 72.576 L1842.66 72.576 L1842.66 12.096 Z\" fill=\"#000000\" fill-rule=\"nonzero\" fill-opacity=\"1\" /><polyline clip-path=\"url(#clip192)\" style=\"stroke:#009af9; stroke-linecap:round; stroke-linejoin:round; stroke-width:4; stroke-opacity:1; fill:none\" points=\"316.984,160.256 336.949,890.237 356.913,1212.4 376.878,1323.87 396.842,1364.67 416.807,1379.49 436.771,1384.56 456.735,1386.08 476.7,1386.4 496.664,1386.35 516.629,1386.23 536.593,1386.12 556.557,1386.05 576.522,1385.99 596.486,1385.96 616.451,1385.94 636.415,1385.93 656.38,1385.93 676.344,1385.93 696.308,1385.93 716.273,1385.93 736.237,1385.93 756.202,1385.94 776.166,1385.94 796.13,1385.95 816.095,1385.95 836.059,1385.96 856.024,1385.96 875.988,1385.97 895.953,1385.97 915.917,1385.97 935.881,1385.98 955.846,1385.98 975.81,1385.99 995.775,1385.99 1015.74,1386 1035.7,1386 1055.67,1386.01 1075.63,1386.01 1095.6,1386.02 1115.56,1386.02 1135.53,1386.03 1155.49,1386.03 1175.45,1386.03 1195.42,1386.04 1215.38,1386.04 1235.35,1386.05 1255.31,1386.05 1275.28,1386.06 1295.24,1386.06 1315.21,1386.07 1335.17,1386.07 1355.13,1386.08 1375.1,1386.08 1395.06,1386.08 1415.03,1386.09 1434.99,1386.09 1454.96,1386.1 1474.92,1386.1 1494.88,1386.11 1514.85,1386.11 1534.81,1386.12 1554.78,1386.12 1574.74,1386.12 1594.71,1386.13 1614.67,1386.13 1634.64,1386.14 1654.6,1386.14 1674.56,1386.15 1694.53,1386.15 1714.49,1386.15 1734.46,1386.16 1754.42,1386.16 1774.39,1386.17 1794.35,1386.17 1814.32,1386.18 1834.28,1386.18 1854.24,1386.18 1874.21,1386.19 1894.17,1386.19 1914.14,1386.2 1934.1,1386.2 1954.07,1386.21 1974.03,1386.21 1994,1386.21 2013.96,1386.22 2033.92,1386.22 2053.89,1386.23 2073.85,1386.23 2093.82,1386.24 2113.78,1386.24 2133.75,1386.24 2153.71,1386.25 2173.68,1386.25 2193.64,1386.26 2213.6,1386.26 2233.57,1386.26 2253.53,1386.27 2273.5,1386.27 2293.46,1386.28 \"/>\n",
       "<path clip-path=\"url(#clip190)\" d=\"M2020.98 270.476 L2282.92 270.476 L2282.92 166.796 L2020.98 166.796  Z\" fill=\"#ffffff\" fill-rule=\"evenodd\" fill-opacity=\"1\"/>\n",
       "<polyline clip-path=\"url(#clip190)\" style=\"stroke:#000000; stroke-linecap:round; stroke-linejoin:round; stroke-width:4; stroke-opacity:1; fill:none\" points=\"2020.98,270.476 2282.92,270.476 2282.92,166.796 2020.98,166.796 2020.98,270.476 \"/>\n",
       "<polyline clip-path=\"url(#clip190)\" style=\"stroke:#009af9; stroke-linecap:round; stroke-linejoin:round; stroke-width:4; stroke-opacity:1; fill:none\" points=\"2044.26,218.636 2183.93,218.636 \"/>\n",
       "<path clip-path=\"url(#clip190)\" d=\"M2221.05 238.323 Q2219.25 242.953 2217.54 244.365 Q2215.82 245.777 2212.95 245.777 L2209.55 245.777 L2209.55 242.212 L2212.05 242.212 Q2213.81 242.212 2214.78 241.379 Q2215.75 240.545 2216.93 237.443 L2217.7 235.499 L2207.21 209.99 L2211.73 209.99 L2219.83 230.268 L2227.93 209.99 L2232.44 209.99 L2221.05 238.323 Z\" fill=\"#000000\" fill-rule=\"nonzero\" fill-opacity=\"1\" /><path clip-path=\"url(#clip190)\" d=\"M2239.73 231.981 L2247.37 231.981 L2247.37 205.615 L2239.06 207.282 L2239.06 203.022 L2247.33 201.356 L2252 201.356 L2252 231.981 L2259.64 231.981 L2259.64 235.916 L2239.73 235.916 L2239.73 231.981 Z\" fill=\"#000000\" fill-rule=\"nonzero\" fill-opacity=\"1\" /></svg>\n"
      ]
     },
     "metadata": {},
     "output_type": "display_data"
    }
   ],
   "source": [
    "# gradient descent\n",
    "# eta = 0.1\n",
    "# opt_energy_gd = []\n",
    "# thetas = thetas_init\n",
    "# for i in 1:100 # steps\n",
    "#     gradient!(grad_array_compiled, simulation_tape, thetas)\n",
    "#     thetas .-= eta * grad_array_compiled\n",
    "#     constrain_params(thetas, [[1,2, 3], [4, 5, 6, 7], [8, 9, 10], [11, 12, 13, 14]])\n",
    "#     opt_energy_gd = push!(opt_energy_gd, lossfunction(thetas)/nq)\n",
    "# end\n",
    "#println(thetas) #Why do the first few stay the same, while the end is strongly modified? Is this sth systematic?\n",
    "thetas, opt_energy_gd = gd(thetas_init, [[1,2, 3], [4, 5, 6, 7], [8, 9, 10], [11, 12, 13, 14]])\n",
    "println(lossfunction(thetas)/nq)\n",
    "plot(opt_energy_gd)\n",
    "\n",
    "plot!(title = \"Energy optimisation with GD\", xlabel = \"runs of GD\", ylabel = \"E/Q\")"
   ]
  },
  {
   "cell_type": "code",
   "execution_count": 13,
   "metadata": {},
   "outputs": [],
   "source": [
    " #ADAM (this is suboptimal because we recalculate the gradients)\n",
    "# thetas = thetas_init\n",
    "# opt_energy_adam = []\n",
    "\n",
    "# opt_result = Optim.optimize(lossfunction, thetas, Adam(), Optim.Options(iterations=1000))\n",
    "# thetas .= Optim.minimizer(opt_result)\n",
    "\n",
    "# #println(thetas)  # Check the final optimized parameters\n",
    "# println(lossfunction(thetas)/nq)  # Check the final optimized energy (similar to GD)"
   ]
  },
  {
   "cell_type": "markdown",
   "metadata": {},
   "source": [
    "### Comments so far:\n",
    "\n",
    "- We have (2Q-1) non-Cliffords in the circuit so for Q=16 qubits, we have N=31 non-Cliffords already (this is quite high for a cl. simulation, state of the art is N<80 and Piotr used MPS with up to N=35)\n",
    "- When we initialise the parameters, they are fixed to have the same values in every RZZ and RZ layer, but later this changes during optimization. How can we keep this constraint during the optimization? (We need the constraint so it could be implementable as a \"real\" circuit, right?)\n",
    "- We get the warning `WARNING: redefinition of constant Main.simulation_tape.`, should we keep doing this like in the example notebooks?"
   ]
  },
  {
   "cell_type": "markdown",
   "metadata": {},
   "source": [
    "## Generating the set of test states - Isolated functions\n",
    "- generate a set of classically efficiently simulable states $S_{\\psi} =\\{|\\phi_i>\\}$\n",
    "- the initial state `initialize_mcmc_circuit()` is chosen by finding a near-Clifford circuit wrt the target circuit `tfimqaoacircuit()`\n",
    "- update steps: randomly pick $n_p$ pairs of the circuits RZ rotations (RZZ are also just RZ rotations with CNOT before and after)\n",
    "- in each pair keep one gate as non-Clifford and replace the other by $S^n$, where $S$ is the $\\pi/2$ rotation gate, take an integer power $n$ (which we choose by sampling according to eq. 14)\n",
    "- this \"pair mechanism\" makes sure we don't replace too many gates with Clifford gates, which would lead to a larger distance from the target state $\\ket{\\psi}$."
   ]
  },
  {
   "cell_type": "markdown",
   "metadata": {},
   "source": [
    "### Initial circuit for MCMC with less non-Clifford gates "
   ]
  },
  {
   "cell_type": "code",
   "execution_count": 14,
   "metadata": {},
   "outputs": [
    {
     "data": {
      "text/plain": [
       "initialize_mcmc_circuit (generic function with 1 method)"
      ]
     },
     "metadata": {},
     "output_type": "display_data"
    }
   ],
   "source": [
    "function initialize_mcmc_circuit(circuit, nqubits::Integer, nlayers::Integer)\n",
    "    # Choose nq*nl/2 random Pauli rotations to replace with Clifford R_Z(k_p π/2) gates.\n",
    "    # The replacements are random for the whole circuit and don't repeat for each layer.\n",
    "\n",
    "    # Get indices of Pauli rotations\n",
    "    z_rot_indices = [i for i in eachindex(circuit) if isa(circuit[i], PauliRotation)]\n",
    "\n",
    "    num_to_replace = div(nqubits * nlayers, 2)\n",
    "    Random.shuffle!(z_rot_indices)\n",
    "    indices_replaced = z_rot_indices[1:num_to_replace]\n",
    "    #println(\"Indices to replace: \", indices_to_replace)\n",
    "\n",
    "    # Extract qubit indices for gates to be replaced\n",
    "    qubits = [circuit[i].qinds for i in indices_replaced]\n",
    "    #println(\"Qubits involved: \", qubits)\n",
    "\n",
    "    # Create a modified circuit\n",
    "    new_circuit = copy(circuit)\n",
    "\n",
    "    # Replace selected R_Z rotations with Clifford R_Z(k_p π/2)\n",
    "    for (j, i) in enumerate(indices_replaced)\n",
    "        k_p = rand(0:3)  ### Randomly select k_p from {0,1,2,3} ( NO CLEAR INDICATION in the paper)\n",
    "        if length(qubits[j]) == 1\n",
    "            new_circuit[i] = PauliRotation(:Z, qubits[j], k_p * π/2)  # Replace with Clifford rotation\n",
    "        else\n",
    "            new_circuit[i] = PauliRotation([:Z, :Z], qubits[j], k_p * π/2)  # Replace with Clifford rotation\n",
    "        end\n",
    "    end\n",
    "\n",
    "    return new_circuit, indices_replaced\n",
    "end"
   ]
  },
  {
   "cell_type": "code",
   "execution_count": 15,
   "metadata": {},
   "outputs": [
    {
     "data": {
      "text/plain": [
       "4-element Vector{Int64}:\n",
       "  1\n",
       " 26\n",
       " 29\n",
       "  2"
      ]
     },
     "metadata": {},
     "output_type": "display_data"
    }
   ],
   "source": [
    "init_circuit, indices_replaced = initialize_mcmc_circuit(circuit, nq, nl) #check\n",
    "init_circuit\n",
    "indices_replaced\n",
    "current_cicuit = deepcopy(init_circuit)\n",
    "current_replaced_indices = deepcopy(indices_replaced)   "
   ]
  },
  {
   "cell_type": "code",
   "execution_count": 16,
   "metadata": {},
   "outputs": [
    {
     "name": "stdout",
     "output_type": "stream",
     "text": [
      "Gate[PauliRotation([:Z, :Z], [1, 2]), PauliRotation([:Z, :Z], [3, 4]), PauliRotation([:Z, :Z], [2, 3]), CliffordGate(:S, [1]), FrozenGate(PauliRotation([:X], [1]), parameter = 1.57), PauliRotation([:Z], [1]), FrozenGate(PauliRotation([:X], [1]), parameter = 1.57), CliffordGate(:S, [1]), CliffordGate(:S, [2]), FrozenGate(PauliRotation([:X], [2]), parameter = 1.57), PauliRotation([:Z], [2]), FrozenGate(PauliRotation([:X], [2]), parameter = 1.57), CliffordGate(:S, [2]), CliffordGate(:S, [3]), FrozenGate(PauliRotation([:X], [3]), parameter = 1.57), PauliRotation([:Z], [3]), FrozenGate(PauliRotation([:X], [3]), parameter = 1.57), CliffordGate(:S, [3]), CliffordGate(:S, [4]), FrozenGate(PauliRotation([:X], [4]), parameter = 1.57), PauliRotation([:Z], [4]), FrozenGate(PauliRotation([:X], [4]), parameter = 1.57), CliffordGate(:S, [4]), PauliRotation([:Z, :Z], [1, 2]), PauliRotation([:Z, :Z], [3, 4]), PauliRotation([:Z, :Z], [2, 3]), CliffordGate(:S, [1]), FrozenGate(PauliRotation([:X], [1]), parameter = 1.57), PauliRotation([:Z], [1]), FrozenGate(PauliRotation([:X], [1]), parameter = 1.57), CliffordGate(:S, [1]), CliffordGate(:S, [2]), FrozenGate(PauliRotation([:X], [2]), parameter = 1.57), PauliRotation([:Z], [2]), FrozenGate(PauliRotation([:X], [2]), parameter = 1.57), CliffordGate(:S, [2]), CliffordGate(:S, [3]), FrozenGate(PauliRotation([:X], [3]), parameter = 1.57), PauliRotation([:Z], [3]), FrozenGate(PauliRotation([:X], [3]), parameter = 1.57), CliffordGate(:S, [3]), CliffordGate(:S, [4]), FrozenGate(PauliRotation([:X], [4]), parameter = 1.57), PauliRotation([:Z], [4]), FrozenGate(PauliRotation([:X], [4]), parameter = 1.57), CliffordGate(:S, [4])]\n",
      "Gate[FrozenGate(PauliRotation([:Z, :Z], [1, 2]), parameter = 0.0), FrozenGate(PauliRotation([:Z, :Z], [3, 4]), parameter = 3.14), PauliRotation([:Z, :Z], [2, 3]), CliffordGate(:S, [1]), FrozenGate(PauliRotation([:X], [1]), parameter = 1.57), PauliRotation([:Z], [1]), FrozenGate(PauliRotation([:X], [1]), parameter = 1.57), CliffordGate(:S, [1]), CliffordGate(:S, [2]), FrozenGate(PauliRotation([:X], [2]), parameter = 1.57), PauliRotation([:Z], [2]), FrozenGate(PauliRotation([:X], [2]), parameter = 1.57), CliffordGate(:S, [2]), CliffordGate(:S, [3]), FrozenGate(PauliRotation([:X], [3]), parameter = 1.57), PauliRotation([:Z], [3]), FrozenGate(PauliRotation([:X], [3]), parameter = 1.57), CliffordGate(:S, [3]), CliffordGate(:S, [4]), FrozenGate(PauliRotation([:X], [4]), parameter = 1.57), PauliRotation([:Z], [4]), FrozenGate(PauliRotation([:X], [4]), parameter = 1.57), CliffordGate(:S, [4]), PauliRotation([:Z, :Z], [1, 2]), PauliRotation([:Z, :Z], [3, 4]), FrozenGate(PauliRotation([:Z, :Z], [2, 3]), parameter = 4.71), CliffordGate(:S, [1]), FrozenGate(PauliRotation([:X], [1]), parameter = 1.57), FrozenGate(PauliRotation([:Z], [1]), parameter = 0.0), FrozenGate(PauliRotation([:X], [1]), parameter = 1.57), CliffordGate(:S, [1]), CliffordGate(:S, [2]), FrozenGate(PauliRotation([:X], [2]), parameter = 1.57), PauliRotation([:Z], [2]), FrozenGate(PauliRotation([:X], [2]), parameter = 1.57), CliffordGate(:S, [2]), CliffordGate(:S, [3]), FrozenGate(PauliRotation([:X], [3]), parameter = 1.57), PauliRotation([:Z], [3]), FrozenGate(PauliRotation([:X], [3]), parameter = 1.57), CliffordGate(:S, [3]), CliffordGate(:S, [4]), FrozenGate(PauliRotation([:X], [4]), parameter = 1.57), PauliRotation([:Z], [4]), FrozenGate(PauliRotation([:X], [4]), parameter = 1.57), CliffordGate(:S, [4])]\n"
     ]
    }
   ],
   "source": [
    "#test the init function:\n",
    "println(circuit)\n",
    "println(init_circuit)   "
   ]
  },
  {
   "cell_type": "markdown",
   "metadata": {},
   "source": [
    "### Proposal function with random sampling (TO BE REPLACED with eq 14)"
   ]
  },
  {
   "cell_type": "code",
   "execution_count": 17,
   "metadata": {},
   "outputs": [
    {
     "data": {
      "text/plain": [
       "proposal_random_tfimqaoacircuit (generic function with 2 methods)"
      ]
     },
     "metadata": {},
     "output_type": "display_data"
    }
   ],
   "source": [
    "# Define the function to apply circuit updates\n",
    "function proposal_random_tfimqaoacircuit(target_circuit::Vector{Gate},current_circuit::Vector{Gate},current_replaced_indices::Vector{Int},np::Integer=2)    \n",
    "    # Identify all Pauli Z rotations in the circuit (includes RZZ) (Pauli Z are only the non-Cifford's here)\n",
    "    proposal_circuit = deepcopy(current_circuit)\n",
    "    z_rot_indices = [i for i in eachindex(proposal_circuit) if isa(proposal_circuit[i], PauliRotation)]\n",
    "\n",
    "    println(\"Z rotation indices (Non-Cliffords): \", z_rot_indices)\n",
    "    println(\"Indices replaced (Frozen Z rotations (Cliffords)): \", current_replaced_indices)  \n",
    "    # Ensure we have enough pairs\n",
    "    if length(current_replaced_indices) < np\n",
    "        error(\"Not enough frozen Pauli rotations in the initialized MCMC circuit to select the value of pairs.\")\n",
    "    end\n",
    "\n",
    "    # Shuffle and select n_p pairs\n",
    "    Random.shuffle!(z_rot_indices)\n",
    "    Random.shuffle!(current_replaced_indices)\n",
    "    selected_pairs = [(z_rot_indices[i], current_replaced_indices[i]) for i in 1:np] #\n",
    "    \n",
    "    println(\"Selected pairs of Cliff. and non-Clifford: \", selected_pairs) \n",
    "    #println(\"Circuit before replacement: \", proposal_circuit)\n",
    "\n",
    "    #choose left element of each pair and replace with Clifford gate S^n,sample n\n",
    "    for (i, j) in selected_pairs\n",
    "        qubits = proposal_circuit[i].qinds\n",
    "        #println(\"Qubits involved: \", qubits)\n",
    "        \n",
    "        k_p = rand(0:3) # SEE BELOW: we need to sample from eq 14\n",
    "        if length(qubits) == 1\n",
    "            proposal_circuit[i] = PauliRotation(:Z, qubits, k_p * π/2)  # Replace with Clifford rotation\n",
    "        else\n",
    "            proposal_circuit[i] = PauliRotation([:Z, :Z], qubits, k_p * π/2)  # Replace with Clifford rotation\n",
    "        end\n",
    "    end\n",
    "    #println(\"Circuit after first replacement: \", proposal_circuit)\n",
    "\n",
    "\n",
    "    #then reset the right element (Clifford, FrozenGate[PauliRotation]]) to the one of the target circuit\n",
    "    for (i, j) in selected_pairs \n",
    "        qubits = proposal_circuit[j].gate.qinds\n",
    "        proposal_circuit[j] = target_circuit[j] \n",
    "    end\n",
    "    #println(\"Circuit after second replacement: \", proposal_circuit)\n",
    "    ##TODO: \n",
    "    #set new current_replaced_indices (non-replaced ones and the new ones)\n",
    "    #delete the ( , j) items from current_replaced_indices, add the (i, ) items\n",
    "    updated_replaced_indices = setdiff(current_replaced_indices, [j for (_, j) in selected_pairs])\n",
    "    append!(updated_replaced_indices, [i for (i, _) in selected_pairs])\n",
    "\n",
    "    return proposal_circuit, updated_replaced_indices\n",
    "end"
   ]
  },
  {
   "cell_type": "markdown",
   "metadata": {},
   "source": [
    "### Isolated sampling function"
   ]
  },
  {
   "cell_type": "code",
   "execution_count": 18,
   "metadata": {},
   "outputs": [
    {
     "data": {
      "text/plain": [
       "sample_kn (generic function with 1 method)"
      ]
     },
     "metadata": {},
     "output_type": "display_data"
    }
   ],
   "source": [
    "    function compute_distance(alpha, n)\n",
    "        Pauli_z = [1 0; 0 -1]\n",
    "        S_n = exp(-im * n * π / 2 * Pauli_z)\n",
    "        println(\"S_n: \", S_n)\n",
    "        Rz_alpha = exp(-im * alpha * Pauli_z/2)\n",
    "        println(\"Rz_alpha: \", Rz_alpha)\n",
    "        return LinearAlgebra.norm(Rz_alpha - S_n)\n",
    "    end\n",
    "    \n",
    "    # Define probability distribution function\n",
    "    function sample_kn(alpha)\n",
    "        sigma = 0.5\n",
    "        n_vals =LinRange(0,7,8) # limit n values (they repeat after 2 pi)\n",
    "        distances = [compute_distance(alpha, n) for n in n_vals]\n",
    "        println(\"Distances: \", distances)\n",
    "        weights = exp.(-distances.^2 ./ sigma^2)\n",
    "        println(\"Weights: \", weights)\n",
    "        probs = ProbabilityWeights(weights ./ sum(weights)) \n",
    "        println(\"Probs\",probs) # Normalize probabilities\n",
    "        return StatsBase.sample(n_vals,probs,1)  # Sample from the distribution (using StatsBase)\n",
    "    end"
   ]
  },
  {
   "cell_type": "code",
   "execution_count": 19,
   "metadata": {},
   "outputs": [
    {
     "name": "stdout",
     "output_type": "stream",
     "text": [
      "Initial circuit: Gate[FrozenGate(PauliRotation([:Z, :Z], [1, 2]), parameter = 0.0), FrozenGate(PauliRotation([:Z, :Z], [3, 4]), parameter = 3.14), PauliRotation([:Z, :Z], [2, 3]), CliffordGate(:S, [1]), FrozenGate(PauliRotation([:X], [1]), parameter = 1.57), PauliRotation([:Z], [1]), FrozenGate(PauliRotation([:X], [1]), parameter = 1.57), CliffordGate(:S, [1]), CliffordGate(:S, [2]), FrozenGate(PauliRotation([:X], [2]), parameter = 1.57), PauliRotation([:Z], [2]), FrozenGate(PauliRotation([:X], [2]), parameter = 1.57), CliffordGate(:S, [2]), CliffordGate(:S, [3]), FrozenGate(PauliRotation([:X], [3]), parameter = 1.57), PauliRotation([:Z], [3]), FrozenGate(PauliRotation([:X], [3]), parameter = 1.57), CliffordGate(:S, [3]), CliffordGate(:S, [4]), FrozenGate(PauliRotation([:X], [4]), parameter = 1.57), PauliRotation([:Z], [4]), FrozenGate(PauliRotation([:X], [4]), parameter = 1.57), CliffordGate(:S, [4]), PauliRotation([:Z, :Z], [1, 2]), PauliRotation([:Z, :Z], [3, 4]), FrozenGate(PauliRotation([:Z, :Z], [2, 3]), parameter = 4.71), CliffordGate(:S, [1]), FrozenGate(PauliRotation([:X], [1]), parameter = 1.57), FrozenGate(PauliRotation([:Z], [1]), parameter = 0.0), FrozenGate(PauliRotation([:X], [1]), parameter = 1.57), CliffordGate(:S, [1]), CliffordGate(:S, [2]), FrozenGate(PauliRotation([:X], [2]), parameter = 1.57), PauliRotation([:Z], [2]), FrozenGate(PauliRotation([:X], [2]), parameter = 1.57), CliffordGate(:S, [2]), CliffordGate(:S, [3]), FrozenGate(PauliRotation([:X], [3]), parameter = 1.57), PauliRotation([:Z], [3]), FrozenGate(PauliRotation([:X], [3]), parameter = 1.57), CliffordGate(:S, [3]), CliffordGate(:S, [4]), FrozenGate(PauliRotation([:X], [4]), parameter = 1.57), PauliRotation([:Z], [4]), FrozenGate(PauliRotation([:X], [4]), parameter = 1.57), CliffordGate(:S, [4])]\n"
     ]
    }
   ],
   "source": [
    "println(\"Initial circuit: \", init_circuit)\n"
   ]
  },
  {
   "cell_type": "code",
   "execution_count": 20,
   "metadata": {},
   "outputs": [
    {
     "name": "stdout",
     "output_type": "stream",
     "text": [
      "Z rotation indices (Non-Cliffords): [3, 6, 11, 16, 21, 24, 25, 34, 39, 44]\n",
      "Indices replaced (Frozen Z rotations (Cliffords)): [1, 26, 29, 2]\n",
      "Selected pairs of Cliff. and non-Clifford: [(3, 1), (34, 26)]\n",
      "Updated indices: [29, 2, 3, 34]Z rotation indices (Non-Cliffords): [1, 6, 11, 16, 21, 24, 25, 26, 39, 44]\n",
      "Indices replaced (Frozen Z rotations (Cliffords)): [29, 2, 3, 34]\n",
      "Selected pairs of Cliff. and non-Clifford: [(16, 2), (21, 3)]\n",
      "Updated indices: [34, 29, 16, 21]"
     ]
    }
   ],
   "source": [
    "proposal_circuit, updated_replaced_indices = proposal_random_tfimqaoacircuit(circuit, init_circuit, indices_replaced, 2) #check\n",
    "print(\"Updated indices: \", updated_replaced_indices)\n",
    "\n",
    "prop_2, update_2 = proposal_random_tfimqaoacircuit(circuit, proposal_circuit, updated_replaced_indices, 2) \n",
    "print(\"Updated indices: \", update_2)"
   ]
  },
  {
   "cell_type": "code",
   "execution_count": 21,
   "metadata": {},
   "outputs": [
    {
     "name": "stdout",
     "output_type": "stream",
     "text": [
      "true\n",
      "false\n"
     ]
    }
   ],
   "source": [
    "#short check that our replacements FrozenGates[PauliRotation[]] are not PauliRotations anymore\n",
    "println(init_circuit[11] isa PauliRotation)\n",
    "println(init_circuit[11] isa FrozenGate)"
   ]
  },
  {
   "cell_type": "markdown",
   "metadata": {},
   "source": [
    "###  Sample prob dist. eq 14\n",
    "- FIXED: We don't know what $\\alpha$ in $R_z(\\alpha)$ should be here  (eq. 14) , so its set to a fixed value for now."
   ]
  },
  {
   "cell_type": "code",
   "execution_count": 22,
   "metadata": {},
   "outputs": [
    {
     "data": {
      "text/plain": [
       "proposal_tfimqaoacircuit (generic function with 2 methods)"
      ]
     },
     "metadata": {},
     "output_type": "display_data"
    }
   ],
   "source": [
    "# Define the function to apply circuit updates\n",
    "function proposal_tfimqaoacircuit(target_circuit::Vector{Gate},current_circuit::Vector{Gate},current_replaced_indices::Vector{Int},thetas::Vector{Float64},repartition::Vector{Vector{Int}},np::Integer=2)    \n",
    "    # Identify all Pauli Z rotations in the circuit (includes RZZ) (Pauli Z are only the non-Cifford's here)\n",
    "    proposal_circuit = deepcopy(current_circuit)\n",
    "    z_rot_indices = [i for i in eachindex(proposal_circuit) if isa(proposal_circuit[i], PauliRotation)]\n",
    "\n",
    "    println(\"Z rotation indices (Non-Cliffords): \", z_rot_indices)\n",
    "    println(\"Indices replaced (Frozen Z rotations (Cliffords)): \", current_replaced_indices)  \n",
    "    # Ensure we have enough pairs\n",
    "    if length(current_replaced_indices) < np\n",
    "        error(\"Not enough frozen Pauli rotations in the initialized MCMC circuit to select the value of pairs.\")\n",
    "    end\n",
    "\n",
    "    # Shuffle and select n_p pairs\n",
    "    Random.shuffle!(z_rot_indices)\n",
    "    Random.shuffle!(current_replaced_indices)\n",
    "    selected_pairs = [(z_rot_indices[i], current_replaced_indices[i]) for i in 1:np] #\n",
    "    \n",
    "    println(\"Selected pairs of Cliff. and non-Clifford: \", selected_pairs) \n",
    "    #println(\"Circuit before replacement: \", proposal_circuit)\n",
    "\n",
    "    function compute_distance(alpha, n)\n",
    "        Pauli_z = [1 0; 0 -1]\n",
    "        S_n = exp(-im * n * π / 2 * Pauli_z)\n",
    "        #println(\"S_n: \", S_n)\n",
    "        Rz_alpha = exp(-im * alpha * Pauli_z/2)\n",
    "        #println(\"Rz_alpha: \", Rz_alpha)\n",
    "        return LinearAlgebra.norm(Rz_alpha - S_n)\n",
    "    end\n",
    "    \n",
    "    # Define probability distribution function\n",
    "    function sample_kn(alpha)\n",
    "        sigma = 0.5\n",
    "        n_vals =LinRange(0,7,8) # limit n values (they repeat after 2 pi)\n",
    "        distances = [compute_distance(alpha, n) for n in n_vals]\n",
    "        #println(\"Distances: \", distances)\n",
    "        weights = exp.(-distances.^2 ./ sigma^2)\n",
    "        #println(\"Weights: \", weights)\n",
    "        probs = ProbabilityWeights(weights ./ sum(weights)) \n",
    "        #println(\"Probs\",probs) # Normalize probabilities\n",
    "        return first(StatsBase.sample(n_vals,probs,1))  # Sample from the distribution (using StatsBase)\n",
    "    end\n",
    "\n",
    "    function get_alpha(qubits, thetas, repartition)\n",
    "        # allows to break from nested loops\n",
    "        function find_alpha()\n",
    "            found = false\n",
    "            alpha = 0\n",
    "            for k in qubits\n",
    "                for (i, r) in enumerate(repartition)\n",
    "                    for q in r\n",
    "                        if q==k\n",
    "                            alpha = thetas[i]\n",
    "                            found = true\n",
    "                            return alpha, found\n",
    "                        end\n",
    "                    end\n",
    "                end\n",
    "            end\n",
    "            return alpha, found\n",
    "        end\n",
    "\n",
    "        alpha, found = find_alpha()\n",
    "        if !found\n",
    "            throw(\"qubits $qubits not found in repartition\")\n",
    "        else\n",
    "            return alpha\n",
    "        end\n",
    "    end\n",
    "\n",
    "    #choose left element of each pair and replace with Clifford gate S^n,sample n\n",
    "    for (i, j) in selected_pairs\n",
    "        qubits = proposal_circuit[i].qinds\n",
    "        #println(\"Qubits involved: \", qubits)\n",
    "        alpha = get_alpha(qubits, thetas, repartition)\n",
    "        \n",
    "        k_p = sample_kn(alpha)\n",
    "        # print(k_p) # SEE BELOW: we need to sample from eq 14\n",
    "        if length(qubits) == 1\n",
    "            proposal_circuit[i] = PauliRotation(:Z, qubits, k_p * π/2)  # Replace with Clifford rotation\n",
    "        else\n",
    "            proposal_circuit[i] = PauliRotation([:Z, :Z], qubits, k_p * π/2)  # Replace with Clifford rotation\n",
    "        end\n",
    "    end\n",
    "    #println(\"Circuit after first replacement: \", proposal_circuit)\n",
    "\n",
    "\n",
    "    #then reset the right element (Clifford, FrozenGate[PauliRotation]]) to the one of the target circuit\n",
    "    for (i, j) in selected_pairs \n",
    "        qubits = proposal_circuit[j].gate.qinds\n",
    "        proposal_circuit[j] = target_circuit[j] \n",
    "    end\n",
    "    #println(\"Circuit after second replacement: \", proposal_circuit)\n",
    "    \n",
    "    #update the replaced indices\n",
    "    updated_replaced_indices = setdiff(current_replaced_indices, [j for (_, j) in selected_pairs])\n",
    "    append!(updated_replaced_indices, [i for (i, _) in selected_pairs])\n",
    "\n",
    "    return proposal_circuit, updated_replaced_indices\n",
    "end"
   ]
  },
  {
   "cell_type": "code",
   "execution_count": 23,
   "metadata": {},
   "outputs": [
    {
     "name": "stdout",
     "output_type": "stream",
     "text": [
      "Z rotation indices (Non-Cliffords): [3, 6, 11, 16, 21, 24, 25, 34, 39, 44]\n",
      "Indices replaced (Frozen Z rotations (Cliffords)): [1, 26, 29, 2]\n",
      "Selected pairs of Cliff. and non-Clifford: [(3, 2), (16, 1)]\n",
      "Z rotation indices (Non-Cliffords): [1, 2, 6, 11, 21, 24, 25, 34, 39, 44]\n",
      "Indices replaced (Frozen Z rotations (Cliffords)): [26, 29, 3, 16]\n",
      "Selected pairs of Cliff. and non-Clifford: [(2, 29), (1, 3)]\n",
      "New proposal 1: Gate[FrozenGate(PauliRotation([:Z, :Z], [1, 2]), parameter = 6.28), FrozenGate(PauliRotation([:Z, :Z], [3, 4]), parameter = 0.0), PauliRotation([:Z, :Z], [2, 3]), CliffordGate(:S, [1]), FrozenGate(PauliRotation([:X], [1]), parameter = 1.57), PauliRotation([:Z], [1]), FrozenGate(PauliRotation([:X], [1]), parameter = 1.57), CliffordGate(:S, [1]), CliffordGate(:S, [2]), FrozenGate(PauliRotation([:X], [2]), parameter = 1.57), PauliRotation([:Z], [2]), FrozenGate(PauliRotation([:X], [2]), parameter = 1.57), CliffordGate(:S, [2]), CliffordGate(:S, [3]), FrozenGate(PauliRotation([:X], [3]), parameter = 1.57), FrozenGate(PauliRotation([:Z], [3]), parameter = 6.28), FrozenGate(PauliRotation([:X], [3]), parameter = 1.57), CliffordGate(:S, [3]), CliffordGate(:S, [4]), FrozenGate(PauliRotation([:X], [4]), parameter = 1.57), PauliRotation([:Z], [4]), FrozenGate(PauliRotation([:X], [4]), parameter = 1.57), CliffordGate(:S, [4]), PauliRotation([:Z, :Z], [1, 2]), PauliRotation([:Z, :Z], [3, 4]), FrozenGate(PauliRotation([:Z, :Z], [2, 3]), parameter = 4.71), CliffordGate(:S, [1]), FrozenGate(PauliRotation([:X], [1]), parameter = 1.57), PauliRotation([:Z], [1]), FrozenGate(PauliRotation([:X], [1]), parameter = 1.57), CliffordGate(:S, [1]), CliffordGate(:S, [2]), FrozenGate(PauliRotation([:X], [2]), parameter = 1.57), PauliRotation([:Z], [2]), FrozenGate(PauliRotation([:X], [2]), parameter = 1.57), CliffordGate(:S, [2]), CliffordGate(:S, [3]), FrozenGate(PauliRotation([:X], [3]), parameter = 1.57), PauliRotation([:Z], [3]), FrozenGate(PauliRotation([:X], [3]), parameter = 1.57), CliffordGate(:S, [3]), CliffordGate(:S, [4]), FrozenGate(PauliRotation([:X], [4]), parameter = 1.57), PauliRotation([:Z], [4]), FrozenGate(PauliRotation([:X], [4]), parameter = 1.57), CliffordGate(:S, [4])]\n",
      "Z rotation indices (Non-Cliffords): [3, 6, 11, 21, 24, 25, 29, 34, 39, 44]\n",
      "Indices replaced (Frozen Z rotations (Cliffords)): [16, 26, 2, 1]\n",
      "Selected pairs of Cliff. and non-Clifford: [(3, 26), (11, 16)]\n",
      "New proposal 2: Gate[FrozenGate(PauliRotation([:Z, :Z], [1, 2]), parameter = 6.28), FrozenGate(PauliRotation([:Z, :Z], [3, 4]), parameter = 0.0), FrozenGate(PauliRotation([:Z, :Z], [2, 3]), parameter = 0.0), CliffordGate(:S, [1]), FrozenGate(PauliRotation([:X], [1]), parameter = 1.57), PauliRotation([:Z], [1]), FrozenGate(PauliRotation([:X], [1]), parameter = 1.57), CliffordGate(:S, [1]), CliffordGate(:S, [2]), FrozenGate(PauliRotation([:X], [2]), parameter = 1.57), FrozenGate(PauliRotation([:Z], [2]), parameter = 0.0), FrozenGate(PauliRotation([:X], [2]), parameter = 1.57), CliffordGate(:S, [2]), CliffordGate(:S, [3]), FrozenGate(PauliRotation([:X], [3]), parameter = 1.57), PauliRotation([:Z], [3]), FrozenGate(PauliRotation([:X], [3]), parameter = 1.57), CliffordGate(:S, [3]), CliffordGate(:S, [4]), FrozenGate(PauliRotation([:X], [4]), parameter = 1.57), PauliRotation([:Z], [4]), FrozenGate(PauliRotation([:X], [4]), parameter = 1.57), CliffordGate(:S, [4]), PauliRotation([:Z, :Z], [1, 2]), PauliRotation([:Z, :Z], [3, 4]), PauliRotation([:Z, :Z], [2, 3]), CliffordGate(:S, [1]), FrozenGate(PauliRotation([:X], [1]), parameter = 1.57), PauliRotation([:Z], [1]), FrozenGate(PauliRotation([:X], [1]), parameter = 1.57), CliffordGate(:S, [1]), CliffordGate(:S, [2]), FrozenGate(PauliRotation([:X], [2]), parameter = 1.57), PauliRotation([:Z], [2]), FrozenGate(PauliRotation([:X], [2]), parameter = 1.57), CliffordGate(:S, [2]), CliffordGate(:S, [3]), FrozenGate(PauliRotation([:X], [3]), parameter = 1.57), PauliRotation([:Z], [3]), FrozenGate(PauliRotation([:X], [3]), parameter = 1.57), CliffordGate(:S, [3]), CliffordGate(:S, [4]), FrozenGate(PauliRotation([:X], [4]), parameter = 1.57), PauliRotation([:Z], [4]), FrozenGate(PauliRotation([:X], [4]), parameter = 1.57), CliffordGate(:S, [4])]\n"
     ]
    }
   ],
   "source": [
    "repartition = [[1,2, 3], [4, 5, 6, 7], [8, 9, 10], [11, 12, 13, 14]]\n",
    "proposal_circuit, ind_repl = proposal_tfimqaoacircuit(circuit, init_circuit, indices_replaced, thetas, repartition, 2) #check this works iteratively\n",
    "new_proposal, new_ind_repl = proposal_tfimqaoacircuit(circuit, proposal_circuit, ind_repl, thetas, repartition, 2)\n",
    "println(\"New proposal 1: \", new_proposal) #we need to name a variable to keep the new proposal\n",
    "new_proposal_2, ind_repl_2 = proposal_tfimqaoacircuit(circuit, new_proposal, new_ind_repl, thetas, repartition, 2)\n",
    "println(\"New proposal 2: \", new_proposal_2) "
   ]
  },
  {
   "cell_type": "markdown",
   "metadata": {},
   "source": [
    "## Next steps: \n",
    "JERG:\n",
    "- DONE: constrain the parameters in loss function (dict or as Manuel suggested)\n",
    "- DONE: closure thing (code loss function, add closure outside to optimize) , so far no exact position of this closure\n",
    "- find the parameter $\\alpha$ (optimised $\\alpha$ from target circuit of that exact gate)  for the proposal function (sample n) (page 7 eq 14, Appendix B of paper)\n",
    "\n",
    "Yulia:\n",
    "- define the MH algorithm (propose until a sample is accepted, then from this accepted sample start proposing again)\n",
    "- merge everything into one MCMC function"
   ]
  },
  {
   "cell_type": "markdown",
   "metadata": {},
   "source": [
    "### Under construction: Merged MCMC function\n",
    "- list with acceptance rate\n",
    "- n_sweeps to decorrelate\n",
    "- burn-in time (additional percent)"
   ]
  },
  {
   "cell_type": "code",
   "execution_count": 24,
   "metadata": {},
   "outputs": [
    {
     "ename": "Base.Meta.ParseError",
     "evalue": "ParseError:\n# Error @ /home/julia/julia_scripts/pp-em/cdr/jl_notebook_cell_df34fa98e69747e1a8f8a730347b8e2f_X50sdnNjb2RlLXJlbW90ZQ==.jl:21:44\n        #acceptance ratio\n        acc_ratio = min(1,exp(-x_exact-x_0)**2/exp(x_sigma)**2)\n#                                          └┘ ── use `x^y` instead of `x**y` for exponentiation, and `x...` instead of `**x` for splatting",
     "output_type": "error",
     "traceback": [
      "ParseError:\n",
      "# Error @ /home/julia/julia_scripts/pp-em/cdr/jl_notebook_cell_df34fa98e69747e1a8f8a730347b8e2f_X50sdnNjb2RlLXJlbW90ZQ==.jl:21:44\n",
      "        #acceptance ratio\n",
      "        acc_ratio = min(1,exp(-x_exact-x_0)**2/exp(x_sigma)**2)\n",
      "#                                          └┘ ── use `x^y` instead of `x**y` for exponentiation, and `x...` instead of `**x` for splatting\n",
      "\n",
      "Stacktrace:\n",
      " [1] top-level scope\n",
      "   @ ~/julia_scripts/pp-em/cdr/jl_notebook_cell_df34fa98e69747e1a8f8a730347b8e2f_X50sdnNjb2RlLXJlbW90ZQ==.jl:21"
     ]
    }
   ],
   "source": [
    "function MCMC(target_circuit::Vector{Gate},current_circuit::Vector{Gate},nqubits::Integer,nlayers::Integer,current_replaced_indices::Vector{Int},num_samples::Integer = 1000,burn_in_per =0.2,n_sweeps::Integer =1, np::Integer=2, x_sigma::Float64=0.5,x_0::Float64 =-2.1)\n",
    "    #init the MCMC\n",
    "    initial_circuit, initial_replaced_indices = initialize_mcmc_circuit(target_circuit, nq, nl)\n",
    "    n_accepted = 0 \n",
    "    rounded_burn_in = Int(round(burn_in_per * num_samples)) \n",
    "\n",
    "    current_circuit = deepcopy(initial_circuit)\n",
    "    current_replaced_indices = deepcopy(initial_replaced_indices)\n",
    "    #add burn-in time\n",
    "\n",
    "    acceptance_rates = []\n",
    "    acc_samples = []\n",
    "    exact_energies = []\n",
    "    for i in range(1,Int(num_samples+rounded_burn_in))\n",
    "\n",
    "        proposal_circuit, updated_replaced_indices = proposal_tfimqaoacircuit(target_circuit, current_circuit, current_replaced_indices, np)\n",
    "        \n",
    "        #calc x_exact normalised (loss fct and gd)\n",
    "        \n",
    "        #acceptance ratio\n",
    "        acc_ratio = min(1,exp(-x_exact-x_0)**2/exp(x_sigma)**2)\n",
    "\n",
    "        if rand() < acc_ratio\n",
    "            current_circuit = deepcopy(proposal_circuit)\n",
    "            current_replaced_indices = deepcopy(updated_replaced_indices)\n",
    "            n_accepted += 1\n",
    "        end\n",
    "        acceptance_rate = n_accepted/i\n",
    "\n",
    "        #only record after burn-in\n",
    "        #only record every n_th sample (n_sweeps)\n",
    "        if i > rounded_burn_in\n",
    "            if i%n_sweeps == 0\n",
    "                push!(acc_samples, current_circuit)\n",
    "                push!(exact_energies, x_exact)\n",
    "                push!(acceptance_rates,acceptance_rate)\n",
    "        end\n",
    "\n",
    "        \n",
    "    end\n",
    "\n",
    "    return acc_samples,exact_energies,acceptance_rates\n",
    "end\n",
    "\n"
   ]
  },
  {
   "cell_type": "code",
   "execution_count": 25,
   "metadata": {},
   "outputs": [
    {
     "data": {
      "text/plain": [
       "plot_MCMC (generic function with 1 method)"
      ]
     },
     "metadata": {},
     "output_type": "display_data"
    }
   ],
   "source": [
    "function plot_MCMC(acc_samples,exact_energies,acceptance_rates)\n",
    "    #plot the acceptance rates\n",
    "    plot(acceptance_rates)\n",
    "    plot!(title = \"Acceptance rates\", xlabel = \"runs of MCMC\", ylabel = \"Acceptance rate\")\n",
    "\n",
    "    #plot the energy (not correlated if n_sweeps large enough)\n",
    "    plot(exact_energies)\n",
    "    plot!(title = \"Energy optimisation with MCMC\", xlabel = \"runs of MCMC\", ylabel = \"E/Q\",)\n",
    "end"
   ]
  },
  {
   "cell_type": "code",
   "execution_count": 26,
   "metadata": {},
   "outputs": [
    {
     "ename": "UndefVarError",
     "evalue": "UndefVarError: `MCMC` not defined in `Main`\nSuggestion: check for spelling errors or missing imports.",
     "output_type": "error",
     "traceback": [
      "UndefVarError: `MCMC` not defined in `Main`\n",
      "Suggestion: check for spelling errors or missing imports.\n",
      "\n",
      "Stacktrace:\n",
      " [1] top-level scope\n",
      "   @ ~/julia_scripts/pp-em/cdr/jl_notebook_cell_df34fa98e69747e1a8f8a730347b8e2f_X52sdnNjb2RlLXJlbW90ZQ==.jl:1"
     ]
    }
   ],
   "source": [
    "MCMC(circuit, init_circuit, nq, nl, indices_replaced, 2) #check"
   ]
  },
  {
   "cell_type": "code",
   "execution_count": 27,
   "metadata": {},
   "outputs": [
    {
     "ename": "MethodError",
     "evalue": "MethodError: no method matching proposal_tfimqaoacircuit(::Vector{Gate}, ::Vector{Gate}, ::Vector{Int64}, ::Int64)\nThe function `proposal_tfimqaoacircuit` exists, but no method is defined for this combination of argument types.\n\nClosest candidates are:\n  proposal_tfimqaoacircuit(::Vector{Gate}, ::Vector{Gate}, ::Vector{Int64}, !Matched::Vector{Float64}, !Matched::Vector{Vector{Int64}})\n   @ Main ~/julia_scripts/pp-em/cdr/jl_notebook_cell_df34fa98e69747e1a8f8a730347b8e2f_X43sdnNjb2RlLXJlbW90ZQ==.jl:2\n  proposal_tfimqaoacircuit(::Vector{Gate}, ::Vector{Gate}, ::Vector{Int64}, !Matched::Vector{Float64}, !Matched::Vector{Vector{Int64}}, !Matched::Integer)\n   @ Main ~/julia_scripts/pp-em/cdr/jl_notebook_cell_df34fa98e69747e1a8f8a730347b8e2f_X43sdnNjb2RlLXJlbW90ZQ==.jl:2\n",
     "output_type": "error",
     "traceback": [
      "MethodError: no method matching proposal_tfimqaoacircuit(::Vector{Gate}, ::Vector{Gate}, ::Vector{Int64}, ::Int64)\n",
      "The function `proposal_tfimqaoacircuit` exists, but no method is defined for this combination of argument types.\n",
      "\n",
      "Closest candidates are:\n",
      "  proposal_tfimqaoacircuit(::Vector{Gate}, ::Vector{Gate}, ::Vector{Int64}, !Matched::Vector{Float64}, !Matched::Vector{Vector{Int64}})\n",
      "   @ Main ~/julia_scripts/pp-em/cdr/jl_notebook_cell_df34fa98e69747e1a8f8a730347b8e2f_X43sdnNjb2RlLXJlbW90ZQ==.jl:2\n",
      "  proposal_tfimqaoacircuit(::Vector{Gate}, ::Vector{Gate}, ::Vector{Int64}, !Matched::Vector{Float64}, !Matched::Vector{Vector{Int64}}, !Matched::Integer)\n",
      "   @ Main ~/julia_scripts/pp-em/cdr/jl_notebook_cell_df34fa98e69747e1a8f8a730347b8e2f_X43sdnNjb2RlLXJlbW90ZQ==.jl:2\n",
      "\n",
      "\n",
      "Stacktrace:\n",
      " [1] top-level scope\n",
      "   @ ~/julia_scripts/pp-em/cdr/jl_notebook_cell_df34fa98e69747e1a8f8a730347b8e2f_X53sdnNjb2RlLXJlbW90ZQ==.jl:1"
     ]
    }
   ],
   "source": [
    "proposal_circuit, ind_repl = proposal_tfimqaoacircuit(circuit, init_circuit, indices_replaced, 2) #check this works iteratively"
   ]
  },
  {
   "cell_type": "code",
   "execution_count": 28,
   "metadata": {},
   "outputs": [
    {
     "ename": "MethodError",
     "evalue": "MethodError: no method matching proposal_tfimqaoacircuit(::Vector{Gate}, ::Vector{Gate}, ::Vector{Int64}, ::Int64)\nThe function `proposal_tfimqaoacircuit` exists, but no method is defined for this combination of argument types.\n\nClosest candidates are:\n  proposal_tfimqaoacircuit(::Vector{Gate}, ::Vector{Gate}, ::Vector{Int64}, !Matched::Vector{Float64}, !Matched::Vector{Vector{Int64}})\n   @ Main ~/julia_scripts/pp-em/cdr/jl_notebook_cell_df34fa98e69747e1a8f8a730347b8e2f_X43sdnNjb2RlLXJlbW90ZQ==.jl:2\n  proposal_tfimqaoacircuit(::Vector{Gate}, ::Vector{Gate}, ::Vector{Int64}, !Matched::Vector{Float64}, !Matched::Vector{Vector{Int64}}, !Matched::Integer)\n   @ Main ~/julia_scripts/pp-em/cdr/jl_notebook_cell_df34fa98e69747e1a8f8a730347b8e2f_X43sdnNjb2RlLXJlbW90ZQ==.jl:2\n",
     "output_type": "error",
     "traceback": [
      "MethodError: no method matching proposal_tfimqaoacircuit(::Vector{Gate}, ::Vector{Gate}, ::Vector{Int64}, ::Int64)\n",
      "The function `proposal_tfimqaoacircuit` exists, but no method is defined for this combination of argument types.\n",
      "\n",
      "Closest candidates are:\n",
      "  proposal_tfimqaoacircuit(::Vector{Gate}, ::Vector{Gate}, ::Vector{Int64}, !Matched::Vector{Float64}, !Matched::Vector{Vector{Int64}})\n",
      "   @ Main ~/julia_scripts/pp-em/cdr/jl_notebook_cell_df34fa98e69747e1a8f8a730347b8e2f_X43sdnNjb2RlLXJlbW90ZQ==.jl:2\n",
      "  proposal_tfimqaoacircuit(::Vector{Gate}, ::Vector{Gate}, ::Vector{Int64}, !Matched::Vector{Float64}, !Matched::Vector{Vector{Int64}}, !Matched::Integer)\n",
      "   @ Main ~/julia_scripts/pp-em/cdr/jl_notebook_cell_df34fa98e69747e1a8f8a730347b8e2f_X43sdnNjb2RlLXJlbW90ZQ==.jl:2\n",
      "\n",
      "\n",
      "Stacktrace:\n",
      " [1] top-level scope\n",
      "   @ ~/julia_scripts/pp-em/cdr/jl_notebook_cell_df34fa98e69747e1a8f8a730347b8e2f_X54sdnNjb2RlLXJlbW90ZQ==.jl:1"
     ]
    }
   ],
   "source": [
    "new_proposal, new_ind_repl = proposal_tfimqaoacircuit(circuit, proposal_circuit, ind_repl, 2)"
   ]
  }
 ],
 "metadata": {
  "kernelspec": {
   "display_name": "Julia 1.11.3",
   "language": "julia",
   "name": "julia-1.11"
  },
  "language_info": {
   "file_extension": ".jl",
   "mimetype": "application/julia",
   "name": "julia",
   "version": "1.11.3"
  }
 },
 "nbformat": 4,
 "nbformat_minor": 2
}
