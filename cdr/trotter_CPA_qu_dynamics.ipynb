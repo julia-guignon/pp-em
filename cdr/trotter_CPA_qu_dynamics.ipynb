{
 "cells": [
  {
   "cell_type": "markdown",
   "metadata": {},
   "source": [
    "# CDR for quantum dynamics\n",
    "- TFIM Hamiltonian (constants not site-dependent) evolving with TDSE\n",
    "- discretize the evolution steps and use first-order Trotter decomposition \n",
    "\n",
    "### Idea:\n",
    "- get plain CDR running for Dynamics and benchmark\n",
    "- check accuracy of CDR vs runtime/step division (problem is small step division, not runtime)\n",
    "- add perturbation approach (all non-Cliffords) if necessary\n",
    "- add noise levels (data augmentation) if necessary\n",
    "\n"
   ]
  },
  {
   "cell_type": "code",
   "execution_count": null,
   "metadata": {},
   "outputs": [],
   "source": [
    "using PauliPropagation\n",
    "using Random\n",
    "using Optim\n",
    "using Plots\n",
    "using ReverseDiff: GradientTape, gradient!, compile, gradient\n",
    "using LinearAlgebra\n",
    "using StatsBase \n",
    "using GLM\n",
    "using DataFrames\n",
    "using CSV\n",
    "using Format\n",
    "using Logging\n",
    "using Distributions\n",
    "using LaTeXStrings\n",
    "include(\"src/cpa.jl\")"
   ]
  },
  {
   "cell_type": "markdown",
   "metadata": {},
   "source": [
    "# MWE\n",
    "### Exact evolution of a small trotterized circuit (see CPDR p.7)"
   ]
  },
  {
   "cell_type": "code",
   "execution_count": null,
   "metadata": {},
   "outputs": [],
   "source": [
    "nq = 9\n",
    "steps = 7\n",
    "T = 0.25 \n",
    "J =  2.0 # J > 0 in ferromagnetic phase, J < 0 in antiferromagnetic phase\n",
    "h = 1.0  #abs(h) < abs(J) in ordered phase\n",
    "angle_definition = pi/20\n",
    "# paramagnetic (h = -2, J =1)\n",
    "trotter = trotter_setup(nq, steps, T, J, h);\n",
    "observable= obs_interaction(trotter);\n",
    "min_abs_coeff = 0.0;"
   ]
  },
  {
   "cell_type": "code",
   "execution_count": null,
   "metadata": {},
   "outputs": [],
   "source": [
    "print(\"sigma_h = \", trotter.sigma_h, \" sigma_J = \",trotter.sigma_J,\"    pi/20 = \", pi/20)"
   ]
  },
  {
   "cell_type": "markdown",
   "metadata": {},
   "source": [
    "### Target data"
   ]
  },
  {
   "cell_type": "code",
   "execution_count": null,
   "metadata": {},
   "outputs": [],
   "source": [
    "exact_expval_target = trotter_time_evolution(trotter; observable = observable, record=true, min_abs_coeff=min_abs_coeff);"
   ]
  },
  {
   "cell_type": "code",
   "execution_count": null,
   "metadata": {},
   "outputs": [],
   "source": [
    "noisy_expval_target = trotter_time_evolution(trotter; observable = observable, noise_kind=\"realistic\", record=true, min_abs_coeff=min_abs_coeff);"
   ]
  },
  {
   "cell_type": "code",
   "execution_count": null,
   "metadata": {},
   "outputs": [],
   "source": [
    "plot(0:trotter.steps, exact_expval_target, xlabel=\"steps\", label=\"Noise-free target\", marker=:o)\n",
    "plot!(0:trotter.steps, noisy_expval_target, label=\"Noisy target\", marker=:o)\n",
    "\n",
    "if observable == obs_interaction(trotter)\n",
    "    plot!(ylabel=\"⟨ZZ⟩\", title = \"Time evolution of ⟨ZZ⟩ with $(trotter.nqubits) qubits at $(trotter.steps/trotter.time) steps/t\")\n",
    "elseif observable == obs_magnetization(trotter)\n",
    "    plot!(ylabel=\"⟨Z⟩\",title = \"Time evolution of ⟨Z⟩ with $(trotter.nqubits) qubits at $(trotter.steps/trotter.time) steps/t\")\n",
    "end"
   ]
  },
  {
   "cell_type": "markdown",
   "metadata": {},
   "source": [
    "### Training data"
   ]
  },
  {
   "cell_type": "code",
   "execution_count": null,
   "metadata": {},
   "outputs": [],
   "source": [
    "#list_training_thetas = training_set_generation_brut(trotter, angle_definition; num_samples=10, non_replaced_gates=30);"
   ]
  },
  {
   "cell_type": "code",
   "execution_count": null,
   "metadata": {},
   "outputs": [],
   "source": [
    "#list_training_thetas = training_set_generation_strict_perturbation(trotter;sample_function = \"small\",num_samples=10);"
   ]
  },
  {
   "cell_type": "code",
   "execution_count": null,
   "metadata": {},
   "outputs": [],
   "source": [
    "list_training_thetas = training_set_generation_loose_perturbation(trotter;sample_function = \"small\",num_samples=10);"
   ]
  },
  {
   "cell_type": "code",
   "execution_count": null,
   "metadata": {},
   "outputs": [],
   "source": [
    "exact_expvals = training_trotter_time_evolution(trotter, list_training_thetas; observable = observable, record=true);"
   ]
  },
  {
   "cell_type": "code",
   "execution_count": null,
   "metadata": {},
   "outputs": [],
   "source": [
    "noisy_expvals = training_trotter_time_evolution(trotter, list_training_thetas; observable = observable, noise_kind=\"realistic\", record = true);"
   ]
  },
  {
   "cell_type": "code",
   "execution_count": null,
   "metadata": {},
   "outputs": [],
   "source": [
    "colors = palette(:tab10)\n",
    "\n",
    "plot(0:trotter.steps, exact_expval_target, xlabel=\"steps\", label=\"Noise-free target\", marker=:o)\n",
    "plot!(0:trotter.steps, noisy_expval_target, label=\"Noisy target\", marker=:o)\n",
    "\n",
    "for (i, exact) in enumerate(exact_expvals)\n",
    "    plot!(0:trotter.steps, exact, label=\"Noise-free $(i)\", c=colors[i], marker=:+, alpha = 0.4)\n",
    "end\n",
    "\n",
    "for (i, noisy) in enumerate(noisy_expvals)\n",
    "    plot!(0:trotter.steps, noisy, label=\"Noisy $(i)\", color=colors[i], marker=:x, alpha = 0.4)\n",
    "end\n",
    "\n",
    "if observable == obs_interaction(trotter)\n",
    "    plot!(ylabel=\"⟨ZZ⟩\", title = \"Time evolution of ⟨ZZ⟩ with $(trotter.nqubits) qubits at $(trotter.steps/trotter.time) steps/t\")\n",
    "else\n",
    "    plot!(ylabel=\"⟨Z⟩\",title = \"Time evolution of ⟨Z⟩ with $(trotter.nqubits) qubits at $(trotter.steps/trotter.time) steps/t\")\n",
    "end"
   ]
  },
  {
   "cell_type": "code",
   "execution_count": null,
   "metadata": {},
   "outputs": [],
   "source": [
    "println(\"Exact expvals: \", exact_expvals)   \n",
    "println(\"Noisy expvals: \", noisy_expvals)"
   ]
  },
  {
   "cell_type": "code",
   "execution_count": null,
   "metadata": {},
   "outputs": [],
   "source": [
    "exact_expvals_cdr = training_trotter_time_evolution(trotter, list_training_thetas; record=true);\n",
    "noisy_expvals_cdr = training_trotter_time_evolution(trotter, list_training_thetas; noise_kind=\"realistic\", record = true);\n",
    "\n",
    "# standard CDR for all steps\n",
    "corr_energy, rel_error_after, rel_error_before = cdr(noisy_expvals_cdr, exact_expvals_cdr, noisy_expval_target, exact_expval_target)\n",
    "\n",
    "# Linear decay weights: decay_weights[t][τ] = τ / t\n",
    "#decay_weights = [ [τ / t for τ in 1:t] for t in 1:length(noisy_expvals[1]) ]\n",
    "\n",
    "#keep last step weights\n",
    "#syntax: condition1 ? value1 : (condition2 ? value2 : value3)\n",
    "# corresponds to:\n",
    "# if condition1\n",
    "#     value1\n",
    "# elseif condition2\n",
    "#     value2\n",
    "# else\n",
    "#     value3\n",
    "# end\n",
    "\n",
    "decay_weights = [\n",
    "    [τ == t ? 1.0 : (τ == t-1 ? 0.5 : 0.0) for τ in 1:t]\n",
    "    for t in 1:length(noisy_expvals[1])\n",
    "]\n",
    "\n",
    "corrected_weight, rel_after_weight, rel_before_weight = cdr(\n",
    "    noisy_expvals,\n",
    "    exact_expvals,\n",
    "    noisy_expval_target,\n",
    "    exact_expval_target,\n",
    "    decay_weights\n",
    ")"
   ]
  },
  {
   "cell_type": "markdown",
   "metadata": {},
   "source": [
    "### Correction over time (standard CDR vs. weighted linear regression)"
   ]
  },
  {
   "cell_type": "code",
   "execution_count": null,
   "metadata": {},
   "outputs": [],
   "source": [
    "plot(1:trotter.steps, rel_error_before[2:end], xlabel=\"steps\", label=\"rel. error before correction\", marker=:o)\n",
    "plot!(1:trotter.steps, rel_error_after[2:end], label=\"rel. error after correction (LR)\", marker=:o)\n",
    "plot!(1:trotter.steps, rel_after_weight[2:end], label=\"rel. error after correction (weighted LR)\", marker=:o, yscale=:log10,legend=:best)"
   ]
  },
  {
   "cell_type": "code",
   "execution_count": null,
   "metadata": {},
   "outputs": [],
   "source": [
    "#check ooM of error as defined in Fig 4 CPA:\n",
    "MSE = (corr_energy[end]-exact_expval_target[end])^2 #this is noise independent"
   ]
  },
  {
   "cell_type": "code",
   "execution_count": null,
   "metadata": {},
   "outputs": [],
   "source": [
    "MSE_noise = (noisy_expval_target[end]-exact_expval_target[end])^2 #this is noise dependent"
   ]
  },
  {
   "cell_type": "markdown",
   "metadata": {},
   "source": [
    "# CDR tests"
   ]
  },
  {
   "cell_type": "markdown",
   "metadata": {},
   "source": [
    "### Full Run Test"
   ]
  },
  {
   "cell_type": "code",
   "execution_count": null,
   "metadata": {},
   "outputs": [],
   "source": [
    "#now full run is set to the loose method\n",
    "global_logger(UnbufferedLogger(stdout, MainInfo))\n",
    "\n",
    "nq = 9\n",
    "steps = 5\n",
    "sigma_star = pi/20\n",
    "T = 0.2\n",
    "J = 2.0 #J > 0 in ferromagnetic phase, J < 0 in antiferromagnetic phase\n",
    "h = 1.0 #abs(h) < abs(J) in ordered phase\n",
    "trotter = trotter_setup(nq, steps, T, J, h);\n",
    "noise_kind = \"gate\" #takes the default gate values\n",
    "min_abs_coeff = 1e-10; #traiing set (exact and noisy)\n",
    "min_abs_coeff_exact = 0.0 #this should be 0 to get\n",
    "min_abs_coeff_noisy = min_abs_coeff;\n",
    "#training_set = training_set_generation_loose_perturbation(trotter, sigma_star; sample_function = \"CPA\", num_samples=10);\n",
    "#training_set = training_set_generation_brut(trotter, sigma_star; num_samples=10, non_replaced_gates=30);\n",
    "exact_expval_target, noisy_expval_target, corr_energy, rel_error_before, rel_error_after = full_run(trotter, sigma_star, noise_kind; min_abs_coeff, min_abs_coeff_noisy, observable = obs_magnetization(trotter),record = false)#, cdr_method = \"std_LR\")"
   ]
  },
  {
   "cell_type": "markdown",
   "metadata": {},
   "source": [
    "### CDR weight assignment test"
   ]
  },
  {
   "cell_type": "code",
   "execution_count": null,
   "metadata": {},
   "outputs": [],
   "source": [
    "#now full run is set to the loose method\n",
    "global_logger(UnbufferedLogger(stdout, SubInfo))\n",
    "\n",
    "nq = 9\n",
    "steps = 7\n",
    "sigma_star = pi/20\n",
    "T = 0.25\n",
    "J = 2.0 #J > 0 in ferromagnetic phase, J < 0 in antiferromagnetic phase\n",
    "h = 1.0 #abs(h) < abs(J) in ordered phase\n",
    "trotter = trotter_setup(nq, steps, T, J, h);\n",
    "cdr_methods = [\"std_LR\", \"lin_WLR\", \"last1_WLR\"]\n",
    "rel_after_list = Vector{Vector{Float64}}()\n",
    "for cdr_method in cdr_methods\n",
    "    noise_kind = \"gate\" #takes the default gate values\n",
    "    min_abs_coeff = 0.0#1e-10; #traiing set (exact and noisy)#this should be 0 to get\n",
    "    min_abs_coeff_noisy = min_abs_coeff;\n",
    "    training_set = training_set_generation_loose_perturbation(trotter, sigma_star; sample_function = \"small\", num_samples=10);\n",
    "    #training_set = training_set_generation_brut(trotter, sigma_star; num_samples=10, non_replaced_gates=30);\n",
    "    #we can make this more efficient by not recalc the \"exact\" expvals\n",
    "    exact_expval_target, noisy_expval_target, corr_energy, rel_error_before, rel_error_after = full_run(trotter, sigma_star, noise_kind; min_abs_coeff, min_abs_coeff_noisy, training_set, observable = obs_magnetization(trotter),record = true, cdr_method = cdr_method)\n",
    "    # add to dataframe each time (only rel_error_after, with cdr_method label)\n",
    "    rel_error_after = rel_error_after[2:end] #remove the first one, as it is not corrected\n",
    "    rel_after_list = push!(rel_after_list, rel_error_after)\n",
    "    #then add once the rel_error_before\n",
    "end"
   ]
  },
  {
   "cell_type": "code",
   "execution_count": null,
   "metadata": {},
   "outputs": [],
   "source": [
    "plot(1:trotter.steps, rel_error_before[2:end], xlabel=\"steps\", label=\"rel. error before correction\", marker=:o)\n",
    "plot!(1:trotter.steps, rel_after_list[1], label=\"rel. error after correction (std_LR)\", marker=:o)\n",
    "plot!(1:trotter.steps, rel_after_list[2], label=\"rel. error after correction (lin_WLR)\", marker=:o)\n",
    "plot!(1:trotter.steps, rel_after_list[3], label=\"rel. error after correction (last1_WLR)\", marker=:o)\n",
    "plot!(yscale=:log10,legend=:bottomright)"
   ]
  },
  {
   "cell_type": "markdown",
   "metadata": {},
   "source": [
    "## CPA plots for phases of TFIM\n"
   ]
  },
  {
   "cell_type": "code",
   "execution_count": null,
   "metadata": {},
   "outputs": [],
   "source": [
    "function plot_MSE_csv_data(filename::String, xaxis::String)\n",
    "    data = CSV.read(filename, DataFrame)\n",
    "    hasproperty(data, Symbol(xaxis)) || error(\"Column $xaxis not found in data\")\n",
    "\n",
    "    x = getproperty(data, Symbol(xaxis))\n",
    "\n",
    "    plot(x, data.MSE_loose_CPA, yscale = :log10, marker = :x, label = \"MSE loose CPA\")\n",
    "    plot!(x, data.MSE_loose_small, marker = :x, label = \"MSE loose small\")\n",
    "    plot!(x, data.MSE_noise, marker = :x, label = \"MSE noise\")\n",
    "    plot!(x, data.MSE_strict_CPA, marker = :x, label = \"MSE strict CPA\")\n",
    "    plot!(x, data.MSE_strict_small, marker = :x, label = \"MSE strict small\")\n",
    "    plot!(x, data.MSE_brut, marker = :x, label = \"MSE brut\",\n",
    "         xlabel = xaxis == \"sigma_J\" ? L\"\\theta_J\" : L\"\\theta_h\", ylabel = \"MSE\", legend = xaxis == \"sigma_J\" ? :bottomright : :bottomleft)\n",
    "end"
   ]
  },
  {
   "cell_type": "markdown",
   "metadata": {},
   "source": [
    "### Fig 4a) / Fig 4c)"
   ]
  },
  {
   "cell_type": "code",
   "execution_count": null,
   "metadata": {},
   "outputs": [],
   "source": [
    "#set noise\n",
    "# noise_kind = \"realistic\"\n",
    "depol_strength_double = 0.0033\n",
    "dephase_strength_double = 0.0033\n",
    "#leave these so we don't have to modify the code\n",
    "# depol_strength = 0.00035\n",
    "# dephase_strength = 0.00035\n",
    "noise_kind = \"gate\"\n",
    "depol_strength = 0.015\n",
    "dephase_strength = 0.015"
   ]
  },
  {
   "cell_type": "code",
   "execution_count": null,
   "metadata": {},
   "outputs": [],
   "source": [
    "global_logger(UnbufferedLogger(stdout,MainInfo))\n",
    "#CPA system\n",
    "nq = 9 #20\n",
    "steps = 5 #8\n",
    "sigma_star = pi/20\n",
    "T = 0.5\n",
    "sigma_h = 0.01:0.135:1.51 #0.135\n",
    "h = sigma_h*steps/(2*T)\n",
    "sigma_J = 0.01:0.135:1.51  #0 to pi/2 #to take expecation val for MSE\n",
    "\n",
    "min_abs_coeff = 1e-10;\n",
    "min_abs_coeff_exact =1e-12;\n",
    "min_abs_coeff_noisy = min_abs_coeff; #also taken as truncation for noisy target circuit\n",
    "num_samples = 10\n",
    "\n",
    "MSE_loose_CPA_exp_list = []\n",
    "MSE_loose_CPA_ind_list = []\n",
    "MSE_loose_small_exp_list = []\n",
    "MSE_loose_small_ind_list = []\n",
    "MSE_noise_exp_list = []\n",
    "MSE_noise_ind_list = []\n",
    "MSE_strict_CPA_exp_list = []\n",
    "MSE_strict_CPA_ind_list = []\n",
    "MSE_strict_small_exp_list = []\n",
    "MSE_strict_small_ind_list = []\n",
    "MSE_brut_exp_list = []\n",
    "MSE_brut_ind_list = []\n",
    "\n",
    "\n",
    "function run_method(trotter, training_set,sigma_star, noise_kind, min_abs_coeff, min_abs_coeff_noisy; num_samples=10, depol_strength=0.01, dephase_strength=0.01, depol_strength_double=0.0033, dephase_strength_double=0.0033)\n",
    "    exact_expval_target, noisy_expval_target, corr_energy, rel_error_before, rel_error_after = full_run(trotter, sigma_star, noise_kind, min_abs_coeff, min_abs_coeff_noisy; observable = obs_magnetization(trotter), training_set = training_set, depol_strength=depol_strength, dephase_strength=dephase_strength,depol_strength_double = depol_strength_double, dephase_strength_double = dephase_strength_double);    \n",
    "    MSE_ind = (exact_expval_target - corr_energy)^2\n",
    "    return MSE_ind\n",
    "end\n",
    "\n",
    "for sig_h in sigma_h \n",
    "    h = sig_h*steps/(2*T)\n",
    "    for sig_J in sigma_J\n",
    "        J = -sig_J*steps/(2*T)\n",
    "        trotter = trotter_setup(nq, steps, T, J, h);\n",
    "        training_set = training_set_generation_loose_perturbation(trotter, sigma_star; sample_function = \"CPA\", num_samples = num_samples);\n",
    "        exact_expval_target, noisy_expval_target, corr_energy, rel_error_before, rel_error_after = full_run(trotter, sigma_star, noise_kind, min_abs_coeff, min_abs_coeff_noisy; observable = obs_magnetization(trotter), training_set = training_set, depol_strength=depol_strength, dephase_strength=dephase_strength, depol_strength_double=depol_strength_double, dephase_strength_double=dephase_strength_double);\n",
    "        MSE_ind = (exact_expval_target - corr_energy)^2\n",
    "        push!(MSE_loose_CPA_ind_list, MSE_ind)\n",
    "\n",
    "        MSE_noise = (exact_expval_target - noisy_expval_target)^2\n",
    "        push!(MSE_noise_ind_list, MSE_noise)\n",
    "\n",
    "        training_set = training_set_generation_loose_perturbation(trotter, sigma_star; sample_function = \"small\", num_samples = num_samples);\n",
    "        MSE_ind = run_method(trotter, training_set, sigma_star, noise_kind, min_abs_coeff, min_abs_coeff_noisy; num_samples=num_samples, depol_strength=depol_strength, dephase_strength=dephase_strength, depol_strength_double=depol_strength_double, dephase_strength_double=dephase_strength_double)\n",
    "        push!(MSE_loose_small_ind_list, MSE_ind)\n",
    "\n",
    "        training_set = training_set_generation_strict_perturbation(trotter, sigma_star; sample_function = \"CPA\", num_samples = num_samples);\n",
    "        MSE_ind = run_method(trotter, training_set, sigma_star, noise_kind, min_abs_coeff, min_abs_coeff_noisy; num_samples=num_samples, depol_strength=depol_strength, dephase_strength=dephase_strength, depol_strength_double=depol_strength_double, dephase_strength_double=dephase_strength_double)\n",
    "        push!(MSE_strict_CPA_ind_list, MSE_ind)\n",
    "        \n",
    "        training_set = training_set_generation_strict_perturbation(trotter, sigma_star; sample_function = \"small\", num_samples = num_samples);\n",
    "        MSE_ind = run_method(trotter, training_set, sigma_star, noise_kind, min_abs_coeff, min_abs_coeff_noisy; num_samples=num_samples, depol_strength=depol_strength, dephase_strength=dephase_strength, depol_strength_double=depol_strength_double, dephase_strength_double=dephase_strength_double)\n",
    "        push!(MSE_strict_small_ind_list, MSE_ind)\n",
    "\n",
    "        training_set = training_set_generation_brut(trotter, sigma_star; num_samples = num_samples, non_replaced_gates=30);\n",
    "        MSE_ind = run_method(trotter, training_set, sigma_star, noise_kind, min_abs_coeff, min_abs_coeff_noisy; num_samples=num_samples, depol_strength=depol_strength, dephase_strength=dephase_strength, depol_strength_double=depol_strength_double, dephase_strength_double=dephase_strength_double)\n",
    "        push!(MSE_brut_ind_list, MSE_ind)\n",
    "\n",
    "    end\n",
    "\n",
    "    push!(MSE_loose_CPA_exp_list, MSE_loose_CPA_ind_list)\n",
    "    push!(MSE_loose_small_exp_list, MSE_loose_small_ind_list)\n",
    "    push!(MSE_strict_CPA_exp_list, MSE_strict_CPA_ind_list)\n",
    "    push!(MSE_strict_small_exp_list, MSE_strict_small_ind_list)\n",
    "    push!(MSE_brut_exp_list, MSE_brut_ind_list)\n",
    "    push!(MSE_noise_exp_list, MSE_noise_ind_list)\n",
    "\n",
    "    MSE_loose_CPA_ind_list = []\n",
    "    MSE_loose_small_ind_list = []\n",
    "    MSE_strict_CPA_ind_list = []\n",
    "    MSE_strict_small_ind_list = []\n",
    "    MSE_brut_ind_list = []\n",
    "    MSE_noise_ind_list = []\n",
    "end\n",
    "MSE_loose_CPA_fig_a = []\n",
    "MSE_loose_small_fig_a = []\n",
    "MSE_strict_CPA_fig_a = []\n",
    "MSE_strict_small_fig_a = []\n",
    "MSE_brut_fig_a = []\n",
    "MSE_noise_fig_a = []\n",
    "\n",
    "for i in MSE_loose_CPA_exp_list\n",
    "    MSE = mean(i)\n",
    "    push!(MSE_loose_CPA_fig_a, MSE)\n",
    "end\n",
    "for i in MSE_loose_small_exp_list\n",
    "    MSE = mean(i)\n",
    "    push!(MSE_loose_small_fig_a, MSE)\n",
    "end\n",
    "for i in MSE_strict_CPA_exp_list\n",
    "    MSE = mean(i)\n",
    "    push!(MSE_strict_CPA_fig_a, MSE)\n",
    "end\n",
    "for i in MSE_strict_small_exp_list\n",
    "    MSE = mean(i)\n",
    "    push!(MSE_strict_small_fig_a, MSE)\n",
    "end\n",
    "for i in MSE_noise_exp_list\n",
    "    MSE = mean(i)\n",
    "    push!(MSE_noise_fig_a, MSE)\n",
    "end\n",
    "for i in MSE_brut_exp_list\n",
    "    MSE = mean(i)\n",
    "    push!(MSE_brut_fig_a, MSE)\n",
    "end"
   ]
  },
  {
   "cell_type": "code",
   "execution_count": null,
   "metadata": {},
   "outputs": [],
   "source": [
    "df = DataFrame( sigma_h = sigma_h,MSE_loose_small = MSE_loose_small_fig_a, MSE_loose_CPA = MSE_loose_CPA_fig_a,  MSE_strict_small = MSE_strict_small_fig_a, MSE_strict_CPA = MSE_strict_CPA_fig_a, MSE_brut = MSE_brut_fig_a, MSE_noise = MSE_noise_fig_a)\n",
    "fn = format(\"data/Fig_4a_noise_type={:>2s}_T={:.2f}_angdef={:.2f}_steps={:n}_nqubits={:n}_nsamples={:n}_minabs={:.2e}_minabsnoisy={:.2e}_depol={:.2e}_dephase={:.2e}.csv\",  \n",
    "noise_kind,T, sigma_star, steps, nq, num_samples, min_abs_coeff, min_abs_coeff_noisy,depol_strength, dephase_strength)\n",
    "CSV.write(fn, df)"
   ]
  },
  {
   "cell_type": "code",
   "execution_count": null,
   "metadata": {},
   "outputs": [],
   "source": [
    "plot(sigma_h, MSE_loose_CPA_fig_a, yscale = :log10,  marker=:x, label=\"MSE loose CPA\")\n",
    "plot!(sigma_h, MSE_loose_small_fig_a, marker=:x, label=\"MSE loose small\")\n",
    "plot!(sigma_h, MSE_noise_fig_a, marker=:x, label=\"MSE noise\")\n",
    "plot!(sigma_h, MSE_strict_CPA_fig_a, marker=:x, label=\"MSE strict CPA\")\n",
    "plot!(sigma_h, MSE_strict_small_fig_a, marker=:x, label=\"MSE strict small\")\n",
    "plot!(sigma_h, MSE_brut_fig_a, marker=:x, label=\"MSE brut\", xlabel=L\"\\theta_h\", ylabel=\"MSE\",legend=:bottomleft,title=\"Fig 4a\")"
   ]
  },
  {
   "cell_type": "markdown",
   "metadata": {},
   "source": [
    "### Fig 4b) / 4d)"
   ]
  },
  {
   "cell_type": "code",
   "execution_count": null,
   "metadata": {},
   "outputs": [],
   "source": [
    "global_logger(UnbufferedLogger(stdout,1000))\n",
    "#CPA system\n",
    "nq = 20\n",
    "steps = 8\n",
    "sigma_star = pi/20\n",
    "T = 0.5\n",
    "sigma_h = 0.01:0.51:1.51 #0.135\n",
    "h = sigma_h*steps/(2*T)\n",
    "sigma_J = 0.01:0.135:1.51  #0 to pi/2 #to take expecation val for MSE\n",
    "min_abs_coeff = 1e-10;\n",
    "min_abs_coeff_noisy = min_abs_coeff;\n",
    "num_samples = 10\n",
    "\n",
    "MSE_loose_CPA_exp_list = []\n",
    "MSE_loose_CPA_ind_list = []\n",
    "MSE_loose_small_exp_list = []\n",
    "MSE_loose_small_ind_list = []\n",
    "MSE_noise_exp_list = []\n",
    "MSE_noise_ind_list = []\n",
    "MSE_strict_CPA_exp_list = []\n",
    "MSE_strict_CPA_ind_list = []\n",
    "MSE_strict_small_exp_list = []\n",
    "MSE_strict_small_ind_list = []\n",
    "MSE_brut_exp_list = []\n",
    "MSE_brut_ind_list = []\n",
    "\n",
    "for sig_J in sigma_J \n",
    "    J = -sig_J*steps/(2*T)\n",
    "    for sig_h in sigma_h\n",
    "        h = sig_h*steps/(2*T)\n",
    "        \n",
    "        trotter = trotter_setup(nq, steps, T, J, h);\n",
    "        training_set = training_set_generation_loose_perturbation(trotter, sigma_star; sample_function = \"CPA\", num_samples = num_samples);\n",
    "        exact_expval_target, noisy_expval_target, corr_energy, rel_error_before, rel_error_after = full_run(trotter, sigma_star, noise_kind, min_abs_coeff, min_abs_coeff_noisy; observable = obs_magnetization(trotter), training_set = training_set, depol_strength=depol_strength, dephase_strength=dephase_strength, depol_strength_double=depol_strength_double, dephase_strength_double=dephase_strength_double);\n",
    "        MSE_ind = (exact_expval_target - corr_energy)^2\n",
    "        push!(MSE_loose_CPA_ind_list, MSE_ind)\n",
    "\n",
    "        MSE_noise = (exact_expval_target - noisy_expval_target)^2\n",
    "        push!(MSE_noise_ind_list, MSE_noise)\n",
    "\n",
    "        training_set = training_set_generation_loose_perturbation(trotter, sigma_star; sample_function = \"small\", num_samples = num_samples);\n",
    "        MSE_ind = run_method(trotter, training_set, sigma_star, noise_kind, min_abs_coeff, min_abs_coeff_noisy; num_samples=num_samples, depol_strength=depol_strength, dephase_strength=dephase_strength, depol_strength_double=depol_strength_double, dephase_strength_double=dephase_strength_double)\n",
    "        push!(MSE_loose_small_ind_list, MSE_ind)\n",
    "\n",
    "        training_set = training_set_generation_strict_perturbation(trotter, sigma_star; sample_function = \"CPA\", num_samples = num_samples);\n",
    "        MSE_ind = run_method(trotter, training_set, sigma_star, noise_kind, min_abs_coeff, min_abs_coeff_noisy; num_samples=num_samples, depol_strength=depol_strength, dephase_strength=dephase_strength, depol_strength_double=depol_strength_double, dephase_strength_double=dephase_strength_double)\n",
    "        push!(MSE_strict_CPA_ind_list, MSE_ind)\n",
    "        \n",
    "        training_set = training_set_generation_strict_perturbation(trotter, sigma_star; sample_function = \"small\", num_samples = num_samples);\n",
    "        MSE_ind = run_method(trotter, training_set, sigma_star, noise_kind, min_abs_coeff, min_abs_coeff_noisy; num_samples=num_samples, depol_strength=depol_strength, dephase_strength=dephase_strength, depol_strength_double=depol_strength_double, dephase_strength_double=dephase_strength_double)\n",
    "        push!(MSE_strict_small_ind_list, MSE_ind)\n",
    "\n",
    "        training_set = training_set_generation_brut(trotter, sigma_star; num_samples = num_samples, non_replaced_gates=30);\n",
    "        MSE_ind = run_method(trotter, training_set, sigma_star, noise_kind, min_abs_coeff, min_abs_coeff_noisy; num_samples=num_samples, depol_strength=depol_strength, dephase_strength=dephase_strength, depol_strength_double=depol_strength_double, dephase_strength_double=dephase_strength_double)\n",
    "        push!(MSE_brut_ind_list, MSE_ind)\n",
    "\n",
    "    end\n",
    "\n",
    "    push!(MSE_loose_CPA_exp_list, MSE_loose_CPA_ind_list)\n",
    "    push!(MSE_loose_small_exp_list, MSE_loose_small_ind_list)\n",
    "    push!(MSE_strict_CPA_exp_list, MSE_strict_CPA_ind_list)\n",
    "    push!(MSE_strict_small_exp_list, MSE_strict_small_ind_list)\n",
    "    push!(MSE_brut_exp_list, MSE_brut_ind_list)\n",
    "    push!(MSE_noise_exp_list, MSE_noise_ind_list)\n",
    "\n",
    "    MSE_loose_CPA_ind_list = []\n",
    "    MSE_loose_small_ind_list = []\n",
    "    MSE_strict_CPA_ind_list = []\n",
    "    MSE_strict_small_ind_list = []\n",
    "    MSE_brut_ind_list = []\n",
    "    MSE_noise_ind_list = []\n",
    "end\n",
    "MSE_loose_CPA_fig_b = []\n",
    "MSE_loose_small_fig_b = []\n",
    "MSE_strict_CPA_fig_b = []\n",
    "MSE_strict_small_fig_b = []\n",
    "MSE_brut_fig_b = []\n",
    "MSE_noise_fig_b = []\n",
    "\n",
    "for i in MSE_loose_CPA_exp_list\n",
    "    MSE = mean(i)\n",
    "    push!(MSE_loose_CPA_fig_b, MSE)\n",
    "end\n",
    "for i in MSE_loose_small_exp_list\n",
    "    MSE = mean(i)\n",
    "    push!(MSE_loose_small_fig_b, MSE)\n",
    "end\n",
    "for i in MSE_strict_CPA_exp_list\n",
    "    MSE = mean(i)\n",
    "    push!(MSE_strict_CPA_fig_b, MSE)\n",
    "end\n",
    "for i in MSE_strict_small_exp_list\n",
    "    MSE = mean(i)\n",
    "    push!(MSE_strict_small_fig_b, MSE)\n",
    "end\n",
    "for i in MSE_noise_exp_list\n",
    "    MSE = mean(i)\n",
    "    push!(MSE_noise_fig_b, MSE)\n",
    "end\n",
    "for i in MSE_brut_exp_list\n",
    "    MSE = mean(i)\n",
    "    push!(MSE_brut_fig_b, MSE)\n",
    "end"
   ]
  },
  {
   "cell_type": "code",
   "execution_count": null,
   "metadata": {},
   "outputs": [],
   "source": [
    "plot(sigma_J, MSE_loose_CPA_fig_b, yscale = :log10,  marker=:x, label=\"MSE loose CPA\")\n",
    "plot!(sigma_J, MSE_loose_small_fig_b, marker=:x, label=\"MSE loose small\")\n",
    "plot!(sigma_J, MSE_noise_fig_b, marker=:x, label=\"MSE noise\")\n",
    "plot!(sigma_J, MSE_strict_CPA_fig_b, marker=:x, label=\"MSE strict CPA\")\n",
    "plot!(sigma_J, MSE_strict_small_fig_b, marker=:x, label=\"MSE strict small\")\n",
    "plot!(sigma_J, MSE_brut_fig_b, marker=:x, label=\"MSE brut\", xlabel=L\"\\theta_J\", ylabel=\"MSE\",legend=:bottomright, title = \"Fig 4b\")"
   ]
  },
  {
   "cell_type": "code",
   "execution_count": null,
   "metadata": {},
   "outputs": [],
   "source": [
    "df = DataFrame( sigma_J = sigma_J,MSE_loose_small = MSE_loose_small_fig_b, MSE_loose_CPA = MSE_loose_CPA_fig_b,  MSE_strict_small = MSE_strict_small_fig_b, MSE_strict_CPA = MSE_strict_CPA_fig_b, MSE_brut = MSE_brut_fig_b, MSE_noise = MSE_noise_fig_b)\n",
    "fn = format(\"data/Fig_4b_noise_type={:>2s}_T={:.2f}_angdef={:.2f}_steps={:n}_nqubits={:n}_nsamples={:n}_minabs={:.2e}_minabsnoisy={:.2e}_depol={:.2e}_dephase={:.2e}.csv\",  \n",
    "T, sigma_star, steps, nq, num_samples, min_abs_coeff, min_abs_coeff_noisy,depol_strength, dephase_strength)\n",
    "CSV.write(fn, df)"
   ]
  }
 ],
 "metadata": {
  "kernelspec": {
   "display_name": "Julia 1.11.3",
   "language": "julia",
   "name": "julia-1.11"
  },
  "language_info": {
   "file_extension": ".jl",
   "mimetype": "application/julia",
   "name": "julia",
   "version": "1.11.3"
  }
 },
 "nbformat": 4,
 "nbformat_minor": 2
}
