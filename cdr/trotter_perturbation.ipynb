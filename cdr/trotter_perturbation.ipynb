{
 "cells": [
  {
   "cell_type": "code",
   "execution_count": 97,
   "metadata": {},
   "outputs": [],
   "source": [
    "using PauliPropagation\n",
    "using Random\n",
    "using Optim\n",
    "using Plots\n",
    "Random.seed!(43)\n",
    "using ReverseDiff: GradientTape, gradient!, compile, gradient\n",
    "using LinearAlgebra\n",
    "using StatsBase \n",
    "using GLM\n",
    "using DataFrames\n",
    "using CSV\n",
    "using Format\n",
    "using Logging"
   ]
  },
  {
   "cell_type": "markdown",
   "metadata": {},
   "source": [
    "# CDR for quantum dynamics\n",
    "- TFIM Hamiltonian (constants not site-dependent) evolving with TDSE\n",
    "- discretize the evolution steps and use first-order Trotter decomposition \n",
    "\n",
    "### Idea:\n",
    "- DONE: Run \"exact\" evolution for small trotterized circuit\n",
    "- DONE: Create near-Clifford circuits:replace some gates in Trotterized gate by close Cliffords - no VQA here so this is much simpler, find closest Clifford to the RZZ and to the RX (only have 2 angles in total), replace a portion randomly (no MCMC), keep the parameter of N = non-Cliffords const. st. system remains cl. scalable.\n",
    "- create MWE of CDR within quantum dynamics\n",
    "- which gates ones we replace has influence on the accuracy of the expectation value (principle of causal light cone as seen in vnCDR paper Piotr, is this automatically respected within Heisenberg picture? (backprop observable)), so we can aim to replace only gates that contribute to an expectation value (works only for single-qubit / local observables)\n",
    "- another idea is to try the perturbation approach (all non-Cliffords) \n",
    "\n"
   ]
  },
  {
   "cell_type": "code",
   "execution_count": 98,
   "metadata": {},
   "outputs": [],
   "source": [
    "struct trotter_ansatz\n",
    "    target_circuit::Vector{Gate}\n",
    "    target_circuit_layer::Vector{Gate}\n",
    "    topology::Vector{Tuple{Int64, Int64}}\n",
    "    nqubits::Integer\n",
    "    steps::Integer #layers\n",
    "    time::Integer\n",
    "    J::Float64\n",
    "    h::Float64\n",
    "    sigma_J::Float64\n",
    "    sigma_h::Float64\n",
    "    sigma_J_indices::Vector{Int64}\n",
    "    sigma_h_indices::Vector{Int64}\n",
    "    sigma_J_indices_layer::Vector{Int64}\n",
    "    sigma_h_indices_layer::Vector{Int64}\n",
    "end"
   ]
  },
  {
   "cell_type": "code",
   "execution_count": 99,
   "metadata": {},
   "outputs": [
    {
     "data": {
      "text/plain": [
       "trotter_setup (generic function with 1 method)"
      ]
     },
     "metadata": {},
     "output_type": "display_data"
    }
   ],
   "source": [
    "function trotter_setup(nqubits::Integer, steps::Integer, time::Float64, J::Float64, h::Float64; topology = nothing)\n",
    "    if isnothing(topology)\n",
    "        topology = bricklayertopology(nqubits)\n",
    "    end\n",
    "    target_circuit = tfitrottercircuit(nqubits,steps,topology=topology) #start with RZZ layer\n",
    "    target_circuit_layer = tfitrottercircuit(nqubits,1,topology=topology) #start with RZZ layer\n",
    "    sigma_J = -2*T*J/steps\n",
    "    sigma_h = 2*T*h/steps \n",
    "\n",
    "    sigma_J_indices = getparameterindices(target_circuit, PauliRotation, [:Z,:Z]) \n",
    "    sigma_h_indices = getparameterindices(target_circuit, PauliRotation, [:X])\n",
    "    \n",
    "    sigma_J_indices_layer = getparameterindices(target_circuit_layer, PauliRotation, [:Z,:Z])\n",
    "    sigma_h_indices_layer = getparameterindices(target_circuit_layer, PauliRotation, [:X])\n",
    "    \n",
    "    return trotter_ansatz(target_circuit,target_circuit_layer, topology, nqubits, steps, time, J, h,sigma_J, sigma_h,sigma_J_indices, sigma_h_indices, sigma_J_indices_layer, sigma_h_indices_layer)\n",
    "end"
   ]
  },
  {
   "cell_type": "code",
   "execution_count": 100,
   "metadata": {},
   "outputs": [
    {
     "data": {
      "text/plain": [
       "constrain_params (generic function with 1 method)"
      ]
     },
     "metadata": {},
     "output_type": "display_data"
    }
   ],
   "source": [
    "function constrain_params(ansatz; layer = false)\n",
    "    if !layer\n",
    "        nparams = countparameters(ansatz.target_circuit)\n",
    "        thetas = zeros(nparams)\n",
    "        thetas[ansatz.sigma_h_indices] .= ansatz.sigma_h\n",
    "        thetas[ansatz.sigma_J_indices] .= ansatz.sigma_J\n",
    "    else\n",
    "        nparams = countparameters(ansatz.target_circuit_layer)\n",
    "        thetas = zeros(nparams)\n",
    "        thetas[ansatz.sigma_h_indices_layer] .= ansatz.sigma_h\n",
    "        thetas[ansatz.sigma_J_indices_layer] .= ansatz.sigma_J\n",
    "    end\n",
    "    \n",
    "    return thetas\n",
    "end"
   ]
  },
  {
   "cell_type": "code",
   "execution_count": 101,
   "metadata": {},
   "outputs": [
    {
     "data": {
      "text/plain": [
       "obs_magnetization (generic function with 1 method)"
      ]
     },
     "metadata": {},
     "output_type": "display_data"
    }
   ],
   "source": [
    "function obs_magnetization(ansatz)\n",
    "    magnetization = PauliSum(ansatz.nqubits)\n",
    "    for i in 1:nq\n",
    "        add!(magnetization,:Z,i)\n",
    "    end\n",
    "    magnetization = magnetization/nq\n",
    "    return magnetization\n",
    "end"
   ]
  },
  {
   "cell_type": "code",
   "execution_count": null,
   "metadata": {},
   "outputs": [
    {
     "data": {
      "text/plain": [
       "trotter_time_evolution (generic function with 1 method)"
      ]
     },
     "metadata": {},
     "output_type": "display_data"
    }
   ],
   "source": [
    "function trotter_time_evolution(ansatz; special_theta=nothing, noise_kind=\"noiseless\", record=false, min_abs_coeff=0, depol_strength=0.01, dephase_strength=0.01)\n",
    "\n",
    "    layer = record\n",
    "    if special_theta==nothing\n",
    "        thetas = constrain_params(ansatz,layer=layer)\n",
    "    else\n",
    "        thetas = special_theta\n",
    "    end\n",
    "    obs = obs_magnetization(ansatz)\n",
    "\n",
    "\n",
    "    if noise_kind==\"naive\"\n",
    "        circuit = final_noise_layer_circuit(ansatz; depol_strength, dephase_strength)\n",
    "    elseif noise_kind==\"gate\"\n",
    "        circuit = gate_noise_circuit(ansatz; depol_strength, dephase_strength)\n",
    "    elseif noise_kind==\"noiseless\"\n",
    "        if record\n",
    "            circuit = copy(ansatz.target_circuit_layer)\n",
    "        else\n",
    "            circuit = copy(ansatz.target_circuit)\n",
    "        end\n",
    "    else\n",
    "        error(\"Noise kind $noise_kind unknown.\")\n",
    "    end\n",
    "\n",
    "    if record\n",
    "        expvals_trotter = Float64[]   \n",
    "        push!(expvals_trotter, overlapwithzero(obs))\n",
    "        for i in 1:ansatz.steps\n",
    "            psum = propagate!(circuit, obs, thetas)\n",
    "            push!(expvals_trotter, overlapwithzero(psum))\n",
    "        end\n",
    "        return expvals_trotter  \n",
    "    else \n",
    "        psum = propagate!(circuit,obs,thetas)\n",
    "        return overlapwithzero(psum)\n",
    "    end\n",
    "end"
   ]
  },
  {
   "cell_type": "code",
   "execution_count": 103,
   "metadata": {},
   "outputs": [
    {
     "data": {
      "text/plain": [
       "training_set_generation_brut (generic function with 1 method)"
      ]
     },
     "metadata": {},
     "output_type": "display_data"
    }
   ],
   "source": [
    "function training_set_generation_brut(ansatz::trotter_ansatz, angle_definition::Float64; num_samples::Int = 10, non_cliffs::Int = 30)\n",
    "    nparams = countparameters(ansatz.target_circuit)\n",
    "    cliffs = nparams - non_cliffs\n",
    "    ratio = length(ansatz.sigma_J_indices)/(length(ansatz.sigma_h_indices)+length(ansatz.sigma_J_indices))\n",
    "    num_h = Int(round((1-ratio)*cliffs))\n",
    "    num_J = Int(round(ratio*cliffs))\n",
    "    training_thetas_list = Vector{Vector{Float64}}()\n",
    "    thetas = constrain_params(ansatz)\n",
    "    for _ in 1:num_samples\n",
    "        training_thetas = deepcopy(thetas)\n",
    "        shuffled_sigma_h_indices =  Random.shuffle!(ansatz.sigma_h_indices)\n",
    "        shuffled_sigma_J_indices = Random.shuffle!(ansatz.sigma_J_indices)\n",
    "        selected_indices_h = shuffled_sigma_h_indices[1:num_h]\n",
    "        selected_indices_J = shuffled_sigma_J_indices[1:num_J];   \n",
    "        k_h =round(ansatz.sigma_h/(angle_definition))\n",
    "        k_J =round(ansatz.sigma_J/(angle_definition))\n",
    "\n",
    "        for i in selected_indices_h\n",
    "            training_thetas[i] = k_h*angle_definition\n",
    "        end\n",
    "        for i in selected_indices_J\n",
    "            training_thetas[i] = k_J*angle_definition\n",
    "        end\n",
    "        push!(training_thetas_list, training_thetas)\n",
    "    end\n",
    "    return training_thetas_list\n",
    "end"
   ]
  },
  {
   "cell_type": "code",
   "execution_count": 104,
   "metadata": {},
   "outputs": [
    {
     "data": {
      "text/plain": [
       "training_trotter_time_evolution (generic function with 1 method)"
      ]
     },
     "metadata": {},
     "output_type": "display_data"
    }
   ],
   "source": [
    "function training_trotter_time_evolution(ansatz, training_thetas, noise_kind, min_abs_coeff)\n",
    "    exact_expvals = Vector{Float64}()\n",
    "    for thetas in training_thetas\n",
    "        push!(exact_expvals, trotter_time_evolution(ansatz; special_theta=thetas, noise_kind=noise_kind, min_abs_coeff=min_abs_coeff))\n",
    "    end\n",
    "    return exact_expvals\n",
    "end"
   ]
  },
  {
   "cell_type": "code",
   "execution_count": 105,
   "metadata": {},
   "outputs": [
    {
     "data": {
      "text/plain": [
       "gate_noise_circuit (generic function with 1 method)"
      ]
     },
     "metadata": {},
     "output_type": "display_data"
    }
   ],
   "source": [
    "function final_noise_layer_circuit(ansatz; depol_strength = 0.05, dephase_strength = 0.05)\n",
    "    #to be replaced with a decent noise model\n",
    "    depol_noise_layer = [DepolarizingNoise(qind, depol_strength ) for qind in 1:ansatz.nqubits];\n",
    "    dephase_noise_layer = [DephasingNoise(qind, dephase_strength) for qind in 1:ansatz.nqubits];\n",
    "    noisy_circuit = deepcopy(ansatz.target_circuit)\n",
    "    append!(noisy_circuit,depol_noise_layer)\n",
    "    append!(noisy_circuit,dephase_noise_layer)\n",
    "\n",
    "    return noisy_circuit\n",
    "end\n",
    "\n",
    "function gate_noise_circuit(ansatz;depol_strength =0.01, dephase_strength = 0.01, topology=nothing, start_with_ZZ=true)\n",
    "    circuit::Vector{Gate} = []\n",
    "\n",
    "    topology = ansatz.topology\n",
    "    if isnothing(topology)\n",
    "        topology = bricklayertopology(ansatz.nqubits)\n",
    "    end\n",
    "\n",
    "    # the function after this expects a circuit with at least one layer and will always append something\n",
    "    if ansatz.steps == 0\n",
    "        return circuit\n",
    "    end\n",
    "\n",
    "    depol_noise_layer = [DepolarizingNoise(qind, depol_strength ) for qind in 1:ansatz.nqubits];\n",
    "    phase_damp_layer = [DephasingNoise(qind, dephase_strength) for qind in 1:ansatz.nqubits];\n",
    "\n",
    "    if start_with_ZZ\n",
    "        rzzlayer!(circuit, ansatz.topology)\n",
    "        append!(circuit,depol_noise_layer)\n",
    "        append!(circuit,phase_damp_layer)\n",
    "    end\n",
    "\n",
    "    for _ in 1:ansatz.steps-1\n",
    "        rxlayer!(circuit, ansatz.nqubits)\n",
    "        append!(circuit,depol_noise_layer)\n",
    "        append!(circuit,phase_damp_layer)\n",
    "        rzzlayer!(circuit, ansatz.topology)\n",
    "        append!(circuit,depol_noise_layer)\n",
    "        append!(circuit,phase_damp_layer)\n",
    "    end\n",
    "\n",
    "    rxlayer!(circuit, ansatz.nqubits)\n",
    "    append!(circuit,depol_noise_layer)\n",
    "    append!(circuit,phase_damp_layer)\n",
    "\n",
    "    if !start_with_ZZ\n",
    "        rzzlayer!(circuit, ansatz.topology)\n",
    "        append!(circuit,depol_noise_layer)\n",
    "        append!(circuit,phase_damp_layer)\n",
    "    end\n",
    "\n",
    "    return circuit\n",
    "end"
   ]
  },
  {
   "cell_type": "code",
   "execution_count": 106,
   "metadata": {},
   "outputs": [],
   "source": [
    "# function noisy_time_evolution_brut(ansatz, exact_training_thetas, min_abs_coeff=0, noise_kind=\"naive\"; depol_strength = 0.05, dephase_strength = 0.05)\n",
    "#     noisy_expvals = Vector{Float64}()\n",
    "\n",
    "#     if noise_kind==\"naive\"\n",
    "#         noisy_circuit = final_noise_layer_circuit(ansatz; depol_strength, dephase_strength)\n",
    "#     elseif noise_kind==\"gate\"\n",
    "#         noisy_circuit = gate_noise_circuit(ansatz; depol_strength, dephase_strength)\n",
    "#     else\n",
    "#         error(\"Noise kind $noise_kind unknown.\")\n",
    "#     end\n",
    "\n",
    "#     for i in 1:length(exact_training_thetas)\n",
    "#         obs = obs_magnetization(ansatz)\n",
    "#         thetas = exact_training_thetas[i]\n",
    "#         psum = propagate(noisy_circuit,obs,thetas; min_abs_coeff=min_abs_coeff)\n",
    "#         push!(noisy_expvals, overlapwithzero(psum))\n",
    "#     end\n",
    "\n",
    "#     return noisy_expvals\n",
    "# end"
   ]
  },
  {
   "cell_type": "markdown",
   "metadata": {},
   "source": [
    "### Exact evolution of a small trotterized circuit (see CPDR p.7)"
   ]
  },
  {
   "cell_type": "code",
   "execution_count": 107,
   "metadata": {},
   "outputs": [],
   "source": [
    "# nq = 32\n",
    "# steps = 10\n",
    "# T = 1.0\n",
    "# J = 5.0 #J > 0 in ferromagnetic phase, J < 0 in antiferromagnetic phase\n",
    "# h = 1.0 #abs(h) < abs(J) in ordered phase\n",
    "# trotter = trotter_setup(nq, steps, T, J, h);\n",
    "\n",
    "# min_abs_coeff = 1e-6;\n",
    "# min_abs_coeff_noisy = min_abs_coeff;"
   ]
  },
  {
   "cell_type": "code",
   "execution_count": 108,
   "metadata": {},
   "outputs": [],
   "source": [
    "# exact_expval_target = exact_trotter_time_evolution(trotter) #should be close to one as we stay in FM phase"
   ]
  },
  {
   "cell_type": "code",
   "execution_count": 109,
   "metadata": {},
   "outputs": [],
   "source": [
    "# noisy_expval_target = noisy_time_evolution_brut(trotter, [constrain_params(trotter)], min_abs_coeff_noisy)"
   ]
  },
  {
   "cell_type": "markdown",
   "metadata": {},
   "source": [
    "### Training set generation"
   ]
  },
  {
   "cell_type": "code",
   "execution_count": 110,
   "metadata": {},
   "outputs": [],
   "source": [
    "# num_samples = 10\n",
    "# angle_definition = pi/8\n",
    "# list = training_set_generation_brut(trotter, angle_definition; num_samples = 10, non_cliffs = 30);"
   ]
  },
  {
   "cell_type": "markdown",
   "metadata": {},
   "source": [
    "### Exact time evolution for the training set"
   ]
  },
  {
   "cell_type": "code",
   "execution_count": 111,
   "metadata": {},
   "outputs": [],
   "source": [
    "\n",
    "# exact_expvals = training_exact_time_evolution_brut(trotter,list,min_abs_coeff);"
   ]
  },
  {
   "cell_type": "markdown",
   "metadata": {},
   "source": [
    "### Noisy expectation values\n",
    "- 1 layer of depolarizing and dephasing noise\n",
    "- for more realistic noise model, add after each gate"
   ]
  },
  {
   "cell_type": "code",
   "execution_count": 112,
   "metadata": {},
   "outputs": [],
   "source": [
    "# noisy_expvals = noisy_time_evolution_brut(trotter,list,min_abs_coeff_noisy);"
   ]
  },
  {
   "cell_type": "markdown",
   "metadata": {},
   "source": [
    "### CDR"
   ]
  },
  {
   "cell_type": "code",
   "execution_count": 113,
   "metadata": {},
   "outputs": [
    {
     "data": {
      "text/plain": [
       "cdr (generic function with 1 method)"
      ]
     },
     "metadata": {},
     "output_type": "display_data"
    }
   ],
   "source": [
    "function cdr(noisy_exp_values::Vector{Float64}, exact_exp_values::Vector{Float64}, noisy_target_exp_value::Float64, exact_target_exp_value::Float64)\n",
    "    training_data = DataFrame(x=noisy_exp_values,y=exact_exp_values)\n",
    "    ols = lm(@formula(y ~ x), training_data)\n",
    "    function cdr_em(x)\n",
    "        return  coef(ols)[1] + coef(ols)[2] * x\n",
    "    end\n",
    "    rel_error_after = abs(exact_target_exp_value - cdr_em(noisy_target_exp_value)) / abs(exact_target_exp_value)\n",
    "    rel_error_before = abs(exact_target_exp_value - noisy_target_exp_value) / abs(exact_target_exp_value)\n",
    "    # if verbose\n",
    "    #     println(training_data)\n",
    "    #     println(\"Noisy target expectation value: \", noisy_target_exp_value)\n",
    "    #     println(\"Relative error before CDR: \", rel_error_before)\n",
    "    #     println(\"CDR-EM target expectation value: \", cdr_em(noisy_target_exp_value))\n",
    "    #     println(\"Relative error after CDR: \", rel_error_after)\n",
    "    # end\n",
    "    @debug training_data\n",
    "    @debug \"Noisy target expectation value: \" noisy_target_exp_value\n",
    "    @debug \"Relative error before CDR: \" rel_error_before\n",
    "    @debug \"CDR-EM target expectation value: \" cdr_em(noisy_target_exp_value)\n",
    "    @debug \"Relative error after CDR: \" rel_error_after\n",
    "    return cdr_em(noisy_target_exp_value), rel_error_after, rel_error_before\n",
    "end "
   ]
  },
  {
   "cell_type": "code",
   "execution_count": 114,
   "metadata": {},
   "outputs": [],
   "source": [
    "# corr_energy, rel_error_after, rel_error_before = cdr(noisy_expvals, exact_expvals, noisy_expval_target[1], exact_expval_target; verbose=true)  "
   ]
  },
  {
   "cell_type": "code",
   "execution_count": 115,
   "metadata": {},
   "outputs": [
    {
     "data": {
      "text/plain": [
       "full_run (generic function with 2 methods)"
      ]
     },
     "metadata": {},
     "output_type": "display_data"
    }
   ],
   "source": [
    "\n",
    "function full_run(ansatz, angle_definition, noise_kind, min_abs_coeff, min_abs_coeff_noisy; num_samples=10)\n",
    "    @info \"ready to ruuuuuummmble\"\n",
    "\n",
    "    time1 = time()\n",
    "    exact_expval_target = trotter_time_evolution(ansatz; noise_kind=\"noiseless\") #should be close to one as we stay in FM phase\n",
    "    timetmp1 = time()\n",
    "    @info \"exact_expval_target done in $(round(timetmp1-time1; digits = 2)) s\"\n",
    "\n",
    "    noisy_expval_target = trotter_time_evolution(ansatz; noise_kind=noise_kind)\n",
    "    timetmp2 = time()\n",
    "    @info \"noisy_expval_target done in $(round(timetmp2-timetmp1; digits = 2)) s\"\n",
    "    timetmp1 = timetmp2\n",
    "    \n",
    "    num_samples = 10\n",
    "    angle_definition = pi/8\n",
    "    training_set = training_set_generation_brut(ansatz, angle_definition; num_samples=num_samples, non_cliffs = 30); \n",
    "    timetmp2 = time()\n",
    "    @info \"training_set_generation_brut done in $(round(timetmp2-timetmp1; digits = 2)) s\"\n",
    "    timetmp1 = timetmp2\n",
    "    \n",
    "    \n",
    "    exact_expvals = training_trotter_time_evolution(ansatz, training_set, \"noiseless\", min_abs_coeff);\n",
    "    timetmp2 = time()\n",
    "    @info \"training_exact_time_evolution_brut done in  $(round(timetmp2-timetmp1; digits = 2)) s\"\n",
    "    timetmp1 = timetmp2\n",
    "    \n",
    "    noisy_expvals = training_trotter_time_evolution(ansatz, training_set, noise_kind, min_abs_coeff_noisy);\n",
    "    timetmp2 = time()\n",
    "    @info \"noisy_time_evolution_brut done in  $(round(timetmp2-timetmp1; digits = 2)) s\"\n",
    "    timetmp1 = timetmp2\n",
    "    \n",
    "    corr_energy, rel_error_after, rel_error_before = cdr(noisy_expvals, exact_expvals, noisy_expval_target[1], exact_expval_target)  \n",
    "    timetmp2 = time()\n",
    "    @info \"cdr done in  $(round(timetmp2-timetmp1; digits = 2)) s\"\n",
    "\n",
    "    printfmt(\"nq={} noise={} total run done in {:.2f} s\\n\", nq, noise_kind, timetmp2-time1)\n",
    "\n",
    "    # open file in append mode \n",
    "    if noise_kind==\"naive\"\n",
    "        log = open(\"trotter_brut_naive.log\", \"a\")  \n",
    "    elseif noise_kind==\"gate\"\n",
    "        log = open(\"trotter_brut_gate.log\", \"a\")\n",
    "    else\n",
    "        error(\"Noise kind $noise_kind unknown.\")\n",
    "    end\n",
    "    str = format(\"{:>5n} {:>5n} {:>6.2e} {:>10.2e} {:>10.2e} {:>10.2e} {:>10.2e} {:>10.2e} {:>10.2e} {:>10.2e} {:>10.2e} {:>10.2e} {:>10.2e}\\n\", nq, steps, T, J, h, angle_definition, min_abs_coeff, min_abs_coeff_noisy, exact_expval_target, noisy_expval_target[1], rel_error_before, rel_error_after, timetmp2-time1);\n",
    "    # writing to a file using write() method  \n",
    "    write(log, str)  \n",
    "        \n",
    "    # We need to close the file in order to write the content from the disk to file  \n",
    "    close(log)\n",
    "    return exact_expval_target, noisy_expval_target[1], corr_energy, rel_error_before, rel_error_after\n",
    "end"
   ]
  },
  {
   "cell_type": "code",
   "execution_count": 116,
   "metadata": {},
   "outputs": [
    {
     "name": "stdout",
     "output_type": "stream",
     "text": [
      "[Info] ready to ruuuuuummmble\n",
      "[Info] exact_expval_target done in 0.08 s\n",
      "[Info] noisy_expval_target done in 0.25 s\n",
      "[Info] training_set_generation_brut done in 0.0 s\n",
      "[Info] training_exact_time_evolution_brut done in  1.34 s\n",
      "[Info] noisy_time_evolution_brut done in  4.73 s\n",
      "[Info] cdr done in  0.01 s\n",
      "nq=8 noise=gate total run done in 6.41 s\n"
     ]
    },
    {
     "data": {
      "text/plain": [
       "(0.9578665548250215, 0.7295983642404753, 1.0928597514490477, 0.2383089684410634, 0.1409311098127715)"
      ]
     },
     "metadata": {},
     "output_type": "display_data"
    }
   ],
   "source": [
    "# infologger = ConsoleLogger(stderr, Logging.Info)\n",
    "# global_logger(infologger)\n",
    "\n",
    "struct UnbufferedLogger <: Logging.AbstractLogger\n",
    "    stream::IO\n",
    "    level::Logging.LogLevel\n",
    "end\n",
    "\n",
    "Logging.min_enabled_level(logger::UnbufferedLogger) = logger.level\n",
    "Logging.shouldlog(logger::UnbufferedLogger, level, _module, group, id) = level ≥ logger.level\n",
    "Logging.catch_exceptions(::UnbufferedLogger) = true\n",
    "\n",
    "function Logging.handle_message(logger::UnbufferedLogger, level, message, _module, group, id, file, line)\n",
    "    print(logger.stream, \"[$level] \", message, \"\\n\")  # Include log level\n",
    "    flush(logger.stream)  # Ensure immediate output\n",
    "end\n",
    "\n",
    "# Set the unbuffered logger globally\n",
    "global_logger(UnbufferedLogger(stdout, Logging.Info))\n",
    "\n",
    "\n",
    "nq = 8\n",
    "steps = 10\n",
    "angle_definition = pi/8\n",
    "T = 1.\n",
    "J = 5.0 #J > 0 in ferromagnetic phase, J < 0 in antiferromagnetic phase\n",
    "h = 1.0 #abs(h) < abs(J) in ordered phase\n",
    "# J = 1.0 #J > 0 in ferromagnetic phase, J < 0 in antiferromagnetic phase\n",
    "# h = -2.0 #abs(h) < abs(J) in ordered phase\n",
    "trotter = trotter_setup(nq, steps, T, J, h);\n",
    "\n",
    "noise_kind = \"gate\"\n",
    "min_abs_coeff = 1e-10;\n",
    "min_abs_coeff_noisy = min_abs_coeff;\n",
    "\n",
    "# with_logger(infologger) do\n",
    "#     full_run(nq, steps, angle_definition, T, J, h, trotter, noise_kind, min_abs_coeff, min_abs_coeff_noisy)\n",
    "# end\n",
    "full_run(trotter, angle_definition, noise_kind, min_abs_coeff, min_abs_coeff_noisy)\n"
   ]
  },
  {
   "cell_type": "code",
   "execution_count": 89,
   "metadata": {},
   "outputs": [
    {
     "name": "stdout",
     "output_type": "stream",
     "text": [
      "[Info] ready to ruuuuuummmble\n",
      "[Info] exact_expval_target done in 0.01 s\n",
      "[Info] noisy_expval_target done in 0.02 s\n",
      "[Info] training_set_generation_brut done in 0.0 s\n",
      "[Info] training_exact_time_evolution_brut done in  0.08 s\n",
      "[Info] noisy_time_evolution_brut done in  0.18 s\n",
      "[Info] cdr done in  0.0 s\n",
      "nq=6 noise=gate total run done in 0.29 s\n",
      "[Info] ready to ruuuuuummmble\n",
      "[Info] exact_expval_target done in 0.01 s\n",
      "[Info] noisy_expval_target done in 0.02 s\n",
      "[Info] training_set_generation_brut done in 0.0 s\n",
      "[Info] training_exact_time_evolution_brut done in  0.08 s\n",
      "[Info] noisy_time_evolution_brut done in  0.19 s\n",
      "[Info] cdr done in  0.0 s\n",
      "nq=6 noise=gate total run done in 0.29 s\n",
      "[Info] ready to ruuuuuummmble\n",
      "[Info] exact_expval_target done in 0.01 s\n",
      "[Info] noisy_expval_target done in 0.02 s\n",
      "[Info] training_set_generation_brut done in 0.0 s\n",
      "[Info] training_exact_time_evolution_brut done in  0.08 s\n",
      "[Info] noisy_time_evolution_brut done in  0.18 s\n",
      "[Info] cdr done in  0.0 s\n",
      "nq=6 noise=gate total run done in 0.29 s\n",
      "[Info] ready to ruuuuuummmble\n",
      "[Info] exact_expval_target done in 0.01 s\n",
      "[Info] noisy_expval_target done in 0.02 s\n",
      "[Info] training_set_generation_brut done in 0.0 s\n",
      "[Info] training_exact_time_evolution_brut done in  0.08 s\n",
      "[Info] noisy_time_evolution_brut done in  0.18 s\n",
      "[Info] cdr done in  0.0 s\n",
      "nq=6 noise=gate total run done in 0.29 s\n",
      "[Info] ready to ruuuuuummmble\n",
      "[Info] exact_expval_target done in 0.01 s\n",
      "[Info] noisy_expval_target done in 0.02 s\n",
      "[Info] training_set_generation_brut done in 0.0 s\n",
      "[Info] training_exact_time_evolution_brut done in  0.08 s\n",
      "[Info] noisy_time_evolution_brut done in  0.18 s\n",
      "[Info] cdr done in  0.0 s\n",
      "nq=6 noise=gate total run done in 0.29 s\n",
      "[Info] ready to ruuuuuummmble\n",
      "[Info] exact_expval_target done in 0.01 s\n",
      "[Info] noisy_expval_target done in 0.02 s\n",
      "[Info] training_set_generation_brut done in 0.0 s\n",
      "[Info] training_exact_time_evolution_brut done in  0.08 s\n",
      "[Info] noisy_time_evolution_brut done in  0.18 s\n",
      "[Info] cdr done in  0.0 s\n",
      "nq=6 noise=gate total run done in 0.29 s\n",
      "[Info] ready to ruuuuuummmble\n",
      "[Info] exact_expval_target done in 0.01 s\n",
      "[Info] noisy_expval_target done in 0.02 s\n",
      "[Info] training_set_generation_brut done in 0.0 s\n",
      "[Info] training_exact_time_evolution_brut done in  0.08 s\n",
      "[Info] noisy_time_evolution_brut done in  0.18 s\n",
      "[Info] cdr done in  0.0 s\n",
      "nq=6 noise=gate total run done in 0.29 s\n",
      "[Info] ready to ruuuuuummmble\n",
      "[Info] exact_expval_target done in 0.01 s\n",
      "[Info] noisy_expval_target done in 0.02 s\n",
      "[Info] training_set_generation_brut done in 0.0 s\n",
      "[Info] training_exact_time_evolution_brut done in  0.08 s\n",
      "[Info] noisy_time_evolution_brut done in  0.18 s\n",
      "[Info] cdr done in  0.0 s\n",
      "nq=6 noise=gate total run done in 0.29 s\n",
      "[Info] ready to ruuuuuummmble\n",
      "[Info] exact_expval_target done in 0.01 s\n",
      "[Info] noisy_expval_target done in 0.02 s\n",
      "[Info] training_set_generation_brut done in 0.0 s\n",
      "[Info] training_exact_time_evolution_brut done in  0.08 s\n",
      "[Info] noisy_time_evolution_brut done in  0.18 s\n",
      "[Info] cdr done in  0.0 s\n",
      "nq=6 noise=gate total run done in 0.29 s\n",
      "[Info] ready to ruuuuuummmble\n",
      "[Info] exact_expval_target done in 0.01 s\n",
      "[Info] noisy_expval_target done in 0.02 s\n",
      "[Info] training_set_generation_brut done in 0.0 s\n",
      "[Info] training_exact_time_evolution_brut done in  0.08 s\n",
      "[Info] noisy_time_evolution_brut done in  0.18 s\n",
      "[Info] cdr done in  0.0 s\n",
      "nq=6 noise=gate total run done in 0.29 s\n"
     ]
    }
   ],
   "source": [
    "nqubits = 8\n",
    "steps = 10\n",
    "angle_definition = pi/4\n",
    "T = 1.0\n",
    "J = 5.0 #J > 0 in ferromagnetic phase, J < 0 in antiferromagnetic phase\n",
    "h = 1.0 #abs(h) < abs(J) in ordered phase\n",
    "trotter = trotter_setup(nq, steps, T, J, h);\n",
    "nsamples = 10:10:100\n",
    "\n",
    "noise_kind = \"gate\"\n",
    "min_abs_coeff = 1e-6;\n",
    "min_abs_coeff_noisy = min_abs_coeff;\n",
    "\n",
    "\n",
    "rel_err_ratio_gate = []\n",
    "\n",
    "for nsample=nsamples\n",
    "    \n",
    "    exact_expvals, noisy_expvals, corr_energy, rel_error_before, rel_error_after = full_run(trotter, angle_definition, \"gate\", min_abs_coeff, min_abs_coeff_noisy; num_samples=nsample)\n",
    "    push!(rel_err_ratio_gate, rel_error_before/rel_error_after)\n",
    "\n",
    "end\n",
    "\n"
   ]
  },
  {
   "cell_type": "code",
   "execution_count": 90,
   "metadata": {},
   "outputs": [
    {
     "data": {
      "text/plain": [
       "\"data/J=5.00_h=1.00_T=1.00_angdef=0.79_steps=10_nqubits=8_nsamples_10_to_100_minabs=1.00e-06_minabsnoisy=1.00e-06.csv\""
      ]
     },
     "metadata": {},
     "output_type": "display_data"
    }
   ],
   "source": [
    "df = DataFrame(nqubits = nqubits, rel_err_ratio_gate = rel_err_ratio_gate)\n",
    "fn = format(\"data/J={:.2f}_h={:.2f}_T={:.2f}_angdef={:.2f}_steps={:n}_nqubits={:n}_nsamples_{:n}_to_{:n}_minabs={:.2e}_minabsnoisy={:.2e}.csv\", J, h, T, angle_definition, steps, nqubits, nsamples[1], nsamples[end], min_abs_coeff, min_abs_coeff_noisy)\n",
    "CSV.write(fn, df)"
   ]
  },
  {
   "cell_type": "code",
   "execution_count": 91,
   "metadata": {},
   "outputs": [
    {
     "data": {
      "image/png": "[encoded data removed]",
      "image/svg+xml": [
       "<?xml version=\"1.0\" encoding=\"utf-8\"?>\n",
       "<svg xmlns=\"http://www.w3.org/2000/svg\" xmlns:xlink=\"http://www.w3.org/1999/xlink\" width=\"600\" height=\"400\" viewBox=\"0 0 2400 1600\">\n",
       "<defs>\n",
       "  <clipPath id=\"clip680\">\n",
       "    <rect x=\"0\" y=\"0\" width=\"2400\" height=\"1600\"/>\n",
       "  </clipPath>\n",
       "</defs>\n",
       "<path clip-path=\"url(#clip680)\" d=\"M0 1600 L2400 1600 L2400 0 L0 0  Z\" fill=\"#ffffff\" fill-rule=\"evenodd\" fill-opacity=\"1\"/>\n",
       "<defs>\n",
       "  <clipPath id=\"clip681\">\n",
       "    <rect x=\"480\" y=\"0\" width=\"1681\" height=\"1600\"/>\n",
       "  </clipPath>\n",
       "</defs>\n",
       "<path clip-path=\"url(#clip680)\" d=\"M185.927 1486.45 L2352.76 1486.45 L2352.76 47.2441 L185.927 47.2441  Z\" fill=\"#ffffff\" fill-rule=\"evenodd\" fill-opacity=\"1\"/>\n",
       "<defs>\n",
       "  <clipPath id=\"clip682\">\n",
       "    <rect x=\"185\" y=\"47\" width=\"2168\" height=\"1440\"/>\n",
       "  </clipPath>\n",
       "</defs>\n",
       "<polyline clip-path=\"url(#clip682)\" style=\"stroke:#000000; stroke-linecap:round; stroke-linejoin:round; stroke-width:2; stroke-opacity:0.1; fill:none\" points=\"474.383,1486.45 474.383,47.2441 \"/>\n",
       "<polyline clip-path=\"url(#clip682)\" style=\"stroke:#000000; stroke-linecap:round; stroke-linejoin:round; stroke-width:2; stroke-opacity:0.1; fill:none\" points=\"928.645,1486.45 928.645,47.2441 \"/>\n",
       "<polyline clip-path=\"url(#clip682)\" style=\"stroke:#000000; stroke-linecap:round; stroke-linejoin:round; stroke-width:2; stroke-opacity:0.1; fill:none\" points=\"1382.91,1486.45 1382.91,47.2441 \"/>\n",
       "<polyline clip-path=\"url(#clip682)\" style=\"stroke:#000000; stroke-linecap:round; stroke-linejoin:round; stroke-width:2; stroke-opacity:0.1; fill:none\" points=\"1837.17,1486.45 1837.17,47.2441 \"/>\n",
       "<polyline clip-path=\"url(#clip682)\" style=\"stroke:#000000; stroke-linecap:round; stroke-linejoin:round; stroke-width:2; stroke-opacity:0.1; fill:none\" points=\"2291.43,1486.45 2291.43,47.2441 \"/>\n",
       "<polyline clip-path=\"url(#clip682)\" style=\"stroke:#000000; stroke-linecap:round; stroke-linejoin:round; stroke-width:2; stroke-opacity:0.1; fill:none\" points=\"185.927,1272.35 2352.76,1272.35 \"/>\n",
       "<polyline clip-path=\"url(#clip682)\" style=\"stroke:#000000; stroke-linecap:round; stroke-linejoin:round; stroke-width:2; stroke-opacity:0.1; fill:none\" points=\"185.927,1015.06 2352.76,1015.06 \"/>\n",
       "<polyline clip-path=\"url(#clip682)\" style=\"stroke:#000000; stroke-linecap:round; stroke-linejoin:round; stroke-width:2; stroke-opacity:0.1; fill:none\" points=\"185.927,757.761 2352.76,757.761 \"/>\n",
       "<polyline clip-path=\"url(#clip682)\" style=\"stroke:#000000; stroke-linecap:round; stroke-linejoin:round; stroke-width:2; stroke-opacity:0.1; fill:none\" points=\"185.927,500.466 2352.76,500.466 \"/>\n",
       "<polyline clip-path=\"url(#clip682)\" style=\"stroke:#000000; stroke-linecap:round; stroke-linejoin:round; stroke-width:2; stroke-opacity:0.1; fill:none\" points=\"185.927,243.17 2352.76,243.17 \"/>\n",
       "<polyline clip-path=\"url(#clip680)\" style=\"stroke:#000000; stroke-linecap:round; stroke-linejoin:round; stroke-width:4; stroke-opacity:1; fill:none\" points=\"185.927,1486.45 2352.76,1486.45 \"/>\n",
       "<polyline clip-path=\"url(#clip680)\" style=\"stroke:#000000; stroke-linecap:round; stroke-linejoin:round; stroke-width:4; stroke-opacity:1; fill:none\" points=\"474.383,1486.45 474.383,1467.55 \"/>\n",
       "<polyline clip-path=\"url(#clip680)\" style=\"stroke:#000000; stroke-linecap:round; stroke-linejoin:round; stroke-width:4; stroke-opacity:1; fill:none\" points=\"928.645,1486.45 928.645,1467.55 \"/>\n",
       "<polyline clip-path=\"url(#clip680)\" style=\"stroke:#000000; stroke-linecap:round; stroke-linejoin:round; stroke-width:4; stroke-opacity:1; fill:none\" points=\"1382.91,1486.45 1382.91,1467.55 \"/>\n",
       "<polyline clip-path=\"url(#clip680)\" style=\"stroke:#000000; stroke-linecap:round; stroke-linejoin:round; stroke-width:4; stroke-opacity:1; fill:none\" points=\"1837.17,1486.45 1837.17,1467.55 \"/>\n",
       "<polyline clip-path=\"url(#clip680)\" style=\"stroke:#000000; stroke-linecap:round; stroke-linejoin:round; stroke-width:4; stroke-opacity:1; fill:none\" points=\"2291.43,1486.45 2291.43,1467.55 \"/>\n",
       "<path clip-path=\"url(#clip680)\" d=\"M453.156 1544.91 L469.476 1544.91 L469.476 1548.85 L447.531 1548.85 L447.531 1544.91 Q450.193 1542.16 454.777 1537.53 Q459.383 1532.88 460.564 1531.53 Q462.809 1529.01 463.689 1527.27 Q464.591 1525.51 464.591 1523.82 Q464.591 1521.07 462.647 1519.33 Q460.726 1517.6 457.624 1517.6 Q455.425 1517.6 452.971 1518.36 Q450.541 1519.13 447.763 1520.68 L447.763 1515.95 Q450.587 1514.82 453.041 1514.24 Q455.494 1513.66 457.531 1513.66 Q462.902 1513.66 466.096 1516.35 Q469.291 1519.03 469.291 1523.52 Q469.291 1525.65 468.48 1527.57 Q467.693 1529.47 465.587 1532.07 Q465.008 1532.74 461.906 1535.95 Q458.804 1539.15 453.156 1544.91 Z\" fill=\"#000000\" fill-rule=\"nonzero\" fill-opacity=\"1\" /><path clip-path=\"url(#clip680)\" d=\"M489.29 1517.37 Q485.679 1517.37 483.851 1520.93 Q482.045 1524.47 482.045 1531.6 Q482.045 1538.71 483.851 1542.27 Q485.679 1545.82 489.29 1545.82 Q492.925 1545.82 494.73 1542.27 Q496.559 1538.71 496.559 1531.6 Q496.559 1524.47 494.73 1520.93 Q492.925 1517.37 489.29 1517.37 M489.29 1513.66 Q495.101 1513.66 498.156 1518.27 Q501.235 1522.85 501.235 1531.6 Q501.235 1540.33 498.156 1544.94 Q495.101 1549.52 489.29 1549.52 Q483.48 1549.52 480.402 1544.94 Q477.346 1540.33 477.346 1531.6 Q477.346 1522.85 480.402 1518.27 Q483.48 1513.66 489.29 1513.66 Z\" fill=\"#000000\" fill-rule=\"nonzero\" fill-opacity=\"1\" /><path clip-path=\"url(#clip680)\" d=\"M916.816 1518.36 L905.011 1536.81 L916.816 1536.81 L916.816 1518.36 M915.589 1514.29 L921.469 1514.29 L921.469 1536.81 L926.4 1536.81 L926.4 1540.7 L921.469 1540.7 L921.469 1548.85 L916.816 1548.85 L916.816 1540.7 L901.215 1540.7 L901.215 1536.19 L915.589 1514.29 Z\" fill=\"#000000\" fill-rule=\"nonzero\" fill-opacity=\"1\" /><path clip-path=\"url(#clip680)\" d=\"M944.131 1517.37 Q940.52 1517.37 938.691 1520.93 Q936.886 1524.47 936.886 1531.6 Q936.886 1538.71 938.691 1542.27 Q940.52 1545.82 944.131 1545.82 Q947.765 1545.82 949.571 1542.27 Q951.399 1538.71 951.399 1531.6 Q951.399 1524.47 949.571 1520.93 Q947.765 1517.37 944.131 1517.37 M944.131 1513.66 Q949.941 1513.66 952.997 1518.27 Q956.075 1522.85 956.075 1531.6 Q956.075 1540.33 952.997 1544.94 Q949.941 1549.52 944.131 1549.52 Q938.321 1549.52 935.242 1544.94 Q932.187 1540.33 932.187 1531.6 Q932.187 1522.85 935.242 1518.27 Q938.321 1513.66 944.131 1513.66 Z\" fill=\"#000000\" fill-rule=\"nonzero\" fill-opacity=\"1\" /><path clip-path=\"url(#clip680)\" d=\"M1368.31 1529.7 Q1365.16 1529.7 1363.31 1531.86 Q1361.48 1534.01 1361.48 1537.76 Q1361.48 1541.49 1363.31 1543.66 Q1365.16 1545.82 1368.31 1545.82 Q1371.46 1545.82 1373.29 1543.66 Q1375.14 1541.49 1375.14 1537.76 Q1375.14 1534.01 1373.29 1531.86 Q1371.46 1529.7 1368.31 1529.7 M1377.59 1515.05 L1377.59 1519.31 Q1375.84 1518.48 1374.03 1518.04 Q1372.25 1517.6 1370.49 1517.6 Q1365.86 1517.6 1363.4 1520.72 Q1360.97 1523.85 1360.63 1530.17 Q1361.99 1528.15 1364.05 1527.09 Q1366.11 1526 1368.59 1526 Q1373.8 1526 1376.81 1529.17 Q1379.84 1532.32 1379.84 1537.76 Q1379.84 1543.08 1376.69 1546.3 Q1373.54 1549.52 1368.31 1549.52 Q1362.32 1549.52 1359.15 1544.94 Q1355.97 1540.33 1355.97 1531.6 Q1355.97 1523.41 1359.86 1518.55 Q1363.75 1513.66 1370.3 1513.66 Q1372.06 1513.66 1373.84 1514.01 Q1375.65 1514.36 1377.59 1515.05 Z\" fill=\"#000000\" fill-rule=\"nonzero\" fill-opacity=\"1\" /><path clip-path=\"url(#clip680)\" d=\"M1397.9 1517.37 Q1394.28 1517.37 1392.46 1520.93 Q1390.65 1524.47 1390.65 1531.6 Q1390.65 1538.71 1392.46 1542.27 Q1394.28 1545.82 1397.9 1545.82 Q1401.53 1545.82 1403.33 1542.27 Q1405.16 1538.71 1405.16 1531.6 Q1405.16 1524.47 1403.33 1520.93 Q1401.53 1517.37 1397.9 1517.37 M1397.9 1513.66 Q1403.71 1513.66 1406.76 1518.27 Q1409.84 1522.85 1409.84 1531.6 Q1409.84 1540.33 1406.76 1544.94 Q1403.71 1549.52 1397.9 1549.52 Q1392.09 1549.52 1389.01 1544.94 Q1385.95 1540.33 1385.95 1531.6 Q1385.95 1522.85 1389.01 1518.27 Q1392.09 1513.66 1397.9 1513.66 Z\" fill=\"#000000\" fill-rule=\"nonzero\" fill-opacity=\"1\" /><path clip-path=\"url(#clip680)\" d=\"M1822.04 1532.44 Q1818.71 1532.44 1816.79 1534.22 Q1814.89 1536 1814.89 1539.13 Q1814.89 1542.25 1816.79 1544.03 Q1818.71 1545.82 1822.04 1545.82 Q1825.37 1545.82 1827.3 1544.03 Q1829.22 1542.23 1829.22 1539.13 Q1829.22 1536 1827.3 1534.22 Q1825.4 1532.44 1822.04 1532.44 M1817.37 1530.45 Q1814.36 1529.7 1812.67 1527.64 Q1811 1525.58 1811 1522.62 Q1811 1518.48 1813.94 1516.07 Q1816.9 1513.66 1822.04 1513.66 Q1827.2 1513.66 1830.14 1516.07 Q1833.08 1518.48 1833.08 1522.62 Q1833.08 1525.58 1831.39 1527.64 Q1829.73 1529.7 1826.74 1530.45 Q1830.12 1531.23 1832 1533.52 Q1833.89 1535.82 1833.89 1539.13 Q1833.89 1544.15 1830.81 1546.83 Q1827.76 1549.52 1822.04 1549.52 Q1816.32 1549.52 1813.25 1546.83 Q1810.19 1544.15 1810.19 1539.13 Q1810.19 1535.82 1812.09 1533.52 Q1813.99 1531.23 1817.37 1530.45 M1815.65 1523.06 Q1815.65 1525.75 1817.32 1527.25 Q1819.01 1528.76 1822.04 1528.76 Q1825.05 1528.76 1826.74 1527.25 Q1828.45 1525.75 1828.45 1523.06 Q1828.45 1520.38 1826.74 1518.87 Q1825.05 1517.37 1822.04 1517.37 Q1819.01 1517.37 1817.32 1518.87 Q1815.65 1520.38 1815.65 1523.06 Z\" fill=\"#000000\" fill-rule=\"nonzero\" fill-opacity=\"1\" /><path clip-path=\"url(#clip680)\" d=\"M1852.2 1517.37 Q1848.59 1517.37 1846.76 1520.93 Q1844.96 1524.47 1844.96 1531.6 Q1844.96 1538.71 1846.76 1542.27 Q1848.59 1545.82 1852.2 1545.82 Q1855.84 1545.82 1857.64 1542.27 Q1859.47 1538.71 1859.47 1531.6 Q1859.47 1524.47 1857.64 1520.93 Q1855.84 1517.37 1852.2 1517.37 M1852.2 1513.66 Q1858.01 1513.66 1861.07 1518.27 Q1864.15 1522.85 1864.15 1531.6 Q1864.15 1540.33 1861.07 1544.94 Q1858.01 1549.52 1852.2 1549.52 Q1846.39 1549.52 1843.31 1544.94 Q1840.26 1540.33 1840.26 1531.6 Q1840.26 1522.85 1843.31 1518.27 Q1846.39 1513.66 1852.2 1513.66 Z\" fill=\"#000000\" fill-rule=\"nonzero\" fill-opacity=\"1\" /><path clip-path=\"url(#clip680)\" d=\"M2251.04 1544.91 L2258.68 1544.91 L2258.68 1518.55 L2250.37 1520.21 L2250.37 1515.95 L2258.63 1514.29 L2263.31 1514.29 L2263.31 1544.91 L2270.94 1544.91 L2270.94 1548.85 L2251.04 1548.85 L2251.04 1544.91 Z\" fill=\"#000000\" fill-rule=\"nonzero\" fill-opacity=\"1\" /><path clip-path=\"url(#clip680)\" d=\"M2290.39 1517.37 Q2286.78 1517.37 2284.95 1520.93 Q2283.14 1524.47 2283.14 1531.6 Q2283.14 1538.71 2284.95 1542.27 Q2286.78 1545.82 2290.39 1545.82 Q2294.02 1545.82 2295.83 1542.27 Q2297.66 1538.71 2297.66 1531.6 Q2297.66 1524.47 2295.83 1520.93 Q2294.02 1517.37 2290.39 1517.37 M2290.39 1513.66 Q2296.2 1513.66 2299.25 1518.27 Q2302.33 1522.85 2302.33 1531.6 Q2302.33 1540.33 2299.25 1544.94 Q2296.2 1549.52 2290.39 1549.52 Q2284.58 1549.52 2281.5 1544.94 Q2278.44 1540.33 2278.44 1531.6 Q2278.44 1522.85 2281.5 1518.27 Q2284.58 1513.66 2290.39 1513.66 Z\" fill=\"#000000\" fill-rule=\"nonzero\" fill-opacity=\"1\" /><path clip-path=\"url(#clip680)\" d=\"M2320.55 1517.37 Q2316.94 1517.37 2315.11 1520.93 Q2313.31 1524.47 2313.31 1531.6 Q2313.31 1538.71 2315.11 1542.27 Q2316.94 1545.82 2320.55 1545.82 Q2324.19 1545.82 2325.99 1542.27 Q2327.82 1538.71 2327.82 1531.6 Q2327.82 1524.47 2325.99 1520.93 Q2324.19 1517.37 2320.55 1517.37 M2320.55 1513.66 Q2326.36 1513.66 2329.42 1518.27 Q2332.5 1522.85 2332.5 1531.6 Q2332.5 1540.33 2329.42 1544.94 Q2326.36 1549.52 2320.55 1549.52 Q2314.74 1549.52 2311.66 1544.94 Q2308.61 1540.33 2308.61 1531.6 Q2308.61 1522.85 2311.66 1518.27 Q2314.74 1513.66 2320.55 1513.66 Z\" fill=\"#000000\" fill-rule=\"nonzero\" fill-opacity=\"1\" /><polyline clip-path=\"url(#clip680)\" style=\"stroke:#000000; stroke-linecap:round; stroke-linejoin:round; stroke-width:4; stroke-opacity:1; fill:none\" points=\"185.927,1486.45 185.927,47.2441 \"/>\n",
       "<polyline clip-path=\"url(#clip680)\" style=\"stroke:#000000; stroke-linecap:round; stroke-linejoin:round; stroke-width:4; stroke-opacity:1; fill:none\" points=\"185.927,1272.35 204.824,1272.35 \"/>\n",
       "<polyline clip-path=\"url(#clip680)\" style=\"stroke:#000000; stroke-linecap:round; stroke-linejoin:round; stroke-width:4; stroke-opacity:1; fill:none\" points=\"185.927,1015.06 204.824,1015.06 \"/>\n",
       "<polyline clip-path=\"url(#clip680)\" style=\"stroke:#000000; stroke-linecap:round; stroke-linejoin:round; stroke-width:4; stroke-opacity:1; fill:none\" points=\"185.927,757.761 204.824,757.761 \"/>\n",
       "<polyline clip-path=\"url(#clip680)\" style=\"stroke:#000000; stroke-linecap:round; stroke-linejoin:round; stroke-width:4; stroke-opacity:1; fill:none\" points=\"185.927,500.466 204.824,500.466 \"/>\n",
       "<polyline clip-path=\"url(#clip680)\" style=\"stroke:#000000; stroke-linecap:round; stroke-linejoin:round; stroke-width:4; stroke-opacity:1; fill:none\" points=\"185.927,243.17 204.824,243.17 \"/>\n",
       "<path clip-path=\"url(#clip680)\" d=\"M54.3949 1285.7 L62.0337 1285.7 L62.0337 1259.33 L53.7236 1261 L53.7236 1256.74 L61.9874 1255.07 L66.6633 1255.07 L66.6633 1285.7 L74.3022 1285.7 L74.3022 1289.63 L54.3949 1289.63 L54.3949 1285.7 Z\" fill=\"#000000\" fill-rule=\"nonzero\" fill-opacity=\"1\" /><path clip-path=\"url(#clip680)\" d=\"M83.7466 1283.75 L88.6308 1283.75 L88.6308 1289.63 L83.7466 1289.63 L83.7466 1283.75 Z\" fill=\"#000000\" fill-rule=\"nonzero\" fill-opacity=\"1\" /><path clip-path=\"url(#clip680)\" d=\"M97.6354 1255.07 L119.857 1255.07 L119.857 1257.06 L107.311 1289.63 L102.427 1289.63 L114.233 1259.01 L97.6354 1259.01 L97.6354 1255.07 Z\" fill=\"#000000\" fill-rule=\"nonzero\" fill-opacity=\"1\" /><path clip-path=\"url(#clip680)\" d=\"M129.024 1255.07 L147.38 1255.07 L147.38 1259.01 L133.306 1259.01 L133.306 1267.48 Q134.325 1267.13 135.344 1266.97 Q136.362 1266.78 137.381 1266.78 Q143.168 1266.78 146.547 1269.96 Q149.927 1273.13 149.927 1278.54 Q149.927 1284.12 146.455 1287.22 Q142.982 1290.3 136.663 1290.3 Q134.487 1290.3 132.219 1289.93 Q129.973 1289.56 127.566 1288.82 L127.566 1284.12 Q129.649 1285.26 131.871 1285.81 Q134.094 1286.37 136.57 1286.37 Q140.575 1286.37 142.913 1284.26 Q145.251 1282.15 145.251 1278.54 Q145.251 1274.93 142.913 1272.83 Q140.575 1270.72 136.57 1270.72 Q134.695 1270.72 132.82 1271.14 Q130.969 1271.55 129.024 1272.43 L129.024 1255.07 Z\" fill=\"#000000\" fill-rule=\"nonzero\" fill-opacity=\"1\" /><path clip-path=\"url(#clip680)\" d=\"M56.6171 1028.4 L72.9365 1028.4 L72.9365 1032.34 L50.9921 1032.34 L50.9921 1028.4 Q53.6541 1025.65 58.2375 1021.02 Q62.8439 1016.36 64.0245 1015.02 Q66.2698 1012.5 67.1494 1010.76 Q68.0522 1009 68.0522 1007.31 Q68.0522 1004.56 66.1078 1002.82 Q64.1865 1001.09 61.0847 1001.09 Q58.8856 1001.09 56.4319 1001.85 Q54.0014 1002.61 51.2236 1004.16 L51.2236 999.443 Q54.0477 998.308 56.5014 997.73 Q58.955 997.151 60.9921 997.151 Q66.3624 997.151 69.5568 999.836 Q72.7513 1002.52 72.7513 1007.01 Q72.7513 1009.14 71.9411 1011.06 Q71.1541 1012.96 69.0476 1015.55 Q68.4689 1016.22 65.367 1019.44 Q62.2652 1022.64 56.6171 1028.4 Z\" fill=\"#000000\" fill-rule=\"nonzero\" fill-opacity=\"1\" /><path clip-path=\"url(#clip680)\" d=\"M82.7512 1026.46 L87.6354 1026.46 L87.6354 1032.34 L82.7512 1032.34 L82.7512 1026.46 Z\" fill=\"#000000\" fill-rule=\"nonzero\" fill-opacity=\"1\" /><path clip-path=\"url(#clip680)\" d=\"M107.821 1000.85 Q104.209 1000.85 102.381 1004.42 Q100.575 1007.96 100.575 1015.09 Q100.575 1022.2 102.381 1025.76 Q104.209 1029.3 107.821 1029.3 Q111.455 1029.3 113.26 1025.76 Q115.089 1022.2 115.089 1015.09 Q115.089 1007.96 113.26 1004.42 Q111.455 1000.85 107.821 1000.85 M107.821 997.151 Q113.631 997.151 116.686 1001.76 Q119.765 1006.34 119.765 1015.09 Q119.765 1023.82 116.686 1028.42 Q113.631 1033.01 107.821 1033.01 Q102.01 1033.01 98.9317 1028.42 Q95.8761 1023.82 95.8761 1015.09 Q95.8761 1006.34 98.9317 1001.76 Q102.01 997.151 107.821 997.151 Z\" fill=\"#000000\" fill-rule=\"nonzero\" fill-opacity=\"1\" /><path clip-path=\"url(#clip680)\" d=\"M137.982 1000.85 Q134.371 1000.85 132.543 1004.42 Q130.737 1007.96 130.737 1015.09 Q130.737 1022.2 132.543 1025.76 Q134.371 1029.3 137.982 1029.3 Q141.617 1029.3 143.422 1025.76 Q145.251 1022.2 145.251 1015.09 Q145.251 1007.96 143.422 1004.42 Q141.617 1000.85 137.982 1000.85 M137.982 997.151 Q143.793 997.151 146.848 1001.76 Q149.927 1006.34 149.927 1015.09 Q149.927 1023.82 146.848 1028.42 Q143.793 1033.01 137.982 1033.01 Q132.172 1033.01 129.094 1028.42 Q126.038 1023.82 126.038 1015.09 Q126.038 1006.34 129.094 1001.76 Q132.172 997.151 137.982 997.151 Z\" fill=\"#000000\" fill-rule=\"nonzero\" fill-opacity=\"1\" /><path clip-path=\"url(#clip680)\" d=\"M57.6125 771.106 L73.9318 771.106 L73.9318 775.041 L51.9875 775.041 L51.9875 771.106 Q54.6495 768.351 59.2328 763.721 Q63.8393 759.069 65.0198 757.726 Q67.2652 755.203 68.1448 753.467 Q69.0476 751.708 69.0476 750.018 Q69.0476 747.263 67.1032 745.527 Q65.1819 743.791 62.08 743.791 Q59.881 743.791 57.4273 744.555 Q54.9967 745.319 52.219 746.87 L52.219 742.147 Q55.043 741.013 57.4967 740.434 Q59.9504 739.856 61.9874 739.856 Q67.3578 739.856 70.5522 742.541 Q73.7466 745.226 73.7466 749.717 Q73.7466 751.846 72.9365 753.768 Q72.1494 755.666 70.0429 758.258 Q69.4642 758.93 66.3624 762.147 Q63.2606 765.342 57.6125 771.106 Z\" fill=\"#000000\" fill-rule=\"nonzero\" fill-opacity=\"1\" /><path clip-path=\"url(#clip680)\" d=\"M83.7466 769.161 L88.6308 769.161 L88.6308 775.041 L83.7466 775.041 L83.7466 769.161 Z\" fill=\"#000000\" fill-rule=\"nonzero\" fill-opacity=\"1\" /><path clip-path=\"url(#clip680)\" d=\"M102.844 771.106 L119.163 771.106 L119.163 775.041 L97.2187 775.041 L97.2187 771.106 Q99.8808 768.351 104.464 763.721 Q109.071 759.069 110.251 757.726 Q112.496 755.203 113.376 753.467 Q114.279 751.708 114.279 750.018 Q114.279 747.263 112.334 745.527 Q110.413 743.791 107.311 743.791 Q105.112 743.791 102.659 744.555 Q100.228 745.319 97.4502 746.87 L97.4502 742.147 Q100.274 741.013 102.728 740.434 Q105.182 739.856 107.219 739.856 Q112.589 739.856 115.783 742.541 Q118.978 745.226 118.978 749.717 Q118.978 751.846 118.168 753.768 Q117.381 755.666 115.274 758.258 Q114.695 758.93 111.594 762.147 Q108.492 765.342 102.844 771.106 Z\" fill=\"#000000\" fill-rule=\"nonzero\" fill-opacity=\"1\" /><path clip-path=\"url(#clip680)\" d=\"M129.024 740.481 L147.38 740.481 L147.38 744.416 L133.306 744.416 L133.306 752.888 Q134.325 752.541 135.344 752.379 Q136.362 752.194 137.381 752.194 Q143.168 752.194 146.547 755.365 Q149.927 758.536 149.927 763.953 Q149.927 769.532 146.455 772.633 Q142.982 775.712 136.663 775.712 Q134.487 775.712 132.219 775.342 Q129.973 774.971 127.566 774.231 L127.566 769.532 Q129.649 770.666 131.871 771.221 Q134.094 771.777 136.57 771.777 Q140.575 771.777 142.913 769.67 Q145.251 767.564 145.251 763.953 Q145.251 760.342 142.913 758.235 Q140.575 756.129 136.57 756.129 Q134.695 756.129 132.82 756.546 Q130.969 756.962 129.024 757.842 L129.024 740.481 Z\" fill=\"#000000\" fill-rule=\"nonzero\" fill-opacity=\"1\" /><path clip-path=\"url(#clip680)\" d=\"M56.6171 513.81 L72.9365 513.81 L72.9365 517.746 L50.9921 517.746 L50.9921 513.81 Q53.6541 511.056 58.2375 506.426 Q62.8439 501.774 64.0245 500.431 Q66.2698 497.908 67.1494 496.172 Q68.0522 494.412 68.0522 492.723 Q68.0522 489.968 66.1078 488.232 Q64.1865 486.496 61.0847 486.496 Q58.8856 486.496 56.4319 487.26 Q54.0014 488.024 51.2236 489.574 L51.2236 484.852 Q54.0477 483.718 56.5014 483.139 Q58.955 482.561 60.9921 482.561 Q66.3624 482.561 69.5568 485.246 Q72.7513 487.931 72.7513 492.422 Q72.7513 494.551 71.9411 496.473 Q71.1541 498.371 69.0476 500.963 Q68.4689 501.635 65.367 504.852 Q62.2652 508.047 56.6171 513.81 Z\" fill=\"#000000\" fill-rule=\"nonzero\" fill-opacity=\"1\" /><path clip-path=\"url(#clip680)\" d=\"M82.7512 511.866 L87.6354 511.866 L87.6354 517.746 L82.7512 517.746 L82.7512 511.866 Z\" fill=\"#000000\" fill-rule=\"nonzero\" fill-opacity=\"1\" /><path clip-path=\"url(#clip680)\" d=\"M97.8669 483.186 L116.223 483.186 L116.223 487.121 L102.149 487.121 L102.149 495.593 Q103.168 495.246 104.186 495.084 Q105.205 494.899 106.223 494.899 Q112.01 494.899 115.39 498.07 Q118.77 501.241 118.77 506.658 Q118.77 512.236 115.297 515.338 Q111.825 518.417 105.506 518.417 Q103.33 518.417 101.061 518.047 Q98.8159 517.676 96.4085 516.935 L96.4085 512.236 Q98.4919 513.371 100.714 513.926 Q102.936 514.482 105.413 514.482 Q109.418 514.482 111.756 512.375 Q114.094 510.269 114.094 506.658 Q114.094 503.047 111.756 500.94 Q109.418 498.834 105.413 498.834 Q103.538 498.834 101.663 499.25 Q99.8113 499.667 97.8669 500.547 L97.8669 483.186 Z\" fill=\"#000000\" fill-rule=\"nonzero\" fill-opacity=\"1\" /><path clip-path=\"url(#clip680)\" d=\"M137.982 486.264 Q134.371 486.264 132.543 489.829 Q130.737 493.371 130.737 500.5 Q130.737 507.607 132.543 511.172 Q134.371 514.713 137.982 514.713 Q141.617 514.713 143.422 511.172 Q145.251 507.607 145.251 500.5 Q145.251 493.371 143.422 489.829 Q141.617 486.264 137.982 486.264 M137.982 482.561 Q143.793 482.561 146.848 487.167 Q149.927 491.75 149.927 500.5 Q149.927 509.227 146.848 513.834 Q143.793 518.417 137.982 518.417 Q132.172 518.417 129.094 513.834 Q126.038 509.227 126.038 500.5 Q126.038 491.75 129.094 487.167 Q132.172 482.561 137.982 482.561 Z\" fill=\"#000000\" fill-rule=\"nonzero\" fill-opacity=\"1\" /><path clip-path=\"url(#clip680)\" d=\"M57.6125 256.515 L73.9318 256.515 L73.9318 260.45 L51.9875 260.45 L51.9875 256.515 Q54.6495 253.761 59.2328 249.131 Q63.8393 244.478 65.0198 243.136 Q67.2652 240.613 68.1448 238.877 Q69.0476 237.117 69.0476 235.427 Q69.0476 232.673 67.1032 230.937 Q65.1819 229.201 62.08 229.201 Q59.881 229.201 57.4273 229.965 Q54.9967 230.728 52.219 232.279 L52.219 227.557 Q55.043 226.423 57.4967 225.844 Q59.9504 225.266 61.9874 225.266 Q67.3578 225.266 70.5522 227.951 Q73.7466 230.636 73.7466 235.127 Q73.7466 237.256 72.9365 239.177 Q72.1494 241.076 70.0429 243.668 Q69.4642 244.339 66.3624 247.557 Q63.2606 250.751 57.6125 256.515 Z\" fill=\"#000000\" fill-rule=\"nonzero\" fill-opacity=\"1\" /><path clip-path=\"url(#clip680)\" d=\"M83.7466 254.571 L88.6308 254.571 L88.6308 260.45 L83.7466 260.45 L83.7466 254.571 Z\" fill=\"#000000\" fill-rule=\"nonzero\" fill-opacity=\"1\" /><path clip-path=\"url(#clip680)\" d=\"M97.6354 225.89 L119.857 225.89 L119.857 227.881 L107.311 260.45 L102.427 260.45 L114.233 229.826 L97.6354 229.826 L97.6354 225.89 Z\" fill=\"#000000\" fill-rule=\"nonzero\" fill-opacity=\"1\" /><path clip-path=\"url(#clip680)\" d=\"M129.024 225.89 L147.38 225.89 L147.38 229.826 L133.306 229.826 L133.306 238.298 Q134.325 237.951 135.344 237.789 Q136.362 237.603 137.381 237.603 Q143.168 237.603 146.547 240.775 Q149.927 243.946 149.927 249.363 Q149.927 254.941 146.455 258.043 Q142.982 261.122 136.663 261.122 Q134.487 261.122 132.219 260.751 Q129.973 260.381 127.566 259.64 L127.566 254.941 Q129.649 256.076 131.871 256.631 Q134.094 257.187 136.57 257.187 Q140.575 257.187 142.913 255.08 Q145.251 252.974 145.251 249.363 Q145.251 245.752 142.913 243.645 Q140.575 241.539 136.57 241.539 Q134.695 241.539 132.82 241.955 Q130.969 242.372 129.024 243.252 L129.024 225.89 Z\" fill=\"#000000\" fill-rule=\"nonzero\" fill-opacity=\"1\" /><polyline clip-path=\"url(#clip682)\" style=\"stroke:#009af9; stroke-linecap:round; stroke-linejoin:round; stroke-width:4; stroke-opacity:1; fill:none\" points=\"247.252,1193.41 474.383,660.641 701.514,829.049 928.645,988.3 1155.78,785.109 1382.91,87.9763 1610.04,892.106 1837.17,1445.72 2064.3,172.475 2291.43,316.44 \"/>\n",
       "<path clip-path=\"url(#clip680)\" d=\"M258.154 198.898 L527.268 198.898 L527.268 95.2176 L258.154 95.2176  Z\" fill=\"#ffffff\" fill-rule=\"evenodd\" fill-opacity=\"1\"/>\n",
       "<polyline clip-path=\"url(#clip680)\" style=\"stroke:#000000; stroke-linecap:round; stroke-linejoin:round; stroke-width:4; stroke-opacity:1; fill:none\" points=\"258.154,198.898 527.268,198.898 527.268,95.2176 258.154,95.2176 258.154,198.898 \"/>\n",
       "<polyline clip-path=\"url(#clip680)\" style=\"stroke:#009af9; stroke-linecap:round; stroke-linejoin:round; stroke-width:4; stroke-opacity:1; fill:none\" points=\"282.23,147.058 426.686,147.058 \"/>\n",
       "<path clip-path=\"url(#clip680)\" d=\"M464.604 166.745 Q462.798 171.375 461.085 172.787 Q459.373 174.199 456.502 174.199 L453.099 174.199 L453.099 170.634 L455.599 170.634 Q457.359 170.634 458.331 169.8 Q459.303 168.967 460.484 165.865 L461.248 163.921 L450.761 138.412 L455.275 138.412 L463.377 158.689 L471.479 138.412 L475.993 138.412 L464.604 166.745 Z\" fill=\"#000000\" fill-rule=\"nonzero\" fill-opacity=\"1\" /><path clip-path=\"url(#clip680)\" d=\"M483.284 160.402 L490.923 160.402 L490.923 134.037 L482.613 135.703 L482.613 131.444 L490.877 129.778 L495.553 129.778 L495.553 160.402 L503.192 160.402 L503.192 164.338 L483.284 164.338 L483.284 160.402 Z\" fill=\"#000000\" fill-rule=\"nonzero\" fill-opacity=\"1\" /></svg>\n"
      ],
      "text/html": [
       "<?xml version=\"1.0\" encoding=\"utf-8\"?>\n",
       "<svg xmlns=\"http://www.w3.org/2000/svg\" xmlns:xlink=\"http://www.w3.org/1999/xlink\" width=\"600\" height=\"400\" viewBox=\"0 0 2400 1600\">\n",
       "<defs>\n",
       "  <clipPath id=\"clip730\">\n",
       "    <rect x=\"0\" y=\"0\" width=\"2400\" height=\"1600\"/>\n",
       "  </clipPath>\n",
       "</defs>\n",
       "<path clip-path=\"url(#clip730)\" d=\"M0 1600 L2400 1600 L2400 0 L0 0  Z\" fill=\"#ffffff\" fill-rule=\"evenodd\" fill-opacity=\"1\"/>\n",
       "<defs>\n",
       "  <clipPath id=\"clip731\">\n",
       "    <rect x=\"480\" y=\"0\" width=\"1681\" height=\"1600\"/>\n",
       "  </clipPath>\n",
       "</defs>\n",
       "<path clip-path=\"url(#clip730)\" d=\"M185.927 1486.45 L2352.76 1486.45 L2352.76 47.2441 L185.927 47.2441  Z\" fill=\"#ffffff\" fill-rule=\"evenodd\" fill-opacity=\"1\"/>\n",
       "<defs>\n",
       "  <clipPath id=\"clip732\">\n",
       "    <rect x=\"185\" y=\"47\" width=\"2168\" height=\"1440\"/>\n",
       "  </clipPath>\n",
       "</defs>\n",
       "<polyline clip-path=\"url(#clip732)\" style=\"stroke:#000000; stroke-linecap:round; stroke-linejoin:round; stroke-width:2; stroke-opacity:0.1; fill:none\" points=\"474.383,1486.45 474.383,47.2441 \"/>\n",
       "<polyline clip-path=\"url(#clip732)\" style=\"stroke:#000000; stroke-linecap:round; stroke-linejoin:round; stroke-width:2; stroke-opacity:0.1; fill:none\" points=\"928.645,1486.45 928.645,47.2441 \"/>\n",
       "<polyline clip-path=\"url(#clip732)\" style=\"stroke:#000000; stroke-linecap:round; stroke-linejoin:round; stroke-width:2; stroke-opacity:0.1; fill:none\" points=\"1382.91,1486.45 1382.91,47.2441 \"/>\n",
       "<polyline clip-path=\"url(#clip732)\" style=\"stroke:#000000; stroke-linecap:round; stroke-linejoin:round; stroke-width:2; stroke-opacity:0.1; fill:none\" points=\"1837.17,1486.45 1837.17,47.2441 \"/>\n",
       "<polyline clip-path=\"url(#clip732)\" style=\"stroke:#000000; stroke-linecap:round; stroke-linejoin:round; stroke-width:2; stroke-opacity:0.1; fill:none\" points=\"2291.43,1486.45 2291.43,47.2441 \"/>\n",
       "<polyline clip-path=\"url(#clip732)\" style=\"stroke:#000000; stroke-linecap:round; stroke-linejoin:round; stroke-width:2; stroke-opacity:0.1; fill:none\" points=\"185.927,1272.35 2352.76,1272.35 \"/>\n",
       "<polyline clip-path=\"url(#clip732)\" style=\"stroke:#000000; stroke-linecap:round; stroke-linejoin:round; stroke-width:2; stroke-opacity:0.1; fill:none\" points=\"185.927,1015.06 2352.76,1015.06 \"/>\n",
       "<polyline clip-path=\"url(#clip732)\" style=\"stroke:#000000; stroke-linecap:round; stroke-linejoin:round; stroke-width:2; stroke-opacity:0.1; fill:none\" points=\"185.927,757.761 2352.76,757.761 \"/>\n",
       "<polyline clip-path=\"url(#clip732)\" style=\"stroke:#000000; stroke-linecap:round; stroke-linejoin:round; stroke-width:2; stroke-opacity:0.1; fill:none\" points=\"185.927,500.466 2352.76,500.466 \"/>\n",
       "<polyline clip-path=\"url(#clip732)\" style=\"stroke:#000000; stroke-linecap:round; stroke-linejoin:round; stroke-width:2; stroke-opacity:0.1; fill:none\" points=\"185.927,243.17 2352.76,243.17 \"/>\n",
       "<polyline clip-path=\"url(#clip730)\" style=\"stroke:#000000; stroke-linecap:round; stroke-linejoin:round; stroke-width:4; stroke-opacity:1; fill:none\" points=\"185.927,1486.45 2352.76,1486.45 \"/>\n",
       "<polyline clip-path=\"url(#clip730)\" style=\"stroke:#000000; stroke-linecap:round; stroke-linejoin:round; stroke-width:4; stroke-opacity:1; fill:none\" points=\"474.383,1486.45 474.383,1467.55 \"/>\n",
       "<polyline clip-path=\"url(#clip730)\" style=\"stroke:#000000; stroke-linecap:round; stroke-linejoin:round; stroke-width:4; stroke-opacity:1; fill:none\" points=\"928.645,1486.45 928.645,1467.55 \"/>\n",
       "<polyline clip-path=\"url(#clip730)\" style=\"stroke:#000000; stroke-linecap:round; stroke-linejoin:round; stroke-width:4; stroke-opacity:1; fill:none\" points=\"1382.91,1486.45 1382.91,1467.55 \"/>\n",
       "<polyline clip-path=\"url(#clip730)\" style=\"stroke:#000000; stroke-linecap:round; stroke-linejoin:round; stroke-width:4; stroke-opacity:1; fill:none\" points=\"1837.17,1486.45 1837.17,1467.55 \"/>\n",
       "<polyline clip-path=\"url(#clip730)\" style=\"stroke:#000000; stroke-linecap:round; stroke-linejoin:round; stroke-width:4; stroke-opacity:1; fill:none\" points=\"2291.43,1486.45 2291.43,1467.55 \"/>\n",
       "<path clip-path=\"url(#clip730)\" d=\"M453.156 1544.91 L469.476 1544.91 L469.476 1548.85 L447.531 1548.85 L447.531 1544.91 Q450.193 1542.16 454.777 1537.53 Q459.383 1532.88 460.564 1531.53 Q462.809 1529.01 463.689 1527.27 Q464.591 1525.51 464.591 1523.82 Q464.591 1521.07 462.647 1519.33 Q460.726 1517.6 457.624 1517.6 Q455.425 1517.6 452.971 1518.36 Q450.541 1519.13 447.763 1520.68 L447.763 1515.95 Q450.587 1514.82 453.041 1514.24 Q455.494 1513.66 457.531 1513.66 Q462.902 1513.66 466.096 1516.35 Q469.291 1519.03 469.291 1523.52 Q469.291 1525.65 468.48 1527.57 Q467.693 1529.47 465.587 1532.07 Q465.008 1532.74 461.906 1535.95 Q458.804 1539.15 453.156 1544.91 Z\" fill=\"#000000\" fill-rule=\"nonzero\" fill-opacity=\"1\" /><path clip-path=\"url(#clip730)\" d=\"M489.29 1517.37 Q485.679 1517.37 483.851 1520.93 Q482.045 1524.47 482.045 1531.6 Q482.045 1538.71 483.851 1542.27 Q485.679 1545.82 489.29 1545.82 Q492.925 1545.82 494.73 1542.27 Q496.559 1538.71 496.559 1531.6 Q496.559 1524.47 494.73 1520.93 Q492.925 1517.37 489.29 1517.37 M489.29 1513.66 Q495.101 1513.66 498.156 1518.27 Q501.235 1522.85 501.235 1531.6 Q501.235 1540.33 498.156 1544.94 Q495.101 1549.52 489.29 1549.52 Q483.48 1549.52 480.402 1544.94 Q477.346 1540.33 477.346 1531.6 Q477.346 1522.85 480.402 1518.27 Q483.48 1513.66 489.29 1513.66 Z\" fill=\"#000000\" fill-rule=\"nonzero\" fill-opacity=\"1\" /><path clip-path=\"url(#clip730)\" d=\"M916.816 1518.36 L905.011 1536.81 L916.816 1536.81 L916.816 1518.36 M915.589 1514.29 L921.469 1514.29 L921.469 1536.81 L926.4 1536.81 L926.4 1540.7 L921.469 1540.7 L921.469 1548.85 L916.816 1548.85 L916.816 1540.7 L901.215 1540.7 L901.215 1536.19 L915.589 1514.29 Z\" fill=\"#000000\" fill-rule=\"nonzero\" fill-opacity=\"1\" /><path clip-path=\"url(#clip730)\" d=\"M944.131 1517.37 Q940.52 1517.37 938.691 1520.93 Q936.886 1524.47 936.886 1531.6 Q936.886 1538.71 938.691 1542.27 Q940.52 1545.82 944.131 1545.82 Q947.765 1545.82 949.571 1542.27 Q951.399 1538.71 951.399 1531.6 Q951.399 1524.47 949.571 1520.93 Q947.765 1517.37 944.131 1517.37 M944.131 1513.66 Q949.941 1513.66 952.997 1518.27 Q956.075 1522.85 956.075 1531.6 Q956.075 1540.33 952.997 1544.94 Q949.941 1549.52 944.131 1549.52 Q938.321 1549.52 935.242 1544.94 Q932.187 1540.33 932.187 1531.6 Q932.187 1522.85 935.242 1518.27 Q938.321 1513.66 944.131 1513.66 Z\" fill=\"#000000\" fill-rule=\"nonzero\" fill-opacity=\"1\" /><path clip-path=\"url(#clip730)\" d=\"M1368.31 1529.7 Q1365.16 1529.7 1363.31 1531.86 Q1361.48 1534.01 1361.48 1537.76 Q1361.48 1541.49 1363.31 1543.66 Q1365.16 1545.82 1368.31 1545.82 Q1371.46 1545.82 1373.29 1543.66 Q1375.14 1541.49 1375.14 1537.76 Q1375.14 1534.01 1373.29 1531.86 Q1371.46 1529.7 1368.31 1529.7 M1377.59 1515.05 L1377.59 1519.31 Q1375.84 1518.48 1374.03 1518.04 Q1372.25 1517.6 1370.49 1517.6 Q1365.86 1517.6 1363.4 1520.72 Q1360.97 1523.85 1360.63 1530.17 Q1361.99 1528.15 1364.05 1527.09 Q1366.11 1526 1368.59 1526 Q1373.8 1526 1376.81 1529.17 Q1379.84 1532.32 1379.84 1537.76 Q1379.84 1543.08 1376.69 1546.3 Q1373.54 1549.52 1368.31 1549.52 Q1362.32 1549.52 1359.15 1544.94 Q1355.97 1540.33 1355.97 1531.6 Q1355.97 1523.41 1359.86 1518.55 Q1363.75 1513.66 1370.3 1513.66 Q1372.06 1513.66 1373.84 1514.01 Q1375.65 1514.36 1377.59 1515.05 Z\" fill=\"#000000\" fill-rule=\"nonzero\" fill-opacity=\"1\" /><path clip-path=\"url(#clip730)\" d=\"M1397.9 1517.37 Q1394.28 1517.37 1392.46 1520.93 Q1390.65 1524.47 1390.65 1531.6 Q1390.65 1538.71 1392.46 1542.27 Q1394.28 1545.82 1397.9 1545.82 Q1401.53 1545.82 1403.33 1542.27 Q1405.16 1538.71 1405.16 1531.6 Q1405.16 1524.47 1403.33 1520.93 Q1401.53 1517.37 1397.9 1517.37 M1397.9 1513.66 Q1403.71 1513.66 1406.76 1518.27 Q1409.84 1522.85 1409.84 1531.6 Q1409.84 1540.33 1406.76 1544.94 Q1403.71 1549.52 1397.9 1549.52 Q1392.09 1549.52 1389.01 1544.94 Q1385.95 1540.33 1385.95 1531.6 Q1385.95 1522.85 1389.01 1518.27 Q1392.09 1513.66 1397.9 1513.66 Z\" fill=\"#000000\" fill-rule=\"nonzero\" fill-opacity=\"1\" /><path clip-path=\"url(#clip730)\" d=\"M1822.04 1532.44 Q1818.71 1532.44 1816.79 1534.22 Q1814.89 1536 1814.89 1539.13 Q1814.89 1542.25 1816.79 1544.03 Q1818.71 1545.82 1822.04 1545.82 Q1825.37 1545.82 1827.3 1544.03 Q1829.22 1542.23 1829.22 1539.13 Q1829.22 1536 1827.3 1534.22 Q1825.4 1532.44 1822.04 1532.44 M1817.37 1530.45 Q1814.36 1529.7 1812.67 1527.64 Q1811 1525.58 1811 1522.62 Q1811 1518.48 1813.94 1516.07 Q1816.9 1513.66 1822.04 1513.66 Q1827.2 1513.66 1830.14 1516.07 Q1833.08 1518.48 1833.08 1522.62 Q1833.08 1525.58 1831.39 1527.64 Q1829.73 1529.7 1826.74 1530.45 Q1830.12 1531.23 1832 1533.52 Q1833.89 1535.82 1833.89 1539.13 Q1833.89 1544.15 1830.81 1546.83 Q1827.76 1549.52 1822.04 1549.52 Q1816.32 1549.52 1813.25 1546.83 Q1810.19 1544.15 1810.19 1539.13 Q1810.19 1535.82 1812.09 1533.52 Q1813.99 1531.23 1817.37 1530.45 M1815.65 1523.06 Q1815.65 1525.75 1817.32 1527.25 Q1819.01 1528.76 1822.04 1528.76 Q1825.05 1528.76 1826.74 1527.25 Q1828.45 1525.75 1828.45 1523.06 Q1828.45 1520.38 1826.74 1518.87 Q1825.05 1517.37 1822.04 1517.37 Q1819.01 1517.37 1817.32 1518.87 Q1815.65 1520.38 1815.65 1523.06 Z\" fill=\"#000000\" fill-rule=\"nonzero\" fill-opacity=\"1\" /><path clip-path=\"url(#clip730)\" d=\"M1852.2 1517.37 Q1848.59 1517.37 1846.76 1520.93 Q1844.96 1524.47 1844.96 1531.6 Q1844.96 1538.71 1846.76 1542.27 Q1848.59 1545.82 1852.2 1545.82 Q1855.84 1545.82 1857.64 1542.27 Q1859.47 1538.71 1859.47 1531.6 Q1859.47 1524.47 1857.64 1520.93 Q1855.84 1517.37 1852.2 1517.37 M1852.2 1513.66 Q1858.01 1513.66 1861.07 1518.27 Q1864.15 1522.85 1864.15 1531.6 Q1864.15 1540.33 1861.07 1544.94 Q1858.01 1549.52 1852.2 1549.52 Q1846.39 1549.52 1843.31 1544.94 Q1840.26 1540.33 1840.26 1531.6 Q1840.26 1522.85 1843.31 1518.27 Q1846.39 1513.66 1852.2 1513.66 Z\" fill=\"#000000\" fill-rule=\"nonzero\" fill-opacity=\"1\" /><path clip-path=\"url(#clip730)\" d=\"M2251.04 1544.91 L2258.68 1544.91 L2258.68 1518.55 L2250.37 1520.21 L2250.37 1515.95 L2258.63 1514.29 L2263.31 1514.29 L2263.31 1544.91 L2270.94 1544.91 L2270.94 1548.85 L2251.04 1548.85 L2251.04 1544.91 Z\" fill=\"#000000\" fill-rule=\"nonzero\" fill-opacity=\"1\" /><path clip-path=\"url(#clip730)\" d=\"M2290.39 1517.37 Q2286.78 1517.37 2284.95 1520.93 Q2283.14 1524.47 2283.14 1531.6 Q2283.14 1538.71 2284.95 1542.27 Q2286.78 1545.82 2290.39 1545.82 Q2294.02 1545.82 2295.83 1542.27 Q2297.66 1538.71 2297.66 1531.6 Q2297.66 1524.47 2295.83 1520.93 Q2294.02 1517.37 2290.39 1517.37 M2290.39 1513.66 Q2296.2 1513.66 2299.25 1518.27 Q2302.33 1522.85 2302.33 1531.6 Q2302.33 1540.33 2299.25 1544.94 Q2296.2 1549.52 2290.39 1549.52 Q2284.58 1549.52 2281.5 1544.94 Q2278.44 1540.33 2278.44 1531.6 Q2278.44 1522.85 2281.5 1518.27 Q2284.58 1513.66 2290.39 1513.66 Z\" fill=\"#000000\" fill-rule=\"nonzero\" fill-opacity=\"1\" /><path clip-path=\"url(#clip730)\" d=\"M2320.55 1517.37 Q2316.94 1517.37 2315.11 1520.93 Q2313.31 1524.47 2313.31 1531.6 Q2313.31 1538.71 2315.11 1542.27 Q2316.94 1545.82 2320.55 1545.82 Q2324.19 1545.82 2325.99 1542.27 Q2327.82 1538.71 2327.82 1531.6 Q2327.82 1524.47 2325.99 1520.93 Q2324.19 1517.37 2320.55 1517.37 M2320.55 1513.66 Q2326.36 1513.66 2329.42 1518.27 Q2332.5 1522.85 2332.5 1531.6 Q2332.5 1540.33 2329.42 1544.94 Q2326.36 1549.52 2320.55 1549.52 Q2314.74 1549.52 2311.66 1544.94 Q2308.61 1540.33 2308.61 1531.6 Q2308.61 1522.85 2311.66 1518.27 Q2314.74 1513.66 2320.55 1513.66 Z\" fill=\"#000000\" fill-rule=\"nonzero\" fill-opacity=\"1\" /><polyline clip-path=\"url(#clip730)\" style=\"stroke:#000000; stroke-linecap:round; stroke-linejoin:round; stroke-width:4; stroke-opacity:1; fill:none\" points=\"185.927,1486.45 185.927,47.2441 \"/>\n",
       "<polyline clip-path=\"url(#clip730)\" style=\"stroke:#000000; stroke-linecap:round; stroke-linejoin:round; stroke-width:4; stroke-opacity:1; fill:none\" points=\"185.927,1272.35 204.824,1272.35 \"/>\n",
       "<polyline clip-path=\"url(#clip730)\" style=\"stroke:#000000; stroke-linecap:round; stroke-linejoin:round; stroke-width:4; stroke-opacity:1; fill:none\" points=\"185.927,1015.06 204.824,1015.06 \"/>\n",
       "<polyline clip-path=\"url(#clip730)\" style=\"stroke:#000000; stroke-linecap:round; stroke-linejoin:round; stroke-width:4; stroke-opacity:1; fill:none\" points=\"185.927,757.761 204.824,757.761 \"/>\n",
       "<polyline clip-path=\"url(#clip730)\" style=\"stroke:#000000; stroke-linecap:round; stroke-linejoin:round; stroke-width:4; stroke-opacity:1; fill:none\" points=\"185.927,500.466 204.824,500.466 \"/>\n",
       "<polyline clip-path=\"url(#clip730)\" style=\"stroke:#000000; stroke-linecap:round; stroke-linejoin:round; stroke-width:4; stroke-opacity:1; fill:none\" points=\"185.927,243.17 204.824,243.17 \"/>\n",
       "<path clip-path=\"url(#clip730)\" d=\"M54.3949 1285.7 L62.0337 1285.7 L62.0337 1259.33 L53.7236 1261 L53.7236 1256.74 L61.9874 1255.07 L66.6633 1255.07 L66.6633 1285.7 L74.3022 1285.7 L74.3022 1289.63 L54.3949 1289.63 L54.3949 1285.7 Z\" fill=\"#000000\" fill-rule=\"nonzero\" fill-opacity=\"1\" /><path clip-path=\"url(#clip730)\" d=\"M83.7466 1283.75 L88.6308 1283.75 L88.6308 1289.63 L83.7466 1289.63 L83.7466 1283.75 Z\" fill=\"#000000\" fill-rule=\"nonzero\" fill-opacity=\"1\" /><path clip-path=\"url(#clip730)\" d=\"M97.6354 1255.07 L119.857 1255.07 L119.857 1257.06 L107.311 1289.63 L102.427 1289.63 L114.233 1259.01 L97.6354 1259.01 L97.6354 1255.07 Z\" fill=\"#000000\" fill-rule=\"nonzero\" fill-opacity=\"1\" /><path clip-path=\"url(#clip730)\" d=\"M129.024 1255.07 L147.38 1255.07 L147.38 1259.01 L133.306 1259.01 L133.306 1267.48 Q134.325 1267.13 135.344 1266.97 Q136.362 1266.78 137.381 1266.78 Q143.168 1266.78 146.547 1269.96 Q149.927 1273.13 149.927 1278.54 Q149.927 1284.12 146.455 1287.22 Q142.982 1290.3 136.663 1290.3 Q134.487 1290.3 132.219 1289.93 Q129.973 1289.56 127.566 1288.82 L127.566 1284.12 Q129.649 1285.26 131.871 1285.81 Q134.094 1286.37 136.57 1286.37 Q140.575 1286.37 142.913 1284.26 Q145.251 1282.15 145.251 1278.54 Q145.251 1274.93 142.913 1272.83 Q140.575 1270.72 136.57 1270.72 Q134.695 1270.72 132.82 1271.14 Q130.969 1271.55 129.024 1272.43 L129.024 1255.07 Z\" fill=\"#000000\" fill-rule=\"nonzero\" fill-opacity=\"1\" /><path clip-path=\"url(#clip730)\" d=\"M56.6171 1028.4 L72.9365 1028.4 L72.9365 1032.34 L50.9921 1032.34 L50.9921 1028.4 Q53.6541 1025.65 58.2375 1021.02 Q62.8439 1016.36 64.0245 1015.02 Q66.2698 1012.5 67.1494 1010.76 Q68.0522 1009 68.0522 1007.31 Q68.0522 1004.56 66.1078 1002.82 Q64.1865 1001.09 61.0847 1001.09 Q58.8856 1001.09 56.4319 1001.85 Q54.0014 1002.61 51.2236 1004.16 L51.2236 999.443 Q54.0477 998.308 56.5014 997.73 Q58.955 997.151 60.9921 997.151 Q66.3624 997.151 69.5568 999.836 Q72.7513 1002.52 72.7513 1007.01 Q72.7513 1009.14 71.9411 1011.06 Q71.1541 1012.96 69.0476 1015.55 Q68.4689 1016.22 65.367 1019.44 Q62.2652 1022.64 56.6171 1028.4 Z\" fill=\"#000000\" fill-rule=\"nonzero\" fill-opacity=\"1\" /><path clip-path=\"url(#clip730)\" d=\"M82.7512 1026.46 L87.6354 1026.46 L87.6354 1032.34 L82.7512 1032.34 L82.7512 1026.46 Z\" fill=\"#000000\" fill-rule=\"nonzero\" fill-opacity=\"1\" /><path clip-path=\"url(#clip730)\" d=\"M107.821 1000.85 Q104.209 1000.85 102.381 1004.42 Q100.575 1007.96 100.575 1015.09 Q100.575 1022.2 102.381 1025.76 Q104.209 1029.3 107.821 1029.3 Q111.455 1029.3 113.26 1025.76 Q115.089 1022.2 115.089 1015.09 Q115.089 1007.96 113.26 1004.42 Q111.455 1000.85 107.821 1000.85 M107.821 997.151 Q113.631 997.151 116.686 1001.76 Q119.765 1006.34 119.765 1015.09 Q119.765 1023.82 116.686 1028.42 Q113.631 1033.01 107.821 1033.01 Q102.01 1033.01 98.9317 1028.42 Q95.8761 1023.82 95.8761 1015.09 Q95.8761 1006.34 98.9317 1001.76 Q102.01 997.151 107.821 997.151 Z\" fill=\"#000000\" fill-rule=\"nonzero\" fill-opacity=\"1\" /><path clip-path=\"url(#clip730)\" d=\"M137.982 1000.85 Q134.371 1000.85 132.543 1004.42 Q130.737 1007.96 130.737 1015.09 Q130.737 1022.2 132.543 1025.76 Q134.371 1029.3 137.982 1029.3 Q141.617 1029.3 143.422 1025.76 Q145.251 1022.2 145.251 1015.09 Q145.251 1007.96 143.422 1004.42 Q141.617 1000.85 137.982 1000.85 M137.982 997.151 Q143.793 997.151 146.848 1001.76 Q149.927 1006.34 149.927 1015.09 Q149.927 1023.82 146.848 1028.42 Q143.793 1033.01 137.982 1033.01 Q132.172 1033.01 129.094 1028.42 Q126.038 1023.82 126.038 1015.09 Q126.038 1006.34 129.094 1001.76 Q132.172 997.151 137.982 997.151 Z\" fill=\"#000000\" fill-rule=\"nonzero\" fill-opacity=\"1\" /><path clip-path=\"url(#clip730)\" d=\"M57.6125 771.106 L73.9318 771.106 L73.9318 775.041 L51.9875 775.041 L51.9875 771.106 Q54.6495 768.351 59.2328 763.721 Q63.8393 759.069 65.0198 757.726 Q67.2652 755.203 68.1448 753.467 Q69.0476 751.708 69.0476 750.018 Q69.0476 747.263 67.1032 745.527 Q65.1819 743.791 62.08 743.791 Q59.881 743.791 57.4273 744.555 Q54.9967 745.319 52.219 746.87 L52.219 742.147 Q55.043 741.013 57.4967 740.434 Q59.9504 739.856 61.9874 739.856 Q67.3578 739.856 70.5522 742.541 Q73.7466 745.226 73.7466 749.717 Q73.7466 751.846 72.9365 753.768 Q72.1494 755.666 70.0429 758.258 Q69.4642 758.93 66.3624 762.147 Q63.2606 765.342 57.6125 771.106 Z\" fill=\"#000000\" fill-rule=\"nonzero\" fill-opacity=\"1\" /><path clip-path=\"url(#clip730)\" d=\"M83.7466 769.161 L88.6308 769.161 L88.6308 775.041 L83.7466 775.041 L83.7466 769.161 Z\" fill=\"#000000\" fill-rule=\"nonzero\" fill-opacity=\"1\" /><path clip-path=\"url(#clip730)\" d=\"M102.844 771.106 L119.163 771.106 L119.163 775.041 L97.2187 775.041 L97.2187 771.106 Q99.8808 768.351 104.464 763.721 Q109.071 759.069 110.251 757.726 Q112.496 755.203 113.376 753.467 Q114.279 751.708 114.279 750.018 Q114.279 747.263 112.334 745.527 Q110.413 743.791 107.311 743.791 Q105.112 743.791 102.659 744.555 Q100.228 745.319 97.4502 746.87 L97.4502 742.147 Q100.274 741.013 102.728 740.434 Q105.182 739.856 107.219 739.856 Q112.589 739.856 115.783 742.541 Q118.978 745.226 118.978 749.717 Q118.978 751.846 118.168 753.768 Q117.381 755.666 115.274 758.258 Q114.695 758.93 111.594 762.147 Q108.492 765.342 102.844 771.106 Z\" fill=\"#000000\" fill-rule=\"nonzero\" fill-opacity=\"1\" /><path clip-path=\"url(#clip730)\" d=\"M129.024 740.481 L147.38 740.481 L147.38 744.416 L133.306 744.416 L133.306 752.888 Q134.325 752.541 135.344 752.379 Q136.362 752.194 137.381 752.194 Q143.168 752.194 146.547 755.365 Q149.927 758.536 149.927 763.953 Q149.927 769.532 146.455 772.633 Q142.982 775.712 136.663 775.712 Q134.487 775.712 132.219 775.342 Q129.973 774.971 127.566 774.231 L127.566 769.532 Q129.649 770.666 131.871 771.221 Q134.094 771.777 136.57 771.777 Q140.575 771.777 142.913 769.67 Q145.251 767.564 145.251 763.953 Q145.251 760.342 142.913 758.235 Q140.575 756.129 136.57 756.129 Q134.695 756.129 132.82 756.546 Q130.969 756.962 129.024 757.842 L129.024 740.481 Z\" fill=\"#000000\" fill-rule=\"nonzero\" fill-opacity=\"1\" /><path clip-path=\"url(#clip730)\" d=\"M56.6171 513.81 L72.9365 513.81 L72.9365 517.746 L50.9921 517.746 L50.9921 513.81 Q53.6541 511.056 58.2375 506.426 Q62.8439 501.774 64.0245 500.431 Q66.2698 497.908 67.1494 496.172 Q68.0522 494.412 68.0522 492.723 Q68.0522 489.968 66.1078 488.232 Q64.1865 486.496 61.0847 486.496 Q58.8856 486.496 56.4319 487.26 Q54.0014 488.024 51.2236 489.574 L51.2236 484.852 Q54.0477 483.718 56.5014 483.139 Q58.955 482.561 60.9921 482.561 Q66.3624 482.561 69.5568 485.246 Q72.7513 487.931 72.7513 492.422 Q72.7513 494.551 71.9411 496.473 Q71.1541 498.371 69.0476 500.963 Q68.4689 501.635 65.367 504.852 Q62.2652 508.047 56.6171 513.81 Z\" fill=\"#000000\" fill-rule=\"nonzero\" fill-opacity=\"1\" /><path clip-path=\"url(#clip730)\" d=\"M82.7512 511.866 L87.6354 511.866 L87.6354 517.746 L82.7512 517.746 L82.7512 511.866 Z\" fill=\"#000000\" fill-rule=\"nonzero\" fill-opacity=\"1\" /><path clip-path=\"url(#clip730)\" d=\"M97.8669 483.186 L116.223 483.186 L116.223 487.121 L102.149 487.121 L102.149 495.593 Q103.168 495.246 104.186 495.084 Q105.205 494.899 106.223 494.899 Q112.01 494.899 115.39 498.07 Q118.77 501.241 118.77 506.658 Q118.77 512.236 115.297 515.338 Q111.825 518.417 105.506 518.417 Q103.33 518.417 101.061 518.047 Q98.8159 517.676 96.4085 516.935 L96.4085 512.236 Q98.4919 513.371 100.714 513.926 Q102.936 514.482 105.413 514.482 Q109.418 514.482 111.756 512.375 Q114.094 510.269 114.094 506.658 Q114.094 503.047 111.756 500.94 Q109.418 498.834 105.413 498.834 Q103.538 498.834 101.663 499.25 Q99.8113 499.667 97.8669 500.547 L97.8669 483.186 Z\" fill=\"#000000\" fill-rule=\"nonzero\" fill-opacity=\"1\" /><path clip-path=\"url(#clip730)\" d=\"M137.982 486.264 Q134.371 486.264 132.543 489.829 Q130.737 493.371 130.737 500.5 Q130.737 507.607 132.543 511.172 Q134.371 514.713 137.982 514.713 Q141.617 514.713 143.422 511.172 Q145.251 507.607 145.251 500.5 Q145.251 493.371 143.422 489.829 Q141.617 486.264 137.982 486.264 M137.982 482.561 Q143.793 482.561 146.848 487.167 Q149.927 491.75 149.927 500.5 Q149.927 509.227 146.848 513.834 Q143.793 518.417 137.982 518.417 Q132.172 518.417 129.094 513.834 Q126.038 509.227 126.038 500.5 Q126.038 491.75 129.094 487.167 Q132.172 482.561 137.982 482.561 Z\" fill=\"#000000\" fill-rule=\"nonzero\" fill-opacity=\"1\" /><path clip-path=\"url(#clip730)\" d=\"M57.6125 256.515 L73.9318 256.515 L73.9318 260.45 L51.9875 260.45 L51.9875 256.515 Q54.6495 253.761 59.2328 249.131 Q63.8393 244.478 65.0198 243.136 Q67.2652 240.613 68.1448 238.877 Q69.0476 237.117 69.0476 235.427 Q69.0476 232.673 67.1032 230.937 Q65.1819 229.201 62.08 229.201 Q59.881 229.201 57.4273 229.965 Q54.9967 230.728 52.219 232.279 L52.219 227.557 Q55.043 226.423 57.4967 225.844 Q59.9504 225.266 61.9874 225.266 Q67.3578 225.266 70.5522 227.951 Q73.7466 230.636 73.7466 235.127 Q73.7466 237.256 72.9365 239.177 Q72.1494 241.076 70.0429 243.668 Q69.4642 244.339 66.3624 247.557 Q63.2606 250.751 57.6125 256.515 Z\" fill=\"#000000\" fill-rule=\"nonzero\" fill-opacity=\"1\" /><path clip-path=\"url(#clip730)\" d=\"M83.7466 254.571 L88.6308 254.571 L88.6308 260.45 L83.7466 260.45 L83.7466 254.571 Z\" fill=\"#000000\" fill-rule=\"nonzero\" fill-opacity=\"1\" /><path clip-path=\"url(#clip730)\" d=\"M97.6354 225.89 L119.857 225.89 L119.857 227.881 L107.311 260.45 L102.427 260.45 L114.233 229.826 L97.6354 229.826 L97.6354 225.89 Z\" fill=\"#000000\" fill-rule=\"nonzero\" fill-opacity=\"1\" /><path clip-path=\"url(#clip730)\" d=\"M129.024 225.89 L147.38 225.89 L147.38 229.826 L133.306 229.826 L133.306 238.298 Q134.325 237.951 135.344 237.789 Q136.362 237.603 137.381 237.603 Q143.168 237.603 146.547 240.775 Q149.927 243.946 149.927 249.363 Q149.927 254.941 146.455 258.043 Q142.982 261.122 136.663 261.122 Q134.487 261.122 132.219 260.751 Q129.973 260.381 127.566 259.64 L127.566 254.941 Q129.649 256.076 131.871 256.631 Q134.094 257.187 136.57 257.187 Q140.575 257.187 142.913 255.08 Q145.251 252.974 145.251 249.363 Q145.251 245.752 142.913 243.645 Q140.575 241.539 136.57 241.539 Q134.695 241.539 132.82 241.955 Q130.969 242.372 129.024 243.252 L129.024 225.89 Z\" fill=\"#000000\" fill-rule=\"nonzero\" fill-opacity=\"1\" /><polyline clip-path=\"url(#clip732)\" style=\"stroke:#009af9; stroke-linecap:round; stroke-linejoin:round; stroke-width:4; stroke-opacity:1; fill:none\" points=\"247.252,1193.41 474.383,660.641 701.514,829.049 928.645,988.3 1155.78,785.109 1382.91,87.9763 1610.04,892.106 1837.17,1445.72 2064.3,172.475 2291.43,316.44 \"/>\n",
       "<path clip-path=\"url(#clip730)\" d=\"M258.154 198.898 L527.268 198.898 L527.268 95.2176 L258.154 95.2176  Z\" fill=\"#ffffff\" fill-rule=\"evenodd\" fill-opacity=\"1\"/>\n",
       "<polyline clip-path=\"url(#clip730)\" style=\"stroke:#000000; stroke-linecap:round; stroke-linejoin:round; stroke-width:4; stroke-opacity:1; fill:none\" points=\"258.154,198.898 527.268,198.898 527.268,95.2176 258.154,95.2176 258.154,198.898 \"/>\n",
       "<polyline clip-path=\"url(#clip730)\" style=\"stroke:#009af9; stroke-linecap:round; stroke-linejoin:round; stroke-width:4; stroke-opacity:1; fill:none\" points=\"282.23,147.058 426.686,147.058 \"/>\n",
       "<path clip-path=\"url(#clip730)\" d=\"M464.604 166.745 Q462.798 171.375 461.085 172.787 Q459.373 174.199 456.502 174.199 L453.099 174.199 L453.099 170.634 L455.599 170.634 Q457.359 170.634 458.331 169.8 Q459.303 168.967 460.484 165.865 L461.248 163.921 L450.761 138.412 L455.275 138.412 L463.377 158.689 L471.479 138.412 L475.993 138.412 L464.604 166.745 Z\" fill=\"#000000\" fill-rule=\"nonzero\" fill-opacity=\"1\" /><path clip-path=\"url(#clip730)\" d=\"M483.284 160.402 L490.923 160.402 L490.923 134.037 L482.613 135.703 L482.613 131.444 L490.877 129.778 L495.553 129.778 L495.553 160.402 L503.192 160.402 L503.192 164.338 L483.284 164.338 L483.284 160.402 Z\" fill=\"#000000\" fill-rule=\"nonzero\" fill-opacity=\"1\" /></svg>\n"
      ]
     },
     "metadata": {},
     "output_type": "display_data"
    }
   ],
   "source": [
    "plot(nsamples, rel_err_ratio_gate)\n"
   ]
  },
  {
   "cell_type": "code",
   "execution_count": null,
   "metadata": {},
   "outputs": [],
   "source": [
    "\n",
    "nqubits = vec([2 4 6 8 12 16 32 64])\n",
    "steps = 10\n",
    "angle_definition = pi/8\n",
    "T = 1.0\n",
    "J = 5.0 #J > 0 in ferromagnetic phase, J < 0 in antiferromagnetic phase\n",
    "h = 1.0 #abs(h) < abs(J) in ordered phase\n",
    "trotter = trotter_setup(nq, steps, T, J, h);\n",
    "\n",
    "rel_err_ratio_gate = []\n",
    "rel_err_ratio_naive = []\n",
    "\n",
    "for nq=nqubits\n",
    "    exact_expvals, noisy_expvals, corr_energy, rel_error_before, rel_error_after = full_run(nq, steps, angle_definition, T, J, h, trotter, \"naive\", min_abs_coeff, min_abs_coeff_noisy)\n",
    "    push!(rel_err_ratio_naive, rel_error_before/rel_error_after)\n",
    "\n",
    "    exact_expvals, noisy_expvals, corr_energy, rel_error_before, rel_error_after = full_run(nq, steps, angle_definition, T, J, h, trotter, \"gate\", min_abs_coeff, min_abs_coeff_noisy)\n",
    "    push!(rel_err_ratio_gate, rel_error_before/rel_error_after)\n",
    "end\n",
    "\n"
   ]
  },
  {
   "cell_type": "code",
   "execution_count": 24,
   "metadata": {},
   "outputs": [
    {
     "ename": "DimensionMismatch",
     "evalue": "DimensionMismatch: column :nqubits has length 8 and column :rel_err_ratio_gate has length 0",
     "output_type": "error",
     "traceback": [
      "DimensionMismatch: column :nqubits has length 8 and column :rel_err_ratio_gate has length 0\n",
      "\n",
      "Stacktrace:\n",
      " [1] DataFrame(columns::Vector{Any}, colindex::DataFrames.Index; copycols::Bool)\n",
      "   @ DataFrames ~/.julia/packages/DataFrames/kcA9R/src/dataframe/dataframe.jl:212\n",
      " [2] DataFrame\n",
      "   @ ~/.julia/packages/DataFrames/kcA9R/src/dataframe/dataframe.jl:193 [inlined]\n",
      " [3] DataFrame(; kwargs::@Kwargs{nqubits::Vector{Int64}, rel_err_ratio_gate::Vector{Any}, rel_err_ratio_naive::Vector{Any}})\n",
      "   @ DataFrames ~/.julia/packages/DataFrames/kcA9R/src/dataframe/dataframe.jl:332\n",
      " [4] top-level scope\n",
      "   @ ~/files/EPFLph/MA4/QIC_project/pp-em/cdr/jl_notebook_cell_df34fa98e69747e1a8f8a730347b8e2f_X36sZmlsZQ==.jl:1"
     ]
    }
   ],
   "source": [
    "df = DataFrame(nqubits = nqubits, rel_err_ratio_gate = rel_err_ratio_gate, rel_err_ratio_naive = rel_err_ratio_naive)\n",
    "fn = format(\"data/J={:.2f}_h={:.2f}_T={:.2f}_angdef={:.2f}_steps={:n}_nqubits={:n}to{:n}_minabs={:.2e}_minabsnoisy={:.2e}.csv\", J, h, T, angle_definition, steps, nqubits[1], nqubits[end], min_abs_coeff, min_abs_coeff_noisy)\n",
    "CSV.write(fn, df)"
   ]
  },
  {
   "cell_type": "code",
   "execution_count": 25,
   "metadata": {},
   "outputs": [
    {
     "name": "stdout",
     "output_type": "stream",
     "text": []
    }
   ],
   "source": [
    "plot(nqubits, rel_err_ratio_gate)\n",
    "plot!(nqubits, rel_err_ratio_naive)"
   ]
  }
 ],
 "metadata": {
  "kernelspec": {
   "display_name": "Julia 1.11.3",
   "language": "julia",
   "name": "julia-1.11"
  },
  "language_info": {
   "file_extension": ".jl",
   "mimetype": "application/julia",
   "name": "julia",
   "version": "1.11.3"
  }
 },
 "nbformat": 4,
 "nbformat_minor": 2
}
