{
 "cells": [
  {
   "cell_type": "code",
   "execution_count": 1,
   "metadata": {},
   "outputs": [],
   "source": [
    "using PauliPropagation\n",
    "using Random\n",
    "using Optim\n",
    "using Plots\n",
    "Random.seed!(43)\n",
    "using ReverseDiff: GradientTape, gradient!, compile, gradient\n",
    "using LinearAlgebra\n",
    "using StatsBase \n",
    "using GLM\n",
    "using DataFrames\n",
    "using CSV"
   ]
  },
  {
   "cell_type": "markdown",
   "metadata": {},
   "source": [
    "# CDR for quantum dynamics\n",
    "- TFIM Hamiltonian (constants not site-dependent) evolving with TDSE\n",
    "- discretize the evolution steps and use first-order Trotter decomposition \n",
    "\n",
    "### Idea:\n",
    "- DONE: Run \"exact\" evolution for small trotterized circuit\n",
    "- DONE: Create near-Clifford circuits:replace some gates in Trotterized gate by close Cliffords - no VQA here so this is much simpler, find closest Clifford to the RZZ and to the RX (only have 2 angles in total), replace a portion randomly (no MCMC), keep the parameter of N = non-Cliffords const. st. system remains cl. scalable.\n",
    "- create MWE of CDR within quantum dynamics\n",
    "- which gates ones we replace has influence on the accuracy of the expectation value (principle of causal light cone as seen in vnCDR paper Piotr, is this automatically respected within Heisenberg picture? (backprop observable)), so we can aim to replace only gates that contribute to an expectation value (works only for single-qubit / local observables)\n",
    "- another idea is to try the perturbation approach (all non-Cliffords) \n",
    "\n"
   ]
  },
  {
   "cell_type": "code",
   "execution_count": 2,
   "metadata": {},
   "outputs": [],
   "source": [
    "struct trotter_ansatz\n",
    "    target_circuit::Vector{Gate}\n",
    "    topology::Vector{Tuple{Int64, Int64}}\n",
    "    nqubits::Integer\n",
    "    steps::Integer\n",
    "    time::Integer\n",
    "    J::Float64\n",
    "    h::Float64\n",
    "    sigma_J::Float64\n",
    "    sigma_h::Float64\n",
    "    sigma_J_indices::Vector{Int64}\n",
    "    sigma_h_indices::Vector{Int64}\n",
    "end"
   ]
  },
  {
   "cell_type": "code",
   "execution_count": 3,
   "metadata": {},
   "outputs": [
    {
     "data": {
      "text/plain": [
       "trotter_setup (generic function with 1 method)"
      ]
     },
     "metadata": {},
     "output_type": "display_data"
    }
   ],
   "source": [
    "function trotter_setup(nqubits::Integer, steps::Integer, time::Float64, J::Float64, h::Float64;topology = nothing)\n",
    "    if isnothing(topology)\n",
    "        topology = bricklayertopology(nqubits)\n",
    "    end\n",
    "    target_circuit = tfitrottercircuit(nqubits,steps,topology=topology) #start with RZZ layer\n",
    "   \n",
    "    sigma_J = -2*T*J/steps\n",
    "    sigma_h = 2*T*h/steps \n",
    "\n",
    "    sigma_J_indices = getparameterindices(target_circuit, PauliRotation, [:Z,:Z]) \n",
    "    sigma_h_indices = getparameterindices(target_circuit, PauliRotation, [:X])\n",
    "    \n",
    "    return trotter_ansatz(target_circuit, topology, nqubits, steps, time, J, h,sigma_J, sigma_h,sigma_J_indices, sigma_h_indices)\n",
    "end"
   ]
  },
  {
   "cell_type": "code",
   "execution_count": 4,
   "metadata": {},
   "outputs": [
    {
     "data": {
      "text/plain": [
       "constrain_params (generic function with 1 method)"
      ]
     },
     "metadata": {},
     "output_type": "display_data"
    }
   ],
   "source": [
    "function constrain_params(ansatz)\n",
    "    nparams = countparameters(ansatz.target_circuit)\n",
    "    thetas = zeros(nparams)\n",
    "    thetas[ansatz.sigma_h_indices] .= ansatz.sigma_h\n",
    "    thetas[ansatz.sigma_J_indices] .= ansatz.sigma_J\n",
    "    return thetas\n",
    "end"
   ]
  },
  {
   "cell_type": "code",
   "execution_count": 5,
   "metadata": {},
   "outputs": [
    {
     "data": {
      "text/plain": [
       "obs_magnetization (generic function with 1 method)"
      ]
     },
     "metadata": {},
     "output_type": "display_data"
    }
   ],
   "source": [
    "function obs_magnetization(ansatz)\n",
    "    magnetization = PauliSum(ansatz.nqubits)\n",
    "    for i in 1:nq\n",
    "        add!(magnetization,:Z,i)\n",
    "    end\n",
    "    magnetization = magnetization/nq\n",
    "    return magnetization\n",
    "end"
   ]
  },
  {
   "cell_type": "code",
   "execution_count": 6,
   "metadata": {},
   "outputs": [
    {
     "data": {
      "text/plain": [
       "exact_trotter_time_evolution (generic function with 1 method)"
      ]
     },
     "metadata": {},
     "output_type": "display_data"
    }
   ],
   "source": [
    "function exact_trotter_time_evolution(ansatz)\n",
    "    thetas = constrain_params(ansatz)\n",
    "    obs = obs_magnetization(ansatz)\n",
    "    circuit = copy(ansatz.target_circuit)\n",
    "    psum =propagate(circuit,obs, thetas)\n",
    "    return overlapwithzero(psum)\n",
    "end"
   ]
  },
  {
   "cell_type": "code",
   "execution_count": 7,
   "metadata": {},
   "outputs": [
    {
     "data": {
      "text/plain": [
       "training_set_generation (generic function with 1 method)"
      ]
     },
     "metadata": {},
     "output_type": "display_data"
    }
   ],
   "source": [
    "function training_set_generation(ansatz::trotter_ansatz; num_samples::Int = 10, non_cliffs::Int = 30)\n",
    "    nparams = countparameters(ansatz.target_circuit)\n",
    "    cliffs = nparams - non_cliffs\n",
    "    ratio = length(ansatz.sigma_J_indices)/length(ansatz.sigma_h_indices)\n",
    "    num_h = Int(round(ratio*cliffs))\n",
    "    num_J = Int(round((1-ratio)*cliffs))\n",
    "    training_thetas_list = Vector{Vector{Float64}}()\n",
    "    thetas = constrain_params(ansatz)\n",
    "    for _ in 1:num_samples\n",
    "        training_thetas = deepcopy(thetas)\n",
    "        shuffled_sigma_h_indices =  Random.shuffle!(ansatz.sigma_h_indices)\n",
    "        shuffled_sigma_J_indices = Random.shuffle!(ansatz.sigma_J_indices)\n",
    "        selected_indices_h = shuffled_sigma_h_indices[1:num_h]\n",
    "        selected_indices_J = shuffled_sigma_J_indices[1:num_J];   \n",
    "        k_h =round(ansatz.sigma_h/(π/4))\n",
    "        k_J =round(ansatz.sigma_J/(π/4))\n",
    "\n",
    "        for i in selected_indices_h\n",
    "            training_thetas[i] = k_h*π/4\n",
    "        end\n",
    "        for i in selected_indices_J\n",
    "            training_thetas[i] = k_J*π/4\n",
    "        end\n",
    "        push!(training_thetas_list, training_thetas)\n",
    "    end\n",
    "    return training_thetas_list\n",
    "end"
   ]
  },
  {
   "cell_type": "code",
   "execution_count": 8,
   "metadata": {},
   "outputs": [
    {
     "data": {
      "text/plain": [
       "training_exact_time_evolution (generic function with 1 method)"
      ]
     },
     "metadata": {},
     "output_type": "display_data"
    }
   ],
   "source": [
    "function training_exact_time_evolution(ansatz,training_thetas)\n",
    "    exact_expvals = Vector{Float64}()\n",
    "    for thetas in training_thetas\n",
    "        obs = obs_magnetization(ansatz)\n",
    "        circuit = copy(ansatz.target_circuit)\n",
    "        psum =propagate(circuit,obs, thetas)\n",
    "        push!(exact_expvals, overlapwithzero(psum))\n",
    "    end\n",
    "    return exact_expvals\n",
    "end"
   ]
  },
  {
   "cell_type": "code",
   "execution_count": 9,
   "metadata": {},
   "outputs": [
    {
     "data": {
      "text/plain": [
       "noisy_time_evolution (generic function with 1 method)"
      ]
     },
     "metadata": {},
     "output_type": "display_data"
    }
   ],
   "source": [
    "function noisy_time_evolution(ansatz, exact_training_thetas; depol_strength = 0.05, dephase_strength = 0.05)\n",
    "    noisy_expvals = Vector{Float64}()\n",
    "\n",
    "    #to be replaced with a decent noise model\n",
    "    depol_noise_layer = [DepolarizingNoise(qind, depol_strength ) for qind in 1:ansatz.nqubits];\n",
    "    dephase_noise_layer = [DephasingNoise(qind, dephase_strength) for qind in 1:ansatz.nqubits];\n",
    "    \n",
    "    noisy_circuit = deepcopy(ansatz.target_circuit)\n",
    "    obs = obs_magnetization(ansatz)\n",
    "    append!(noisy_circuit,depol_noise_layer)\n",
    "    append!(noisy_circuit,dephase_noise_layer)\n",
    "\n",
    "    for i in 1:length(exact_training_thetas)\n",
    "        thetas = exact_training_thetas[i]\n",
    "        psum = propagate(noisy_circuit,obs,thetas)\n",
    "        push!(noisy_expvals, overlapwithzero(psum))\n",
    "    end\n",
    "\n",
    "    return noisy_expvals\n",
    "end"
   ]
  },
  {
   "cell_type": "markdown",
   "metadata": {},
   "source": [
    "### Exact evolution of a small trotterized circuit (see CPDR p.7)"
   ]
  },
  {
   "cell_type": "code",
   "execution_count": 10,
   "metadata": {},
   "outputs": [],
   "source": [
    "nq = 4\n",
    "steps = 10\n",
    "T = 1.0\n",
    "J = 5.0 #J > 0 in ferromagnetic phase, J < 0 in antiferromagnetic phase\n",
    "h = 1.0 #abs(h) < abs(J) in ordered phase\n",
    "trotter = trotter_setup(nq, steps, T, J, h);"
   ]
  },
  {
   "cell_type": "code",
   "execution_count": 11,
   "metadata": {},
   "outputs": [
    {
     "data": {
      "text/plain": [
       "0.9473863474250936"
      ]
     },
     "metadata": {},
     "output_type": "display_data"
    }
   ],
   "source": [
    "exact_expval_target = exact_trotter_time_evolution(trotter) #should be close to one as we stay in FM phase"
   ]
  },
  {
   "cell_type": "code",
   "execution_count": 12,
   "metadata": {},
   "outputs": [
    {
     "data": {
      "text/plain": [
       "1-element Vector{Float64}:\n",
       " 0.9000170300538388"
      ]
     },
     "metadata": {},
     "output_type": "display_data"
    }
   ],
   "source": [
    "noisy_expval_target = noisy_time_evolution(trotter, [constrain_params(trotter)])"
   ]
  },
  {
   "cell_type": "markdown",
   "metadata": {},
   "source": [
    "### Training set generation"
   ]
  },
  {
   "cell_type": "code",
   "execution_count": 13,
   "metadata": {},
   "outputs": [],
   "source": [
    "num_samples = 10\n",
    "list = training_set_generation(trotter; num_samples = 10, non_cliffs = 30);"
   ]
  },
  {
   "cell_type": "markdown",
   "metadata": {},
   "source": [
    "### Exact time evolution for the training set"
   ]
  },
  {
   "cell_type": "code",
   "execution_count": 14,
   "metadata": {},
   "outputs": [],
   "source": [
    "exact_expvals = training_exact_time_evolution(trotter,list);"
   ]
  },
  {
   "cell_type": "markdown",
   "metadata": {},
   "source": [
    "### Noisy expectation values\n",
    "- 1 layer of depolarizing and dephasing noise\n",
    "- for more realistic noise model, add after each gate"
   ]
  },
  {
   "cell_type": "code",
   "execution_count": 15,
   "metadata": {},
   "outputs": [],
   "source": [
    "noisy_expvals = noisy_time_evolution(trotter,list);"
   ]
  },
  {
   "cell_type": "markdown",
   "metadata": {},
   "source": [
    "### CDR"
   ]
  },
  {
   "cell_type": "code",
   "execution_count": 16,
   "metadata": {},
   "outputs": [
    {
     "data": {
      "text/plain": [
       "cdr (generic function with 1 method)"
      ]
     },
     "metadata": {},
     "output_type": "display_data"
    }
   ],
   "source": [
    "function cdr(noisy_exp_values::Vector{Float64}, exact_exp_values::Vector{Float64}, noisy_target_exp_value::Float64, exact_target_exp_value::Float64; verbose=false)\n",
    "    training_data = DataFrame(x=noisy_exp_values,y=exact_exp_values)\n",
    "    ols = lm(@formula(y ~ x), training_data)\n",
    "    function cdr_em(x)\n",
    "        return  coef(ols)[1] + coef(ols)[2] * x\n",
    "    end\n",
    "    rel_error_after = abs(exact_target_exp_value - cdr_em(noisy_target_exp_value)) / abs(exact_target_exp_value)\n",
    "    rel_error_before = abs(exact_target_exp_value - noisy_target_exp_value) / abs(exact_target_exp_value)\n",
    "    if verbose\n",
    "        println(training_data)\n",
    "        println(\"Noisy target expectation value: \", noisy_target_exp_value)\n",
    "        println(\"Relative error before CDR: \", rel_error_before)\n",
    "        println(\"CDR-EM target expectation value: \", cdr_em(noisy_target_exp_value))\n",
    "        println(\"Relative error after CDR: \", rel_error_after)\n",
    "    end\n",
    "    return cdr_em(noisy_target_exp_value), rel_error_after, rel_error_before\n",
    "end "
   ]
  },
  {
   "cell_type": "code",
   "execution_count": 17,
   "metadata": {},
   "outputs": [
    {
     "name": "stdout",
     "output_type": "stream",
     "text": [
      "\u001b[1m10×2 DataFrame\u001b[0m\n",
      "\u001b[1m Row \u001b[0m│\u001b[1m x        \u001b[0m\u001b[1m y        \u001b[0m\n",
      "     │\u001b[90m Float64  \u001b[0m\u001b[90m Float64  \u001b[0m\n",
      "─────┼────────────────────\n",
      "   1 │ 0.91437   0.962495\n",
      "   2 │ 0.917084  0.965352\n",
      "   3 │ 0.912573  0.960603\n",
      "   4 │ 0.935092  0.984308\n",
      "   5 │ 0.915464  0.963647\n",
      "   6 │ 0.91644   0.964673\n",
      "   7 │ 0.870682  0.916508\n",
      "   8 │ 0.875462  0.921539\n",
      "   9 │ 0.938262  0.987645\n",
      "  10 │ 0.912235  0.960248\n",
      "Noisy target expectation value: 0.9000170300538388\n",
      "Relative error before CDR: 0.050000000000000155\n",
      "CDR-EM target expectation value: 0.9473863474251005\n",
      "Relative error after CDR: 7.265655422821274e-15\n"
     ]
    },
    {
     "data": {
      "text/plain": [
       "(0.9473863474251005, 7.265655422821274e-15, 0.050000000000000155)"
      ]
     },
     "metadata": {},
     "output_type": "display_data"
    }
   ],
   "source": [
    "corr_energy, rel_error_after, rel_error_before = cdr(noisy_expvals, exact_expvals, noisy_expval_target[1], exact_expval_target; verbose=true)  "
   ]
  }
 ],
 "metadata": {
  "kernelspec": {
   "display_name": "Julia 1.11.3",
   "language": "julia",
   "name": "julia-1.11"
  },
  "language_info": {
   "file_extension": ".jl",
   "mimetype": "application/julia",
   "name": "julia",
   "version": "1.11.3"
  }
 },
 "nbformat": 4,
 "nbformat_minor": 2
}
