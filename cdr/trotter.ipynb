{
 "cells": [
  {
   "cell_type": "code",
   "execution_count": 1,
   "metadata": {},
   "outputs": [],
   "source": [
    "using PauliPropagation\n",
    "using Random\n",
    "using Optim\n",
    "using Plots\n",
    "Random.seed!(43)\n",
    "using ReverseDiff: GradientTape, gradient!, compile, gradient\n",
    "using LinearAlgebra\n",
    "using StatsBase \n",
    "using GLM\n",
    "using DataFrames\n",
    "using CSV"
   ]
  },
  {
   "cell_type": "markdown",
   "metadata": {},
   "source": [
    "# CDR for quantum dynamics\n",
    "- TFIM Hamiltonian (constants not site-dependent) evolving with TDSE\n",
    "- discretize the evolution steps and use first-order Trotter decomposition \n",
    "\n",
    "### Idea:\n",
    "- DONE: Run \"exact\" evolution for small trotterized circuit\n",
    "- DONE: Create near-Clifford circuits:replace some gates in Trotterized gate by close Cliffords - no VQA here so this is much simpler, find closest Clifford to the RZZ and to the RX (only have 2 angles in total), replace a portion randomly (no MCMC), keep the parameter of N = non-Cliffords const. st. system remains cl. scalable.\n",
    "- DONE: create MWE of CDR within quantum dynamics\n",
    "- which gates ones we replace has influence on the accuracy of the expectation value (principle of causal light cone as seen in vnCDR paper Piotr, is this automatically respected within Heisenberg picture? (backprop observable)), so we can aim to replace only gates that contribute to an expectation value (works only for single-qubit / local observables)\n",
    "- another idea is to try the perturbation approach (all non-Cliffords) "
   ]
  },
  {
   "cell_type": "code",
   "execution_count": 2,
   "metadata": {},
   "outputs": [],
   "source": [
    "struct trotter_ansatz\n",
    "    target_circuit::Vector{Gate}\n",
    "    target_circuit_layer::Vector{Gate}\n",
    "    topology::Vector{Tuple{Int64, Int64}}\n",
    "    nqubits::Integer\n",
    "    steps::Integer #layers\n",
    "    time::Integer\n",
    "    J::Float64\n",
    "    h::Float64\n",
    "    sigma_J::Float64\n",
    "    sigma_h::Float64\n",
    "    sigma_J_indices::Vector{Int64}\n",
    "    sigma_h_indices::Vector{Int64}\n",
    "    sigma_J_indices_layer::Vector{Int64}\n",
    "    sigma_h_indices_layer::Vector{Int64}\n",
    "end"
   ]
  },
  {
   "cell_type": "code",
   "execution_count": 3,
   "metadata": {},
   "outputs": [
    {
     "data": {
      "text/plain": [
       "trotter_setup (generic function with 1 method)"
      ]
     },
     "metadata": {},
     "output_type": "display_data"
    }
   ],
   "source": [
    "function trotter_setup(nqubits::Integer, steps::Integer, time::Float64, J::Float64, h::Float64;topology = nothing)\n",
    "    if isnothing(topology)\n",
    "        topology = bricklayertopology(nqubits)\n",
    "    end\n",
    "    target_circuit = tfitrottercircuit(nqubits,steps,topology=topology) #start with RZZ layer\n",
    "    target_circuit_layer = tfitrottercircuit(nqubits,1,topology=topology) #start with RZZ layer\n",
    "    sigma_J = -2*T*J/steps\n",
    "    sigma_h = 2*T*h/steps \n",
    "\n",
    "    sigma_J_indices = getparameterindices(target_circuit, PauliRotation, [:Z,:Z]) \n",
    "    sigma_h_indices = getparameterindices(target_circuit, PauliRotation, [:X])\n",
    "    \n",
    "    sigma_J_indices_layer = getparameterindices(target_circuit_layer, PauliRotation, [:Z,:Z])\n",
    "    sigma_h_indices_layer = getparameterindices(target_circuit_layer, PauliRotation, [:X])\n",
    "    \n",
    "    return trotter_ansatz(target_circuit,target_circuit_layer, topology, nqubits, steps, time, J, h,sigma_J, sigma_h,sigma_J_indices, sigma_h_indices, sigma_J_indices_layer, sigma_h_indices_layer)\n",
    "end"
   ]
  },
  {
   "cell_type": "code",
   "execution_count": 4,
   "metadata": {},
   "outputs": [
    {
     "data": {
      "text/plain": [
       "constrain_params (generic function with 1 method)"
      ]
     },
     "metadata": {},
     "output_type": "display_data"
    }
   ],
   "source": [
    "function constrain_params(ansatz; layer = false)\n",
    "\n",
    "    if layer == false\n",
    "        nparams = countparameters(ansatz.target_circuit)\n",
    "        thetas = zeros(nparams)\n",
    "        thetas[ansatz.sigma_h_indices] .= ansatz.sigma_h\n",
    "        thetas[ansatz.sigma_J_indices] .= ansatz.sigma_J\n",
    "\n",
    "    else\n",
    "        nparams = countparameters(ansatz.target_circuit_layer)\n",
    "        thetas = zeros(nparams)\n",
    "        thetas[ansatz.sigma_h_indices_layer] .= ansatz.sigma_h\n",
    "        thetas[ansatz.sigma_J_indices_layer] .= ansatz.sigma_J\n",
    "\n",
    "    end\n",
    "    \n",
    "    return thetas\n",
    "end"
   ]
  },
  {
   "cell_type": "code",
   "execution_count": 5,
   "metadata": {},
   "outputs": [
    {
     "data": {
      "text/plain": [
       "obs_magnetization (generic function with 1 method)"
      ]
     },
     "metadata": {},
     "output_type": "display_data"
    }
   ],
   "source": [
    "function obs_magnetization(ansatz)\n",
    "    magnetization = PauliSum(ansatz.nqubits)\n",
    "    for i in 1:nq\n",
    "        add!(magnetization,:Z,i)\n",
    "    end\n",
    "    magnetization = magnetization/nq\n",
    "    return magnetization\n",
    "end"
   ]
  },
  {
   "cell_type": "code",
   "execution_count": 6,
   "metadata": {},
   "outputs": [
    {
     "data": {
      "text/plain": [
       "training_set_generation (generic function with 1 method)"
      ]
     },
     "metadata": {},
     "output_type": "display_data"
    }
   ],
   "source": [
    "function training_set_generation(ansatz::trotter_ansatz; num_samples::Int = 10, non_cliffs::Int = 30)\n",
    "    nparams = countparameters(ansatz.target_circuit)\n",
    "    cliffs = nparams - non_cliffs\n",
    "\n",
    "    ratio = length(ansatz.sigma_J_indices)/(length(ansatz.sigma_h_indices) + length(ansatz.sigma_J_indices))\n",
    "    num_h = Int(round((1-ratio)*cliffs))\n",
    "    num_J = Int(round(ratio*cliffs))\n",
    "    training_thetas_list = Vector{Vector{Float64}}()\n",
    "    thetas = constrain_params(ansatz)\n",
    "    for _ in 1:num_samples\n",
    "        training_thetas = deepcopy(thetas)\n",
    "        shuffled_sigma_h_indices =  Random.shuffle!(ansatz.sigma_h_indices)\n",
    "        shuffled_sigma_J_indices = Random.shuffle!(ansatz.sigma_J_indices)\n",
    "        selected_indices_h = shuffled_sigma_h_indices[1:num_h]\n",
    "        selected_indices_J = shuffled_sigma_J_indices[1:num_J];   \n",
    "        k_h = round(ansatz.sigma_h/(π/4))\n",
    "        k_J = round(ansatz.sigma_J/(π/4))\n",
    "\n",
    "        for i in selected_indices_h\n",
    "            training_thetas[i] = k_h*π/4\n",
    "        end\n",
    "        for i in selected_indices_J\n",
    "            training_thetas[i] = k_J*π/4\n",
    "        end\n",
    "        push!(training_thetas_list, training_thetas)\n",
    "    end\n",
    "    return training_thetas_list\n",
    "end"
   ]
  },
  {
   "cell_type": "code",
   "execution_count": 7,
   "metadata": {},
   "outputs": [
    {
     "data": {
      "text/plain": [
       "exact_trotter_time_evolution (generic function with 1 method)"
      ]
     },
     "metadata": {},
     "output_type": "display_data"
    }
   ],
   "source": [
    "function exact_trotter_time_evolution(ansatz; special_theta = false,noisy_circuit = false,record = false)\n",
    "\n",
    "    layer = record\n",
    "    if special_theta == false\n",
    "        thetas = constrain_params(ansatz,layer=layer)\n",
    "    else\n",
    "        thetas = special_theta\n",
    "    end\n",
    "    obs = obs_magnetization(ansatz)\n",
    "\n",
    "    if record == false\n",
    "        if noisy_circuit == false\n",
    "            noisy_circuit = copy(ansatz.target_circuit)\n",
    "        end\n",
    "        psum = propagate!(noisy_circuit,obs,thetas)\n",
    "    \n",
    "        return overlapwithzero(psum)\n",
    "\n",
    "    else \n",
    "        expvals_trotter = Float64[]\n",
    "        if noisy_circuit == false\n",
    "            noisy_circuit = copy(ansatz.target_circuit_layer)\n",
    "        end\n",
    "        \n",
    "        for i in 1:ansatz.steps\n",
    "            psum = propagate!(noisy_circuit,obs, thetas)\n",
    "            push!(expvals_trotter, overlapwithzero(psum))\n",
    "        end\n",
    "\n",
    "        return expvals_trotter\n",
    "        \n",
    "    end\n",
    "    \n",
    "\n",
    "end"
   ]
  },
  {
   "cell_type": "code",
   "execution_count": 8,
   "metadata": {},
   "outputs": [
    {
     "data": {
      "text/plain": [
       "exact_time_evolution (generic function with 1 method)"
      ]
     },
     "metadata": {},
     "output_type": "display_data"
    }
   ],
   "source": [
    "function exact_time_evolution(ansatz,training_thetas; noisy_circuit = false, record = false)\n",
    "    if record == false\n",
    "        exact_expvals = Vector{Float64}()\n",
    "    else\n",
    "        exact_expvals = Vector{Vector{Float64}}()\n",
    "    end\n",
    "    for thetas in training_thetas\n",
    "        exact_exp_val = exact_trotter_time_evolution(ansatz;special_theta = thetas, noisy_circuit = noisy_circuit, record = record)\n",
    "        push!(exact_expvals, exact_exp_val)\n",
    "    end\n",
    "    return exact_expvals\n",
    "end"
   ]
  },
  {
   "cell_type": "code",
   "execution_count": 9,
   "metadata": {},
   "outputs": [
    {
     "data": {
      "text/plain": [
       "final_noise_layer_circuit (generic function with 1 method)"
      ]
     },
     "metadata": {},
     "output_type": "display_data"
    }
   ],
   "source": [
    "function final_noise_layer_circuit(ansatz; depol_strength = 0.05, dephase_strength = 0.05)\n",
    "        #to be replaced with a decent noise model\n",
    "        depol_noise_layer = [DepolarizingNoise(qind, depol_strength ) for qind in 1:ansatz.nqubits];\n",
    "        dephase_noise_layer = [DephasingNoise(qind, dephase_strength) for qind in 1:ansatz.nqubits];\n",
    "        noisy_circuit = deepcopy(ansatz.target_circuit)\n",
    "        append!(noisy_circuit,depol_noise_layer)\n",
    "        append!(noisy_circuit,dephase_noise_layer)\n",
    "\n",
    "        return noisy_circuit\n",
    "end"
   ]
  },
  {
   "cell_type": "code",
   "execution_count": 10,
   "metadata": {},
   "outputs": [
    {
     "data": {
      "text/plain": [
       "gate_noise_circuit (generic function with 1 method)"
      ]
     },
     "metadata": {},
     "output_type": "display_data"
    }
   ],
   "source": [
    "function gate_noise_circuit(ansatz;depol_strength = 0.01, dephase_strength = 0.01, topology=nothing, start_with_ZZ=true, layer = false)\n",
    "    circuit::Vector{Gate} = []\n",
    "\n",
    "    if layer == false\n",
    "        steps = ansatz.steps\n",
    "    else\n",
    "        steps = 1\n",
    "    end\n",
    "\n",
    "    if isnothing(topology)\n",
    "        topology = bricklayertopology(ansatz.nqubits)\n",
    "    end\n",
    "\n",
    "    # the function after this expects a circuit with at least one layer and will always append something\n",
    "    if steps == 0\n",
    "        return circuit\n",
    "    end\n",
    "\n",
    "    depol_noise_layer = [DepolarizingNoise(qind, depol_strength ) for qind in 1:ansatz.nqubits];\n",
    "    phase_damp_layer = [DephasingNoise(qind, dephase_strength) for qind in 1:ansatz.nqubits];\n",
    "\n",
    "    if start_with_ZZ\n",
    "        rzzlayer!(circuit, ansatz.topology)\n",
    "        append!(circuit,depol_noise_layer)\n",
    "        append!(circuit,phase_damp_layer)\n",
    "    end\n",
    "\n",
    "    for _ in 1:steps-1\n",
    "        rxlayer!(circuit, ansatz.nqubits)\n",
    "        append!(circuit,depol_noise_layer)\n",
    "        append!(circuit,phase_damp_layer)\n",
    "        rzzlayer!(circuit, ansatz.topology)\n",
    "        append!(circuit,depol_noise_layer)\n",
    "        append!(circuit,phase_damp_layer)\n",
    "    end\n",
    "\n",
    "    rxlayer!(circuit, ansatz.nqubits)\n",
    "    append!(circuit,depol_noise_layer)\n",
    "    append!(circuit,phase_damp_layer)\n",
    "\n",
    "    if !start_with_ZZ\n",
    "        rzzlayer!(circuit, ansatz.topology)\n",
    "        append!(circuit,depol_noise_layer)\n",
    "        append!(circuit,phase_damp_layer)\n",
    "    end\n",
    "\n",
    "    return circuit\n",
    "end"
   ]
  },
  {
   "cell_type": "code",
   "execution_count": 11,
   "metadata": {},
   "outputs": [
    {
     "data": {
      "text/plain": [
       "cdr (generic function with 1 method)"
      ]
     },
     "metadata": {},
     "output_type": "display_data"
    }
   ],
   "source": [
    "function cdr(noisy_exp_values::Vector{Float64}, exact_exp_values::Vector{Float64}, noisy_target_exp_value::Float64, exact_target_exp_value::Float64; verbose=false)\n",
    "    training_data = DataFrame(x=noisy_exp_values,y=exact_exp_values)\n",
    "    ols = lm(@formula(y ~ x), training_data)\n",
    "    function cdr_em(x)\n",
    "        return  coef(ols)[1] + coef(ols)[2] * x\n",
    "    end\n",
    "    rel_error_after = abs(exact_target_exp_value - cdr_em(noisy_target_exp_value)) / abs(exact_target_exp_value)\n",
    "    rel_error_before = abs(exact_target_exp_value - noisy_target_exp_value) / abs(exact_target_exp_value)\n",
    "    if verbose\n",
    "        println(training_data)\n",
    "        println(\"Noisy target expectation value: \", noisy_target_exp_value)\n",
    "        println(\"Relative error before CDR: \", rel_error_before)\n",
    "        println(\"CDR-EM target expectation value: \", cdr_em(noisy_target_exp_value))\n",
    "        println(\"Relative error after CDR: \", rel_error_after)\n",
    "    end\n",
    "    return cdr_em(noisy_target_exp_value), rel_error_after, rel_error_before\n",
    "end "
   ]
  },
  {
   "cell_type": "markdown",
   "metadata": {},
   "source": [
    "## MWE\n",
    "### Exact evolution of a small trotterized circuit (see CPDR p.7)"
   ]
  },
  {
   "cell_type": "code",
   "execution_count": 12,
   "metadata": {},
   "outputs": [],
   "source": [
    "nq = 4\n",
    "heaxy_hex_2_topology = [(1, 2), (2, 3), (3, 4), (4, 5), (5, 6), (6, 7), (7, 8), (8, 9), (9, 10), \n",
    "(10, 11), (11, 12), (12, 1), (5, 13), (13, 14), (14, 15), (15, 16), \n",
    "(16, 17), (17, 18), (18, 19), (19, 20), (20, 21), (21, 7)]\n",
    "steps = 20\n",
    "T = 1.0\n",
    "J = -5.0 # J > 0 in ferromagnetic phase, J < 0 in antiferromagnetic phase\n",
    "h = 1.0 #abs(h) < abs(J) in ordered phase\n",
    "trotter = trotter_setup(nq, steps, T, J, h);\n",
    "noisy_circuit = gate_noise_circuit(trotter, depol_strength = 0.01, dephase_strength = 0.01);\n",
    "noisy_circuit_layer = gate_noise_circuit(trotter, depol_strength = 0.01, dephase_strength = 0.01, layer = true);"
   ]
  },
  {
   "cell_type": "markdown",
   "metadata": {},
   "source": [
    "### Target data"
   ]
  },
  {
   "cell_type": "code",
   "execution_count": 13,
   "metadata": {},
   "outputs": [
    {
     "data": {
      "text/plain": [
       "20-element Vector{Float64}:\n",
       " 0.9950041652780258\n",
       " 0.9829560484547277\n",
       " 0.9702825313249236\n",
       " 0.9619469722102519\n",
       " 0.9584329190313695\n",
       " 0.957087782570214\n",
       " 0.9559873609699532\n",
       " 0.9562470753200086\n",
       " 0.960562826272945\n",
       " 0.9696769062697801\n",
       " 0.9804909022536117\n",
       " 0.9878083407048338\n",
       " 0.9881015452863708\n",
       " 0.9818659048034192\n",
       " 0.9726843605892368\n",
       " 0.9642670717202827\n",
       " 0.9582829322246882\n",
       " 0.9545048204736291\n",
       " 0.9523470614953738\n",
       " 0.9518557895834706"
      ]
     },
     "metadata": {},
     "output_type": "display_data"
    }
   ],
   "source": [
    "exact_expval_target = exact_trotter_time_evolution(trotter, record = true) #should be close to one as we stay in FM phase"
   ]
  },
  {
   "cell_type": "code",
   "execution_count": 14,
   "metadata": {},
   "outputs": [
    {
     "data": {
      "text/plain": [
       "20-element Vector{Float64}:\n",
       " 0.9752035823889931\n",
       " 0.9443168763851638\n",
       " 0.9134495751971731\n",
       " 0.8866885867684499\n",
       " 0.864103718403361\n",
       " 0.8434725688874809\n",
       " 0.8233598700808222\n",
       " 0.8044489755148089\n",
       " 0.7882263316074105\n",
       " 0.7747692230026499\n",
       " 0.7619822110550438\n",
       " 0.7469533949422559\n",
       " 0.728053238720715\n",
       " 0.7059017173392615\n",
       " 0.6825769642661015\n",
       " 0.6600148376366377\n",
       " 0.6390043613830174\n",
       " 0.619352032582033\n",
       " 0.600677008661402\n",
       " 0.5829390224783978"
      ]
     },
     "metadata": {},
     "output_type": "display_data"
    }
   ],
   "source": [
    "noisy_expval_target = exact_trotter_time_evolution(trotter; noisy_circuit = noisy_circuit_layer,record = true)"
   ]
  },
  {
   "cell_type": "code",
   "execution_count": 15,
   "metadata": {},
   "outputs": [
    {
     "name": "stdout",
     "output_type": "stream",
     "text": []
    }
   ],
   "source": [
    "plot(0:trotter.steps, exact_expval_target, ylabel=\"⟨Z⟩\", xlabel=\"time\", label=\"Noise-free\", marker=:o)\n",
    "plot!(0:trotter.steps, noisy_expval_target, label=\"Noisy\", marker=:o, c=2)"
   ]
  },
  {
   "cell_type": "markdown",
   "metadata": {},
   "source": [
    "### Training data"
   ]
  },
  {
   "cell_type": "code",
   "execution_count": 16,
   "metadata": {},
   "outputs": [
    {
     "data": {
      "text/plain": [
       "10-element Vector{Vector{Float64}}:\n",
       " [0.7853981633974483, 0.7853981633974483, 0.5, 0.0, 0.0, 0.1, 0.0, 0.7853981633974483, 0.7853981633974483, 0.7853981633974483  …  0.0, 0.0, 0.0, 0.7853981633974483, 0.7853981633974483, 0.7853981633974483, 0.0, 0.0, 0.0, 0.0]\n",
       " [0.7853981633974483, 0.5, 0.7853981633974483, 0.0, 0.1, 0.0, 0.0, 0.7853981633974483, 0.7853981633974483, 0.7853981633974483  …  0.0, 0.0, 0.0, 0.5, 0.7853981633974483, 0.7853981633974483, 0.0, 0.0, 0.1, 0.0]\n",
       " [0.7853981633974483, 0.7853981633974483, 0.5, 0.0, 0.0, 0.0, 0.0, 0.7853981633974483, 0.7853981633974483, 0.5  …  0.0, 0.0, 0.0, 0.7853981633974483, 0.5, 0.7853981633974483, 0.0, 0.1, 0.0, 0.0]\n",
       " [0.7853981633974483, 0.7853981633974483, 0.7853981633974483, 0.0, 0.0, 0.1, 0.1, 0.7853981633974483, 0.5, 0.7853981633974483  …  0.1, 0.0, 0.0, 0.7853981633974483, 0.5, 0.7853981633974483, 0.1, 0.0, 0.0, 0.0]\n",
       " [0.7853981633974483, 0.7853981633974483, 0.5, 0.0, 0.0, 0.1, 0.1, 0.7853981633974483, 0.5, 0.7853981633974483  …  0.0, 0.0, 0.0, 0.7853981633974483, 0.5, 0.7853981633974483, 0.0, 0.1, 0.0, 0.0]\n",
       " [0.7853981633974483, 0.7853981633974483, 0.7853981633974483, 0.0, 0.0, 0.0, 0.1, 0.7853981633974483, 0.7853981633974483, 0.5  …  0.0, 0.0, 0.1, 0.7853981633974483, 0.7853981633974483, 0.7853981633974483, 0.0, 0.0, 0.0, 0.0]\n",
       " [0.7853981633974483, 0.7853981633974483, 0.7853981633974483, 0.0, 0.0, 0.0, 0.1, 0.7853981633974483, 0.7853981633974483, 0.7853981633974483  …  0.0, 0.1, 0.0, 0.7853981633974483, 0.5, 0.7853981633974483, 0.0, 0.0, 0.0, 0.1]\n",
       " [0.7853981633974483, 0.7853981633974483, 0.7853981633974483, 0.1, 0.0, 0.0, 0.0, 0.7853981633974483, 0.7853981633974483, 0.7853981633974483  …  0.0, 0.0, 0.1, 0.7853981633974483, 0.7853981633974483, 0.5, 0.0, 0.0, 0.0, 0.0]\n",
       " [0.7853981633974483, 0.7853981633974483, 0.7853981633974483, 0.1, 0.0, 0.1, 0.0, 0.7853981633974483, 0.7853981633974483, 0.5  …  0.0, 0.0, 0.0, 0.7853981633974483, 0.5, 0.7853981633974483, 0.0, 0.0, 0.1, 0.0]\n",
       " [0.7853981633974483, 0.7853981633974483, 0.7853981633974483, 0.1, 0.1, 0.0, 0.0, 0.7853981633974483, 0.5, 0.7853981633974483  …  0.0, 0.1, 0.0, 0.7853981633974483, 0.7853981633974483, 0.7853981633974483, 0.0, 0.0, 0.1, 0.1]"
      ]
     },
     "metadata": {},
     "output_type": "display_data"
    }
   ],
   "source": [
    "list_training_thetas = training_set_generation(trotter; num_samples=10, non_cliffs=30)"
   ]
  },
  {
   "cell_type": "code",
   "execution_count": 17,
   "metadata": {},
   "outputs": [
    {
     "data": {
      "text/plain": [
       "10-element Vector{Float64}:\n",
       " 0.9824399370754818\n",
       " 0.9741040831600327\n",
       " 0.9731751176349954\n",
       " 0.9447809154200373\n",
       " 0.9755896635916715\n",
       " 0.9798127313927876\n",
       " 0.9812773985928911\n",
       " 0.9958605839146614\n",
       " 0.9872335701535768\n",
       " 0.9952384754534502"
      ]
     },
     "metadata": {},
     "output_type": "display_data"
    }
   ],
   "source": [
    "exact_expvals = exact_time_evolution(trotter,list_training_thetas)"
   ]
  },
  {
   "cell_type": "code",
   "execution_count": 18,
   "metadata": {},
   "outputs": [
    {
     "data": {
      "text/plain": [
       "10-element Vector{Float64}:\n",
       " 0.6529797585455857\n",
       " 0.6498460852139263\n",
       " 0.6491223687101924\n",
       " 0.6369099382684054\n",
       " 0.6506928448118635\n",
       " 0.6528545686612767\n",
       " 0.6544056428254187\n",
       " 0.6627935642708517\n",
       " 0.6587825136673917\n",
       " 0.6580009630269585"
      ]
     },
     "metadata": {},
     "output_type": "display_data"
    }
   ],
   "source": [
    "noisy_expvals = exact_time_evolution(trotter,list_training_thetas; noisy_circuit = noisy_circuit)"
   ]
  },
  {
   "cell_type": "code",
   "execution_count": 19,
   "metadata": {},
   "outputs": [],
   "source": [
    "noisy_circ = gate_noise_circuit(trotter, depol_strength = 0.01, dephase_strength = 0.01);"
   ]
  },
  {
   "cell_type": "code",
   "execution_count": 20,
   "metadata": {},
   "outputs": [
    {
     "name": "stdout",
     "output_type": "stream",
     "text": [
      "\u001b[1m10×2 DataFrame\u001b[0m\n",
      "\u001b[1m Row \u001b[0m│\u001b[1m x        \u001b[0m\u001b[1m y        \u001b[0m\n",
      "     │\u001b[90m Float64  \u001b[0m\u001b[90m Float64  \u001b[0m\n",
      "─────┼────────────────────\n",
      "   1 │ 0.65298   0.98244\n",
      "   2 │ 0.649846  0.974104\n",
      "   3 │ 0.649122  0.973175\n",
      "   4 │ 0.63691   0.944781\n",
      "   5 │ 0.650693  0.97559\n",
      "   6 │ 0.652855  0.979813\n",
      "   7 │ 0.654406  0.981277\n",
      "   8 │ 0.662794  0.995861\n",
      "   9 │ 0.658783  0.987234\n",
      "  10 │ 0.658001  0.995238\n",
      "Noisy target expectation value: 0.5829390224783978\n",
      "Relative error before CDR: 0.38757632315974017\n",
      "CDR-EM target expectation value: 0.8388041515090026\n",
      "Relative error after CDR: 0.11876971208415839\n"
     ]
    },
    {
     "data": {
      "text/plain": [
       "(0.8388041515090026, 0.11876971208415839, 0.38757632315974017)"
      ]
     },
     "metadata": {},
     "output_type": "display_data"
    }
   ],
   "source": [
    "corr_energy, rel_error_after, rel_error_before = cdr(noisy_expvals, exact_expvals, noisy_expval_target[end], exact_expval_target[end]; verbose=true)  "
   ]
  },
  {
   "cell_type": "markdown",
   "metadata": {},
   "source": [
    "## Next steps:\n",
    "- DONE: make realistic noise model (the other naive noise model doesnt work with record/layers!!)\n",
    "- change observable to where correction is not as easy\n",
    "- other breaking points: resolution of the timesteps, i.e. smaller gate angels (wont work with Clifford replacement) "
   ]
  }
 ],
 "metadata": {
  "kernelspec": {
   "display_name": "Julia 1.11.3",
   "language": "julia",
   "name": "julia-1.11"
  },
  "language_info": {
   "file_extension": ".jl",
   "mimetype": "application/julia",
   "name": "julia",
   "version": "1.11.3"
  }
 },
 "nbformat": 4,
 "nbformat_minor": 2
}
