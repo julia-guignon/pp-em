{
 "cells": [
  {
   "cell_type": "code",
   "execution_count": 1,
   "metadata": {},
   "outputs": [],
   "source": [
    "using PauliPropagation\n",
    "using Random\n",
    "using Optim\n",
    "using Plots\n",
    "Random.seed!(43)\n",
    "using ReverseDiff: GradientTape, gradient!, compile, gradient\n",
    "using LinearAlgebra\n",
    "using StatsBase \n",
    "using GLM\n",
    "using DataFrames\n",
    "using CSV"
   ]
  },
  {
   "cell_type": "markdown",
   "metadata": {},
   "source": [
    "# CDR for quantum dynamics\n",
    "- TFIM Hamiltonian (constants not site-dependent) evolving with TDSE\n",
    "- discretize the evolution steps and use first-order Trotter decomposition \n",
    "\n",
    "### Idea:\n",
    "- DONE: Run \"exact\" evolution for small trotterized circuit\n",
    "- Create near-Clifford circuits (replace some gates in Trotterized gate by close Cliffords - no VQA here so this is much simpler, find closest Clifford to the RZZ and to the RX (only have 2 angles in total), replace a portion randomly (no MCMC), keep the parameter of N = non-Cliffords const. st. system remains cl. scalable.\n",
    "- create MWE of CDR within quantum dynamics\n",
    "- which gates ones we replace has influence on the accuracy of the expectation value (principle of causal light cone as seen in vnCDR paper Piotr, is this automatically respected within Heisenberg picture? (backprop observable)), so we can aim to replace only gates that contribute to an expectation value (works only for single-qubit / local observables)\n",
    "- another idea is to try the perturbation approach (all non-CLiffords) \n",
    "\n"
   ]
  },
  {
   "cell_type": "markdown",
   "metadata": {},
   "source": [
    "### Exact evolution of a small trotterized circuit (see CPDR p.7)"
   ]
  },
  {
   "cell_type": "code",
   "execution_count": 2,
   "metadata": {},
   "outputs": [],
   "source": [
    "### Trotter circuit in PP ###\n",
    "\n",
    "# function tfitrottercircuit(nqubits::Integer, nlayers::Integer; topology=nothing, start_with_ZZ=true)\n",
    "#     circuit::Vector{Gate} = []\n",
    "\n",
    "#     if isnothing(topology)\n",
    "#         topology = bricklayertopology(nqubits)\n",
    "#     end\n",
    "\n",
    "#     # the function after this expects a circuit with at least one layer and will always append something\n",
    "#     if nlayers == 0\n",
    "#         return circuit\n",
    "#     end\n",
    "\n",
    "#     if start_with_ZZ\n",
    "#         rzzlayer!(circuit, topology)\n",
    "#     end\n",
    "\n",
    "#     for _ in 1:nlayers-1\n",
    "#         rxlayer!(circuit, nqubits)\n",
    "#         rzzlayer!(circuit, topology)\n",
    "#     end\n",
    "\n",
    "#     rxlayer!(circuit, nqubits)\n",
    "\n",
    "#     if !start_with_ZZ\n",
    "#         rzzlayer!(circuit, topology)\n",
    "#     end\n",
    "\n",
    "#     return circuit\n",
    "# end"
   ]
  },
  {
   "cell_type": "code",
   "execution_count": 3,
   "metadata": {},
   "outputs": [
    {
     "name": "stdout",
     "output_type": "stream",
     "text": [
      "Number of parameters: 70\n",
      "Sigma h indices: 40\n",
      "Sigma J indices: 30\n",
      "Sigma J indices: [1, 2, 3, 8, 9, 10, 15, 16, 17, 22, 23, 24, 29, 30, 31, 36, 37, 38, 43, 44, 45, 50, 51, 52, 57, 58, 59, 64, 65, 66]\n"
     ]
    }
   ],
   "source": [
    "T = 1.0\n",
    "h = 1.0 #abs(h)<abs(J) for ordered phase (interaction term dominates)\n",
    "J = 5.0 #H = -J ZZ + h X, so J>0 ferromagnetic, J<0 antiferromagnetic.\n",
    "steps = 10 # number of steps is number of layers of Trotter circuit\n",
    "sigma_h = 2*T*h/steps \n",
    "sigma_J = -2*T*J/steps\n",
    "\n",
    "nq = 4\n",
    "#topology = ibmeagletopology (127 qubits)-to use heavyhex with less qubits, see TP4 notebook\n",
    "circuit = tfitrottercircuit(nq,steps,topology=nothing)\n",
    "nparams = countparameters(circuit)\n",
    "println(\"Number of parameters: \", nparams)\n",
    "\n",
    "sigma_h_indices = getparameterindices(circuit, PauliRotation, [:X])\n",
    "sigma_J_indices = getparameterindices(circuit, PauliRotation, [:Z,:Z])\n",
    "println(\"Sigma h indices: \", length(sigma_h_indices))\n",
    "println(\"Sigma J indices: \", length(sigma_J_indices))\n",
    "println(\"Sigma J indices: \", sigma_J_indices)\n",
    "thetas = zeros(nparams)\n",
    "thetas[sigma_h_indices] .= sigma_h\n",
    "thetas[sigma_J_indices] .= sigma_J;"
   ]
  },
  {
   "cell_type": "code",
   "execution_count": 4,
   "metadata": {},
   "outputs": [
    {
     "data": {
      "text/plain": [
       "PauliSum(nqubits: 4, 4 Pauli terms:\n",
       " 0.25 * IZII\n",
       " 0.25 * ZIII\n",
       " 0.25 * IIIZ\n",
       " 0.25 * IIZI\n",
       ")"
      ]
     },
     "metadata": {},
     "output_type": "display_data"
    }
   ],
   "source": [
    "#define observable: magnetization in z direction\n",
    "magnetization = PauliSum(nq)\n",
    "for i in 1:nq\n",
    "    add!(magnetization,:Z,i)\n",
    "end\n",
    "magnetization = magnetization/nq"
   ]
  },
  {
   "cell_type": "code",
   "execution_count": 5,
   "metadata": {},
   "outputs": [
    {
     "name": "stdout",
     "output_type": "stream",
     "text": [
      "  0.357734 seconds (347.17 k allocations: 17.374 MiB, 99.87% compilation time)\n"
     ]
    },
    {
     "data": {
      "text/plain": [
       "PauliSum(nqubits: 4, 128 Pauli terms:\n",
       " -0.00052564 * YZYX\n",
       " 0.02338 * YXII\n",
       " -0.0080699 * ZIIX\n",
       " -0.0094663 * ZYXZ\n",
       " 0.00027512 * XYIX\n",
       " -0.0018116 * YXZY\n",
       " -0.0096923 * XZZZ\n",
       " -0.054098 * IIZX\n",
       " -0.00052564 * XYZY\n",
       " 0.0045791 * ZYIY\n",
       " -0.054098 * XZII\n",
       " 0.0014803 * YXXX\n",
       " 0.0048063 * IYYY\n",
       " 0.038127 * ZZIZ\n",
       " -0.0029081 * YIZZ\n",
       " -0.00078975 * ZXZY\n",
       " -0.00092879 * IXZI\n",
       " -0.0014466 * ZIZY\n",
       " 0.085887 * IZII\n",
       " -0.064918 * ZXXI\n",
       "  ⋮)"
      ]
     },
     "metadata": {},
     "output_type": "display_data"
    }
   ],
   "source": [
    "@time psum = propagate(circuit, magnetization, thetas)"
   ]
  },
  {
   "cell_type": "code",
   "execution_count": 6,
   "metadata": {},
   "outputs": [
    {
     "data": {
      "text/plain": [
       "0.9473863474250936"
      ]
     },
     "metadata": {},
     "output_type": "display_data"
    }
   ],
   "source": [
    "overlapwithzero(psum) #should be close to 1 (we are in the ferromagnetic phase) "
   ]
  },
  {
   "cell_type": "markdown",
   "metadata": {},
   "source": [
    "### Training set generation"
   ]
  },
  {
   "cell_type": "code",
   "execution_count": 7,
   "metadata": {},
   "outputs": [
    {
     "data": {
      "text/plain": [
       "10-element Vector{Int64}:\n",
       " 51\n",
       " 10\n",
       " 58\n",
       " 65\n",
       " 43\n",
       " 38\n",
       " 24\n",
       " 57\n",
       "  8\n",
       " 36"
      ]
     },
     "metadata": {},
     "output_type": "display_data"
    }
   ],
   "source": [
    "# select which and how many non-Cliffords to replace\n",
    "non_cliffs = 30 \n",
    "cliffs= nparams-non_cliffs\n",
    "ratio = length(sigma_J_indices)/length(sigma_h_indices)\n",
    "num_h = Int(round(ratio*cliffs))\n",
    "num_J = Int(round((1-ratio)*cliffs))\n",
    "Random.shuffle!(sigma_h_indices)\n",
    "Random.shuffle!(sigma_J_indices)\n",
    "selected_indices_h = sigma_h_indices[1:num_h]\n",
    "selected_indices_J = sigma_J_indices[1:num_J];   \n",
    "\n",
    "# find the closest Clifford gate to RZZ and RX respectively\n",
    "\n",
    "# replace the non-Cliffords with the closest Clifford gates\n"
   ]
  },
  {
   "cell_type": "code",
   "execution_count": 8,
   "metadata": {},
   "outputs": [],
   "source": []
  }
 ],
 "metadata": {
  "kernelspec": {
   "display_name": "Julia 1.11.3",
   "language": "julia",
   "name": "julia-1.11"
  },
  "language_info": {
   "file_extension": ".jl",
   "mimetype": "application/julia",
   "name": "julia",
   "version": "1.11.3"
  }
 },
 "nbformat": 4,
 "nbformat_minor": 2
}
