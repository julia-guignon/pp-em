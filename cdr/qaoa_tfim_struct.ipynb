{
 "cells": [
  {
   "cell_type": "code",
   "execution_count": 45,
   "metadata": {},
   "outputs": [],
   "source": [
    "using PauliPropagation\n",
    "using Random\n",
    "using Optim\n",
    "using Plots\n",
    "Random.seed!(43)\n",
    "using ReverseDiff: GradientTape, gradient!, compile, gradient\n",
    "using LinearAlgebra\n",
    "using StatsBase \n",
    "using GLM\n",
    "using DataFrames"
   ]
  },
  {
   "cell_type": "markdown",
   "metadata": {},
   "source": [
    "# Functions and Struct "
   ]
  },
  {
   "cell_type": "markdown",
   "metadata": {},
   "source": [
    "## Struct for QAOA ansatz\n"
   ]
  },
  {
   "cell_type": "code",
   "execution_count": 46,
   "metadata": {},
   "outputs": [],
   "source": [
    "struct QAOA_ansatz\n",
    "    #circuit details\n",
    "    target_circuit::Vector{Gate}\n",
    "    nqubits::Integer\n",
    "    nlayers::Integer\n",
    "    topology::Vector{Tuple{Int64, Int64}}\n",
    "    repartition::Vector{Vector{Integer}}\n",
    "end"
   ]
  },
  {
   "cell_type": "code",
   "execution_count": 47,
   "metadata": {},
   "outputs": [
    {
     "data": {
      "text/plain": [
       "qaoa_setup (generic function with 1 method)"
      ]
     },
     "metadata": {},
     "output_type": "display_data"
    }
   ],
   "source": [
    "function qaoa_setup(nqubits::Int, nlayers::Int, repartition::Vector{Vector{Int}}; topology=nothing)\n",
    "\n",
    "    target_circuit, topology = tfimqaoacircuit(nqubits, nlayers; topology=topology)\n",
    "    println(\"type of topology: \",typeof(topology))\n",
    "    println(\"topology: \", topology)\n",
    "    result = QAOA_ansatz(target_circuit, nqubits, nlayers,topology,repartition)\n",
    "    return result\n",
    "end"
   ]
  },
  {
   "cell_type": "markdown",
   "metadata": {},
   "source": [
    "## Functions\n",
    "- Circuit QAOA\n",
    "- Parameter assignment for target and proposal circuits\n",
    "- Loss function\n",
    "- Gradient descent\n",
    "- Initial mcmc circuit\n",
    "- Proposal mcmc circuit\n",
    "- MH algorithm"
   ]
  },
  {
   "cell_type": "code",
   "execution_count": 48,
   "metadata": {},
   "outputs": [
    {
     "data": {
      "text/plain": [
       "tfimqaoacircuit (generic function with 1 method)"
      ]
     },
     "metadata": {},
     "output_type": "display_data"
    }
   ],
   "source": [
    "#QAOA circuit (Fig 10)\n",
    "function tfimqaoacircuit(nqubits::Integer, nlayers::Integer; topology=nothing)\n",
    "    circuit::Vector{Gate} = []\n",
    "\n",
    "    if isnothing(topology)\n",
    "        topology = bricklayertopology(nqubits;periodic=false) #chain with obc\n",
    "    end\n",
    "\n",
    "    for i in 1:nlayers\n",
    "        rzzlayer!(circuit, topology)\n",
    "        for qubit in 1:nqubits\n",
    "            push!(circuit, CliffordGate(:S, qubit))\n",
    "            push!(circuit, PauliRotation(:X, qubit, π/2)) # Fig 10: P=R_X(π/2)\n",
    "            push!(circuit, PauliRotation(:Z, qubit))\n",
    "            push!(circuit, PauliRotation(:X, qubit, π/2))\n",
    "            push!(circuit, CliffordGate(:S, qubit))\n",
    "\n",
    "        end\n",
    "    end\n",
    "    return circuit, topology\n",
    "end"
   ]
  },
  {
   "cell_type": "code",
   "execution_count": 49,
   "metadata": {},
   "outputs": [
    {
     "data": {
      "text/plain": [
       "repartition_function (generic function with 1 method)"
      ]
     },
     "metadata": {},
     "output_type": "display_data"
    }
   ],
   "source": [
    "function repartition_function(nqubits, nlayers) #qaoa repartition function\n",
    "    repartition = Vector{Vector{Int}}()\n",
    "    idx = 1\n",
    "    for i in 1:nlayers\n",
    "            push!(repartition, collect(idx:idx + (nqubits - 2)))  # First nqubits-1 indices\n",
    "            idx += (nqubits - 1)\n",
    "            push!(repartition, collect(idx:idx + nqubits - 1))  # Next nqubits indices\n",
    "            idx += nqubits\n",
    "        \n",
    "    end\n",
    "    return repartition\n",
    "end"
   ]
  },
  {
   "cell_type": "code",
   "execution_count": 50,
   "metadata": {},
   "outputs": [
    {
     "data": {
      "text/plain": [
       "constrain_params (generic function with 1 method)"
      ]
     },
     "metadata": {},
     "output_type": "display_data"
    }
   ],
   "source": [
    "function constrain_params(thetas, repartition)\n",
    "    for r in repartition\n",
    "        for q in r\n",
    "            thetas[q] = thetas[r[1]]\n",
    "        end\n",
    "    end\n",
    "    return thetas\n",
    "end"
   ]
  },
  {
   "cell_type": "code",
   "execution_count": 51,
   "metadata": {},
   "outputs": [
    {
     "data": {
      "text/plain": [
       "fulllossfunction (generic function with 1 method)"
      ]
     },
     "metadata": {},
     "output_type": "display_data"
    }
   ],
   "source": [
    "function fulllossfunction(thetas,proposal_circuit,ansatz::QAOA_ansatz;g = -2.0, max_freq=Inf, max_weight=Inf)\n",
    "\n",
    "    type_of_coeff = eltype(thetas)\n",
    "    H = PauliSum(ansatz.nqubits, type_of_coeff)\n",
    "    for qind in 1:(ansatz.nqubits)\n",
    "        add!(H, :X, qind, type_of_coeff(g))\n",
    "    end\n",
    "    for pair in ansatz.topology\n",
    "        add!(H, [:Z, :Z], collect(pair), type_of_coeff(1.0))\n",
    "    end\n",
    "    \n",
    "    wrapped_H = wrapcoefficients(H, PauliFreqTracker) #wrap to keep track of path splitting\n",
    "\n",
    "    # We also need to run the in-place version with `!`, because by default we copy the Pauli sum\n",
    "    wrapped_H = propagate!(proposal_circuit, wrapped_H, thetas; max_freq, max_weight);\n",
    "\n",
    "    # MR: Shouldn't this be plus for QAOA?\n",
    "    return overlapwithplus(wrapped_H)\n",
    "end"
   ]
  },
  {
   "cell_type": "code",
   "execution_count": 52,
   "metadata": {},
   "outputs": [
    {
     "data": {
      "text/plain": [
       "gd (generic function with 1 method)"
      ]
     },
     "metadata": {},
     "output_type": "display_data"
    }
   ],
   "source": [
    "function gd(thetas_init,closed_lossfunction, ansatz; repartition=nothing, eta=0.1, steps=100)\n",
    "    \n",
    "    if repartition == nothing\n",
    "        repartition = ansatz.repartition\n",
    "    end\n",
    "\n",
    "    # some inputs and work buffer to play around with\n",
    "    grad_array_compiled = similar(thetas_init);\n",
    "\n",
    "    # pre-record a GradientTape for `gradsimulation` using inputs of length m with Float64 elements\n",
    "    \n",
    "    simulation_tape = GradientTape(closed_lossfunction, thetas_init)\n",
    "    compiled_simulation_tape = compile(simulation_tape)\n",
    "\n",
    "    opt_energy_gd = []\n",
    "    thetas = thetas_init\n",
    "    for i in 1:steps \n",
    "        gradient!(grad_array_compiled, simulation_tape, thetas)\n",
    "        thetas .-= eta * grad_array_compiled\n",
    "        constrain_params(thetas, repartition)\n",
    "        opt_energy_gd = push!(opt_energy_gd, closed_lossfunction(thetas)/ansatz.nqubits)\n",
    "    end\n",
    "\n",
    "    return thetas, opt_energy_gd\n",
    "end"
   ]
  },
  {
   "cell_type": "code",
   "execution_count": 53,
   "metadata": {},
   "outputs": [
    {
     "data": {
      "text/plain": [
       "repartition_proposal_circuit (generic function with 1 method)"
      ]
     },
     "metadata": {},
     "output_type": "display_data"
    }
   ],
   "source": [
    "#repartition (defines which parameterized gates share the same values (a restriction of our ansatz) \n",
    "function repartition_proposal_circuit(nparams::Int, rzz_indices::Vector{Int}, rz_indices::Vector{Int})\n",
    "    result = Vector{Vector{Int}}()\n",
    "    tmp = []\n",
    "\n",
    "    idx_rzz, idx_rz = 1, 1\n",
    "    len_rzz, len_rz = length(rzz_indices), length(rz_indices)\n",
    "\n",
    "    for i in 1:nparams\n",
    "        if idx_rzz <= len_rzz && rzz_indices[idx_rzz] == i # && logical and\n",
    "            push!(tmp, i)\n",
    "            idx_rzz += 1\n",
    "            if idx_rzz > len_rzz || rzz_indices[idx_rzz] != i + 1 # || logical or\n",
    "                push!(result, tmp)\n",
    "                tmp = []\n",
    "            end\n",
    "        elseif idx_rz <= len_rz && rz_indices[idx_rz] == i\n",
    "            push!(tmp, i)\n",
    "            idx_rz += 1\n",
    "            if idx_rz > len_rz || rz_indices[idx_rz] != i + 1\n",
    "                push!(result, tmp)\n",
    "                tmp = []\n",
    "            end\n",
    "        end\n",
    "    end\n",
    "    return result\n",
    "end"
   ]
  },
  {
   "cell_type": "code",
   "execution_count": 54,
   "metadata": {},
   "outputs": [
    {
     "data": {
      "text/plain": [
       "initialize_mcmc_circuit (generic function with 1 method)"
      ]
     },
     "metadata": {},
     "output_type": "display_data"
    }
   ],
   "source": [
    "function initialize_mcmc_circuit(ansatz::QAOA_ansatz)\n",
    "    \n",
    "    # Choose nq*nl/2 random Pauli rotations to replace with Clifford R_Z(k_p π/2) gates.\n",
    "    # The replacements are random for the whole circuit and don't repeat for each layer.\n",
    "\n",
    "    # Get indices of Pauli rotations\n",
    "    z_rot_indices = [i for i in eachindex(ansatz.target_circuit) if isa(ansatz.target_circuit[i], PauliRotation)]\n",
    "\n",
    "    num_to_replace = div(ansatz.nqubits * ansatz.nlayers, 2)\n",
    "    Random.shuffle!(z_rot_indices)\n",
    "    indices_replaced = z_rot_indices[1:num_to_replace]\n",
    "\n",
    "    # Extract qubit indices for gates to be replaced\n",
    "    qubits = [ansatz.target_circuit[i].qinds for i in indices_replaced]\n",
    "\n",
    "\n",
    "    # Create a modified circuit\n",
    "    new_circuit = copy(ansatz.target_circuit)\n",
    "\n",
    "    # Replace selected R_Z rotations with Clifford R_Z(k_p π/2)\n",
    "    for (j, i) in enumerate(indices_replaced)\n",
    "        k_p = rand(0:3)  ### Randomly select k_p from {0,1,2,3} ( NO CLEAR INDICATION in the paper)\n",
    "        if length(qubits[j]) == 1\n",
    "            new_circuit[i] = PauliRotation(:Z, qubits[j], k_p * π/2)  # Replace with Clifford rotation\n",
    "        else\n",
    "            new_circuit[i] = PauliRotation([:Z, :Z], qubits[j], k_p * π/2)  # Replace with Clifford rotation\n",
    "        end\n",
    "    end\n",
    "\n",
    "    return new_circuit, indices_replaced\n",
    "end"
   ]
  },
  {
   "cell_type": "code",
   "execution_count": 55,
   "metadata": {},
   "outputs": [
    {
     "data": {
      "text/plain": [
       "proposal_tfimqaoacircuit (generic function with 2 methods)"
      ]
     },
     "metadata": {},
     "output_type": "display_data"
    }
   ],
   "source": [
    "function proposal_tfimqaoacircuit(ansatz::QAOA_ansatz,current_circuit::Vector{Gate},current_replaced_indices::Vector{Int},thetas::Vector{Float64},npairs::Integer=2)    \n",
    "    # Identify all Pauli Z rotations in the circuit (includes RZZ) (Pauli Z are only the non-Cifford's here)\n",
    "    proposal_circuit = deepcopy(current_circuit)\n",
    "    z_rot_indices = [i for i in eachindex(proposal_circuit) if isa(proposal_circuit[i], PauliRotation)]\n",
    "\n",
    "    #println(\"Z rotation indices (Non-Cliffords): \", z_rot_indices)\n",
    "    #println(\"Indices replaced (Frozen Z rotations (Cliffords)): \", current_replaced_indices)  \n",
    "    # Ensure we have enough pairs\n",
    "    if length(current_replaced_indices) < npairs\n",
    "        error(\"Not enough frozen Pauli rotations in the initialized MCMC circuit to select the value of pairs.\")\n",
    "    end\n",
    "\n",
    "    # Shuffle and select n_p pairs\n",
    "    Random.shuffle!(z_rot_indices)\n",
    "    Random.shuffle!(current_replaced_indices)\n",
    "    selected_pairs = [(z_rot_indices[i], current_replaced_indices[i]) for i in 1:npairs] \n",
    "    \n",
    "    #println(\"Selected pairs of Cliff. and non-Clifford: \", selected_pairs) \n",
    "    #println(\"Circuit before replacement: \", proposal_circuit)\n",
    "\n",
    "    function compute_distance(alpha, n)\n",
    "        Pauli_z = [1 0; 0 -1]\n",
    "        S_n = exp(-im * n * π / 2 * Pauli_z)\n",
    "        Rz_alpha = exp(-im * alpha * Pauli_z/2)\n",
    "        return LinearAlgebra.norm(Rz_alpha - S_n)\n",
    "    end\n",
    "    \n",
    "    # Define probability distribution function\n",
    "    function sample_kn(alpha)\n",
    "        sigma = 0.5\n",
    "        n_vals =LinRange(0,7,8) # limit n values (they repeat after 2 pi)\n",
    "        distances = [compute_distance(alpha, n) for n in n_vals]\n",
    "        weights = exp.(-distances.^2 ./ sigma^2)\n",
    "        probs = ProbabilityWeights(weights ./ sum(weights)) \n",
    "\n",
    "        return first(StatsBase.sample(n_vals,probs,1))  # Sample from the distribution (using StatsBase)\n",
    "    end\n",
    "\n",
    "    #the thetas are the optimized ones from the target circuit\n",
    "    function get_alpha(qubits, thetas, repartition)\n",
    "        # allows to break from nested loops\n",
    "        function find_alpha()\n",
    "            found = false\n",
    "            alpha = 0\n",
    "            for k in qubits\n",
    "                for (i, r) in enumerate(repartition)\n",
    "                    for q in r\n",
    "                        if q==k\n",
    "                            alpha = thetas[i]\n",
    "                            found = true\n",
    "                            return alpha, found\n",
    "                        end\n",
    "                    end\n",
    "                end\n",
    "            end\n",
    "            return alpha, found\n",
    "        end\n",
    "\n",
    "        alpha, found = find_alpha()\n",
    "        if !found\n",
    "            throw(\"qubits $qubits not found in repartition\")\n",
    "        else\n",
    "            return alpha\n",
    "        end\n",
    "    end\n",
    "\n",
    "    #choose left element of each pair and replace with Clifford gate S^n,sample n\n",
    "    for (i, j) in selected_pairs\n",
    "        qubits = proposal_circuit[i].qinds\n",
    "        \n",
    "        alpha = get_alpha(qubits, thetas, ansatz.repartition)\n",
    "        \n",
    "        k_p = sample_kn(alpha)\n",
    "        # print(k_p) # SEE BELOW: we need to sample from eq 14\n",
    "        if length(qubits) == 1\n",
    "            proposal_circuit[i] = PauliRotation(:Z, qubits, k_p * π/2)  # Replace with Clifford rotation\n",
    "        else\n",
    "            proposal_circuit[i] = PauliRotation([:Z, :Z], qubits, k_p * π/2)  # Replace with Clifford rotation\n",
    "        end\n",
    "    end\n",
    "\n",
    "\n",
    "    #then reset the right element (Clifford, FrozenGate[PauliRotation]]) to the one of the target circuit\n",
    "    for (i, j) in selected_pairs \n",
    "        qubits = proposal_circuit[j].gate.qinds\n",
    "        proposal_circuit[j] = ansatz.target_circuit[j] \n",
    "    end\n",
    "    \n",
    "    #update the replaced indices\n",
    "    updated_replaced_indices = setdiff(current_replaced_indices, [j for (_, j) in selected_pairs])\n",
    "    append!(updated_replaced_indices, [i for (i, _) in selected_pairs])\n",
    "\n",
    "    return proposal_circuit, updated_replaced_indices\n",
    "end"
   ]
  },
  {
   "cell_type": "code",
   "execution_count": 56,
   "metadata": {},
   "outputs": [
    {
     "data": {
      "text/plain": [
       "MCMC (generic function with 1 method)"
      ]
     },
     "metadata": {},
     "output_type": "display_data"
    }
   ],
   "source": [
    "function MCMC(ansatz::QAOA_ansatz,thetas::Vector{Float64};num_acc_samples::Integer = 10,burn_in_samples =10,n_sweeps::Integer =5, npairs::Integer=2, x_sigma::Float64=0.05,x_0::Float64 =-2.1, max_freq=30, max_weight=5)\n",
    "    \n",
    "    #init the MCMC (we set a certain number of Pauli rotations to Clifford gates)\n",
    "    initial_circuit, initial_replaced_indices = initialize_mcmc_circuit(ansatz)\n",
    "    n_accepted = 0 \n",
    "    \n",
    "    current_circuit = deepcopy(initial_circuit)\n",
    "    current_replaced_indices = deepcopy(initial_replaced_indices)\n",
    "    \n",
    "    acceptance_rates = Vector{Float64}()\n",
    "    acc_samples = Vector{Vector{Gate}}()\n",
    "    exact_energies = Vector{Float64}()\n",
    "    repartition_list = []\n",
    "    i = 0\n",
    "\n",
    "    while n_accepted<num_acc_samples \n",
    "        i += 1\n",
    "        proposal_circuit, updated_replaced_indices = proposal_tfimqaoacircuit(ansatz, current_circuit, current_replaced_indices,thetas, npairs) \n",
    "        rzz_indices = getparameterindices(proposal_circuit, PauliRotation, [:Z, :Z])\n",
    "        rz_indices = getparameterindices(proposal_circuit, PauliRotation, [:Z])\n",
    "        nparams = countparameters(proposal_circuit)\n",
    "        repartition = repartition_proposal_circuit(nparams, rzz_indices, rz_indices)\n",
    "        thetas_init_prop = rand((2*ansatz.nqubits-1)*ansatz.nlayers-(ansatz.nqubits*ansatz.nlayers÷2)) #need integer division! this number of replacements is hard coded in initialize_mcmc_circuit\n",
    "        thetas_init_prop = constrain_params(thetas_init_prop, repartition)\n",
    "\n",
    "        closed_lossfunction = let const_prop_circuit = proposal_circuit ,const_ansatz = ansatz, const_max_freq=max_freq, const_max_weight=max_weight \n",
    "            # these are now all captured variables with known types and we return a function that only takes thetas s.t. ReverseDiff works\n",
    "            # See also \"closures\"\n",
    "            theta -> fulllossfunction(theta, const_prop_circuit,const_ansatz; max_freq=const_max_freq, max_weight=const_max_weight)\n",
    "        end\n",
    "\n",
    "        #we need to specify we are using a different repartition now!\n",
    "        x_exact = gd(thetas_init_prop,closed_lossfunction,ansatz;repartition = repartition)[2][end]\n",
    "\n",
    "        #acceptance ratio\n",
    "        acc_ratio = min(1,exp(-(x_exact-x_0)^2/(x_sigma^2)))\n",
    "        if rand() < acc_ratio\n",
    "            current_circuit = deepcopy(proposal_circuit)\n",
    "            current_replaced_indices = deepcopy(updated_replaced_indices)\n",
    "        end\n",
    "\n",
    "        #only record after burn-in\n",
    "        #only record every n_th sample (n_sweeps)\n",
    "        if i > burn_in_samples\n",
    "            if i%n_sweeps == 0\n",
    "                n_accepted += 1\n",
    "                acceptance_rate = n_accepted*n_sweeps/i\n",
    "                push!(acc_samples, current_circuit)\n",
    "                push!(exact_energies, x_exact)\n",
    "                push!(acceptance_rates,acceptance_rate)\n",
    "                push!(repartition_list, repartition)\n",
    "            end\n",
    "        end\n",
    "    \n",
    "    end\n",
    "\n",
    "return acc_samples,exact_energies,acceptance_rates,repartition_list\n",
    "\n",
    "end"
   ]
  },
  {
   "cell_type": "markdown",
   "metadata": {},
   "source": [
    "# CDR example \n",
    "### (Reproduction of Piotr's code but using PP instead of MPS)\n",
    "First, we define the immutable struct `QAOA_ansatz` as we will need these parameters throughout the calculation"
   ]
  },
  {
   "cell_type": "code",
   "execution_count": 76,
   "metadata": {},
   "outputs": [
    {
     "name": "stdout",
     "output_type": "stream",
     "text": [
      "type of topology: Vector{Tuple{Int64, Int64}}\n",
      "topology: [(1, 2), (3, 4), (2, 3)]\n"
     ]
    }
   ],
   "source": [
    "nq = 4\n",
    "nl = 2\n",
    "repartition = repartition_function(nq,nl)\n",
    "ansatz =  qaoa_setup(nq,nl,repartition);"
   ]
  },
  {
   "cell_type": "markdown",
   "metadata": {},
   "source": [
    "We run an optimization (gradient descent) of the target circuit (this is not necessarily possible). We do need the optimized target circuit for the alphas of eq. 14 (to generate close MCMC proposals to the target circuit), so if we can't calculate this we need to look for an alternative."
   ]
  },
  {
   "cell_type": "code",
   "execution_count": 77,
   "metadata": {},
   "outputs": [],
   "source": [
    "thetas_init = rand((2*ansatz.nqubits-1)*ansatz.nlayers) \n",
    "thetas_init = constrain_params(thetas_init, repartition);"
   ]
  },
  {
   "cell_type": "code",
   "execution_count": 78,
   "metadata": {},
   "outputs": [
    {
     "data": {
      "text/plain": [
       "5"
      ]
     },
     "metadata": {},
     "output_type": "display_data"
    }
   ],
   "source": [
    "max_freq = 30\n",
    "max_weight = 5"
   ]
  },
  {
   "cell_type": "markdown",
   "metadata": {},
   "source": [
    "Now that the system and truncations is defined, we can define a closure of the loss function and do the energy minimisation."
   ]
  },
  {
   "cell_type": "code",
   "execution_count": 79,
   "metadata": {},
   "outputs": [
    {
     "name": "stdout",
     "output_type": "stream",
     "text": [
      "-2.0900233276318874\n"
     ]
    }
   ],
   "source": [
    "target_closed_lossfunction = let const_prop_circuit = ansatz.target_circuit, const_ansatz = ansatz, const_max_freq=max_freq, const_max_weight=max_weight\n",
    "    # these are now all captured variables with known types and we return a function that only takes thetas s.t. ReverseDiff works\n",
    "    # See also \"closures\"\n",
    "    thetas -> fulllossfunction(thetas, const_ansatz.target_circuit, const_ansatz; max_freq=const_max_freq, max_weight=const_max_weight)\n",
    "end\n",
    "\n",
    "opt_thetas_target, opt_energy_gd = gd(thetas_init, target_closed_lossfunction, ansatz)\n",
    "println(opt_energy_gd[end])\n",
    "#the closed loss function only takes one argument, thetas\n",
    "#plot(opt_energy_gd)\n",
    "#plot!(title = \"Energy optimisation with GD\", xlabel = \"runs of GD\", ylabel = \"E/Q\")"
   ]
  },
  {
   "cell_type": "markdown",
   "metadata": {},
   "source": [
    "### MCMC\n",
    "Now that we have the alphas (eq 14) from the target circuit, we can run MCMC to get the set of classically efficiently simulable states $S_{\\psi} =\\{|\\phi_i>\\}$."
   ]
  },
  {
   "cell_type": "code",
   "execution_count": 80,
   "metadata": {},
   "outputs": [],
   "source": [
    "acc_samples, exact_energies_MCMC, acceptance_rates,repartition_MCMC = MCMC(ansatz,opt_thetas_target; n_sweeps = 5);"
   ]
  },
  {
   "cell_type": "code",
   "execution_count": 81,
   "metadata": {},
   "outputs": [
    {
     "data": {
      "image/png": "[encoded data removed]",
      "image/svg+xml": [
       "<?xml version=\"1.0\" encoding=\"utf-8\"?>\n",
       "<svg xmlns=\"http://www.w3.org/2000/svg\" xmlns:xlink=\"http://www.w3.org/1999/xlink\" width=\"600\" height=\"400\" viewBox=\"0 0 2400 1600\">\n",
       "<defs>\n",
       "  <clipPath id=\"clip290\">\n",
       "    <rect x=\"0\" y=\"0\" width=\"2400\" height=\"1600\"/>\n",
       "  </clipPath>\n",
       "</defs>\n",
       "<path clip-path=\"url(#clip290)\" d=\"M0 1600 L2400 1600 L2400 0 L0 0  Z\" fill=\"#ffffff\" fill-rule=\"evenodd\" fill-opacity=\"1\"/>\n",
       "<defs>\n",
       "  <clipPath id=\"clip291\">\n",
       "    <rect x=\"480\" y=\"0\" width=\"1681\" height=\"1600\"/>\n",
       "  </clipPath>\n",
       "</defs>\n",
       "<path clip-path=\"url(#clip290)\" d=\"M219.866 1423.18 L2352.76 1423.18 L2352.76 123.472 L219.866 123.472  Z\" fill=\"#ffffff\" fill-rule=\"evenodd\" fill-opacity=\"1\"/>\n",
       "<defs>\n",
       "  <clipPath id=\"clip292\">\n",
       "    <rect x=\"219\" y=\"123\" width=\"2134\" height=\"1301\"/>\n",
       "  </clipPath>\n",
       "</defs>\n",
       "<polyline clip-path=\"url(#clip292)\" style=\"stroke:#000000; stroke-linecap:round; stroke-linejoin:round; stroke-width:2; stroke-opacity:0.1; fill:none\" points=\"503.804,1423.18 503.804,123.472 \"/>\n",
       "<polyline clip-path=\"url(#clip292)\" style=\"stroke:#000000; stroke-linecap:round; stroke-linejoin:round; stroke-width:2; stroke-opacity:0.1; fill:none\" points=\"950.951,1423.18 950.951,123.472 \"/>\n",
       "<polyline clip-path=\"url(#clip292)\" style=\"stroke:#000000; stroke-linecap:round; stroke-linejoin:round; stroke-width:2; stroke-opacity:0.1; fill:none\" points=\"1398.1,1423.18 1398.1,123.472 \"/>\n",
       "<polyline clip-path=\"url(#clip292)\" style=\"stroke:#000000; stroke-linecap:round; stroke-linejoin:round; stroke-width:2; stroke-opacity:0.1; fill:none\" points=\"1845.24,1423.18 1845.24,123.472 \"/>\n",
       "<polyline clip-path=\"url(#clip292)\" style=\"stroke:#000000; stroke-linecap:round; stroke-linejoin:round; stroke-width:2; stroke-opacity:0.1; fill:none\" points=\"2292.39,1423.18 2292.39,123.472 \"/>\n",
       "<polyline clip-path=\"url(#clip292)\" style=\"stroke:#000000; stroke-linecap:round; stroke-linejoin:round; stroke-width:2; stroke-opacity:0.1; fill:none\" points=\"219.866,1222.91 2352.76,1222.91 \"/>\n",
       "<polyline clip-path=\"url(#clip292)\" style=\"stroke:#000000; stroke-linecap:round; stroke-linejoin:round; stroke-width:2; stroke-opacity:0.1; fill:none\" points=\"219.866,977.683 2352.76,977.683 \"/>\n",
       "<polyline clip-path=\"url(#clip292)\" style=\"stroke:#000000; stroke-linecap:round; stroke-linejoin:round; stroke-width:2; stroke-opacity:0.1; fill:none\" points=\"219.866,732.455 2352.76,732.455 \"/>\n",
       "<polyline clip-path=\"url(#clip292)\" style=\"stroke:#000000; stroke-linecap:round; stroke-linejoin:round; stroke-width:2; stroke-opacity:0.1; fill:none\" points=\"219.866,487.227 2352.76,487.227 \"/>\n",
       "<polyline clip-path=\"url(#clip292)\" style=\"stroke:#000000; stroke-linecap:round; stroke-linejoin:round; stroke-width:2; stroke-opacity:0.1; fill:none\" points=\"219.866,241.999 2352.76,241.999 \"/>\n",
       "<polyline clip-path=\"url(#clip290)\" style=\"stroke:#000000; stroke-linecap:round; stroke-linejoin:round; stroke-width:4; stroke-opacity:1; fill:none\" points=\"219.866,1423.18 2352.76,1423.18 \"/>\n",
       "<polyline clip-path=\"url(#clip290)\" style=\"stroke:#000000; stroke-linecap:round; stroke-linejoin:round; stroke-width:4; stroke-opacity:1; fill:none\" points=\"503.804,1423.18 503.804,1404.28 \"/>\n",
       "<polyline clip-path=\"url(#clip290)\" style=\"stroke:#000000; stroke-linecap:round; stroke-linejoin:round; stroke-width:4; stroke-opacity:1; fill:none\" points=\"950.951,1423.18 950.951,1404.28 \"/>\n",
       "<polyline clip-path=\"url(#clip290)\" style=\"stroke:#000000; stroke-linecap:round; stroke-linejoin:round; stroke-width:4; stroke-opacity:1; fill:none\" points=\"1398.1,1423.18 1398.1,1404.28 \"/>\n",
       "<polyline clip-path=\"url(#clip290)\" style=\"stroke:#000000; stroke-linecap:round; stroke-linejoin:round; stroke-width:4; stroke-opacity:1; fill:none\" points=\"1845.24,1423.18 1845.24,1404.28 \"/>\n",
       "<polyline clip-path=\"url(#clip290)\" style=\"stroke:#000000; stroke-linecap:round; stroke-linejoin:round; stroke-width:4; stroke-opacity:1; fill:none\" points=\"2292.39,1423.18 2292.39,1404.28 \"/>\n",
       "<path clip-path=\"url(#clip290)\" d=\"M498.457 1481.64 L514.777 1481.64 L514.777 1485.58 L492.832 1485.58 L492.832 1481.64 Q495.494 1478.89 500.078 1474.26 Q504.684 1469.61 505.865 1468.27 Q508.11 1465.74 508.99 1464.01 Q509.892 1462.25 509.892 1460.56 Q509.892 1457.8 507.948 1456.07 Q506.027 1454.33 502.925 1454.33 Q500.726 1454.33 498.272 1455.09 Q495.841 1455.86 493.064 1457.41 L493.064 1452.69 Q495.888 1451.55 498.341 1450.97 Q500.795 1450.39 502.832 1450.39 Q508.203 1450.39 511.397 1453.08 Q514.591 1455.77 514.591 1460.26 Q514.591 1462.39 513.781 1464.31 Q512.994 1466.2 510.888 1468.8 Q510.309 1469.47 507.207 1472.69 Q504.105 1475.88 498.457 1481.64 Z\" fill=\"#000000\" fill-rule=\"nonzero\" fill-opacity=\"1\" /><path clip-path=\"url(#clip290)\" d=\"M953.96 1455.09 L942.155 1473.54 L953.96 1473.54 L953.96 1455.09 M952.733 1451.02 L958.613 1451.02 L958.613 1473.54 L963.544 1473.54 L963.544 1477.43 L958.613 1477.43 L958.613 1485.58 L953.96 1485.58 L953.96 1477.43 L938.359 1477.43 L938.359 1472.92 L952.733 1451.02 Z\" fill=\"#000000\" fill-rule=\"nonzero\" fill-opacity=\"1\" /><path clip-path=\"url(#clip290)\" d=\"M1398.5 1466.44 Q1395.35 1466.44 1393.5 1468.59 Q1391.67 1470.74 1391.67 1474.49 Q1391.67 1478.22 1393.5 1480.39 Q1395.35 1482.55 1398.5 1482.55 Q1401.65 1482.55 1403.48 1480.39 Q1405.33 1478.22 1405.33 1474.49 Q1405.33 1470.74 1403.48 1468.59 Q1401.65 1466.44 1398.5 1466.44 M1407.79 1451.78 L1407.79 1456.04 Q1406.03 1455.21 1404.22 1454.77 Q1402.44 1454.33 1400.68 1454.33 Q1396.05 1454.33 1393.6 1457.45 Q1391.16 1460.58 1390.82 1466.9 Q1392.18 1464.89 1394.24 1463.82 Q1396.3 1462.73 1398.78 1462.73 Q1403.99 1462.73 1407 1465.9 Q1410.03 1469.05 1410.03 1474.49 Q1410.03 1479.82 1406.88 1483.03 Q1403.73 1486.25 1398.5 1486.25 Q1392.51 1486.25 1389.34 1481.67 Q1386.16 1477.06 1386.16 1468.33 Q1386.16 1460.14 1390.05 1455.28 Q1393.94 1450.39 1400.49 1450.39 Q1402.25 1450.39 1404.04 1450.74 Q1405.84 1451.09 1407.79 1451.78 Z\" fill=\"#000000\" fill-rule=\"nonzero\" fill-opacity=\"1\" /><path clip-path=\"url(#clip290)\" d=\"M1845.24 1469.17 Q1841.91 1469.17 1839.99 1470.95 Q1838.09 1472.73 1838.09 1475.86 Q1838.09 1478.98 1839.99 1480.77 Q1841.91 1482.55 1845.24 1482.55 Q1848.58 1482.55 1850.5 1480.77 Q1852.42 1478.96 1852.42 1475.86 Q1852.42 1472.73 1850.5 1470.95 Q1848.6 1469.17 1845.24 1469.17 M1840.57 1467.18 Q1837.56 1466.44 1835.87 1464.38 Q1834.2 1462.32 1834.2 1459.35 Q1834.2 1455.21 1837.14 1452.8 Q1840.11 1450.39 1845.24 1450.39 Q1850.41 1450.39 1853.35 1452.8 Q1856.29 1455.21 1856.29 1459.35 Q1856.29 1462.32 1854.6 1464.38 Q1852.93 1466.44 1849.94 1467.18 Q1853.32 1467.96 1855.2 1470.26 Q1857.1 1472.55 1857.1 1475.86 Q1857.1 1480.88 1854.02 1483.57 Q1850.96 1486.25 1845.24 1486.25 Q1839.53 1486.25 1836.45 1483.57 Q1833.39 1480.88 1833.39 1475.86 Q1833.39 1472.55 1835.29 1470.26 Q1837.19 1467.96 1840.57 1467.18 M1838.86 1459.79 Q1838.86 1462.48 1840.52 1463.98 Q1842.21 1465.49 1845.24 1465.49 Q1848.25 1465.49 1849.94 1463.98 Q1851.66 1462.48 1851.66 1459.79 Q1851.66 1457.11 1849.94 1455.6 Q1848.25 1454.1 1845.24 1454.1 Q1842.21 1454.1 1840.52 1455.6 Q1838.86 1457.11 1838.86 1459.79 Z\" fill=\"#000000\" fill-rule=\"nonzero\" fill-opacity=\"1\" /><path clip-path=\"url(#clip290)\" d=\"M2267.08 1481.64 L2274.72 1481.64 L2274.72 1455.28 L2266.41 1456.95 L2266.41 1452.69 L2274.67 1451.02 L2279.35 1451.02 L2279.35 1481.64 L2286.99 1481.64 L2286.99 1485.58 L2267.08 1485.58 L2267.08 1481.64 Z\" fill=\"#000000\" fill-rule=\"nonzero\" fill-opacity=\"1\" /><path clip-path=\"url(#clip290)\" d=\"M2306.43 1454.1 Q2302.82 1454.1 2300.99 1457.66 Q2299.19 1461.2 2299.19 1468.33 Q2299.19 1475.44 2300.99 1479.01 Q2302.82 1482.55 2306.43 1482.55 Q2310.06 1482.55 2311.87 1479.01 Q2313.7 1475.44 2313.7 1468.33 Q2313.7 1461.2 2311.87 1457.66 Q2310.06 1454.1 2306.43 1454.1 M2306.43 1450.39 Q2312.24 1450.39 2315.3 1455 Q2318.37 1459.58 2318.37 1468.33 Q2318.37 1477.06 2315.3 1481.67 Q2312.24 1486.25 2306.43 1486.25 Q2300.62 1486.25 2297.54 1481.67 Q2294.49 1477.06 2294.49 1468.33 Q2294.49 1459.58 2297.54 1455 Q2300.62 1450.39 2306.43 1450.39 Z\" fill=\"#000000\" fill-rule=\"nonzero\" fill-opacity=\"1\" /><path clip-path=\"url(#clip290)\" d=\"M867.336 1537.87 Q866.35 1537.3 865.172 1537.04 Q864.026 1536.76 862.626 1536.76 Q857.66 1536.76 854.987 1540 Q852.345 1543.22 852.345 1549.27 L852.345 1568.04 L846.457 1568.04 L846.457 1532.4 L852.345 1532.4 L852.345 1537.93 Q854.191 1534.69 857.151 1533.13 Q860.111 1531.54 864.344 1531.54 Q864.949 1531.54 865.681 1531.63 Q866.413 1531.7 867.304 1531.85 L867.336 1537.87 Z\" fill=\"#000000\" fill-rule=\"nonzero\" fill-opacity=\"1\" /><path clip-path=\"url(#clip290)\" d=\"M902.539 1548.76 L902.539 1551.62 L875.612 1551.62 Q875.994 1557.67 879.24 1560.85 Q882.518 1564 888.343 1564 Q891.717 1564 894.868 1563.17 Q898.051 1562.35 901.17 1560.69 L901.17 1566.23 Q898.019 1567.57 894.709 1568.27 Q891.399 1568.97 887.993 1568.97 Q879.463 1568.97 874.466 1564 Q869.501 1559.04 869.501 1550.57 Q869.501 1541.82 874.211 1536.69 Q878.954 1531.54 886.974 1531.54 Q894.168 1531.54 898.337 1536.18 Q902.539 1540.8 902.539 1548.76 M896.682 1547.04 Q896.618 1542.23 893.977 1539.37 Q891.367 1536.5 887.038 1536.5 Q882.136 1536.5 879.176 1539.27 Q876.248 1542.04 875.803 1547.07 L896.682 1547.04 Z\" fill=\"#000000\" fill-rule=\"nonzero\" fill-opacity=\"1\" /><path clip-path=\"url(#clip290)\" d=\"M937.805 1533.76 L937.805 1539.24 Q935.322 1537.87 932.807 1537.2 Q930.325 1536.5 927.779 1536.5 Q922.081 1536.5 918.93 1540.13 Q915.779 1543.73 915.779 1550.25 Q915.779 1556.78 918.93 1560.4 Q922.081 1564 927.779 1564 Q930.325 1564 932.807 1563.33 Q935.322 1562.63 937.805 1561.26 L937.805 1566.68 Q935.354 1567.82 932.712 1568.39 Q930.102 1568.97 927.142 1568.97 Q919.089 1568.97 914.347 1563.91 Q909.604 1558.85 909.604 1550.25 Q909.604 1541.53 914.379 1536.53 Q919.185 1531.54 927.524 1531.54 Q930.229 1531.54 932.807 1532.11 Q935.386 1532.65 937.805 1533.76 Z\" fill=\"#000000\" fill-rule=\"nonzero\" fill-opacity=\"1\" /><path clip-path=\"url(#clip290)\" d=\"M961.803 1536.5 Q957.093 1536.5 954.355 1540.19 Q951.618 1543.85 951.618 1550.25 Q951.618 1556.65 954.324 1560.34 Q957.061 1564 961.803 1564 Q966.482 1564 969.219 1560.31 Q971.957 1556.62 971.957 1550.25 Q971.957 1543.92 969.219 1540.23 Q966.482 1536.5 961.803 1536.5 M961.803 1531.54 Q969.442 1531.54 973.803 1536.5 Q978.163 1541.47 978.163 1550.25 Q978.163 1559 973.803 1564 Q969.442 1568.97 961.803 1568.97 Q954.133 1568.97 949.772 1564 Q945.443 1559 945.443 1550.25 Q945.443 1541.47 949.772 1536.5 Q954.133 1531.54 961.803 1531.54 Z\" fill=\"#000000\" fill-rule=\"nonzero\" fill-opacity=\"1\" /><path clip-path=\"url(#clip290)\" d=\"M1008.53 1537.87 Q1007.54 1537.3 1006.36 1537.04 Q1005.22 1536.76 1003.82 1536.76 Q998.852 1536.76 996.178 1540 Q993.536 1543.22 993.536 1549.27 L993.536 1568.04 L987.648 1568.04 L987.648 1532.4 L993.536 1532.4 L993.536 1537.93 Q995.382 1534.69 998.342 1533.13 Q1001.3 1531.54 1005.54 1531.54 Q1006.14 1531.54 1006.87 1531.63 Q1007.6 1531.7 1008.5 1531.85 L1008.53 1537.87 Z\" fill=\"#000000\" fill-rule=\"nonzero\" fill-opacity=\"1\" /><path clip-path=\"url(#clip290)\" d=\"M1036.98 1537.81 L1036.98 1518.52 L1042.84 1518.52 L1042.84 1568.04 L1036.98 1568.04 L1036.98 1562.7 Q1035.14 1565.88 1032.3 1567.44 Q1029.5 1568.97 1025.56 1568.97 Q1019.09 1568.97 1015.02 1563.81 Q1010.98 1558.65 1010.98 1550.25 Q1010.98 1541.85 1015.02 1536.69 Q1019.09 1531.54 1025.56 1531.54 Q1029.5 1531.54 1032.3 1533.1 Q1035.14 1534.62 1036.98 1537.81 M1017.03 1550.25 Q1017.03 1556.71 1019.67 1560.4 Q1022.34 1564.07 1026.99 1564.07 Q1031.64 1564.07 1034.31 1560.4 Q1036.98 1556.71 1036.98 1550.25 Q1036.98 1543.79 1034.31 1540.13 Q1031.64 1536.44 1026.99 1536.44 Q1022.34 1536.44 1019.67 1540.13 Q1017.03 1543.79 1017.03 1550.25 Z\" fill=\"#000000\" fill-rule=\"nonzero\" fill-opacity=\"1\" /><path clip-path=\"url(#clip290)\" d=\"M1085.39 1548.76 L1085.39 1551.62 L1058.47 1551.62 Q1058.85 1557.67 1062.09 1560.85 Q1065.37 1564 1071.2 1564 Q1074.57 1564 1077.72 1563.17 Q1080.91 1562.35 1084.02 1560.69 L1084.02 1566.23 Q1080.87 1567.57 1077.56 1568.27 Q1074.25 1568.97 1070.85 1568.97 Q1062.32 1568.97 1057.32 1564 Q1052.36 1559.04 1052.36 1550.57 Q1052.36 1541.82 1057.07 1536.69 Q1061.81 1531.54 1069.83 1531.54 Q1077.02 1531.54 1081.19 1536.18 Q1085.39 1540.8 1085.39 1548.76 M1079.54 1547.04 Q1079.47 1542.23 1076.83 1539.37 Q1074.22 1536.5 1069.89 1536.5 Q1064.99 1536.5 1062.03 1539.27 Q1059.1 1542.04 1058.66 1547.07 L1079.54 1547.04 Z\" fill=\"#000000\" fill-rule=\"nonzero\" fill-opacity=\"1\" /><path clip-path=\"url(#clip290)\" d=\"M1118.46 1537.81 L1118.46 1518.52 L1124.32 1518.52 L1124.32 1568.04 L1118.46 1568.04 L1118.46 1562.7 Q1116.62 1565.88 1113.78 1567.44 Q1110.98 1568.97 1107.04 1568.97 Q1100.58 1568.97 1096.5 1563.81 Q1092.46 1558.65 1092.46 1550.25 Q1092.46 1541.85 1096.5 1536.69 Q1100.58 1531.54 1107.04 1531.54 Q1110.98 1531.54 1113.78 1533.1 Q1116.62 1534.62 1118.46 1537.81 M1098.51 1550.25 Q1098.51 1556.71 1101.15 1560.4 Q1103.82 1564.07 1108.47 1564.07 Q1113.12 1564.07 1115.79 1560.4 Q1118.46 1556.71 1118.46 1550.25 Q1118.46 1543.79 1115.79 1540.13 Q1113.12 1536.44 1108.47 1536.44 Q1103.82 1536.44 1101.15 1540.13 Q1098.51 1543.79 1098.51 1550.25 Z\" fill=\"#000000\" fill-rule=\"nonzero\" fill-opacity=\"1\" /><path clip-path=\"url(#clip290)\" d=\"M1179.83 1533.45 L1179.83 1538.98 Q1177.35 1537.71 1174.67 1537.07 Q1172 1536.44 1169.13 1536.44 Q1164.77 1536.44 1162.58 1537.77 Q1160.41 1539.11 1160.41 1541.79 Q1160.41 1543.82 1161.97 1545 Q1163.53 1546.15 1168.24 1547.2 L1170.25 1547.64 Q1176.49 1548.98 1179.1 1551.43 Q1181.74 1553.85 1181.74 1558.21 Q1181.74 1563.17 1177.79 1566.07 Q1173.88 1568.97 1167 1568.97 Q1164.14 1568.97 1161.02 1568.39 Q1157.93 1567.85 1154.49 1566.74 L1154.49 1560.69 Q1157.74 1562.38 1160.89 1563.24 Q1164.04 1564.07 1167.13 1564.07 Q1171.27 1564.07 1173.49 1562.66 Q1175.72 1561.23 1175.72 1558.65 Q1175.72 1556.27 1174.1 1554.99 Q1172.51 1553.72 1167.07 1552.54 L1165.03 1552.07 Q1159.59 1550.92 1157.17 1548.56 Q1154.75 1546.18 1154.75 1542.04 Q1154.75 1537.01 1158.31 1534.27 Q1161.88 1531.54 1168.43 1531.54 Q1171.68 1531.54 1174.55 1532.01 Q1177.41 1532.49 1179.83 1533.45 Z\" fill=\"#000000\" fill-rule=\"nonzero\" fill-opacity=\"1\" /><path clip-path=\"url(#clip290)\" d=\"M1207.26 1550.12 Q1200.17 1550.12 1197.43 1551.75 Q1194.69 1553.37 1194.69 1557.29 Q1194.69 1560.4 1196.73 1562.25 Q1198.8 1564.07 1202.33 1564.07 Q1207.2 1564.07 1210.13 1560.63 Q1213.09 1557.16 1213.09 1551.43 L1213.09 1550.12 L1207.26 1550.12 M1218.95 1547.71 L1218.95 1568.04 L1213.09 1568.04 L1213.09 1562.63 Q1211.08 1565.88 1208.09 1567.44 Q1205.1 1568.97 1200.77 1568.97 Q1195.3 1568.97 1192.05 1565.91 Q1188.84 1562.82 1188.84 1557.67 Q1188.84 1551.65 1192.85 1548.6 Q1196.89 1545.54 1204.88 1545.54 L1213.09 1545.54 L1213.09 1544.97 Q1213.09 1540.93 1210.42 1538.73 Q1207.77 1536.5 1202.97 1536.5 Q1199.91 1536.5 1197.02 1537.23 Q1194.12 1537.97 1191.45 1539.43 L1191.45 1534.02 Q1194.66 1532.78 1197.68 1532.17 Q1200.71 1531.54 1203.57 1531.54 Q1211.31 1531.54 1215.13 1535.55 Q1218.95 1539.56 1218.95 1547.71 Z\" fill=\"#000000\" fill-rule=\"nonzero\" fill-opacity=\"1\" /><path clip-path=\"url(#clip290)\" d=\"M1258.76 1539.24 Q1260.96 1535.29 1264.02 1533.41 Q1267.07 1531.54 1271.21 1531.54 Q1276.78 1531.54 1279.8 1535.45 Q1282.83 1539.33 1282.83 1546.53 L1282.83 1568.04 L1276.94 1568.04 L1276.94 1546.72 Q1276.94 1541.59 1275.12 1539.11 Q1273.31 1536.63 1269.59 1536.63 Q1265.03 1536.63 1262.39 1539.65 Q1259.75 1542.68 1259.75 1547.9 L1259.75 1568.04 L1253.86 1568.04 L1253.86 1546.72 Q1253.86 1541.56 1252.05 1539.11 Q1250.23 1536.63 1246.45 1536.63 Q1241.96 1536.63 1239.32 1539.68 Q1236.67 1542.71 1236.67 1547.9 L1236.67 1568.04 L1230.79 1568.04 L1230.79 1532.4 L1236.67 1532.4 L1236.67 1537.93 Q1238.68 1534.66 1241.48 1533.1 Q1244.28 1531.54 1248.13 1531.54 Q1252.02 1531.54 1254.72 1533.51 Q1257.46 1535.48 1258.76 1539.24 Z\" fill=\"#000000\" fill-rule=\"nonzero\" fill-opacity=\"1\" /><path clip-path=\"url(#clip290)\" d=\"M1300.17 1562.7 L1300.17 1581.6 L1294.28 1581.6 L1294.28 1532.4 L1300.17 1532.4 L1300.17 1537.81 Q1302.02 1534.62 1304.82 1533.1 Q1307.65 1531.54 1311.57 1531.54 Q1318.06 1531.54 1322.1 1536.69 Q1326.18 1541.85 1326.18 1550.25 Q1326.18 1558.65 1322.1 1563.81 Q1318.06 1568.97 1311.57 1568.97 Q1307.65 1568.97 1304.82 1567.44 Q1302.02 1565.88 1300.17 1562.7 M1320.1 1550.25 Q1320.1 1543.79 1317.42 1540.13 Q1314.78 1536.44 1310.13 1536.44 Q1305.49 1536.44 1302.81 1540.13 Q1300.17 1543.79 1300.17 1550.25 Q1300.17 1556.71 1302.81 1560.4 Q1305.49 1564.07 1310.13 1564.07 Q1314.78 1564.07 1317.42 1560.4 Q1320.1 1556.71 1320.1 1550.25 Z\" fill=\"#000000\" fill-rule=\"nonzero\" fill-opacity=\"1\" /><path clip-path=\"url(#clip290)\" d=\"M1335.88 1518.52 L1341.74 1518.52 L1341.74 1568.04 L1335.88 1568.04 L1335.88 1518.52 Z\" fill=\"#000000\" fill-rule=\"nonzero\" fill-opacity=\"1\" /><path clip-path=\"url(#clip290)\" d=\"M1384.49 1548.76 L1384.49 1551.62 L1357.56 1551.62 Q1357.94 1557.67 1361.19 1560.85 Q1364.47 1564 1370.29 1564 Q1373.66 1564 1376.82 1563.17 Q1380 1562.35 1383.12 1560.69 L1383.12 1566.23 Q1379.97 1567.57 1376.66 1568.27 Q1373.35 1568.97 1369.94 1568.97 Q1361.41 1568.97 1356.41 1564 Q1351.45 1559.04 1351.45 1550.57 Q1351.45 1541.82 1356.16 1536.69 Q1360.9 1531.54 1368.92 1531.54 Q1376.12 1531.54 1380.28 1536.18 Q1384.49 1540.8 1384.49 1548.76 M1378.63 1547.04 Q1378.57 1542.23 1375.92 1539.37 Q1373.31 1536.5 1368.99 1536.5 Q1364.08 1536.5 1361.12 1539.27 Q1358.2 1542.04 1357.75 1547.07 L1378.63 1547.04 Z\" fill=\"#000000\" fill-rule=\"nonzero\" fill-opacity=\"1\" /><path clip-path=\"url(#clip290)\" d=\"M1416.82 1533.45 L1416.82 1538.98 Q1414.34 1537.71 1411.67 1537.07 Q1408.99 1536.44 1406.13 1536.44 Q1401.77 1536.44 1399.57 1537.77 Q1397.41 1539.11 1397.41 1541.79 Q1397.41 1543.82 1398.97 1545 Q1400.53 1546.15 1405.24 1547.2 L1407.24 1547.64 Q1413.48 1548.98 1416.09 1551.43 Q1418.73 1553.85 1418.73 1558.21 Q1418.73 1563.17 1414.79 1566.07 Q1410.87 1568.97 1404 1568.97 Q1401.13 1568.97 1398.01 1568.39 Q1394.93 1567.85 1391.49 1566.74 L1391.49 1560.69 Q1394.73 1562.38 1397.89 1563.24 Q1401.04 1564.07 1404.12 1564.07 Q1408.26 1564.07 1410.49 1562.66 Q1412.72 1561.23 1412.72 1558.65 Q1412.72 1556.27 1411.09 1554.99 Q1409.5 1553.72 1404.06 1552.54 L1402.02 1552.07 Q1396.58 1550.92 1394.16 1548.56 Q1391.74 1546.18 1391.74 1542.04 Q1391.74 1537.01 1395.31 1534.27 Q1398.87 1531.54 1405.43 1531.54 Q1408.68 1531.54 1411.54 1532.01 Q1414.41 1532.49 1416.82 1533.45 Z\" fill=\"#000000\" fill-rule=\"nonzero\" fill-opacity=\"1\" /><path clip-path=\"url(#clip290)\" d=\"M1462.59 1536.5 Q1457.88 1536.5 1455.15 1540.19 Q1452.41 1543.85 1452.41 1550.25 Q1452.41 1556.65 1455.11 1560.34 Q1457.85 1564 1462.59 1564 Q1467.27 1564 1470.01 1560.31 Q1472.75 1556.62 1472.75 1550.25 Q1472.75 1543.92 1470.01 1540.23 Q1467.27 1536.5 1462.59 1536.5 M1462.59 1531.54 Q1470.23 1531.54 1474.59 1536.5 Q1478.95 1541.47 1478.95 1550.25 Q1478.95 1559 1474.59 1564 Q1470.23 1568.97 1462.59 1568.97 Q1454.92 1568.97 1450.56 1564 Q1446.23 1559 1446.23 1550.25 Q1446.23 1541.47 1450.56 1536.5 Q1454.92 1531.54 1462.59 1531.54 Z\" fill=\"#000000\" fill-rule=\"nonzero\" fill-opacity=\"1\" /><path clip-path=\"url(#clip290)\" d=\"M1506.71 1518.52 L1506.71 1523.39 L1501.11 1523.39 Q1497.95 1523.39 1496.71 1524.66 Q1495.5 1525.93 1495.5 1529.24 L1495.5 1532.4 L1505.15 1532.4 L1505.15 1536.95 L1495.5 1536.95 L1495.5 1568.04 L1489.62 1568.04 L1489.62 1536.95 L1484.01 1536.95 L1484.01 1532.4 L1489.62 1532.4 L1489.62 1529.91 Q1489.62 1523.96 1492.38 1521.26 Q1495.15 1518.52 1501.17 1518.52 L1506.71 1518.52 Z\" fill=\"#000000\" fill-rule=\"nonzero\" fill-opacity=\"1\" /><path clip-path=\"url(#clip290)\" d=\"M1532.58 1520.52 L1542.16 1520.52 L1554.29 1552.86 L1566.48 1520.52 L1576.06 1520.52 L1576.06 1568.04 L1569.79 1568.04 L1569.79 1526.32 L1557.54 1558.91 L1551.08 1558.91 L1538.82 1526.32 L1538.82 1568.04 L1532.58 1568.04 L1532.58 1520.52 Z\" fill=\"#000000\" fill-rule=\"nonzero\" fill-opacity=\"1\" /><path clip-path=\"url(#clip290)\" d=\"M1624.41 1524.18 L1624.41 1530.96 Q1621.16 1527.94 1617.47 1526.44 Q1613.81 1524.95 1609.67 1524.95 Q1601.52 1524.95 1597.2 1529.95 Q1592.87 1534.91 1592.87 1544.33 Q1592.87 1553.72 1597.2 1558.72 Q1601.52 1563.68 1609.67 1563.68 Q1613.81 1563.68 1617.47 1562.19 Q1621.16 1560.69 1624.41 1557.67 L1624.41 1564.38 Q1621.04 1566.68 1617.25 1567.82 Q1613.49 1568.97 1609.29 1568.97 Q1598.5 1568.97 1592.29 1562.38 Q1586.09 1555.76 1586.09 1544.33 Q1586.09 1532.87 1592.29 1526.28 Q1598.5 1519.66 1609.29 1519.66 Q1613.56 1519.66 1617.31 1520.81 Q1621.1 1521.92 1624.41 1524.18 Z\" fill=\"#000000\" fill-rule=\"nonzero\" fill-opacity=\"1\" /><path clip-path=\"url(#clip290)\" d=\"M1634.34 1520.52 L1643.92 1520.52 L1656.05 1552.86 L1668.24 1520.52 L1677.82 1520.52 L1677.82 1568.04 L1671.55 1568.04 L1671.55 1526.32 L1659.29 1558.91 L1652.83 1558.91 L1640.58 1526.32 L1640.58 1568.04 L1634.34 1568.04 L1634.34 1520.52 Z\" fill=\"#000000\" fill-rule=\"nonzero\" fill-opacity=\"1\" /><path clip-path=\"url(#clip290)\" d=\"M1726.17 1524.18 L1726.17 1530.96 Q1722.92 1527.94 1719.23 1526.44 Q1715.57 1524.95 1711.43 1524.95 Q1703.28 1524.95 1698.95 1529.95 Q1694.62 1534.91 1694.62 1544.33 Q1694.62 1553.72 1698.95 1558.72 Q1703.28 1563.68 1711.43 1563.68 Q1715.57 1563.68 1719.23 1562.19 Q1722.92 1560.69 1726.17 1557.67 L1726.17 1564.38 Q1722.79 1566.68 1719 1567.82 Q1715.25 1568.97 1711.05 1568.97 Q1700.26 1568.97 1694.05 1562.38 Q1687.84 1555.76 1687.84 1544.33 Q1687.84 1532.87 1694.05 1526.28 Q1700.26 1519.66 1711.05 1519.66 Q1715.31 1519.66 1719.07 1520.81 Q1722.86 1521.92 1726.17 1524.18 Z\" fill=\"#000000\" fill-rule=\"nonzero\" fill-opacity=\"1\" /><polyline clip-path=\"url(#clip290)\" style=\"stroke:#000000; stroke-linecap:round; stroke-linejoin:round; stroke-width:4; stroke-opacity:1; fill:none\" points=\"219.866,1423.18 219.866,123.472 \"/>\n",
       "<polyline clip-path=\"url(#clip290)\" style=\"stroke:#000000; stroke-linecap:round; stroke-linejoin:round; stroke-width:4; stroke-opacity:1; fill:none\" points=\"219.866,1222.91 238.764,1222.91 \"/>\n",
       "<polyline clip-path=\"url(#clip290)\" style=\"stroke:#000000; stroke-linecap:round; stroke-linejoin:round; stroke-width:4; stroke-opacity:1; fill:none\" points=\"219.866,977.683 238.764,977.683 \"/>\n",
       "<polyline clip-path=\"url(#clip290)\" style=\"stroke:#000000; stroke-linecap:round; stroke-linejoin:round; stroke-width:4; stroke-opacity:1; fill:none\" points=\"219.866,732.455 238.764,732.455 \"/>\n",
       "<polyline clip-path=\"url(#clip290)\" style=\"stroke:#000000; stroke-linecap:round; stroke-linejoin:round; stroke-width:4; stroke-opacity:1; fill:none\" points=\"219.866,487.227 238.764,487.227 \"/>\n",
       "<polyline clip-path=\"url(#clip290)\" style=\"stroke:#000000; stroke-linecap:round; stroke-linejoin:round; stroke-width:4; stroke-opacity:1; fill:none\" points=\"219.866,241.999 238.764,241.999 \"/>\n",
       "<path clip-path=\"url(#clip290)\" d=\"M126.205 1208.71 Q122.593 1208.71 120.765 1212.27 Q118.959 1215.82 118.959 1222.95 Q118.959 1230.05 120.765 1233.62 Q122.593 1237.16 126.205 1237.16 Q129.839 1237.16 131.644 1233.62 Q133.473 1230.05 133.473 1222.95 Q133.473 1215.82 131.644 1212.27 Q129.839 1208.71 126.205 1208.71 M126.205 1205.01 Q132.015 1205.01 135.07 1209.61 Q138.149 1214.2 138.149 1222.95 Q138.149 1231.67 135.07 1236.28 Q132.015 1240.86 126.205 1240.86 Q120.394 1240.86 117.316 1236.28 Q114.26 1231.67 114.26 1222.95 Q114.26 1214.2 117.316 1209.61 Q120.394 1205.01 126.205 1205.01 Z\" fill=\"#000000\" fill-rule=\"nonzero\" fill-opacity=\"1\" /><path clip-path=\"url(#clip290)\" d=\"M146.366 1234.31 L151.251 1234.31 L151.251 1240.19 L146.366 1240.19 L146.366 1234.31 Z\" fill=\"#000000\" fill-rule=\"nonzero\" fill-opacity=\"1\" /><path clip-path=\"url(#clip290)\" d=\"M174.283 1209.7 L162.477 1228.15 L174.283 1228.15 L174.283 1209.7 M173.056 1205.63 L178.936 1205.63 L178.936 1228.15 L183.866 1228.15 L183.866 1232.04 L178.936 1232.04 L178.936 1240.19 L174.283 1240.19 L174.283 1232.04 L158.681 1232.04 L158.681 1227.53 L173.056 1205.63 Z\" fill=\"#000000\" fill-rule=\"nonzero\" fill-opacity=\"1\" /><path clip-path=\"url(#clip290)\" d=\"M127.686 963.481 Q124.075 963.481 122.246 967.046 Q120.441 970.588 120.441 977.717 Q120.441 984.824 122.246 988.389 Q124.075 991.93 127.686 991.93 Q131.32 991.93 133.126 988.389 Q134.954 984.824 134.954 977.717 Q134.954 970.588 133.126 967.046 Q131.32 963.481 127.686 963.481 M127.686 959.778 Q133.496 959.778 136.552 964.384 Q139.63 968.967 139.63 977.717 Q139.63 986.444 136.552 991.051 Q133.496 995.634 127.686 995.634 Q121.876 995.634 118.797 991.051 Q115.742 986.444 115.742 977.717 Q115.742 968.967 118.797 964.384 Q121.876 959.778 127.686 959.778 Z\" fill=\"#000000\" fill-rule=\"nonzero\" fill-opacity=\"1\" /><path clip-path=\"url(#clip290)\" d=\"M147.848 989.083 L152.732 989.083 L152.732 994.963 L147.848 994.963 L147.848 989.083 Z\" fill=\"#000000\" fill-rule=\"nonzero\" fill-opacity=\"1\" /><path clip-path=\"url(#clip290)\" d=\"M162.964 960.403 L181.32 960.403 L181.32 964.338 L167.246 964.338 L167.246 972.81 Q168.264 972.463 169.283 972.301 Q170.302 972.115 171.32 972.115 Q177.107 972.115 180.487 975.287 Q183.866 978.458 183.866 983.875 Q183.866 989.453 180.394 992.555 Q176.922 995.634 170.602 995.634 Q168.427 995.634 166.158 995.263 Q163.913 994.893 161.505 994.152 L161.505 989.453 Q163.589 990.588 165.811 991.143 Q168.033 991.699 170.51 991.699 Q174.514 991.699 176.852 989.592 Q179.19 987.486 179.19 983.875 Q179.19 980.264 176.852 978.157 Q174.514 976.051 170.51 976.051 Q168.635 976.051 166.76 976.467 Q164.908 976.884 162.964 977.764 L162.964 960.403 Z\" fill=\"#000000\" fill-rule=\"nonzero\" fill-opacity=\"1\" /><path clip-path=\"url(#clip290)\" d=\"M126.529 718.253 Q122.918 718.253 121.089 721.818 Q119.283 725.36 119.283 732.489 Q119.283 739.596 121.089 743.161 Q122.918 746.702 126.529 746.702 Q130.163 746.702 131.968 743.161 Q133.797 739.596 133.797 732.489 Q133.797 725.36 131.968 721.818 Q130.163 718.253 126.529 718.253 M126.529 714.55 Q132.339 714.55 135.394 719.156 Q138.473 723.739 138.473 732.489 Q138.473 741.216 135.394 745.823 Q132.339 750.406 126.529 750.406 Q120.718 750.406 117.64 745.823 Q114.584 741.216 114.584 732.489 Q114.584 723.739 117.64 719.156 Q120.718 714.55 126.529 714.55 Z\" fill=\"#000000\" fill-rule=\"nonzero\" fill-opacity=\"1\" /><path clip-path=\"url(#clip290)\" d=\"M146.691 743.855 L151.575 743.855 L151.575 749.735 L146.691 749.735 L146.691 743.855 Z\" fill=\"#000000\" fill-rule=\"nonzero\" fill-opacity=\"1\" /><path clip-path=\"url(#clip290)\" d=\"M172.339 730.591 Q169.19 730.591 167.339 732.744 Q165.51 734.897 165.51 738.647 Q165.51 742.374 167.339 744.55 Q169.19 746.702 172.339 746.702 Q175.487 746.702 177.315 744.55 Q179.167 742.374 179.167 738.647 Q179.167 734.897 177.315 732.744 Q175.487 730.591 172.339 730.591 M181.621 715.939 L181.621 720.198 Q179.862 719.364 178.056 718.925 Q176.274 718.485 174.514 718.485 Q169.885 718.485 167.431 721.61 Q165.001 724.735 164.653 731.054 Q166.019 729.04 168.079 727.976 Q170.139 726.888 172.616 726.888 Q177.825 726.888 180.834 730.059 Q183.866 733.207 183.866 738.647 Q183.866 743.971 180.718 747.188 Q177.57 750.406 172.339 750.406 Q166.343 750.406 163.172 745.823 Q160.001 741.216 160.001 732.489 Q160.001 724.295 163.89 719.434 Q167.778 714.55 174.329 714.55 Q176.089 714.55 177.871 714.897 Q179.676 715.244 181.621 715.939 Z\" fill=\"#000000\" fill-rule=\"nonzero\" fill-opacity=\"1\" /><path clip-path=\"url(#clip290)\" d=\"M127.593 473.025 Q123.982 473.025 122.154 476.59 Q120.348 480.132 120.348 487.262 Q120.348 494.368 122.154 497.933 Q123.982 501.474 127.593 501.474 Q131.228 501.474 133.033 497.933 Q134.862 494.368 134.862 487.262 Q134.862 480.132 133.033 476.59 Q131.228 473.025 127.593 473.025 M127.593 469.322 Q133.404 469.322 136.459 473.928 Q139.538 478.512 139.538 487.262 Q139.538 495.988 136.459 500.595 Q133.404 505.178 127.593 505.178 Q121.783 505.178 118.705 500.595 Q115.649 495.988 115.649 487.262 Q115.649 478.512 118.705 473.928 Q121.783 469.322 127.593 469.322 Z\" fill=\"#000000\" fill-rule=\"nonzero\" fill-opacity=\"1\" /><path clip-path=\"url(#clip290)\" d=\"M147.755 498.627 L152.64 498.627 L152.64 504.507 L147.755 504.507 L147.755 498.627 Z\" fill=\"#000000\" fill-rule=\"nonzero\" fill-opacity=\"1\" /><path clip-path=\"url(#clip290)\" d=\"M161.644 469.947 L183.866 469.947 L183.866 471.938 L171.32 504.507 L166.436 504.507 L178.241 473.882 L161.644 473.882 L161.644 469.947 Z\" fill=\"#000000\" fill-rule=\"nonzero\" fill-opacity=\"1\" /><path clip-path=\"url(#clip290)\" d=\"M126.783 227.798 Q123.172 227.798 121.343 231.362 Q119.538 234.904 119.538 242.034 Q119.538 249.14 121.343 252.705 Q123.172 256.247 126.783 256.247 Q130.417 256.247 132.223 252.705 Q134.052 249.14 134.052 242.034 Q134.052 234.904 132.223 231.362 Q130.417 227.798 126.783 227.798 M126.783 224.094 Q132.593 224.094 135.649 228.7 Q138.728 233.284 138.728 242.034 Q138.728 250.76 135.649 255.367 Q132.593 259.95 126.783 259.95 Q120.973 259.95 117.894 255.367 Q114.839 250.76 114.839 242.034 Q114.839 233.284 117.894 228.7 Q120.973 224.094 126.783 224.094 Z\" fill=\"#000000\" fill-rule=\"nonzero\" fill-opacity=\"1\" /><path clip-path=\"url(#clip290)\" d=\"M146.945 253.399 L151.829 253.399 L151.829 259.279 L146.945 259.279 L146.945 253.399 Z\" fill=\"#000000\" fill-rule=\"nonzero\" fill-opacity=\"1\" /><path clip-path=\"url(#clip290)\" d=\"M172.014 242.867 Q168.681 242.867 166.76 244.649 Q164.862 246.432 164.862 249.557 Q164.862 252.682 166.76 254.464 Q168.681 256.247 172.014 256.247 Q175.348 256.247 177.269 254.464 Q179.19 252.659 179.19 249.557 Q179.19 246.432 177.269 244.649 Q175.371 242.867 172.014 242.867 M167.339 240.876 Q164.329 240.136 162.64 238.075 Q160.973 236.015 160.973 233.052 Q160.973 228.909 163.913 226.501 Q166.876 224.094 172.014 224.094 Q177.176 224.094 180.116 226.501 Q183.056 228.909 183.056 233.052 Q183.056 236.015 181.366 238.075 Q179.7 240.136 176.714 240.876 Q180.093 241.663 181.968 243.955 Q183.866 246.247 183.866 249.557 Q183.866 254.58 180.788 257.265 Q177.732 259.95 172.014 259.95 Q166.297 259.95 163.218 257.265 Q160.163 254.58 160.163 249.557 Q160.163 246.247 162.061 243.955 Q163.959 241.663 167.339 240.876 M165.626 233.492 Q165.626 236.177 167.292 237.682 Q168.982 239.186 172.014 239.186 Q175.024 239.186 176.714 237.682 Q178.426 236.177 178.426 233.492 Q178.426 230.807 176.714 229.302 Q175.024 227.798 172.014 227.798 Q168.982 227.798 167.292 229.302 Q165.626 230.807 165.626 233.492 Z\" fill=\"#000000\" fill-rule=\"nonzero\" fill-opacity=\"1\" /><path clip-path=\"url(#clip290)\" d=\"M22.818 1015.81 L46.4666 1024.53 L46.4666 1007.06 L22.818 1015.81 M16.4842 1019.44 L16.4842 1012.15 L64.0042 994.041 L64.0042 1000.72 L51.8138 1005.05 L51.8138 1026.47 L64.0042 1030.8 L64.0042 1037.58 L16.4842 1019.44 Z\" fill=\"#000000\" fill-rule=\"nonzero\" fill-opacity=\"1\" /><path clip-path=\"url(#clip290)\" d=\"M29.7248 962.849 L35.1993 962.849 Q33.8307 965.332 33.1623 967.846 Q32.4621 970.329 32.4621 972.875 Q32.4621 978.572 36.0905 981.723 Q39.6872 984.874 46.212 984.874 Q52.7369 984.874 56.3653 981.723 Q59.9619 978.572 59.9619 972.875 Q59.9619 970.329 59.2935 967.846 Q58.5933 965.332 57.2247 962.849 L62.6355 962.849 Q63.7814 965.3 64.3543 967.942 Q64.9272 970.551 64.9272 973.512 Q64.9272 981.564 59.8664 986.307 Q54.8057 991.049 46.212 991.049 Q37.491 991.049 32.4939 986.275 Q27.4968 981.469 27.4968 973.13 Q27.4968 970.424 28.0697 967.846 Q28.6108 965.268 29.7248 962.849 Z\" fill=\"#000000\" fill-rule=\"nonzero\" fill-opacity=\"1\" /><path clip-path=\"url(#clip290)\" d=\"M29.7248 927.01 L35.1993 927.01 Q33.8307 929.493 33.1623 932.007 Q32.4621 934.49 32.4621 937.036 Q32.4621 942.733 36.0905 945.884 Q39.6872 949.035 46.212 949.035 Q52.7369 949.035 56.3653 945.884 Q59.9619 942.733 59.9619 937.036 Q59.9619 934.49 59.2935 932.007 Q58.5933 929.493 57.2247 927.01 L62.6355 927.01 Q63.7814 929.461 64.3543 932.103 Q64.9272 934.713 64.9272 937.673 Q64.9272 945.725 59.8664 950.468 Q54.8057 955.21 46.212 955.21 Q37.491 955.21 32.4939 950.436 Q27.4968 945.63 27.4968 937.291 Q27.4968 934.585 28.0697 932.007 Q28.6108 929.429 29.7248 927.01 Z\" fill=\"#000000\" fill-rule=\"nonzero\" fill-opacity=\"1\" /><path clip-path=\"url(#clip290)\" d=\"M44.7161 886.333 L47.5806 886.333 L47.5806 913.26 Q53.6281 912.878 56.8109 909.632 Q59.9619 906.353 59.9619 900.529 Q59.9619 897.155 59.1344 894.004 Q58.3069 890.821 56.6518 887.702 L62.1899 887.702 Q63.5267 890.853 64.227 894.163 Q64.9272 897.473 64.9272 900.879 Q64.9272 909.409 59.9619 914.406 Q54.9967 919.371 46.5303 919.371 Q37.7774 919.371 32.6531 914.661 Q27.4968 909.918 27.4968 901.897 Q27.4968 894.704 32.1438 890.535 Q36.7589 886.333 44.7161 886.333 M42.9973 892.19 Q38.1912 892.253 35.3266 894.895 Q32.4621 897.505 32.4621 901.834 Q32.4621 906.735 35.2312 909.695 Q38.0002 912.624 43.0292 913.069 L42.9973 892.19 Z\" fill=\"#000000\" fill-rule=\"nonzero\" fill-opacity=\"1\" /><path clip-path=\"url(#clip290)\" d=\"M58.657 871.055 L77.5631 871.055 L77.5631 876.944 L28.3562 876.944 L28.3562 871.055 L33.7671 871.055 Q30.5842 869.209 29.0564 866.409 Q27.4968 863.576 27.4968 859.661 Q27.4968 853.168 32.6531 849.126 Q37.8093 845.052 46.212 845.052 Q54.6147 845.052 59.771 849.126 Q64.9272 853.168 64.9272 859.661 Q64.9272 863.576 63.3994 866.409 Q61.8398 869.209 58.657 871.055 M46.212 851.131 Q39.7508 851.131 36.0905 853.804 Q32.3984 856.446 32.3984 861.093 Q32.3984 865.74 36.0905 868.414 Q39.7508 871.055 46.212 871.055 Q52.6732 871.055 56.3653 868.414 Q60.0256 865.74 60.0256 861.093 Q60.0256 856.446 56.3653 853.804 Q52.6732 851.131 46.212 851.131 Z\" fill=\"#000000\" fill-rule=\"nonzero\" fill-opacity=\"1\" /><path clip-path=\"url(#clip290)\" d=\"M18.2347 829.551 L28.3562 829.551 L28.3562 817.488 L32.9077 817.488 L32.9077 829.551 L52.2594 829.551 Q56.6199 829.551 57.8613 828.373 Q59.1026 827.164 59.1026 823.504 L59.1026 817.488 L64.0042 817.488 L64.0042 823.504 Q64.0042 830.283 61.4897 832.861 Q58.9434 835.439 52.2594 835.439 L32.9077 835.439 L32.9077 839.736 L28.3562 839.736 L28.3562 835.439 L18.2347 835.439 L18.2347 829.551 Z\" fill=\"#000000\" fill-rule=\"nonzero\" fill-opacity=\"1\" /><path clip-path=\"url(#clip290)\" d=\"M46.0847 793.585 Q46.0847 800.683 47.7079 803.42 Q49.3312 806.157 53.2461 806.157 Q56.3653 806.157 58.2114 804.12 Q60.0256 802.051 60.0256 798.518 Q60.0256 793.649 56.5881 790.72 Q53.1188 787.76 47.3897 787.76 L46.0847 787.76 L46.0847 793.585 M43.6657 781.904 L64.0042 781.904 L64.0042 787.76 L58.5933 787.76 Q61.8398 789.765 63.3994 792.757 Q64.9272 795.749 64.9272 800.078 Q64.9272 805.552 61.8716 808.799 Q58.7843 812.014 53.6281 812.014 Q47.6125 812.014 44.5569 808.003 Q41.5014 803.961 41.5014 795.972 L41.5014 787.76 L40.9285 787.76 Q36.8862 787.76 34.6901 790.434 Q32.4621 793.076 32.4621 797.882 Q32.4621 800.937 33.1941 803.834 Q33.9262 806.73 35.3903 809.404 L29.9795 809.404 Q28.7381 806.189 28.1334 803.165 Q27.4968 800.142 27.4968 797.277 Q27.4968 789.543 31.5072 785.723 Q35.5176 781.904 43.6657 781.904 Z\" fill=\"#000000\" fill-rule=\"nonzero\" fill-opacity=\"1\" /><path clip-path=\"url(#clip290)\" d=\"M42.4881 740.208 L64.0042 740.208 L64.0042 746.065 L42.679 746.065 Q37.6183 746.065 35.1038 748.038 Q32.5894 750.012 32.5894 753.958 Q32.5894 758.701 35.6131 761.438 Q38.6368 764.175 43.8567 764.175 L64.0042 764.175 L64.0042 770.064 L28.3562 770.064 L28.3562 764.175 L33.8944 764.175 Q30.6797 762.075 29.0883 759.242 Q27.4968 756.377 27.4968 752.653 Q27.4968 746.51 31.3163 743.359 Q35.1038 740.208 42.4881 740.208 Z\" fill=\"#000000\" fill-rule=\"nonzero\" fill-opacity=\"1\" /><path clip-path=\"url(#clip290)\" d=\"M29.7248 702.874 L35.1993 702.874 Q33.8307 705.356 33.1623 707.871 Q32.4621 710.353 32.4621 712.9 Q32.4621 718.597 36.0905 721.748 Q39.6872 724.899 46.212 724.899 Q52.7369 724.899 56.3653 721.748 Q59.9619 718.597 59.9619 712.9 Q59.9619 710.353 59.2935 707.871 Q58.5933 705.356 57.2247 702.874 L62.6355 702.874 Q63.7814 705.324 64.3543 707.966 Q64.9272 710.576 64.9272 713.536 Q64.9272 721.589 59.8664 726.331 Q54.8057 731.074 46.212 731.074 Q37.491 731.074 32.4939 726.299 Q27.4968 721.493 27.4968 713.154 Q27.4968 710.449 28.0697 707.871 Q28.6108 705.292 29.7248 702.874 Z\" fill=\"#000000\" fill-rule=\"nonzero\" fill-opacity=\"1\" /><path clip-path=\"url(#clip290)\" d=\"M44.7161 662.197 L47.5806 662.197 L47.5806 689.124 Q53.6281 688.742 56.8109 685.495 Q59.9619 682.217 59.9619 676.392 Q59.9619 673.018 59.1344 669.867 Q58.3069 666.684 56.6518 663.565 L62.1899 663.565 Q63.5267 666.716 64.227 670.026 Q64.9272 673.337 64.9272 676.742 Q64.9272 685.272 59.9619 690.269 Q54.9967 695.235 46.5303 695.235 Q37.7774 695.235 32.6531 690.524 Q27.4968 685.782 27.4968 677.761 Q27.4968 670.568 32.1438 666.398 Q36.7589 662.197 44.7161 662.197 M42.9973 668.053 Q38.1912 668.117 35.3266 670.759 Q32.4621 673.368 32.4621 677.697 Q32.4621 682.599 35.2312 685.559 Q38.0002 688.487 43.0292 688.933 L42.9973 668.053 Z\" fill=\"#000000\" fill-rule=\"nonzero\" fill-opacity=\"1\" /><path clip-path=\"url(#clip290)\" d=\"M33.8307 611.207 Q33.2578 612.194 33.0032 613.372 Q32.7167 614.518 32.7167 615.918 Q32.7167 620.883 35.9632 623.557 Q39.1779 626.199 45.2253 626.199 L64.0042 626.199 L64.0042 632.087 L28.3562 632.087 L28.3562 626.199 L33.8944 626.199 Q30.6479 624.353 29.0883 621.392 Q27.4968 618.432 27.4968 614.199 Q27.4968 613.594 27.5923 612.862 Q27.656 612.13 27.8151 611.239 L33.8307 611.207 Z\" fill=\"#000000\" fill-rule=\"nonzero\" fill-opacity=\"1\" /><path clip-path=\"url(#clip290)\" d=\"M46.0847 588.864 Q46.0847 595.961 47.7079 598.699 Q49.3312 601.436 53.2461 601.436 Q56.3653 601.436 58.2114 599.399 Q60.0256 597.33 60.0256 593.797 Q60.0256 588.927 56.5881 585.999 Q53.1188 583.039 47.3897 583.039 L46.0847 583.039 L46.0847 588.864 M43.6657 577.183 L64.0042 577.183 L64.0042 583.039 L58.5933 583.039 Q61.8398 585.044 63.3994 588.036 Q64.9272 591.028 64.9272 595.357 Q64.9272 600.831 61.8716 604.078 Q58.7843 607.292 53.6281 607.292 Q47.6125 607.292 44.5569 603.282 Q41.5014 599.24 41.5014 591.251 L41.5014 583.039 L40.9285 583.039 Q36.8862 583.039 34.6901 585.713 Q32.4621 588.354 32.4621 593.161 Q32.4621 596.216 33.1941 599.113 Q33.9262 602.009 35.3903 604.683 L29.9795 604.683 Q28.7381 601.468 28.1334 598.444 Q27.4968 595.42 27.4968 592.556 Q27.4968 584.821 31.5072 581.002 Q35.5176 577.183 43.6657 577.183 Z\" fill=\"#000000\" fill-rule=\"nonzero\" fill-opacity=\"1\" /><path clip-path=\"url(#clip290)\" d=\"M18.2347 559.327 L28.3562 559.327 L28.3562 547.264 L32.9077 547.264 L32.9077 559.327 L52.2594 559.327 Q56.6199 559.327 57.8613 558.149 Q59.1026 556.94 59.1026 553.279 L59.1026 547.264 L64.0042 547.264 L64.0042 553.279 Q64.0042 560.059 61.4897 562.637 Q58.9434 565.215 52.2594 565.215 L32.9077 565.215 L32.9077 569.512 L28.3562 569.512 L28.3562 565.215 L18.2347 565.215 L18.2347 559.327 Z\" fill=\"#000000\" fill-rule=\"nonzero\" fill-opacity=\"1\" /><path clip-path=\"url(#clip290)\" d=\"M44.7161 509.07 L47.5806 509.07 L47.5806 535.997 Q53.6281 535.615 56.8109 532.368 Q59.9619 529.09 59.9619 523.265 Q59.9619 519.891 59.1344 516.74 Q58.3069 513.557 56.6518 510.438 L62.1899 510.438 Q63.5267 513.589 64.227 516.899 Q64.9272 520.21 64.9272 523.615 Q64.9272 532.145 59.9619 537.142 Q54.9967 542.108 46.5303 542.108 Q37.7774 542.108 32.6531 537.397 Q27.4968 532.655 27.4968 524.634 Q27.4968 517.44 32.1438 513.271 Q36.7589 509.07 44.7161 509.07 M42.9973 514.926 Q38.1912 514.99 35.3266 517.631 Q32.4621 520.241 32.4621 524.57 Q32.4621 529.472 35.2312 532.432 Q38.0002 535.36 43.0292 535.806 L42.9973 514.926 Z\" fill=\"#000000\" fill-rule=\"nonzero\" fill-opacity=\"1\" /><path clip-path=\"url(#clip290)\" d=\"M955.899 20.1573 L944.8 50.2555 L967.039 50.2555 L955.899 20.1573 M951.281 12.096 L960.558 12.096 L983.607 72.576 L975.1 72.576 L969.591 57.061 L942.329 57.061 L936.819 72.576 L928.191 72.576 L951.281 12.096 Z\" fill=\"#000000\" fill-rule=\"nonzero\" fill-opacity=\"1\" /><path clip-path=\"url(#clip290)\" d=\"M1023.31 28.9478 L1023.31 35.9153 Q1020.15 34.1734 1016.95 33.3227 Q1013.79 32.4315 1010.55 32.4315 Q1003.29 32.4315 999.284 37.0496 Q995.274 41.6271 995.274 49.9314 Q995.274 58.2358 999.284 62.8538 Q1003.29 67.4314 1010.55 67.4314 Q1013.79 67.4314 1016.95 66.5807 Q1020.15 65.6895 1023.31 63.9476 L1023.31 70.8341 Q1020.19 72.2924 1016.82 73.0216 Q1013.5 73.7508 1009.74 73.7508 Q999.487 73.7508 993.451 67.3098 Q987.415 60.8689 987.415 49.9314 Q987.415 38.832 993.491 32.472 Q999.608 26.1121 1010.22 26.1121 Q1013.66 26.1121 1016.95 26.8413 Q1020.23 27.5299 1023.31 28.9478 Z\" fill=\"#000000\" fill-rule=\"nonzero\" fill-opacity=\"1\" /><path clip-path=\"url(#clip290)\" d=\"M1068.92 28.9478 L1068.92 35.9153 Q1065.76 34.1734 1062.56 33.3227 Q1059.4 32.4315 1056.16 32.4315 Q1048.91 32.4315 1044.9 37.0496 Q1040.89 41.6271 1040.89 49.9314 Q1040.89 58.2358 1044.9 62.8538 Q1048.91 67.4314 1056.16 67.4314 Q1059.4 67.4314 1062.56 66.5807 Q1065.76 65.6895 1068.92 63.9476 L1068.92 70.8341 Q1065.8 72.2924 1062.44 73.0216 Q1059.12 73.7508 1055.35 73.7508 Q1045.1 73.7508 1039.06 67.3098 Q1033.03 60.8689 1033.03 49.9314 Q1033.03 38.832 1039.1 32.472 Q1045.22 26.1121 1055.83 26.1121 Q1059.28 26.1121 1062.56 26.8413 Q1065.84 27.5299 1068.92 28.9478 Z\" fill=\"#000000\" fill-rule=\"nonzero\" fill-opacity=\"1\" /><path clip-path=\"url(#clip290)\" d=\"M1120.69 48.0275 L1120.69 51.6733 L1086.42 51.6733 Q1086.91 59.3701 1091.04 63.421 Q1095.21 67.4314 1102.62 67.4314 Q1106.92 67.4314 1110.93 66.3781 Q1114.98 65.3249 1118.95 63.2184 L1118.95 70.267 Q1114.94 71.9684 1110.72 72.8596 Q1106.51 73.7508 1102.18 73.7508 Q1091.32 73.7508 1084.96 67.4314 Q1078.64 61.1119 1078.64 50.3365 Q1078.64 39.1965 1084.64 32.6746 Q1090.67 26.1121 1100.88 26.1121 Q1110.04 26.1121 1115.34 32.0264 Q1120.69 37.9003 1120.69 48.0275 M1113.24 45.84 Q1113.16 39.7232 1109.79 36.0774 Q1106.47 32.4315 1100.96 32.4315 Q1094.72 32.4315 1090.96 35.9558 Q1087.23 39.4801 1086.66 45.8805 L1113.24 45.84 Z\" fill=\"#000000\" fill-rule=\"nonzero\" fill-opacity=\"1\" /><path clip-path=\"url(#clip290)\" d=\"M1140.13 65.7705 L1140.13 89.8329 L1132.64 89.8329 L1132.64 27.2059 L1140.13 27.2059 L1140.13 34.0924 Q1142.48 30.0415 1146.05 28.0971 Q1149.65 26.1121 1154.64 26.1121 Q1162.9 26.1121 1168.04 32.6746 Q1173.23 39.2371 1173.23 49.9314 Q1173.23 60.6258 1168.04 67.1883 Q1162.9 73.7508 1154.64 73.7508 Q1149.65 73.7508 1146.05 71.8063 Q1142.48 69.8214 1140.13 65.7705 M1165.49 49.9314 Q1165.49 41.7081 1162.09 37.0496 Q1158.73 32.3505 1152.81 32.3505 Q1146.9 32.3505 1143.5 37.0496 Q1140.13 41.7081 1140.13 49.9314 Q1140.13 58.1548 1143.5 62.8538 Q1146.9 67.5124 1152.81 67.5124 Q1158.73 67.5124 1162.09 62.8538 Q1165.49 58.1548 1165.49 49.9314 Z\" fill=\"#000000\" fill-rule=\"nonzero\" fill-opacity=\"1\" /><path clip-path=\"url(#clip290)\" d=\"M1192.96 14.324 L1192.96 27.2059 L1208.31 27.2059 L1208.31 32.9987 L1192.96 32.9987 L1192.96 57.6282 Q1192.96 63.1779 1194.46 64.7578 Q1196 66.3376 1200.65 66.3376 L1208.31 66.3376 L1208.31 72.576 L1200.65 72.576 Q1192.03 72.576 1188.75 69.3758 Q1185.46 66.1351 1185.46 57.6282 L1185.46 32.9987 L1180 32.9987 L1180 27.2059 L1185.46 27.2059 L1185.46 14.324 L1192.96 14.324 Z\" fill=\"#000000\" fill-rule=\"nonzero\" fill-opacity=\"1\" /><path clip-path=\"url(#clip290)\" d=\"M1238.73 49.7694 Q1229.7 49.7694 1226.22 51.8354 Q1222.73 53.9013 1222.73 58.8839 Q1222.73 62.8538 1225.32 65.2034 Q1227.96 67.5124 1232.45 67.5124 Q1238.65 67.5124 1242.38 63.1374 Q1246.15 58.7219 1246.15 51.4303 L1246.15 49.7694 L1238.73 49.7694 M1253.6 46.6907 L1253.6 72.576 L1246.15 72.576 L1246.15 65.6895 Q1243.59 69.8214 1239.79 71.8063 Q1235.98 73.7508 1230.47 73.7508 Q1223.5 73.7508 1219.37 69.8619 Q1215.28 65.9325 1215.28 59.3701 Q1215.28 51.7138 1220.38 47.825 Q1225.53 43.9361 1235.7 43.9361 L1246.15 43.9361 L1246.15 43.2069 Q1246.15 38.0623 1242.74 35.2672 Q1239.38 32.4315 1233.26 32.4315 Q1229.38 32.4315 1225.69 33.3632 Q1222 34.295 1218.6 36.1584 L1218.6 29.2718 Q1222.69 27.692 1226.54 26.9223 Q1230.39 26.1121 1234.03 26.1121 Q1243.88 26.1121 1248.74 31.2163 Q1253.6 36.3204 1253.6 46.6907 Z\" fill=\"#000000\" fill-rule=\"nonzero\" fill-opacity=\"1\" /><path clip-path=\"url(#clip290)\" d=\"M1306.67 45.1919 L1306.67 72.576 L1299.21 72.576 L1299.21 45.4349 Q1299.21 38.994 1296.7 35.7938 Q1294.19 32.5936 1289.17 32.5936 Q1283.13 32.5936 1279.65 36.4419 Q1276.16 40.2903 1276.16 46.9338 L1276.16 72.576 L1268.67 72.576 L1268.67 27.2059 L1276.16 27.2059 L1276.16 34.2544 Q1278.84 30.163 1282.44 28.1376 Q1286.09 26.1121 1290.83 26.1121 Q1298.65 26.1121 1302.66 30.9732 Q1306.67 35.7938 1306.67 45.1919 Z\" fill=\"#000000\" fill-rule=\"nonzero\" fill-opacity=\"1\" /><path clip-path=\"url(#clip290)\" d=\"M1354.18 28.9478 L1354.18 35.9153 Q1351.02 34.1734 1347.82 33.3227 Q1344.66 32.4315 1341.42 32.4315 Q1334.17 32.4315 1330.16 37.0496 Q1326.15 41.6271 1326.15 49.9314 Q1326.15 58.2358 1330.16 62.8538 Q1334.17 67.4314 1341.42 67.4314 Q1344.66 67.4314 1347.82 66.5807 Q1351.02 65.6895 1354.18 63.9476 L1354.18 70.8341 Q1351.06 72.2924 1347.7 73.0216 Q1344.38 73.7508 1340.61 73.7508 Q1330.36 73.7508 1324.33 67.3098 Q1318.29 60.8689 1318.29 49.9314 Q1318.29 38.832 1324.37 32.472 Q1330.49 26.1121 1341.1 26.1121 Q1344.54 26.1121 1347.82 26.8413 Q1351.11 27.5299 1354.18 28.9478 Z\" fill=\"#000000\" fill-rule=\"nonzero\" fill-opacity=\"1\" /><path clip-path=\"url(#clip290)\" d=\"M1405.95 48.0275 L1405.95 51.6733 L1371.68 51.6733 Q1372.17 59.3701 1376.3 63.421 Q1380.47 67.4314 1387.89 67.4314 Q1392.18 67.4314 1396.19 66.3781 Q1400.24 65.3249 1404.21 63.2184 L1404.21 70.267 Q1400.2 71.9684 1395.99 72.8596 Q1391.78 73.7508 1387.44 73.7508 Q1376.59 73.7508 1370.23 67.4314 Q1363.91 61.1119 1363.91 50.3365 Q1363.91 39.1965 1369.9 32.6746 Q1375.94 26.1121 1386.15 26.1121 Q1395.3 26.1121 1400.61 32.0264 Q1405.95 37.9003 1405.95 48.0275 M1398.5 45.84 Q1398.42 39.7232 1395.06 36.0774 Q1391.74 32.4315 1386.23 32.4315 Q1379.99 32.4315 1376.22 35.9558 Q1372.49 39.4801 1371.93 45.8805 L1398.5 45.84 Z\" fill=\"#000000\" fill-rule=\"nonzero\" fill-opacity=\"1\" /><path clip-path=\"url(#clip290)\" d=\"M1470.85 34.1734 Q1469.59 33.4443 1468.1 33.1202 Q1466.64 32.7556 1464.85 32.7556 Q1458.54 32.7556 1455.13 36.8875 Q1451.77 40.9789 1451.77 48.6757 L1451.77 72.576 L1444.28 72.576 L1444.28 27.2059 L1451.77 27.2059 L1451.77 34.2544 Q1454.12 30.1225 1457.89 28.1376 Q1461.65 26.1121 1467.04 26.1121 Q1467.81 26.1121 1468.74 26.2337 Q1469.68 26.3147 1470.81 26.5172 L1470.85 34.1734 Z\" fill=\"#000000\" fill-rule=\"nonzero\" fill-opacity=\"1\" /><path clip-path=\"url(#clip290)\" d=\"M1499.29 49.7694 Q1490.25 49.7694 1486.77 51.8354 Q1483.29 53.9013 1483.29 58.8839 Q1483.29 62.8538 1485.88 65.2034 Q1488.51 67.5124 1493.01 67.5124 Q1499.21 67.5124 1502.93 63.1374 Q1506.7 58.7219 1506.7 51.4303 L1506.7 49.7694 L1499.29 49.7694 M1514.15 46.6907 L1514.15 72.576 L1506.7 72.576 L1506.7 65.6895 Q1504.15 69.8214 1500.34 71.8063 Q1496.53 73.7508 1491.02 73.7508 Q1484.06 73.7508 1479.92 69.8619 Q1475.83 65.9325 1475.83 59.3701 Q1475.83 51.7138 1480.94 47.825 Q1486.08 43.9361 1496.25 43.9361 L1506.7 43.9361 L1506.7 43.2069 Q1506.7 38.0623 1503.3 35.2672 Q1499.94 32.4315 1493.82 32.4315 Q1489.93 32.4315 1486.24 33.3632 Q1482.56 34.295 1479.15 36.1584 L1479.15 29.2718 Q1483.25 27.692 1487.09 26.9223 Q1490.94 26.1121 1494.59 26.1121 Q1504.43 26.1121 1509.29 31.2163 Q1514.15 36.3204 1514.15 46.6907 Z\" fill=\"#000000\" fill-rule=\"nonzero\" fill-opacity=\"1\" /><path clip-path=\"url(#clip290)\" d=\"M1536.88 14.324 L1536.88 27.2059 L1552.23 27.2059 L1552.23 32.9987 L1536.88 32.9987 L1536.88 57.6282 Q1536.88 63.1779 1538.38 64.7578 Q1539.92 66.3376 1544.58 66.3376 L1552.23 66.3376 L1552.23 72.576 L1544.58 72.576 Q1535.95 72.576 1532.67 69.3758 Q1529.39 66.1351 1529.39 57.6282 L1529.39 32.9987 L1523.92 32.9987 L1523.92 27.2059 L1529.39 27.2059 L1529.39 14.324 L1536.88 14.324 Z\" fill=\"#000000\" fill-rule=\"nonzero\" fill-opacity=\"1\" /><path clip-path=\"url(#clip290)\" d=\"M1600.84 48.0275 L1600.84 51.6733 L1566.57 51.6733 Q1567.06 59.3701 1571.19 63.421 Q1575.36 67.4314 1582.78 67.4314 Q1587.07 67.4314 1591.08 66.3781 Q1595.13 65.3249 1599.1 63.2184 L1599.1 70.267 Q1595.09 71.9684 1590.88 72.8596 Q1586.67 73.7508 1582.33 73.7508 Q1571.47 73.7508 1565.11 67.4314 Q1558.8 61.1119 1558.8 50.3365 Q1558.8 39.1965 1564.79 32.6746 Q1570.83 26.1121 1581.03 26.1121 Q1590.19 26.1121 1595.5 32.0264 Q1600.84 37.9003 1600.84 48.0275 M1593.39 45.84 Q1593.31 39.7232 1589.95 36.0774 Q1586.62 32.4315 1581.12 32.4315 Q1574.88 32.4315 1571.11 35.9558 Q1567.38 39.4801 1566.82 45.8805 L1593.39 45.84 Z\" fill=\"#000000\" fill-rule=\"nonzero\" fill-opacity=\"1\" /><path clip-path=\"url(#clip290)\" d=\"M1642 28.5427 L1642 35.5912 Q1638.84 33.9709 1635.44 33.1607 Q1632.04 32.3505 1628.39 32.3505 Q1622.84 32.3505 1620.04 34.0519 Q1617.29 35.7533 1617.29 39.156 Q1617.29 41.7486 1619.28 43.2475 Q1621.26 44.7058 1627.26 46.0426 L1629.81 46.6097 Q1637.75 48.3111 1641.07 51.4303 Q1644.43 54.509 1644.43 60.0587 Q1644.43 66.3781 1639.41 70.0644 Q1634.43 73.7508 1625.68 73.7508 Q1622.03 73.7508 1618.06 73.0216 Q1614.13 72.3329 1609.76 70.9151 L1609.76 63.2184 Q1613.89 65.3654 1617.9 66.4591 Q1621.91 67.5124 1625.84 67.5124 Q1631.1 67.5124 1633.94 65.73 Q1636.78 63.9071 1636.78 60.6258 Q1636.78 57.5877 1634.71 55.9673 Q1632.68 54.3469 1625.76 52.8481 L1623.16 52.2405 Q1616.24 50.7821 1613.16 47.7845 Q1610.08 44.7463 1610.08 39.4801 Q1610.08 33.0797 1614.62 29.5959 Q1619.15 26.1121 1627.5 26.1121 Q1631.63 26.1121 1635.28 26.7198 Q1638.92 27.3274 1642 28.5427 Z\" fill=\"#000000\" fill-rule=\"nonzero\" fill-opacity=\"1\" /><polyline clip-path=\"url(#clip292)\" style=\"stroke:#009af9; stroke-linecap:round; stroke-linejoin:round; stroke-width:4; stroke-opacity:1; fill:none\" points=\"280.231,1386.4 503.804,977.683 727.378,732.455 950.951,568.969 1174.52,452.194 1398.1,364.613 1621.67,296.494 1845.24,241.999 2068.82,197.412 2292.39,160.256 \"/>\n",
       "<path clip-path=\"url(#clip290)\" d=\"M290.963 270.476 L556.682 270.476 L556.682 166.796 L290.963 166.796  Z\" fill=\"#ffffff\" fill-rule=\"evenodd\" fill-opacity=\"1\"/>\n",
       "<polyline clip-path=\"url(#clip290)\" style=\"stroke:#000000; stroke-linecap:round; stroke-linejoin:round; stroke-width:4; stroke-opacity:1; fill:none\" points=\"290.963,270.476 556.682,270.476 556.682,166.796 290.963,166.796 290.963,270.476 \"/>\n",
       "<polyline clip-path=\"url(#clip290)\" style=\"stroke:#009af9; stroke-linecap:round; stroke-linejoin:round; stroke-width:4; stroke-opacity:1; fill:none\" points=\"314.661,218.636 456.854,218.636 \"/>\n",
       "<path clip-path=\"url(#clip290)\" d=\"M494.395 238.323 Q492.59 242.953 490.877 244.365 Q489.164 245.777 486.293 245.777 L482.891 245.777 L482.891 242.212 L485.391 242.212 Q487.15 242.212 488.122 241.379 Q489.094 240.545 490.275 237.443 L491.039 235.499 L480.553 209.99 L485.067 209.99 L493.168 230.268 L501.27 209.99 L505.784 209.99 L494.395 238.323 Z\" fill=\"#000000\" fill-rule=\"nonzero\" fill-opacity=\"1\" /><path clip-path=\"url(#clip290)\" d=\"M513.076 231.981 L520.715 231.981 L520.715 205.615 L512.404 207.282 L512.404 203.022 L520.668 201.356 L525.344 201.356 L525.344 231.981 L532.983 231.981 L532.983 235.916 L513.076 235.916 L513.076 231.981 Z\" fill=\"#000000\" fill-rule=\"nonzero\" fill-opacity=\"1\" /></svg>\n"
      ],
      "text/html": [
       "<?xml version=\"1.0\" encoding=\"utf-8\"?>\n",
       "<svg xmlns=\"http://www.w3.org/2000/svg\" xmlns:xlink=\"http://www.w3.org/1999/xlink\" width=\"600\" height=\"400\" viewBox=\"0 0 2400 1600\">\n",
       "<defs>\n",
       "  <clipPath id=\"clip340\">\n",
       "    <rect x=\"0\" y=\"0\" width=\"2400\" height=\"1600\"/>\n",
       "  </clipPath>\n",
       "</defs>\n",
       "<path clip-path=\"url(#clip340)\" d=\"M0 1600 L2400 1600 L2400 0 L0 0  Z\" fill=\"#ffffff\" fill-rule=\"evenodd\" fill-opacity=\"1\"/>\n",
       "<defs>\n",
       "  <clipPath id=\"clip341\">\n",
       "    <rect x=\"480\" y=\"0\" width=\"1681\" height=\"1600\"/>\n",
       "  </clipPath>\n",
       "</defs>\n",
       "<path clip-path=\"url(#clip340)\" d=\"M219.866 1423.18 L2352.76 1423.18 L2352.76 123.472 L219.866 123.472  Z\" fill=\"#ffffff\" fill-rule=\"evenodd\" fill-opacity=\"1\"/>\n",
       "<defs>\n",
       "  <clipPath id=\"clip342\">\n",
       "    <rect x=\"219\" y=\"123\" width=\"2134\" height=\"1301\"/>\n",
       "  </clipPath>\n",
       "</defs>\n",
       "<polyline clip-path=\"url(#clip342)\" style=\"stroke:#000000; stroke-linecap:round; stroke-linejoin:round; stroke-width:2; stroke-opacity:0.1; fill:none\" points=\"503.804,1423.18 503.804,123.472 \"/>\n",
       "<polyline clip-path=\"url(#clip342)\" style=\"stroke:#000000; stroke-linecap:round; stroke-linejoin:round; stroke-width:2; stroke-opacity:0.1; fill:none\" points=\"950.951,1423.18 950.951,123.472 \"/>\n",
       "<polyline clip-path=\"url(#clip342)\" style=\"stroke:#000000; stroke-linecap:round; stroke-linejoin:round; stroke-width:2; stroke-opacity:0.1; fill:none\" points=\"1398.1,1423.18 1398.1,123.472 \"/>\n",
       "<polyline clip-path=\"url(#clip342)\" style=\"stroke:#000000; stroke-linecap:round; stroke-linejoin:round; stroke-width:2; stroke-opacity:0.1; fill:none\" points=\"1845.24,1423.18 1845.24,123.472 \"/>\n",
       "<polyline clip-path=\"url(#clip342)\" style=\"stroke:#000000; stroke-linecap:round; stroke-linejoin:round; stroke-width:2; stroke-opacity:0.1; fill:none\" points=\"2292.39,1423.18 2292.39,123.472 \"/>\n",
       "<polyline clip-path=\"url(#clip342)\" style=\"stroke:#000000; stroke-linecap:round; stroke-linejoin:round; stroke-width:2; stroke-opacity:0.1; fill:none\" points=\"219.866,1222.91 2352.76,1222.91 \"/>\n",
       "<polyline clip-path=\"url(#clip342)\" style=\"stroke:#000000; stroke-linecap:round; stroke-linejoin:round; stroke-width:2; stroke-opacity:0.1; fill:none\" points=\"219.866,977.683 2352.76,977.683 \"/>\n",
       "<polyline clip-path=\"url(#clip342)\" style=\"stroke:#000000; stroke-linecap:round; stroke-linejoin:round; stroke-width:2; stroke-opacity:0.1; fill:none\" points=\"219.866,732.455 2352.76,732.455 \"/>\n",
       "<polyline clip-path=\"url(#clip342)\" style=\"stroke:#000000; stroke-linecap:round; stroke-linejoin:round; stroke-width:2; stroke-opacity:0.1; fill:none\" points=\"219.866,487.227 2352.76,487.227 \"/>\n",
       "<polyline clip-path=\"url(#clip342)\" style=\"stroke:#000000; stroke-linecap:round; stroke-linejoin:round; stroke-width:2; stroke-opacity:0.1; fill:none\" points=\"219.866,241.999 2352.76,241.999 \"/>\n",
       "<polyline clip-path=\"url(#clip340)\" style=\"stroke:#000000; stroke-linecap:round; stroke-linejoin:round; stroke-width:4; stroke-opacity:1; fill:none\" points=\"219.866,1423.18 2352.76,1423.18 \"/>\n",
       "<polyline clip-path=\"url(#clip340)\" style=\"stroke:#000000; stroke-linecap:round; stroke-linejoin:round; stroke-width:4; stroke-opacity:1; fill:none\" points=\"503.804,1423.18 503.804,1404.28 \"/>\n",
       "<polyline clip-path=\"url(#clip340)\" style=\"stroke:#000000; stroke-linecap:round; stroke-linejoin:round; stroke-width:4; stroke-opacity:1; fill:none\" points=\"950.951,1423.18 950.951,1404.28 \"/>\n",
       "<polyline clip-path=\"url(#clip340)\" style=\"stroke:#000000; stroke-linecap:round; stroke-linejoin:round; stroke-width:4; stroke-opacity:1; fill:none\" points=\"1398.1,1423.18 1398.1,1404.28 \"/>\n",
       "<polyline clip-path=\"url(#clip340)\" style=\"stroke:#000000; stroke-linecap:round; stroke-linejoin:round; stroke-width:4; stroke-opacity:1; fill:none\" points=\"1845.24,1423.18 1845.24,1404.28 \"/>\n",
       "<polyline clip-path=\"url(#clip340)\" style=\"stroke:#000000; stroke-linecap:round; stroke-linejoin:round; stroke-width:4; stroke-opacity:1; fill:none\" points=\"2292.39,1423.18 2292.39,1404.28 \"/>\n",
       "<path clip-path=\"url(#clip340)\" d=\"M498.457 1481.64 L514.777 1481.64 L514.777 1485.58 L492.832 1485.58 L492.832 1481.64 Q495.494 1478.89 500.078 1474.26 Q504.684 1469.61 505.865 1468.27 Q508.11 1465.74 508.99 1464.01 Q509.892 1462.25 509.892 1460.56 Q509.892 1457.8 507.948 1456.07 Q506.027 1454.33 502.925 1454.33 Q500.726 1454.33 498.272 1455.09 Q495.841 1455.86 493.064 1457.41 L493.064 1452.69 Q495.888 1451.55 498.341 1450.97 Q500.795 1450.39 502.832 1450.39 Q508.203 1450.39 511.397 1453.08 Q514.591 1455.77 514.591 1460.26 Q514.591 1462.39 513.781 1464.31 Q512.994 1466.2 510.888 1468.8 Q510.309 1469.47 507.207 1472.69 Q504.105 1475.88 498.457 1481.64 Z\" fill=\"#000000\" fill-rule=\"nonzero\" fill-opacity=\"1\" /><path clip-path=\"url(#clip340)\" d=\"M953.96 1455.09 L942.155 1473.54 L953.96 1473.54 L953.96 1455.09 M952.733 1451.02 L958.613 1451.02 L958.613 1473.54 L963.544 1473.54 L963.544 1477.43 L958.613 1477.43 L958.613 1485.58 L953.96 1485.58 L953.96 1477.43 L938.359 1477.43 L938.359 1472.92 L952.733 1451.02 Z\" fill=\"#000000\" fill-rule=\"nonzero\" fill-opacity=\"1\" /><path clip-path=\"url(#clip340)\" d=\"M1398.5 1466.44 Q1395.35 1466.44 1393.5 1468.59 Q1391.67 1470.74 1391.67 1474.49 Q1391.67 1478.22 1393.5 1480.39 Q1395.35 1482.55 1398.5 1482.55 Q1401.65 1482.55 1403.48 1480.39 Q1405.33 1478.22 1405.33 1474.49 Q1405.33 1470.74 1403.48 1468.59 Q1401.65 1466.44 1398.5 1466.44 M1407.79 1451.78 L1407.79 1456.04 Q1406.03 1455.21 1404.22 1454.77 Q1402.44 1454.33 1400.68 1454.33 Q1396.05 1454.33 1393.6 1457.45 Q1391.16 1460.58 1390.82 1466.9 Q1392.18 1464.89 1394.24 1463.82 Q1396.3 1462.73 1398.78 1462.73 Q1403.99 1462.73 1407 1465.9 Q1410.03 1469.05 1410.03 1474.49 Q1410.03 1479.82 1406.88 1483.03 Q1403.73 1486.25 1398.5 1486.25 Q1392.51 1486.25 1389.34 1481.67 Q1386.16 1477.06 1386.16 1468.33 Q1386.16 1460.14 1390.05 1455.28 Q1393.94 1450.39 1400.49 1450.39 Q1402.25 1450.39 1404.04 1450.74 Q1405.84 1451.09 1407.79 1451.78 Z\" fill=\"#000000\" fill-rule=\"nonzero\" fill-opacity=\"1\" /><path clip-path=\"url(#clip340)\" d=\"M1845.24 1469.17 Q1841.91 1469.17 1839.99 1470.95 Q1838.09 1472.73 1838.09 1475.86 Q1838.09 1478.98 1839.99 1480.77 Q1841.91 1482.55 1845.24 1482.55 Q1848.58 1482.55 1850.5 1480.77 Q1852.42 1478.96 1852.42 1475.86 Q1852.42 1472.73 1850.5 1470.95 Q1848.6 1469.17 1845.24 1469.17 M1840.57 1467.18 Q1837.56 1466.44 1835.87 1464.38 Q1834.2 1462.32 1834.2 1459.35 Q1834.2 1455.21 1837.14 1452.8 Q1840.11 1450.39 1845.24 1450.39 Q1850.41 1450.39 1853.35 1452.8 Q1856.29 1455.21 1856.29 1459.35 Q1856.29 1462.32 1854.6 1464.38 Q1852.93 1466.44 1849.94 1467.18 Q1853.32 1467.96 1855.2 1470.26 Q1857.1 1472.55 1857.1 1475.86 Q1857.1 1480.88 1854.02 1483.57 Q1850.96 1486.25 1845.24 1486.25 Q1839.53 1486.25 1836.45 1483.57 Q1833.39 1480.88 1833.39 1475.86 Q1833.39 1472.55 1835.29 1470.26 Q1837.19 1467.96 1840.57 1467.18 M1838.86 1459.79 Q1838.86 1462.48 1840.52 1463.98 Q1842.21 1465.49 1845.24 1465.49 Q1848.25 1465.49 1849.94 1463.98 Q1851.66 1462.48 1851.66 1459.79 Q1851.66 1457.11 1849.94 1455.6 Q1848.25 1454.1 1845.24 1454.1 Q1842.21 1454.1 1840.52 1455.6 Q1838.86 1457.11 1838.86 1459.79 Z\" fill=\"#000000\" fill-rule=\"nonzero\" fill-opacity=\"1\" /><path clip-path=\"url(#clip340)\" d=\"M2267.08 1481.64 L2274.72 1481.64 L2274.72 1455.28 L2266.41 1456.95 L2266.41 1452.69 L2274.67 1451.02 L2279.35 1451.02 L2279.35 1481.64 L2286.99 1481.64 L2286.99 1485.58 L2267.08 1485.58 L2267.08 1481.64 Z\" fill=\"#000000\" fill-rule=\"nonzero\" fill-opacity=\"1\" /><path clip-path=\"url(#clip340)\" d=\"M2306.43 1454.1 Q2302.82 1454.1 2300.99 1457.66 Q2299.19 1461.2 2299.19 1468.33 Q2299.19 1475.44 2300.99 1479.01 Q2302.82 1482.55 2306.43 1482.55 Q2310.06 1482.55 2311.87 1479.01 Q2313.7 1475.44 2313.7 1468.33 Q2313.7 1461.2 2311.87 1457.66 Q2310.06 1454.1 2306.43 1454.1 M2306.43 1450.39 Q2312.24 1450.39 2315.3 1455 Q2318.37 1459.58 2318.37 1468.33 Q2318.37 1477.06 2315.3 1481.67 Q2312.24 1486.25 2306.43 1486.25 Q2300.62 1486.25 2297.54 1481.67 Q2294.49 1477.06 2294.49 1468.33 Q2294.49 1459.58 2297.54 1455 Q2300.62 1450.39 2306.43 1450.39 Z\" fill=\"#000000\" fill-rule=\"nonzero\" fill-opacity=\"1\" /><path clip-path=\"url(#clip340)\" d=\"M867.336 1537.87 Q866.35 1537.3 865.172 1537.04 Q864.026 1536.76 862.626 1536.76 Q857.66 1536.76 854.987 1540 Q852.345 1543.22 852.345 1549.27 L852.345 1568.04 L846.457 1568.04 L846.457 1532.4 L852.345 1532.4 L852.345 1537.93 Q854.191 1534.69 857.151 1533.13 Q860.111 1531.54 864.344 1531.54 Q864.949 1531.54 865.681 1531.63 Q866.413 1531.7 867.304 1531.85 L867.336 1537.87 Z\" fill=\"#000000\" fill-rule=\"nonzero\" fill-opacity=\"1\" /><path clip-path=\"url(#clip340)\" d=\"M902.539 1548.76 L902.539 1551.62 L875.612 1551.62 Q875.994 1557.67 879.24 1560.85 Q882.518 1564 888.343 1564 Q891.717 1564 894.868 1563.17 Q898.051 1562.35 901.17 1560.69 L901.17 1566.23 Q898.019 1567.57 894.709 1568.27 Q891.399 1568.97 887.993 1568.97 Q879.463 1568.97 874.466 1564 Q869.501 1559.04 869.501 1550.57 Q869.501 1541.82 874.211 1536.69 Q878.954 1531.54 886.974 1531.54 Q894.168 1531.54 898.337 1536.18 Q902.539 1540.8 902.539 1548.76 M896.682 1547.04 Q896.618 1542.23 893.977 1539.37 Q891.367 1536.5 887.038 1536.5 Q882.136 1536.5 879.176 1539.27 Q876.248 1542.04 875.803 1547.07 L896.682 1547.04 Z\" fill=\"#000000\" fill-rule=\"nonzero\" fill-opacity=\"1\" /><path clip-path=\"url(#clip340)\" d=\"M937.805 1533.76 L937.805 1539.24 Q935.322 1537.87 932.807 1537.2 Q930.325 1536.5 927.779 1536.5 Q922.081 1536.5 918.93 1540.13 Q915.779 1543.73 915.779 1550.25 Q915.779 1556.78 918.93 1560.4 Q922.081 1564 927.779 1564 Q930.325 1564 932.807 1563.33 Q935.322 1562.63 937.805 1561.26 L937.805 1566.68 Q935.354 1567.82 932.712 1568.39 Q930.102 1568.97 927.142 1568.97 Q919.089 1568.97 914.347 1563.91 Q909.604 1558.85 909.604 1550.25 Q909.604 1541.53 914.379 1536.53 Q919.185 1531.54 927.524 1531.54 Q930.229 1531.54 932.807 1532.11 Q935.386 1532.65 937.805 1533.76 Z\" fill=\"#000000\" fill-rule=\"nonzero\" fill-opacity=\"1\" /><path clip-path=\"url(#clip340)\" d=\"M961.803 1536.5 Q957.093 1536.5 954.355 1540.19 Q951.618 1543.85 951.618 1550.25 Q951.618 1556.65 954.324 1560.34 Q957.061 1564 961.803 1564 Q966.482 1564 969.219 1560.31 Q971.957 1556.62 971.957 1550.25 Q971.957 1543.92 969.219 1540.23 Q966.482 1536.5 961.803 1536.5 M961.803 1531.54 Q969.442 1531.54 973.803 1536.5 Q978.163 1541.47 978.163 1550.25 Q978.163 1559 973.803 1564 Q969.442 1568.97 961.803 1568.97 Q954.133 1568.97 949.772 1564 Q945.443 1559 945.443 1550.25 Q945.443 1541.47 949.772 1536.5 Q954.133 1531.54 961.803 1531.54 Z\" fill=\"#000000\" fill-rule=\"nonzero\" fill-opacity=\"1\" /><path clip-path=\"url(#clip340)\" d=\"M1008.53 1537.87 Q1007.54 1537.3 1006.36 1537.04 Q1005.22 1536.76 1003.82 1536.76 Q998.852 1536.76 996.178 1540 Q993.536 1543.22 993.536 1549.27 L993.536 1568.04 L987.648 1568.04 L987.648 1532.4 L993.536 1532.4 L993.536 1537.93 Q995.382 1534.69 998.342 1533.13 Q1001.3 1531.54 1005.54 1531.54 Q1006.14 1531.54 1006.87 1531.63 Q1007.6 1531.7 1008.5 1531.85 L1008.53 1537.87 Z\" fill=\"#000000\" fill-rule=\"nonzero\" fill-opacity=\"1\" /><path clip-path=\"url(#clip340)\" d=\"M1036.98 1537.81 L1036.98 1518.52 L1042.84 1518.52 L1042.84 1568.04 L1036.98 1568.04 L1036.98 1562.7 Q1035.14 1565.88 1032.3 1567.44 Q1029.5 1568.97 1025.56 1568.97 Q1019.09 1568.97 1015.02 1563.81 Q1010.98 1558.65 1010.98 1550.25 Q1010.98 1541.85 1015.02 1536.69 Q1019.09 1531.54 1025.56 1531.54 Q1029.5 1531.54 1032.3 1533.1 Q1035.14 1534.62 1036.98 1537.81 M1017.03 1550.25 Q1017.03 1556.71 1019.67 1560.4 Q1022.34 1564.07 1026.99 1564.07 Q1031.64 1564.07 1034.31 1560.4 Q1036.98 1556.71 1036.98 1550.25 Q1036.98 1543.79 1034.31 1540.13 Q1031.64 1536.44 1026.99 1536.44 Q1022.34 1536.44 1019.67 1540.13 Q1017.03 1543.79 1017.03 1550.25 Z\" fill=\"#000000\" fill-rule=\"nonzero\" fill-opacity=\"1\" /><path clip-path=\"url(#clip340)\" d=\"M1085.39 1548.76 L1085.39 1551.62 L1058.47 1551.62 Q1058.85 1557.67 1062.09 1560.85 Q1065.37 1564 1071.2 1564 Q1074.57 1564 1077.72 1563.17 Q1080.91 1562.35 1084.02 1560.69 L1084.02 1566.23 Q1080.87 1567.57 1077.56 1568.27 Q1074.25 1568.97 1070.85 1568.97 Q1062.32 1568.97 1057.32 1564 Q1052.36 1559.04 1052.36 1550.57 Q1052.36 1541.82 1057.07 1536.69 Q1061.81 1531.54 1069.83 1531.54 Q1077.02 1531.54 1081.19 1536.18 Q1085.39 1540.8 1085.39 1548.76 M1079.54 1547.04 Q1079.47 1542.23 1076.83 1539.37 Q1074.22 1536.5 1069.89 1536.5 Q1064.99 1536.5 1062.03 1539.27 Q1059.1 1542.04 1058.66 1547.07 L1079.54 1547.04 Z\" fill=\"#000000\" fill-rule=\"nonzero\" fill-opacity=\"1\" /><path clip-path=\"url(#clip340)\" d=\"M1118.46 1537.81 L1118.46 1518.52 L1124.32 1518.52 L1124.32 1568.04 L1118.46 1568.04 L1118.46 1562.7 Q1116.62 1565.88 1113.78 1567.44 Q1110.98 1568.97 1107.04 1568.97 Q1100.58 1568.97 1096.5 1563.81 Q1092.46 1558.65 1092.46 1550.25 Q1092.46 1541.85 1096.5 1536.69 Q1100.58 1531.54 1107.04 1531.54 Q1110.98 1531.54 1113.78 1533.1 Q1116.62 1534.62 1118.46 1537.81 M1098.51 1550.25 Q1098.51 1556.71 1101.15 1560.4 Q1103.82 1564.07 1108.47 1564.07 Q1113.12 1564.07 1115.79 1560.4 Q1118.46 1556.71 1118.46 1550.25 Q1118.46 1543.79 1115.79 1540.13 Q1113.12 1536.44 1108.47 1536.44 Q1103.82 1536.44 1101.15 1540.13 Q1098.51 1543.79 1098.51 1550.25 Z\" fill=\"#000000\" fill-rule=\"nonzero\" fill-opacity=\"1\" /><path clip-path=\"url(#clip340)\" d=\"M1179.83 1533.45 L1179.83 1538.98 Q1177.35 1537.71 1174.67 1537.07 Q1172 1536.44 1169.13 1536.44 Q1164.77 1536.44 1162.58 1537.77 Q1160.41 1539.11 1160.41 1541.79 Q1160.41 1543.82 1161.97 1545 Q1163.53 1546.15 1168.24 1547.2 L1170.25 1547.64 Q1176.49 1548.98 1179.1 1551.43 Q1181.74 1553.85 1181.74 1558.21 Q1181.74 1563.17 1177.79 1566.07 Q1173.88 1568.97 1167 1568.97 Q1164.14 1568.97 1161.02 1568.39 Q1157.93 1567.85 1154.49 1566.74 L1154.49 1560.69 Q1157.74 1562.38 1160.89 1563.24 Q1164.04 1564.07 1167.13 1564.07 Q1171.27 1564.07 1173.49 1562.66 Q1175.72 1561.23 1175.72 1558.65 Q1175.72 1556.27 1174.1 1554.99 Q1172.51 1553.72 1167.07 1552.54 L1165.03 1552.07 Q1159.59 1550.92 1157.17 1548.56 Q1154.75 1546.18 1154.75 1542.04 Q1154.75 1537.01 1158.31 1534.27 Q1161.88 1531.54 1168.43 1531.54 Q1171.68 1531.54 1174.55 1532.01 Q1177.41 1532.49 1179.83 1533.45 Z\" fill=\"#000000\" fill-rule=\"nonzero\" fill-opacity=\"1\" /><path clip-path=\"url(#clip340)\" d=\"M1207.26 1550.12 Q1200.17 1550.12 1197.43 1551.75 Q1194.69 1553.37 1194.69 1557.29 Q1194.69 1560.4 1196.73 1562.25 Q1198.8 1564.07 1202.33 1564.07 Q1207.2 1564.07 1210.13 1560.63 Q1213.09 1557.16 1213.09 1551.43 L1213.09 1550.12 L1207.26 1550.12 M1218.95 1547.71 L1218.95 1568.04 L1213.09 1568.04 L1213.09 1562.63 Q1211.08 1565.88 1208.09 1567.44 Q1205.1 1568.97 1200.77 1568.97 Q1195.3 1568.97 1192.05 1565.91 Q1188.84 1562.82 1188.84 1557.67 Q1188.84 1551.65 1192.85 1548.6 Q1196.89 1545.54 1204.88 1545.54 L1213.09 1545.54 L1213.09 1544.97 Q1213.09 1540.93 1210.42 1538.73 Q1207.77 1536.5 1202.97 1536.5 Q1199.91 1536.5 1197.02 1537.23 Q1194.12 1537.97 1191.45 1539.43 L1191.45 1534.02 Q1194.66 1532.78 1197.68 1532.17 Q1200.71 1531.54 1203.57 1531.54 Q1211.31 1531.54 1215.13 1535.55 Q1218.95 1539.56 1218.95 1547.71 Z\" fill=\"#000000\" fill-rule=\"nonzero\" fill-opacity=\"1\" /><path clip-path=\"url(#clip340)\" d=\"M1258.76 1539.24 Q1260.96 1535.29 1264.02 1533.41 Q1267.07 1531.54 1271.21 1531.54 Q1276.78 1531.54 1279.8 1535.45 Q1282.83 1539.33 1282.83 1546.53 L1282.83 1568.04 L1276.94 1568.04 L1276.94 1546.72 Q1276.94 1541.59 1275.12 1539.11 Q1273.31 1536.63 1269.59 1536.63 Q1265.03 1536.63 1262.39 1539.65 Q1259.75 1542.68 1259.75 1547.9 L1259.75 1568.04 L1253.86 1568.04 L1253.86 1546.72 Q1253.86 1541.56 1252.05 1539.11 Q1250.23 1536.63 1246.45 1536.63 Q1241.96 1536.63 1239.32 1539.68 Q1236.67 1542.71 1236.67 1547.9 L1236.67 1568.04 L1230.79 1568.04 L1230.79 1532.4 L1236.67 1532.4 L1236.67 1537.93 Q1238.68 1534.66 1241.48 1533.1 Q1244.28 1531.54 1248.13 1531.54 Q1252.02 1531.54 1254.72 1533.51 Q1257.46 1535.48 1258.76 1539.24 Z\" fill=\"#000000\" fill-rule=\"nonzero\" fill-opacity=\"1\" /><path clip-path=\"url(#clip340)\" d=\"M1300.17 1562.7 L1300.17 1581.6 L1294.28 1581.6 L1294.28 1532.4 L1300.17 1532.4 L1300.17 1537.81 Q1302.02 1534.62 1304.82 1533.1 Q1307.65 1531.54 1311.57 1531.54 Q1318.06 1531.54 1322.1 1536.69 Q1326.18 1541.85 1326.18 1550.25 Q1326.18 1558.65 1322.1 1563.81 Q1318.06 1568.97 1311.57 1568.97 Q1307.65 1568.97 1304.82 1567.44 Q1302.02 1565.88 1300.17 1562.7 M1320.1 1550.25 Q1320.1 1543.79 1317.42 1540.13 Q1314.78 1536.44 1310.13 1536.44 Q1305.49 1536.44 1302.81 1540.13 Q1300.17 1543.79 1300.17 1550.25 Q1300.17 1556.71 1302.81 1560.4 Q1305.49 1564.07 1310.13 1564.07 Q1314.78 1564.07 1317.42 1560.4 Q1320.1 1556.71 1320.1 1550.25 Z\" fill=\"#000000\" fill-rule=\"nonzero\" fill-opacity=\"1\" /><path clip-path=\"url(#clip340)\" d=\"M1335.88 1518.52 L1341.74 1518.52 L1341.74 1568.04 L1335.88 1568.04 L1335.88 1518.52 Z\" fill=\"#000000\" fill-rule=\"nonzero\" fill-opacity=\"1\" /><path clip-path=\"url(#clip340)\" d=\"M1384.49 1548.76 L1384.49 1551.62 L1357.56 1551.62 Q1357.94 1557.67 1361.19 1560.85 Q1364.47 1564 1370.29 1564 Q1373.66 1564 1376.82 1563.17 Q1380 1562.35 1383.12 1560.69 L1383.12 1566.23 Q1379.97 1567.57 1376.66 1568.27 Q1373.35 1568.97 1369.94 1568.97 Q1361.41 1568.97 1356.41 1564 Q1351.45 1559.04 1351.45 1550.57 Q1351.45 1541.82 1356.16 1536.69 Q1360.9 1531.54 1368.92 1531.54 Q1376.12 1531.54 1380.28 1536.18 Q1384.49 1540.8 1384.49 1548.76 M1378.63 1547.04 Q1378.57 1542.23 1375.92 1539.37 Q1373.31 1536.5 1368.99 1536.5 Q1364.08 1536.5 1361.12 1539.27 Q1358.2 1542.04 1357.75 1547.07 L1378.63 1547.04 Z\" fill=\"#000000\" fill-rule=\"nonzero\" fill-opacity=\"1\" /><path clip-path=\"url(#clip340)\" d=\"M1416.82 1533.45 L1416.82 1538.98 Q1414.34 1537.71 1411.67 1537.07 Q1408.99 1536.44 1406.13 1536.44 Q1401.77 1536.44 1399.57 1537.77 Q1397.41 1539.11 1397.41 1541.79 Q1397.41 1543.82 1398.97 1545 Q1400.53 1546.15 1405.24 1547.2 L1407.24 1547.64 Q1413.48 1548.98 1416.09 1551.43 Q1418.73 1553.85 1418.73 1558.21 Q1418.73 1563.17 1414.79 1566.07 Q1410.87 1568.97 1404 1568.97 Q1401.13 1568.97 1398.01 1568.39 Q1394.93 1567.85 1391.49 1566.74 L1391.49 1560.69 Q1394.73 1562.38 1397.89 1563.24 Q1401.04 1564.07 1404.12 1564.07 Q1408.26 1564.07 1410.49 1562.66 Q1412.72 1561.23 1412.72 1558.65 Q1412.72 1556.27 1411.09 1554.99 Q1409.5 1553.72 1404.06 1552.54 L1402.02 1552.07 Q1396.58 1550.92 1394.16 1548.56 Q1391.74 1546.18 1391.74 1542.04 Q1391.74 1537.01 1395.31 1534.27 Q1398.87 1531.54 1405.43 1531.54 Q1408.68 1531.54 1411.54 1532.01 Q1414.41 1532.49 1416.82 1533.45 Z\" fill=\"#000000\" fill-rule=\"nonzero\" fill-opacity=\"1\" /><path clip-path=\"url(#clip340)\" d=\"M1462.59 1536.5 Q1457.88 1536.5 1455.15 1540.19 Q1452.41 1543.85 1452.41 1550.25 Q1452.41 1556.65 1455.11 1560.34 Q1457.85 1564 1462.59 1564 Q1467.27 1564 1470.01 1560.31 Q1472.75 1556.62 1472.75 1550.25 Q1472.75 1543.92 1470.01 1540.23 Q1467.27 1536.5 1462.59 1536.5 M1462.59 1531.54 Q1470.23 1531.54 1474.59 1536.5 Q1478.95 1541.47 1478.95 1550.25 Q1478.95 1559 1474.59 1564 Q1470.23 1568.97 1462.59 1568.97 Q1454.92 1568.97 1450.56 1564 Q1446.23 1559 1446.23 1550.25 Q1446.23 1541.47 1450.56 1536.5 Q1454.92 1531.54 1462.59 1531.54 Z\" fill=\"#000000\" fill-rule=\"nonzero\" fill-opacity=\"1\" /><path clip-path=\"url(#clip340)\" d=\"M1506.71 1518.52 L1506.71 1523.39 L1501.11 1523.39 Q1497.95 1523.39 1496.71 1524.66 Q1495.5 1525.93 1495.5 1529.24 L1495.5 1532.4 L1505.15 1532.4 L1505.15 1536.95 L1495.5 1536.95 L1495.5 1568.04 L1489.62 1568.04 L1489.62 1536.95 L1484.01 1536.95 L1484.01 1532.4 L1489.62 1532.4 L1489.62 1529.91 Q1489.62 1523.96 1492.38 1521.26 Q1495.15 1518.52 1501.17 1518.52 L1506.71 1518.52 Z\" fill=\"#000000\" fill-rule=\"nonzero\" fill-opacity=\"1\" /><path clip-path=\"url(#clip340)\" d=\"M1532.58 1520.52 L1542.16 1520.52 L1554.29 1552.86 L1566.48 1520.52 L1576.06 1520.52 L1576.06 1568.04 L1569.79 1568.04 L1569.79 1526.32 L1557.54 1558.91 L1551.08 1558.91 L1538.82 1526.32 L1538.82 1568.04 L1532.58 1568.04 L1532.58 1520.52 Z\" fill=\"#000000\" fill-rule=\"nonzero\" fill-opacity=\"1\" /><path clip-path=\"url(#clip340)\" d=\"M1624.41 1524.18 L1624.41 1530.96 Q1621.16 1527.94 1617.47 1526.44 Q1613.81 1524.95 1609.67 1524.95 Q1601.52 1524.95 1597.2 1529.95 Q1592.87 1534.91 1592.87 1544.33 Q1592.87 1553.72 1597.2 1558.72 Q1601.52 1563.68 1609.67 1563.68 Q1613.81 1563.68 1617.47 1562.19 Q1621.16 1560.69 1624.41 1557.67 L1624.41 1564.38 Q1621.04 1566.68 1617.25 1567.82 Q1613.49 1568.97 1609.29 1568.97 Q1598.5 1568.97 1592.29 1562.38 Q1586.09 1555.76 1586.09 1544.33 Q1586.09 1532.87 1592.29 1526.28 Q1598.5 1519.66 1609.29 1519.66 Q1613.56 1519.66 1617.31 1520.81 Q1621.1 1521.92 1624.41 1524.18 Z\" fill=\"#000000\" fill-rule=\"nonzero\" fill-opacity=\"1\" /><path clip-path=\"url(#clip340)\" d=\"M1634.34 1520.52 L1643.92 1520.52 L1656.05 1552.86 L1668.24 1520.52 L1677.82 1520.52 L1677.82 1568.04 L1671.55 1568.04 L1671.55 1526.32 L1659.29 1558.91 L1652.83 1558.91 L1640.58 1526.32 L1640.58 1568.04 L1634.34 1568.04 L1634.34 1520.52 Z\" fill=\"#000000\" fill-rule=\"nonzero\" fill-opacity=\"1\" /><path clip-path=\"url(#clip340)\" d=\"M1726.17 1524.18 L1726.17 1530.96 Q1722.92 1527.94 1719.23 1526.44 Q1715.57 1524.95 1711.43 1524.95 Q1703.28 1524.95 1698.95 1529.95 Q1694.62 1534.91 1694.62 1544.33 Q1694.62 1553.72 1698.95 1558.72 Q1703.28 1563.68 1711.43 1563.68 Q1715.57 1563.68 1719.23 1562.19 Q1722.92 1560.69 1726.17 1557.67 L1726.17 1564.38 Q1722.79 1566.68 1719 1567.82 Q1715.25 1568.97 1711.05 1568.97 Q1700.26 1568.97 1694.05 1562.38 Q1687.84 1555.76 1687.84 1544.33 Q1687.84 1532.87 1694.05 1526.28 Q1700.26 1519.66 1711.05 1519.66 Q1715.31 1519.66 1719.07 1520.81 Q1722.86 1521.92 1726.17 1524.18 Z\" fill=\"#000000\" fill-rule=\"nonzero\" fill-opacity=\"1\" /><polyline clip-path=\"url(#clip340)\" style=\"stroke:#000000; stroke-linecap:round; stroke-linejoin:round; stroke-width:4; stroke-opacity:1; fill:none\" points=\"219.866,1423.18 219.866,123.472 \"/>\n",
       "<polyline clip-path=\"url(#clip340)\" style=\"stroke:#000000; stroke-linecap:round; stroke-linejoin:round; stroke-width:4; stroke-opacity:1; fill:none\" points=\"219.866,1222.91 238.764,1222.91 \"/>\n",
       "<polyline clip-path=\"url(#clip340)\" style=\"stroke:#000000; stroke-linecap:round; stroke-linejoin:round; stroke-width:4; stroke-opacity:1; fill:none\" points=\"219.866,977.683 238.764,977.683 \"/>\n",
       "<polyline clip-path=\"url(#clip340)\" style=\"stroke:#000000; stroke-linecap:round; stroke-linejoin:round; stroke-width:4; stroke-opacity:1; fill:none\" points=\"219.866,732.455 238.764,732.455 \"/>\n",
       "<polyline clip-path=\"url(#clip340)\" style=\"stroke:#000000; stroke-linecap:round; stroke-linejoin:round; stroke-width:4; stroke-opacity:1; fill:none\" points=\"219.866,487.227 238.764,487.227 \"/>\n",
       "<polyline clip-path=\"url(#clip340)\" style=\"stroke:#000000; stroke-linecap:round; stroke-linejoin:round; stroke-width:4; stroke-opacity:1; fill:none\" points=\"219.866,241.999 238.764,241.999 \"/>\n",
       "<path clip-path=\"url(#clip340)\" d=\"M126.205 1208.71 Q122.593 1208.71 120.765 1212.27 Q118.959 1215.82 118.959 1222.95 Q118.959 1230.05 120.765 1233.62 Q122.593 1237.16 126.205 1237.16 Q129.839 1237.16 131.644 1233.62 Q133.473 1230.05 133.473 1222.95 Q133.473 1215.82 131.644 1212.27 Q129.839 1208.71 126.205 1208.71 M126.205 1205.01 Q132.015 1205.01 135.07 1209.61 Q138.149 1214.2 138.149 1222.95 Q138.149 1231.67 135.07 1236.28 Q132.015 1240.86 126.205 1240.86 Q120.394 1240.86 117.316 1236.28 Q114.26 1231.67 114.26 1222.95 Q114.26 1214.2 117.316 1209.61 Q120.394 1205.01 126.205 1205.01 Z\" fill=\"#000000\" fill-rule=\"nonzero\" fill-opacity=\"1\" /><path clip-path=\"url(#clip340)\" d=\"M146.366 1234.31 L151.251 1234.31 L151.251 1240.19 L146.366 1240.19 L146.366 1234.31 Z\" fill=\"#000000\" fill-rule=\"nonzero\" fill-opacity=\"1\" /><path clip-path=\"url(#clip340)\" d=\"M174.283 1209.7 L162.477 1228.15 L174.283 1228.15 L174.283 1209.7 M173.056 1205.63 L178.936 1205.63 L178.936 1228.15 L183.866 1228.15 L183.866 1232.04 L178.936 1232.04 L178.936 1240.19 L174.283 1240.19 L174.283 1232.04 L158.681 1232.04 L158.681 1227.53 L173.056 1205.63 Z\" fill=\"#000000\" fill-rule=\"nonzero\" fill-opacity=\"1\" /><path clip-path=\"url(#clip340)\" d=\"M127.686 963.481 Q124.075 963.481 122.246 967.046 Q120.441 970.588 120.441 977.717 Q120.441 984.824 122.246 988.389 Q124.075 991.93 127.686 991.93 Q131.32 991.93 133.126 988.389 Q134.954 984.824 134.954 977.717 Q134.954 970.588 133.126 967.046 Q131.32 963.481 127.686 963.481 M127.686 959.778 Q133.496 959.778 136.552 964.384 Q139.63 968.967 139.63 977.717 Q139.63 986.444 136.552 991.051 Q133.496 995.634 127.686 995.634 Q121.876 995.634 118.797 991.051 Q115.742 986.444 115.742 977.717 Q115.742 968.967 118.797 964.384 Q121.876 959.778 127.686 959.778 Z\" fill=\"#000000\" fill-rule=\"nonzero\" fill-opacity=\"1\" /><path clip-path=\"url(#clip340)\" d=\"M147.848 989.083 L152.732 989.083 L152.732 994.963 L147.848 994.963 L147.848 989.083 Z\" fill=\"#000000\" fill-rule=\"nonzero\" fill-opacity=\"1\" /><path clip-path=\"url(#clip340)\" d=\"M162.964 960.403 L181.32 960.403 L181.32 964.338 L167.246 964.338 L167.246 972.81 Q168.264 972.463 169.283 972.301 Q170.302 972.115 171.32 972.115 Q177.107 972.115 180.487 975.287 Q183.866 978.458 183.866 983.875 Q183.866 989.453 180.394 992.555 Q176.922 995.634 170.602 995.634 Q168.427 995.634 166.158 995.263 Q163.913 994.893 161.505 994.152 L161.505 989.453 Q163.589 990.588 165.811 991.143 Q168.033 991.699 170.51 991.699 Q174.514 991.699 176.852 989.592 Q179.19 987.486 179.19 983.875 Q179.19 980.264 176.852 978.157 Q174.514 976.051 170.51 976.051 Q168.635 976.051 166.76 976.467 Q164.908 976.884 162.964 977.764 L162.964 960.403 Z\" fill=\"#000000\" fill-rule=\"nonzero\" fill-opacity=\"1\" /><path clip-path=\"url(#clip340)\" d=\"M126.529 718.253 Q122.918 718.253 121.089 721.818 Q119.283 725.36 119.283 732.489 Q119.283 739.596 121.089 743.161 Q122.918 746.702 126.529 746.702 Q130.163 746.702 131.968 743.161 Q133.797 739.596 133.797 732.489 Q133.797 725.36 131.968 721.818 Q130.163 718.253 126.529 718.253 M126.529 714.55 Q132.339 714.55 135.394 719.156 Q138.473 723.739 138.473 732.489 Q138.473 741.216 135.394 745.823 Q132.339 750.406 126.529 750.406 Q120.718 750.406 117.64 745.823 Q114.584 741.216 114.584 732.489 Q114.584 723.739 117.64 719.156 Q120.718 714.55 126.529 714.55 Z\" fill=\"#000000\" fill-rule=\"nonzero\" fill-opacity=\"1\" /><path clip-path=\"url(#clip340)\" d=\"M146.691 743.855 L151.575 743.855 L151.575 749.735 L146.691 749.735 L146.691 743.855 Z\" fill=\"#000000\" fill-rule=\"nonzero\" fill-opacity=\"1\" /><path clip-path=\"url(#clip340)\" d=\"M172.339 730.591 Q169.19 730.591 167.339 732.744 Q165.51 734.897 165.51 738.647 Q165.51 742.374 167.339 744.55 Q169.19 746.702 172.339 746.702 Q175.487 746.702 177.315 744.55 Q179.167 742.374 179.167 738.647 Q179.167 734.897 177.315 732.744 Q175.487 730.591 172.339 730.591 M181.621 715.939 L181.621 720.198 Q179.862 719.364 178.056 718.925 Q176.274 718.485 174.514 718.485 Q169.885 718.485 167.431 721.61 Q165.001 724.735 164.653 731.054 Q166.019 729.04 168.079 727.976 Q170.139 726.888 172.616 726.888 Q177.825 726.888 180.834 730.059 Q183.866 733.207 183.866 738.647 Q183.866 743.971 180.718 747.188 Q177.57 750.406 172.339 750.406 Q166.343 750.406 163.172 745.823 Q160.001 741.216 160.001 732.489 Q160.001 724.295 163.89 719.434 Q167.778 714.55 174.329 714.55 Q176.089 714.55 177.871 714.897 Q179.676 715.244 181.621 715.939 Z\" fill=\"#000000\" fill-rule=\"nonzero\" fill-opacity=\"1\" /><path clip-path=\"url(#clip340)\" d=\"M127.593 473.025 Q123.982 473.025 122.154 476.59 Q120.348 480.132 120.348 487.262 Q120.348 494.368 122.154 497.933 Q123.982 501.474 127.593 501.474 Q131.228 501.474 133.033 497.933 Q134.862 494.368 134.862 487.262 Q134.862 480.132 133.033 476.59 Q131.228 473.025 127.593 473.025 M127.593 469.322 Q133.404 469.322 136.459 473.928 Q139.538 478.512 139.538 487.262 Q139.538 495.988 136.459 500.595 Q133.404 505.178 127.593 505.178 Q121.783 505.178 118.705 500.595 Q115.649 495.988 115.649 487.262 Q115.649 478.512 118.705 473.928 Q121.783 469.322 127.593 469.322 Z\" fill=\"#000000\" fill-rule=\"nonzero\" fill-opacity=\"1\" /><path clip-path=\"url(#clip340)\" d=\"M147.755 498.627 L152.64 498.627 L152.64 504.507 L147.755 504.507 L147.755 498.627 Z\" fill=\"#000000\" fill-rule=\"nonzero\" fill-opacity=\"1\" /><path clip-path=\"url(#clip340)\" d=\"M161.644 469.947 L183.866 469.947 L183.866 471.938 L171.32 504.507 L166.436 504.507 L178.241 473.882 L161.644 473.882 L161.644 469.947 Z\" fill=\"#000000\" fill-rule=\"nonzero\" fill-opacity=\"1\" /><path clip-path=\"url(#clip340)\" d=\"M126.783 227.798 Q123.172 227.798 121.343 231.362 Q119.538 234.904 119.538 242.034 Q119.538 249.14 121.343 252.705 Q123.172 256.247 126.783 256.247 Q130.417 256.247 132.223 252.705 Q134.052 249.14 134.052 242.034 Q134.052 234.904 132.223 231.362 Q130.417 227.798 126.783 227.798 M126.783 224.094 Q132.593 224.094 135.649 228.7 Q138.728 233.284 138.728 242.034 Q138.728 250.76 135.649 255.367 Q132.593 259.95 126.783 259.95 Q120.973 259.95 117.894 255.367 Q114.839 250.76 114.839 242.034 Q114.839 233.284 117.894 228.7 Q120.973 224.094 126.783 224.094 Z\" fill=\"#000000\" fill-rule=\"nonzero\" fill-opacity=\"1\" /><path clip-path=\"url(#clip340)\" d=\"M146.945 253.399 L151.829 253.399 L151.829 259.279 L146.945 259.279 L146.945 253.399 Z\" fill=\"#000000\" fill-rule=\"nonzero\" fill-opacity=\"1\" /><path clip-path=\"url(#clip340)\" d=\"M172.014 242.867 Q168.681 242.867 166.76 244.649 Q164.862 246.432 164.862 249.557 Q164.862 252.682 166.76 254.464 Q168.681 256.247 172.014 256.247 Q175.348 256.247 177.269 254.464 Q179.19 252.659 179.19 249.557 Q179.19 246.432 177.269 244.649 Q175.371 242.867 172.014 242.867 M167.339 240.876 Q164.329 240.136 162.64 238.075 Q160.973 236.015 160.973 233.052 Q160.973 228.909 163.913 226.501 Q166.876 224.094 172.014 224.094 Q177.176 224.094 180.116 226.501 Q183.056 228.909 183.056 233.052 Q183.056 236.015 181.366 238.075 Q179.7 240.136 176.714 240.876 Q180.093 241.663 181.968 243.955 Q183.866 246.247 183.866 249.557 Q183.866 254.58 180.788 257.265 Q177.732 259.95 172.014 259.95 Q166.297 259.95 163.218 257.265 Q160.163 254.58 160.163 249.557 Q160.163 246.247 162.061 243.955 Q163.959 241.663 167.339 240.876 M165.626 233.492 Q165.626 236.177 167.292 237.682 Q168.982 239.186 172.014 239.186 Q175.024 239.186 176.714 237.682 Q178.426 236.177 178.426 233.492 Q178.426 230.807 176.714 229.302 Q175.024 227.798 172.014 227.798 Q168.982 227.798 167.292 229.302 Q165.626 230.807 165.626 233.492 Z\" fill=\"#000000\" fill-rule=\"nonzero\" fill-opacity=\"1\" /><path clip-path=\"url(#clip340)\" d=\"M22.818 1015.81 L46.4666 1024.53 L46.4666 1007.06 L22.818 1015.81 M16.4842 1019.44 L16.4842 1012.15 L64.0042 994.041 L64.0042 1000.72 L51.8138 1005.05 L51.8138 1026.47 L64.0042 1030.8 L64.0042 1037.58 L16.4842 1019.44 Z\" fill=\"#000000\" fill-rule=\"nonzero\" fill-opacity=\"1\" /><path clip-path=\"url(#clip340)\" d=\"M29.7248 962.849 L35.1993 962.849 Q33.8307 965.332 33.1623 967.846 Q32.4621 970.329 32.4621 972.875 Q32.4621 978.572 36.0905 981.723 Q39.6872 984.874 46.212 984.874 Q52.7369 984.874 56.3653 981.723 Q59.9619 978.572 59.9619 972.875 Q59.9619 970.329 59.2935 967.846 Q58.5933 965.332 57.2247 962.849 L62.6355 962.849 Q63.7814 965.3 64.3543 967.942 Q64.9272 970.551 64.9272 973.512 Q64.9272 981.564 59.8664 986.307 Q54.8057 991.049 46.212 991.049 Q37.491 991.049 32.4939 986.275 Q27.4968 981.469 27.4968 973.13 Q27.4968 970.424 28.0697 967.846 Q28.6108 965.268 29.7248 962.849 Z\" fill=\"#000000\" fill-rule=\"nonzero\" fill-opacity=\"1\" /><path clip-path=\"url(#clip340)\" d=\"M29.7248 927.01 L35.1993 927.01 Q33.8307 929.493 33.1623 932.007 Q32.4621 934.49 32.4621 937.036 Q32.4621 942.733 36.0905 945.884 Q39.6872 949.035 46.212 949.035 Q52.7369 949.035 56.3653 945.884 Q59.9619 942.733 59.9619 937.036 Q59.9619 934.49 59.2935 932.007 Q58.5933 929.493 57.2247 927.01 L62.6355 927.01 Q63.7814 929.461 64.3543 932.103 Q64.9272 934.713 64.9272 937.673 Q64.9272 945.725 59.8664 950.468 Q54.8057 955.21 46.212 955.21 Q37.491 955.21 32.4939 950.436 Q27.4968 945.63 27.4968 937.291 Q27.4968 934.585 28.0697 932.007 Q28.6108 929.429 29.7248 927.01 Z\" fill=\"#000000\" fill-rule=\"nonzero\" fill-opacity=\"1\" /><path clip-path=\"url(#clip340)\" d=\"M44.7161 886.333 L47.5806 886.333 L47.5806 913.26 Q53.6281 912.878 56.8109 909.632 Q59.9619 906.353 59.9619 900.529 Q59.9619 897.155 59.1344 894.004 Q58.3069 890.821 56.6518 887.702 L62.1899 887.702 Q63.5267 890.853 64.227 894.163 Q64.9272 897.473 64.9272 900.879 Q64.9272 909.409 59.9619 914.406 Q54.9967 919.371 46.5303 919.371 Q37.7774 919.371 32.6531 914.661 Q27.4968 909.918 27.4968 901.897 Q27.4968 894.704 32.1438 890.535 Q36.7589 886.333 44.7161 886.333 M42.9973 892.19 Q38.1912 892.253 35.3266 894.895 Q32.4621 897.505 32.4621 901.834 Q32.4621 906.735 35.2312 909.695 Q38.0002 912.624 43.0292 913.069 L42.9973 892.19 Z\" fill=\"#000000\" fill-rule=\"nonzero\" fill-opacity=\"1\" /><path clip-path=\"url(#clip340)\" d=\"M58.657 871.055 L77.5631 871.055 L77.5631 876.944 L28.3562 876.944 L28.3562 871.055 L33.7671 871.055 Q30.5842 869.209 29.0564 866.409 Q27.4968 863.576 27.4968 859.661 Q27.4968 853.168 32.6531 849.126 Q37.8093 845.052 46.212 845.052 Q54.6147 845.052 59.771 849.126 Q64.9272 853.168 64.9272 859.661 Q64.9272 863.576 63.3994 866.409 Q61.8398 869.209 58.657 871.055 M46.212 851.131 Q39.7508 851.131 36.0905 853.804 Q32.3984 856.446 32.3984 861.093 Q32.3984 865.74 36.0905 868.414 Q39.7508 871.055 46.212 871.055 Q52.6732 871.055 56.3653 868.414 Q60.0256 865.74 60.0256 861.093 Q60.0256 856.446 56.3653 853.804 Q52.6732 851.131 46.212 851.131 Z\" fill=\"#000000\" fill-rule=\"nonzero\" fill-opacity=\"1\" /><path clip-path=\"url(#clip340)\" d=\"M18.2347 829.551 L28.3562 829.551 L28.3562 817.488 L32.9077 817.488 L32.9077 829.551 L52.2594 829.551 Q56.6199 829.551 57.8613 828.373 Q59.1026 827.164 59.1026 823.504 L59.1026 817.488 L64.0042 817.488 L64.0042 823.504 Q64.0042 830.283 61.4897 832.861 Q58.9434 835.439 52.2594 835.439 L32.9077 835.439 L32.9077 839.736 L28.3562 839.736 L28.3562 835.439 L18.2347 835.439 L18.2347 829.551 Z\" fill=\"#000000\" fill-rule=\"nonzero\" fill-opacity=\"1\" /><path clip-path=\"url(#clip340)\" d=\"M46.0847 793.585 Q46.0847 800.683 47.7079 803.42 Q49.3312 806.157 53.2461 806.157 Q56.3653 806.157 58.2114 804.12 Q60.0256 802.051 60.0256 798.518 Q60.0256 793.649 56.5881 790.72 Q53.1188 787.76 47.3897 787.76 L46.0847 787.76 L46.0847 793.585 M43.6657 781.904 L64.0042 781.904 L64.0042 787.76 L58.5933 787.76 Q61.8398 789.765 63.3994 792.757 Q64.9272 795.749 64.9272 800.078 Q64.9272 805.552 61.8716 808.799 Q58.7843 812.014 53.6281 812.014 Q47.6125 812.014 44.5569 808.003 Q41.5014 803.961 41.5014 795.972 L41.5014 787.76 L40.9285 787.76 Q36.8862 787.76 34.6901 790.434 Q32.4621 793.076 32.4621 797.882 Q32.4621 800.937 33.1941 803.834 Q33.9262 806.73 35.3903 809.404 L29.9795 809.404 Q28.7381 806.189 28.1334 803.165 Q27.4968 800.142 27.4968 797.277 Q27.4968 789.543 31.5072 785.723 Q35.5176 781.904 43.6657 781.904 Z\" fill=\"#000000\" fill-rule=\"nonzero\" fill-opacity=\"1\" /><path clip-path=\"url(#clip340)\" d=\"M42.4881 740.208 L64.0042 740.208 L64.0042 746.065 L42.679 746.065 Q37.6183 746.065 35.1038 748.038 Q32.5894 750.012 32.5894 753.958 Q32.5894 758.701 35.6131 761.438 Q38.6368 764.175 43.8567 764.175 L64.0042 764.175 L64.0042 770.064 L28.3562 770.064 L28.3562 764.175 L33.8944 764.175 Q30.6797 762.075 29.0883 759.242 Q27.4968 756.377 27.4968 752.653 Q27.4968 746.51 31.3163 743.359 Q35.1038 740.208 42.4881 740.208 Z\" fill=\"#000000\" fill-rule=\"nonzero\" fill-opacity=\"1\" /><path clip-path=\"url(#clip340)\" d=\"M29.7248 702.874 L35.1993 702.874 Q33.8307 705.356 33.1623 707.871 Q32.4621 710.353 32.4621 712.9 Q32.4621 718.597 36.0905 721.748 Q39.6872 724.899 46.212 724.899 Q52.7369 724.899 56.3653 721.748 Q59.9619 718.597 59.9619 712.9 Q59.9619 710.353 59.2935 707.871 Q58.5933 705.356 57.2247 702.874 L62.6355 702.874 Q63.7814 705.324 64.3543 707.966 Q64.9272 710.576 64.9272 713.536 Q64.9272 721.589 59.8664 726.331 Q54.8057 731.074 46.212 731.074 Q37.491 731.074 32.4939 726.299 Q27.4968 721.493 27.4968 713.154 Q27.4968 710.449 28.0697 707.871 Q28.6108 705.292 29.7248 702.874 Z\" fill=\"#000000\" fill-rule=\"nonzero\" fill-opacity=\"1\" /><path clip-path=\"url(#clip340)\" d=\"M44.7161 662.197 L47.5806 662.197 L47.5806 689.124 Q53.6281 688.742 56.8109 685.495 Q59.9619 682.217 59.9619 676.392 Q59.9619 673.018 59.1344 669.867 Q58.3069 666.684 56.6518 663.565 L62.1899 663.565 Q63.5267 666.716 64.227 670.026 Q64.9272 673.337 64.9272 676.742 Q64.9272 685.272 59.9619 690.269 Q54.9967 695.235 46.5303 695.235 Q37.7774 695.235 32.6531 690.524 Q27.4968 685.782 27.4968 677.761 Q27.4968 670.568 32.1438 666.398 Q36.7589 662.197 44.7161 662.197 M42.9973 668.053 Q38.1912 668.117 35.3266 670.759 Q32.4621 673.368 32.4621 677.697 Q32.4621 682.599 35.2312 685.559 Q38.0002 688.487 43.0292 688.933 L42.9973 668.053 Z\" fill=\"#000000\" fill-rule=\"nonzero\" fill-opacity=\"1\" /><path clip-path=\"url(#clip340)\" d=\"M33.8307 611.207 Q33.2578 612.194 33.0032 613.372 Q32.7167 614.518 32.7167 615.918 Q32.7167 620.883 35.9632 623.557 Q39.1779 626.199 45.2253 626.199 L64.0042 626.199 L64.0042 632.087 L28.3562 632.087 L28.3562 626.199 L33.8944 626.199 Q30.6479 624.353 29.0883 621.392 Q27.4968 618.432 27.4968 614.199 Q27.4968 613.594 27.5923 612.862 Q27.656 612.13 27.8151 611.239 L33.8307 611.207 Z\" fill=\"#000000\" fill-rule=\"nonzero\" fill-opacity=\"1\" /><path clip-path=\"url(#clip340)\" d=\"M46.0847 588.864 Q46.0847 595.961 47.7079 598.699 Q49.3312 601.436 53.2461 601.436 Q56.3653 601.436 58.2114 599.399 Q60.0256 597.33 60.0256 593.797 Q60.0256 588.927 56.5881 585.999 Q53.1188 583.039 47.3897 583.039 L46.0847 583.039 L46.0847 588.864 M43.6657 577.183 L64.0042 577.183 L64.0042 583.039 L58.5933 583.039 Q61.8398 585.044 63.3994 588.036 Q64.9272 591.028 64.9272 595.357 Q64.9272 600.831 61.8716 604.078 Q58.7843 607.292 53.6281 607.292 Q47.6125 607.292 44.5569 603.282 Q41.5014 599.24 41.5014 591.251 L41.5014 583.039 L40.9285 583.039 Q36.8862 583.039 34.6901 585.713 Q32.4621 588.354 32.4621 593.161 Q32.4621 596.216 33.1941 599.113 Q33.9262 602.009 35.3903 604.683 L29.9795 604.683 Q28.7381 601.468 28.1334 598.444 Q27.4968 595.42 27.4968 592.556 Q27.4968 584.821 31.5072 581.002 Q35.5176 577.183 43.6657 577.183 Z\" fill=\"#000000\" fill-rule=\"nonzero\" fill-opacity=\"1\" /><path clip-path=\"url(#clip340)\" d=\"M18.2347 559.327 L28.3562 559.327 L28.3562 547.264 L32.9077 547.264 L32.9077 559.327 L52.2594 559.327 Q56.6199 559.327 57.8613 558.149 Q59.1026 556.94 59.1026 553.279 L59.1026 547.264 L64.0042 547.264 L64.0042 553.279 Q64.0042 560.059 61.4897 562.637 Q58.9434 565.215 52.2594 565.215 L32.9077 565.215 L32.9077 569.512 L28.3562 569.512 L28.3562 565.215 L18.2347 565.215 L18.2347 559.327 Z\" fill=\"#000000\" fill-rule=\"nonzero\" fill-opacity=\"1\" /><path clip-path=\"url(#clip340)\" d=\"M44.7161 509.07 L47.5806 509.07 L47.5806 535.997 Q53.6281 535.615 56.8109 532.368 Q59.9619 529.09 59.9619 523.265 Q59.9619 519.891 59.1344 516.74 Q58.3069 513.557 56.6518 510.438 L62.1899 510.438 Q63.5267 513.589 64.227 516.899 Q64.9272 520.21 64.9272 523.615 Q64.9272 532.145 59.9619 537.142 Q54.9967 542.108 46.5303 542.108 Q37.7774 542.108 32.6531 537.397 Q27.4968 532.655 27.4968 524.634 Q27.4968 517.44 32.1438 513.271 Q36.7589 509.07 44.7161 509.07 M42.9973 514.926 Q38.1912 514.99 35.3266 517.631 Q32.4621 520.241 32.4621 524.57 Q32.4621 529.472 35.2312 532.432 Q38.0002 535.36 43.0292 535.806 L42.9973 514.926 Z\" fill=\"#000000\" fill-rule=\"nonzero\" fill-opacity=\"1\" /><path clip-path=\"url(#clip340)\" d=\"M955.899 20.1573 L944.8 50.2555 L967.039 50.2555 L955.899 20.1573 M951.281 12.096 L960.558 12.096 L983.607 72.576 L975.1 72.576 L969.591 57.061 L942.329 57.061 L936.819 72.576 L928.191 72.576 L951.281 12.096 Z\" fill=\"#000000\" fill-rule=\"nonzero\" fill-opacity=\"1\" /><path clip-path=\"url(#clip340)\" d=\"M1023.31 28.9478 L1023.31 35.9153 Q1020.15 34.1734 1016.95 33.3227 Q1013.79 32.4315 1010.55 32.4315 Q1003.29 32.4315 999.284 37.0496 Q995.274 41.6271 995.274 49.9314 Q995.274 58.2358 999.284 62.8538 Q1003.29 67.4314 1010.55 67.4314 Q1013.79 67.4314 1016.95 66.5807 Q1020.15 65.6895 1023.31 63.9476 L1023.31 70.8341 Q1020.19 72.2924 1016.82 73.0216 Q1013.5 73.7508 1009.74 73.7508 Q999.487 73.7508 993.451 67.3098 Q987.415 60.8689 987.415 49.9314 Q987.415 38.832 993.491 32.472 Q999.608 26.1121 1010.22 26.1121 Q1013.66 26.1121 1016.95 26.8413 Q1020.23 27.5299 1023.31 28.9478 Z\" fill=\"#000000\" fill-rule=\"nonzero\" fill-opacity=\"1\" /><path clip-path=\"url(#clip340)\" d=\"M1068.92 28.9478 L1068.92 35.9153 Q1065.76 34.1734 1062.56 33.3227 Q1059.4 32.4315 1056.16 32.4315 Q1048.91 32.4315 1044.9 37.0496 Q1040.89 41.6271 1040.89 49.9314 Q1040.89 58.2358 1044.9 62.8538 Q1048.91 67.4314 1056.16 67.4314 Q1059.4 67.4314 1062.56 66.5807 Q1065.76 65.6895 1068.92 63.9476 L1068.92 70.8341 Q1065.8 72.2924 1062.44 73.0216 Q1059.12 73.7508 1055.35 73.7508 Q1045.1 73.7508 1039.06 67.3098 Q1033.03 60.8689 1033.03 49.9314 Q1033.03 38.832 1039.1 32.472 Q1045.22 26.1121 1055.83 26.1121 Q1059.28 26.1121 1062.56 26.8413 Q1065.84 27.5299 1068.92 28.9478 Z\" fill=\"#000000\" fill-rule=\"nonzero\" fill-opacity=\"1\" /><path clip-path=\"url(#clip340)\" d=\"M1120.69 48.0275 L1120.69 51.6733 L1086.42 51.6733 Q1086.91 59.3701 1091.04 63.421 Q1095.21 67.4314 1102.62 67.4314 Q1106.92 67.4314 1110.93 66.3781 Q1114.98 65.3249 1118.95 63.2184 L1118.95 70.267 Q1114.94 71.9684 1110.72 72.8596 Q1106.51 73.7508 1102.18 73.7508 Q1091.32 73.7508 1084.96 67.4314 Q1078.64 61.1119 1078.64 50.3365 Q1078.64 39.1965 1084.64 32.6746 Q1090.67 26.1121 1100.88 26.1121 Q1110.04 26.1121 1115.34 32.0264 Q1120.69 37.9003 1120.69 48.0275 M1113.24 45.84 Q1113.16 39.7232 1109.79 36.0774 Q1106.47 32.4315 1100.96 32.4315 Q1094.72 32.4315 1090.96 35.9558 Q1087.23 39.4801 1086.66 45.8805 L1113.24 45.84 Z\" fill=\"#000000\" fill-rule=\"nonzero\" fill-opacity=\"1\" /><path clip-path=\"url(#clip340)\" d=\"M1140.13 65.7705 L1140.13 89.8329 L1132.64 89.8329 L1132.64 27.2059 L1140.13 27.2059 L1140.13 34.0924 Q1142.48 30.0415 1146.05 28.0971 Q1149.65 26.1121 1154.64 26.1121 Q1162.9 26.1121 1168.04 32.6746 Q1173.23 39.2371 1173.23 49.9314 Q1173.23 60.6258 1168.04 67.1883 Q1162.9 73.7508 1154.64 73.7508 Q1149.65 73.7508 1146.05 71.8063 Q1142.48 69.8214 1140.13 65.7705 M1165.49 49.9314 Q1165.49 41.7081 1162.09 37.0496 Q1158.73 32.3505 1152.81 32.3505 Q1146.9 32.3505 1143.5 37.0496 Q1140.13 41.7081 1140.13 49.9314 Q1140.13 58.1548 1143.5 62.8538 Q1146.9 67.5124 1152.81 67.5124 Q1158.73 67.5124 1162.09 62.8538 Q1165.49 58.1548 1165.49 49.9314 Z\" fill=\"#000000\" fill-rule=\"nonzero\" fill-opacity=\"1\" /><path clip-path=\"url(#clip340)\" d=\"M1192.96 14.324 L1192.96 27.2059 L1208.31 27.2059 L1208.31 32.9987 L1192.96 32.9987 L1192.96 57.6282 Q1192.96 63.1779 1194.46 64.7578 Q1196 66.3376 1200.65 66.3376 L1208.31 66.3376 L1208.31 72.576 L1200.65 72.576 Q1192.03 72.576 1188.75 69.3758 Q1185.46 66.1351 1185.46 57.6282 L1185.46 32.9987 L1180 32.9987 L1180 27.2059 L1185.46 27.2059 L1185.46 14.324 L1192.96 14.324 Z\" fill=\"#000000\" fill-rule=\"nonzero\" fill-opacity=\"1\" /><path clip-path=\"url(#clip340)\" d=\"M1238.73 49.7694 Q1229.7 49.7694 1226.22 51.8354 Q1222.73 53.9013 1222.73 58.8839 Q1222.73 62.8538 1225.32 65.2034 Q1227.96 67.5124 1232.45 67.5124 Q1238.65 67.5124 1242.38 63.1374 Q1246.15 58.7219 1246.15 51.4303 L1246.15 49.7694 L1238.73 49.7694 M1253.6 46.6907 L1253.6 72.576 L1246.15 72.576 L1246.15 65.6895 Q1243.59 69.8214 1239.79 71.8063 Q1235.98 73.7508 1230.47 73.7508 Q1223.5 73.7508 1219.37 69.8619 Q1215.28 65.9325 1215.28 59.3701 Q1215.28 51.7138 1220.38 47.825 Q1225.53 43.9361 1235.7 43.9361 L1246.15 43.9361 L1246.15 43.2069 Q1246.15 38.0623 1242.74 35.2672 Q1239.38 32.4315 1233.26 32.4315 Q1229.38 32.4315 1225.69 33.3632 Q1222 34.295 1218.6 36.1584 L1218.6 29.2718 Q1222.69 27.692 1226.54 26.9223 Q1230.39 26.1121 1234.03 26.1121 Q1243.88 26.1121 1248.74 31.2163 Q1253.6 36.3204 1253.6 46.6907 Z\" fill=\"#000000\" fill-rule=\"nonzero\" fill-opacity=\"1\" /><path clip-path=\"url(#clip340)\" d=\"M1306.67 45.1919 L1306.67 72.576 L1299.21 72.576 L1299.21 45.4349 Q1299.21 38.994 1296.7 35.7938 Q1294.19 32.5936 1289.17 32.5936 Q1283.13 32.5936 1279.65 36.4419 Q1276.16 40.2903 1276.16 46.9338 L1276.16 72.576 L1268.67 72.576 L1268.67 27.2059 L1276.16 27.2059 L1276.16 34.2544 Q1278.84 30.163 1282.44 28.1376 Q1286.09 26.1121 1290.83 26.1121 Q1298.65 26.1121 1302.66 30.9732 Q1306.67 35.7938 1306.67 45.1919 Z\" fill=\"#000000\" fill-rule=\"nonzero\" fill-opacity=\"1\" /><path clip-path=\"url(#clip340)\" d=\"M1354.18 28.9478 L1354.18 35.9153 Q1351.02 34.1734 1347.82 33.3227 Q1344.66 32.4315 1341.42 32.4315 Q1334.17 32.4315 1330.16 37.0496 Q1326.15 41.6271 1326.15 49.9314 Q1326.15 58.2358 1330.16 62.8538 Q1334.17 67.4314 1341.42 67.4314 Q1344.66 67.4314 1347.82 66.5807 Q1351.02 65.6895 1354.18 63.9476 L1354.18 70.8341 Q1351.06 72.2924 1347.7 73.0216 Q1344.38 73.7508 1340.61 73.7508 Q1330.36 73.7508 1324.33 67.3098 Q1318.29 60.8689 1318.29 49.9314 Q1318.29 38.832 1324.37 32.472 Q1330.49 26.1121 1341.1 26.1121 Q1344.54 26.1121 1347.82 26.8413 Q1351.11 27.5299 1354.18 28.9478 Z\" fill=\"#000000\" fill-rule=\"nonzero\" fill-opacity=\"1\" /><path clip-path=\"url(#clip340)\" d=\"M1405.95 48.0275 L1405.95 51.6733 L1371.68 51.6733 Q1372.17 59.3701 1376.3 63.421 Q1380.47 67.4314 1387.89 67.4314 Q1392.18 67.4314 1396.19 66.3781 Q1400.24 65.3249 1404.21 63.2184 L1404.21 70.267 Q1400.2 71.9684 1395.99 72.8596 Q1391.78 73.7508 1387.44 73.7508 Q1376.59 73.7508 1370.23 67.4314 Q1363.91 61.1119 1363.91 50.3365 Q1363.91 39.1965 1369.9 32.6746 Q1375.94 26.1121 1386.15 26.1121 Q1395.3 26.1121 1400.61 32.0264 Q1405.95 37.9003 1405.95 48.0275 M1398.5 45.84 Q1398.42 39.7232 1395.06 36.0774 Q1391.74 32.4315 1386.23 32.4315 Q1379.99 32.4315 1376.22 35.9558 Q1372.49 39.4801 1371.93 45.8805 L1398.5 45.84 Z\" fill=\"#000000\" fill-rule=\"nonzero\" fill-opacity=\"1\" /><path clip-path=\"url(#clip340)\" d=\"M1470.85 34.1734 Q1469.59 33.4443 1468.1 33.1202 Q1466.64 32.7556 1464.85 32.7556 Q1458.54 32.7556 1455.13 36.8875 Q1451.77 40.9789 1451.77 48.6757 L1451.77 72.576 L1444.28 72.576 L1444.28 27.2059 L1451.77 27.2059 L1451.77 34.2544 Q1454.12 30.1225 1457.89 28.1376 Q1461.65 26.1121 1467.04 26.1121 Q1467.81 26.1121 1468.74 26.2337 Q1469.68 26.3147 1470.81 26.5172 L1470.85 34.1734 Z\" fill=\"#000000\" fill-rule=\"nonzero\" fill-opacity=\"1\" /><path clip-path=\"url(#clip340)\" d=\"M1499.29 49.7694 Q1490.25 49.7694 1486.77 51.8354 Q1483.29 53.9013 1483.29 58.8839 Q1483.29 62.8538 1485.88 65.2034 Q1488.51 67.5124 1493.01 67.5124 Q1499.21 67.5124 1502.93 63.1374 Q1506.7 58.7219 1506.7 51.4303 L1506.7 49.7694 L1499.29 49.7694 M1514.15 46.6907 L1514.15 72.576 L1506.7 72.576 L1506.7 65.6895 Q1504.15 69.8214 1500.34 71.8063 Q1496.53 73.7508 1491.02 73.7508 Q1484.06 73.7508 1479.92 69.8619 Q1475.83 65.9325 1475.83 59.3701 Q1475.83 51.7138 1480.94 47.825 Q1486.08 43.9361 1496.25 43.9361 L1506.7 43.9361 L1506.7 43.2069 Q1506.7 38.0623 1503.3 35.2672 Q1499.94 32.4315 1493.82 32.4315 Q1489.93 32.4315 1486.24 33.3632 Q1482.56 34.295 1479.15 36.1584 L1479.15 29.2718 Q1483.25 27.692 1487.09 26.9223 Q1490.94 26.1121 1494.59 26.1121 Q1504.43 26.1121 1509.29 31.2163 Q1514.15 36.3204 1514.15 46.6907 Z\" fill=\"#000000\" fill-rule=\"nonzero\" fill-opacity=\"1\" /><path clip-path=\"url(#clip340)\" d=\"M1536.88 14.324 L1536.88 27.2059 L1552.23 27.2059 L1552.23 32.9987 L1536.88 32.9987 L1536.88 57.6282 Q1536.88 63.1779 1538.38 64.7578 Q1539.92 66.3376 1544.58 66.3376 L1552.23 66.3376 L1552.23 72.576 L1544.58 72.576 Q1535.95 72.576 1532.67 69.3758 Q1529.39 66.1351 1529.39 57.6282 L1529.39 32.9987 L1523.92 32.9987 L1523.92 27.2059 L1529.39 27.2059 L1529.39 14.324 L1536.88 14.324 Z\" fill=\"#000000\" fill-rule=\"nonzero\" fill-opacity=\"1\" /><path clip-path=\"url(#clip340)\" d=\"M1600.84 48.0275 L1600.84 51.6733 L1566.57 51.6733 Q1567.06 59.3701 1571.19 63.421 Q1575.36 67.4314 1582.78 67.4314 Q1587.07 67.4314 1591.08 66.3781 Q1595.13 65.3249 1599.1 63.2184 L1599.1 70.267 Q1595.09 71.9684 1590.88 72.8596 Q1586.67 73.7508 1582.33 73.7508 Q1571.47 73.7508 1565.11 67.4314 Q1558.8 61.1119 1558.8 50.3365 Q1558.8 39.1965 1564.79 32.6746 Q1570.83 26.1121 1581.03 26.1121 Q1590.19 26.1121 1595.5 32.0264 Q1600.84 37.9003 1600.84 48.0275 M1593.39 45.84 Q1593.31 39.7232 1589.95 36.0774 Q1586.62 32.4315 1581.12 32.4315 Q1574.88 32.4315 1571.11 35.9558 Q1567.38 39.4801 1566.82 45.8805 L1593.39 45.84 Z\" fill=\"#000000\" fill-rule=\"nonzero\" fill-opacity=\"1\" /><path clip-path=\"url(#clip340)\" d=\"M1642 28.5427 L1642 35.5912 Q1638.84 33.9709 1635.44 33.1607 Q1632.04 32.3505 1628.39 32.3505 Q1622.84 32.3505 1620.04 34.0519 Q1617.29 35.7533 1617.29 39.156 Q1617.29 41.7486 1619.28 43.2475 Q1621.26 44.7058 1627.26 46.0426 L1629.81 46.6097 Q1637.75 48.3111 1641.07 51.4303 Q1644.43 54.509 1644.43 60.0587 Q1644.43 66.3781 1639.41 70.0644 Q1634.43 73.7508 1625.68 73.7508 Q1622.03 73.7508 1618.06 73.0216 Q1614.13 72.3329 1609.76 70.9151 L1609.76 63.2184 Q1613.89 65.3654 1617.9 66.4591 Q1621.91 67.5124 1625.84 67.5124 Q1631.1 67.5124 1633.94 65.73 Q1636.78 63.9071 1636.78 60.6258 Q1636.78 57.5877 1634.71 55.9673 Q1632.68 54.3469 1625.76 52.8481 L1623.16 52.2405 Q1616.24 50.7821 1613.16 47.7845 Q1610.08 44.7463 1610.08 39.4801 Q1610.08 33.0797 1614.62 29.5959 Q1619.15 26.1121 1627.5 26.1121 Q1631.63 26.1121 1635.28 26.7198 Q1638.92 27.3274 1642 28.5427 Z\" fill=\"#000000\" fill-rule=\"nonzero\" fill-opacity=\"1\" /><polyline clip-path=\"url(#clip342)\" style=\"stroke:#009af9; stroke-linecap:round; stroke-linejoin:round; stroke-width:4; stroke-opacity:1; fill:none\" points=\"280.231,1386.4 503.804,977.683 727.378,732.455 950.951,568.969 1174.52,452.194 1398.1,364.613 1621.67,296.494 1845.24,241.999 2068.82,197.412 2292.39,160.256 \"/>\n",
       "<path clip-path=\"url(#clip340)\" d=\"M290.963 270.476 L556.682 270.476 L556.682 166.796 L290.963 166.796  Z\" fill=\"#ffffff\" fill-rule=\"evenodd\" fill-opacity=\"1\"/>\n",
       "<polyline clip-path=\"url(#clip340)\" style=\"stroke:#000000; stroke-linecap:round; stroke-linejoin:round; stroke-width:4; stroke-opacity:1; fill:none\" points=\"290.963,270.476 556.682,270.476 556.682,166.796 290.963,166.796 290.963,270.476 \"/>\n",
       "<polyline clip-path=\"url(#clip340)\" style=\"stroke:#009af9; stroke-linecap:round; stroke-linejoin:round; stroke-width:4; stroke-opacity:1; fill:none\" points=\"314.661,218.636 456.854,218.636 \"/>\n",
       "<path clip-path=\"url(#clip340)\" d=\"M494.395 238.323 Q492.59 242.953 490.877 244.365 Q489.164 245.777 486.293 245.777 L482.891 245.777 L482.891 242.212 L485.391 242.212 Q487.15 242.212 488.122 241.379 Q489.094 240.545 490.275 237.443 L491.039 235.499 L480.553 209.99 L485.067 209.99 L493.168 230.268 L501.27 209.99 L505.784 209.99 L494.395 238.323 Z\" fill=\"#000000\" fill-rule=\"nonzero\" fill-opacity=\"1\" /><path clip-path=\"url(#clip340)\" d=\"M513.076 231.981 L520.715 231.981 L520.715 205.615 L512.404 207.282 L512.404 203.022 L520.668 201.356 L525.344 201.356 L525.344 231.981 L532.983 231.981 L532.983 235.916 L513.076 235.916 L513.076 231.981 Z\" fill=\"#000000\" fill-rule=\"nonzero\" fill-opacity=\"1\" /></svg>\n"
      ]
     },
     "metadata": {},
     "output_type": "display_data"
    }
   ],
   "source": [
    "plot(acceptance_rates)\n",
    "plot!(title = \"Acceptance rates\", xlabel = \"recorded samples of MCMC\", ylabel = \"Acceptance rate\")"
   ]
  },
  {
   "cell_type": "markdown",
   "metadata": {},
   "source": [
    "### Noisy sample generation\n",
    "- we have generated a set of classically efficiently simulable states $S_{\\psi} =\\{|\\phi_i>\\}$, so we now have our list of ground state energies and the corresponding circuits for the correction (i.e $X_{\\phi_i}^{exact}$)\n",
    "- there is no global noise model we can add to our training set, instead we add a layer of local depolarizing noise applied to all qubits individually  using the PP noise module to get our $X_{\\phi_i}^{noisy}$"
   ]
  },
  {
   "cell_type": "code",
   "execution_count": 82,
   "metadata": {},
   "outputs": [],
   "source": [
    "depol_noise_layer = [DepolarizingNoise(qind, 0.02) for qind in 1:ansatz.nqubits];"
   ]
  },
  {
   "cell_type": "code",
   "execution_count": 83,
   "metadata": {},
   "outputs": [
    {
     "data": {
      "text/plain": [
       "noisy_expectation_values (generic function with 1 method)"
      ]
     },
     "metadata": {},
     "output_type": "display_data"
    }
   ],
   "source": [
    "function noisy_expectation_values(ansatz, acc_samples, repartition;depol_strength = 0.05, dephase_strength = 0.05, target = false)\n",
    "\n",
    "    #define the noise layer and add to every circuit\n",
    "    depol_noise_layer = [DepolarizingNoise(qind, depol_strength ) for qind in 1:ansatz.nqubits];\n",
    "\n",
    "    #dephase_noise_layer = [DephasingNoise(qind, dephase_strength) for qind in 1:ansatz.nqubits];\n",
    "    \n",
    "    noisy_acc_samples = deepcopy(acc_samples)\n",
    "    for i in 1:length(noisy_acc_samples)\n",
    "        append!(noisy_acc_samples[i], depol_noise_layer)\n",
    "    end\n",
    "\n",
    "    noisy_opt_energies = Vector{Float64}()\n",
    "\n",
    "    for i in 1:length(noisy_acc_samples)\n",
    "        thetas_init = rand((2*ansatz.nqubits-1)*ansatz.nlayers-(ansatz.nqubits*ansatz.nlayers÷2))\n",
    "\n",
    "        if target == true\n",
    "            thetas_init = rand((2*ansatz.nqubits-1)*ansatz.nlayers)\n",
    "        end\n",
    "\n",
    "        #need integer division! this number of replacements is hard coded in initialize_mcmc_circuit\n",
    "        thetas_init = constrain_params(thetas_init, repartition[i])\n",
    "        noisy_closed_lossfunction = let  const_circuit = noisy_acc_samples[i], const_ansatz = ansatz, const_max_freq=max_freq, const_max_weight=max_weight\n",
    "            # these are now all captured variables with known types and we return a function that only takes thetas s.t. ReverseDiff works\n",
    "            # See also \"closures\"\n",
    "            thetas -> fulllossfunction(thetas, noisy_acc_samples[i], const_ansatz; max_freq=const_max_freq, max_weight=const_max_weight)\n",
    "        end\n",
    "        opt_thetas_noisy, opt_energy_gd_noisy = gd(thetas_init, noisy_closed_lossfunction, ansatz, repartition = repartition[i]) # need to pass repartition_MCMC!\n",
    "        noisy_opt_energies = push!(noisy_opt_energies, noisy_closed_lossfunction(opt_thetas_noisy)/ansatz.nqubits)\n",
    "    end \n",
    "    return noisy_opt_energies\n",
    "    \n",
    "end"
   ]
  },
  {
   "cell_type": "code",
   "execution_count": 84,
   "metadata": {},
   "outputs": [],
   "source": [
    "noisy_opt_energies = noisy_expectation_values(ansatz, acc_samples, repartition_MCMC);"
   ]
  },
  {
   "cell_type": "markdown",
   "metadata": {},
   "source": [
    "### Linear Model for Correction"
   ]
  },
  {
   "cell_type": "code",
   "execution_count": 85,
   "metadata": {},
   "outputs": [
    {
     "name": "stdout",
     "output_type": "stream",
     "text": [
      "\u001b[1m10×2 DataFrame\u001b[0m\n",
      "\u001b[1m Row \u001b[0m│\u001b[1m x        \u001b[0m\u001b[1m y        \u001b[0m\n",
      "     │\u001b[90m Float64  \u001b[0m\u001b[90m Float64  \u001b[0m\n",
      "─────┼────────────────────\n",
      "   1 │ -1.70262  -2.02275\n",
      "   2 │ -1.9702   -2.06045\n",
      "   3 │ -1.61006  -2.05962\n",
      "   4 │ -1.82152  -2.04203\n",
      "   5 │ -1.94633  -2.05671\n",
      "   6 │ -1.89538  -2.02409\n",
      "   7 │ -1.95599  -2.07039\n",
      "   8 │ -1.9637   -2.07286\n",
      "   9 │ -1.9598   -2.06796\n",
      "  10 │ -1.97221  -2.03613\n",
      "[-1.9585496419151163, 0.04934050435073654]\n"
     ]
    }
   ],
   "source": [
    "training_data = DataFrame(x=noisy_opt_energies,y=exact_energies_MCMC)\n",
    "println(training_data)\n",
    "ols = lm(@formula(y ~ x), training_data)\n",
    "coeffs = coef(ols)\n",
    "cdr(x) = coef(ols)[1] + coef(ols)[2] * x\n",
    "println(coeffs)"
   ]
  },
  {
   "cell_type": "markdown",
   "metadata": {},
   "source": [
    "Now we compute the noisy expectation value of the target circuit."
   ]
  },
  {
   "cell_type": "code",
   "execution_count": 86,
   "metadata": {},
   "outputs": [
    {
     "name": "stdout",
     "output_type": "stream",
     "text": [
      "noisy_target_exp_value: -1.977800737593086\n",
      "corrected_target_exp_value: -2.0561353278132177\n",
      "exact target energy: -2.0900233276318874\n"
     ]
    }
   ],
   "source": [
    "noisy_target_exp_value = noisy_expectation_values(ansatz, [ansatz.target_circuit], [ansatz.repartition],target = true)[1]\n",
    "println(\"noisy_target_exp_value: \", noisy_target_exp_value)\n",
    "corrected_target_exp_value = cdr(noisy_target_exp_value)\n",
    "println(\"corrected_target_exp_value: \", corrected_target_exp_value)\n",
    "println(\"exact target energy: \", target_closed_lossfunction(opt_thetas_target)/ansatz.nqubits)"
   ]
  }
 ],
 "metadata": {
  "kernelspec": {
   "display_name": "Julia 1.11.3",
   "language": "julia",
   "name": "julia-1.11"
  },
  "language_info": {
   "file_extension": ".jl",
   "mimetype": "application/julia",
   "name": "julia",
   "version": "1.11.3"
  }
 },
 "nbformat": 4,
 "nbformat_minor": 2
}
