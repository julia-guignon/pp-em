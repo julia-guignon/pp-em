{
 "cells": [
  {
   "cell_type": "code",
   "execution_count": null,
   "metadata": {},
   "outputs": [],
   "source": [
    "using PauliPropagation\n",
    "using Random\n",
    "using Optim\n",
    "using Plots\n",
    "Random.seed!(43)\n",
    "using ReverseDiff: GradientTape, gradient!, compile, gradient\n",
    "using LinearAlgebra\n",
    "using StatsBase "
   ]
  },
  {
   "cell_type": "markdown",
   "metadata": {},
   "source": [
    "# Functions and Struct "
   ]
  },
  {
   "cell_type": "markdown",
   "metadata": {},
   "source": [
    "### Struct for QAOA ansatz\n",
    "- Important: We need a closure on the `fulllossfunction` once our problem is defined!!"
   ]
  },
  {
   "cell_type": "code",
   "execution_count": null,
   "metadata": {},
   "outputs": [],
   "source": [
    "struct QAOA_ansatz\n",
    "    #circuit details\n",
    "    target_circuit::Vector{Gate}\n",
    "    nqubits::Integer\n",
    "    nlayers::Integer\n",
    "    topology::Vector{Tuple{Int64, Int64}}\n",
    "    repartition::Vector{Vector{Integer}}\n",
    "end"
   ]
  },
  {
   "cell_type": "code",
   "execution_count": null,
   "metadata": {},
   "outputs": [],
   "source": [
    "function qaoa_setup(nqubits::Int, nlayers::Int, repartition::Vector{Vector{Int}}; topology=nothing)\n",
    "\n",
    "    target_circuit, topology = tfimqaoacircuit(nqubits, nlayers; topology=topology)\n",
    "    println(\"type of topology: \",typeof(topology))\n",
    "    println(\"topology: \", topology)\n",
    "    result = QAOA_ansatz(target_circuit, nqubits, nlayers,topology,repartition)\n",
    "    return result\n",
    "end"
   ]
  },
  {
   "cell_type": "markdown",
   "metadata": {},
   "source": [
    "## Functions\n",
    "- Circuit QAOA\n",
    "- Parameter assignment for target and proposal circuits\n",
    "- Loss function\n",
    "- Gradient descent\n",
    "- Initial mcmc circuit\n",
    "- Proposal mcmc circuit\n",
    "- MH algorithm"
   ]
  },
  {
   "cell_type": "code",
   "execution_count": null,
   "metadata": {},
   "outputs": [],
   "source": [
    "#QAOA circuit (Fig 10)\n",
    "function tfimqaoacircuit(nqubits::Integer, nlayers::Integer; topology=nothing)\n",
    "    circuit::Vector{Gate} = []\n",
    "\n",
    "    if isnothing(topology)\n",
    "        topology = bricklayertopology(nqubits;periodic=false) #chain with obc\n",
    "    end\n",
    "\n",
    "    for i in 1:nlayers\n",
    "        rzzlayer!(circuit, topology)\n",
    "        for qubit in 1:nqubits\n",
    "            push!(circuit, CliffordGate(:S, qubit))\n",
    "            push!(circuit, PauliRotation(:X, qubit, π/2)) # Fig 10: P=R_X(π/2)\n",
    "            push!(circuit, PauliRotation(:Z, qubit))\n",
    "            push!(circuit, PauliRotation(:X, qubit, π/2))\n",
    "            push!(circuit, CliffordGate(:S, qubit))\n",
    "\n",
    "        end\n",
    "    end\n",
    "    return circuit, topology\n",
    "end"
   ]
  },
  {
   "cell_type": "code",
   "execution_count": null,
   "metadata": {},
   "outputs": [],
   "source": [
    "function repartition_function(nqubits, nlayers) #qaoa repartition function\n",
    "    repartition = Vector{Vector{Int}}()\n",
    "    idx = 1\n",
    "    for i in 1:nlayers\n",
    "            push!(repartition, collect(idx:idx + (nqubits - 2)))  # First nqubits-1 indices\n",
    "            idx += (nqubits - 1)\n",
    "            push!(repartition, collect(idx:idx + nqubits - 1))  # Next nqubits indices\n",
    "            idx += nqubits\n",
    "        \n",
    "    end\n",
    "    return repartition\n",
    "end"
   ]
  },
  {
   "cell_type": "code",
   "execution_count": null,
   "metadata": {},
   "outputs": [],
   "source": [
    "function constrain_params(thetas, repartition)\n",
    "    for r in repartition\n",
    "        for q in r\n",
    "            thetas[q] = thetas[r[1]]\n",
    "        end\n",
    "    end\n",
    "    return thetas\n",
    "end"
   ]
  },
  {
   "cell_type": "code",
   "execution_count": null,
   "metadata": {},
   "outputs": [],
   "source": [
    "function fulllossfunction(thetas,proposal_circuit,ansatz::QAOA_ansatz;g = -2.0, max_freq=Inf, max_weight=Inf)\n",
    "\n",
    "    type_of_coeff = eltype(thetas)\n",
    "    H = PauliSum(ansatz.nqubits, type_of_coeff)\n",
    "    for qind in 1:(ansatz.nqubits)\n",
    "        add!(H, :X, qind, type_of_coeff(g))\n",
    "    end\n",
    "    for pair in ansatz.topology\n",
    "        add!(H, [:Z, :Z], collect(pair), type_of_coeff(1.0))\n",
    "    end\n",
    "    \n",
    "    wrapped_H = wrapcoefficients(H, PauliFreqTracker) #wrap to keep track of path splitting\n",
    "\n",
    "    # We also need to run the in-place version with `!`, because by default we copy the Pauli sum\n",
    "    wrapped_H = propagate!(proposal_circuit, wrapped_H, thetas; max_freq, max_weight);\n",
    "\n",
    "    # MR: Shouldn't this be plus for QAOA?\n",
    "    return overlapwithplus(wrapped_H)\n",
    "end"
   ]
  },
  {
   "cell_type": "code",
   "execution_count": null,
   "metadata": {},
   "outputs": [],
   "source": [
    "function gd(thetas_init,closed_lossfunction, ansatz; repartition=nothing, eta=0.1, steps=100)\n",
    "    \n",
    "    if repartition == nothing\n",
    "        repartition = ansatz.repartition\n",
    "    end\n",
    "\n",
    "    # some inputs and work buffer to play around with\n",
    "    grad_array_compiled = similar(thetas_init);\n",
    "\n",
    "    # pre-record a GradientTape for `gradsimulation` using inputs of length m with Float64 elements\n",
    "    \n",
    "    simulation_tape = GradientTape(closed_lossfunction, thetas_init)\n",
    "    compiled_simulation_tape = compile(simulation_tape)\n",
    "\n",
    "    opt_energy_gd = []\n",
    "    thetas = thetas_init\n",
    "    for i in 1:steps \n",
    "        gradient!(grad_array_compiled, simulation_tape, thetas)\n",
    "        thetas .-= eta * grad_array_compiled\n",
    "        constrain_params(thetas, repartition)\n",
    "        opt_energy_gd = push!(opt_energy_gd, closed_lossfunction(thetas)/ansatz.nqubits)\n",
    "    end\n",
    "\n",
    "    return thetas, opt_energy_gd\n",
    "end"
   ]
  },
  {
   "cell_type": "code",
   "execution_count": null,
   "metadata": {},
   "outputs": [],
   "source": [
    "#repartition (defines which parameterized gates share the same values (a restriction of our ansatz) \n",
    "function repartition_proposal_circuit(nparams::Int, rzz_indices::Vector{Int}, rz_indices::Vector{Int})\n",
    "    result = Vector{Vector{Int}}()\n",
    "    tmp = []\n",
    "\n",
    "    idx_rzz, idx_rz = 1, 1\n",
    "    len_rzz, len_rz = length(rzz_indices), length(rz_indices)\n",
    "\n",
    "    for i in 1:nparams\n",
    "        if idx_rzz <= len_rzz && rzz_indices[idx_rzz] == i # && logical and\n",
    "            push!(tmp, i)\n",
    "            idx_rzz += 1\n",
    "            if idx_rzz > len_rzz || rzz_indices[idx_rzz] != i + 1 # || logical or\n",
    "                push!(result, tmp)\n",
    "                tmp = []\n",
    "            end\n",
    "        elseif idx_rz <= len_rz && rz_indices[idx_rz] == i\n",
    "            push!(tmp, i)\n",
    "            idx_rz += 1\n",
    "            if idx_rz > len_rz || rz_indices[idx_rz] != i + 1\n",
    "                push!(result, tmp)\n",
    "                tmp = []\n",
    "            end\n",
    "        end\n",
    "    end\n",
    "    return result\n",
    "end"
   ]
  },
  {
   "cell_type": "code",
   "execution_count": null,
   "metadata": {},
   "outputs": [],
   "source": [
    "function initialize_mcmc_circuit(ansatz::QAOA_ansatz)\n",
    "    # Choose nq*nl/2 random Pauli rotations to replace with Clifford R_Z(k_p π/2) gates.\n",
    "    # The replacements are random for the whole circuit and don't repeat for each layer.\n",
    "\n",
    "    # Get indices of Pauli rotations\n",
    "    z_rot_indices = [i for i in eachindex(ansatz.target_circuit) if isa(ansatz.target_circuit[i], PauliRotation)]\n",
    "\n",
    "    num_to_replace = div(ansatz.nqubits * ansatz.nlayers, 2)\n",
    "    Random.shuffle!(z_rot_indices)\n",
    "    indices_replaced = z_rot_indices[1:num_to_replace]\n",
    "\n",
    "    # Extract qubit indices for gates to be replaced\n",
    "    qubits = [ansatz.target_circuit[i].qinds for i in indices_replaced]\n",
    "\n",
    "\n",
    "    # Create a modified circuit\n",
    "    new_circuit = copy(ansatz.target_circuit)\n",
    "\n",
    "    # Replace selected R_Z rotations with Clifford R_Z(k_p π/2)\n",
    "    for (j, i) in enumerate(indices_replaced)\n",
    "        k_p = rand(0:3)  ### Randomly select k_p from {0,1,2,3} ( NO CLEAR INDICATION in the paper)\n",
    "        if length(qubits[j]) == 1\n",
    "            new_circuit[i] = PauliRotation(:Z, qubits[j], k_p * π/2)  # Replace with Clifford rotation\n",
    "        else\n",
    "            new_circuit[i] = PauliRotation([:Z, :Z], qubits[j], k_p * π/2)  # Replace with Clifford rotation\n",
    "        end\n",
    "    end\n",
    "\n",
    "    return new_circuit, indices_replaced\n",
    "end"
   ]
  },
  {
   "cell_type": "code",
   "execution_count": null,
   "metadata": {},
   "outputs": [],
   "source": [
    "function proposal_tfimqaoacircuit(ansatz::QAOA_ansatz,current_circuit::Vector{Gate},current_replaced_indices::Vector{Int},thetas::Vector{Float64},npairs::Integer=2)    \n",
    "    # Identify all Pauli Z rotations in the circuit (includes RZZ) (Pauli Z are only the non-Cifford's here)\n",
    "    proposal_circuit = deepcopy(current_circuit)\n",
    "    z_rot_indices = [i for i in eachindex(proposal_circuit) if isa(proposal_circuit[i], PauliRotation)]\n",
    "\n",
    "    #println(\"Z rotation indices (Non-Cliffords): \", z_rot_indices)\n",
    "    #println(\"Indices replaced (Frozen Z rotations (Cliffords)): \", current_replaced_indices)  \n",
    "    # Ensure we have enough pairs\n",
    "    if length(current_replaced_indices) < npairs\n",
    "        error(\"Not enough frozen Pauli rotations in the initialized MCMC circuit to select the value of pairs.\")\n",
    "    end\n",
    "\n",
    "    # Shuffle and select n_p pairs\n",
    "    Random.shuffle!(z_rot_indices)\n",
    "    Random.shuffle!(current_replaced_indices)\n",
    "    selected_pairs = [(z_rot_indices[i], current_replaced_indices[i]) for i in 1:npairs] \n",
    "    \n",
    "    #println(\"Selected pairs of Cliff. and non-Clifford: \", selected_pairs) \n",
    "    #println(\"Circuit before replacement: \", proposal_circuit)\n",
    "\n",
    "    function compute_distance(alpha, n)\n",
    "        Pauli_z = [1 0; 0 -1]\n",
    "        S_n = exp(-im * n * π / 2 * Pauli_z)\n",
    "        Rz_alpha = exp(-im * alpha * Pauli_z/2)\n",
    "        return LinearAlgebra.norm(Rz_alpha - S_n)\n",
    "    end\n",
    "    \n",
    "    # Define probability distribution function\n",
    "    function sample_kn(alpha)\n",
    "        sigma = 0.5\n",
    "        n_vals =LinRange(0,7,8) # limit n values (they repeat after 2 pi)\n",
    "        distances = [compute_distance(alpha, n) for n in n_vals]\n",
    "        weights = exp.(-distances.^2 ./ sigma^2)\n",
    "        probs = ProbabilityWeights(weights ./ sum(weights)) \n",
    "\n",
    "        return first(StatsBase.sample(n_vals,probs,1))  # Sample from the distribution (using StatsBase)\n",
    "    end\n",
    "\n",
    "    #the thetas are the optimized ones from the target circuit\n",
    "    function get_alpha(qubits, thetas, repartition)\n",
    "        # allows to break from nested loops\n",
    "        function find_alpha()\n",
    "            found = false\n",
    "            alpha = 0\n",
    "            for k in qubits\n",
    "                for (i, r) in enumerate(repartition)\n",
    "                    for q in r\n",
    "                        if q==k\n",
    "                            alpha = thetas[i]\n",
    "                            found = true\n",
    "                            return alpha, found\n",
    "                        end\n",
    "                    end\n",
    "                end\n",
    "            end\n",
    "            return alpha, found\n",
    "        end\n",
    "\n",
    "        alpha, found = find_alpha()\n",
    "        if !found\n",
    "            throw(\"qubits $qubits not found in repartition\")\n",
    "        else\n",
    "            return alpha\n",
    "        end\n",
    "    end\n",
    "\n",
    "    #choose left element of each pair and replace with Clifford gate S^n,sample n\n",
    "    for (i, j) in selected_pairs\n",
    "        qubits = proposal_circuit[i].qinds\n",
    "        \n",
    "        alpha = get_alpha(qubits, thetas, ansatz.repartition)\n",
    "        \n",
    "        k_p = sample_kn(alpha)\n",
    "        # print(k_p) # SEE BELOW: we need to sample from eq 14\n",
    "        if length(qubits) == 1\n",
    "            proposal_circuit[i] = PauliRotation(:Z, qubits, k_p * π/2)  # Replace with Clifford rotation\n",
    "        else\n",
    "            proposal_circuit[i] = PauliRotation([:Z, :Z], qubits, k_p * π/2)  # Replace with Clifford rotation\n",
    "        end\n",
    "    end\n",
    "\n",
    "\n",
    "    #then reset the right element (Clifford, FrozenGate[PauliRotation]]) to the one of the target circuit\n",
    "    for (i, j) in selected_pairs \n",
    "        qubits = proposal_circuit[j].gate.qinds\n",
    "        proposal_circuit[j] = ansatz.target_circuit[j] \n",
    "    end\n",
    "    \n",
    "    #update the replaced indices\n",
    "    updated_replaced_indices = setdiff(current_replaced_indices, [j for (_, j) in selected_pairs])\n",
    "    append!(updated_replaced_indices, [i for (i, _) in selected_pairs])\n",
    "\n",
    "    return proposal_circuit, updated_replaced_indices\n",
    "end"
   ]
  },
  {
   "cell_type": "markdown",
   "metadata": {},
   "source": [
    "## CDR example\n",
    "First, we define the immutable struct `QAOA_ansatz` as we will need these parameters throughout the calculation"
   ]
  },
  {
   "cell_type": "code",
   "execution_count": null,
   "metadata": {},
   "outputs": [],
   "source": [
    "nq = 6\n",
    "nl = 2\n",
    "repartition = repartition_function(nq,nl)\n",
    "ansatz =  qaoa_setup(nq,nl,repartition);"
   ]
  },
  {
   "cell_type": "markdown",
   "metadata": {},
   "source": [
    "We run an optimization (gradient descent) of the target circuit (this is not necessarily possible). We do need the optimized target circuit for the alphas of eq. 14 (to generate close MCMC proposals to the target circuit), so if we can't calculate this we need to look for an alternative."
   ]
  },
  {
   "cell_type": "code",
   "execution_count": null,
   "metadata": {},
   "outputs": [],
   "source": [
    "thetas_init = rand((2*ansatz.nqubits-1)*ansatz.nlayers) \n",
    "thetas_init = constrain_params(thetas_init, repartition);"
   ]
  },
  {
   "cell_type": "code",
   "execution_count": null,
   "metadata": {},
   "outputs": [],
   "source": [
    "max_freq = 30\n",
    "max_weight = 5"
   ]
  },
  {
   "cell_type": "markdown",
   "metadata": {},
   "source": [
    "Now that the system and truncations is defined, we can define a closure of the loss function and do the energy minimisation."
   ]
  },
  {
   "cell_type": "code",
   "execution_count": null,
   "metadata": {},
   "outputs": [],
   "source": [
    "target_closed_lossfunction = let const_prop_circuit = ansatz.target_circuit, const_ansatz = ansatz, const_max_freq=max_freq, const_max_weight=max_weight\n",
    "    # these are now all captured variables with known types and we return a function that only takes thetas s.t. ReverseDiff works\n",
    "    # See also \"closures\"\n",
    "    thetas -> fulllossfunction(thetas, const_ansatz.target_circuit, const_ansatz; max_freq=const_max_freq, max_weight=const_max_weight)\n",
    "end\n",
    "\n",
    "opt_thetas_target, opt_energy_gd = gd(thetas_init, target_closed_lossfunction, ansatz)\n",
    "println(opt_energy_gd[end])\n",
    "println(ansatz.target_circuit,target_closed_lossfunction(opt_thetas_target)/ansatz.nqubits) #the closed loss function only takes one argument, thetas\n",
    "plot(opt_energy_gd)\n",
    "plot!(title = \"Energy optimisation with GD\", xlabel = \"runs of GD\", ylabel = \"E/Q\")"
   ]
  },
  {
   "cell_type": "markdown",
   "metadata": {},
   "source": [
    "## MCMC\n",
    "Now that we have the alphas (eq 14) from the target circuit, we can run MCMC to get the set of classically efficiently simulable states $S_{\\psi} =\\{|\\phi_i>\\}$."
   ]
  },
  {
   "cell_type": "code",
   "execution_count": null,
   "metadata": {},
   "outputs": [],
   "source": [
    "function MCMC(ansatz::QAOA_ansatz,thetas::Vector{Float64};num_acc_samples::Integer = 10,burn_in_samples =10,n_sweeps::Integer =5, npairs::Integer=2, x_sigma::Float64=0.05,x_0::Float64 =-2.1, max_freq=30, max_weight=5)\n",
    "    \n",
    "    #init the MCMC (we set a certain number of Pauli rotations to Clifford gates)\n",
    "    initial_circuit, initial_replaced_indices = initialize_mcmc_circuit(ansatz)\n",
    "    n_accepted = 0 \n",
    "    \n",
    "    current_circuit = deepcopy(initial_circuit)\n",
    "    current_replaced_indices = deepcopy(initial_replaced_indices)\n",
    "    \n",
    "    acceptance_rates = []\n",
    "    acc_samples = []\n",
    "    exact_energies = []\n",
    "    i = 0\n",
    "\n",
    "    while n_accepted<num_acc_samples \n",
    "        i += 1\n",
    "        proposal_circuit, updated_replaced_indices = proposal_tfimqaoacircuit(ansatz, current_circuit, current_replaced_indices,thetas, npairs) \n",
    "        rzz_indices = getparameterindices(proposal_circuit, PauliRotation, [:Z, :Z])\n",
    "        rz_indices = getparameterindices(proposal_circuit, PauliRotation, [:Z])\n",
    "        nparams = countparameters(proposal_circuit)\n",
    "        repartition = repartition_proposal_circuit(nparams, rzz_indices, rz_indices)\n",
    "        thetas_init_prop = rand((2*ansatz.nqubits-1)*ansatz.nlayers-2*npairs)\n",
    "        thetas_init_prop = constrain_params(thetas_init_prop, repartition)\n",
    "\n",
    "        closed_lossfunction = let const_prop_circuit = proposal_circuit ,const_ansatz = ansatz, const_max_freq=max_freq, const_max_weight=max_weight \n",
    "            # these are now all captured variables with known types and we return a function that only takes thetas s.t. ReverseDiff works\n",
    "            # See also \"closures\"\n",
    "            theta -> fulllossfunction(theta, const_prop_circuit,const_ansatz; max_freq=const_max_freq, max_weight=const_max_weight)\n",
    "        end\n",
    "\n",
    "        #we need to specify we are using a different repartition now!\n",
    "        x_exact = gd(thetas_init_prop,closed_lossfunction,ansatz;repartition = repartition)[2][end]\n",
    "\n",
    "        #acceptance ratio\n",
    "        acc_ratio = min(1,exp(-(x_exact-x_0)^2/(x_sigma^2)))\n",
    "        if rand() < acc_ratio\n",
    "            current_circuit = deepcopy(proposal_circuit)\n",
    "            current_replaced_indices = deepcopy(updated_replaced_indices)\n",
    "        end\n",
    "\n",
    "        #only record after burn-in\n",
    "        #only record every n_th sample (n_sweeps)\n",
    "        if i > burn_in_samples\n",
    "            if i%n_sweeps == 0\n",
    "                n_accepted += 1\n",
    "                acceptance_rate = n_accepted*n_sweeps/i\n",
    "                push!(acc_samples, current_circuit)\n",
    "                push!(exact_energies, x_exact)\n",
    "                push!(acceptance_rates,acceptance_rate)\n",
    "            end\n",
    "        end\n",
    "    \n",
    "    end\n",
    "\n",
    "return acc_samples,exact_energies,acceptance_rates\n",
    "\n",
    "end"
   ]
  },
  {
   "cell_type": "code",
   "execution_count": null,
   "metadata": {},
   "outputs": [],
   "source": [
    "acc_samples, exact_energies, acceptance_rates = MCMC(ansatz,opt_thetas_target; n_sweeps = 2)"
   ]
  },
  {
   "cell_type": "code",
   "execution_count": null,
   "metadata": {},
   "outputs": [],
   "source": [
    "println(\"acceptance rates: \", acceptance_rates) \n",
    "plot(acceptance_rates)\n",
    "plot!(title = \"Acceptance rates\", xlabel = \"recorded samples of MCMC\", ylabel = \"Acceptance rate\")"
   ]
  },
  {
   "cell_type": "markdown",
   "metadata": {},
   "source": [
    "## CDR\n",
    "- we have generated a set of classically efficiently simulable states $S_{\\psi} =\\{|\\phi_i>\\}$, so we now have our list of ground state energies and the corresponding circuits for the correction (i.e $X_{\\phi_i}^{exact}$)\n",
    "- we now add some global noise to our training set circuits using the PP noise module to get our $X_{\\phi_i}^{noisy}$\n"
   ]
  }
 ],
 "metadata": {
  "kernelspec": {
   "display_name": "Julia 1.11.3",
   "language": "julia",
   "name": "julia-1.11"
  },
  "language_info": {
   "file_extension": ".jl",
   "mimetype": "application/julia",
   "name": "julia",
   "version": "1.11.3"
  }
 },
 "nbformat": 4,
 "nbformat_minor": 2
}
