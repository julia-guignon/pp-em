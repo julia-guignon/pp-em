{
 "cells": [
  {
   "cell_type": "code",
   "execution_count": 1,
   "metadata": {},
   "outputs": [],
   "source": [
    "using PauliPropagation\n",
    "using Random\n",
    "using Optim\n",
    "using Plots\n",
    "Random.seed!(43)\n",
    "using ReverseDiff: GradientTape, gradient!, compile, gradient\n",
    "using LinearAlgebra\n",
    "using StatsBase \n",
    "using GLM\n",
    "using DataFrames"
   ]
  },
  {
   "cell_type": "markdown",
   "metadata": {},
   "source": [
    "# Functions and Struct "
   ]
  },
  {
   "cell_type": "markdown",
   "metadata": {},
   "source": [
    "## Struct for QAOA ansatz\n"
   ]
  },
  {
   "cell_type": "code",
   "execution_count": 2,
   "metadata": {},
   "outputs": [],
   "source": [
    "struct QAOA_ansatz\n",
    "    #circuit details\n",
    "    target_circuit::Vector{Gate}\n",
    "    nqubits::Integer\n",
    "    nlayers::Integer\n",
    "    topology::Vector{Tuple{Int64, Int64}}\n",
    "    repartition::Vector{Vector{Integer}}\n",
    "end"
   ]
  },
  {
   "cell_type": "code",
   "execution_count": 3,
   "metadata": {},
   "outputs": [
    {
     "data": {
      "text/plain": [
       "qaoa_setup (generic function with 1 method)"
      ]
     },
     "metadata": {},
     "output_type": "display_data"
    }
   ],
   "source": [
    "function qaoa_setup(nqubits::Int, nlayers::Int, repartition::Vector{Vector{Int}}; topology=nothing)\n",
    "\n",
    "    target_circuit, topology = tfimqaoacircuit(nqubits, nlayers; topology=topology)\n",
    "    result = QAOA_ansatz(target_circuit, nqubits, nlayers,topology,repartition)\n",
    "    return result\n",
    "end"
   ]
  },
  {
   "cell_type": "markdown",
   "metadata": {},
   "source": [
    "## Functions\n",
    "- Circuit QAOA\n",
    "- Parameter assignment for target and proposal circuits\n",
    "- Loss function\n",
    "- Gradient descent to optimize the VQA\n",
    "- Initial MCMC circuit\n",
    "- Proposal MCMC circuit\n",
    "- MH algorithm\n",
    "- Noisy expectation values"
   ]
  },
  {
   "cell_type": "code",
   "execution_count": 4,
   "metadata": {},
   "outputs": [
    {
     "data": {
      "text/plain": [
       "tfimqaoacircuit (generic function with 1 method)"
      ]
     },
     "metadata": {},
     "output_type": "display_data"
    }
   ],
   "source": [
    "#QAOA circuit (Fig 10)\n",
    "function tfimqaoacircuit(nqubits::Integer, nlayers::Integer; topology=nothing)\n",
    "    circuit::Vector{Gate} = []\n",
    "\n",
    "    if isnothing(topology)\n",
    "        topology = bricklayertopology(nqubits;periodic=false) #chain with obc\n",
    "    end\n",
    "\n",
    "    for i in 1:nlayers\n",
    "        rzzlayer!(circuit, topology)\n",
    "        for qubit in 1:nqubits\n",
    "            push!(circuit, CliffordGate(:S, qubit))\n",
    "            push!(circuit, PauliRotation(:X, qubit, π/2)) # Fig 10: P=R_X(π/2)\n",
    "            push!(circuit, PauliRotation(:Z, qubit))\n",
    "            push!(circuit, PauliRotation(:X, qubit, π/2))\n",
    "            push!(circuit, CliffordGate(:S, qubit))\n",
    "\n",
    "        end\n",
    "    end\n",
    "    return circuit, topology\n",
    "end"
   ]
  },
  {
   "cell_type": "code",
   "execution_count": 5,
   "metadata": {},
   "outputs": [
    {
     "data": {
      "text/plain": [
       "repartition_function_QAOA (generic function with 1 method)"
      ]
     },
     "metadata": {},
     "output_type": "display_data"
    }
   ],
   "source": [
    "function repartition_function_QAOA(nqubits, nlayers) #qaoa repartition function\n",
    "    repartition = Vector{Vector{Int}}()\n",
    "    idx = 1\n",
    "    for i in 1:nlayers\n",
    "            push!(repartition, collect(idx:idx + (nqubits - 2)))  # First nqubits-1 indices\n",
    "            idx += (nqubits - 1)\n",
    "            push!(repartition, collect(idx:idx + nqubits - 1))  # Next nqubits indices\n",
    "            idx += nqubits\n",
    "        \n",
    "    end\n",
    "    return repartition\n",
    "end"
   ]
  },
  {
   "cell_type": "code",
   "execution_count": 6,
   "metadata": {},
   "outputs": [
    {
     "data": {
      "text/plain": [
       "constrain_params (generic function with 1 method)"
      ]
     },
     "metadata": {},
     "output_type": "display_data"
    }
   ],
   "source": [
    "function constrain_params(thetas, repartition)\n",
    "    for r in repartition\n",
    "        for q in r\n",
    "            thetas[q] = thetas[r[1]]\n",
    "        end\n",
    "    end\n",
    "    return thetas\n",
    "end"
   ]
  },
  {
   "cell_type": "code",
   "execution_count": 7,
   "metadata": {},
   "outputs": [
    {
     "data": {
      "text/plain": [
       "fulllossfunction (generic function with 1 method)"
      ]
     },
     "metadata": {},
     "output_type": "display_data"
    }
   ],
   "source": [
    "function fulllossfunction(thetas,proposal_circuit,ansatz::QAOA_ansatz;g = -2.0, max_freq=Inf, max_weight=Inf)\n",
    "\n",
    "    type_of_coeff = eltype(thetas)\n",
    "    H = PauliSum(ansatz.nqubits, type_of_coeff)\n",
    "    for qind in 1:(ansatz.nqubits)\n",
    "        add!(H, :X, qind, type_of_coeff(g))\n",
    "    end\n",
    "    for pair in ansatz.topology\n",
    "        add!(H, [:Z, :Z], collect(pair), type_of_coeff(1.0))\n",
    "    end\n",
    "    \n",
    "    wrapped_H = wrapcoefficients(H, PauliFreqTracker) #wrap to keep track of path splitting\n",
    "\n",
    "    # We also need to run the in-place version with `!`, because by default we copy the Pauli sum\n",
    "    wrapped_H = propagate!(proposal_circuit, wrapped_H, thetas; max_freq, max_weight);\n",
    "\n",
    "    # MR: Shouldn't this be plus for QAOA?\n",
    "    return overlapwithplus(wrapped_H)\n",
    "end"
   ]
  },
  {
   "cell_type": "code",
   "execution_count": 8,
   "metadata": {},
   "outputs": [
    {
     "data": {
      "text/plain": [
       "gd (generic function with 1 method)"
      ]
     },
     "metadata": {},
     "output_type": "display_data"
    }
   ],
   "source": [
    "function gd(thetas_init,closed_lossfunction, ansatz; repartition=nothing, eta=0.1, steps=100)\n",
    "    \n",
    "    if repartition == nothing\n",
    "        repartition = ansatz.repartition\n",
    "    end\n",
    "\n",
    "    # some inputs and work buffer to play around with\n",
    "    grad_array_compiled = similar(thetas_init);\n",
    "\n",
    "    # pre-record a GradientTape for `gradsimulation` using inputs of length m with Float64 elements\n",
    "    \n",
    "    simulation_tape = GradientTape(closed_lossfunction, thetas_init)\n",
    "    compiled_simulation_tape = compile(simulation_tape)\n",
    "\n",
    "    opt_energy_gd = []\n",
    "    thetas = thetas_init\n",
    "    for i in 1:steps \n",
    "        gradient!(grad_array_compiled, simulation_tape, thetas)\n",
    "        thetas .-= eta * grad_array_compiled\n",
    "        constrain_params(thetas, repartition)\n",
    "        opt_energy_gd = push!(opt_energy_gd, closed_lossfunction(thetas)/ansatz.nqubits)\n",
    "    end\n",
    "\n",
    "    return thetas, opt_energy_gd\n",
    "end"
   ]
  },
  {
   "cell_type": "code",
   "execution_count": 9,
   "metadata": {},
   "outputs": [
    {
     "data": {
      "text/plain": [
       "repartition_function_proposal (generic function with 1 method)"
      ]
     },
     "metadata": {},
     "output_type": "display_data"
    }
   ],
   "source": [
    "#repartition (defines which parameterized gates share the same values (a restriction of our ansatz) \n",
    "function repartition_function_proposal(nparams::Int, rzz_indices::Vector{Int}, rz_indices::Vector{Int})\n",
    "    result = Vector{Vector{Int}}()\n",
    "    tmp = []\n",
    "\n",
    "    idx_rzz, idx_rz = 1, 1\n",
    "    len_rzz, len_rz = length(rzz_indices), length(rz_indices)\n",
    "\n",
    "    for i in 1:nparams\n",
    "        if idx_rzz <= len_rzz && rzz_indices[idx_rzz] == i # && logical and\n",
    "            push!(tmp, i)\n",
    "            idx_rzz += 1\n",
    "            if idx_rzz > len_rzz || rzz_indices[idx_rzz] != i + 1 # || logical or\n",
    "                push!(result, tmp)\n",
    "                tmp = []\n",
    "            end\n",
    "        elseif idx_rz <= len_rz && rz_indices[idx_rz] == i\n",
    "            push!(tmp, i)\n",
    "            idx_rz += 1\n",
    "            if idx_rz > len_rz || rz_indices[idx_rz] != i + 1\n",
    "                push!(result, tmp)\n",
    "                tmp = []\n",
    "            end\n",
    "        end\n",
    "    end\n",
    "    return result\n",
    "end"
   ]
  },
  {
   "cell_type": "code",
   "execution_count": 10,
   "metadata": {},
   "outputs": [
    {
     "data": {
      "text/plain": [
       "initialize_mcmc_circuit (generic function with 1 method)"
      ]
     },
     "metadata": {},
     "output_type": "display_data"
    }
   ],
   "source": [
    "function initialize_mcmc_circuit(ansatz::QAOA_ansatz;num_gates_to_replace = nothing)\n",
    "    \n",
    "    if num_gates_to_replace == nothing\n",
    "        num_gates_to_replace = div(ansatz.nqubits * ansatz.nlayers, 2)\n",
    "    end\n",
    "    # Choose nq*nl/2 random Pauli rotations to replace with Clifford R_Z(k_p π/2) gates.\n",
    "    # The replacements are random for the whole circuit and don't repeat for each layer.\n",
    "\n",
    "    # Get indices of Pauli rotations\n",
    "    z_rot_indices = [i for i in eachindex(ansatz.target_circuit) if isa(ansatz.target_circuit[i], PauliRotation)]\n",
    "    Random.shuffle!(z_rot_indices)\n",
    "    indices_replaced = z_rot_indices[1:num_gates_to_replace]\n",
    "\n",
    "    # Extract qubit indices for gates to be replaced\n",
    "    qubits = [ansatz.target_circuit[i].qinds for i in indices_replaced]\n",
    "\n",
    "\n",
    "    # Create a modified circuit\n",
    "    new_circuit = copy(ansatz.target_circuit)\n",
    "\n",
    "    # Replace selected R_Z rotations with Clifford R_Z(k_p π/2)\n",
    "    for (j, i) in enumerate(indices_replaced)\n",
    "        k_p = rand(0:3)  ### Randomly select k_p from {0,1,2,3} ( NO CLEAR INDICATION in the paper)\n",
    "        if length(qubits[j]) == 1\n",
    "            new_circuit[i] = PauliRotation(:Z, qubits[j], k_p * π/2)  # Replace with Clifford rotation\n",
    "        else\n",
    "            new_circuit[i] = PauliRotation([:Z, :Z], qubits[j], k_p * π/2)  # Replace with Clifford rotation\n",
    "        end\n",
    "    end\n",
    "\n",
    "    return new_circuit, indices_replaced\n",
    "end"
   ]
  },
  {
   "cell_type": "code",
   "execution_count": 11,
   "metadata": {},
   "outputs": [
    {
     "data": {
      "text/plain": [
       "proposal_tfimqaoacircuit (generic function with 1 method)"
      ]
     },
     "metadata": {},
     "output_type": "display_data"
    }
   ],
   "source": [
    "function proposal_tfimqaoacircuit(ansatz::QAOA_ansatz,current_circuit::Vector{Gate},current_replaced_indices::Vector{Int},target_thetas::Vector{Float64};npairs::Integer=2)    \n",
    "    # Identify all Pauli Z rotations in the circuit (includes RZZ) (Pauli Z are only the non-Cifford's here)\n",
    "    proposal_circuit = deepcopy(current_circuit)\n",
    "    z_rot_indices = [i for i in eachindex(proposal_circuit) if isa(proposal_circuit[i], PauliRotation)]\n",
    "\n",
    "    #println(\"Z rotation indices (Non-Cliffords): \", z_rot_indices)\n",
    "    #println(\"Indices replaced (Frozen Z rotations (Cliffords)): \", current_replaced_indices)  \n",
    "    # Ensure we have enough pairs\n",
    "    if length(current_replaced_indices) < npairs\n",
    "        error(\"Not enough frozen Pauli rotations in the initialized MCMC circuit to select the value of pairs.\")\n",
    "    end\n",
    "\n",
    "    # Shuffle and select n_p pairs\n",
    "    Random.shuffle!(z_rot_indices)\n",
    "    Random.shuffle!(current_replaced_indices)\n",
    "    selected_pairs = [(z_rot_indices[i], current_replaced_indices[i]) for i in 1:npairs] \n",
    "    \n",
    "    #println(\"Selected pairs of Cliff. and non-Clifford: \", selected_pairs) \n",
    "    #println(\"Circuit before replacement: \", proposal_circuit)\n",
    "\n",
    "    function compute_distance(alpha, n)\n",
    "        Pauli_z = [1 0; 0 -1]\n",
    "        S_n = exp(-im * n * π / 2 * Pauli_z)\n",
    "        Rz_alpha = exp(-im * alpha * Pauli_z/2)\n",
    "        return LinearAlgebra.norm(Rz_alpha - S_n)\n",
    "    end\n",
    "    \n",
    "    # Define probability distribution function\n",
    "    function sample_kn(alpha)\n",
    "        sigma = 0.5\n",
    "        n_vals =LinRange(0,7,8) # limit n values (they repeat after 2 pi)\n",
    "        distances = [compute_distance(alpha, n) for n in n_vals]\n",
    "        weights = exp.(-distances.^2 ./ sigma^2)\n",
    "        probs = ProbabilityWeights(weights ./ sum(weights)) \n",
    "\n",
    "        return first(StatsBase.sample(n_vals,probs,1))  # Sample from the distribution (using StatsBase)\n",
    "    end\n",
    "\n",
    "    #the thetas are the optimized ones from the target circuit\n",
    "    function get_alpha(qubits, target_thetas, repartition)\n",
    "        # allows to break from nested loops\n",
    "        function find_alpha()\n",
    "            found = false\n",
    "            alpha = 0\n",
    "            for k in qubits\n",
    "                for (i, r) in enumerate(repartition)\n",
    "                    for q in r\n",
    "                        if q==k\n",
    "                            alpha = target_thetas[i]\n",
    "                            found = true\n",
    "                            return alpha, found\n",
    "                        end\n",
    "                    end\n",
    "                end\n",
    "            end\n",
    "            return alpha, found\n",
    "        end\n",
    "\n",
    "        alpha, found = find_alpha()\n",
    "        if !found\n",
    "            throw(\"qubits $qubits not found in repartition\")\n",
    "        else\n",
    "            return alpha\n",
    "        end\n",
    "    end\n",
    "\n",
    "    #choose left element of each pair and replace with Clifford gate S^n,sample n\n",
    "    for (i, j) in selected_pairs\n",
    "        qubits = proposal_circuit[i].qinds\n",
    "        \n",
    "        alpha = get_alpha(qubits, target_thetas, ansatz.repartition)\n",
    "        \n",
    "        k_p = sample_kn(alpha)\n",
    "        # print(k_p) # SEE BELOW: we need to sample from eq 14\n",
    "        if length(qubits) == 1\n",
    "            proposal_circuit[i] = PauliRotation(:Z, qubits, k_p * π/2)  # Replace with Clifford rotation\n",
    "        else\n",
    "            proposal_circuit[i] = PauliRotation([:Z, :Z], qubits, k_p * π/2)  # Replace with Clifford rotation\n",
    "        end\n",
    "    end\n",
    "\n",
    "\n",
    "    #then reset the right element (Clifford, FrozenGate[PauliRotation]]) to the one of the target circuit\n",
    "    for (i, j) in selected_pairs \n",
    "        qubits = proposal_circuit[j].gate.qinds\n",
    "        proposal_circuit[j] = ansatz.target_circuit[j] \n",
    "    end\n",
    "    \n",
    "    #update the replaced indices\n",
    "    updated_replaced_indices = setdiff(current_replaced_indices, [j for (_, j) in selected_pairs])\n",
    "    append!(updated_replaced_indices, [i for (i, _) in selected_pairs])\n",
    "\n",
    "    return proposal_circuit, updated_replaced_indices\n",
    "end"
   ]
  },
  {
   "cell_type": "code",
   "execution_count": 12,
   "metadata": {},
   "outputs": [
    {
     "data": {
      "text/plain": [
       "MCMC (generic function with 1 method)"
      ]
     },
     "metadata": {},
     "output_type": "display_data"
    }
   ],
   "source": [
    "function MCMC(ansatz::QAOA_ansatz,thetas::Vector{Float64};num_gates_to_replace = nothing, num_acc_samples::Integer = 10,burn_in_samples =10,n_sweeps::Integer =5, npairs::Integer=2, x_sigma::Float64=0.05,x_0::Float64 =-2.1, max_freq=30, max_weight=5)\n",
    "    \n",
    "    #init the MCMC (we set a certain number of Pauli rotations to Clifford gates)\n",
    "    initial_circuit, initial_replaced_indices = initialize_mcmc_circuit(ansatz;num_gates_to_replace = num_gates_to_replace)\n",
    "    n_accepted = 0 \n",
    "    \n",
    "    current_circuit = deepcopy(initial_circuit)\n",
    "    current_replaced_indices = deepcopy(initial_replaced_indices)\n",
    "    \n",
    "    acceptance_rates = Vector{Float64}()\n",
    "    acc_samples = Vector{Vector{Gate}}()\n",
    "    exact_energies = Vector{Float64}()\n",
    "    repartition_list = []\n",
    "    i = 0\n",
    "\n",
    "    while n_accepted<num_acc_samples \n",
    "        i += 1\n",
    "        proposal_circuit, updated_replaced_indices = proposal_tfimqaoacircuit(ansatz, current_circuit, current_replaced_indices,thetas; npairs) \n",
    "        rzz_indices = getparameterindices(proposal_circuit, PauliRotation, [:Z, :Z])\n",
    "        rz_indices = getparameterindices(proposal_circuit, PauliRotation, [:Z])\n",
    "        nparams = countparameters(proposal_circuit)\n",
    "        repartition = repartition_function_proposal(nparams, rzz_indices, rz_indices)\n",
    "        if num_gates_to_replace == nothing\n",
    "            num_gates_to_replace = div(ansatz.nqubits * ansatz.nlayers, 2)\n",
    "        end\n",
    "\n",
    "        thetas_init_prop = rand((2*ansatz.nqubits-1)*ansatz.nlayers-num_gates_to_replace) #need integer division! this number of replacements is hard coded in initialize_mcmc_circuit\n",
    "        thetas_init_prop = constrain_params(thetas_init_prop, repartition)\n",
    "\n",
    "        closed_lossfunction = let const_prop_circuit = proposal_circuit ,const_ansatz = ansatz, const_max_freq=max_freq, const_max_weight=max_weight \n",
    "            # these are now all captured variables with known types and we return a function that only takes thetas s.t. ReverseDiff works\n",
    "            # See also \"closures\"\n",
    "            theta -> fulllossfunction(theta, const_prop_circuit,const_ansatz; max_freq=const_max_freq, max_weight=const_max_weight)\n",
    "        end\n",
    "\n",
    "        #we need to specify we are using a different repartition now!\n",
    "        x_exact = gd(thetas_init_prop,closed_lossfunction,ansatz;repartition = repartition)[2][end]\n",
    "\n",
    "        #acceptance ratio\n",
    "        acc_ratio = min(1,exp(-(x_exact-x_0)^2/(x_sigma^2)))\n",
    "        if rand() < acc_ratio\n",
    "            current_circuit = deepcopy(proposal_circuit)\n",
    "            current_replaced_indices = deepcopy(updated_replaced_indices)\n",
    "        end\n",
    "\n",
    "        #only record after burn-in\n",
    "        #only record every n_th sample (n_sweeps)\n",
    "        if i > burn_in_samples\n",
    "            if i%n_sweeps == 0\n",
    "                n_accepted += 1\n",
    "                acceptance_rate = n_accepted*n_sweeps/i\n",
    "                push!(acc_samples, current_circuit)\n",
    "                push!(exact_energies, x_exact)\n",
    "                push!(acceptance_rates,acceptance_rate)\n",
    "                push!(repartition_list, repartition)\n",
    "            end\n",
    "        end\n",
    "    \n",
    "    end\n",
    "\n",
    "return acc_samples,exact_energies,acceptance_rates,repartition_list\n",
    "\n",
    "end"
   ]
  },
  {
   "cell_type": "code",
   "execution_count": 13,
   "metadata": {},
   "outputs": [
    {
     "data": {
      "text/plain": [
       "noisy_expectation_values (generic function with 1 method)"
      ]
     },
     "metadata": {},
     "output_type": "display_data"
    }
   ],
   "source": [
    "function noisy_expectation_values(ansatz, acc_samples, repartition;depol_strength = 0.05, dephase_strength = 0.05, target = false)\n",
    "\n",
    "    #define the noise layer and add to every circuit\n",
    "    depol_noise_layer = [DepolarizingNoise(qind, depol_strength ) for qind in 1:ansatz.nqubits];\n",
    "\n",
    "    dephase_noise_layer = [DephasingNoise(qind, dephase_strength) for qind in 1:ansatz.nqubits];\n",
    "    \n",
    "    noisy_acc_samples = deepcopy(acc_samples)\n",
    "    for i in 1:length(noisy_acc_samples)\n",
    "        append!(noisy_acc_samples[i], depol_noise_layer)\n",
    "    end\n",
    "\n",
    "    noisy_opt_energies = Vector{Float64}()\n",
    "\n",
    "    for i in 1:length(noisy_acc_samples)\n",
    "        thetas_init = rand((2*ansatz.nqubits-1)*ansatz.nlayers-(ansatz.nqubits*ansatz.nlayers÷2))\n",
    "\n",
    "        if target == true\n",
    "            thetas_init = rand((2*ansatz.nqubits-1)*ansatz.nlayers)\n",
    "        end\n",
    "\n",
    "        #need integer division! this number of replacements is hard coded in initialize_mcmc_circuit\n",
    "        thetas_init = constrain_params(thetas_init, repartition[i])\n",
    "        noisy_closed_lossfunction = let  const_circuit = noisy_acc_samples[i], const_ansatz = ansatz, const_max_freq=max_freq, const_max_weight=max_weight\n",
    "            # these are now all captured variables with known types and we return a function that only takes thetas s.t. ReverseDiff works\n",
    "            # See also \"closures\"\n",
    "            thetas -> fulllossfunction(thetas, noisy_acc_samples[i], const_ansatz; max_freq=const_max_freq, max_weight=const_max_weight)\n",
    "        end\n",
    "        opt_thetas_noisy, opt_energy_gd_noisy = gd(thetas_init, noisy_closed_lossfunction, ansatz, repartition = repartition[i]) # need to pass repartition_MCMC!\n",
    "        noisy_opt_energies = push!(noisy_opt_energies, noisy_closed_lossfunction(opt_thetas_noisy)/ansatz.nqubits)\n",
    "    end \n",
    "    return noisy_opt_energies\n",
    "    \n",
    "end"
   ]
  },
  {
   "cell_type": "markdown",
   "metadata": {},
   "source": [
    "# Minimal example of CDR \n",
    "(Reproduction of Piotr's code but using PP instead of MPS) \\\n",
    "First, we define the immutable struct of type `QAOA_ansatz` as we will need these parameters throughout the calculation"
   ]
  },
  {
   "cell_type": "code",
   "execution_count": 52,
   "metadata": {},
   "outputs": [],
   "source": [
    "nq = 4\n",
    "nl = 2\n",
    "repartition = repartition_function_QAOA(nq,nl)\n",
    "ansatz =  qaoa_setup(nq,nl,repartition);"
   ]
  },
  {
   "cell_type": "markdown",
   "metadata": {},
   "source": [
    "### Optimization of the target circuit\n",
    "We run an optimization (gradient descent) of the target circuit (this is not necessarily possible). We need the optimized target circuit for the alphas (in eq. 14), so to generate close MCMC proposals to the target circuit. If we can't calculate this we need to look for an alternative."
   ]
  },
  {
   "cell_type": "code",
   "execution_count": 53,
   "metadata": {},
   "outputs": [],
   "source": [
    "thetas_init = rand((2*ansatz.nqubits-1)*ansatz.nlayers) \n",
    "thetas_init = constrain_params(thetas_init, repartition);"
   ]
  },
  {
   "cell_type": "code",
   "execution_count": 54,
   "metadata": {},
   "outputs": [
    {
     "data": {
      "text/plain": [
       "5"
      ]
     },
     "metadata": {},
     "output_type": "display_data"
    }
   ],
   "source": [
    "max_freq = 30\n",
    "max_weight = 5"
   ]
  },
  {
   "cell_type": "markdown",
   "metadata": {},
   "source": [
    "Now that the system and truncations is defined, we can define a closure of the loss function and do the energy minimisation."
   ]
  },
  {
   "cell_type": "code",
   "execution_count": 55,
   "metadata": {},
   "outputs": [
    {
     "name": "stdout",
     "output_type": "stream",
     "text": [
      "-2.090025785602183\n"
     ]
    }
   ],
   "source": [
    "target_closed_lossfunction = let const_prop_circuit = ansatz.target_circuit, const_ansatz = ansatz, const_max_freq=max_freq, const_max_weight=max_weight\n",
    "    # these are now all captured variables with known types and we return a function that only takes thetas s.t. ReverseDiff works\n",
    "    thetas -> fulllossfunction(thetas, const_ansatz.target_circuit, const_ansatz; max_freq=const_max_freq, max_weight=const_max_weight)\n",
    "end\n",
    "\n",
    "opt_thetas_target, opt_energy_gd = gd(thetas_init, target_closed_lossfunction, ansatz)\n",
    "println(opt_energy_gd[end])\n",
    "\n",
    "#plot(opt_energy_gd)\n",
    "#plot!(title = \"Energy optimisation with GD\", xlabel = \"runs of GD\", ylabel = \"E/Q\")"
   ]
  },
  {
   "cell_type": "markdown",
   "metadata": {},
   "source": [
    "### MCMC\n",
    "Now that we have the alphas (eq 14) from the target circuit, we can run MCMC to get the set of classically efficiently simulable states $S_{\\psi} =\\{|\\phi_i>\\}$."
   ]
  },
  {
   "cell_type": "code",
   "execution_count": 56,
   "metadata": {},
   "outputs": [],
   "source": [
    "acc_samples, exact_energies_MCMC, acceptance_rates,repartition_MCMC = MCMC(ansatz,opt_thetas_target;n_sweeps = 8,x_sigma = 0.05);"
   ]
  },
  {
   "cell_type": "code",
   "execution_count": 57,
   "metadata": {},
   "outputs": [
    {
     "data": {
      "image/png": "[encoded data removed]",
      "image/svg+xml": [
       "<?xml version=\"1.0\" encoding=\"utf-8\"?>\n",
       "<svg xmlns=\"http://www.w3.org/2000/svg\" xmlns:xlink=\"http://www.w3.org/1999/xlink\" width=\"600\" height=\"400\" viewBox=\"0 0 2400 1600\">\n",
       "<defs>\n",
       "  <clipPath id=\"clip720\">\n",
       "    <rect x=\"0\" y=\"0\" width=\"2400\" height=\"1600\"/>\n",
       "  </clipPath>\n",
       "</defs>\n",
       "<path clip-path=\"url(#clip720)\" d=\"M0 1600 L2400 1600 L2400 0 L0 0  Z\" fill=\"#ffffff\" fill-rule=\"evenodd\" fill-opacity=\"1\"/>\n",
       "<defs>\n",
       "  <clipPath id=\"clip721\">\n",
       "    <rect x=\"480\" y=\"0\" width=\"1681\" height=\"1600\"/>\n",
       "  </clipPath>\n",
       "</defs>\n",
       "<path clip-path=\"url(#clip720)\" d=\"M219.542 1423.18 L2352.76 1423.18 L2352.76 123.472 L219.542 123.472  Z\" fill=\"#ffffff\" fill-rule=\"evenodd\" fill-opacity=\"1\"/>\n",
       "<defs>\n",
       "  <clipPath id=\"clip722\">\n",
       "    <rect x=\"219\" y=\"123\" width=\"2134\" height=\"1301\"/>\n",
       "  </clipPath>\n",
       "</defs>\n",
       "<polyline clip-path=\"url(#clip722)\" style=\"stroke:#000000; stroke-linecap:round; stroke-linejoin:round; stroke-width:2; stroke-opacity:0.1; fill:none\" points=\"503.523,1423.18 503.523,123.472 \"/>\n",
       "<polyline clip-path=\"url(#clip722)\" style=\"stroke:#000000; stroke-linecap:round; stroke-linejoin:round; stroke-width:2; stroke-opacity:0.1; fill:none\" points=\"950.738,1423.18 950.738,123.472 \"/>\n",
       "<polyline clip-path=\"url(#clip722)\" style=\"stroke:#000000; stroke-linecap:round; stroke-linejoin:round; stroke-width:2; stroke-opacity:0.1; fill:none\" points=\"1397.95,1423.18 1397.95,123.472 \"/>\n",
       "<polyline clip-path=\"url(#clip722)\" style=\"stroke:#000000; stroke-linecap:round; stroke-linejoin:round; stroke-width:2; stroke-opacity:0.1; fill:none\" points=\"1845.17,1423.18 1845.17,123.472 \"/>\n",
       "<polyline clip-path=\"url(#clip722)\" style=\"stroke:#000000; stroke-linecap:round; stroke-linejoin:round; stroke-width:2; stroke-opacity:0.1; fill:none\" points=\"2292.38,1423.18 2292.38,123.472 \"/>\n",
       "<polyline clip-path=\"url(#clip722)\" style=\"stroke:#000000; stroke-linecap:round; stroke-linejoin:round; stroke-width:2; stroke-opacity:0.1; fill:none\" points=\"219.542,1386.4 2352.76,1386.4 \"/>\n",
       "<polyline clip-path=\"url(#clip722)\" style=\"stroke:#000000; stroke-linecap:round; stroke-linejoin:round; stroke-width:2; stroke-opacity:0.1; fill:none\" points=\"219.542,1086.67 2352.76,1086.67 \"/>\n",
       "<polyline clip-path=\"url(#clip722)\" style=\"stroke:#000000; stroke-linecap:round; stroke-linejoin:round; stroke-width:2; stroke-opacity:0.1; fill:none\" points=\"219.542,786.95 2352.76,786.95 \"/>\n",
       "<polyline clip-path=\"url(#clip722)\" style=\"stroke:#000000; stroke-linecap:round; stroke-linejoin:round; stroke-width:2; stroke-opacity:0.1; fill:none\" points=\"219.542,487.227 2352.76,487.227 \"/>\n",
       "<polyline clip-path=\"url(#clip722)\" style=\"stroke:#000000; stroke-linecap:round; stroke-linejoin:round; stroke-width:2; stroke-opacity:0.1; fill:none\" points=\"219.542,187.504 2352.76,187.504 \"/>\n",
       "<polyline clip-path=\"url(#clip720)\" style=\"stroke:#000000; stroke-linecap:round; stroke-linejoin:round; stroke-width:4; stroke-opacity:1; fill:none\" points=\"219.542,1423.18 2352.76,1423.18 \"/>\n",
       "<polyline clip-path=\"url(#clip720)\" style=\"stroke:#000000; stroke-linecap:round; stroke-linejoin:round; stroke-width:4; stroke-opacity:1; fill:none\" points=\"503.523,1423.18 503.523,1404.28 \"/>\n",
       "<polyline clip-path=\"url(#clip720)\" style=\"stroke:#000000; stroke-linecap:round; stroke-linejoin:round; stroke-width:4; stroke-opacity:1; fill:none\" points=\"950.738,1423.18 950.738,1404.28 \"/>\n",
       "<polyline clip-path=\"url(#clip720)\" style=\"stroke:#000000; stroke-linecap:round; stroke-linejoin:round; stroke-width:4; stroke-opacity:1; fill:none\" points=\"1397.95,1423.18 1397.95,1404.28 \"/>\n",
       "<polyline clip-path=\"url(#clip720)\" style=\"stroke:#000000; stroke-linecap:round; stroke-linejoin:round; stroke-width:4; stroke-opacity:1; fill:none\" points=\"1845.17,1423.18 1845.17,1404.28 \"/>\n",
       "<polyline clip-path=\"url(#clip720)\" style=\"stroke:#000000; stroke-linecap:round; stroke-linejoin:round; stroke-width:4; stroke-opacity:1; fill:none\" points=\"2292.38,1423.18 2292.38,1404.28 \"/>\n",
       "<path clip-path=\"url(#clip720)\" d=\"M498.176 1481.64 L514.496 1481.64 L514.496 1485.58 L492.551 1485.58 L492.551 1481.64 Q495.213 1478.89 499.797 1474.26 Q504.403 1469.61 505.584 1468.27 Q507.829 1465.74 508.709 1464.01 Q509.611 1462.25 509.611 1460.56 Q509.611 1457.8 507.667 1456.07 Q505.746 1454.33 502.644 1454.33 Q500.445 1454.33 497.991 1455.09 Q495.561 1455.86 492.783 1457.41 L492.783 1452.69 Q495.607 1451.55 498.061 1450.97 Q500.514 1450.39 502.551 1450.39 Q507.922 1450.39 511.116 1453.08 Q514.31 1455.77 514.31 1460.26 Q514.31 1462.39 513.5 1464.31 Q512.713 1466.2 510.607 1468.8 Q510.028 1469.47 506.926 1472.69 Q503.824 1475.88 498.176 1481.64 Z\" fill=\"#000000\" fill-rule=\"nonzero\" fill-opacity=\"1\" /><path clip-path=\"url(#clip720)\" d=\"M953.747 1455.09 L941.942 1473.54 L953.747 1473.54 L953.747 1455.09 M952.52 1451.02 L958.4 1451.02 L958.4 1473.54 L963.331 1473.54 L963.331 1477.43 L958.4 1477.43 L958.4 1485.58 L953.747 1485.58 L953.747 1477.43 L938.146 1477.43 L938.146 1472.92 L952.52 1451.02 Z\" fill=\"#000000\" fill-rule=\"nonzero\" fill-opacity=\"1\" /><path clip-path=\"url(#clip720)\" d=\"M1398.36 1466.44 Q1395.21 1466.44 1393.36 1468.59 Q1391.53 1470.74 1391.53 1474.49 Q1391.53 1478.22 1393.36 1480.39 Q1395.21 1482.55 1398.36 1482.55 Q1401.51 1482.55 1403.33 1480.39 Q1405.19 1478.22 1405.19 1474.49 Q1405.19 1470.74 1403.33 1468.59 Q1401.51 1466.44 1398.36 1466.44 M1407.64 1451.78 L1407.64 1456.04 Q1405.88 1455.21 1404.08 1454.77 Q1402.29 1454.33 1400.53 1454.33 Q1395.9 1454.33 1393.45 1457.45 Q1391.02 1460.58 1390.67 1466.9 Q1392.04 1464.89 1394.1 1463.82 Q1396.16 1462.73 1398.64 1462.73 Q1403.84 1462.73 1406.85 1465.9 Q1409.89 1469.05 1409.89 1474.49 Q1409.89 1479.82 1406.74 1483.03 Q1403.59 1486.25 1398.36 1486.25 Q1392.36 1486.25 1389.19 1481.67 Q1386.02 1477.06 1386.02 1468.33 Q1386.02 1460.14 1389.91 1455.28 Q1393.8 1450.39 1400.35 1450.39 Q1402.11 1450.39 1403.89 1450.74 Q1405.7 1451.09 1407.64 1451.78 Z\" fill=\"#000000\" fill-rule=\"nonzero\" fill-opacity=\"1\" /><path clip-path=\"url(#clip720)\" d=\"M1845.17 1469.17 Q1841.83 1469.17 1839.91 1470.95 Q1838.01 1472.73 1838.01 1475.86 Q1838.01 1478.98 1839.91 1480.77 Q1841.83 1482.55 1845.17 1482.55 Q1848.5 1482.55 1850.42 1480.77 Q1852.34 1478.96 1852.34 1475.86 Q1852.34 1472.73 1850.42 1470.95 Q1848.52 1469.17 1845.17 1469.17 M1840.49 1467.18 Q1837.48 1466.44 1835.79 1464.38 Q1834.13 1462.32 1834.13 1459.35 Q1834.13 1455.21 1837.07 1452.8 Q1840.03 1450.39 1845.17 1450.39 Q1850.33 1450.39 1853.27 1452.8 Q1856.21 1455.21 1856.21 1459.35 Q1856.21 1462.32 1854.52 1464.38 Q1852.85 1466.44 1849.87 1467.18 Q1853.25 1467.96 1855.12 1470.26 Q1857.02 1472.55 1857.02 1475.86 Q1857.02 1480.88 1853.94 1483.57 Q1850.88 1486.25 1845.17 1486.25 Q1839.45 1486.25 1836.37 1483.57 Q1833.32 1480.88 1833.32 1475.86 Q1833.32 1472.55 1835.21 1470.26 Q1837.11 1467.96 1840.49 1467.18 M1838.78 1459.79 Q1838.78 1462.48 1840.45 1463.98 Q1842.13 1465.49 1845.17 1465.49 Q1848.18 1465.49 1849.87 1463.98 Q1851.58 1462.48 1851.58 1459.79 Q1851.58 1457.11 1849.87 1455.6 Q1848.18 1454.1 1845.17 1454.1 Q1842.13 1454.1 1840.45 1455.6 Q1838.78 1457.11 1838.78 1459.79 Z\" fill=\"#000000\" fill-rule=\"nonzero\" fill-opacity=\"1\" /><path clip-path=\"url(#clip720)\" d=\"M2267.07 1481.64 L2274.71 1481.64 L2274.71 1455.28 L2266.4 1456.95 L2266.4 1452.69 L2274.66 1451.02 L2279.34 1451.02 L2279.34 1481.64 L2286.98 1481.64 L2286.98 1485.58 L2267.07 1485.58 L2267.07 1481.64 Z\" fill=\"#000000\" fill-rule=\"nonzero\" fill-opacity=\"1\" /><path clip-path=\"url(#clip720)\" d=\"M2306.42 1454.1 Q2302.81 1454.1 2300.98 1457.66 Q2299.18 1461.2 2299.18 1468.33 Q2299.18 1475.44 2300.98 1479.01 Q2302.81 1482.55 2306.42 1482.55 Q2310.06 1482.55 2311.86 1479.01 Q2313.69 1475.44 2313.69 1468.33 Q2313.69 1461.2 2311.86 1457.66 Q2310.06 1454.1 2306.42 1454.1 M2306.42 1450.39 Q2312.23 1450.39 2315.29 1455 Q2318.37 1459.58 2318.37 1468.33 Q2318.37 1477.06 2315.29 1481.67 Q2312.23 1486.25 2306.42 1486.25 Q2300.61 1486.25 2297.53 1481.67 Q2294.48 1477.06 2294.48 1468.33 Q2294.48 1459.58 2297.53 1455 Q2300.61 1450.39 2306.42 1450.39 Z\" fill=\"#000000\" fill-rule=\"nonzero\" fill-opacity=\"1\" /><path clip-path=\"url(#clip720)\" d=\"M867.174 1537.87 Q866.187 1537.3 865.01 1537.04 Q863.864 1536.76 862.464 1536.76 Q857.498 1536.76 854.825 1540 Q852.183 1543.22 852.183 1549.27 L852.183 1568.04 L846.295 1568.04 L846.295 1532.4 L852.183 1532.4 L852.183 1537.93 Q854.029 1534.69 856.989 1533.13 Q859.949 1531.54 864.182 1531.54 Q864.787 1531.54 865.519 1531.63 Q866.251 1531.7 867.142 1531.85 L867.174 1537.87 Z\" fill=\"#000000\" fill-rule=\"nonzero\" fill-opacity=\"1\" /><path clip-path=\"url(#clip720)\" d=\"M902.377 1548.76 L902.377 1551.62 L875.45 1551.62 Q875.832 1557.67 879.078 1560.85 Q882.356 1564 888.181 1564 Q891.555 1564 894.706 1563.17 Q897.889 1562.35 901.008 1560.69 L901.008 1566.23 Q897.857 1567.57 894.547 1568.27 Q891.237 1568.97 887.831 1568.97 Q879.301 1568.97 874.304 1564 Q869.338 1559.04 869.338 1550.57 Q869.338 1541.82 874.049 1536.69 Q878.792 1531.54 886.812 1531.54 Q894.006 1531.54 898.175 1536.18 Q902.377 1540.8 902.377 1548.76 M896.52 1547.04 Q896.456 1542.23 893.815 1539.37 Q891.205 1536.5 886.876 1536.5 Q881.974 1536.5 879.014 1539.27 Q876.086 1542.04 875.641 1547.07 L896.52 1547.04 Z\" fill=\"#000000\" fill-rule=\"nonzero\" fill-opacity=\"1\" /><path clip-path=\"url(#clip720)\" d=\"M937.643 1533.76 L937.643 1539.24 Q935.16 1537.87 932.645 1537.2 Q930.163 1536.5 927.617 1536.5 Q921.919 1536.5 918.768 1540.13 Q915.617 1543.73 915.617 1550.25 Q915.617 1556.78 918.768 1560.4 Q921.919 1564 927.617 1564 Q930.163 1564 932.645 1563.33 Q935.16 1562.63 937.643 1561.26 L937.643 1566.68 Q935.192 1567.82 932.55 1568.39 Q929.94 1568.97 926.98 1568.97 Q918.927 1568.97 914.185 1563.91 Q909.442 1558.85 909.442 1550.25 Q909.442 1541.53 914.217 1536.53 Q919.023 1531.54 927.362 1531.54 Q930.067 1531.54 932.645 1532.11 Q935.224 1532.65 937.643 1533.76 Z\" fill=\"#000000\" fill-rule=\"nonzero\" fill-opacity=\"1\" /><path clip-path=\"url(#clip720)\" d=\"M961.641 1536.5 Q956.931 1536.5 954.193 1540.19 Q951.456 1543.85 951.456 1550.25 Q951.456 1556.65 954.162 1560.34 Q956.899 1564 961.641 1564 Q966.32 1564 969.057 1560.31 Q971.795 1556.62 971.795 1550.25 Q971.795 1543.92 969.057 1540.23 Q966.32 1536.5 961.641 1536.5 M961.641 1531.54 Q969.28 1531.54 973.641 1536.5 Q978.001 1541.47 978.001 1550.25 Q978.001 1559 973.641 1564 Q969.28 1568.97 961.641 1568.97 Q953.971 1568.97 949.61 1564 Q945.281 1559 945.281 1550.25 Q945.281 1541.47 949.61 1536.5 Q953.971 1531.54 961.641 1531.54 Z\" fill=\"#000000\" fill-rule=\"nonzero\" fill-opacity=\"1\" /><path clip-path=\"url(#clip720)\" d=\"M1008.37 1537.87 Q1007.38 1537.3 1006.2 1537.04 Q1005.06 1536.76 1003.65 1536.76 Q998.69 1536.76 996.016 1540 Q993.374 1543.22 993.374 1549.27 L993.374 1568.04 L987.486 1568.04 L987.486 1532.4 L993.374 1532.4 L993.374 1537.93 Q995.22 1534.69 998.18 1533.13 Q1001.14 1531.54 1005.37 1531.54 Q1005.98 1531.54 1006.71 1531.63 Q1007.44 1531.7 1008.33 1531.85 L1008.37 1537.87 Z\" fill=\"#000000\" fill-rule=\"nonzero\" fill-opacity=\"1\" /><path clip-path=\"url(#clip720)\" d=\"M1036.82 1537.81 L1036.82 1518.52 L1042.68 1518.52 L1042.68 1568.04 L1036.82 1568.04 L1036.82 1562.7 Q1034.97 1565.88 1032.14 1567.44 Q1029.34 1568.97 1025.39 1568.97 Q1018.93 1568.97 1014.86 1563.81 Q1010.82 1558.65 1010.82 1550.25 Q1010.82 1541.85 1014.86 1536.69 Q1018.93 1531.54 1025.39 1531.54 Q1029.34 1531.54 1032.14 1533.1 Q1034.97 1534.62 1036.82 1537.81 M1016.86 1550.25 Q1016.86 1556.71 1019.51 1560.4 Q1022.18 1564.07 1026.83 1564.07 Q1031.47 1564.07 1034.15 1560.4 Q1036.82 1556.71 1036.82 1550.25 Q1036.82 1543.79 1034.15 1540.13 Q1031.47 1536.44 1026.83 1536.44 Q1022.18 1536.44 1019.51 1540.13 Q1016.86 1543.79 1016.86 1550.25 Z\" fill=\"#000000\" fill-rule=\"nonzero\" fill-opacity=\"1\" /><path clip-path=\"url(#clip720)\" d=\"M1085.23 1548.76 L1085.23 1551.62 L1058.3 1551.62 Q1058.69 1557.67 1061.93 1560.85 Q1065.21 1564 1071.04 1564 Q1074.41 1564 1077.56 1563.17 Q1080.74 1562.35 1083.86 1560.69 L1083.86 1566.23 Q1080.71 1567.57 1077.4 1568.27 Q1074.09 1568.97 1070.69 1568.97 Q1062.16 1568.97 1057.16 1564 Q1052.19 1559.04 1052.19 1550.57 Q1052.19 1541.82 1056.9 1536.69 Q1061.65 1531.54 1069.67 1531.54 Q1076.86 1531.54 1081.03 1536.18 Q1085.23 1540.8 1085.23 1548.76 M1079.37 1547.04 Q1079.31 1542.23 1076.67 1539.37 Q1074.06 1536.5 1069.73 1536.5 Q1064.83 1536.5 1061.87 1539.27 Q1058.94 1542.04 1058.5 1547.07 L1079.37 1547.04 Z\" fill=\"#000000\" fill-rule=\"nonzero\" fill-opacity=\"1\" /><path clip-path=\"url(#clip720)\" d=\"M1118.3 1537.81 L1118.3 1518.52 L1124.16 1518.52 L1124.16 1568.04 L1118.3 1568.04 L1118.3 1562.7 Q1116.46 1565.88 1113.62 1567.44 Q1110.82 1568.97 1106.87 1568.97 Q1100.41 1568.97 1096.34 1563.81 Q1092.3 1558.65 1092.3 1550.25 Q1092.3 1541.85 1096.34 1536.69 Q1100.41 1531.54 1106.87 1531.54 Q1110.82 1531.54 1113.62 1533.1 Q1116.46 1534.62 1118.3 1537.81 M1098.34 1550.25 Q1098.34 1556.71 1100.99 1560.4 Q1103.66 1564.07 1108.31 1564.07 Q1112.95 1564.07 1115.63 1560.4 Q1118.3 1556.71 1118.3 1550.25 Q1118.3 1543.79 1115.63 1540.13 Q1112.95 1536.44 1108.31 1536.44 Q1103.66 1536.44 1100.99 1540.13 Q1098.34 1543.79 1098.34 1550.25 Z\" fill=\"#000000\" fill-rule=\"nonzero\" fill-opacity=\"1\" /><path clip-path=\"url(#clip720)\" d=\"M1179.67 1533.45 L1179.67 1538.98 Q1177.18 1537.71 1174.51 1537.07 Q1171.84 1536.44 1168.97 1536.44 Q1164.61 1536.44 1162.42 1537.77 Q1160.25 1539.11 1160.25 1541.79 Q1160.25 1543.82 1161.81 1545 Q1163.37 1546.15 1168.08 1547.2 L1170.09 1547.64 Q1176.32 1548.98 1178.93 1551.43 Q1181.58 1553.85 1181.58 1558.21 Q1181.58 1563.17 1177.63 1566.07 Q1173.71 1568.97 1166.84 1568.97 Q1163.98 1568.97 1160.86 1568.39 Q1157.77 1567.85 1154.33 1566.74 L1154.33 1560.69 Q1157.58 1562.38 1160.73 1563.24 Q1163.88 1564.07 1166.97 1564.07 Q1171.1 1564.07 1173.33 1562.66 Q1175.56 1561.23 1175.56 1558.65 Q1175.56 1556.27 1173.94 1554.99 Q1172.35 1553.72 1166.9 1552.54 L1164.87 1552.07 Q1159.42 1550.92 1157 1548.56 Q1154.59 1546.18 1154.59 1542.04 Q1154.59 1537.01 1158.15 1534.27 Q1161.72 1531.54 1168.27 1531.54 Q1171.52 1531.54 1174.38 1532.01 Q1177.25 1532.49 1179.67 1533.45 Z\" fill=\"#000000\" fill-rule=\"nonzero\" fill-opacity=\"1\" /><path clip-path=\"url(#clip720)\" d=\"M1207.1 1550.12 Q1200.01 1550.12 1197.27 1551.75 Q1194.53 1553.37 1194.53 1557.29 Q1194.53 1560.4 1196.57 1562.25 Q1198.64 1564.07 1202.17 1564.07 Q1207.04 1564.07 1209.97 1560.63 Q1212.93 1557.16 1212.93 1551.43 L1212.93 1550.12 L1207.1 1550.12 M1218.78 1547.71 L1218.78 1568.04 L1212.93 1568.04 L1212.93 1562.63 Q1210.92 1565.88 1207.93 1567.44 Q1204.94 1568.97 1200.61 1568.97 Q1195.14 1568.97 1191.89 1565.91 Q1188.67 1562.82 1188.67 1557.67 Q1188.67 1551.65 1192.68 1548.6 Q1196.73 1545.54 1204.72 1545.54 L1212.93 1545.54 L1212.93 1544.97 Q1212.93 1540.93 1210.25 1538.73 Q1207.61 1536.5 1202.81 1536.5 Q1199.75 1536.5 1196.85 1537.23 Q1193.96 1537.97 1191.28 1539.43 L1191.28 1534.02 Q1194.5 1532.78 1197.52 1532.17 Q1200.55 1531.54 1203.41 1531.54 Q1211.15 1531.54 1214.96 1535.55 Q1218.78 1539.56 1218.78 1547.71 Z\" fill=\"#000000\" fill-rule=\"nonzero\" fill-opacity=\"1\" /><path clip-path=\"url(#clip720)\" d=\"M1258.6 1539.24 Q1260.8 1535.29 1263.85 1533.41 Q1266.91 1531.54 1271.05 1531.54 Q1276.62 1531.54 1279.64 1535.45 Q1282.66 1539.33 1282.66 1546.53 L1282.66 1568.04 L1276.78 1568.04 L1276.78 1546.72 Q1276.78 1541.59 1274.96 1539.11 Q1273.15 1536.63 1269.42 1536.63 Q1264.87 1536.63 1262.23 1539.65 Q1259.59 1542.68 1259.59 1547.9 L1259.59 1568.04 L1253.7 1568.04 L1253.7 1546.72 Q1253.7 1541.56 1251.89 1539.11 Q1250.07 1536.63 1246.28 1536.63 Q1241.8 1536.63 1239.15 1539.68 Q1236.51 1542.71 1236.51 1547.9 L1236.51 1568.04 L1230.62 1568.04 L1230.62 1532.4 L1236.51 1532.4 L1236.51 1537.93 Q1238.52 1534.66 1241.32 1533.1 Q1244.12 1531.54 1247.97 1531.54 Q1251.85 1531.54 1254.56 1533.51 Q1257.3 1535.48 1258.6 1539.24 Z\" fill=\"#000000\" fill-rule=\"nonzero\" fill-opacity=\"1\" /><path clip-path=\"url(#clip720)\" d=\"M1300.01 1562.7 L1300.01 1581.6 L1294.12 1581.6 L1294.12 1532.4 L1300.01 1532.4 L1300.01 1537.81 Q1301.86 1534.62 1304.66 1533.1 Q1307.49 1531.54 1311.4 1531.54 Q1317.9 1531.54 1321.94 1536.69 Q1326.01 1541.85 1326.01 1550.25 Q1326.01 1558.65 1321.94 1563.81 Q1317.9 1568.97 1311.4 1568.97 Q1307.49 1568.97 1304.66 1567.44 Q1301.86 1565.88 1300.01 1562.7 M1319.94 1550.25 Q1319.94 1543.79 1317.26 1540.13 Q1314.62 1536.44 1309.97 1536.44 Q1305.33 1536.44 1302.65 1540.13 Q1300.01 1543.79 1300.01 1550.25 Q1300.01 1556.71 1302.65 1560.4 Q1305.33 1564.07 1309.97 1564.07 Q1314.62 1564.07 1317.26 1560.4 Q1319.94 1556.71 1319.94 1550.25 Z\" fill=\"#000000\" fill-rule=\"nonzero\" fill-opacity=\"1\" /><path clip-path=\"url(#clip720)\" d=\"M1335.72 1518.52 L1341.58 1518.52 L1341.58 1568.04 L1335.72 1568.04 L1335.72 1518.52 Z\" fill=\"#000000\" fill-rule=\"nonzero\" fill-opacity=\"1\" /><path clip-path=\"url(#clip720)\" d=\"M1384.32 1548.76 L1384.32 1551.62 L1357.4 1551.62 Q1357.78 1557.67 1361.03 1560.85 Q1364.3 1564 1370.13 1564 Q1373.5 1564 1376.65 1563.17 Q1379.84 1562.35 1382.96 1560.69 L1382.96 1566.23 Q1379.8 1567.57 1376.49 1568.27 Q1373.18 1568.97 1369.78 1568.97 Q1361.25 1568.97 1356.25 1564 Q1351.29 1559.04 1351.29 1550.57 Q1351.29 1541.82 1356 1536.69 Q1360.74 1531.54 1368.76 1531.54 Q1375.95 1531.54 1380.12 1536.18 Q1384.32 1540.8 1384.32 1548.76 M1378.47 1547.04 Q1378.4 1542.23 1375.76 1539.37 Q1373.15 1536.5 1368.82 1536.5 Q1363.92 1536.5 1360.96 1539.27 Q1358.03 1542.04 1357.59 1547.07 L1378.47 1547.04 Z\" fill=\"#000000\" fill-rule=\"nonzero\" fill-opacity=\"1\" /><path clip-path=\"url(#clip720)\" d=\"M1416.66 1533.45 L1416.66 1538.98 Q1414.18 1537.71 1411.51 1537.07 Q1408.83 1536.44 1405.97 1536.44 Q1401.61 1536.44 1399.41 1537.77 Q1397.25 1539.11 1397.25 1541.79 Q1397.25 1543.82 1398.81 1545 Q1400.37 1546.15 1405.08 1547.2 L1407.08 1547.64 Q1413.32 1548.98 1415.93 1551.43 Q1418.57 1553.85 1418.57 1558.21 Q1418.57 1563.17 1414.62 1566.07 Q1410.71 1568.97 1403.84 1568.97 Q1400.97 1568.97 1397.85 1568.39 Q1394.76 1567.85 1391.33 1566.74 L1391.33 1560.69 Q1394.57 1562.38 1397.72 1563.24 Q1400.87 1564.07 1403.96 1564.07 Q1408.1 1564.07 1410.33 1562.66 Q1412.56 1561.23 1412.56 1558.65 Q1412.56 1556.27 1410.93 1554.99 Q1409.34 1553.72 1403.9 1552.54 L1401.86 1552.07 Q1396.42 1550.92 1394 1548.56 Q1391.58 1546.18 1391.58 1542.04 Q1391.58 1537.01 1395.15 1534.27 Q1398.71 1531.54 1405.27 1531.54 Q1408.51 1531.54 1411.38 1532.01 Q1414.24 1532.49 1416.66 1533.45 Z\" fill=\"#000000\" fill-rule=\"nonzero\" fill-opacity=\"1\" /><path clip-path=\"url(#clip720)\" d=\"M1462.43 1536.5 Q1457.72 1536.5 1454.98 1540.19 Q1452.25 1543.85 1452.25 1550.25 Q1452.25 1556.65 1454.95 1560.34 Q1457.69 1564 1462.43 1564 Q1467.11 1564 1469.85 1560.31 Q1472.58 1556.62 1472.58 1550.25 Q1472.58 1543.92 1469.85 1540.23 Q1467.11 1536.5 1462.43 1536.5 M1462.43 1531.54 Q1470.07 1531.54 1474.43 1536.5 Q1478.79 1541.47 1478.79 1550.25 Q1478.79 1559 1474.43 1564 Q1470.07 1568.97 1462.43 1568.97 Q1454.76 1568.97 1450.4 1564 Q1446.07 1559 1446.07 1550.25 Q1446.07 1541.47 1450.4 1536.5 Q1454.76 1531.54 1462.43 1531.54 Z\" fill=\"#000000\" fill-rule=\"nonzero\" fill-opacity=\"1\" /><path clip-path=\"url(#clip720)\" d=\"M1506.55 1518.52 L1506.55 1523.39 L1500.94 1523.39 Q1497.79 1523.39 1496.55 1524.66 Q1495.34 1525.93 1495.34 1529.24 L1495.34 1532.4 L1504.99 1532.4 L1504.99 1536.95 L1495.34 1536.95 L1495.34 1568.04 L1489.45 1568.04 L1489.45 1536.95 L1483.85 1536.95 L1483.85 1532.4 L1489.45 1532.4 L1489.45 1529.91 Q1489.45 1523.96 1492.22 1521.26 Q1494.99 1518.52 1501.01 1518.52 L1506.55 1518.52 Z\" fill=\"#000000\" fill-rule=\"nonzero\" fill-opacity=\"1\" /><path clip-path=\"url(#clip720)\" d=\"M1532.42 1520.52 L1542 1520.52 L1554.13 1552.86 L1566.32 1520.52 L1575.9 1520.52 L1575.9 1568.04 L1569.63 1568.04 L1569.63 1526.32 L1557.38 1558.91 L1550.91 1558.91 L1538.66 1526.32 L1538.66 1568.04 L1532.42 1568.04 L1532.42 1520.52 Z\" fill=\"#000000\" fill-rule=\"nonzero\" fill-opacity=\"1\" /><path clip-path=\"url(#clip720)\" d=\"M1624.25 1524.18 L1624.25 1530.96 Q1621 1527.94 1617.31 1526.44 Q1613.65 1524.95 1609.51 1524.95 Q1601.36 1524.95 1597.03 1529.95 Q1592.71 1534.91 1592.71 1544.33 Q1592.71 1553.72 1597.03 1558.72 Q1601.36 1563.68 1609.51 1563.68 Q1613.65 1563.68 1617.31 1562.19 Q1621 1560.69 1624.25 1557.67 L1624.25 1564.38 Q1620.87 1566.68 1617.09 1567.82 Q1613.33 1568.97 1609.13 1568.97 Q1598.34 1568.97 1592.13 1562.38 Q1585.93 1555.76 1585.93 1544.33 Q1585.93 1532.87 1592.13 1526.28 Q1598.34 1519.66 1609.13 1519.66 Q1613.39 1519.66 1617.15 1520.81 Q1620.94 1521.92 1624.25 1524.18 Z\" fill=\"#000000\" fill-rule=\"nonzero\" fill-opacity=\"1\" /><path clip-path=\"url(#clip720)\" d=\"M1634.18 1520.52 L1643.76 1520.52 L1655.89 1552.86 L1668.08 1520.52 L1677.66 1520.52 L1677.66 1568.04 L1671.39 1568.04 L1671.39 1526.32 L1659.13 1558.91 L1652.67 1558.91 L1640.42 1526.32 L1640.42 1568.04 L1634.18 1568.04 L1634.18 1520.52 Z\" fill=\"#000000\" fill-rule=\"nonzero\" fill-opacity=\"1\" /><path clip-path=\"url(#clip720)\" d=\"M1726 1524.18 L1726 1530.96 Q1722.76 1527.94 1719.06 1526.44 Q1715.4 1524.95 1711.27 1524.95 Q1703.12 1524.95 1698.79 1529.95 Q1694.46 1534.91 1694.46 1544.33 Q1694.46 1553.72 1698.79 1558.72 Q1703.12 1563.68 1711.27 1563.68 Q1715.4 1563.68 1719.06 1562.19 Q1722.76 1560.69 1726 1557.67 L1726 1564.38 Q1722.63 1566.68 1718.84 1567.82 Q1715.09 1568.97 1710.88 1568.97 Q1700.1 1568.97 1693.89 1562.38 Q1687.68 1555.76 1687.68 1544.33 Q1687.68 1532.87 1693.89 1526.28 Q1700.1 1519.66 1710.88 1519.66 Q1715.15 1519.66 1718.91 1520.81 Q1722.69 1521.92 1726 1524.18 Z\" fill=\"#000000\" fill-rule=\"nonzero\" fill-opacity=\"1\" /><polyline clip-path=\"url(#clip720)\" style=\"stroke:#000000; stroke-linecap:round; stroke-linejoin:round; stroke-width:4; stroke-opacity:1; fill:none\" points=\"219.542,1423.18 219.542,123.472 \"/>\n",
       "<polyline clip-path=\"url(#clip720)\" style=\"stroke:#000000; stroke-linecap:round; stroke-linejoin:round; stroke-width:4; stroke-opacity:1; fill:none\" points=\"219.542,1386.4 238.44,1386.4 \"/>\n",
       "<polyline clip-path=\"url(#clip720)\" style=\"stroke:#000000; stroke-linecap:round; stroke-linejoin:round; stroke-width:4; stroke-opacity:1; fill:none\" points=\"219.542,1086.67 238.44,1086.67 \"/>\n",
       "<polyline clip-path=\"url(#clip720)\" style=\"stroke:#000000; stroke-linecap:round; stroke-linejoin:round; stroke-width:4; stroke-opacity:1; fill:none\" points=\"219.542,786.95 238.44,786.95 \"/>\n",
       "<polyline clip-path=\"url(#clip720)\" style=\"stroke:#000000; stroke-linecap:round; stroke-linejoin:round; stroke-width:4; stroke-opacity:1; fill:none\" points=\"219.542,487.227 238.44,487.227 \"/>\n",
       "<polyline clip-path=\"url(#clip720)\" style=\"stroke:#000000; stroke-linecap:round; stroke-linejoin:round; stroke-width:4; stroke-opacity:1; fill:none\" points=\"219.542,187.504 238.44,187.504 \"/>\n",
       "<path clip-path=\"url(#clip720)\" d=\"M127.362 1372.19 Q123.751 1372.19 121.922 1375.76 Q120.117 1379.3 120.117 1386.43 Q120.117 1393.54 121.922 1397.1 Q123.751 1400.64 127.362 1400.64 Q130.996 1400.64 132.802 1397.1 Q134.63 1393.54 134.63 1386.43 Q134.63 1379.3 132.802 1375.76 Q130.996 1372.19 127.362 1372.19 M127.362 1368.49 Q133.172 1368.49 136.228 1373.1 Q139.306 1377.68 139.306 1386.43 Q139.306 1395.16 136.228 1399.76 Q133.172 1404.35 127.362 1404.35 Q121.552 1404.35 118.473 1399.76 Q115.418 1395.16 115.418 1386.43 Q115.418 1377.68 118.473 1373.1 Q121.552 1368.49 127.362 1368.49 Z\" fill=\"#000000\" fill-rule=\"nonzero\" fill-opacity=\"1\" /><path clip-path=\"url(#clip720)\" d=\"M147.524 1397.8 L152.408 1397.8 L152.408 1403.68 L147.524 1403.68 L147.524 1397.8 Z\" fill=\"#000000\" fill-rule=\"nonzero\" fill-opacity=\"1\" /><path clip-path=\"url(#clip720)\" d=\"M162.64 1369.12 L180.996 1369.12 L180.996 1373.05 L166.922 1373.05 L166.922 1381.52 Q167.94 1381.18 168.959 1381.01 Q169.977 1380.83 170.996 1380.83 Q176.783 1380.83 180.163 1384 Q183.542 1387.17 183.542 1392.59 Q183.542 1398.17 180.07 1401.27 Q176.598 1404.35 170.278 1404.35 Q168.102 1404.35 165.834 1403.98 Q163.589 1403.61 161.181 1402.87 L161.181 1398.17 Q163.265 1399.3 165.487 1399.86 Q167.709 1400.41 170.186 1400.41 Q174.19 1400.41 176.528 1398.31 Q178.866 1396.2 178.866 1392.59 Q178.866 1388.98 176.528 1386.87 Q174.19 1384.76 170.186 1384.76 Q168.311 1384.76 166.436 1385.18 Q164.584 1385.6 162.64 1386.48 L162.64 1369.12 Z\" fill=\"#000000\" fill-rule=\"nonzero\" fill-opacity=\"1\" /><path clip-path=\"url(#clip720)\" d=\"M126.205 1072.47 Q122.593 1072.47 120.765 1076.04 Q118.959 1079.58 118.959 1086.71 Q118.959 1093.81 120.765 1097.38 Q122.593 1100.92 126.205 1100.92 Q129.839 1100.92 131.644 1097.38 Q133.473 1093.81 133.473 1086.71 Q133.473 1079.58 131.644 1076.04 Q129.839 1072.47 126.205 1072.47 M126.205 1068.77 Q132.015 1068.77 135.07 1073.37 Q138.149 1077.96 138.149 1086.71 Q138.149 1095.43 135.07 1100.04 Q132.015 1104.62 126.205 1104.62 Q120.394 1104.62 117.316 1100.04 Q114.26 1095.43 114.26 1086.71 Q114.26 1077.96 117.316 1073.37 Q120.394 1068.77 126.205 1068.77 Z\" fill=\"#000000\" fill-rule=\"nonzero\" fill-opacity=\"1\" /><path clip-path=\"url(#clip720)\" d=\"M146.366 1098.07 L151.251 1098.07 L151.251 1103.95 L146.366 1103.95 L146.366 1098.07 Z\" fill=\"#000000\" fill-rule=\"nonzero\" fill-opacity=\"1\" /><path clip-path=\"url(#clip720)\" d=\"M172.014 1084.81 Q168.866 1084.81 167.015 1086.96 Q165.186 1089.11 165.186 1092.86 Q165.186 1096.59 167.015 1098.77 Q168.866 1100.92 172.014 1100.92 Q175.163 1100.92 176.991 1098.77 Q178.843 1096.59 178.843 1092.86 Q178.843 1089.11 176.991 1086.96 Q175.163 1084.81 172.014 1084.81 M181.297 1070.16 L181.297 1074.42 Q179.538 1073.58 177.732 1073.14 Q175.95 1072.7 174.19 1072.7 Q169.561 1072.7 167.107 1075.83 Q164.677 1078.95 164.329 1085.27 Q165.695 1083.26 167.755 1082.19 Q169.815 1081.11 172.292 1081.11 Q177.501 1081.11 180.51 1084.28 Q183.542 1087.43 183.542 1092.86 Q183.542 1098.19 180.394 1101.41 Q177.246 1104.62 172.014 1104.62 Q166.019 1104.62 162.848 1100.04 Q159.677 1095.43 159.677 1086.71 Q159.677 1078.51 163.565 1073.65 Q167.454 1068.77 174.005 1068.77 Q175.764 1068.77 177.547 1069.11 Q179.352 1069.46 181.297 1070.16 Z\" fill=\"#000000\" fill-rule=\"nonzero\" fill-opacity=\"1\" /><path clip-path=\"url(#clip720)\" d=\"M127.269 772.748 Q123.658 772.748 121.83 776.313 Q120.024 779.855 120.024 786.984 Q120.024 794.091 121.83 797.656 Q123.658 801.197 127.269 801.197 Q130.904 801.197 132.709 797.656 Q134.538 794.091 134.538 786.984 Q134.538 779.855 132.709 776.313 Q130.904 772.748 127.269 772.748 M127.269 769.045 Q133.08 769.045 136.135 773.651 Q139.214 778.235 139.214 786.984 Q139.214 795.711 136.135 800.318 Q133.08 804.901 127.269 804.901 Q121.459 804.901 118.381 800.318 Q115.325 795.711 115.325 786.984 Q115.325 778.235 118.381 773.651 Q121.459 769.045 127.269 769.045 Z\" fill=\"#000000\" fill-rule=\"nonzero\" fill-opacity=\"1\" /><path clip-path=\"url(#clip720)\" d=\"M147.431 798.35 L152.316 798.35 L152.316 804.23 L147.431 804.23 L147.431 798.35 Z\" fill=\"#000000\" fill-rule=\"nonzero\" fill-opacity=\"1\" /><path clip-path=\"url(#clip720)\" d=\"M161.32 769.67 L183.542 769.67 L183.542 771.66 L170.996 804.23 L166.112 804.23 L177.917 773.605 L161.32 773.605 L161.32 769.67 Z\" fill=\"#000000\" fill-rule=\"nonzero\" fill-opacity=\"1\" /><path clip-path=\"url(#clip720)\" d=\"M126.459 473.025 Q122.848 473.025 121.019 476.59 Q119.214 480.132 119.214 487.262 Q119.214 494.368 121.019 497.933 Q122.848 501.474 126.459 501.474 Q130.093 501.474 131.899 497.933 Q133.728 494.368 133.728 487.262 Q133.728 480.132 131.899 476.59 Q130.093 473.025 126.459 473.025 M126.459 469.322 Q132.269 469.322 135.325 473.928 Q138.404 478.512 138.404 487.262 Q138.404 495.988 135.325 500.595 Q132.269 505.178 126.459 505.178 Q120.649 505.178 117.57 500.595 Q114.515 495.988 114.515 487.262 Q114.515 478.512 117.57 473.928 Q120.649 469.322 126.459 469.322 Z\" fill=\"#000000\" fill-rule=\"nonzero\" fill-opacity=\"1\" /><path clip-path=\"url(#clip720)\" d=\"M146.621 498.627 L151.505 498.627 L151.505 504.507 L146.621 504.507 L146.621 498.627 Z\" fill=\"#000000\" fill-rule=\"nonzero\" fill-opacity=\"1\" /><path clip-path=\"url(#clip720)\" d=\"M171.69 488.095 Q168.357 488.095 166.436 489.877 Q164.538 491.66 164.538 494.785 Q164.538 497.91 166.436 499.692 Q168.357 501.474 171.69 501.474 Q175.024 501.474 176.945 499.692 Q178.866 497.886 178.866 494.785 Q178.866 491.66 176.945 489.877 Q175.047 488.095 171.69 488.095 M167.015 486.104 Q164.005 485.363 162.315 483.303 Q160.649 481.243 160.649 478.28 Q160.649 474.137 163.589 471.729 Q166.552 469.322 171.69 469.322 Q176.852 469.322 179.792 471.729 Q182.732 474.137 182.732 478.28 Q182.732 481.243 181.042 483.303 Q179.376 485.363 176.389 486.104 Q179.769 486.891 181.644 489.183 Q183.542 491.474 183.542 494.785 Q183.542 499.808 180.464 502.493 Q177.408 505.178 171.69 505.178 Q165.973 505.178 162.894 502.493 Q159.839 499.808 159.839 494.785 Q159.839 491.474 161.737 489.183 Q163.635 486.891 167.015 486.104 M165.302 478.72 Q165.302 481.405 166.968 482.91 Q168.658 484.414 171.69 484.414 Q174.7 484.414 176.389 482.91 Q178.102 481.405 178.102 478.72 Q178.102 476.035 176.389 474.53 Q174.7 473.025 171.69 473.025 Q168.658 473.025 166.968 474.53 Q165.302 476.035 165.302 478.72 Z\" fill=\"#000000\" fill-rule=\"nonzero\" fill-opacity=\"1\" /><path clip-path=\"url(#clip720)\" d=\"M126.552 173.303 Q122.941 173.303 121.112 176.867 Q119.306 180.409 119.306 187.539 Q119.306 194.645 121.112 198.21 Q122.941 201.751 126.552 201.751 Q130.186 201.751 131.992 198.21 Q133.82 194.645 133.82 187.539 Q133.82 180.409 131.992 176.867 Q130.186 173.303 126.552 173.303 M126.552 169.599 Q132.362 169.599 135.417 174.205 Q138.496 178.789 138.496 187.539 Q138.496 196.265 135.417 200.872 Q132.362 205.455 126.552 205.455 Q120.742 205.455 117.663 200.872 Q114.607 196.265 114.607 187.539 Q114.607 178.789 117.663 174.205 Q120.742 169.599 126.552 169.599 Z\" fill=\"#000000\" fill-rule=\"nonzero\" fill-opacity=\"1\" /><path clip-path=\"url(#clip720)\" d=\"M146.714 198.904 L151.598 198.904 L151.598 204.784 L146.714 204.784 L146.714 198.904 Z\" fill=\"#000000\" fill-rule=\"nonzero\" fill-opacity=\"1\" /><path clip-path=\"url(#clip720)\" d=\"M161.922 204.066 L161.922 199.807 Q163.681 200.64 165.487 201.08 Q167.292 201.52 169.028 201.52 Q173.658 201.52 176.089 198.418 Q178.542 195.293 178.889 188.951 Q177.547 190.941 175.487 192.006 Q173.427 193.071 170.927 193.071 Q165.741 193.071 162.709 189.946 Q159.7 186.798 159.7 181.358 Q159.7 176.034 162.848 172.816 Q165.996 169.599 171.227 169.599 Q177.223 169.599 180.371 174.205 Q183.542 178.789 183.542 187.539 Q183.542 195.71 179.653 200.594 Q175.788 205.455 169.237 205.455 Q167.477 205.455 165.672 205.108 Q163.866 204.761 161.922 204.066 M171.227 189.414 Q174.376 189.414 176.204 187.261 Q178.056 185.108 178.056 181.358 Q178.056 177.631 176.204 175.478 Q174.376 173.303 171.227 173.303 Q168.079 173.303 166.227 175.478 Q164.399 177.631 164.399 181.358 Q164.399 185.108 166.227 187.261 Q168.079 189.414 171.227 189.414 Z\" fill=\"#000000\" fill-rule=\"nonzero\" fill-opacity=\"1\" /><path clip-path=\"url(#clip720)\" d=\"M22.818 1015.81 L46.4666 1024.53 L46.4666 1007.06 L22.818 1015.81 M16.4842 1019.44 L16.4842 1012.15 L64.0042 994.041 L64.0042 1000.72 L51.8138 1005.05 L51.8138 1026.47 L64.0042 1030.8 L64.0042 1037.58 L16.4842 1019.44 Z\" fill=\"#000000\" fill-rule=\"nonzero\" fill-opacity=\"1\" /><path clip-path=\"url(#clip720)\" d=\"M29.7248 962.849 L35.1993 962.849 Q33.8307 965.332 33.1623 967.846 Q32.4621 970.329 32.4621 972.875 Q32.4621 978.572 36.0905 981.723 Q39.6872 984.874 46.212 984.874 Q52.7369 984.874 56.3653 981.723 Q59.9619 978.572 59.9619 972.875 Q59.9619 970.329 59.2935 967.846 Q58.5933 965.332 57.2247 962.849 L62.6355 962.849 Q63.7814 965.3 64.3543 967.942 Q64.9272 970.551 64.9272 973.512 Q64.9272 981.564 59.8664 986.307 Q54.8057 991.049 46.212 991.049 Q37.491 991.049 32.4939 986.275 Q27.4968 981.469 27.4968 973.13 Q27.4968 970.424 28.0697 967.846 Q28.6108 965.268 29.7248 962.849 Z\" fill=\"#000000\" fill-rule=\"nonzero\" fill-opacity=\"1\" /><path clip-path=\"url(#clip720)\" d=\"M29.7248 927.01 L35.1993 927.01 Q33.8307 929.493 33.1623 932.007 Q32.4621 934.49 32.4621 937.036 Q32.4621 942.733 36.0905 945.884 Q39.6872 949.035 46.212 949.035 Q52.7369 949.035 56.3653 945.884 Q59.9619 942.733 59.9619 937.036 Q59.9619 934.49 59.2935 932.007 Q58.5933 929.493 57.2247 927.01 L62.6355 927.01 Q63.7814 929.461 64.3543 932.103 Q64.9272 934.713 64.9272 937.673 Q64.9272 945.725 59.8664 950.468 Q54.8057 955.21 46.212 955.21 Q37.491 955.21 32.4939 950.436 Q27.4968 945.63 27.4968 937.291 Q27.4968 934.585 28.0697 932.007 Q28.6108 929.429 29.7248 927.01 Z\" fill=\"#000000\" fill-rule=\"nonzero\" fill-opacity=\"1\" /><path clip-path=\"url(#clip720)\" d=\"M44.7161 886.333 L47.5806 886.333 L47.5806 913.26 Q53.6281 912.878 56.8109 909.632 Q59.9619 906.353 59.9619 900.529 Q59.9619 897.155 59.1344 894.004 Q58.3069 890.821 56.6518 887.702 L62.1899 887.702 Q63.5267 890.853 64.227 894.163 Q64.9272 897.473 64.9272 900.879 Q64.9272 909.409 59.9619 914.406 Q54.9967 919.371 46.5303 919.371 Q37.7774 919.371 32.6531 914.661 Q27.4968 909.918 27.4968 901.897 Q27.4968 894.704 32.1438 890.535 Q36.7589 886.333 44.7161 886.333 M42.9973 892.19 Q38.1912 892.253 35.3266 894.895 Q32.4621 897.505 32.4621 901.834 Q32.4621 906.735 35.2312 909.695 Q38.0002 912.624 43.0292 913.069 L42.9973 892.19 Z\" fill=\"#000000\" fill-rule=\"nonzero\" fill-opacity=\"1\" /><path clip-path=\"url(#clip720)\" d=\"M58.657 871.055 L77.5631 871.055 L77.5631 876.944 L28.3562 876.944 L28.3562 871.055 L33.7671 871.055 Q30.5842 869.209 29.0564 866.409 Q27.4968 863.576 27.4968 859.661 Q27.4968 853.168 32.6531 849.126 Q37.8093 845.052 46.212 845.052 Q54.6147 845.052 59.771 849.126 Q64.9272 853.168 64.9272 859.661 Q64.9272 863.576 63.3994 866.409 Q61.8398 869.209 58.657 871.055 M46.212 851.131 Q39.7508 851.131 36.0905 853.804 Q32.3984 856.446 32.3984 861.093 Q32.3984 865.74 36.0905 868.414 Q39.7508 871.055 46.212 871.055 Q52.6732 871.055 56.3653 868.414 Q60.0256 865.74 60.0256 861.093 Q60.0256 856.446 56.3653 853.804 Q52.6732 851.131 46.212 851.131 Z\" fill=\"#000000\" fill-rule=\"nonzero\" fill-opacity=\"1\" /><path clip-path=\"url(#clip720)\" d=\"M18.2347 829.551 L28.3562 829.551 L28.3562 817.488 L32.9077 817.488 L32.9077 829.551 L52.2594 829.551 Q56.6199 829.551 57.8613 828.373 Q59.1026 827.164 59.1026 823.504 L59.1026 817.488 L64.0042 817.488 L64.0042 823.504 Q64.0042 830.283 61.4897 832.861 Q58.9434 835.439 52.2594 835.439 L32.9077 835.439 L32.9077 839.736 L28.3562 839.736 L28.3562 835.439 L18.2347 835.439 L18.2347 829.551 Z\" fill=\"#000000\" fill-rule=\"nonzero\" fill-opacity=\"1\" /><path clip-path=\"url(#clip720)\" d=\"M46.0847 793.585 Q46.0847 800.683 47.7079 803.42 Q49.3312 806.157 53.2461 806.157 Q56.3653 806.157 58.2114 804.12 Q60.0256 802.051 60.0256 798.518 Q60.0256 793.649 56.5881 790.72 Q53.1188 787.76 47.3897 787.76 L46.0847 787.76 L46.0847 793.585 M43.6657 781.904 L64.0042 781.904 L64.0042 787.76 L58.5933 787.76 Q61.8398 789.765 63.3994 792.757 Q64.9272 795.749 64.9272 800.078 Q64.9272 805.552 61.8716 808.799 Q58.7843 812.014 53.6281 812.014 Q47.6125 812.014 44.5569 808.003 Q41.5014 803.961 41.5014 795.972 L41.5014 787.76 L40.9285 787.76 Q36.8862 787.76 34.6901 790.434 Q32.4621 793.076 32.4621 797.882 Q32.4621 800.937 33.1941 803.834 Q33.9262 806.73 35.3903 809.404 L29.9795 809.404 Q28.7381 806.189 28.1334 803.165 Q27.4968 800.142 27.4968 797.277 Q27.4968 789.543 31.5072 785.723 Q35.5176 781.904 43.6657 781.904 Z\" fill=\"#000000\" fill-rule=\"nonzero\" fill-opacity=\"1\" /><path clip-path=\"url(#clip720)\" d=\"M42.4881 740.208 L64.0042 740.208 L64.0042 746.065 L42.679 746.065 Q37.6183 746.065 35.1038 748.038 Q32.5894 750.012 32.5894 753.958 Q32.5894 758.701 35.6131 761.438 Q38.6368 764.175 43.8567 764.175 L64.0042 764.175 L64.0042 770.064 L28.3562 770.064 L28.3562 764.175 L33.8944 764.175 Q30.6797 762.075 29.0883 759.242 Q27.4968 756.377 27.4968 752.653 Q27.4968 746.51 31.3163 743.359 Q35.1038 740.208 42.4881 740.208 Z\" fill=\"#000000\" fill-rule=\"nonzero\" fill-opacity=\"1\" /><path clip-path=\"url(#clip720)\" d=\"M29.7248 702.874 L35.1993 702.874 Q33.8307 705.356 33.1623 707.871 Q32.4621 710.353 32.4621 712.9 Q32.4621 718.597 36.0905 721.748 Q39.6872 724.899 46.212 724.899 Q52.7369 724.899 56.3653 721.748 Q59.9619 718.597 59.9619 712.9 Q59.9619 710.353 59.2935 707.871 Q58.5933 705.356 57.2247 702.874 L62.6355 702.874 Q63.7814 705.324 64.3543 707.966 Q64.9272 710.576 64.9272 713.536 Q64.9272 721.589 59.8664 726.331 Q54.8057 731.074 46.212 731.074 Q37.491 731.074 32.4939 726.299 Q27.4968 721.493 27.4968 713.154 Q27.4968 710.449 28.0697 707.871 Q28.6108 705.292 29.7248 702.874 Z\" fill=\"#000000\" fill-rule=\"nonzero\" fill-opacity=\"1\" /><path clip-path=\"url(#clip720)\" d=\"M44.7161 662.197 L47.5806 662.197 L47.5806 689.124 Q53.6281 688.742 56.8109 685.495 Q59.9619 682.217 59.9619 676.392 Q59.9619 673.018 59.1344 669.867 Q58.3069 666.684 56.6518 663.565 L62.1899 663.565 Q63.5267 666.716 64.227 670.026 Q64.9272 673.337 64.9272 676.742 Q64.9272 685.272 59.9619 690.269 Q54.9967 695.235 46.5303 695.235 Q37.7774 695.235 32.6531 690.524 Q27.4968 685.782 27.4968 677.761 Q27.4968 670.568 32.1438 666.398 Q36.7589 662.197 44.7161 662.197 M42.9973 668.053 Q38.1912 668.117 35.3266 670.759 Q32.4621 673.368 32.4621 677.697 Q32.4621 682.599 35.2312 685.559 Q38.0002 688.487 43.0292 688.933 L42.9973 668.053 Z\" fill=\"#000000\" fill-rule=\"nonzero\" fill-opacity=\"1\" /><path clip-path=\"url(#clip720)\" d=\"M33.8307 611.207 Q33.2578 612.194 33.0032 613.372 Q32.7167 614.518 32.7167 615.918 Q32.7167 620.883 35.9632 623.557 Q39.1779 626.199 45.2253 626.199 L64.0042 626.199 L64.0042 632.087 L28.3562 632.087 L28.3562 626.199 L33.8944 626.199 Q30.6479 624.353 29.0883 621.392 Q27.4968 618.432 27.4968 614.199 Q27.4968 613.594 27.5923 612.862 Q27.656 612.13 27.8151 611.239 L33.8307 611.207 Z\" fill=\"#000000\" fill-rule=\"nonzero\" fill-opacity=\"1\" /><path clip-path=\"url(#clip720)\" d=\"M46.0847 588.864 Q46.0847 595.961 47.7079 598.699 Q49.3312 601.436 53.2461 601.436 Q56.3653 601.436 58.2114 599.399 Q60.0256 597.33 60.0256 593.797 Q60.0256 588.927 56.5881 585.999 Q53.1188 583.039 47.3897 583.039 L46.0847 583.039 L46.0847 588.864 M43.6657 577.183 L64.0042 577.183 L64.0042 583.039 L58.5933 583.039 Q61.8398 585.044 63.3994 588.036 Q64.9272 591.028 64.9272 595.357 Q64.9272 600.831 61.8716 604.078 Q58.7843 607.292 53.6281 607.292 Q47.6125 607.292 44.5569 603.282 Q41.5014 599.24 41.5014 591.251 L41.5014 583.039 L40.9285 583.039 Q36.8862 583.039 34.6901 585.713 Q32.4621 588.354 32.4621 593.161 Q32.4621 596.216 33.1941 599.113 Q33.9262 602.009 35.3903 604.683 L29.9795 604.683 Q28.7381 601.468 28.1334 598.444 Q27.4968 595.42 27.4968 592.556 Q27.4968 584.821 31.5072 581.002 Q35.5176 577.183 43.6657 577.183 Z\" fill=\"#000000\" fill-rule=\"nonzero\" fill-opacity=\"1\" /><path clip-path=\"url(#clip720)\" d=\"M18.2347 559.327 L28.3562 559.327 L28.3562 547.264 L32.9077 547.264 L32.9077 559.327 L52.2594 559.327 Q56.6199 559.327 57.8613 558.149 Q59.1026 556.94 59.1026 553.279 L59.1026 547.264 L64.0042 547.264 L64.0042 553.279 Q64.0042 560.059 61.4897 562.637 Q58.9434 565.215 52.2594 565.215 L32.9077 565.215 L32.9077 569.512 L28.3562 569.512 L28.3562 565.215 L18.2347 565.215 L18.2347 559.327 Z\" fill=\"#000000\" fill-rule=\"nonzero\" fill-opacity=\"1\" /><path clip-path=\"url(#clip720)\" d=\"M44.7161 509.07 L47.5806 509.07 L47.5806 535.997 Q53.6281 535.615 56.8109 532.368 Q59.9619 529.09 59.9619 523.265 Q59.9619 519.891 59.1344 516.74 Q58.3069 513.557 56.6518 510.438 L62.1899 510.438 Q63.5267 513.589 64.227 516.899 Q64.9272 520.21 64.9272 523.615 Q64.9272 532.145 59.9619 537.142 Q54.9967 542.108 46.5303 542.108 Q37.7774 542.108 32.6531 537.397 Q27.4968 532.655 27.4968 524.634 Q27.4968 517.44 32.1438 513.271 Q36.7589 509.07 44.7161 509.07 M42.9973 514.926 Q38.1912 514.99 35.3266 517.631 Q32.4621 520.241 32.4621 524.57 Q32.4621 529.472 35.2312 532.432 Q38.0002 535.36 43.0292 535.806 L42.9973 514.926 Z\" fill=\"#000000\" fill-rule=\"nonzero\" fill-opacity=\"1\" /><path clip-path=\"url(#clip720)\" d=\"M955.737 20.1573 L944.638 50.2555 L966.877 50.2555 L955.737 20.1573 M951.119 12.096 L960.396 12.096 L983.445 72.576 L974.938 72.576 L969.429 57.061 L942.167 57.061 L936.657 72.576 L928.029 72.576 L951.119 12.096 Z\" fill=\"#000000\" fill-rule=\"nonzero\" fill-opacity=\"1\" /><path clip-path=\"url(#clip720)\" d=\"M1023.14 28.9478 L1023.14 35.9153 Q1019.98 34.1734 1016.78 33.3227 Q1013.62 32.4315 1010.38 32.4315 Q1003.13 32.4315 999.122 37.0496 Q995.112 41.6271 995.112 49.9314 Q995.112 58.2358 999.122 62.8538 Q1003.13 67.4314 1010.38 67.4314 Q1013.62 67.4314 1016.78 66.5807 Q1019.98 65.6895 1023.14 63.9476 L1023.14 70.8341 Q1020.02 72.2924 1016.66 73.0216 Q1013.34 73.7508 1009.57 73.7508 Q999.325 73.7508 993.289 67.3098 Q987.253 60.8689 987.253 49.9314 Q987.253 38.832 993.329 32.472 Q999.446 26.1121 1010.06 26.1121 Q1013.5 26.1121 1016.78 26.8413 Q1020.07 27.5299 1023.14 28.9478 Z\" fill=\"#000000\" fill-rule=\"nonzero\" fill-opacity=\"1\" /><path clip-path=\"url(#clip720)\" d=\"M1068.76 28.9478 L1068.76 35.9153 Q1065.6 34.1734 1062.4 33.3227 Q1059.24 32.4315 1056 32.4315 Q1048.75 32.4315 1044.74 37.0496 Q1040.73 41.6271 1040.73 49.9314 Q1040.73 58.2358 1044.74 62.8538 Q1048.75 67.4314 1056 67.4314 Q1059.24 67.4314 1062.4 66.5807 Q1065.6 65.6895 1068.76 63.9476 L1068.76 70.8341 Q1065.64 72.2924 1062.28 73.0216 Q1058.95 73.7508 1055.19 73.7508 Q1044.94 73.7508 1038.9 67.3098 Q1032.87 60.8689 1032.87 49.9314 Q1032.87 38.832 1038.94 32.472 Q1045.06 26.1121 1055.67 26.1121 Q1059.12 26.1121 1062.4 26.8413 Q1065.68 27.5299 1068.76 28.9478 Z\" fill=\"#000000\" fill-rule=\"nonzero\" fill-opacity=\"1\" /><path clip-path=\"url(#clip720)\" d=\"M1120.53 48.0275 L1120.53 51.6733 L1086.26 51.6733 Q1086.74 59.3701 1090.88 63.421 Q1095.05 67.4314 1102.46 67.4314 Q1106.75 67.4314 1110.77 66.3781 Q1114.82 65.3249 1118.79 63.2184 L1118.79 70.267 Q1114.78 71.9684 1110.56 72.8596 Q1106.35 73.7508 1102.02 73.7508 Q1091.16 73.7508 1084.8 67.4314 Q1078.48 61.1119 1078.48 50.3365 Q1078.48 39.1965 1084.47 32.6746 Q1090.51 26.1121 1100.72 26.1121 Q1109.87 26.1121 1115.18 32.0264 Q1120.53 37.9003 1120.53 48.0275 M1113.07 45.84 Q1112.99 39.7232 1109.63 36.0774 Q1106.31 32.4315 1100.8 32.4315 Q1094.56 32.4315 1090.79 35.9558 Q1087.07 39.4801 1086.5 45.8805 L1113.07 45.84 Z\" fill=\"#000000\" fill-rule=\"nonzero\" fill-opacity=\"1\" /><path clip-path=\"url(#clip720)\" d=\"M1139.97 65.7705 L1139.97 89.8329 L1132.48 89.8329 L1132.48 27.2059 L1139.97 27.2059 L1139.97 34.0924 Q1142.32 30.0415 1145.89 28.0971 Q1149.49 26.1121 1154.47 26.1121 Q1162.74 26.1121 1167.88 32.6746 Q1173.07 39.2371 1173.07 49.9314 Q1173.07 60.6258 1167.88 67.1883 Q1162.74 73.7508 1154.47 73.7508 Q1149.49 73.7508 1145.89 71.8063 Q1142.32 69.8214 1139.97 65.7705 M1165.33 49.9314 Q1165.33 41.7081 1161.93 37.0496 Q1158.57 32.3505 1152.65 32.3505 Q1146.74 32.3505 1143.33 37.0496 Q1139.97 41.7081 1139.97 49.9314 Q1139.97 58.1548 1143.33 62.8538 Q1146.74 67.5124 1152.65 67.5124 Q1158.57 67.5124 1161.93 62.8538 Q1165.33 58.1548 1165.33 49.9314 Z\" fill=\"#000000\" fill-rule=\"nonzero\" fill-opacity=\"1\" /><path clip-path=\"url(#clip720)\" d=\"M1192.8 14.324 L1192.8 27.2059 L1208.15 27.2059 L1208.15 32.9987 L1192.8 32.9987 L1192.8 57.6282 Q1192.8 63.1779 1194.29 64.7578 Q1195.83 66.3376 1200.49 66.3376 L1208.15 66.3376 L1208.15 72.576 L1200.49 72.576 Q1191.86 72.576 1188.58 69.3758 Q1185.3 66.1351 1185.3 57.6282 L1185.3 32.9987 L1179.83 32.9987 L1179.83 27.2059 L1185.3 27.2059 L1185.3 14.324 L1192.8 14.324 Z\" fill=\"#000000\" fill-rule=\"nonzero\" fill-opacity=\"1\" /><path clip-path=\"url(#clip720)\" d=\"M1238.57 49.7694 Q1229.54 49.7694 1226.05 51.8354 Q1222.57 53.9013 1222.57 58.8839 Q1222.57 62.8538 1225.16 65.2034 Q1227.8 67.5124 1232.29 67.5124 Q1238.49 67.5124 1242.22 63.1374 Q1245.98 58.7219 1245.98 51.4303 L1245.98 49.7694 L1238.57 49.7694 M1253.44 46.6907 L1253.44 72.576 L1245.98 72.576 L1245.98 65.6895 Q1243.43 69.8214 1239.62 71.8063 Q1235.82 73.7508 1230.31 73.7508 Q1223.34 73.7508 1219.21 69.8619 Q1215.12 65.9325 1215.12 59.3701 Q1215.12 51.7138 1220.22 47.825 Q1225.37 43.9361 1235.53 43.9361 L1245.98 43.9361 L1245.98 43.2069 Q1245.98 38.0623 1242.58 35.2672 Q1239.22 32.4315 1233.1 32.4315 Q1229.21 32.4315 1225.53 33.3632 Q1221.84 34.295 1218.44 36.1584 L1218.44 29.2718 Q1222.53 27.692 1226.38 26.9223 Q1230.23 26.1121 1233.87 26.1121 Q1243.72 26.1121 1248.58 31.2163 Q1253.44 36.3204 1253.44 46.6907 Z\" fill=\"#000000\" fill-rule=\"nonzero\" fill-opacity=\"1\" /><path clip-path=\"url(#clip720)\" d=\"M1306.5 45.1919 L1306.5 72.576 L1299.05 72.576 L1299.05 45.4349 Q1299.05 38.994 1296.54 35.7938 Q1294.03 32.5936 1289 32.5936 Q1282.97 32.5936 1279.49 36.4419 Q1276 40.2903 1276 46.9338 L1276 72.576 L1268.51 72.576 L1268.51 27.2059 L1276 27.2059 L1276 34.2544 Q1278.68 30.163 1282.28 28.1376 Q1285.93 26.1121 1290.67 26.1121 Q1298.48 26.1121 1302.49 30.9732 Q1306.5 35.7938 1306.5 45.1919 Z\" fill=\"#000000\" fill-rule=\"nonzero\" fill-opacity=\"1\" /><path clip-path=\"url(#clip720)\" d=\"M1354.02 28.9478 L1354.02 35.9153 Q1350.86 34.1734 1347.66 33.3227 Q1344.5 32.4315 1341.26 32.4315 Q1334.01 32.4315 1330 37.0496 Q1325.99 41.6271 1325.99 49.9314 Q1325.99 58.2358 1330 62.8538 Q1334.01 67.4314 1341.26 67.4314 Q1344.5 67.4314 1347.66 66.5807 Q1350.86 65.6895 1354.02 63.9476 L1354.02 70.8341 Q1350.9 72.2924 1347.54 73.0216 Q1344.22 73.7508 1340.45 73.7508 Q1330.2 73.7508 1324.17 67.3098 Q1318.13 60.8689 1318.13 49.9314 Q1318.13 38.832 1324.21 32.472 Q1330.32 26.1121 1340.94 26.1121 Q1344.38 26.1121 1347.66 26.8413 Q1350.94 27.5299 1354.02 28.9478 Z\" fill=\"#000000\" fill-rule=\"nonzero\" fill-opacity=\"1\" /><path clip-path=\"url(#clip720)\" d=\"M1405.79 48.0275 L1405.79 51.6733 L1371.52 51.6733 Q1372.01 59.3701 1376.14 63.421 Q1380.31 67.4314 1387.73 67.4314 Q1392.02 67.4314 1396.03 66.3781 Q1400.08 65.3249 1404.05 63.2184 L1404.05 70.267 Q1400.04 71.9684 1395.83 72.8596 Q1391.61 73.7508 1387.28 73.7508 Q1376.42 73.7508 1370.06 67.4314 Q1363.74 61.1119 1363.74 50.3365 Q1363.74 39.1965 1369.74 32.6746 Q1375.78 26.1121 1385.98 26.1121 Q1395.14 26.1121 1400.45 32.0264 Q1405.79 37.9003 1405.79 48.0275 M1398.34 45.84 Q1398.26 39.7232 1394.9 36.0774 Q1391.57 32.4315 1386.06 32.4315 Q1379.83 32.4315 1376.06 35.9558 Q1372.33 39.4801 1371.76 45.8805 L1398.34 45.84 Z\" fill=\"#000000\" fill-rule=\"nonzero\" fill-opacity=\"1\" /><path clip-path=\"url(#clip720)\" d=\"M1470.69 34.1734 Q1469.43 33.4443 1467.93 33.1202 Q1466.48 32.7556 1464.69 32.7556 Q1458.37 32.7556 1454.97 36.8875 Q1451.61 40.9789 1451.61 48.6757 L1451.61 72.576 L1444.11 72.576 L1444.11 27.2059 L1451.61 27.2059 L1451.61 34.2544 Q1453.96 30.1225 1457.73 28.1376 Q1461.49 26.1121 1466.88 26.1121 Q1467.65 26.1121 1468.58 26.2337 Q1469.51 26.3147 1470.65 26.5172 L1470.69 34.1734 Z\" fill=\"#000000\" fill-rule=\"nonzero\" fill-opacity=\"1\" /><path clip-path=\"url(#clip720)\" d=\"M1499.13 49.7694 Q1490.09 49.7694 1486.61 51.8354 Q1483.12 53.9013 1483.12 58.8839 Q1483.12 62.8538 1485.72 65.2034 Q1488.35 67.5124 1492.85 67.5124 Q1499.04 67.5124 1502.77 63.1374 Q1506.54 58.7219 1506.54 51.4303 L1506.54 49.7694 L1499.13 49.7694 M1513.99 46.6907 L1513.99 72.576 L1506.54 72.576 L1506.54 65.6895 Q1503.99 69.8214 1500.18 71.8063 Q1496.37 73.7508 1490.86 73.7508 Q1483.89 73.7508 1479.76 69.8619 Q1475.67 65.9325 1475.67 59.3701 Q1475.67 51.7138 1480.77 47.825 Q1485.92 43.9361 1496.09 43.9361 L1506.54 43.9361 L1506.54 43.2069 Q1506.54 38.0623 1503.14 35.2672 Q1499.77 32.4315 1493.66 32.4315 Q1489.77 32.4315 1486.08 33.3632 Q1482.4 34.295 1478.99 36.1584 L1478.99 29.2718 Q1483.08 27.692 1486.93 26.9223 Q1490.78 26.1121 1494.43 26.1121 Q1504.27 26.1121 1509.13 31.2163 Q1513.99 36.3204 1513.99 46.6907 Z\" fill=\"#000000\" fill-rule=\"nonzero\" fill-opacity=\"1\" /><path clip-path=\"url(#clip720)\" d=\"M1536.72 14.324 L1536.72 27.2059 L1552.07 27.2059 L1552.07 32.9987 L1536.72 32.9987 L1536.72 57.6282 Q1536.72 63.1779 1538.22 64.7578 Q1539.76 66.3376 1544.41 66.3376 L1552.07 66.3376 L1552.07 72.576 L1544.41 72.576 Q1535.79 72.576 1532.5 69.3758 Q1529.22 66.1351 1529.22 57.6282 L1529.22 32.9987 L1523.75 32.9987 L1523.75 27.2059 L1529.22 27.2059 L1529.22 14.324 L1536.72 14.324 Z\" fill=\"#000000\" fill-rule=\"nonzero\" fill-opacity=\"1\" /><path clip-path=\"url(#clip720)\" d=\"M1600.68 48.0275 L1600.68 51.6733 L1566.41 51.6733 Q1566.9 59.3701 1571.03 63.421 Q1575.2 67.4314 1582.61 67.4314 Q1586.91 67.4314 1590.92 66.3781 Q1594.97 65.3249 1598.94 63.2184 L1598.94 70.267 Q1594.93 71.9684 1590.72 72.8596 Q1586.5 73.7508 1582.17 73.7508 Q1571.31 73.7508 1564.95 67.4314 Q1558.63 61.1119 1558.63 50.3365 Q1558.63 39.1965 1564.63 32.6746 Q1570.66 26.1121 1580.87 26.1121 Q1590.03 26.1121 1595.33 32.0264 Q1600.68 37.9003 1600.68 48.0275 M1593.23 45.84 Q1593.15 39.7232 1589.78 36.0774 Q1586.46 32.4315 1580.95 32.4315 Q1574.72 32.4315 1570.95 35.9558 Q1567.22 39.4801 1566.65 45.8805 L1593.23 45.84 Z\" fill=\"#000000\" fill-rule=\"nonzero\" fill-opacity=\"1\" /><path clip-path=\"url(#clip720)\" d=\"M1641.84 28.5427 L1641.84 35.5912 Q1638.68 33.9709 1635.28 33.1607 Q1631.87 32.3505 1628.23 32.3505 Q1622.68 32.3505 1619.88 34.0519 Q1617.13 35.7533 1617.13 39.156 Q1617.13 41.7486 1619.11 43.2475 Q1621.1 44.7058 1627.09 46.0426 L1629.65 46.6097 Q1637.59 48.3111 1640.91 51.4303 Q1644.27 54.509 1644.27 60.0587 Q1644.27 66.3781 1639.25 70.0644 Q1634.26 73.7508 1625.51 73.7508 Q1621.87 73.7508 1617.9 73.0216 Q1613.97 72.3329 1609.59 70.9151 L1609.59 63.2184 Q1613.73 65.3654 1617.74 66.4591 Q1621.75 67.5124 1625.68 67.5124 Q1630.94 67.5124 1633.78 65.73 Q1636.61 63.9071 1636.61 60.6258 Q1636.61 57.5877 1634.55 55.9673 Q1632.52 54.3469 1625.59 52.8481 L1623 52.2405 Q1616.07 50.7821 1613 47.7845 Q1609.92 44.7463 1609.92 39.4801 Q1609.92 33.0797 1614.45 29.5959 Q1618.99 26.1121 1627.34 26.1121 Q1631.47 26.1121 1635.11 26.7198 Q1638.76 27.3274 1641.84 28.5427 Z\" fill=\"#000000\" fill-rule=\"nonzero\" fill-opacity=\"1\" /><polyline clip-path=\"url(#clip722)\" style=\"stroke:#009af9; stroke-linecap:round; stroke-linejoin:round; stroke-width:4; stroke-opacity:1; fill:none\" points=\"279.916,1386.4 503.523,886.857 727.131,637.088 950.738,487.227 1174.35,387.319 1397.95,315.957 1621.56,262.435 1845.17,220.806 2068.77,187.504 2292.38,160.256 \"/>\n",
       "<path clip-path=\"url(#clip720)\" d=\"M290.649 270.476 L556.401 270.476 L556.401 166.796 L290.649 166.796  Z\" fill=\"#ffffff\" fill-rule=\"evenodd\" fill-opacity=\"1\"/>\n",
       "<polyline clip-path=\"url(#clip720)\" style=\"stroke:#000000; stroke-linecap:round; stroke-linejoin:round; stroke-width:4; stroke-opacity:1; fill:none\" points=\"290.649,270.476 556.401,270.476 556.401,166.796 290.649,166.796 290.649,270.476 \"/>\n",
       "<polyline clip-path=\"url(#clip720)\" style=\"stroke:#009af9; stroke-linecap:round; stroke-linejoin:round; stroke-width:4; stroke-opacity:1; fill:none\" points=\"314.352,218.636 456.566,218.636 \"/>\n",
       "<path clip-path=\"url(#clip720)\" d=\"M494.111 238.323 Q492.305 242.953 490.592 244.365 Q488.879 245.777 486.009 245.777 L482.606 245.777 L482.606 242.212 L485.106 242.212 Q486.866 242.212 487.838 241.379 Q488.81 240.545 489.99 237.443 L490.754 235.499 L480.268 209.99 L484.782 209.99 L492.884 230.268 L500.986 209.99 L505.5 209.99 L494.111 238.323 Z\" fill=\"#000000\" fill-rule=\"nonzero\" fill-opacity=\"1\" /><path clip-path=\"url(#clip720)\" d=\"M512.791 231.981 L520.43 231.981 L520.43 205.615 L512.12 207.282 L512.12 203.022 L520.384 201.356 L525.06 201.356 L525.06 231.981 L532.699 231.981 L532.699 235.916 L512.791 235.916 L512.791 231.981 Z\" fill=\"#000000\" fill-rule=\"nonzero\" fill-opacity=\"1\" /></svg>\n"
      ],
      "text/html": [
       "<?xml version=\"1.0\" encoding=\"utf-8\"?>\n",
       "<svg xmlns=\"http://www.w3.org/2000/svg\" xmlns:xlink=\"http://www.w3.org/1999/xlink\" width=\"600\" height=\"400\" viewBox=\"0 0 2400 1600\">\n",
       "<defs>\n",
       "  <clipPath id=\"clip770\">\n",
       "    <rect x=\"0\" y=\"0\" width=\"2400\" height=\"1600\"/>\n",
       "  </clipPath>\n",
       "</defs>\n",
       "<path clip-path=\"url(#clip770)\" d=\"M0 1600 L2400 1600 L2400 0 L0 0  Z\" fill=\"#ffffff\" fill-rule=\"evenodd\" fill-opacity=\"1\"/>\n",
       "<defs>\n",
       "  <clipPath id=\"clip771\">\n",
       "    <rect x=\"480\" y=\"0\" width=\"1681\" height=\"1600\"/>\n",
       "  </clipPath>\n",
       "</defs>\n",
       "<path clip-path=\"url(#clip770)\" d=\"M219.542 1423.18 L2352.76 1423.18 L2352.76 123.472 L219.542 123.472  Z\" fill=\"#ffffff\" fill-rule=\"evenodd\" fill-opacity=\"1\"/>\n",
       "<defs>\n",
       "  <clipPath id=\"clip772\">\n",
       "    <rect x=\"219\" y=\"123\" width=\"2134\" height=\"1301\"/>\n",
       "  </clipPath>\n",
       "</defs>\n",
       "<polyline clip-path=\"url(#clip772)\" style=\"stroke:#000000; stroke-linecap:round; stroke-linejoin:round; stroke-width:2; stroke-opacity:0.1; fill:none\" points=\"503.523,1423.18 503.523,123.472 \"/>\n",
       "<polyline clip-path=\"url(#clip772)\" style=\"stroke:#000000; stroke-linecap:round; stroke-linejoin:round; stroke-width:2; stroke-opacity:0.1; fill:none\" points=\"950.738,1423.18 950.738,123.472 \"/>\n",
       "<polyline clip-path=\"url(#clip772)\" style=\"stroke:#000000; stroke-linecap:round; stroke-linejoin:round; stroke-width:2; stroke-opacity:0.1; fill:none\" points=\"1397.95,1423.18 1397.95,123.472 \"/>\n",
       "<polyline clip-path=\"url(#clip772)\" style=\"stroke:#000000; stroke-linecap:round; stroke-linejoin:round; stroke-width:2; stroke-opacity:0.1; fill:none\" points=\"1845.17,1423.18 1845.17,123.472 \"/>\n",
       "<polyline clip-path=\"url(#clip772)\" style=\"stroke:#000000; stroke-linecap:round; stroke-linejoin:round; stroke-width:2; stroke-opacity:0.1; fill:none\" points=\"2292.38,1423.18 2292.38,123.472 \"/>\n",
       "<polyline clip-path=\"url(#clip772)\" style=\"stroke:#000000; stroke-linecap:round; stroke-linejoin:round; stroke-width:2; stroke-opacity:0.1; fill:none\" points=\"219.542,1386.4 2352.76,1386.4 \"/>\n",
       "<polyline clip-path=\"url(#clip772)\" style=\"stroke:#000000; stroke-linecap:round; stroke-linejoin:round; stroke-width:2; stroke-opacity:0.1; fill:none\" points=\"219.542,1086.67 2352.76,1086.67 \"/>\n",
       "<polyline clip-path=\"url(#clip772)\" style=\"stroke:#000000; stroke-linecap:round; stroke-linejoin:round; stroke-width:2; stroke-opacity:0.1; fill:none\" points=\"219.542,786.95 2352.76,786.95 \"/>\n",
       "<polyline clip-path=\"url(#clip772)\" style=\"stroke:#000000; stroke-linecap:round; stroke-linejoin:round; stroke-width:2; stroke-opacity:0.1; fill:none\" points=\"219.542,487.227 2352.76,487.227 \"/>\n",
       "<polyline clip-path=\"url(#clip772)\" style=\"stroke:#000000; stroke-linecap:round; stroke-linejoin:round; stroke-width:2; stroke-opacity:0.1; fill:none\" points=\"219.542,187.504 2352.76,187.504 \"/>\n",
       "<polyline clip-path=\"url(#clip770)\" style=\"stroke:#000000; stroke-linecap:round; stroke-linejoin:round; stroke-width:4; stroke-opacity:1; fill:none\" points=\"219.542,1423.18 2352.76,1423.18 \"/>\n",
       "<polyline clip-path=\"url(#clip770)\" style=\"stroke:#000000; stroke-linecap:round; stroke-linejoin:round; stroke-width:4; stroke-opacity:1; fill:none\" points=\"503.523,1423.18 503.523,1404.28 \"/>\n",
       "<polyline clip-path=\"url(#clip770)\" style=\"stroke:#000000; stroke-linecap:round; stroke-linejoin:round; stroke-width:4; stroke-opacity:1; fill:none\" points=\"950.738,1423.18 950.738,1404.28 \"/>\n",
       "<polyline clip-path=\"url(#clip770)\" style=\"stroke:#000000; stroke-linecap:round; stroke-linejoin:round; stroke-width:4; stroke-opacity:1; fill:none\" points=\"1397.95,1423.18 1397.95,1404.28 \"/>\n",
       "<polyline clip-path=\"url(#clip770)\" style=\"stroke:#000000; stroke-linecap:round; stroke-linejoin:round; stroke-width:4; stroke-opacity:1; fill:none\" points=\"1845.17,1423.18 1845.17,1404.28 \"/>\n",
       "<polyline clip-path=\"url(#clip770)\" style=\"stroke:#000000; stroke-linecap:round; stroke-linejoin:round; stroke-width:4; stroke-opacity:1; fill:none\" points=\"2292.38,1423.18 2292.38,1404.28 \"/>\n",
       "<path clip-path=\"url(#clip770)\" d=\"M498.176 1481.64 L514.496 1481.64 L514.496 1485.58 L492.551 1485.58 L492.551 1481.64 Q495.213 1478.89 499.797 1474.26 Q504.403 1469.61 505.584 1468.27 Q507.829 1465.74 508.709 1464.01 Q509.611 1462.25 509.611 1460.56 Q509.611 1457.8 507.667 1456.07 Q505.746 1454.33 502.644 1454.33 Q500.445 1454.33 497.991 1455.09 Q495.561 1455.86 492.783 1457.41 L492.783 1452.69 Q495.607 1451.55 498.061 1450.97 Q500.514 1450.39 502.551 1450.39 Q507.922 1450.39 511.116 1453.08 Q514.31 1455.77 514.31 1460.26 Q514.31 1462.39 513.5 1464.31 Q512.713 1466.2 510.607 1468.8 Q510.028 1469.47 506.926 1472.69 Q503.824 1475.88 498.176 1481.64 Z\" fill=\"#000000\" fill-rule=\"nonzero\" fill-opacity=\"1\" /><path clip-path=\"url(#clip770)\" d=\"M953.747 1455.09 L941.942 1473.54 L953.747 1473.54 L953.747 1455.09 M952.52 1451.02 L958.4 1451.02 L958.4 1473.54 L963.331 1473.54 L963.331 1477.43 L958.4 1477.43 L958.4 1485.58 L953.747 1485.58 L953.747 1477.43 L938.146 1477.43 L938.146 1472.92 L952.52 1451.02 Z\" fill=\"#000000\" fill-rule=\"nonzero\" fill-opacity=\"1\" /><path clip-path=\"url(#clip770)\" d=\"M1398.36 1466.44 Q1395.21 1466.44 1393.36 1468.59 Q1391.53 1470.74 1391.53 1474.49 Q1391.53 1478.22 1393.36 1480.39 Q1395.21 1482.55 1398.36 1482.55 Q1401.51 1482.55 1403.33 1480.39 Q1405.19 1478.22 1405.19 1474.49 Q1405.19 1470.74 1403.33 1468.59 Q1401.51 1466.44 1398.36 1466.44 M1407.64 1451.78 L1407.64 1456.04 Q1405.88 1455.21 1404.08 1454.77 Q1402.29 1454.33 1400.53 1454.33 Q1395.9 1454.33 1393.45 1457.45 Q1391.02 1460.58 1390.67 1466.9 Q1392.04 1464.89 1394.1 1463.82 Q1396.16 1462.73 1398.64 1462.73 Q1403.84 1462.73 1406.85 1465.9 Q1409.89 1469.05 1409.89 1474.49 Q1409.89 1479.82 1406.74 1483.03 Q1403.59 1486.25 1398.36 1486.25 Q1392.36 1486.25 1389.19 1481.67 Q1386.02 1477.06 1386.02 1468.33 Q1386.02 1460.14 1389.91 1455.28 Q1393.8 1450.39 1400.35 1450.39 Q1402.11 1450.39 1403.89 1450.74 Q1405.7 1451.09 1407.64 1451.78 Z\" fill=\"#000000\" fill-rule=\"nonzero\" fill-opacity=\"1\" /><path clip-path=\"url(#clip770)\" d=\"M1845.17 1469.17 Q1841.83 1469.17 1839.91 1470.95 Q1838.01 1472.73 1838.01 1475.86 Q1838.01 1478.98 1839.91 1480.77 Q1841.83 1482.55 1845.17 1482.55 Q1848.5 1482.55 1850.42 1480.77 Q1852.34 1478.96 1852.34 1475.86 Q1852.34 1472.73 1850.42 1470.95 Q1848.52 1469.17 1845.17 1469.17 M1840.49 1467.18 Q1837.48 1466.44 1835.79 1464.38 Q1834.13 1462.32 1834.13 1459.35 Q1834.13 1455.21 1837.07 1452.8 Q1840.03 1450.39 1845.17 1450.39 Q1850.33 1450.39 1853.27 1452.8 Q1856.21 1455.21 1856.21 1459.35 Q1856.21 1462.32 1854.52 1464.38 Q1852.85 1466.44 1849.87 1467.18 Q1853.25 1467.96 1855.12 1470.26 Q1857.02 1472.55 1857.02 1475.86 Q1857.02 1480.88 1853.94 1483.57 Q1850.88 1486.25 1845.17 1486.25 Q1839.45 1486.25 1836.37 1483.57 Q1833.32 1480.88 1833.32 1475.86 Q1833.32 1472.55 1835.21 1470.26 Q1837.11 1467.96 1840.49 1467.18 M1838.78 1459.79 Q1838.78 1462.48 1840.45 1463.98 Q1842.13 1465.49 1845.17 1465.49 Q1848.18 1465.49 1849.87 1463.98 Q1851.58 1462.48 1851.58 1459.79 Q1851.58 1457.11 1849.87 1455.6 Q1848.18 1454.1 1845.17 1454.1 Q1842.13 1454.1 1840.45 1455.6 Q1838.78 1457.11 1838.78 1459.79 Z\" fill=\"#000000\" fill-rule=\"nonzero\" fill-opacity=\"1\" /><path clip-path=\"url(#clip770)\" d=\"M2267.07 1481.64 L2274.71 1481.64 L2274.71 1455.28 L2266.4 1456.95 L2266.4 1452.69 L2274.66 1451.02 L2279.34 1451.02 L2279.34 1481.64 L2286.98 1481.64 L2286.98 1485.58 L2267.07 1485.58 L2267.07 1481.64 Z\" fill=\"#000000\" fill-rule=\"nonzero\" fill-opacity=\"1\" /><path clip-path=\"url(#clip770)\" d=\"M2306.42 1454.1 Q2302.81 1454.1 2300.98 1457.66 Q2299.18 1461.2 2299.18 1468.33 Q2299.18 1475.44 2300.98 1479.01 Q2302.81 1482.55 2306.42 1482.55 Q2310.06 1482.55 2311.86 1479.01 Q2313.69 1475.44 2313.69 1468.33 Q2313.69 1461.2 2311.86 1457.66 Q2310.06 1454.1 2306.42 1454.1 M2306.42 1450.39 Q2312.23 1450.39 2315.29 1455 Q2318.37 1459.58 2318.37 1468.33 Q2318.37 1477.06 2315.29 1481.67 Q2312.23 1486.25 2306.42 1486.25 Q2300.61 1486.25 2297.53 1481.67 Q2294.48 1477.06 2294.48 1468.33 Q2294.48 1459.58 2297.53 1455 Q2300.61 1450.39 2306.42 1450.39 Z\" fill=\"#000000\" fill-rule=\"nonzero\" fill-opacity=\"1\" /><path clip-path=\"url(#clip770)\" d=\"M867.174 1537.87 Q866.187 1537.3 865.01 1537.04 Q863.864 1536.76 862.464 1536.76 Q857.498 1536.76 854.825 1540 Q852.183 1543.22 852.183 1549.27 L852.183 1568.04 L846.295 1568.04 L846.295 1532.4 L852.183 1532.4 L852.183 1537.93 Q854.029 1534.69 856.989 1533.13 Q859.949 1531.54 864.182 1531.54 Q864.787 1531.54 865.519 1531.63 Q866.251 1531.7 867.142 1531.85 L867.174 1537.87 Z\" fill=\"#000000\" fill-rule=\"nonzero\" fill-opacity=\"1\" /><path clip-path=\"url(#clip770)\" d=\"M902.377 1548.76 L902.377 1551.62 L875.45 1551.62 Q875.832 1557.67 879.078 1560.85 Q882.356 1564 888.181 1564 Q891.555 1564 894.706 1563.17 Q897.889 1562.35 901.008 1560.69 L901.008 1566.23 Q897.857 1567.57 894.547 1568.27 Q891.237 1568.97 887.831 1568.97 Q879.301 1568.97 874.304 1564 Q869.338 1559.04 869.338 1550.57 Q869.338 1541.82 874.049 1536.69 Q878.792 1531.54 886.812 1531.54 Q894.006 1531.54 898.175 1536.18 Q902.377 1540.8 902.377 1548.76 M896.52 1547.04 Q896.456 1542.23 893.815 1539.37 Q891.205 1536.5 886.876 1536.5 Q881.974 1536.5 879.014 1539.27 Q876.086 1542.04 875.641 1547.07 L896.52 1547.04 Z\" fill=\"#000000\" fill-rule=\"nonzero\" fill-opacity=\"1\" /><path clip-path=\"url(#clip770)\" d=\"M937.643 1533.76 L937.643 1539.24 Q935.16 1537.87 932.645 1537.2 Q930.163 1536.5 927.617 1536.5 Q921.919 1536.5 918.768 1540.13 Q915.617 1543.73 915.617 1550.25 Q915.617 1556.78 918.768 1560.4 Q921.919 1564 927.617 1564 Q930.163 1564 932.645 1563.33 Q935.16 1562.63 937.643 1561.26 L937.643 1566.68 Q935.192 1567.82 932.55 1568.39 Q929.94 1568.97 926.98 1568.97 Q918.927 1568.97 914.185 1563.91 Q909.442 1558.85 909.442 1550.25 Q909.442 1541.53 914.217 1536.53 Q919.023 1531.54 927.362 1531.54 Q930.067 1531.54 932.645 1532.11 Q935.224 1532.65 937.643 1533.76 Z\" fill=\"#000000\" fill-rule=\"nonzero\" fill-opacity=\"1\" /><path clip-path=\"url(#clip770)\" d=\"M961.641 1536.5 Q956.931 1536.5 954.193 1540.19 Q951.456 1543.85 951.456 1550.25 Q951.456 1556.65 954.162 1560.34 Q956.899 1564 961.641 1564 Q966.32 1564 969.057 1560.31 Q971.795 1556.62 971.795 1550.25 Q971.795 1543.92 969.057 1540.23 Q966.32 1536.5 961.641 1536.5 M961.641 1531.54 Q969.28 1531.54 973.641 1536.5 Q978.001 1541.47 978.001 1550.25 Q978.001 1559 973.641 1564 Q969.28 1568.97 961.641 1568.97 Q953.971 1568.97 949.61 1564 Q945.281 1559 945.281 1550.25 Q945.281 1541.47 949.61 1536.5 Q953.971 1531.54 961.641 1531.54 Z\" fill=\"#000000\" fill-rule=\"nonzero\" fill-opacity=\"1\" /><path clip-path=\"url(#clip770)\" d=\"M1008.37 1537.87 Q1007.38 1537.3 1006.2 1537.04 Q1005.06 1536.76 1003.65 1536.76 Q998.69 1536.76 996.016 1540 Q993.374 1543.22 993.374 1549.27 L993.374 1568.04 L987.486 1568.04 L987.486 1532.4 L993.374 1532.4 L993.374 1537.93 Q995.22 1534.69 998.18 1533.13 Q1001.14 1531.54 1005.37 1531.54 Q1005.98 1531.54 1006.71 1531.63 Q1007.44 1531.7 1008.33 1531.85 L1008.37 1537.87 Z\" fill=\"#000000\" fill-rule=\"nonzero\" fill-opacity=\"1\" /><path clip-path=\"url(#clip770)\" d=\"M1036.82 1537.81 L1036.82 1518.52 L1042.68 1518.52 L1042.68 1568.04 L1036.82 1568.04 L1036.82 1562.7 Q1034.97 1565.88 1032.14 1567.44 Q1029.34 1568.97 1025.39 1568.97 Q1018.93 1568.97 1014.86 1563.81 Q1010.82 1558.65 1010.82 1550.25 Q1010.82 1541.85 1014.86 1536.69 Q1018.93 1531.54 1025.39 1531.54 Q1029.34 1531.54 1032.14 1533.1 Q1034.97 1534.62 1036.82 1537.81 M1016.86 1550.25 Q1016.86 1556.71 1019.51 1560.4 Q1022.18 1564.07 1026.83 1564.07 Q1031.47 1564.07 1034.15 1560.4 Q1036.82 1556.71 1036.82 1550.25 Q1036.82 1543.79 1034.15 1540.13 Q1031.47 1536.44 1026.83 1536.44 Q1022.18 1536.44 1019.51 1540.13 Q1016.86 1543.79 1016.86 1550.25 Z\" fill=\"#000000\" fill-rule=\"nonzero\" fill-opacity=\"1\" /><path clip-path=\"url(#clip770)\" d=\"M1085.23 1548.76 L1085.23 1551.62 L1058.3 1551.62 Q1058.69 1557.67 1061.93 1560.85 Q1065.21 1564 1071.04 1564 Q1074.41 1564 1077.56 1563.17 Q1080.74 1562.35 1083.86 1560.69 L1083.86 1566.23 Q1080.71 1567.57 1077.4 1568.27 Q1074.09 1568.97 1070.69 1568.97 Q1062.16 1568.97 1057.16 1564 Q1052.19 1559.04 1052.19 1550.57 Q1052.19 1541.82 1056.9 1536.69 Q1061.65 1531.54 1069.67 1531.54 Q1076.86 1531.54 1081.03 1536.18 Q1085.23 1540.8 1085.23 1548.76 M1079.37 1547.04 Q1079.31 1542.23 1076.67 1539.37 Q1074.06 1536.5 1069.73 1536.5 Q1064.83 1536.5 1061.87 1539.27 Q1058.94 1542.04 1058.5 1547.07 L1079.37 1547.04 Z\" fill=\"#000000\" fill-rule=\"nonzero\" fill-opacity=\"1\" /><path clip-path=\"url(#clip770)\" d=\"M1118.3 1537.81 L1118.3 1518.52 L1124.16 1518.52 L1124.16 1568.04 L1118.3 1568.04 L1118.3 1562.7 Q1116.46 1565.88 1113.62 1567.44 Q1110.82 1568.97 1106.87 1568.97 Q1100.41 1568.97 1096.34 1563.81 Q1092.3 1558.65 1092.3 1550.25 Q1092.3 1541.85 1096.34 1536.69 Q1100.41 1531.54 1106.87 1531.54 Q1110.82 1531.54 1113.62 1533.1 Q1116.46 1534.62 1118.3 1537.81 M1098.34 1550.25 Q1098.34 1556.71 1100.99 1560.4 Q1103.66 1564.07 1108.31 1564.07 Q1112.95 1564.07 1115.63 1560.4 Q1118.3 1556.71 1118.3 1550.25 Q1118.3 1543.79 1115.63 1540.13 Q1112.95 1536.44 1108.31 1536.44 Q1103.66 1536.44 1100.99 1540.13 Q1098.34 1543.79 1098.34 1550.25 Z\" fill=\"#000000\" fill-rule=\"nonzero\" fill-opacity=\"1\" /><path clip-path=\"url(#clip770)\" d=\"M1179.67 1533.45 L1179.67 1538.98 Q1177.18 1537.71 1174.51 1537.07 Q1171.84 1536.44 1168.97 1536.44 Q1164.61 1536.44 1162.42 1537.77 Q1160.25 1539.11 1160.25 1541.79 Q1160.25 1543.82 1161.81 1545 Q1163.37 1546.15 1168.08 1547.2 L1170.09 1547.64 Q1176.32 1548.98 1178.93 1551.43 Q1181.58 1553.85 1181.58 1558.21 Q1181.58 1563.17 1177.63 1566.07 Q1173.71 1568.97 1166.84 1568.97 Q1163.98 1568.97 1160.86 1568.39 Q1157.77 1567.85 1154.33 1566.74 L1154.33 1560.69 Q1157.58 1562.38 1160.73 1563.24 Q1163.88 1564.07 1166.97 1564.07 Q1171.1 1564.07 1173.33 1562.66 Q1175.56 1561.23 1175.56 1558.65 Q1175.56 1556.27 1173.94 1554.99 Q1172.35 1553.72 1166.9 1552.54 L1164.87 1552.07 Q1159.42 1550.92 1157 1548.56 Q1154.59 1546.18 1154.59 1542.04 Q1154.59 1537.01 1158.15 1534.27 Q1161.72 1531.54 1168.27 1531.54 Q1171.52 1531.54 1174.38 1532.01 Q1177.25 1532.49 1179.67 1533.45 Z\" fill=\"#000000\" fill-rule=\"nonzero\" fill-opacity=\"1\" /><path clip-path=\"url(#clip770)\" d=\"M1207.1 1550.12 Q1200.01 1550.12 1197.27 1551.75 Q1194.53 1553.37 1194.53 1557.29 Q1194.53 1560.4 1196.57 1562.25 Q1198.64 1564.07 1202.17 1564.07 Q1207.04 1564.07 1209.97 1560.63 Q1212.93 1557.16 1212.93 1551.43 L1212.93 1550.12 L1207.1 1550.12 M1218.78 1547.71 L1218.78 1568.04 L1212.93 1568.04 L1212.93 1562.63 Q1210.92 1565.88 1207.93 1567.44 Q1204.94 1568.97 1200.61 1568.97 Q1195.14 1568.97 1191.89 1565.91 Q1188.67 1562.82 1188.67 1557.67 Q1188.67 1551.65 1192.68 1548.6 Q1196.73 1545.54 1204.72 1545.54 L1212.93 1545.54 L1212.93 1544.97 Q1212.93 1540.93 1210.25 1538.73 Q1207.61 1536.5 1202.81 1536.5 Q1199.75 1536.5 1196.85 1537.23 Q1193.96 1537.97 1191.28 1539.43 L1191.28 1534.02 Q1194.5 1532.78 1197.52 1532.17 Q1200.55 1531.54 1203.41 1531.54 Q1211.15 1531.54 1214.96 1535.55 Q1218.78 1539.56 1218.78 1547.71 Z\" fill=\"#000000\" fill-rule=\"nonzero\" fill-opacity=\"1\" /><path clip-path=\"url(#clip770)\" d=\"M1258.6 1539.24 Q1260.8 1535.29 1263.85 1533.41 Q1266.91 1531.54 1271.05 1531.54 Q1276.62 1531.54 1279.64 1535.45 Q1282.66 1539.33 1282.66 1546.53 L1282.66 1568.04 L1276.78 1568.04 L1276.78 1546.72 Q1276.78 1541.59 1274.96 1539.11 Q1273.15 1536.63 1269.42 1536.63 Q1264.87 1536.63 1262.23 1539.65 Q1259.59 1542.68 1259.59 1547.9 L1259.59 1568.04 L1253.7 1568.04 L1253.7 1546.72 Q1253.7 1541.56 1251.89 1539.11 Q1250.07 1536.63 1246.28 1536.63 Q1241.8 1536.63 1239.15 1539.68 Q1236.51 1542.71 1236.51 1547.9 L1236.51 1568.04 L1230.62 1568.04 L1230.62 1532.4 L1236.51 1532.4 L1236.51 1537.93 Q1238.52 1534.66 1241.32 1533.1 Q1244.12 1531.54 1247.97 1531.54 Q1251.85 1531.54 1254.56 1533.51 Q1257.3 1535.48 1258.6 1539.24 Z\" fill=\"#000000\" fill-rule=\"nonzero\" fill-opacity=\"1\" /><path clip-path=\"url(#clip770)\" d=\"M1300.01 1562.7 L1300.01 1581.6 L1294.12 1581.6 L1294.12 1532.4 L1300.01 1532.4 L1300.01 1537.81 Q1301.86 1534.62 1304.66 1533.1 Q1307.49 1531.54 1311.4 1531.54 Q1317.9 1531.54 1321.94 1536.69 Q1326.01 1541.85 1326.01 1550.25 Q1326.01 1558.65 1321.94 1563.81 Q1317.9 1568.97 1311.4 1568.97 Q1307.49 1568.97 1304.66 1567.44 Q1301.86 1565.88 1300.01 1562.7 M1319.94 1550.25 Q1319.94 1543.79 1317.26 1540.13 Q1314.62 1536.44 1309.97 1536.44 Q1305.33 1536.44 1302.65 1540.13 Q1300.01 1543.79 1300.01 1550.25 Q1300.01 1556.71 1302.65 1560.4 Q1305.33 1564.07 1309.97 1564.07 Q1314.62 1564.07 1317.26 1560.4 Q1319.94 1556.71 1319.94 1550.25 Z\" fill=\"#000000\" fill-rule=\"nonzero\" fill-opacity=\"1\" /><path clip-path=\"url(#clip770)\" d=\"M1335.72 1518.52 L1341.58 1518.52 L1341.58 1568.04 L1335.72 1568.04 L1335.72 1518.52 Z\" fill=\"#000000\" fill-rule=\"nonzero\" fill-opacity=\"1\" /><path clip-path=\"url(#clip770)\" d=\"M1384.32 1548.76 L1384.32 1551.62 L1357.4 1551.62 Q1357.78 1557.67 1361.03 1560.85 Q1364.3 1564 1370.13 1564 Q1373.5 1564 1376.65 1563.17 Q1379.84 1562.35 1382.96 1560.69 L1382.96 1566.23 Q1379.8 1567.57 1376.49 1568.27 Q1373.18 1568.97 1369.78 1568.97 Q1361.25 1568.97 1356.25 1564 Q1351.29 1559.04 1351.29 1550.57 Q1351.29 1541.82 1356 1536.69 Q1360.74 1531.54 1368.76 1531.54 Q1375.95 1531.54 1380.12 1536.18 Q1384.32 1540.8 1384.32 1548.76 M1378.47 1547.04 Q1378.4 1542.23 1375.76 1539.37 Q1373.15 1536.5 1368.82 1536.5 Q1363.92 1536.5 1360.96 1539.27 Q1358.03 1542.04 1357.59 1547.07 L1378.47 1547.04 Z\" fill=\"#000000\" fill-rule=\"nonzero\" fill-opacity=\"1\" /><path clip-path=\"url(#clip770)\" d=\"M1416.66 1533.45 L1416.66 1538.98 Q1414.18 1537.71 1411.51 1537.07 Q1408.83 1536.44 1405.97 1536.44 Q1401.61 1536.44 1399.41 1537.77 Q1397.25 1539.11 1397.25 1541.79 Q1397.25 1543.82 1398.81 1545 Q1400.37 1546.15 1405.08 1547.2 L1407.08 1547.64 Q1413.32 1548.98 1415.93 1551.43 Q1418.57 1553.85 1418.57 1558.21 Q1418.57 1563.17 1414.62 1566.07 Q1410.71 1568.97 1403.84 1568.97 Q1400.97 1568.97 1397.85 1568.39 Q1394.76 1567.85 1391.33 1566.74 L1391.33 1560.69 Q1394.57 1562.38 1397.72 1563.24 Q1400.87 1564.07 1403.96 1564.07 Q1408.1 1564.07 1410.33 1562.66 Q1412.56 1561.23 1412.56 1558.65 Q1412.56 1556.27 1410.93 1554.99 Q1409.34 1553.72 1403.9 1552.54 L1401.86 1552.07 Q1396.42 1550.92 1394 1548.56 Q1391.58 1546.18 1391.58 1542.04 Q1391.58 1537.01 1395.15 1534.27 Q1398.71 1531.54 1405.27 1531.54 Q1408.51 1531.54 1411.38 1532.01 Q1414.24 1532.49 1416.66 1533.45 Z\" fill=\"#000000\" fill-rule=\"nonzero\" fill-opacity=\"1\" /><path clip-path=\"url(#clip770)\" d=\"M1462.43 1536.5 Q1457.72 1536.5 1454.98 1540.19 Q1452.25 1543.85 1452.25 1550.25 Q1452.25 1556.65 1454.95 1560.34 Q1457.69 1564 1462.43 1564 Q1467.11 1564 1469.85 1560.31 Q1472.58 1556.62 1472.58 1550.25 Q1472.58 1543.92 1469.85 1540.23 Q1467.11 1536.5 1462.43 1536.5 M1462.43 1531.54 Q1470.07 1531.54 1474.43 1536.5 Q1478.79 1541.47 1478.79 1550.25 Q1478.79 1559 1474.43 1564 Q1470.07 1568.97 1462.43 1568.97 Q1454.76 1568.97 1450.4 1564 Q1446.07 1559 1446.07 1550.25 Q1446.07 1541.47 1450.4 1536.5 Q1454.76 1531.54 1462.43 1531.54 Z\" fill=\"#000000\" fill-rule=\"nonzero\" fill-opacity=\"1\" /><path clip-path=\"url(#clip770)\" d=\"M1506.55 1518.52 L1506.55 1523.39 L1500.94 1523.39 Q1497.79 1523.39 1496.55 1524.66 Q1495.34 1525.93 1495.34 1529.24 L1495.34 1532.4 L1504.99 1532.4 L1504.99 1536.95 L1495.34 1536.95 L1495.34 1568.04 L1489.45 1568.04 L1489.45 1536.95 L1483.85 1536.95 L1483.85 1532.4 L1489.45 1532.4 L1489.45 1529.91 Q1489.45 1523.96 1492.22 1521.26 Q1494.99 1518.52 1501.01 1518.52 L1506.55 1518.52 Z\" fill=\"#000000\" fill-rule=\"nonzero\" fill-opacity=\"1\" /><path clip-path=\"url(#clip770)\" d=\"M1532.42 1520.52 L1542 1520.52 L1554.13 1552.86 L1566.32 1520.52 L1575.9 1520.52 L1575.9 1568.04 L1569.63 1568.04 L1569.63 1526.32 L1557.38 1558.91 L1550.91 1558.91 L1538.66 1526.32 L1538.66 1568.04 L1532.42 1568.04 L1532.42 1520.52 Z\" fill=\"#000000\" fill-rule=\"nonzero\" fill-opacity=\"1\" /><path clip-path=\"url(#clip770)\" d=\"M1624.25 1524.18 L1624.25 1530.96 Q1621 1527.94 1617.31 1526.44 Q1613.65 1524.95 1609.51 1524.95 Q1601.36 1524.95 1597.03 1529.95 Q1592.71 1534.91 1592.71 1544.33 Q1592.71 1553.72 1597.03 1558.72 Q1601.36 1563.68 1609.51 1563.68 Q1613.65 1563.68 1617.31 1562.19 Q1621 1560.69 1624.25 1557.67 L1624.25 1564.38 Q1620.87 1566.68 1617.09 1567.82 Q1613.33 1568.97 1609.13 1568.97 Q1598.34 1568.97 1592.13 1562.38 Q1585.93 1555.76 1585.93 1544.33 Q1585.93 1532.87 1592.13 1526.28 Q1598.34 1519.66 1609.13 1519.66 Q1613.39 1519.66 1617.15 1520.81 Q1620.94 1521.92 1624.25 1524.18 Z\" fill=\"#000000\" fill-rule=\"nonzero\" fill-opacity=\"1\" /><path clip-path=\"url(#clip770)\" d=\"M1634.18 1520.52 L1643.76 1520.52 L1655.89 1552.86 L1668.08 1520.52 L1677.66 1520.52 L1677.66 1568.04 L1671.39 1568.04 L1671.39 1526.32 L1659.13 1558.91 L1652.67 1558.91 L1640.42 1526.32 L1640.42 1568.04 L1634.18 1568.04 L1634.18 1520.52 Z\" fill=\"#000000\" fill-rule=\"nonzero\" fill-opacity=\"1\" /><path clip-path=\"url(#clip770)\" d=\"M1726 1524.18 L1726 1530.96 Q1722.76 1527.94 1719.06 1526.44 Q1715.4 1524.95 1711.27 1524.95 Q1703.12 1524.95 1698.79 1529.95 Q1694.46 1534.91 1694.46 1544.33 Q1694.46 1553.72 1698.79 1558.72 Q1703.12 1563.68 1711.27 1563.68 Q1715.4 1563.68 1719.06 1562.19 Q1722.76 1560.69 1726 1557.67 L1726 1564.38 Q1722.63 1566.68 1718.84 1567.82 Q1715.09 1568.97 1710.88 1568.97 Q1700.1 1568.97 1693.89 1562.38 Q1687.68 1555.76 1687.68 1544.33 Q1687.68 1532.87 1693.89 1526.28 Q1700.1 1519.66 1710.88 1519.66 Q1715.15 1519.66 1718.91 1520.81 Q1722.69 1521.92 1726 1524.18 Z\" fill=\"#000000\" fill-rule=\"nonzero\" fill-opacity=\"1\" /><polyline clip-path=\"url(#clip770)\" style=\"stroke:#000000; stroke-linecap:round; stroke-linejoin:round; stroke-width:4; stroke-opacity:1; fill:none\" points=\"219.542,1423.18 219.542,123.472 \"/>\n",
       "<polyline clip-path=\"url(#clip770)\" style=\"stroke:#000000; stroke-linecap:round; stroke-linejoin:round; stroke-width:4; stroke-opacity:1; fill:none\" points=\"219.542,1386.4 238.44,1386.4 \"/>\n",
       "<polyline clip-path=\"url(#clip770)\" style=\"stroke:#000000; stroke-linecap:round; stroke-linejoin:round; stroke-width:4; stroke-opacity:1; fill:none\" points=\"219.542,1086.67 238.44,1086.67 \"/>\n",
       "<polyline clip-path=\"url(#clip770)\" style=\"stroke:#000000; stroke-linecap:round; stroke-linejoin:round; stroke-width:4; stroke-opacity:1; fill:none\" points=\"219.542,786.95 238.44,786.95 \"/>\n",
       "<polyline clip-path=\"url(#clip770)\" style=\"stroke:#000000; stroke-linecap:round; stroke-linejoin:round; stroke-width:4; stroke-opacity:1; fill:none\" points=\"219.542,487.227 238.44,487.227 \"/>\n",
       "<polyline clip-path=\"url(#clip770)\" style=\"stroke:#000000; stroke-linecap:round; stroke-linejoin:round; stroke-width:4; stroke-opacity:1; fill:none\" points=\"219.542,187.504 238.44,187.504 \"/>\n",
       "<path clip-path=\"url(#clip770)\" d=\"M127.362 1372.19 Q123.751 1372.19 121.922 1375.76 Q120.117 1379.3 120.117 1386.43 Q120.117 1393.54 121.922 1397.1 Q123.751 1400.64 127.362 1400.64 Q130.996 1400.64 132.802 1397.1 Q134.63 1393.54 134.63 1386.43 Q134.63 1379.3 132.802 1375.76 Q130.996 1372.19 127.362 1372.19 M127.362 1368.49 Q133.172 1368.49 136.228 1373.1 Q139.306 1377.68 139.306 1386.43 Q139.306 1395.16 136.228 1399.76 Q133.172 1404.35 127.362 1404.35 Q121.552 1404.35 118.473 1399.76 Q115.418 1395.16 115.418 1386.43 Q115.418 1377.68 118.473 1373.1 Q121.552 1368.49 127.362 1368.49 Z\" fill=\"#000000\" fill-rule=\"nonzero\" fill-opacity=\"1\" /><path clip-path=\"url(#clip770)\" d=\"M147.524 1397.8 L152.408 1397.8 L152.408 1403.68 L147.524 1403.68 L147.524 1397.8 Z\" fill=\"#000000\" fill-rule=\"nonzero\" fill-opacity=\"1\" /><path clip-path=\"url(#clip770)\" d=\"M162.64 1369.12 L180.996 1369.12 L180.996 1373.05 L166.922 1373.05 L166.922 1381.52 Q167.94 1381.18 168.959 1381.01 Q169.977 1380.83 170.996 1380.83 Q176.783 1380.83 180.163 1384 Q183.542 1387.17 183.542 1392.59 Q183.542 1398.17 180.07 1401.27 Q176.598 1404.35 170.278 1404.35 Q168.102 1404.35 165.834 1403.98 Q163.589 1403.61 161.181 1402.87 L161.181 1398.17 Q163.265 1399.3 165.487 1399.86 Q167.709 1400.41 170.186 1400.41 Q174.19 1400.41 176.528 1398.31 Q178.866 1396.2 178.866 1392.59 Q178.866 1388.98 176.528 1386.87 Q174.19 1384.76 170.186 1384.76 Q168.311 1384.76 166.436 1385.18 Q164.584 1385.6 162.64 1386.48 L162.64 1369.12 Z\" fill=\"#000000\" fill-rule=\"nonzero\" fill-opacity=\"1\" /><path clip-path=\"url(#clip770)\" d=\"M126.205 1072.47 Q122.593 1072.47 120.765 1076.04 Q118.959 1079.58 118.959 1086.71 Q118.959 1093.81 120.765 1097.38 Q122.593 1100.92 126.205 1100.92 Q129.839 1100.92 131.644 1097.38 Q133.473 1093.81 133.473 1086.71 Q133.473 1079.58 131.644 1076.04 Q129.839 1072.47 126.205 1072.47 M126.205 1068.77 Q132.015 1068.77 135.07 1073.37 Q138.149 1077.96 138.149 1086.71 Q138.149 1095.43 135.07 1100.04 Q132.015 1104.62 126.205 1104.62 Q120.394 1104.62 117.316 1100.04 Q114.26 1095.43 114.26 1086.71 Q114.26 1077.96 117.316 1073.37 Q120.394 1068.77 126.205 1068.77 Z\" fill=\"#000000\" fill-rule=\"nonzero\" fill-opacity=\"1\" /><path clip-path=\"url(#clip770)\" d=\"M146.366 1098.07 L151.251 1098.07 L151.251 1103.95 L146.366 1103.95 L146.366 1098.07 Z\" fill=\"#000000\" fill-rule=\"nonzero\" fill-opacity=\"1\" /><path clip-path=\"url(#clip770)\" d=\"M172.014 1084.81 Q168.866 1084.81 167.015 1086.96 Q165.186 1089.11 165.186 1092.86 Q165.186 1096.59 167.015 1098.77 Q168.866 1100.92 172.014 1100.92 Q175.163 1100.92 176.991 1098.77 Q178.843 1096.59 178.843 1092.86 Q178.843 1089.11 176.991 1086.96 Q175.163 1084.81 172.014 1084.81 M181.297 1070.16 L181.297 1074.42 Q179.538 1073.58 177.732 1073.14 Q175.95 1072.7 174.19 1072.7 Q169.561 1072.7 167.107 1075.83 Q164.677 1078.95 164.329 1085.27 Q165.695 1083.26 167.755 1082.19 Q169.815 1081.11 172.292 1081.11 Q177.501 1081.11 180.51 1084.28 Q183.542 1087.43 183.542 1092.86 Q183.542 1098.19 180.394 1101.41 Q177.246 1104.62 172.014 1104.62 Q166.019 1104.62 162.848 1100.04 Q159.677 1095.43 159.677 1086.71 Q159.677 1078.51 163.565 1073.65 Q167.454 1068.77 174.005 1068.77 Q175.764 1068.77 177.547 1069.11 Q179.352 1069.46 181.297 1070.16 Z\" fill=\"#000000\" fill-rule=\"nonzero\" fill-opacity=\"1\" /><path clip-path=\"url(#clip770)\" d=\"M127.269 772.748 Q123.658 772.748 121.83 776.313 Q120.024 779.855 120.024 786.984 Q120.024 794.091 121.83 797.656 Q123.658 801.197 127.269 801.197 Q130.904 801.197 132.709 797.656 Q134.538 794.091 134.538 786.984 Q134.538 779.855 132.709 776.313 Q130.904 772.748 127.269 772.748 M127.269 769.045 Q133.08 769.045 136.135 773.651 Q139.214 778.235 139.214 786.984 Q139.214 795.711 136.135 800.318 Q133.08 804.901 127.269 804.901 Q121.459 804.901 118.381 800.318 Q115.325 795.711 115.325 786.984 Q115.325 778.235 118.381 773.651 Q121.459 769.045 127.269 769.045 Z\" fill=\"#000000\" fill-rule=\"nonzero\" fill-opacity=\"1\" /><path clip-path=\"url(#clip770)\" d=\"M147.431 798.35 L152.316 798.35 L152.316 804.23 L147.431 804.23 L147.431 798.35 Z\" fill=\"#000000\" fill-rule=\"nonzero\" fill-opacity=\"1\" /><path clip-path=\"url(#clip770)\" d=\"M161.32 769.67 L183.542 769.67 L183.542 771.66 L170.996 804.23 L166.112 804.23 L177.917 773.605 L161.32 773.605 L161.32 769.67 Z\" fill=\"#000000\" fill-rule=\"nonzero\" fill-opacity=\"1\" /><path clip-path=\"url(#clip770)\" d=\"M126.459 473.025 Q122.848 473.025 121.019 476.59 Q119.214 480.132 119.214 487.262 Q119.214 494.368 121.019 497.933 Q122.848 501.474 126.459 501.474 Q130.093 501.474 131.899 497.933 Q133.728 494.368 133.728 487.262 Q133.728 480.132 131.899 476.59 Q130.093 473.025 126.459 473.025 M126.459 469.322 Q132.269 469.322 135.325 473.928 Q138.404 478.512 138.404 487.262 Q138.404 495.988 135.325 500.595 Q132.269 505.178 126.459 505.178 Q120.649 505.178 117.57 500.595 Q114.515 495.988 114.515 487.262 Q114.515 478.512 117.57 473.928 Q120.649 469.322 126.459 469.322 Z\" fill=\"#000000\" fill-rule=\"nonzero\" fill-opacity=\"1\" /><path clip-path=\"url(#clip770)\" d=\"M146.621 498.627 L151.505 498.627 L151.505 504.507 L146.621 504.507 L146.621 498.627 Z\" fill=\"#000000\" fill-rule=\"nonzero\" fill-opacity=\"1\" /><path clip-path=\"url(#clip770)\" d=\"M171.69 488.095 Q168.357 488.095 166.436 489.877 Q164.538 491.66 164.538 494.785 Q164.538 497.91 166.436 499.692 Q168.357 501.474 171.69 501.474 Q175.024 501.474 176.945 499.692 Q178.866 497.886 178.866 494.785 Q178.866 491.66 176.945 489.877 Q175.047 488.095 171.69 488.095 M167.015 486.104 Q164.005 485.363 162.315 483.303 Q160.649 481.243 160.649 478.28 Q160.649 474.137 163.589 471.729 Q166.552 469.322 171.69 469.322 Q176.852 469.322 179.792 471.729 Q182.732 474.137 182.732 478.28 Q182.732 481.243 181.042 483.303 Q179.376 485.363 176.389 486.104 Q179.769 486.891 181.644 489.183 Q183.542 491.474 183.542 494.785 Q183.542 499.808 180.464 502.493 Q177.408 505.178 171.69 505.178 Q165.973 505.178 162.894 502.493 Q159.839 499.808 159.839 494.785 Q159.839 491.474 161.737 489.183 Q163.635 486.891 167.015 486.104 M165.302 478.72 Q165.302 481.405 166.968 482.91 Q168.658 484.414 171.69 484.414 Q174.7 484.414 176.389 482.91 Q178.102 481.405 178.102 478.72 Q178.102 476.035 176.389 474.53 Q174.7 473.025 171.69 473.025 Q168.658 473.025 166.968 474.53 Q165.302 476.035 165.302 478.72 Z\" fill=\"#000000\" fill-rule=\"nonzero\" fill-opacity=\"1\" /><path clip-path=\"url(#clip770)\" d=\"M126.552 173.303 Q122.941 173.303 121.112 176.867 Q119.306 180.409 119.306 187.539 Q119.306 194.645 121.112 198.21 Q122.941 201.751 126.552 201.751 Q130.186 201.751 131.992 198.21 Q133.82 194.645 133.82 187.539 Q133.82 180.409 131.992 176.867 Q130.186 173.303 126.552 173.303 M126.552 169.599 Q132.362 169.599 135.417 174.205 Q138.496 178.789 138.496 187.539 Q138.496 196.265 135.417 200.872 Q132.362 205.455 126.552 205.455 Q120.742 205.455 117.663 200.872 Q114.607 196.265 114.607 187.539 Q114.607 178.789 117.663 174.205 Q120.742 169.599 126.552 169.599 Z\" fill=\"#000000\" fill-rule=\"nonzero\" fill-opacity=\"1\" /><path clip-path=\"url(#clip770)\" d=\"M146.714 198.904 L151.598 198.904 L151.598 204.784 L146.714 204.784 L146.714 198.904 Z\" fill=\"#000000\" fill-rule=\"nonzero\" fill-opacity=\"1\" /><path clip-path=\"url(#clip770)\" d=\"M161.922 204.066 L161.922 199.807 Q163.681 200.64 165.487 201.08 Q167.292 201.52 169.028 201.52 Q173.658 201.52 176.089 198.418 Q178.542 195.293 178.889 188.951 Q177.547 190.941 175.487 192.006 Q173.427 193.071 170.927 193.071 Q165.741 193.071 162.709 189.946 Q159.7 186.798 159.7 181.358 Q159.7 176.034 162.848 172.816 Q165.996 169.599 171.227 169.599 Q177.223 169.599 180.371 174.205 Q183.542 178.789 183.542 187.539 Q183.542 195.71 179.653 200.594 Q175.788 205.455 169.237 205.455 Q167.477 205.455 165.672 205.108 Q163.866 204.761 161.922 204.066 M171.227 189.414 Q174.376 189.414 176.204 187.261 Q178.056 185.108 178.056 181.358 Q178.056 177.631 176.204 175.478 Q174.376 173.303 171.227 173.303 Q168.079 173.303 166.227 175.478 Q164.399 177.631 164.399 181.358 Q164.399 185.108 166.227 187.261 Q168.079 189.414 171.227 189.414 Z\" fill=\"#000000\" fill-rule=\"nonzero\" fill-opacity=\"1\" /><path clip-path=\"url(#clip770)\" d=\"M22.818 1015.81 L46.4666 1024.53 L46.4666 1007.06 L22.818 1015.81 M16.4842 1019.44 L16.4842 1012.15 L64.0042 994.041 L64.0042 1000.72 L51.8138 1005.05 L51.8138 1026.47 L64.0042 1030.8 L64.0042 1037.58 L16.4842 1019.44 Z\" fill=\"#000000\" fill-rule=\"nonzero\" fill-opacity=\"1\" /><path clip-path=\"url(#clip770)\" d=\"M29.7248 962.849 L35.1993 962.849 Q33.8307 965.332 33.1623 967.846 Q32.4621 970.329 32.4621 972.875 Q32.4621 978.572 36.0905 981.723 Q39.6872 984.874 46.212 984.874 Q52.7369 984.874 56.3653 981.723 Q59.9619 978.572 59.9619 972.875 Q59.9619 970.329 59.2935 967.846 Q58.5933 965.332 57.2247 962.849 L62.6355 962.849 Q63.7814 965.3 64.3543 967.942 Q64.9272 970.551 64.9272 973.512 Q64.9272 981.564 59.8664 986.307 Q54.8057 991.049 46.212 991.049 Q37.491 991.049 32.4939 986.275 Q27.4968 981.469 27.4968 973.13 Q27.4968 970.424 28.0697 967.846 Q28.6108 965.268 29.7248 962.849 Z\" fill=\"#000000\" fill-rule=\"nonzero\" fill-opacity=\"1\" /><path clip-path=\"url(#clip770)\" d=\"M29.7248 927.01 L35.1993 927.01 Q33.8307 929.493 33.1623 932.007 Q32.4621 934.49 32.4621 937.036 Q32.4621 942.733 36.0905 945.884 Q39.6872 949.035 46.212 949.035 Q52.7369 949.035 56.3653 945.884 Q59.9619 942.733 59.9619 937.036 Q59.9619 934.49 59.2935 932.007 Q58.5933 929.493 57.2247 927.01 L62.6355 927.01 Q63.7814 929.461 64.3543 932.103 Q64.9272 934.713 64.9272 937.673 Q64.9272 945.725 59.8664 950.468 Q54.8057 955.21 46.212 955.21 Q37.491 955.21 32.4939 950.436 Q27.4968 945.63 27.4968 937.291 Q27.4968 934.585 28.0697 932.007 Q28.6108 929.429 29.7248 927.01 Z\" fill=\"#000000\" fill-rule=\"nonzero\" fill-opacity=\"1\" /><path clip-path=\"url(#clip770)\" d=\"M44.7161 886.333 L47.5806 886.333 L47.5806 913.26 Q53.6281 912.878 56.8109 909.632 Q59.9619 906.353 59.9619 900.529 Q59.9619 897.155 59.1344 894.004 Q58.3069 890.821 56.6518 887.702 L62.1899 887.702 Q63.5267 890.853 64.227 894.163 Q64.9272 897.473 64.9272 900.879 Q64.9272 909.409 59.9619 914.406 Q54.9967 919.371 46.5303 919.371 Q37.7774 919.371 32.6531 914.661 Q27.4968 909.918 27.4968 901.897 Q27.4968 894.704 32.1438 890.535 Q36.7589 886.333 44.7161 886.333 M42.9973 892.19 Q38.1912 892.253 35.3266 894.895 Q32.4621 897.505 32.4621 901.834 Q32.4621 906.735 35.2312 909.695 Q38.0002 912.624 43.0292 913.069 L42.9973 892.19 Z\" fill=\"#000000\" fill-rule=\"nonzero\" fill-opacity=\"1\" /><path clip-path=\"url(#clip770)\" d=\"M58.657 871.055 L77.5631 871.055 L77.5631 876.944 L28.3562 876.944 L28.3562 871.055 L33.7671 871.055 Q30.5842 869.209 29.0564 866.409 Q27.4968 863.576 27.4968 859.661 Q27.4968 853.168 32.6531 849.126 Q37.8093 845.052 46.212 845.052 Q54.6147 845.052 59.771 849.126 Q64.9272 853.168 64.9272 859.661 Q64.9272 863.576 63.3994 866.409 Q61.8398 869.209 58.657 871.055 M46.212 851.131 Q39.7508 851.131 36.0905 853.804 Q32.3984 856.446 32.3984 861.093 Q32.3984 865.74 36.0905 868.414 Q39.7508 871.055 46.212 871.055 Q52.6732 871.055 56.3653 868.414 Q60.0256 865.74 60.0256 861.093 Q60.0256 856.446 56.3653 853.804 Q52.6732 851.131 46.212 851.131 Z\" fill=\"#000000\" fill-rule=\"nonzero\" fill-opacity=\"1\" /><path clip-path=\"url(#clip770)\" d=\"M18.2347 829.551 L28.3562 829.551 L28.3562 817.488 L32.9077 817.488 L32.9077 829.551 L52.2594 829.551 Q56.6199 829.551 57.8613 828.373 Q59.1026 827.164 59.1026 823.504 L59.1026 817.488 L64.0042 817.488 L64.0042 823.504 Q64.0042 830.283 61.4897 832.861 Q58.9434 835.439 52.2594 835.439 L32.9077 835.439 L32.9077 839.736 L28.3562 839.736 L28.3562 835.439 L18.2347 835.439 L18.2347 829.551 Z\" fill=\"#000000\" fill-rule=\"nonzero\" fill-opacity=\"1\" /><path clip-path=\"url(#clip770)\" d=\"M46.0847 793.585 Q46.0847 800.683 47.7079 803.42 Q49.3312 806.157 53.2461 806.157 Q56.3653 806.157 58.2114 804.12 Q60.0256 802.051 60.0256 798.518 Q60.0256 793.649 56.5881 790.72 Q53.1188 787.76 47.3897 787.76 L46.0847 787.76 L46.0847 793.585 M43.6657 781.904 L64.0042 781.904 L64.0042 787.76 L58.5933 787.76 Q61.8398 789.765 63.3994 792.757 Q64.9272 795.749 64.9272 800.078 Q64.9272 805.552 61.8716 808.799 Q58.7843 812.014 53.6281 812.014 Q47.6125 812.014 44.5569 808.003 Q41.5014 803.961 41.5014 795.972 L41.5014 787.76 L40.9285 787.76 Q36.8862 787.76 34.6901 790.434 Q32.4621 793.076 32.4621 797.882 Q32.4621 800.937 33.1941 803.834 Q33.9262 806.73 35.3903 809.404 L29.9795 809.404 Q28.7381 806.189 28.1334 803.165 Q27.4968 800.142 27.4968 797.277 Q27.4968 789.543 31.5072 785.723 Q35.5176 781.904 43.6657 781.904 Z\" fill=\"#000000\" fill-rule=\"nonzero\" fill-opacity=\"1\" /><path clip-path=\"url(#clip770)\" d=\"M42.4881 740.208 L64.0042 740.208 L64.0042 746.065 L42.679 746.065 Q37.6183 746.065 35.1038 748.038 Q32.5894 750.012 32.5894 753.958 Q32.5894 758.701 35.6131 761.438 Q38.6368 764.175 43.8567 764.175 L64.0042 764.175 L64.0042 770.064 L28.3562 770.064 L28.3562 764.175 L33.8944 764.175 Q30.6797 762.075 29.0883 759.242 Q27.4968 756.377 27.4968 752.653 Q27.4968 746.51 31.3163 743.359 Q35.1038 740.208 42.4881 740.208 Z\" fill=\"#000000\" fill-rule=\"nonzero\" fill-opacity=\"1\" /><path clip-path=\"url(#clip770)\" d=\"M29.7248 702.874 L35.1993 702.874 Q33.8307 705.356 33.1623 707.871 Q32.4621 710.353 32.4621 712.9 Q32.4621 718.597 36.0905 721.748 Q39.6872 724.899 46.212 724.899 Q52.7369 724.899 56.3653 721.748 Q59.9619 718.597 59.9619 712.9 Q59.9619 710.353 59.2935 707.871 Q58.5933 705.356 57.2247 702.874 L62.6355 702.874 Q63.7814 705.324 64.3543 707.966 Q64.9272 710.576 64.9272 713.536 Q64.9272 721.589 59.8664 726.331 Q54.8057 731.074 46.212 731.074 Q37.491 731.074 32.4939 726.299 Q27.4968 721.493 27.4968 713.154 Q27.4968 710.449 28.0697 707.871 Q28.6108 705.292 29.7248 702.874 Z\" fill=\"#000000\" fill-rule=\"nonzero\" fill-opacity=\"1\" /><path clip-path=\"url(#clip770)\" d=\"M44.7161 662.197 L47.5806 662.197 L47.5806 689.124 Q53.6281 688.742 56.8109 685.495 Q59.9619 682.217 59.9619 676.392 Q59.9619 673.018 59.1344 669.867 Q58.3069 666.684 56.6518 663.565 L62.1899 663.565 Q63.5267 666.716 64.227 670.026 Q64.9272 673.337 64.9272 676.742 Q64.9272 685.272 59.9619 690.269 Q54.9967 695.235 46.5303 695.235 Q37.7774 695.235 32.6531 690.524 Q27.4968 685.782 27.4968 677.761 Q27.4968 670.568 32.1438 666.398 Q36.7589 662.197 44.7161 662.197 M42.9973 668.053 Q38.1912 668.117 35.3266 670.759 Q32.4621 673.368 32.4621 677.697 Q32.4621 682.599 35.2312 685.559 Q38.0002 688.487 43.0292 688.933 L42.9973 668.053 Z\" fill=\"#000000\" fill-rule=\"nonzero\" fill-opacity=\"1\" /><path clip-path=\"url(#clip770)\" d=\"M33.8307 611.207 Q33.2578 612.194 33.0032 613.372 Q32.7167 614.518 32.7167 615.918 Q32.7167 620.883 35.9632 623.557 Q39.1779 626.199 45.2253 626.199 L64.0042 626.199 L64.0042 632.087 L28.3562 632.087 L28.3562 626.199 L33.8944 626.199 Q30.6479 624.353 29.0883 621.392 Q27.4968 618.432 27.4968 614.199 Q27.4968 613.594 27.5923 612.862 Q27.656 612.13 27.8151 611.239 L33.8307 611.207 Z\" fill=\"#000000\" fill-rule=\"nonzero\" fill-opacity=\"1\" /><path clip-path=\"url(#clip770)\" d=\"M46.0847 588.864 Q46.0847 595.961 47.7079 598.699 Q49.3312 601.436 53.2461 601.436 Q56.3653 601.436 58.2114 599.399 Q60.0256 597.33 60.0256 593.797 Q60.0256 588.927 56.5881 585.999 Q53.1188 583.039 47.3897 583.039 L46.0847 583.039 L46.0847 588.864 M43.6657 577.183 L64.0042 577.183 L64.0042 583.039 L58.5933 583.039 Q61.8398 585.044 63.3994 588.036 Q64.9272 591.028 64.9272 595.357 Q64.9272 600.831 61.8716 604.078 Q58.7843 607.292 53.6281 607.292 Q47.6125 607.292 44.5569 603.282 Q41.5014 599.24 41.5014 591.251 L41.5014 583.039 L40.9285 583.039 Q36.8862 583.039 34.6901 585.713 Q32.4621 588.354 32.4621 593.161 Q32.4621 596.216 33.1941 599.113 Q33.9262 602.009 35.3903 604.683 L29.9795 604.683 Q28.7381 601.468 28.1334 598.444 Q27.4968 595.42 27.4968 592.556 Q27.4968 584.821 31.5072 581.002 Q35.5176 577.183 43.6657 577.183 Z\" fill=\"#000000\" fill-rule=\"nonzero\" fill-opacity=\"1\" /><path clip-path=\"url(#clip770)\" d=\"M18.2347 559.327 L28.3562 559.327 L28.3562 547.264 L32.9077 547.264 L32.9077 559.327 L52.2594 559.327 Q56.6199 559.327 57.8613 558.149 Q59.1026 556.94 59.1026 553.279 L59.1026 547.264 L64.0042 547.264 L64.0042 553.279 Q64.0042 560.059 61.4897 562.637 Q58.9434 565.215 52.2594 565.215 L32.9077 565.215 L32.9077 569.512 L28.3562 569.512 L28.3562 565.215 L18.2347 565.215 L18.2347 559.327 Z\" fill=\"#000000\" fill-rule=\"nonzero\" fill-opacity=\"1\" /><path clip-path=\"url(#clip770)\" d=\"M44.7161 509.07 L47.5806 509.07 L47.5806 535.997 Q53.6281 535.615 56.8109 532.368 Q59.9619 529.09 59.9619 523.265 Q59.9619 519.891 59.1344 516.74 Q58.3069 513.557 56.6518 510.438 L62.1899 510.438 Q63.5267 513.589 64.227 516.899 Q64.9272 520.21 64.9272 523.615 Q64.9272 532.145 59.9619 537.142 Q54.9967 542.108 46.5303 542.108 Q37.7774 542.108 32.6531 537.397 Q27.4968 532.655 27.4968 524.634 Q27.4968 517.44 32.1438 513.271 Q36.7589 509.07 44.7161 509.07 M42.9973 514.926 Q38.1912 514.99 35.3266 517.631 Q32.4621 520.241 32.4621 524.57 Q32.4621 529.472 35.2312 532.432 Q38.0002 535.36 43.0292 535.806 L42.9973 514.926 Z\" fill=\"#000000\" fill-rule=\"nonzero\" fill-opacity=\"1\" /><path clip-path=\"url(#clip770)\" d=\"M955.737 20.1573 L944.638 50.2555 L966.877 50.2555 L955.737 20.1573 M951.119 12.096 L960.396 12.096 L983.445 72.576 L974.938 72.576 L969.429 57.061 L942.167 57.061 L936.657 72.576 L928.029 72.576 L951.119 12.096 Z\" fill=\"#000000\" fill-rule=\"nonzero\" fill-opacity=\"1\" /><path clip-path=\"url(#clip770)\" d=\"M1023.14 28.9478 L1023.14 35.9153 Q1019.98 34.1734 1016.78 33.3227 Q1013.62 32.4315 1010.38 32.4315 Q1003.13 32.4315 999.122 37.0496 Q995.112 41.6271 995.112 49.9314 Q995.112 58.2358 999.122 62.8538 Q1003.13 67.4314 1010.38 67.4314 Q1013.62 67.4314 1016.78 66.5807 Q1019.98 65.6895 1023.14 63.9476 L1023.14 70.8341 Q1020.02 72.2924 1016.66 73.0216 Q1013.34 73.7508 1009.57 73.7508 Q999.325 73.7508 993.289 67.3098 Q987.253 60.8689 987.253 49.9314 Q987.253 38.832 993.329 32.472 Q999.446 26.1121 1010.06 26.1121 Q1013.5 26.1121 1016.78 26.8413 Q1020.07 27.5299 1023.14 28.9478 Z\" fill=\"#000000\" fill-rule=\"nonzero\" fill-opacity=\"1\" /><path clip-path=\"url(#clip770)\" d=\"M1068.76 28.9478 L1068.76 35.9153 Q1065.6 34.1734 1062.4 33.3227 Q1059.24 32.4315 1056 32.4315 Q1048.75 32.4315 1044.74 37.0496 Q1040.73 41.6271 1040.73 49.9314 Q1040.73 58.2358 1044.74 62.8538 Q1048.75 67.4314 1056 67.4314 Q1059.24 67.4314 1062.4 66.5807 Q1065.6 65.6895 1068.76 63.9476 L1068.76 70.8341 Q1065.64 72.2924 1062.28 73.0216 Q1058.95 73.7508 1055.19 73.7508 Q1044.94 73.7508 1038.9 67.3098 Q1032.87 60.8689 1032.87 49.9314 Q1032.87 38.832 1038.94 32.472 Q1045.06 26.1121 1055.67 26.1121 Q1059.12 26.1121 1062.4 26.8413 Q1065.68 27.5299 1068.76 28.9478 Z\" fill=\"#000000\" fill-rule=\"nonzero\" fill-opacity=\"1\" /><path clip-path=\"url(#clip770)\" d=\"M1120.53 48.0275 L1120.53 51.6733 L1086.26 51.6733 Q1086.74 59.3701 1090.88 63.421 Q1095.05 67.4314 1102.46 67.4314 Q1106.75 67.4314 1110.77 66.3781 Q1114.82 65.3249 1118.79 63.2184 L1118.79 70.267 Q1114.78 71.9684 1110.56 72.8596 Q1106.35 73.7508 1102.02 73.7508 Q1091.16 73.7508 1084.8 67.4314 Q1078.48 61.1119 1078.48 50.3365 Q1078.48 39.1965 1084.47 32.6746 Q1090.51 26.1121 1100.72 26.1121 Q1109.87 26.1121 1115.18 32.0264 Q1120.53 37.9003 1120.53 48.0275 M1113.07 45.84 Q1112.99 39.7232 1109.63 36.0774 Q1106.31 32.4315 1100.8 32.4315 Q1094.56 32.4315 1090.79 35.9558 Q1087.07 39.4801 1086.5 45.8805 L1113.07 45.84 Z\" fill=\"#000000\" fill-rule=\"nonzero\" fill-opacity=\"1\" /><path clip-path=\"url(#clip770)\" d=\"M1139.97 65.7705 L1139.97 89.8329 L1132.48 89.8329 L1132.48 27.2059 L1139.97 27.2059 L1139.97 34.0924 Q1142.32 30.0415 1145.89 28.0971 Q1149.49 26.1121 1154.47 26.1121 Q1162.74 26.1121 1167.88 32.6746 Q1173.07 39.2371 1173.07 49.9314 Q1173.07 60.6258 1167.88 67.1883 Q1162.74 73.7508 1154.47 73.7508 Q1149.49 73.7508 1145.89 71.8063 Q1142.32 69.8214 1139.97 65.7705 M1165.33 49.9314 Q1165.33 41.7081 1161.93 37.0496 Q1158.57 32.3505 1152.65 32.3505 Q1146.74 32.3505 1143.33 37.0496 Q1139.97 41.7081 1139.97 49.9314 Q1139.97 58.1548 1143.33 62.8538 Q1146.74 67.5124 1152.65 67.5124 Q1158.57 67.5124 1161.93 62.8538 Q1165.33 58.1548 1165.33 49.9314 Z\" fill=\"#000000\" fill-rule=\"nonzero\" fill-opacity=\"1\" /><path clip-path=\"url(#clip770)\" d=\"M1192.8 14.324 L1192.8 27.2059 L1208.15 27.2059 L1208.15 32.9987 L1192.8 32.9987 L1192.8 57.6282 Q1192.8 63.1779 1194.29 64.7578 Q1195.83 66.3376 1200.49 66.3376 L1208.15 66.3376 L1208.15 72.576 L1200.49 72.576 Q1191.86 72.576 1188.58 69.3758 Q1185.3 66.1351 1185.3 57.6282 L1185.3 32.9987 L1179.83 32.9987 L1179.83 27.2059 L1185.3 27.2059 L1185.3 14.324 L1192.8 14.324 Z\" fill=\"#000000\" fill-rule=\"nonzero\" fill-opacity=\"1\" /><path clip-path=\"url(#clip770)\" d=\"M1238.57 49.7694 Q1229.54 49.7694 1226.05 51.8354 Q1222.57 53.9013 1222.57 58.8839 Q1222.57 62.8538 1225.16 65.2034 Q1227.8 67.5124 1232.29 67.5124 Q1238.49 67.5124 1242.22 63.1374 Q1245.98 58.7219 1245.98 51.4303 L1245.98 49.7694 L1238.57 49.7694 M1253.44 46.6907 L1253.44 72.576 L1245.98 72.576 L1245.98 65.6895 Q1243.43 69.8214 1239.62 71.8063 Q1235.82 73.7508 1230.31 73.7508 Q1223.34 73.7508 1219.21 69.8619 Q1215.12 65.9325 1215.12 59.3701 Q1215.12 51.7138 1220.22 47.825 Q1225.37 43.9361 1235.53 43.9361 L1245.98 43.9361 L1245.98 43.2069 Q1245.98 38.0623 1242.58 35.2672 Q1239.22 32.4315 1233.1 32.4315 Q1229.21 32.4315 1225.53 33.3632 Q1221.84 34.295 1218.44 36.1584 L1218.44 29.2718 Q1222.53 27.692 1226.38 26.9223 Q1230.23 26.1121 1233.87 26.1121 Q1243.72 26.1121 1248.58 31.2163 Q1253.44 36.3204 1253.44 46.6907 Z\" fill=\"#000000\" fill-rule=\"nonzero\" fill-opacity=\"1\" /><path clip-path=\"url(#clip770)\" d=\"M1306.5 45.1919 L1306.5 72.576 L1299.05 72.576 L1299.05 45.4349 Q1299.05 38.994 1296.54 35.7938 Q1294.03 32.5936 1289 32.5936 Q1282.97 32.5936 1279.49 36.4419 Q1276 40.2903 1276 46.9338 L1276 72.576 L1268.51 72.576 L1268.51 27.2059 L1276 27.2059 L1276 34.2544 Q1278.68 30.163 1282.28 28.1376 Q1285.93 26.1121 1290.67 26.1121 Q1298.48 26.1121 1302.49 30.9732 Q1306.5 35.7938 1306.5 45.1919 Z\" fill=\"#000000\" fill-rule=\"nonzero\" fill-opacity=\"1\" /><path clip-path=\"url(#clip770)\" d=\"M1354.02 28.9478 L1354.02 35.9153 Q1350.86 34.1734 1347.66 33.3227 Q1344.5 32.4315 1341.26 32.4315 Q1334.01 32.4315 1330 37.0496 Q1325.99 41.6271 1325.99 49.9314 Q1325.99 58.2358 1330 62.8538 Q1334.01 67.4314 1341.26 67.4314 Q1344.5 67.4314 1347.66 66.5807 Q1350.86 65.6895 1354.02 63.9476 L1354.02 70.8341 Q1350.9 72.2924 1347.54 73.0216 Q1344.22 73.7508 1340.45 73.7508 Q1330.2 73.7508 1324.17 67.3098 Q1318.13 60.8689 1318.13 49.9314 Q1318.13 38.832 1324.21 32.472 Q1330.32 26.1121 1340.94 26.1121 Q1344.38 26.1121 1347.66 26.8413 Q1350.94 27.5299 1354.02 28.9478 Z\" fill=\"#000000\" fill-rule=\"nonzero\" fill-opacity=\"1\" /><path clip-path=\"url(#clip770)\" d=\"M1405.79 48.0275 L1405.79 51.6733 L1371.52 51.6733 Q1372.01 59.3701 1376.14 63.421 Q1380.31 67.4314 1387.73 67.4314 Q1392.02 67.4314 1396.03 66.3781 Q1400.08 65.3249 1404.05 63.2184 L1404.05 70.267 Q1400.04 71.9684 1395.83 72.8596 Q1391.61 73.7508 1387.28 73.7508 Q1376.42 73.7508 1370.06 67.4314 Q1363.74 61.1119 1363.74 50.3365 Q1363.74 39.1965 1369.74 32.6746 Q1375.78 26.1121 1385.98 26.1121 Q1395.14 26.1121 1400.45 32.0264 Q1405.79 37.9003 1405.79 48.0275 M1398.34 45.84 Q1398.26 39.7232 1394.9 36.0774 Q1391.57 32.4315 1386.06 32.4315 Q1379.83 32.4315 1376.06 35.9558 Q1372.33 39.4801 1371.76 45.8805 L1398.34 45.84 Z\" fill=\"#000000\" fill-rule=\"nonzero\" fill-opacity=\"1\" /><path clip-path=\"url(#clip770)\" d=\"M1470.69 34.1734 Q1469.43 33.4443 1467.93 33.1202 Q1466.48 32.7556 1464.69 32.7556 Q1458.37 32.7556 1454.97 36.8875 Q1451.61 40.9789 1451.61 48.6757 L1451.61 72.576 L1444.11 72.576 L1444.11 27.2059 L1451.61 27.2059 L1451.61 34.2544 Q1453.96 30.1225 1457.73 28.1376 Q1461.49 26.1121 1466.88 26.1121 Q1467.65 26.1121 1468.58 26.2337 Q1469.51 26.3147 1470.65 26.5172 L1470.69 34.1734 Z\" fill=\"#000000\" fill-rule=\"nonzero\" fill-opacity=\"1\" /><path clip-path=\"url(#clip770)\" d=\"M1499.13 49.7694 Q1490.09 49.7694 1486.61 51.8354 Q1483.12 53.9013 1483.12 58.8839 Q1483.12 62.8538 1485.72 65.2034 Q1488.35 67.5124 1492.85 67.5124 Q1499.04 67.5124 1502.77 63.1374 Q1506.54 58.7219 1506.54 51.4303 L1506.54 49.7694 L1499.13 49.7694 M1513.99 46.6907 L1513.99 72.576 L1506.54 72.576 L1506.54 65.6895 Q1503.99 69.8214 1500.18 71.8063 Q1496.37 73.7508 1490.86 73.7508 Q1483.89 73.7508 1479.76 69.8619 Q1475.67 65.9325 1475.67 59.3701 Q1475.67 51.7138 1480.77 47.825 Q1485.92 43.9361 1496.09 43.9361 L1506.54 43.9361 L1506.54 43.2069 Q1506.54 38.0623 1503.14 35.2672 Q1499.77 32.4315 1493.66 32.4315 Q1489.77 32.4315 1486.08 33.3632 Q1482.4 34.295 1478.99 36.1584 L1478.99 29.2718 Q1483.08 27.692 1486.93 26.9223 Q1490.78 26.1121 1494.43 26.1121 Q1504.27 26.1121 1509.13 31.2163 Q1513.99 36.3204 1513.99 46.6907 Z\" fill=\"#000000\" fill-rule=\"nonzero\" fill-opacity=\"1\" /><path clip-path=\"url(#clip770)\" d=\"M1536.72 14.324 L1536.72 27.2059 L1552.07 27.2059 L1552.07 32.9987 L1536.72 32.9987 L1536.72 57.6282 Q1536.72 63.1779 1538.22 64.7578 Q1539.76 66.3376 1544.41 66.3376 L1552.07 66.3376 L1552.07 72.576 L1544.41 72.576 Q1535.79 72.576 1532.5 69.3758 Q1529.22 66.1351 1529.22 57.6282 L1529.22 32.9987 L1523.75 32.9987 L1523.75 27.2059 L1529.22 27.2059 L1529.22 14.324 L1536.72 14.324 Z\" fill=\"#000000\" fill-rule=\"nonzero\" fill-opacity=\"1\" /><path clip-path=\"url(#clip770)\" d=\"M1600.68 48.0275 L1600.68 51.6733 L1566.41 51.6733 Q1566.9 59.3701 1571.03 63.421 Q1575.2 67.4314 1582.61 67.4314 Q1586.91 67.4314 1590.92 66.3781 Q1594.97 65.3249 1598.94 63.2184 L1598.94 70.267 Q1594.93 71.9684 1590.72 72.8596 Q1586.5 73.7508 1582.17 73.7508 Q1571.31 73.7508 1564.95 67.4314 Q1558.63 61.1119 1558.63 50.3365 Q1558.63 39.1965 1564.63 32.6746 Q1570.66 26.1121 1580.87 26.1121 Q1590.03 26.1121 1595.33 32.0264 Q1600.68 37.9003 1600.68 48.0275 M1593.23 45.84 Q1593.15 39.7232 1589.78 36.0774 Q1586.46 32.4315 1580.95 32.4315 Q1574.72 32.4315 1570.95 35.9558 Q1567.22 39.4801 1566.65 45.8805 L1593.23 45.84 Z\" fill=\"#000000\" fill-rule=\"nonzero\" fill-opacity=\"1\" /><path clip-path=\"url(#clip770)\" d=\"M1641.84 28.5427 L1641.84 35.5912 Q1638.68 33.9709 1635.28 33.1607 Q1631.87 32.3505 1628.23 32.3505 Q1622.68 32.3505 1619.88 34.0519 Q1617.13 35.7533 1617.13 39.156 Q1617.13 41.7486 1619.11 43.2475 Q1621.1 44.7058 1627.09 46.0426 L1629.65 46.6097 Q1637.59 48.3111 1640.91 51.4303 Q1644.27 54.509 1644.27 60.0587 Q1644.27 66.3781 1639.25 70.0644 Q1634.26 73.7508 1625.51 73.7508 Q1621.87 73.7508 1617.9 73.0216 Q1613.97 72.3329 1609.59 70.9151 L1609.59 63.2184 Q1613.73 65.3654 1617.74 66.4591 Q1621.75 67.5124 1625.68 67.5124 Q1630.94 67.5124 1633.78 65.73 Q1636.61 63.9071 1636.61 60.6258 Q1636.61 57.5877 1634.55 55.9673 Q1632.52 54.3469 1625.59 52.8481 L1623 52.2405 Q1616.07 50.7821 1613 47.7845 Q1609.92 44.7463 1609.92 39.4801 Q1609.92 33.0797 1614.45 29.5959 Q1618.99 26.1121 1627.34 26.1121 Q1631.47 26.1121 1635.11 26.7198 Q1638.76 27.3274 1641.84 28.5427 Z\" fill=\"#000000\" fill-rule=\"nonzero\" fill-opacity=\"1\" /><polyline clip-path=\"url(#clip772)\" style=\"stroke:#009af9; stroke-linecap:round; stroke-linejoin:round; stroke-width:4; stroke-opacity:1; fill:none\" points=\"279.916,1386.4 503.523,886.857 727.131,637.088 950.738,487.227 1174.35,387.319 1397.95,315.957 1621.56,262.435 1845.17,220.806 2068.77,187.504 2292.38,160.256 \"/>\n",
       "<path clip-path=\"url(#clip770)\" d=\"M290.649 270.476 L556.401 270.476 L556.401 166.796 L290.649 166.796  Z\" fill=\"#ffffff\" fill-rule=\"evenodd\" fill-opacity=\"1\"/>\n",
       "<polyline clip-path=\"url(#clip770)\" style=\"stroke:#000000; stroke-linecap:round; stroke-linejoin:round; stroke-width:4; stroke-opacity:1; fill:none\" points=\"290.649,270.476 556.401,270.476 556.401,166.796 290.649,166.796 290.649,270.476 \"/>\n",
       "<polyline clip-path=\"url(#clip770)\" style=\"stroke:#009af9; stroke-linecap:round; stroke-linejoin:round; stroke-width:4; stroke-opacity:1; fill:none\" points=\"314.352,218.636 456.566,218.636 \"/>\n",
       "<path clip-path=\"url(#clip770)\" d=\"M494.111 238.323 Q492.305 242.953 490.592 244.365 Q488.879 245.777 486.009 245.777 L482.606 245.777 L482.606 242.212 L485.106 242.212 Q486.866 242.212 487.838 241.379 Q488.81 240.545 489.99 237.443 L490.754 235.499 L480.268 209.99 L484.782 209.99 L492.884 230.268 L500.986 209.99 L505.5 209.99 L494.111 238.323 Z\" fill=\"#000000\" fill-rule=\"nonzero\" fill-opacity=\"1\" /><path clip-path=\"url(#clip770)\" d=\"M512.791 231.981 L520.43 231.981 L520.43 205.615 L512.12 207.282 L512.12 203.022 L520.384 201.356 L525.06 201.356 L525.06 231.981 L532.699 231.981 L532.699 235.916 L512.791 235.916 L512.791 231.981 Z\" fill=\"#000000\" fill-rule=\"nonzero\" fill-opacity=\"1\" /></svg>\n"
      ]
     },
     "metadata": {},
     "output_type": "display_data"
    }
   ],
   "source": [
    "plot(acceptance_rates)\n",
    "plot!(title = \"Acceptance rates\", xlabel = \"recorded samples of MCMC\", ylabel = \"Acceptance rate\")"
   ]
  },
  {
   "cell_type": "markdown",
   "metadata": {},
   "source": [
    "### Noisy sample generation\n",
    "- we have generated a set of classically efficiently simulable states $S_{\\psi} =\\{|\\phi_i>\\}$, so we now have our list of ground state energies and the corresponding circuits for the correction (i.e $X_{\\phi_i}^{exact}$)\n",
    "- there is no global noise model we can add to our training set, instead we add a layer of local depolarizing noise applied to all qubits individually  using the PP noise module to get our $X_{\\phi_i}^{noisy}$"
   ]
  },
  {
   "cell_type": "code",
   "execution_count": 58,
   "metadata": {},
   "outputs": [],
   "source": [
    "noisy_opt_energies = noisy_expectation_values(ansatz, acc_samples, repartition_MCMC;depol_strength = 0.05, dephase_strength = 0.00);"
   ]
  },
  {
   "cell_type": "markdown",
   "metadata": {},
   "source": [
    "### Linear Model for Correction"
   ]
  },
  {
   "cell_type": "code",
   "execution_count": 59,
   "metadata": {},
   "outputs": [
    {
     "name": "stdout",
     "output_type": "stream",
     "text": [
      "\u001b[1m10×2 DataFrame\u001b[0m\n",
      "\u001b[1m Row \u001b[0m│\u001b[1m x        \u001b[0m\u001b[1m y        \u001b[0m\n",
      "     │\u001b[90m Float64  \u001b[0m\u001b[90m Float64  \u001b[0m\n",
      "─────┼────────────────────\n",
      "   1 │ -1.10765  -2.08647\n",
      "   2 │ -1.76617  -1.89451\n",
      "   3 │ -1.97417  -2.08974\n",
      "   4 │ -1.56369  -2.00942\n",
      "   5 │ -1.94097  -1.9533\n",
      "   6 │ -1.90927  -2.04387\n",
      "   7 │ -1.95089  -2.06139\n",
      "   8 │ -1.97287  -2.05646\n",
      "   9 │ -1.9441   -2.06232\n",
      "  10 │ -1.92643  -2.03477\n"
     ]
    },
    {
     "data": {
      "text/plain": [
       "cdr (generic function with 1 method)"
      ]
     },
     "metadata": {},
     "output_type": "display_data"
    }
   ],
   "source": [
    "training_data = DataFrame(x=noisy_opt_energies,y=exact_energies_MCMC)\n",
    "println(training_data)\n",
    "ols = lm(@formula(y ~ x), training_data)\n",
    "coeffs = coef(ols)\n",
    "cdr(x) = coef(ols)[1] + coef(ols)[2] * x"
   ]
  },
  {
   "cell_type": "markdown",
   "metadata": {},
   "source": [
    "Now we compute the noisy expectation value of the target circuit."
   ]
  },
  {
   "cell_type": "code",
   "execution_count": 60,
   "metadata": {},
   "outputs": [
    {
     "name": "stdout",
     "output_type": "stream",
     "text": [
      "noisy_target_exp_value: -1.9779222637885878\n",
      "corrected_target_exp_value: -2.025735220869677\n",
      "exact target energy: -2.090025785602183\n",
      "relative error before CDR: 0.05363738695754692\n",
      "relative error after CDR: 0.030760656244239938\n"
     ]
    }
   ],
   "source": [
    "noisy_target_exp_value = noisy_expectation_values(ansatz, [ansatz.target_circuit], [ansatz.repartition],target = true)[1]\n",
    "corrected_target_exp_value = cdr(noisy_target_exp_value)\n",
    "println(\"noisy_target_exp_value: \", noisy_target_exp_value)\n",
    "println(\"corrected_target_exp_value: \", corrected_target_exp_value)\n",
    "println(\"exact target energy: \", target_closed_lossfunction(opt_thetas_target)/ansatz.nqubits)\n",
    "println(\"relative error before CDR: \", abs(noisy_target_exp_value - target_closed_lossfunction(opt_thetas_target)/ansatz.nqubits)/abs(target_closed_lossfunction(opt_thetas_target)/ansatz.nqubits))\n",
    "println(\"relative error after CDR: \", abs(corrected_target_exp_value - target_closed_lossfunction(opt_thetas_target)/ansatz.nqubits)/abs(target_closed_lossfunction(opt_thetas_target)/ansatz.nqubits))"
   ]
  },
  {
   "cell_type": "markdown",
   "metadata": {},
   "source": [
    "### Discussion of the results: \n",
    "For 4 qubits and 2 layers of the QAOA ansatz, this minimal example works. Varying the `x_sigma` in the `MCMC` function to the suggested value of 0.01 (Piotr's follow up paper) leads to clustering around 0 on $X_{noisy}$ and $X_{exact}$ and thus the CDR fails. \\\n",
    "Also, if we increase the number of qubits to 6, we get clustering around 0 as described in the follow up paper of Piotr (2022).\\\n",
    "We should be able to get better results for the standard CDR (comparable to the original paper.)\n",
    "Possible modification include:\n",
    "- instead of random assignment of exponent of $S^n$, where $S$ is the $R_Z(\\pi/2)$ gate, we can sample n from the distribution in eq. 14  (not mentioned in the paper how they choose the Clifford replacements, so we did this with a  random angle choice so far)\n",
    "-  the truncation of the PP seems not to be the problem, since the exact value of the target state remains accurate enough\n",
    "- we can decrease the number of replaced non-Cliffords (again no exact formula given here), the less, the closer we are to the target state\n",
    "\n",
    "We can also use the revised CDR(2022): \\\n",
    "Their main suggestion to avoid the clustering around 0 is to ensure we get widely distributed values as explained in Appendix B by modifying the MCMC. \\\n",
    "The main idea is to set equally spaced target values around the target energy (approximately in the range of the spread of the energy (related to the error?)) and to run a distinct MCMC for each of these target values. Then we accept with the canonical MH acceptance criteria, i.e. the ratio of the probabilities of proposal vs. current state. Like this we get a spread distribution which allows for meaningful error mitigation."
   ]
  },
  {
   "cell_type": "markdown",
   "metadata": {},
   "source": [
    "# Tests on CDR\n",
    "Now that the minimal example is working, we want to check when the minimal example breaks.\n",
    "Parameters we can vary are:\n",
    "- the number of gates replaced in the initial MCMC circuit (defines how close we can get to the target state)\n",
    "- the noise strength and type\n",
    "- the number of qubits and layers\n"
   ]
  },
  {
   "cell_type": "code",
   "execution_count": 23,
   "metadata": {},
   "outputs": [
    {
     "name": "stdout",
     "output_type": "stream",
     "text": [
      "length thetas_init: 14\n"
     ]
    },
    {
     "ename": "BoundsError",
     "evalue": "BoundsError: attempt to access 14-element Vector{Float64} at index [15]",
     "output_type": "error",
     "traceback": [
      "BoundsError: attempt to access 14-element Vector{Float64} at index [15]\n",
      "\n",
      "Stacktrace:\n",
      " [1] throw_boundserror(A::Vector{Float64}, I::Tuple{Int64})\n",
      "   @ Base ./essentials.jl:14\n",
      " [2] setindex!\n",
      "   @ ./array.jl:986 [inlined]\n",
      " [3] constrain_params(thetas::Vector{Float64}, repartition::Vector{Vector{Int64}})\n",
      "   @ Main ~/julia_scripts/pp-em/cdr/jl_notebook_cell_df34fa98e69747e1a8f8a730347b8e2f_X11sdnNjb2RlLXJlbW90ZQ==.jl:4\n",
      " [4] top-level scope\n",
      "   @ ~/julia_scripts/pp-em/cdr/jl_notebook_cell_df34fa98e69747e1a8f8a730347b8e2f_X54sdnNjb2RlLXJlbW90ZQ==.jl:13"
     ]
    }
   ],
   "source": [
    "nqubits = 4:2:10\n",
    "nlayers = 2\n",
    "# plot the nqubits vs relative error\n",
    "relative_errors_corrected = []\n",
    "relative_errors_noisy = []\n",
    "for nq in nqubits\n",
    "\n",
    "    #target energies (we need the thetas from the target circuit)\n",
    "    repartition_target = repartition_function_QAOA(nq,nlayers)\n",
    "    ansatz = qaoa_setup(nq,nlayers,repartition_target)\n",
    "    thetas_init = rand((2*ansatz.nqubits-1)*ansatz.nlayers) \n",
    "    println(\"length thetas_init: \", length(thetas_init))\n",
    "    thetas_init = constrain_params(thetas_init, repartition)\n",
    "    opt_thetas_target, opt_energy_gd = gd(thetas_init, target_closed_lossfunction, ansatz)\n",
    "    println(\"opt_energy_gd: \", opt_energy_gd[end])\n",
    "\n",
    "    #MCMC to generate training set\n",
    "    acc_samples, exact_energies_MCMC, acceptance_rates,repartition_MCMC = MCMC(ansatz,opt_thetas_target; n_sweeps = 5)\n",
    "    println(\"acc. rates for nq = \", nq, \" : \", acceptance_rates)\n",
    "\n",
    "    #noisy expectation values\n",
    "    noisy_opt_energies = noisy_expectation_values(ansatz, acc_samples, repartition_MCMC);\n",
    "    training_data = DataFrame(x=noisy_opt_energies,y=exact_energies_MCMC)\n",
    "    ols = lm(@formula(y ~ x), training_data)\n",
    "    coeffs = coef(ols)\n",
    "    cdr(x) = coef(ols)[1] + coef(ols)[2] * x\n",
    "    noisy_target_exp_value = noisy_expectation_values(ansatz, [ansatz.target_circuit], [ansatz.repartition],target = true)[1]\n",
    "    corrected_target_exp_value = cdr(noisy_target_exp_value)\n",
    "    relative_error_corrected = (corrected_target_exp_value - target_closed_lossfunction(opt_thetas_target)/ansatz.nqubits)/target_closed_lossfunction(opt_thetas_target)/ansatz.nqubits\n",
    "    push!(relative_errors_corrected, relative_error_corrected)\n",
    "    relative_error_noisy = (noisy_target_exp_value - target_closed_lossfunction(opt_thetas_target)/ansatz.nqubits)/target_closed_lossfunction(opt_thetas_target)/ansatz.nqubits\n",
    "    push!(relative_errors_noisy, relative_error_noisy)\n",
    "    \n",
    "end"
   ]
  }
 ],
 "metadata": {
  "kernelspec": {
   "display_name": "Julia 1.11.3",
   "language": "julia",
   "name": "julia-1.11"
  },
  "language_info": {
   "file_extension": ".jl",
   "mimetype": "application/julia",
   "name": "julia",
   "version": "1.11.3"
  }
 },
 "nbformat": 4,
 "nbformat_minor": 2
}
