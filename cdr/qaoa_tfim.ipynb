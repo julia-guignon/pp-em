{
 "cells": [
  {
   "cell_type": "code",
   "execution_count": 1,
   "metadata": {},
   "outputs": [],
   "source": [
    "using PauliPropagation\n",
    "using Random\n",
    "using Optim\n",
    "using Plots\n",
    "#Random.seed!(43)\n",
    "using ReverseDiff: GradientTape, gradient!, compile\n",
    "using LinearAlgebra\n",
    "using StatsBase"
   ]
  },
  {
   "cell_type": "code",
   "execution_count": 2,
   "metadata": {},
   "outputs": [
    {
     "name": "stderr",
     "output_type": "stream",
     "text": [
      "\u001b[32m\u001b[1m   Resolving\u001b[22m\u001b[39m package versions...\n",
      "\u001b[32m\u001b[1m  No Changes\u001b[22m\u001b[39m to `~/.julia/environments/v1.11/Project.toml`\n",
      "\u001b[32m\u001b[1m  No Changes\u001b[22m\u001b[39m to `~/.julia/environments/v1.11/Manifest.toml`\n"
     ]
    }
   ],
   "source": [
    "import Pkg; Pkg.add(\"StatsBase\")"
   ]
  },
  {
   "cell_type": "markdown",
   "metadata": {},
   "source": [
    "## CDR (Clifford Data Regression) \n",
    "This is the main idea:\n",
    "(https://arxiv.org/abs/2005.10189)\n",
    "\n",
    "- We create a training set consisting of classical \"exact\" expectation values using PP and noisy expectation values using a noisy simulator or a quantum device.\n",
    "- Then we fit a linear ansatz (and later a more complex noise model) in order to predict the correction to mitigate the errors on our noisy observables.\n",
    "- To create the training set, we use MCMC sampling.\n",
    "- Question: Could we use the noisy circuits within `PauliPropagation.jl` to generate our noisy expectation values?\n",
    "\n",
    "The first step is to implement the system they use in the paper, but replace the MPS with PP.\n"
   ]
  },
  {
   "cell_type": "markdown",
   "metadata": {},
   "source": [
    "### Functions for QAOA on Ising spin chain\n",
    "We take the same setup as in the paper:\n",
    "- TFIM with obc and even number of qubits\n",
    "- QAOA (Quantum Alternating Operator Ansatz) circuit\n",
    "- Parameter assignment function (each RZZ and each RZ layer has the same parameters)"
   ]
  },
  {
   "cell_type": "code",
   "execution_count": 3,
   "metadata": {},
   "outputs": [
    {
     "data": {
      "text/plain": [
       "tfimqaoacircuit (generic function with 1 method)"
      ]
     },
     "metadata": {},
     "output_type": "display_data"
    }
   ],
   "source": [
    "#QAOA circuit (Fig 10)\n",
    "function tfimqaoacircuit(nqubits::Integer, nlayers::Integer; topology=nothing)\n",
    "    circuit::Vector{Gate} = []\n",
    "\n",
    "    if isnothing(topology)\n",
    "        topology = bricklayertopology(nqubits;periodic=false) #chain with obc\n",
    "    end\n",
    "\n",
    "    for i in 1:nlayers\n",
    "        rzzlayer!(circuit, topology)\n",
    "        for qubit in 1:nqubits\n",
    "            push!(circuit, CliffordGate(:S, qubit))\n",
    "            push!(circuit, PauliRotation(:X, qubit, π/2)) # Fig 10: P=R_X(π/2)\n",
    "            push!(circuit, PauliRotation(:Z, qubit))\n",
    "            push!(circuit, PauliRotation(:X, qubit, π/2))\n",
    "            push!(circuit, CliffordGate(:S, qubit))\n",
    "\n",
    "        end\n",
    "    end\n",
    "    return circuit\n",
    "end"
   ]
  },
  {
   "cell_type": "code",
   "execution_count": 4,
   "metadata": {},
   "outputs": [
    {
     "data": {
      "text/plain": [
       "assign_qaoa_parameters (generic function with 1 method)"
      ]
     },
     "metadata": {},
     "output_type": "display_data"
    }
   ],
   "source": [
    "#grouped assignment of the params for QAOA circuit\n",
    "function assign_qaoa_parameters(circuit, nqubits::Integer, nlayers::Integer)\n",
    "    \n",
    "    rzz_indices = getparameterindices(circuit, PauliRotation, [:Z, :Z])\n",
    "    rz_indices = getparameterindices(circuit, PauliRotation, [:Z])\n",
    "\n",
    "    #group sizes\n",
    "    Q_minus_1 = (nqubits - 1) * nlayers  # RZZ parameters\n",
    "    Q = nqubits * nlayers                # RZ parameters\n",
    "\n",
    "    #group the random values according to circuit layout\n",
    "    thetas = zeros(maximum(vcat(rzz_indices, rz_indices)))\n",
    "    thetas[rzz_indices] .= repeat(randn(nlayers), inner=(Q_minus_1 ÷ nlayers))\n",
    "    thetas[rz_indices] .= repeat(randn(nlayers), inner=(Q ÷ nlayers))\n",
    "\n",
    "    return thetas\n",
    "end"
   ]
  },
  {
   "cell_type": "markdown",
   "metadata": {},
   "source": [
    "### Initialize circuit\n",
    "- initial parameters are set\n",
    "- define truncations dpending on the method of gradient computation\n",
    "- for `ReverseDiff`, better to use `max_weight` (number of non-Id in string), `max_freq`, and `max_sins`(number of sins - as in SPD) (see notebook 8)\n",
    "- define H within loss function"
   ]
  },
  {
   "cell_type": "code",
   "execution_count": 5,
   "metadata": {},
   "outputs": [
    {
     "data": {
      "text/plain": [
       "2"
      ]
     },
     "metadata": {},
     "output_type": "display_data"
    }
   ],
   "source": [
    "const nq = 4 #we set const for global vars in fcts to opt performance\n",
    "const nl = 2 #number of layers/rounds\n",
    "const topology = bricklayertopology(nq;periodic=false) #chain with obc  \n",
    "const g = 2 #paramagnetic phase"
   ]
  },
  {
   "cell_type": "code",
   "execution_count": 6,
   "metadata": {},
   "outputs": [
    {
     "name": "stdout",
     "output_type": "stream",
     "text": [
      "Number of parameters: 14\n",
      "Parameters: [-0.22426237578018798, -0.22426237578018798, -0.22426237578018798, -0.2933992950910499, -0.2933992950910499, -0.2933992950910499, -0.2933992950910499, 0.8466794569013646, 0.8466794569013646, 0.8466794569013646, -0.5803404994792815, -0.5803404994792815, -0.5803404994792815, -0.5803404994792815]\n"
     ]
    }
   ],
   "source": [
    "const circuit = tfimqaoacircuit(nq, nl; topology=topology)\n",
    "nparams = countparameters(circuit)\n",
    "println(\"Number of parameters: \", nparams) \n",
    "#generate random parameters\n",
    "thetas_init = assign_qaoa_parameters(circuit, nq, nl)\n",
    "println(\"Parameters: \", thetas_init)"
   ]
  },
  {
   "cell_type": "code",
   "execution_count": 7,
   "metadata": {},
   "outputs": [
    {
     "data": {
      "text/plain": [
       "5"
      ]
     },
     "metadata": {},
     "output_type": "display_data"
    }
   ],
   "source": [
    "#define the truncations\n",
    "const max_freq = 30\n",
    "const max_weight = 5 #number of non-Id Paulis in string"
   ]
  },
  {
   "cell_type": "markdown",
   "metadata": {},
   "source": [
    "### Loss function for TFIM and classical optimization"
   ]
  },
  {
   "cell_type": "code",
   "execution_count": 8,
   "metadata": {},
   "outputs": [
    {
     "data": {
      "text/plain": [
       "lossfunction (generic function with 1 method)"
      ]
     },
     "metadata": {},
     "output_type": "display_data"
    }
   ],
   "source": [
    "function lossfunction(thetas)\n",
    "    type_of_coeff = eltype(thetas)\n",
    "    H = PauliSum(nq, type_of_coeff)\n",
    "    for qind in 1:nq\n",
    "        add!(H, :X, qind, type_of_coeff(-g))\n",
    "    end\n",
    "    for pair in topology\n",
    "        add!(H, [:Z, :Z], collect(pair), type_of_coeff(1.0))\n",
    "    end\n",
    "    \n",
    "    wrapped_H = wrapcoefficients(H, PauliFreqTracker) #wrap to keep track of path splitting\n",
    "\n",
    "    # We also need to run the in-place version with `!`, because by default we copy the Pauli sum\n",
    "    wrapped_H = propagate!(circuit, wrapped_H, thetas; max_freq, max_weight);\n",
    "    return overlapwithplus(wrapped_H)\n",
    "end"
   ]
  },
  {
   "cell_type": "code",
   "execution_count": 9,
   "metadata": {},
   "outputs": [
    {
     "name": "stdout",
     "output_type": "stream",
     "text": [
      "  1.276714 seconds (1.80 M allocations: 89.387 MiB, 18.72% gc time, 99.97% compilation time)\n"
     ]
    },
    {
     "data": {
      "text/plain": [
       "-6.867886023642396"
      ]
     },
     "metadata": {},
     "output_type": "display_data"
    }
   ],
   "source": [
    "@time lossfunction(thetas_init) #check"
   ]
  },
  {
   "cell_type": "code",
   "execution_count": 10,
   "metadata": {},
   "outputs": [
    {
     "data": {
      "text/plain": [
       "typename(ReverseDiff.CompiledTape)(lossfunction)"
      ]
     },
     "metadata": {},
     "output_type": "display_data"
    }
   ],
   "source": [
    "### This is following an ReverseDiff.jl example\n",
    "\n",
    "# some inputs and work buffer to play around with\n",
    "grad_array_compiled = similar(thetas_init);\n",
    "\n",
    "# pre-record a GradientTape for `gradsimulation` using inputs of length m with Float64 elements\n",
    "\n",
    "const simulation_tape = GradientTape(lossfunction, thetas_init)\n",
    "const compiled_simulation_tape = compile(simulation_tape)\n",
    "#graph for the chain rule is computed only once! (const)\n",
    "\n",
    "# first evaluation compiles and is slower\n",
    "#@time gradient!(grad_array_compiled, compiled_simulation_tape, thetas)\n",
    "# second evaluation\n",
    "#@time gradient!(grad_array_compiled, compiled_simulation_tape, thetas);"
   ]
  },
  {
   "cell_type": "code",
   "execution_count": 11,
   "metadata": {},
   "outputs": [
    {
     "name": "stdout",
     "output_type": "stream",
     "text": [
      "-2.0914667766579678\n"
     ]
    },
    {
     "data": {
      "image/png": "[encoded data removed]",
      "image/svg+xml": [
       "<?xml version=\"1.0\" encoding=\"utf-8\"?>\n",
       "<svg xmlns=\"http://www.w3.org/2000/svg\" xmlns:xlink=\"http://www.w3.org/1999/xlink\" width=\"600\" height=\"400\" viewBox=\"0 0 2400 1600\">\n",
       "<defs>\n",
       "  <clipPath id=\"clip720\">\n",
       "    <rect x=\"0\" y=\"0\" width=\"2400\" height=\"1600\"/>\n",
       "  </clipPath>\n",
       "</defs>\n",
       "<path clip-path=\"url(#clip720)\" d=\"M0 1600 L2400 1600 L2400 0 L0 0  Z\" fill=\"#ffffff\" fill-rule=\"evenodd\" fill-opacity=\"1\"/>\n",
       "<defs>\n",
       "  <clipPath id=\"clip721\">\n",
       "    <rect x=\"480\" y=\"0\" width=\"1681\" height=\"1600\"/>\n",
       "  </clipPath>\n",
       "</defs>\n",
       "<path clip-path=\"url(#clip720)\" d=\"M317.528 1423.18 L2352.76 1423.18 L2352.76 123.472 L317.528 123.472  Z\" fill=\"#ffffff\" fill-rule=\"evenodd\" fill-opacity=\"1\"/>\n",
       "<defs>\n",
       "  <clipPath id=\"clip722\">\n",
       "    <rect x=\"317\" y=\"123\" width=\"2036\" height=\"1301\"/>\n",
       "  </clipPath>\n",
       "</defs>\n",
       "<polyline clip-path=\"url(#clip722)\" style=\"stroke:#000000; stroke-linecap:round; stroke-linejoin:round; stroke-width:2; stroke-opacity:0.1; fill:none\" points=\"355.734,1423.18 355.734,123.472 \"/>\n",
       "<polyline clip-path=\"url(#clip722)\" style=\"stroke:#000000; stroke-linecap:round; stroke-linejoin:round; stroke-width:2; stroke-opacity:0.1; fill:none\" points=\"840.59,1423.18 840.59,123.472 \"/>\n",
       "<polyline clip-path=\"url(#clip722)\" style=\"stroke:#000000; stroke-linecap:round; stroke-linejoin:round; stroke-width:2; stroke-opacity:0.1; fill:none\" points=\"1325.44,1423.18 1325.44,123.472 \"/>\n",
       "<polyline clip-path=\"url(#clip722)\" style=\"stroke:#000000; stroke-linecap:round; stroke-linejoin:round; stroke-width:2; stroke-opacity:0.1; fill:none\" points=\"1810.3,1423.18 1810.3,123.472 \"/>\n",
       "<polyline clip-path=\"url(#clip722)\" style=\"stroke:#000000; stroke-linecap:round; stroke-linejoin:round; stroke-width:2; stroke-opacity:0.1; fill:none\" points=\"2295.16,1423.18 2295.16,123.472 \"/>\n",
       "<polyline clip-path=\"url(#clip722)\" style=\"stroke:#000000; stroke-linecap:round; stroke-linejoin:round; stroke-width:2; stroke-opacity:0.1; fill:none\" points=\"317.528,1214.99 2352.76,1214.99 \"/>\n",
       "<polyline clip-path=\"url(#clip722)\" style=\"stroke:#000000; stroke-linecap:round; stroke-linejoin:round; stroke-width:2; stroke-opacity:0.1; fill:none\" points=\"317.528,954.751 2352.76,954.751 \"/>\n",
       "<polyline clip-path=\"url(#clip722)\" style=\"stroke:#000000; stroke-linecap:round; stroke-linejoin:round; stroke-width:2; stroke-opacity:0.1; fill:none\" points=\"317.528,694.516 2352.76,694.516 \"/>\n",
       "<polyline clip-path=\"url(#clip722)\" style=\"stroke:#000000; stroke-linecap:round; stroke-linejoin:round; stroke-width:2; stroke-opacity:0.1; fill:none\" points=\"317.528,434.281 2352.76,434.281 \"/>\n",
       "<polyline clip-path=\"url(#clip722)\" style=\"stroke:#000000; stroke-linecap:round; stroke-linejoin:round; stroke-width:2; stroke-opacity:0.1; fill:none\" points=\"317.528,174.045 2352.76,174.045 \"/>\n",
       "<polyline clip-path=\"url(#clip720)\" style=\"stroke:#000000; stroke-linecap:round; stroke-linejoin:round; stroke-width:4; stroke-opacity:1; fill:none\" points=\"317.528,1423.18 2352.76,1423.18 \"/>\n",
       "<polyline clip-path=\"url(#clip720)\" style=\"stroke:#000000; stroke-linecap:round; stroke-linejoin:round; stroke-width:4; stroke-opacity:1; fill:none\" points=\"355.734,1423.18 355.734,1404.28 \"/>\n",
       "<polyline clip-path=\"url(#clip720)\" style=\"stroke:#000000; stroke-linecap:round; stroke-linejoin:round; stroke-width:4; stroke-opacity:1; fill:none\" points=\"840.59,1423.18 840.59,1404.28 \"/>\n",
       "<polyline clip-path=\"url(#clip720)\" style=\"stroke:#000000; stroke-linecap:round; stroke-linejoin:round; stroke-width:4; stroke-opacity:1; fill:none\" points=\"1325.44,1423.18 1325.44,1404.28 \"/>\n",
       "<polyline clip-path=\"url(#clip720)\" style=\"stroke:#000000; stroke-linecap:round; stroke-linejoin:round; stroke-width:4; stroke-opacity:1; fill:none\" points=\"1810.3,1423.18 1810.3,1404.28 \"/>\n",
       "<polyline clip-path=\"url(#clip720)\" style=\"stroke:#000000; stroke-linecap:round; stroke-linejoin:round; stroke-width:4; stroke-opacity:1; fill:none\" points=\"2295.16,1423.18 2295.16,1404.28 \"/>\n",
       "<path clip-path=\"url(#clip720)\" d=\"M355.734 1454.1 Q352.123 1454.1 350.295 1457.66 Q348.489 1461.2 348.489 1468.33 Q348.489 1475.44 350.295 1479.01 Q352.123 1482.55 355.734 1482.55 Q359.369 1482.55 361.174 1479.01 Q363.003 1475.44 363.003 1468.33 Q363.003 1461.2 361.174 1457.66 Q359.369 1454.1 355.734 1454.1 M355.734 1450.39 Q361.545 1450.39 364.6 1455 Q367.679 1459.58 367.679 1468.33 Q367.679 1477.06 364.6 1481.67 Q361.545 1486.25 355.734 1486.25 Q349.924 1486.25 346.846 1481.67 Q343.79 1477.06 343.79 1468.33 Q343.79 1459.58 346.846 1455 Q349.924 1450.39 355.734 1450.39 Z\" fill=\"#000000\" fill-rule=\"nonzero\" fill-opacity=\"1\" /><path clip-path=\"url(#clip720)\" d=\"M819.86 1481.64 L836.18 1481.64 L836.18 1485.58 L814.236 1485.58 L814.236 1481.64 Q816.898 1478.89 821.481 1474.26 Q826.087 1469.61 827.268 1468.27 Q829.513 1465.74 830.393 1464.01 Q831.296 1462.25 831.296 1460.56 Q831.296 1457.8 829.351 1456.07 Q827.43 1454.33 824.328 1454.33 Q822.129 1454.33 819.675 1455.09 Q817.245 1455.86 814.467 1457.41 L814.467 1452.69 Q817.291 1451.55 819.745 1450.97 Q822.198 1450.39 824.235 1450.39 Q829.606 1450.39 832.8 1453.08 Q835.995 1455.77 835.995 1460.26 Q835.995 1462.39 835.184 1464.31 Q834.397 1466.2 832.291 1468.8 Q831.712 1469.47 828.61 1472.69 Q825.509 1475.88 819.86 1481.64 Z\" fill=\"#000000\" fill-rule=\"nonzero\" fill-opacity=\"1\" /><path clip-path=\"url(#clip720)\" d=\"M846.041 1451.02 L864.397 1451.02 L864.397 1454.96 L850.323 1454.96 L850.323 1463.43 Q851.342 1463.08 852.36 1462.92 Q853.379 1462.73 854.397 1462.73 Q860.184 1462.73 863.564 1465.9 Q866.944 1469.08 866.944 1474.49 Q866.944 1480.07 863.471 1483.17 Q859.999 1486.25 853.68 1486.25 Q851.504 1486.25 849.235 1485.88 Q846.99 1485.51 844.583 1484.77 L844.583 1480.07 Q846.666 1481.2 848.888 1481.76 Q851.11 1482.32 853.587 1482.32 Q857.592 1482.32 859.93 1480.21 Q862.268 1478.1 862.268 1474.49 Q862.268 1470.88 859.93 1468.77 Q857.592 1466.67 853.587 1466.67 Q851.712 1466.67 849.837 1467.08 Q847.985 1467.5 846.041 1468.38 L846.041 1451.02 Z\" fill=\"#000000\" fill-rule=\"nonzero\" fill-opacity=\"1\" /><path clip-path=\"url(#clip720)\" d=\"M1300.14 1451.02 L1318.5 1451.02 L1318.5 1454.96 L1304.43 1454.96 L1304.43 1463.43 Q1305.44 1463.08 1306.46 1462.92 Q1307.48 1462.73 1308.5 1462.73 Q1314.29 1462.73 1317.67 1465.9 Q1321.05 1469.08 1321.05 1474.49 Q1321.05 1480.07 1317.57 1483.17 Q1314.1 1486.25 1307.78 1486.25 Q1305.61 1486.25 1303.34 1485.88 Q1301.09 1485.51 1298.69 1484.77 L1298.69 1480.07 Q1300.77 1481.2 1302.99 1481.76 Q1305.21 1482.32 1307.69 1482.32 Q1311.69 1482.32 1314.03 1480.21 Q1316.37 1478.1 1316.37 1474.49 Q1316.37 1470.88 1314.03 1468.77 Q1311.69 1466.67 1307.69 1466.67 Q1305.82 1466.67 1303.94 1467.08 Q1302.09 1467.5 1300.14 1468.38 L1300.14 1451.02 Z\" fill=\"#000000\" fill-rule=\"nonzero\" fill-opacity=\"1\" /><path clip-path=\"url(#clip720)\" d=\"M1340.26 1454.1 Q1336.65 1454.1 1334.82 1457.66 Q1333.01 1461.2 1333.01 1468.33 Q1333.01 1475.44 1334.82 1479.01 Q1336.65 1482.55 1340.26 1482.55 Q1343.89 1482.55 1345.7 1479.01 Q1347.53 1475.44 1347.53 1468.33 Q1347.53 1461.2 1345.7 1457.66 Q1343.89 1454.1 1340.26 1454.1 M1340.26 1450.39 Q1346.07 1450.39 1349.13 1455 Q1352.2 1459.58 1352.2 1468.33 Q1352.2 1477.06 1349.13 1481.67 Q1346.07 1486.25 1340.26 1486.25 Q1334.45 1486.25 1331.37 1481.67 Q1328.32 1477.06 1328.32 1468.33 Q1328.32 1459.58 1331.37 1455 Q1334.45 1450.39 1340.26 1450.39 Z\" fill=\"#000000\" fill-rule=\"nonzero\" fill-opacity=\"1\" /><path clip-path=\"url(#clip720)\" d=\"M1784.15 1451.02 L1806.38 1451.02 L1806.38 1453.01 L1793.83 1485.58 L1788.95 1485.58 L1800.75 1454.96 L1784.15 1454.96 L1784.15 1451.02 Z\" fill=\"#000000\" fill-rule=\"nonzero\" fill-opacity=\"1\" /><path clip-path=\"url(#clip720)\" d=\"M1815.54 1451.02 L1833.9 1451.02 L1833.9 1454.96 L1819.83 1454.96 L1819.83 1463.43 Q1820.84 1463.08 1821.86 1462.92 Q1822.88 1462.73 1823.9 1462.73 Q1829.69 1462.73 1833.07 1465.9 Q1836.45 1469.08 1836.45 1474.49 Q1836.45 1480.07 1832.97 1483.17 Q1829.5 1486.25 1823.18 1486.25 Q1821.01 1486.25 1818.74 1485.88 Q1816.49 1485.51 1814.08 1484.77 L1814.08 1480.07 Q1816.17 1481.2 1818.39 1481.76 Q1820.61 1482.32 1823.09 1482.32 Q1827.09 1482.32 1829.43 1480.21 Q1831.77 1478.1 1831.77 1474.49 Q1831.77 1470.88 1829.43 1468.77 Q1827.09 1466.67 1823.09 1466.67 Q1821.21 1466.67 1819.34 1467.08 Q1817.49 1467.5 1815.54 1468.38 L1815.54 1451.02 Z\" fill=\"#000000\" fill-rule=\"nonzero\" fill-opacity=\"1\" /><path clip-path=\"url(#clip720)\" d=\"M2254.76 1481.64 L2262.4 1481.64 L2262.4 1455.28 L2254.09 1456.95 L2254.09 1452.69 L2262.35 1451.02 L2267.03 1451.02 L2267.03 1481.64 L2274.67 1481.64 L2274.67 1485.58 L2254.76 1485.58 L2254.76 1481.64 Z\" fill=\"#000000\" fill-rule=\"nonzero\" fill-opacity=\"1\" /><path clip-path=\"url(#clip720)\" d=\"M2294.11 1454.1 Q2290.5 1454.1 2288.67 1457.66 Q2286.87 1461.2 2286.87 1468.33 Q2286.87 1475.44 2288.67 1479.01 Q2290.5 1482.55 2294.11 1482.55 Q2297.75 1482.55 2299.55 1479.01 Q2301.38 1475.44 2301.38 1468.33 Q2301.38 1461.2 2299.55 1457.66 Q2297.75 1454.1 2294.11 1454.1 M2294.11 1450.39 Q2299.92 1450.39 2302.98 1455 Q2306.06 1459.58 2306.06 1468.33 Q2306.06 1477.06 2302.98 1481.67 Q2299.92 1486.25 2294.11 1486.25 Q2288.3 1486.25 2285.22 1481.67 Q2282.17 1477.06 2282.17 1468.33 Q2282.17 1459.58 2285.22 1455 Q2288.3 1450.39 2294.11 1450.39 Z\" fill=\"#000000\" fill-rule=\"nonzero\" fill-opacity=\"1\" /><path clip-path=\"url(#clip720)\" d=\"M2324.28 1454.1 Q2320.66 1454.1 2318.84 1457.66 Q2317.03 1461.2 2317.03 1468.33 Q2317.03 1475.44 2318.84 1479.01 Q2320.66 1482.55 2324.28 1482.55 Q2327.91 1482.55 2329.72 1479.01 Q2331.54 1475.44 2331.54 1468.33 Q2331.54 1461.2 2329.72 1457.66 Q2327.91 1454.1 2324.28 1454.1 M2324.28 1450.39 Q2330.09 1450.39 2333.14 1455 Q2336.22 1459.58 2336.22 1468.33 Q2336.22 1477.06 2333.14 1481.67 Q2330.09 1486.25 2324.28 1486.25 Q2318.47 1486.25 2315.39 1481.67 Q2312.33 1477.06 2312.33 1468.33 Q2312.33 1459.58 2315.39 1455 Q2318.47 1450.39 2324.28 1450.39 Z\" fill=\"#000000\" fill-rule=\"nonzero\" fill-opacity=\"1\" /><path clip-path=\"url(#clip720)\" d=\"M1186.73 1537.87 Q1185.74 1537.3 1184.56 1537.04 Q1183.42 1536.76 1182.01 1536.76 Q1177.05 1536.76 1174.38 1540 Q1171.73 1543.22 1171.73 1549.27 L1171.73 1568.04 L1165.85 1568.04 L1165.85 1532.4 L1171.73 1532.4 L1171.73 1537.93 Q1173.58 1534.69 1176.54 1533.13 Q1179.5 1531.54 1183.73 1531.54 Q1184.34 1531.54 1185.07 1531.63 Q1185.8 1531.7 1186.69 1531.85 L1186.73 1537.87 Z\" fill=\"#000000\" fill-rule=\"nonzero\" fill-opacity=\"1\" /><path clip-path=\"url(#clip720)\" d=\"M1192.26 1553.98 L1192.26 1532.4 L1198.12 1532.4 L1198.12 1553.75 Q1198.12 1558.81 1200.09 1561.36 Q1202.07 1563.87 1206.01 1563.87 Q1210.76 1563.87 1213.49 1560.85 Q1216.26 1557.83 1216.26 1552.61 L1216.26 1532.4 L1222.12 1532.4 L1222.12 1568.04 L1216.26 1568.04 L1216.26 1562.57 Q1214.13 1565.82 1211.3 1567.41 Q1208.5 1568.97 1204.77 1568.97 Q1198.63 1568.97 1195.45 1565.15 Q1192.26 1561.33 1192.26 1553.98 M1207 1531.54 L1207 1531.54 Z\" fill=\"#000000\" fill-rule=\"nonzero\" fill-opacity=\"1\" /><path clip-path=\"url(#clip720)\" d=\"M1263.81 1546.53 L1263.81 1568.04 L1257.96 1568.04 L1257.96 1546.72 Q1257.96 1541.66 1255.98 1539.14 Q1254.01 1536.63 1250.06 1536.63 Q1245.32 1536.63 1242.58 1539.65 Q1239.85 1542.68 1239.85 1547.9 L1239.85 1568.04 L1233.96 1568.04 L1233.96 1532.4 L1239.85 1532.4 L1239.85 1537.93 Q1241.95 1534.72 1244.78 1533.13 Q1247.65 1531.54 1251.37 1531.54 Q1257.51 1531.54 1260.66 1535.36 Q1263.81 1539.14 1263.81 1546.53 Z\" fill=\"#000000\" fill-rule=\"nonzero\" fill-opacity=\"1\" /><path clip-path=\"url(#clip720)\" d=\"M1298.22 1533.45 L1298.22 1538.98 Q1295.74 1537.71 1293.06 1537.07 Q1290.39 1536.44 1287.53 1536.44 Q1283.17 1536.44 1280.97 1537.77 Q1278.81 1539.11 1278.81 1541.79 Q1278.81 1543.82 1280.36 1545 Q1281.92 1546.15 1286.64 1547.2 L1288.64 1547.64 Q1294.88 1548.98 1297.49 1551.43 Q1300.13 1553.85 1300.13 1558.21 Q1300.13 1563.17 1296.18 1566.07 Q1292.27 1568.97 1285.39 1568.97 Q1282.53 1568.97 1279.41 1568.39 Q1276.32 1567.85 1272.89 1566.74 L1272.89 1560.69 Q1276.13 1562.38 1279.28 1563.24 Q1282.43 1564.07 1285.52 1564.07 Q1289.66 1564.07 1291.89 1562.66 Q1294.11 1561.23 1294.11 1558.65 Q1294.11 1556.27 1292.49 1554.99 Q1290.9 1553.72 1285.46 1552.54 L1283.42 1552.07 Q1277.98 1550.92 1275.56 1548.56 Q1273.14 1546.18 1273.14 1542.04 Q1273.14 1537.01 1276.7 1534.27 Q1280.27 1531.54 1286.83 1531.54 Q1290.07 1531.54 1292.94 1532.01 Q1295.8 1532.49 1298.22 1533.45 Z\" fill=\"#000000\" fill-rule=\"nonzero\" fill-opacity=\"1\" /><path clip-path=\"url(#clip720)\" d=\"M1343.99 1536.5 Q1339.28 1536.5 1336.54 1540.19 Q1333.81 1543.85 1333.81 1550.25 Q1333.81 1556.65 1336.51 1560.34 Q1339.25 1564 1343.99 1564 Q1348.67 1564 1351.41 1560.31 Q1354.14 1556.62 1354.14 1550.25 Q1354.14 1543.92 1351.41 1540.23 Q1348.67 1536.5 1343.99 1536.5 M1343.99 1531.54 Q1351.63 1531.54 1355.99 1536.5 Q1360.35 1541.47 1360.35 1550.25 Q1360.35 1559 1355.99 1564 Q1351.63 1568.97 1343.99 1568.97 Q1336.32 1568.97 1331.96 1564 Q1327.63 1559 1327.63 1550.25 Q1327.63 1541.47 1331.96 1536.5 Q1336.32 1531.54 1343.99 1531.54 Z\" fill=\"#000000\" fill-rule=\"nonzero\" fill-opacity=\"1\" /><path clip-path=\"url(#clip720)\" d=\"M1388.1 1518.52 L1388.1 1523.39 L1382.5 1523.39 Q1379.35 1523.39 1378.11 1524.66 Q1376.9 1525.93 1376.9 1529.24 L1376.9 1532.4 L1386.54 1532.4 L1386.54 1536.95 L1376.9 1536.95 L1376.9 1568.04 L1371.01 1568.04 L1371.01 1536.95 L1365.41 1536.95 L1365.41 1532.4 L1371.01 1532.4 L1371.01 1529.91 Q1371.01 1523.96 1373.78 1521.26 Q1376.55 1518.52 1382.57 1518.52 L1388.1 1518.52 Z\" fill=\"#000000\" fill-rule=\"nonzero\" fill-opacity=\"1\" /><path clip-path=\"url(#clip720)\" d=\"M1446.38 1561.26 L1446.38 1548.5 L1435.88 1548.5 L1435.88 1543.22 L1452.75 1543.22 L1452.75 1563.62 Q1449.02 1566.26 1444.54 1567.63 Q1440.05 1568.97 1434.96 1568.97 Q1423.82 1568.97 1417.51 1562.47 Q1411.24 1555.95 1411.24 1544.33 Q1411.24 1532.68 1417.51 1526.19 Q1423.82 1519.66 1434.96 1519.66 Q1439.6 1519.66 1443.77 1520.81 Q1447.97 1521.96 1451.51 1524.18 L1451.51 1531.03 Q1447.94 1528 1443.93 1526.48 Q1439.92 1524.95 1435.5 1524.95 Q1426.78 1524.95 1422.38 1529.82 Q1418.02 1534.69 1418.02 1544.33 Q1418.02 1553.94 1422.38 1558.81 Q1426.78 1563.68 1435.5 1563.68 Q1438.9 1563.68 1441.58 1563.11 Q1444.25 1562.51 1446.38 1561.26 Z\" fill=\"#000000\" fill-rule=\"nonzero\" fill-opacity=\"1\" /><path clip-path=\"url(#clip720)\" d=\"M1470.92 1525.81 L1470.92 1562.76 L1478.69 1562.76 Q1488.52 1562.76 1493.08 1558.3 Q1497.66 1553.85 1497.66 1544.24 Q1497.66 1534.69 1493.08 1530.26 Q1488.52 1525.81 1478.69 1525.81 L1470.92 1525.81 M1464.49 1520.52 L1477.7 1520.52 Q1491.52 1520.52 1497.98 1526.28 Q1504.44 1532.01 1504.44 1544.24 Q1504.44 1556.52 1497.94 1562.28 Q1491.45 1568.04 1477.7 1568.04 L1464.49 1568.04 L1464.49 1520.52 Z\" fill=\"#000000\" fill-rule=\"nonzero\" fill-opacity=\"1\" /><polyline clip-path=\"url(#clip720)\" style=\"stroke:#000000; stroke-linecap:round; stroke-linejoin:round; stroke-width:4; stroke-opacity:1; fill:none\" points=\"317.528,1423.18 317.528,123.472 \"/>\n",
       "<polyline clip-path=\"url(#clip720)\" style=\"stroke:#000000; stroke-linecap:round; stroke-linejoin:round; stroke-width:4; stroke-opacity:1; fill:none\" points=\"317.528,1214.99 336.425,1214.99 \"/>\n",
       "<polyline clip-path=\"url(#clip720)\" style=\"stroke:#000000; stroke-linecap:round; stroke-linejoin:round; stroke-width:4; stroke-opacity:1; fill:none\" points=\"317.528,954.751 336.425,954.751 \"/>\n",
       "<polyline clip-path=\"url(#clip720)\" style=\"stroke:#000000; stroke-linecap:round; stroke-linejoin:round; stroke-width:4; stroke-opacity:1; fill:none\" points=\"317.528,694.516 336.425,694.516 \"/>\n",
       "<polyline clip-path=\"url(#clip720)\" style=\"stroke:#000000; stroke-linecap:round; stroke-linejoin:round; stroke-width:4; stroke-opacity:1; fill:none\" points=\"317.528,434.281 336.425,434.281 \"/>\n",
       "<polyline clip-path=\"url(#clip720)\" style=\"stroke:#000000; stroke-linecap:round; stroke-linejoin:round; stroke-width:4; stroke-opacity:1; fill:none\" points=\"317.528,174.045 336.425,174.045 \"/>\n",
       "<path clip-path=\"url(#clip720)\" d=\"M115.256 1215.44 L144.931 1215.44 L144.931 1219.37 L115.256 1219.37 L115.256 1215.44 Z\" fill=\"#000000\" fill-rule=\"nonzero\" fill-opacity=\"1\" /><path clip-path=\"url(#clip720)\" d=\"M159.052 1228.33 L175.371 1228.33 L175.371 1232.27 L153.427 1232.27 L153.427 1228.33 Q156.089 1225.58 160.672 1220.95 Q165.278 1216.29 166.459 1214.95 Q168.704 1212.43 169.584 1210.69 Q170.487 1208.93 170.487 1207.24 Q170.487 1204.49 168.542 1202.75 Q166.621 1201.02 163.519 1201.02 Q161.32 1201.02 158.866 1201.78 Q156.436 1202.54 153.658 1204.1 L153.658 1199.37 Q156.482 1198.24 158.936 1197.66 Q161.39 1197.08 163.427 1197.08 Q168.797 1197.08 171.991 1199.77 Q175.186 1202.45 175.186 1206.94 Q175.186 1209.07 174.376 1210.99 Q173.589 1212.89 171.482 1215.48 Q170.903 1216.16 167.802 1219.37 Q164.7 1222.57 159.052 1228.33 Z\" fill=\"#000000\" fill-rule=\"nonzero\" fill-opacity=\"1\" /><path clip-path=\"url(#clip720)\" d=\"M185.186 1226.39 L190.07 1226.39 L190.07 1232.27 L185.186 1232.27 L185.186 1226.39 Z\" fill=\"#000000\" fill-rule=\"nonzero\" fill-opacity=\"1\" /><path clip-path=\"url(#clip720)\" d=\"M210.255 1200.78 Q206.644 1200.78 204.815 1204.35 Q203.01 1207.89 203.01 1215.02 Q203.01 1222.13 204.815 1225.69 Q206.644 1229.23 210.255 1229.23 Q213.889 1229.23 215.695 1225.69 Q217.523 1222.13 217.523 1215.02 Q217.523 1207.89 215.695 1204.35 Q213.889 1200.78 210.255 1200.78 M210.255 1197.08 Q216.065 1197.08 219.121 1201.69 Q222.199 1206.27 222.199 1215.02 Q222.199 1223.75 219.121 1228.35 Q216.065 1232.94 210.255 1232.94 Q204.445 1232.94 201.366 1228.35 Q198.311 1223.75 198.311 1215.02 Q198.311 1206.27 201.366 1201.69 Q204.445 1197.08 210.255 1197.08 Z\" fill=\"#000000\" fill-rule=\"nonzero\" fill-opacity=\"1\" /><path clip-path=\"url(#clip720)\" d=\"M229.236 1197.71 L251.458 1197.71 L251.458 1199.7 L238.912 1232.27 L234.028 1232.27 L245.834 1201.64 L229.236 1201.64 L229.236 1197.71 Z\" fill=\"#000000\" fill-rule=\"nonzero\" fill-opacity=\"1\" /><path clip-path=\"url(#clip720)\" d=\"M260.625 1197.71 L278.981 1197.71 L278.981 1201.64 L264.907 1201.64 L264.907 1210.11 Q265.926 1209.77 266.945 1209.6 Q267.963 1209.42 268.982 1209.42 Q274.769 1209.42 278.148 1212.59 Q281.528 1215.76 281.528 1221.18 Q281.528 1226.76 278.056 1229.86 Q274.583 1232.94 268.264 1232.94 Q266.088 1232.94 263.82 1232.57 Q261.574 1232.2 259.167 1231.46 L259.167 1226.76 Q261.25 1227.89 263.472 1228.45 Q265.695 1229 268.171 1229 Q272.176 1229 274.514 1226.9 Q276.852 1224.79 276.852 1221.18 Q276.852 1217.57 274.514 1215.46 Q272.176 1213.35 268.171 1213.35 Q266.296 1213.35 264.421 1213.77 Q262.57 1214.19 260.625 1215.07 L260.625 1197.71 Z\" fill=\"#000000\" fill-rule=\"nonzero\" fill-opacity=\"1\" /><path clip-path=\"url(#clip720)\" d=\"M114.26 955.202 L143.936 955.202 L143.936 959.138 L114.26 959.138 L114.26 955.202 Z\" fill=\"#000000\" fill-rule=\"nonzero\" fill-opacity=\"1\" /><path clip-path=\"url(#clip720)\" d=\"M158.056 968.096 L174.376 968.096 L174.376 972.031 L152.431 972.031 L152.431 968.096 Q155.093 965.341 159.677 960.712 Q164.283 956.059 165.464 954.716 Q167.709 952.193 168.589 950.457 Q169.491 948.698 169.491 947.008 Q169.491 944.253 167.547 942.517 Q165.626 940.781 162.524 940.781 Q160.325 940.781 157.871 941.545 Q155.44 942.309 152.663 943.86 L152.663 939.138 Q155.487 938.003 157.94 937.425 Q160.394 936.846 162.431 936.846 Q167.802 936.846 170.996 939.531 Q174.19 942.216 174.19 946.707 Q174.19 948.837 173.38 950.758 Q172.593 952.656 170.487 955.249 Q169.908 955.92 166.806 959.138 Q163.704 962.332 158.056 968.096 Z\" fill=\"#000000\" fill-rule=\"nonzero\" fill-opacity=\"1\" /><path clip-path=\"url(#clip720)\" d=\"M184.19 966.151 L189.075 966.151 L189.075 972.031 L184.19 972.031 L184.19 966.151 Z\" fill=\"#000000\" fill-rule=\"nonzero\" fill-opacity=\"1\" /><path clip-path=\"url(#clip720)\" d=\"M209.26 940.55 Q205.649 940.55 203.82 944.115 Q202.014 947.656 202.014 954.786 Q202.014 961.892 203.82 965.457 Q205.649 968.999 209.26 968.999 Q212.894 968.999 214.699 965.457 Q216.528 961.892 216.528 954.786 Q216.528 947.656 214.699 944.115 Q212.894 940.55 209.26 940.55 M209.26 936.846 Q215.07 936.846 218.125 941.453 Q221.204 946.036 221.204 954.786 Q221.204 963.513 218.125 968.119 Q215.07 972.702 209.26 972.702 Q203.449 972.702 200.371 968.119 Q197.315 963.513 197.315 954.786 Q197.315 946.036 200.371 941.453 Q203.449 936.846 209.26 936.846 Z\" fill=\"#000000\" fill-rule=\"nonzero\" fill-opacity=\"1\" /><path clip-path=\"url(#clip720)\" d=\"M229.468 937.471 L247.824 937.471 L247.824 941.406 L233.75 941.406 L233.75 949.878 Q234.769 949.531 235.787 949.369 Q236.806 949.184 237.824 949.184 Q243.611 949.184 246.991 952.355 Q250.371 955.526 250.371 960.943 Q250.371 966.522 246.898 969.624 Q243.426 972.702 237.107 972.702 Q234.931 972.702 232.662 972.332 Q230.417 971.962 228.01 971.221 L228.01 966.522 Q230.093 967.656 232.315 968.212 Q234.537 968.767 237.014 968.767 Q241.019 968.767 243.357 966.661 Q245.695 964.554 245.695 960.943 Q245.695 957.332 243.357 955.226 Q241.019 953.119 237.014 953.119 Q235.139 953.119 233.264 953.536 Q231.412 953.952 229.468 954.832 L229.468 937.471 Z\" fill=\"#000000\" fill-rule=\"nonzero\" fill-opacity=\"1\" /><path clip-path=\"url(#clip720)\" d=\"M269.583 940.55 Q265.972 940.55 264.144 944.115 Q262.338 947.656 262.338 954.786 Q262.338 961.892 264.144 965.457 Q265.972 968.999 269.583 968.999 Q273.218 968.999 275.023 965.457 Q276.852 961.892 276.852 954.786 Q276.852 947.656 275.023 944.115 Q273.218 940.55 269.583 940.55 M269.583 936.846 Q275.394 936.846 278.449 941.453 Q281.528 946.036 281.528 954.786 Q281.528 963.513 278.449 968.119 Q275.394 972.702 269.583 972.702 Q263.773 972.702 260.695 968.119 Q257.639 963.513 257.639 954.786 Q257.639 946.036 260.695 941.453 Q263.773 936.846 269.583 936.846 Z\" fill=\"#000000\" fill-rule=\"nonzero\" fill-opacity=\"1\" /><path clip-path=\"url(#clip720)\" d=\"M115.256 694.967 L144.931 694.967 L144.931 698.902 L115.256 698.902 L115.256 694.967 Z\" fill=\"#000000\" fill-rule=\"nonzero\" fill-opacity=\"1\" /><path clip-path=\"url(#clip720)\" d=\"M159.052 707.861 L175.371 707.861 L175.371 711.796 L153.427 711.796 L153.427 707.861 Q156.089 705.106 160.672 700.476 Q165.278 695.824 166.459 694.481 Q168.704 691.958 169.584 690.222 Q170.487 688.463 170.487 686.773 Q170.487 684.018 168.542 682.282 Q166.621 680.546 163.519 680.546 Q161.32 680.546 158.866 681.31 Q156.436 682.074 153.658 683.625 L153.658 678.902 Q156.482 677.768 158.936 677.19 Q161.39 676.611 163.427 676.611 Q168.797 676.611 171.991 679.296 Q175.186 681.981 175.186 686.472 Q175.186 688.602 174.376 690.523 Q173.589 692.421 171.482 695.014 Q170.903 695.685 167.802 698.902 Q164.7 702.097 159.052 707.861 Z\" fill=\"#000000\" fill-rule=\"nonzero\" fill-opacity=\"1\" /><path clip-path=\"url(#clip720)\" d=\"M185.186 705.916 L190.07 705.916 L190.07 711.796 L185.186 711.796 L185.186 705.916 Z\" fill=\"#000000\" fill-rule=\"nonzero\" fill-opacity=\"1\" /><path clip-path=\"url(#clip720)\" d=\"M210.255 680.315 Q206.644 680.315 204.815 683.879 Q203.01 687.421 203.01 694.551 Q203.01 701.657 204.815 705.222 Q206.644 708.763 210.255 708.763 Q213.889 708.763 215.695 705.222 Q217.523 701.657 217.523 694.551 Q217.523 687.421 215.695 683.879 Q213.889 680.315 210.255 680.315 M210.255 676.611 Q216.065 676.611 219.121 681.217 Q222.199 685.801 222.199 694.551 Q222.199 703.277 219.121 707.884 Q216.065 712.467 210.255 712.467 Q204.445 712.467 201.366 707.884 Q198.311 703.277 198.311 694.551 Q198.311 685.801 201.366 681.217 Q204.445 676.611 210.255 676.611 Z\" fill=\"#000000\" fill-rule=\"nonzero\" fill-opacity=\"1\" /><path clip-path=\"url(#clip720)\" d=\"M234.445 707.861 L250.764 707.861 L250.764 711.796 L228.82 711.796 L228.82 707.861 Q231.482 705.106 236.065 700.476 Q240.672 695.824 241.852 694.481 Q244.097 691.958 244.977 690.222 Q245.88 688.463 245.88 686.773 Q245.88 684.018 243.935 682.282 Q242.014 680.546 238.912 680.546 Q236.713 680.546 234.26 681.31 Q231.829 682.074 229.051 683.625 L229.051 678.902 Q231.875 677.768 234.329 677.19 Q236.783 676.611 238.82 676.611 Q244.19 676.611 247.384 679.296 Q250.579 681.981 250.579 686.472 Q250.579 688.602 249.769 690.523 Q248.982 692.421 246.875 695.014 Q246.296 695.685 243.195 698.902 Q240.093 702.097 234.445 707.861 Z\" fill=\"#000000\" fill-rule=\"nonzero\" fill-opacity=\"1\" /><path clip-path=\"url(#clip720)\" d=\"M260.625 677.236 L278.981 677.236 L278.981 681.171 L264.907 681.171 L264.907 689.643 Q265.926 689.296 266.945 689.134 Q267.963 688.949 268.982 688.949 Q274.769 688.949 278.148 692.12 Q281.528 695.291 281.528 700.708 Q281.528 706.287 278.056 709.388 Q274.583 712.467 268.264 712.467 Q266.088 712.467 263.82 712.097 Q261.574 711.726 259.167 710.986 L259.167 706.287 Q261.25 707.421 263.472 707.976 Q265.695 708.532 268.171 708.532 Q272.176 708.532 274.514 706.425 Q276.852 704.319 276.852 700.708 Q276.852 697.097 274.514 694.99 Q272.176 692.884 268.171 692.884 Q266.296 692.884 264.421 693.301 Q262.57 693.717 260.625 694.597 L260.625 677.236 Z\" fill=\"#000000\" fill-rule=\"nonzero\" fill-opacity=\"1\" /><path clip-path=\"url(#clip720)\" d=\"M114.26 434.732 L143.936 434.732 L143.936 438.667 L114.26 438.667 L114.26 434.732 Z\" fill=\"#000000\" fill-rule=\"nonzero\" fill-opacity=\"1\" /><path clip-path=\"url(#clip720)\" d=\"M158.056 447.625 L174.376 447.625 L174.376 451.561 L152.431 451.561 L152.431 447.625 Q155.093 444.871 159.677 440.241 Q164.283 435.588 165.464 434.246 Q167.709 431.723 168.589 429.987 Q169.491 428.227 169.491 426.538 Q169.491 423.783 167.547 422.047 Q165.626 420.311 162.524 420.311 Q160.325 420.311 157.871 421.075 Q155.44 421.839 152.663 423.389 L152.663 418.667 Q155.487 417.533 157.94 416.954 Q160.394 416.376 162.431 416.376 Q167.802 416.376 170.996 419.061 Q174.19 421.746 174.19 426.237 Q174.19 428.366 173.38 430.288 Q172.593 432.186 170.487 434.778 Q169.908 435.45 166.806 438.667 Q163.704 441.862 158.056 447.625 Z\" fill=\"#000000\" fill-rule=\"nonzero\" fill-opacity=\"1\" /><path clip-path=\"url(#clip720)\" d=\"M184.19 445.681 L189.075 445.681 L189.075 451.561 L184.19 451.561 L184.19 445.681 Z\" fill=\"#000000\" fill-rule=\"nonzero\" fill-opacity=\"1\" /><path clip-path=\"url(#clip720)\" d=\"M209.26 420.079 Q205.649 420.079 203.82 423.644 Q202.014 427.186 202.014 434.315 Q202.014 441.422 203.82 444.987 Q205.649 448.528 209.26 448.528 Q212.894 448.528 214.699 444.987 Q216.528 441.422 216.528 434.315 Q216.528 427.186 214.699 423.644 Q212.894 420.079 209.26 420.079 M209.26 416.376 Q215.07 416.376 218.125 420.982 Q221.204 425.565 221.204 434.315 Q221.204 443.042 218.125 447.649 Q215.07 452.232 209.26 452.232 Q203.449 452.232 200.371 447.649 Q197.315 443.042 197.315 434.315 Q197.315 425.565 200.371 420.982 Q203.449 416.376 209.26 416.376 Z\" fill=\"#000000\" fill-rule=\"nonzero\" fill-opacity=\"1\" /><path clip-path=\"url(#clip720)\" d=\"M239.422 420.079 Q235.81 420.079 233.982 423.644 Q232.176 427.186 232.176 434.315 Q232.176 441.422 233.982 444.987 Q235.81 448.528 239.422 448.528 Q243.056 448.528 244.861 444.987 Q246.69 441.422 246.69 434.315 Q246.69 427.186 244.861 423.644 Q243.056 420.079 239.422 420.079 M239.422 416.376 Q245.232 416.376 248.287 420.982 Q251.366 425.565 251.366 434.315 Q251.366 443.042 248.287 447.649 Q245.232 452.232 239.422 452.232 Q233.611 452.232 230.533 447.649 Q227.477 443.042 227.477 434.315 Q227.477 425.565 230.533 420.982 Q233.611 416.376 239.422 416.376 Z\" fill=\"#000000\" fill-rule=\"nonzero\" fill-opacity=\"1\" /><path clip-path=\"url(#clip720)\" d=\"M269.583 420.079 Q265.972 420.079 264.144 423.644 Q262.338 427.186 262.338 434.315 Q262.338 441.422 264.144 444.987 Q265.972 448.528 269.583 448.528 Q273.218 448.528 275.023 444.987 Q276.852 441.422 276.852 434.315 Q276.852 427.186 275.023 423.644 Q273.218 420.079 269.583 420.079 M269.583 416.376 Q275.394 416.376 278.449 420.982 Q281.528 425.565 281.528 434.315 Q281.528 443.042 278.449 447.649 Q275.394 452.232 269.583 452.232 Q263.773 452.232 260.695 447.649 Q257.639 443.042 257.639 434.315 Q257.639 425.565 260.695 420.982 Q263.773 416.376 269.583 416.376 Z\" fill=\"#000000\" fill-rule=\"nonzero\" fill-opacity=\"1\" /><path clip-path=\"url(#clip720)\" d=\"M115.256 174.497 L144.931 174.497 L144.931 178.432 L115.256 178.432 L115.256 174.497 Z\" fill=\"#000000\" fill-rule=\"nonzero\" fill-opacity=\"1\" /><path clip-path=\"url(#clip720)\" d=\"M155.834 187.39 L163.473 187.39 L163.473 161.025 L155.163 162.691 L155.163 158.432 L163.427 156.765 L168.102 156.765 L168.102 187.39 L175.741 187.39 L175.741 191.325 L155.834 191.325 L155.834 187.39 Z\" fill=\"#000000\" fill-rule=\"nonzero\" fill-opacity=\"1\" /><path clip-path=\"url(#clip720)\" d=\"M185.186 185.446 L190.07 185.446 L190.07 191.325 L185.186 191.325 L185.186 185.446 Z\" fill=\"#000000\" fill-rule=\"nonzero\" fill-opacity=\"1\" /><path clip-path=\"url(#clip720)\" d=\"M200.394 190.608 L200.394 186.349 Q202.153 187.182 203.959 187.622 Q205.764 188.062 207.5 188.062 Q212.13 188.062 214.561 184.96 Q217.014 181.835 217.361 175.492 Q216.019 177.483 213.959 178.548 Q211.899 179.612 209.399 179.612 Q204.213 179.612 201.181 176.488 Q198.172 173.339 198.172 167.9 Q198.172 162.576 201.32 159.358 Q204.468 156.14 209.699 156.14 Q215.695 156.14 218.843 160.747 Q222.014 165.33 222.014 174.08 Q222.014 182.251 218.125 187.136 Q214.26 191.997 207.709 191.997 Q205.949 191.997 204.144 191.649 Q202.338 191.302 200.394 190.608 M209.699 175.955 Q212.848 175.955 214.676 173.802 Q216.528 171.65 216.528 167.9 Q216.528 164.173 214.676 162.02 Q212.848 159.844 209.699 159.844 Q206.551 159.844 204.699 162.02 Q202.871 164.173 202.871 167.9 Q202.871 171.65 204.699 173.802 Q206.551 175.955 209.699 175.955 Z\" fill=\"#000000\" fill-rule=\"nonzero\" fill-opacity=\"1\" /><path clip-path=\"url(#clip720)\" d=\"M229.236 156.765 L251.458 156.765 L251.458 158.756 L238.912 191.325 L234.028 191.325 L245.834 160.701 L229.236 160.701 L229.236 156.765 Z\" fill=\"#000000\" fill-rule=\"nonzero\" fill-opacity=\"1\" /><path clip-path=\"url(#clip720)\" d=\"M260.625 156.765 L278.981 156.765 L278.981 160.701 L264.907 160.701 L264.907 169.173 Q265.926 168.826 266.945 168.663 Q267.963 168.478 268.982 168.478 Q274.769 168.478 278.148 171.65 Q281.528 174.821 281.528 180.237 Q281.528 185.816 278.056 188.918 Q274.583 191.997 268.264 191.997 Q266.088 191.997 263.82 191.626 Q261.574 191.256 259.167 190.515 L259.167 185.816 Q261.25 186.95 263.472 187.506 Q265.695 188.062 268.171 188.062 Q272.176 188.062 274.514 185.955 Q276.852 183.849 276.852 180.237 Q276.852 176.626 274.514 174.52 Q272.176 172.413 268.171 172.413 Q266.296 172.413 264.421 172.83 Q262.57 173.247 260.625 174.126 L260.625 156.765 Z\" fill=\"#000000\" fill-rule=\"nonzero\" fill-opacity=\"1\" /><path clip-path=\"url(#clip720)\" d=\"M16.4842 825.525 L16.4842 795.479 L21.895 795.479 L21.895 819.095 L35.9632 819.095 L35.9632 796.465 L41.3741 796.465 L41.3741 819.095 L58.5933 819.095 L58.5933 794.906 L64.0042 794.906 L64.0042 825.525 L16.4842 825.525 Z\" fill=\"#000000\" fill-rule=\"nonzero\" fill-opacity=\"1\" /><path clip-path=\"url(#clip720)\" d=\"M16.4842 774.185 L16.4842 768.775 L70.0516 785.325 L70.0516 790.736 L16.4842 774.185 Z\" fill=\"#000000\" fill-rule=\"nonzero\" fill-opacity=\"1\" /><path clip-path=\"url(#clip720)\" d=\"M20.8447 743.089 Q20.8447 750.091 26.0645 754.229 Q31.2844 758.335 40.2919 758.335 Q49.2675 758.335 54.4874 754.229 Q59.7073 750.091 59.7073 743.089 Q59.7073 736.087 54.4874 732.013 Q49.2675 727.907 40.2919 727.907 Q31.2844 727.907 26.0645 732.013 Q20.8447 736.087 20.8447 743.089 M63.1448 734.081 L72.4069 725.615 L72.4069 733.381 L64.7999 740.415 Q64.8635 741.466 64.8954 742.039 Q64.9272 742.58 64.9272 743.089 Q64.9272 753.115 58.2432 759.13 Q51.5274 765.114 40.2919 765.114 Q29.0246 765.114 22.3406 759.13 Q15.6248 753.115 15.6248 743.089 Q15.6248 733.095 22.3406 727.111 Q29.0246 721.127 40.2919 721.127 Q48.5673 721.127 54.4556 724.469 Q60.3439 727.779 63.1448 734.081 Z\" fill=\"#000000\" fill-rule=\"nonzero\" fill-opacity=\"1\" /><path clip-path=\"url(#clip720)\" d=\"M746.87 12.096 L785.11 12.096 L785.11 18.9825 L755.052 18.9825 L755.052 36.8875 L783.854 36.8875 L783.854 43.7741 L755.052 43.7741 L755.052 65.6895 L785.839 65.6895 L785.839 72.576 L746.87 72.576 L746.87 12.096 Z\" fill=\"#000000\" fill-rule=\"nonzero\" fill-opacity=\"1\" /><path clip-path=\"url(#clip720)\" d=\"M836.678 45.1919 L836.678 72.576 L829.224 72.576 L829.224 45.4349 Q829.224 38.994 826.713 35.7938 Q824.201 32.5936 819.178 32.5936 Q813.142 32.5936 809.659 36.4419 Q806.175 40.2903 806.175 46.9338 L806.175 72.576 L798.681 72.576 L798.681 27.2059 L806.175 27.2059 L806.175 34.2544 Q808.848 30.163 812.454 28.1376 Q816.099 26.1121 820.839 26.1121 Q828.657 26.1121 832.668 30.9732 Q836.678 35.7938 836.678 45.1919 Z\" fill=\"#000000\" fill-rule=\"nonzero\" fill-opacity=\"1\" /><path clip-path=\"url(#clip720)\" d=\"M890.353 48.0275 L890.353 51.6733 L856.082 51.6733 Q856.568 59.3701 860.7 63.421 Q864.872 67.4314 872.286 67.4314 Q876.579 67.4314 880.59 66.3781 Q884.641 65.3249 888.611 63.2184 L888.611 70.267 Q884.6 71.9684 880.387 72.8596 Q876.174 73.7508 871.84 73.7508 Q860.984 73.7508 854.624 67.4314 Q848.304 61.1119 848.304 50.3365 Q848.304 39.1965 854.3 32.6746 Q860.335 26.1121 870.544 26.1121 Q879.699 26.1121 885.005 32.0264 Q890.353 37.9003 890.353 48.0275 M882.899 45.84 Q882.818 39.7232 879.456 36.0774 Q876.134 32.4315 870.625 32.4315 Q864.386 32.4315 860.619 35.9558 Q856.892 39.4801 856.325 45.8805 L882.899 45.84 Z\" fill=\"#000000\" fill-rule=\"nonzero\" fill-opacity=\"1\" /><path clip-path=\"url(#clip720)\" d=\"M928.877 34.1734 Q927.621 33.4443 926.122 33.1202 Q924.664 32.7556 922.881 32.7556 Q916.562 32.7556 913.159 36.8875 Q909.797 40.9789 909.797 48.6757 L909.797 72.576 L902.303 72.576 L902.303 27.2059 L909.797 27.2059 L909.797 34.2544 Q912.146 30.1225 915.914 28.1376 Q919.681 26.1121 925.069 26.1121 Q925.838 26.1121 926.77 26.2337 Q927.702 26.3147 928.836 26.5172 L928.877 34.1734 Z\" fill=\"#000000\" fill-rule=\"nonzero\" fill-opacity=\"1\" /><path clip-path=\"url(#clip720)\" d=\"M965.092 49.3643 Q965.092 41.2625 961.729 36.8065 Q958.408 32.3505 952.372 32.3505 Q946.377 32.3505 943.014 36.8065 Q939.693 41.2625 939.693 49.3643 Q939.693 57.4256 943.014 61.8816 Q946.377 66.3376 952.372 66.3376 Q958.408 66.3376 961.729 61.8816 Q965.092 57.4256 965.092 49.3643 M972.545 66.9452 Q972.545 78.5308 967.401 84.1616 Q962.256 89.8329 951.643 89.8329 Q947.713 89.8329 944.23 89.2252 Q940.746 88.6581 937.465 87.4428 L937.465 80.1917 Q940.746 81.9741 943.946 82.8248 Q947.146 83.6755 950.468 83.6755 Q957.8 83.6755 961.446 79.8271 Q965.092 76.0193 965.092 68.282 L965.092 64.5957 Q962.783 68.6061 959.177 70.5911 Q955.572 72.576 950.549 72.576 Q942.204 72.576 937.1 66.2161 Q931.996 59.8562 931.996 49.3643 Q931.996 38.832 937.1 32.472 Q942.204 26.1121 950.549 26.1121 Q955.572 26.1121 959.177 28.0971 Q962.783 30.082 965.092 34.0924 L965.092 27.2059 L972.545 27.2059 L972.545 66.9452 Z\" fill=\"#000000\" fill-rule=\"nonzero\" fill-opacity=\"1\" /><path clip-path=\"url(#clip720)\" d=\"M1006.78 76.7889 Q1003.62 84.8907 1000.62 87.3618 Q997.621 89.8329 992.597 89.8329 L986.643 89.8329 L986.643 83.5945 L991.018 83.5945 Q994.096 83.5945 995.798 82.1361 Q997.499 80.6778 999.565 75.2496 L1000.9 71.8468 L982.551 27.2059 L990.45 27.2059 L1004.63 62.6918 L1018.81 27.2059 L1026.71 27.2059 L1006.78 76.7889 Z\" fill=\"#000000\" fill-rule=\"nonzero\" fill-opacity=\"1\" /><path clip-path=\"url(#clip720)\" d=\"M1080.95 32.4315 Q1074.95 32.4315 1071.47 37.1306 Q1067.98 41.7891 1067.98 49.9314 Q1067.98 58.0738 1071.43 62.7728 Q1074.91 67.4314 1080.95 67.4314 Q1086.9 67.4314 1090.39 62.7323 Q1093.87 58.0333 1093.87 49.9314 Q1093.87 41.8701 1090.39 37.1711 Q1086.9 32.4315 1080.95 32.4315 M1080.95 26.1121 Q1090.67 26.1121 1096.22 32.4315 Q1101.77 38.7509 1101.77 49.9314 Q1101.77 61.0714 1096.22 67.4314 Q1090.67 73.7508 1080.95 73.7508 Q1071.18 73.7508 1065.64 67.4314 Q1060.13 61.0714 1060.13 49.9314 Q1060.13 38.7509 1065.64 32.4315 Q1071.18 26.1121 1080.95 26.1121 Z\" fill=\"#000000\" fill-rule=\"nonzero\" fill-opacity=\"1\" /><path clip-path=\"url(#clip720)\" d=\"M1121.34 65.7705 L1121.34 89.8329 L1113.84 89.8329 L1113.84 27.2059 L1121.34 27.2059 L1121.34 34.0924 Q1123.68 30.0415 1127.25 28.0971 Q1130.85 26.1121 1135.84 26.1121 Q1144.1 26.1121 1149.25 32.6746 Q1154.43 39.2371 1154.43 49.9314 Q1154.43 60.6258 1149.25 67.1883 Q1144.1 73.7508 1135.84 73.7508 Q1130.85 73.7508 1127.25 71.8063 Q1123.68 69.8214 1121.34 65.7705 M1146.69 49.9314 Q1146.69 41.7081 1143.29 37.0496 Q1139.93 32.3505 1134.01 32.3505 Q1128.1 32.3505 1124.7 37.0496 Q1121.34 41.7081 1121.34 49.9314 Q1121.34 58.1548 1124.7 62.8538 Q1128.1 67.5124 1134.01 67.5124 Q1139.93 67.5124 1143.29 62.8538 Q1146.69 58.1548 1146.69 49.9314 Z\" fill=\"#000000\" fill-rule=\"nonzero\" fill-opacity=\"1\" /><path clip-path=\"url(#clip720)\" d=\"M1174.16 14.324 L1174.16 27.2059 L1189.51 27.2059 L1189.51 32.9987 L1174.16 32.9987 L1174.16 57.6282 Q1174.16 63.1779 1175.66 64.7578 Q1177.2 66.3376 1181.86 66.3376 L1189.51 66.3376 L1189.51 72.576 L1181.86 72.576 Q1173.23 72.576 1169.95 69.3758 Q1166.66 66.1351 1166.66 57.6282 L1166.66 32.9987 L1161.2 32.9987 L1161.2 27.2059 L1166.66 27.2059 L1166.66 14.324 L1174.16 14.324 Z\" fill=\"#000000\" fill-rule=\"nonzero\" fill-opacity=\"1\" /><path clip-path=\"url(#clip720)\" d=\"M1199.32 27.2059 L1206.77 27.2059 L1206.77 72.576 L1199.32 72.576 L1199.32 27.2059 M1199.32 9.54393 L1206.77 9.54393 L1206.77 18.9825 L1199.32 18.9825 L1199.32 9.54393 Z\" fill=\"#000000\" fill-rule=\"nonzero\" fill-opacity=\"1\" /><path clip-path=\"url(#clip720)\" d=\"M1257.69 35.9153 Q1260.48 30.8922 1264.37 28.5022 Q1268.26 26.1121 1273.53 26.1121 Q1280.62 26.1121 1284.47 31.0947 Q1288.31 36.0368 1288.31 45.1919 L1288.31 72.576 L1280.82 72.576 L1280.82 45.4349 Q1280.82 38.913 1278.51 35.7533 Q1276.2 32.5936 1271.46 32.5936 Q1265.67 32.5936 1262.31 36.4419 Q1258.94 40.2903 1258.94 46.9338 L1258.94 72.576 L1251.45 72.576 L1251.45 45.4349 Q1251.45 38.8725 1249.14 35.7533 Q1246.83 32.5936 1242.01 32.5936 Q1236.3 32.5936 1232.94 36.4824 Q1229.58 40.3308 1229.58 46.9338 L1229.58 72.576 L1222.08 72.576 L1222.08 27.2059 L1229.58 27.2059 L1229.58 34.2544 Q1232.13 30.082 1235.69 28.0971 Q1239.26 26.1121 1244.16 26.1121 Q1249.1 26.1121 1252.54 28.6237 Q1256.03 31.1352 1257.69 35.9153 Z\" fill=\"#000000\" fill-rule=\"nonzero\" fill-opacity=\"1\" /><path clip-path=\"url(#clip720)\" d=\"M1303.18 27.2059 L1310.63 27.2059 L1310.63 72.576 L1303.18 72.576 L1303.18 27.2059 M1303.18 9.54393 L1310.63 9.54393 L1310.63 18.9825 L1303.18 18.9825 L1303.18 9.54393 Z\" fill=\"#000000\" fill-rule=\"nonzero\" fill-opacity=\"1\" /><path clip-path=\"url(#clip720)\" d=\"M1355.15 28.5427 L1355.15 35.5912 Q1351.99 33.9709 1348.59 33.1607 Q1345.19 32.3505 1341.54 32.3505 Q1335.99 32.3505 1333.2 34.0519 Q1330.44 35.7533 1330.44 39.156 Q1330.44 41.7486 1332.43 43.2475 Q1334.41 44.7058 1340.41 46.0426 L1342.96 46.6097 Q1350.9 48.3111 1354.22 51.4303 Q1357.58 54.509 1357.58 60.0587 Q1357.58 66.3781 1352.56 70.0644 Q1347.58 73.7508 1338.83 73.7508 Q1335.18 73.7508 1331.21 73.0216 Q1327.28 72.3329 1322.91 70.9151 L1322.91 63.2184 Q1327.04 65.3654 1331.05 66.4591 Q1335.06 67.5124 1338.99 67.5124 Q1344.26 67.5124 1347.09 65.73 Q1349.93 63.9071 1349.93 60.6258 Q1349.93 57.5877 1347.86 55.9673 Q1345.84 54.3469 1338.91 52.8481 L1336.32 52.2405 Q1329.39 50.7821 1326.31 47.7845 Q1323.23 44.7463 1323.23 39.4801 Q1323.23 33.0797 1327.77 29.5959 Q1332.31 26.1121 1340.65 26.1121 Q1344.78 26.1121 1348.43 26.7198 Q1352.07 27.3274 1355.15 28.5427 Z\" fill=\"#000000\" fill-rule=\"nonzero\" fill-opacity=\"1\" /><path clip-path=\"url(#clip720)\" d=\"M1390.07 49.7694 Q1381.04 49.7694 1377.55 51.8354 Q1374.07 53.9013 1374.07 58.8839 Q1374.07 62.8538 1376.66 65.2034 Q1379.3 67.5124 1383.79 67.5124 Q1389.99 67.5124 1393.72 63.1374 Q1397.49 58.7219 1397.49 51.4303 L1397.49 49.7694 L1390.07 49.7694 M1404.94 46.6907 L1404.94 72.576 L1397.49 72.576 L1397.49 65.6895 Q1394.93 69.8214 1391.13 71.8063 Q1387.32 73.7508 1381.81 73.7508 Q1374.84 73.7508 1370.71 69.8619 Q1366.62 65.9325 1366.62 59.3701 Q1366.62 51.7138 1371.72 47.825 Q1376.87 43.9361 1387.03 43.9361 L1397.49 43.9361 L1397.49 43.2069 Q1397.49 38.0623 1394.08 35.2672 Q1390.72 32.4315 1384.6 32.4315 Q1380.71 32.4315 1377.03 33.3632 Q1373.34 34.295 1369.94 36.1584 L1369.94 29.2718 Q1374.03 27.692 1377.88 26.9223 Q1381.73 26.1121 1385.37 26.1121 Q1395.22 26.1121 1400.08 31.2163 Q1404.94 36.3204 1404.94 46.6907 Z\" fill=\"#000000\" fill-rule=\"nonzero\" fill-opacity=\"1\" /><path clip-path=\"url(#clip720)\" d=\"M1427.66 14.324 L1427.66 27.2059 L1443.02 27.2059 L1443.02 32.9987 L1427.66 32.9987 L1427.66 57.6282 Q1427.66 63.1779 1429.16 64.7578 Q1430.7 66.3376 1435.36 66.3376 L1443.02 66.3376 L1443.02 72.576 L1435.36 72.576 Q1426.73 72.576 1423.45 69.3758 Q1420.17 66.1351 1420.17 57.6282 L1420.17 32.9987 L1414.7 32.9987 L1414.7 27.2059 L1420.17 27.2059 L1420.17 14.324 L1427.66 14.324 Z\" fill=\"#000000\" fill-rule=\"nonzero\" fill-opacity=\"1\" /><path clip-path=\"url(#clip720)\" d=\"M1452.82 27.2059 L1460.27 27.2059 L1460.27 72.576 L1452.82 72.576 L1452.82 27.2059 M1452.82 9.54393 L1460.27 9.54393 L1460.27 18.9825 L1452.82 18.9825 L1452.82 9.54393 Z\" fill=\"#000000\" fill-rule=\"nonzero\" fill-opacity=\"1\" /><path clip-path=\"url(#clip720)\" d=\"M1493.45 32.4315 Q1487.46 32.4315 1483.97 37.1306 Q1480.49 41.7891 1480.49 49.9314 Q1480.49 58.0738 1483.93 62.7728 Q1487.42 67.4314 1493.45 67.4314 Q1499.41 67.4314 1502.89 62.7323 Q1506.37 58.0333 1506.37 49.9314 Q1506.37 41.8701 1502.89 37.1711 Q1499.41 32.4315 1493.45 32.4315 M1493.45 26.1121 Q1503.17 26.1121 1508.72 32.4315 Q1514.27 38.7509 1514.27 49.9314 Q1514.27 61.0714 1508.72 67.4314 Q1503.17 73.7508 1493.45 73.7508 Q1483.69 73.7508 1478.14 67.4314 Q1472.63 61.0714 1472.63 49.9314 Q1472.63 38.7509 1478.14 32.4315 Q1483.69 26.1121 1493.45 26.1121 Z\" fill=\"#000000\" fill-rule=\"nonzero\" fill-opacity=\"1\" /><path clip-path=\"url(#clip720)\" d=\"M1564.34 45.1919 L1564.34 72.576 L1556.89 72.576 L1556.89 45.4349 Q1556.89 38.994 1554.38 35.7938 Q1551.87 32.5936 1546.84 32.5936 Q1540.81 32.5936 1537.32 36.4419 Q1533.84 40.2903 1533.84 46.9338 L1533.84 72.576 L1526.34 72.576 L1526.34 27.2059 L1533.84 27.2059 L1533.84 34.2544 Q1536.51 30.163 1540.12 28.1376 Q1543.76 26.1121 1548.5 26.1121 Q1556.32 26.1121 1560.33 30.9732 Q1564.34 35.7938 1564.34 45.1919 Z\" fill=\"#000000\" fill-rule=\"nonzero\" fill-opacity=\"1\" /><path clip-path=\"url(#clip720)\" d=\"M1601.25 27.2059 L1608.7 27.2059 L1618.02 62.6108 L1627.29 27.2059 L1636.08 27.2059 L1645.4 62.6108 L1654.68 27.2059 L1662.13 27.2059 L1650.26 72.576 L1641.47 72.576 L1631.71 35.3887 L1621.91 72.576 L1613.11 72.576 L1601.25 27.2059 Z\" fill=\"#000000\" fill-rule=\"nonzero\" fill-opacity=\"1\" /><path clip-path=\"url(#clip720)\" d=\"M1673.43 27.2059 L1680.89 27.2059 L1680.89 72.576 L1673.43 72.576 L1673.43 27.2059 M1673.43 9.54393 L1680.89 9.54393 L1680.89 18.9825 L1673.43 18.9825 L1673.43 9.54393 Z\" fill=\"#000000\" fill-rule=\"nonzero\" fill-opacity=\"1\" /><path clip-path=\"url(#clip720)\" d=\"M1703.86 14.324 L1703.86 27.2059 L1719.21 27.2059 L1719.21 32.9987 L1703.86 32.9987 L1703.86 57.6282 Q1703.86 63.1779 1705.35 64.7578 Q1706.89 66.3376 1711.55 66.3376 L1719.21 66.3376 L1719.21 72.576 L1711.55 72.576 Q1702.92 72.576 1699.64 69.3758 Q1696.36 66.1351 1696.36 57.6282 L1696.36 32.9987 L1690.89 32.9987 L1690.89 27.2059 L1696.36 27.2059 L1696.36 14.324 L1703.86 14.324 Z\" fill=\"#000000\" fill-rule=\"nonzero\" fill-opacity=\"1\" /><path clip-path=\"url(#clip720)\" d=\"M1766.73 45.1919 L1766.73 72.576 L1759.27 72.576 L1759.27 45.4349 Q1759.27 38.994 1756.76 35.7938 Q1754.25 32.5936 1749.23 32.5936 Q1743.19 32.5936 1739.71 36.4419 Q1736.22 40.2903 1736.22 46.9338 L1736.22 72.576 L1728.73 72.576 L1728.73 9.54393 L1736.22 9.54393 L1736.22 34.2544 Q1738.9 30.163 1742.5 28.1376 Q1746.15 26.1121 1750.89 26.1121 Q1758.7 26.1121 1762.71 30.9732 Q1766.73 35.7938 1766.73 45.1919 Z\" fill=\"#000000\" fill-rule=\"nonzero\" fill-opacity=\"1\" /><path clip-path=\"url(#clip720)\" d=\"M1849.53 63.9476 L1849.53 47.7034 L1836.16 47.7034 L1836.16 40.9789 L1857.63 40.9789 L1857.63 66.9452 Q1852.89 70.3075 1847.18 72.0494 Q1841.46 73.7508 1834.98 73.7508 Q1820.8 73.7508 1812.78 65.4869 Q1804.8 57.1826 1804.8 42.3968 Q1804.8 27.5705 1812.78 19.3066 Q1820.8 11.0023 1834.98 11.0023 Q1840.9 11.0023 1846.2 12.4606 Q1851.55 13.9189 1856.05 16.7545 L1856.05 25.464 Q1851.51 21.6156 1846.41 19.6712 Q1841.3 17.7268 1835.67 17.7268 Q1824.57 17.7268 1818.98 23.9246 Q1813.43 30.1225 1813.43 42.3968 Q1813.43 54.6305 1818.98 60.8284 Q1824.57 67.0263 1835.67 67.0263 Q1840.01 67.0263 1843.41 66.2971 Q1846.81 65.5274 1849.53 63.9476 Z\" fill=\"#000000\" fill-rule=\"nonzero\" fill-opacity=\"1\" /><path clip-path=\"url(#clip720)\" d=\"M1880.76 18.8205 L1880.76 65.8515 L1890.64 65.8515 Q1903.16 65.8515 1908.95 60.1802 Q1914.79 54.509 1914.79 42.2752 Q1914.79 30.1225 1908.95 24.4918 Q1903.16 18.8205 1890.64 18.8205 L1880.76 18.8205 M1872.58 12.096 L1889.39 12.096 Q1906.97 12.096 1915.19 19.4281 Q1923.41 26.7198 1923.41 42.2752 Q1923.41 57.9117 1915.15 65.2439 Q1906.89 72.576 1889.39 72.576 L1872.58 72.576 L1872.58 12.096 Z\" fill=\"#000000\" fill-rule=\"nonzero\" fill-opacity=\"1\" /><polyline clip-path=\"url(#clip722)\" style=\"stroke:#009af9; stroke-linecap:round; stroke-linejoin:round; stroke-width:4; stroke-opacity:1; fill:none\" points=\"375.129,160.256 394.523,813.082 413.917,1054.64 433.311,1181.31 452.705,1253.1 472.1,1295.1 491.494,1320.25 510.888,1335.62 530.282,1345.25 549.676,1351.45 569.071,1355.6 588.465,1358.49 607.859,1360.62 627.253,1362.26 646.647,1363.59 666.042,1364.71 685.436,1365.69 704.83,1366.56 724.224,1367.36 743.619,1368.1 763.013,1368.78 782.407,1369.42 801.801,1370.03 821.195,1370.6 840.59,1371.14 859.984,1371.65 879.378,1372.14 898.772,1372.6 918.166,1373.04 937.561,1373.47 956.955,1373.87 976.349,1374.26 995.743,1374.63 1015.14,1374.98 1034.53,1375.33 1053.93,1375.66 1073.32,1375.97 1092.71,1376.28 1112.11,1376.58 1131.5,1376.86 1150.9,1377.14 1170.29,1377.41 1189.69,1377.67 1209.08,1377.92 1228.47,1378.17 1247.87,1378.41 1267.26,1378.64 1286.66,1378.86 1306.05,1379.08 1325.44,1379.3 1344.84,1379.51 1364.23,1379.71 1383.63,1379.92 1403.02,1380.11 1422.42,1380.3 1441.81,1380.49 1461.2,1380.68 1480.6,1380.86 1499.99,1381.03 1519.39,1381.21 1538.78,1381.38 1558.18,1381.55 1577.57,1381.71 1596.96,1381.87 1616.36,1382.03 1635.75,1382.19 1655.15,1382.34 1674.54,1382.49 1693.93,1382.64 1713.33,1382.79 1732.72,1382.94 1752.12,1383.08 1771.51,1383.22 1790.91,1383.36 1810.3,1383.5 1829.69,1383.63 1849.09,1383.76 1868.48,1383.89 1887.88,1384.02 1907.27,1384.15 1926.67,1384.28 1946.06,1384.4 1965.45,1384.53 1984.85,1384.65 2004.24,1384.77 2023.64,1384.88 2043.03,1385 2062.42,1385.12 2081.82,1385.23 2101.21,1385.34 2120.61,1385.45 2140,1385.56 2159.4,1385.67 2178.79,1385.78 2198.18,1385.89 2217.58,1385.99 2236.97,1386.09 2256.37,1386.2 2275.76,1386.3 2295.16,1386.4 \"/>\n",
       "<path clip-path=\"url(#clip720)\" d=\"M2028.96 270.476 L2284.91 270.476 L2284.91 166.796 L2028.96 166.796  Z\" fill=\"#ffffff\" fill-rule=\"evenodd\" fill-opacity=\"1\"/>\n",
       "<polyline clip-path=\"url(#clip720)\" style=\"stroke:#000000; stroke-linecap:round; stroke-linejoin:round; stroke-width:4; stroke-opacity:1; fill:none\" points=\"2028.96,270.476 2284.91,270.476 2284.91,166.796 2028.96,166.796 2028.96,270.476 \"/>\n",
       "<polyline clip-path=\"url(#clip720)\" style=\"stroke:#009af9; stroke-linecap:round; stroke-linejoin:round; stroke-width:4; stroke-opacity:1; fill:none\" points=\"2051.58,218.636 2187.26,218.636 \"/>\n",
       "<path clip-path=\"url(#clip720)\" d=\"M2223.71 238.323 Q2221.91 242.953 2220.2 244.365 Q2218.48 245.777 2215.61 245.777 L2212.21 245.777 L2212.21 242.212 L2214.71 242.212 Q2216.47 242.212 2217.44 241.379 Q2218.41 240.545 2219.59 237.443 L2220.36 235.499 L2209.87 209.99 L2214.38 209.99 L2222.49 230.268 L2230.59 209.99 L2235.1 209.99 L2223.71 238.323 Z\" fill=\"#000000\" fill-rule=\"nonzero\" fill-opacity=\"1\" /><path clip-path=\"url(#clip720)\" d=\"M2242.39 231.981 L2250.03 231.981 L2250.03 205.615 L2241.72 207.282 L2241.72 203.022 L2249.99 201.356 L2254.66 201.356 L2254.66 231.981 L2262.3 231.981 L2262.3 235.916 L2242.39 235.916 L2242.39 231.981 Z\" fill=\"#000000\" fill-rule=\"nonzero\" fill-opacity=\"1\" /></svg>\n"
      ],
      "text/html": [
       "<?xml version=\"1.0\" encoding=\"utf-8\"?>\n",
       "<svg xmlns=\"http://www.w3.org/2000/svg\" xmlns:xlink=\"http://www.w3.org/1999/xlink\" width=\"600\" height=\"400\" viewBox=\"0 0 2400 1600\">\n",
       "<defs>\n",
       "  <clipPath id=\"clip770\">\n",
       "    <rect x=\"0\" y=\"0\" width=\"2400\" height=\"1600\"/>\n",
       "  </clipPath>\n",
       "</defs>\n",
       "<path clip-path=\"url(#clip770)\" d=\"M0 1600 L2400 1600 L2400 0 L0 0  Z\" fill=\"#ffffff\" fill-rule=\"evenodd\" fill-opacity=\"1\"/>\n",
       "<defs>\n",
       "  <clipPath id=\"clip771\">\n",
       "    <rect x=\"480\" y=\"0\" width=\"1681\" height=\"1600\"/>\n",
       "  </clipPath>\n",
       "</defs>\n",
       "<path clip-path=\"url(#clip770)\" d=\"M317.528 1423.18 L2352.76 1423.18 L2352.76 123.472 L317.528 123.472  Z\" fill=\"#ffffff\" fill-rule=\"evenodd\" fill-opacity=\"1\"/>\n",
       "<defs>\n",
       "  <clipPath id=\"clip772\">\n",
       "    <rect x=\"317\" y=\"123\" width=\"2036\" height=\"1301\"/>\n",
       "  </clipPath>\n",
       "</defs>\n",
       "<polyline clip-path=\"url(#clip772)\" style=\"stroke:#000000; stroke-linecap:round; stroke-linejoin:round; stroke-width:2; stroke-opacity:0.1; fill:none\" points=\"355.734,1423.18 355.734,123.472 \"/>\n",
       "<polyline clip-path=\"url(#clip772)\" style=\"stroke:#000000; stroke-linecap:round; stroke-linejoin:round; stroke-width:2; stroke-opacity:0.1; fill:none\" points=\"840.59,1423.18 840.59,123.472 \"/>\n",
       "<polyline clip-path=\"url(#clip772)\" style=\"stroke:#000000; stroke-linecap:round; stroke-linejoin:round; stroke-width:2; stroke-opacity:0.1; fill:none\" points=\"1325.44,1423.18 1325.44,123.472 \"/>\n",
       "<polyline clip-path=\"url(#clip772)\" style=\"stroke:#000000; stroke-linecap:round; stroke-linejoin:round; stroke-width:2; stroke-opacity:0.1; fill:none\" points=\"1810.3,1423.18 1810.3,123.472 \"/>\n",
       "<polyline clip-path=\"url(#clip772)\" style=\"stroke:#000000; stroke-linecap:round; stroke-linejoin:round; stroke-width:2; stroke-opacity:0.1; fill:none\" points=\"2295.16,1423.18 2295.16,123.472 \"/>\n",
       "<polyline clip-path=\"url(#clip772)\" style=\"stroke:#000000; stroke-linecap:round; stroke-linejoin:round; stroke-width:2; stroke-opacity:0.1; fill:none\" points=\"317.528,1214.99 2352.76,1214.99 \"/>\n",
       "<polyline clip-path=\"url(#clip772)\" style=\"stroke:#000000; stroke-linecap:round; stroke-linejoin:round; stroke-width:2; stroke-opacity:0.1; fill:none\" points=\"317.528,954.751 2352.76,954.751 \"/>\n",
       "<polyline clip-path=\"url(#clip772)\" style=\"stroke:#000000; stroke-linecap:round; stroke-linejoin:round; stroke-width:2; stroke-opacity:0.1; fill:none\" points=\"317.528,694.516 2352.76,694.516 \"/>\n",
       "<polyline clip-path=\"url(#clip772)\" style=\"stroke:#000000; stroke-linecap:round; stroke-linejoin:round; stroke-width:2; stroke-opacity:0.1; fill:none\" points=\"317.528,434.281 2352.76,434.281 \"/>\n",
       "<polyline clip-path=\"url(#clip772)\" style=\"stroke:#000000; stroke-linecap:round; stroke-linejoin:round; stroke-width:2; stroke-opacity:0.1; fill:none\" points=\"317.528,174.045 2352.76,174.045 \"/>\n",
       "<polyline clip-path=\"url(#clip770)\" style=\"stroke:#000000; stroke-linecap:round; stroke-linejoin:round; stroke-width:4; stroke-opacity:1; fill:none\" points=\"317.528,1423.18 2352.76,1423.18 \"/>\n",
       "<polyline clip-path=\"url(#clip770)\" style=\"stroke:#000000; stroke-linecap:round; stroke-linejoin:round; stroke-width:4; stroke-opacity:1; fill:none\" points=\"355.734,1423.18 355.734,1404.28 \"/>\n",
       "<polyline clip-path=\"url(#clip770)\" style=\"stroke:#000000; stroke-linecap:round; stroke-linejoin:round; stroke-width:4; stroke-opacity:1; fill:none\" points=\"840.59,1423.18 840.59,1404.28 \"/>\n",
       "<polyline clip-path=\"url(#clip770)\" style=\"stroke:#000000; stroke-linecap:round; stroke-linejoin:round; stroke-width:4; stroke-opacity:1; fill:none\" points=\"1325.44,1423.18 1325.44,1404.28 \"/>\n",
       "<polyline clip-path=\"url(#clip770)\" style=\"stroke:#000000; stroke-linecap:round; stroke-linejoin:round; stroke-width:4; stroke-opacity:1; fill:none\" points=\"1810.3,1423.18 1810.3,1404.28 \"/>\n",
       "<polyline clip-path=\"url(#clip770)\" style=\"stroke:#000000; stroke-linecap:round; stroke-linejoin:round; stroke-width:4; stroke-opacity:1; fill:none\" points=\"2295.16,1423.18 2295.16,1404.28 \"/>\n",
       "<path clip-path=\"url(#clip770)\" d=\"M355.734 1454.1 Q352.123 1454.1 350.295 1457.66 Q348.489 1461.2 348.489 1468.33 Q348.489 1475.44 350.295 1479.01 Q352.123 1482.55 355.734 1482.55 Q359.369 1482.55 361.174 1479.01 Q363.003 1475.44 363.003 1468.33 Q363.003 1461.2 361.174 1457.66 Q359.369 1454.1 355.734 1454.1 M355.734 1450.39 Q361.545 1450.39 364.6 1455 Q367.679 1459.58 367.679 1468.33 Q367.679 1477.06 364.6 1481.67 Q361.545 1486.25 355.734 1486.25 Q349.924 1486.25 346.846 1481.67 Q343.79 1477.06 343.79 1468.33 Q343.79 1459.58 346.846 1455 Q349.924 1450.39 355.734 1450.39 Z\" fill=\"#000000\" fill-rule=\"nonzero\" fill-opacity=\"1\" /><path clip-path=\"url(#clip770)\" d=\"M819.86 1481.64 L836.18 1481.64 L836.18 1485.58 L814.236 1485.58 L814.236 1481.64 Q816.898 1478.89 821.481 1474.26 Q826.087 1469.61 827.268 1468.27 Q829.513 1465.74 830.393 1464.01 Q831.296 1462.25 831.296 1460.56 Q831.296 1457.8 829.351 1456.07 Q827.43 1454.33 824.328 1454.33 Q822.129 1454.33 819.675 1455.09 Q817.245 1455.86 814.467 1457.41 L814.467 1452.69 Q817.291 1451.55 819.745 1450.97 Q822.198 1450.39 824.235 1450.39 Q829.606 1450.39 832.8 1453.08 Q835.995 1455.77 835.995 1460.26 Q835.995 1462.39 835.184 1464.31 Q834.397 1466.2 832.291 1468.8 Q831.712 1469.47 828.61 1472.69 Q825.509 1475.88 819.86 1481.64 Z\" fill=\"#000000\" fill-rule=\"nonzero\" fill-opacity=\"1\" /><path clip-path=\"url(#clip770)\" d=\"M846.041 1451.02 L864.397 1451.02 L864.397 1454.96 L850.323 1454.96 L850.323 1463.43 Q851.342 1463.08 852.36 1462.92 Q853.379 1462.73 854.397 1462.73 Q860.184 1462.73 863.564 1465.9 Q866.944 1469.08 866.944 1474.49 Q866.944 1480.07 863.471 1483.17 Q859.999 1486.25 853.68 1486.25 Q851.504 1486.25 849.235 1485.88 Q846.99 1485.51 844.583 1484.77 L844.583 1480.07 Q846.666 1481.2 848.888 1481.76 Q851.11 1482.32 853.587 1482.32 Q857.592 1482.32 859.93 1480.21 Q862.268 1478.1 862.268 1474.49 Q862.268 1470.88 859.93 1468.77 Q857.592 1466.67 853.587 1466.67 Q851.712 1466.67 849.837 1467.08 Q847.985 1467.5 846.041 1468.38 L846.041 1451.02 Z\" fill=\"#000000\" fill-rule=\"nonzero\" fill-opacity=\"1\" /><path clip-path=\"url(#clip770)\" d=\"M1300.14 1451.02 L1318.5 1451.02 L1318.5 1454.96 L1304.43 1454.96 L1304.43 1463.43 Q1305.44 1463.08 1306.46 1462.92 Q1307.48 1462.73 1308.5 1462.73 Q1314.29 1462.73 1317.67 1465.9 Q1321.05 1469.08 1321.05 1474.49 Q1321.05 1480.07 1317.57 1483.17 Q1314.1 1486.25 1307.78 1486.25 Q1305.61 1486.25 1303.34 1485.88 Q1301.09 1485.51 1298.69 1484.77 L1298.69 1480.07 Q1300.77 1481.2 1302.99 1481.76 Q1305.21 1482.32 1307.69 1482.32 Q1311.69 1482.32 1314.03 1480.21 Q1316.37 1478.1 1316.37 1474.49 Q1316.37 1470.88 1314.03 1468.77 Q1311.69 1466.67 1307.69 1466.67 Q1305.82 1466.67 1303.94 1467.08 Q1302.09 1467.5 1300.14 1468.38 L1300.14 1451.02 Z\" fill=\"#000000\" fill-rule=\"nonzero\" fill-opacity=\"1\" /><path clip-path=\"url(#clip770)\" d=\"M1340.26 1454.1 Q1336.65 1454.1 1334.82 1457.66 Q1333.01 1461.2 1333.01 1468.33 Q1333.01 1475.44 1334.82 1479.01 Q1336.65 1482.55 1340.26 1482.55 Q1343.89 1482.55 1345.7 1479.01 Q1347.53 1475.44 1347.53 1468.33 Q1347.53 1461.2 1345.7 1457.66 Q1343.89 1454.1 1340.26 1454.1 M1340.26 1450.39 Q1346.07 1450.39 1349.13 1455 Q1352.2 1459.58 1352.2 1468.33 Q1352.2 1477.06 1349.13 1481.67 Q1346.07 1486.25 1340.26 1486.25 Q1334.45 1486.25 1331.37 1481.67 Q1328.32 1477.06 1328.32 1468.33 Q1328.32 1459.58 1331.37 1455 Q1334.45 1450.39 1340.26 1450.39 Z\" fill=\"#000000\" fill-rule=\"nonzero\" fill-opacity=\"1\" /><path clip-path=\"url(#clip770)\" d=\"M1784.15 1451.02 L1806.38 1451.02 L1806.38 1453.01 L1793.83 1485.58 L1788.95 1485.58 L1800.75 1454.96 L1784.15 1454.96 L1784.15 1451.02 Z\" fill=\"#000000\" fill-rule=\"nonzero\" fill-opacity=\"1\" /><path clip-path=\"url(#clip770)\" d=\"M1815.54 1451.02 L1833.9 1451.02 L1833.9 1454.96 L1819.83 1454.96 L1819.83 1463.43 Q1820.84 1463.08 1821.86 1462.92 Q1822.88 1462.73 1823.9 1462.73 Q1829.69 1462.73 1833.07 1465.9 Q1836.45 1469.08 1836.45 1474.49 Q1836.45 1480.07 1832.97 1483.17 Q1829.5 1486.25 1823.18 1486.25 Q1821.01 1486.25 1818.74 1485.88 Q1816.49 1485.51 1814.08 1484.77 L1814.08 1480.07 Q1816.17 1481.2 1818.39 1481.76 Q1820.61 1482.32 1823.09 1482.32 Q1827.09 1482.32 1829.43 1480.21 Q1831.77 1478.1 1831.77 1474.49 Q1831.77 1470.88 1829.43 1468.77 Q1827.09 1466.67 1823.09 1466.67 Q1821.21 1466.67 1819.34 1467.08 Q1817.49 1467.5 1815.54 1468.38 L1815.54 1451.02 Z\" fill=\"#000000\" fill-rule=\"nonzero\" fill-opacity=\"1\" /><path clip-path=\"url(#clip770)\" d=\"M2254.76 1481.64 L2262.4 1481.64 L2262.4 1455.28 L2254.09 1456.95 L2254.09 1452.69 L2262.35 1451.02 L2267.03 1451.02 L2267.03 1481.64 L2274.67 1481.64 L2274.67 1485.58 L2254.76 1485.58 L2254.76 1481.64 Z\" fill=\"#000000\" fill-rule=\"nonzero\" fill-opacity=\"1\" /><path clip-path=\"url(#clip770)\" d=\"M2294.11 1454.1 Q2290.5 1454.1 2288.67 1457.66 Q2286.87 1461.2 2286.87 1468.33 Q2286.87 1475.44 2288.67 1479.01 Q2290.5 1482.55 2294.11 1482.55 Q2297.75 1482.55 2299.55 1479.01 Q2301.38 1475.44 2301.38 1468.33 Q2301.38 1461.2 2299.55 1457.66 Q2297.75 1454.1 2294.11 1454.1 M2294.11 1450.39 Q2299.92 1450.39 2302.98 1455 Q2306.06 1459.58 2306.06 1468.33 Q2306.06 1477.06 2302.98 1481.67 Q2299.92 1486.25 2294.11 1486.25 Q2288.3 1486.25 2285.22 1481.67 Q2282.17 1477.06 2282.17 1468.33 Q2282.17 1459.58 2285.22 1455 Q2288.3 1450.39 2294.11 1450.39 Z\" fill=\"#000000\" fill-rule=\"nonzero\" fill-opacity=\"1\" /><path clip-path=\"url(#clip770)\" d=\"M2324.28 1454.1 Q2320.66 1454.1 2318.84 1457.66 Q2317.03 1461.2 2317.03 1468.33 Q2317.03 1475.44 2318.84 1479.01 Q2320.66 1482.55 2324.28 1482.55 Q2327.91 1482.55 2329.72 1479.01 Q2331.54 1475.44 2331.54 1468.33 Q2331.54 1461.2 2329.72 1457.66 Q2327.91 1454.1 2324.28 1454.1 M2324.28 1450.39 Q2330.09 1450.39 2333.14 1455 Q2336.22 1459.58 2336.22 1468.33 Q2336.22 1477.06 2333.14 1481.67 Q2330.09 1486.25 2324.28 1486.25 Q2318.47 1486.25 2315.39 1481.67 Q2312.33 1477.06 2312.33 1468.33 Q2312.33 1459.58 2315.39 1455 Q2318.47 1450.39 2324.28 1450.39 Z\" fill=\"#000000\" fill-rule=\"nonzero\" fill-opacity=\"1\" /><path clip-path=\"url(#clip770)\" d=\"M1186.73 1537.87 Q1185.74 1537.3 1184.56 1537.04 Q1183.42 1536.76 1182.01 1536.76 Q1177.05 1536.76 1174.38 1540 Q1171.73 1543.22 1171.73 1549.27 L1171.73 1568.04 L1165.85 1568.04 L1165.85 1532.4 L1171.73 1532.4 L1171.73 1537.93 Q1173.58 1534.69 1176.54 1533.13 Q1179.5 1531.54 1183.73 1531.54 Q1184.34 1531.54 1185.07 1531.63 Q1185.8 1531.7 1186.69 1531.85 L1186.73 1537.87 Z\" fill=\"#000000\" fill-rule=\"nonzero\" fill-opacity=\"1\" /><path clip-path=\"url(#clip770)\" d=\"M1192.26 1553.98 L1192.26 1532.4 L1198.12 1532.4 L1198.12 1553.75 Q1198.12 1558.81 1200.09 1561.36 Q1202.07 1563.87 1206.01 1563.87 Q1210.76 1563.87 1213.49 1560.85 Q1216.26 1557.83 1216.26 1552.61 L1216.26 1532.4 L1222.12 1532.4 L1222.12 1568.04 L1216.26 1568.04 L1216.26 1562.57 Q1214.13 1565.82 1211.3 1567.41 Q1208.5 1568.97 1204.77 1568.97 Q1198.63 1568.97 1195.45 1565.15 Q1192.26 1561.33 1192.26 1553.98 M1207 1531.54 L1207 1531.54 Z\" fill=\"#000000\" fill-rule=\"nonzero\" fill-opacity=\"1\" /><path clip-path=\"url(#clip770)\" d=\"M1263.81 1546.53 L1263.81 1568.04 L1257.96 1568.04 L1257.96 1546.72 Q1257.96 1541.66 1255.98 1539.14 Q1254.01 1536.63 1250.06 1536.63 Q1245.32 1536.63 1242.58 1539.65 Q1239.85 1542.68 1239.85 1547.9 L1239.85 1568.04 L1233.96 1568.04 L1233.96 1532.4 L1239.85 1532.4 L1239.85 1537.93 Q1241.95 1534.72 1244.78 1533.13 Q1247.65 1531.54 1251.37 1531.54 Q1257.51 1531.54 1260.66 1535.36 Q1263.81 1539.14 1263.81 1546.53 Z\" fill=\"#000000\" fill-rule=\"nonzero\" fill-opacity=\"1\" /><path clip-path=\"url(#clip770)\" d=\"M1298.22 1533.45 L1298.22 1538.98 Q1295.74 1537.71 1293.06 1537.07 Q1290.39 1536.44 1287.53 1536.44 Q1283.17 1536.44 1280.97 1537.77 Q1278.81 1539.11 1278.81 1541.79 Q1278.81 1543.82 1280.36 1545 Q1281.92 1546.15 1286.64 1547.2 L1288.64 1547.64 Q1294.88 1548.98 1297.49 1551.43 Q1300.13 1553.85 1300.13 1558.21 Q1300.13 1563.17 1296.18 1566.07 Q1292.27 1568.97 1285.39 1568.97 Q1282.53 1568.97 1279.41 1568.39 Q1276.32 1567.85 1272.89 1566.74 L1272.89 1560.69 Q1276.13 1562.38 1279.28 1563.24 Q1282.43 1564.07 1285.52 1564.07 Q1289.66 1564.07 1291.89 1562.66 Q1294.11 1561.23 1294.11 1558.65 Q1294.11 1556.27 1292.49 1554.99 Q1290.9 1553.72 1285.46 1552.54 L1283.42 1552.07 Q1277.98 1550.92 1275.56 1548.56 Q1273.14 1546.18 1273.14 1542.04 Q1273.14 1537.01 1276.7 1534.27 Q1280.27 1531.54 1286.83 1531.54 Q1290.07 1531.54 1292.94 1532.01 Q1295.8 1532.49 1298.22 1533.45 Z\" fill=\"#000000\" fill-rule=\"nonzero\" fill-opacity=\"1\" /><path clip-path=\"url(#clip770)\" d=\"M1343.99 1536.5 Q1339.28 1536.5 1336.54 1540.19 Q1333.81 1543.85 1333.81 1550.25 Q1333.81 1556.65 1336.51 1560.34 Q1339.25 1564 1343.99 1564 Q1348.67 1564 1351.41 1560.31 Q1354.14 1556.62 1354.14 1550.25 Q1354.14 1543.92 1351.41 1540.23 Q1348.67 1536.5 1343.99 1536.5 M1343.99 1531.54 Q1351.63 1531.54 1355.99 1536.5 Q1360.35 1541.47 1360.35 1550.25 Q1360.35 1559 1355.99 1564 Q1351.63 1568.97 1343.99 1568.97 Q1336.32 1568.97 1331.96 1564 Q1327.63 1559 1327.63 1550.25 Q1327.63 1541.47 1331.96 1536.5 Q1336.32 1531.54 1343.99 1531.54 Z\" fill=\"#000000\" fill-rule=\"nonzero\" fill-opacity=\"1\" /><path clip-path=\"url(#clip770)\" d=\"M1388.1 1518.52 L1388.1 1523.39 L1382.5 1523.39 Q1379.35 1523.39 1378.11 1524.66 Q1376.9 1525.93 1376.9 1529.24 L1376.9 1532.4 L1386.54 1532.4 L1386.54 1536.95 L1376.9 1536.95 L1376.9 1568.04 L1371.01 1568.04 L1371.01 1536.95 L1365.41 1536.95 L1365.41 1532.4 L1371.01 1532.4 L1371.01 1529.91 Q1371.01 1523.96 1373.78 1521.26 Q1376.55 1518.52 1382.57 1518.52 L1388.1 1518.52 Z\" fill=\"#000000\" fill-rule=\"nonzero\" fill-opacity=\"1\" /><path clip-path=\"url(#clip770)\" d=\"M1446.38 1561.26 L1446.38 1548.5 L1435.88 1548.5 L1435.88 1543.22 L1452.75 1543.22 L1452.75 1563.62 Q1449.02 1566.26 1444.54 1567.63 Q1440.05 1568.97 1434.96 1568.97 Q1423.82 1568.97 1417.51 1562.47 Q1411.24 1555.95 1411.24 1544.33 Q1411.24 1532.68 1417.51 1526.19 Q1423.82 1519.66 1434.96 1519.66 Q1439.6 1519.66 1443.77 1520.81 Q1447.97 1521.96 1451.51 1524.18 L1451.51 1531.03 Q1447.94 1528 1443.93 1526.48 Q1439.92 1524.95 1435.5 1524.95 Q1426.78 1524.95 1422.38 1529.82 Q1418.02 1534.69 1418.02 1544.33 Q1418.02 1553.94 1422.38 1558.81 Q1426.78 1563.68 1435.5 1563.68 Q1438.9 1563.68 1441.58 1563.11 Q1444.25 1562.51 1446.38 1561.26 Z\" fill=\"#000000\" fill-rule=\"nonzero\" fill-opacity=\"1\" /><path clip-path=\"url(#clip770)\" d=\"M1470.92 1525.81 L1470.92 1562.76 L1478.69 1562.76 Q1488.52 1562.76 1493.08 1558.3 Q1497.66 1553.85 1497.66 1544.24 Q1497.66 1534.69 1493.08 1530.26 Q1488.52 1525.81 1478.69 1525.81 L1470.92 1525.81 M1464.49 1520.52 L1477.7 1520.52 Q1491.52 1520.52 1497.98 1526.28 Q1504.44 1532.01 1504.44 1544.24 Q1504.44 1556.52 1497.94 1562.28 Q1491.45 1568.04 1477.7 1568.04 L1464.49 1568.04 L1464.49 1520.52 Z\" fill=\"#000000\" fill-rule=\"nonzero\" fill-opacity=\"1\" /><polyline clip-path=\"url(#clip770)\" style=\"stroke:#000000; stroke-linecap:round; stroke-linejoin:round; stroke-width:4; stroke-opacity:1; fill:none\" points=\"317.528,1423.18 317.528,123.472 \"/>\n",
       "<polyline clip-path=\"url(#clip770)\" style=\"stroke:#000000; stroke-linecap:round; stroke-linejoin:round; stroke-width:4; stroke-opacity:1; fill:none\" points=\"317.528,1214.99 336.425,1214.99 \"/>\n",
       "<polyline clip-path=\"url(#clip770)\" style=\"stroke:#000000; stroke-linecap:round; stroke-linejoin:round; stroke-width:4; stroke-opacity:1; fill:none\" points=\"317.528,954.751 336.425,954.751 \"/>\n",
       "<polyline clip-path=\"url(#clip770)\" style=\"stroke:#000000; stroke-linecap:round; stroke-linejoin:round; stroke-width:4; stroke-opacity:1; fill:none\" points=\"317.528,694.516 336.425,694.516 \"/>\n",
       "<polyline clip-path=\"url(#clip770)\" style=\"stroke:#000000; stroke-linecap:round; stroke-linejoin:round; stroke-width:4; stroke-opacity:1; fill:none\" points=\"317.528,434.281 336.425,434.281 \"/>\n",
       "<polyline clip-path=\"url(#clip770)\" style=\"stroke:#000000; stroke-linecap:round; stroke-linejoin:round; stroke-width:4; stroke-opacity:1; fill:none\" points=\"317.528,174.045 336.425,174.045 \"/>\n",
       "<path clip-path=\"url(#clip770)\" d=\"M115.256 1215.44 L144.931 1215.44 L144.931 1219.37 L115.256 1219.37 L115.256 1215.44 Z\" fill=\"#000000\" fill-rule=\"nonzero\" fill-opacity=\"1\" /><path clip-path=\"url(#clip770)\" d=\"M159.052 1228.33 L175.371 1228.33 L175.371 1232.27 L153.427 1232.27 L153.427 1228.33 Q156.089 1225.58 160.672 1220.95 Q165.278 1216.29 166.459 1214.95 Q168.704 1212.43 169.584 1210.69 Q170.487 1208.93 170.487 1207.24 Q170.487 1204.49 168.542 1202.75 Q166.621 1201.02 163.519 1201.02 Q161.32 1201.02 158.866 1201.78 Q156.436 1202.54 153.658 1204.1 L153.658 1199.37 Q156.482 1198.24 158.936 1197.66 Q161.39 1197.08 163.427 1197.08 Q168.797 1197.08 171.991 1199.77 Q175.186 1202.45 175.186 1206.94 Q175.186 1209.07 174.376 1210.99 Q173.589 1212.89 171.482 1215.48 Q170.903 1216.16 167.802 1219.37 Q164.7 1222.57 159.052 1228.33 Z\" fill=\"#000000\" fill-rule=\"nonzero\" fill-opacity=\"1\" /><path clip-path=\"url(#clip770)\" d=\"M185.186 1226.39 L190.07 1226.39 L190.07 1232.27 L185.186 1232.27 L185.186 1226.39 Z\" fill=\"#000000\" fill-rule=\"nonzero\" fill-opacity=\"1\" /><path clip-path=\"url(#clip770)\" d=\"M210.255 1200.78 Q206.644 1200.78 204.815 1204.35 Q203.01 1207.89 203.01 1215.02 Q203.01 1222.13 204.815 1225.69 Q206.644 1229.23 210.255 1229.23 Q213.889 1229.23 215.695 1225.69 Q217.523 1222.13 217.523 1215.02 Q217.523 1207.89 215.695 1204.35 Q213.889 1200.78 210.255 1200.78 M210.255 1197.08 Q216.065 1197.08 219.121 1201.69 Q222.199 1206.27 222.199 1215.02 Q222.199 1223.75 219.121 1228.35 Q216.065 1232.94 210.255 1232.94 Q204.445 1232.94 201.366 1228.35 Q198.311 1223.75 198.311 1215.02 Q198.311 1206.27 201.366 1201.69 Q204.445 1197.08 210.255 1197.08 Z\" fill=\"#000000\" fill-rule=\"nonzero\" fill-opacity=\"1\" /><path clip-path=\"url(#clip770)\" d=\"M229.236 1197.71 L251.458 1197.71 L251.458 1199.7 L238.912 1232.27 L234.028 1232.27 L245.834 1201.64 L229.236 1201.64 L229.236 1197.71 Z\" fill=\"#000000\" fill-rule=\"nonzero\" fill-opacity=\"1\" /><path clip-path=\"url(#clip770)\" d=\"M260.625 1197.71 L278.981 1197.71 L278.981 1201.64 L264.907 1201.64 L264.907 1210.11 Q265.926 1209.77 266.945 1209.6 Q267.963 1209.42 268.982 1209.42 Q274.769 1209.42 278.148 1212.59 Q281.528 1215.76 281.528 1221.18 Q281.528 1226.76 278.056 1229.86 Q274.583 1232.94 268.264 1232.94 Q266.088 1232.94 263.82 1232.57 Q261.574 1232.2 259.167 1231.46 L259.167 1226.76 Q261.25 1227.89 263.472 1228.45 Q265.695 1229 268.171 1229 Q272.176 1229 274.514 1226.9 Q276.852 1224.79 276.852 1221.18 Q276.852 1217.57 274.514 1215.46 Q272.176 1213.35 268.171 1213.35 Q266.296 1213.35 264.421 1213.77 Q262.57 1214.19 260.625 1215.07 L260.625 1197.71 Z\" fill=\"#000000\" fill-rule=\"nonzero\" fill-opacity=\"1\" /><path clip-path=\"url(#clip770)\" d=\"M114.26 955.202 L143.936 955.202 L143.936 959.138 L114.26 959.138 L114.26 955.202 Z\" fill=\"#000000\" fill-rule=\"nonzero\" fill-opacity=\"1\" /><path clip-path=\"url(#clip770)\" d=\"M158.056 968.096 L174.376 968.096 L174.376 972.031 L152.431 972.031 L152.431 968.096 Q155.093 965.341 159.677 960.712 Q164.283 956.059 165.464 954.716 Q167.709 952.193 168.589 950.457 Q169.491 948.698 169.491 947.008 Q169.491 944.253 167.547 942.517 Q165.626 940.781 162.524 940.781 Q160.325 940.781 157.871 941.545 Q155.44 942.309 152.663 943.86 L152.663 939.138 Q155.487 938.003 157.94 937.425 Q160.394 936.846 162.431 936.846 Q167.802 936.846 170.996 939.531 Q174.19 942.216 174.19 946.707 Q174.19 948.837 173.38 950.758 Q172.593 952.656 170.487 955.249 Q169.908 955.92 166.806 959.138 Q163.704 962.332 158.056 968.096 Z\" fill=\"#000000\" fill-rule=\"nonzero\" fill-opacity=\"1\" /><path clip-path=\"url(#clip770)\" d=\"M184.19 966.151 L189.075 966.151 L189.075 972.031 L184.19 972.031 L184.19 966.151 Z\" fill=\"#000000\" fill-rule=\"nonzero\" fill-opacity=\"1\" /><path clip-path=\"url(#clip770)\" d=\"M209.26 940.55 Q205.649 940.55 203.82 944.115 Q202.014 947.656 202.014 954.786 Q202.014 961.892 203.82 965.457 Q205.649 968.999 209.26 968.999 Q212.894 968.999 214.699 965.457 Q216.528 961.892 216.528 954.786 Q216.528 947.656 214.699 944.115 Q212.894 940.55 209.26 940.55 M209.26 936.846 Q215.07 936.846 218.125 941.453 Q221.204 946.036 221.204 954.786 Q221.204 963.513 218.125 968.119 Q215.07 972.702 209.26 972.702 Q203.449 972.702 200.371 968.119 Q197.315 963.513 197.315 954.786 Q197.315 946.036 200.371 941.453 Q203.449 936.846 209.26 936.846 Z\" fill=\"#000000\" fill-rule=\"nonzero\" fill-opacity=\"1\" /><path clip-path=\"url(#clip770)\" d=\"M229.468 937.471 L247.824 937.471 L247.824 941.406 L233.75 941.406 L233.75 949.878 Q234.769 949.531 235.787 949.369 Q236.806 949.184 237.824 949.184 Q243.611 949.184 246.991 952.355 Q250.371 955.526 250.371 960.943 Q250.371 966.522 246.898 969.624 Q243.426 972.702 237.107 972.702 Q234.931 972.702 232.662 972.332 Q230.417 971.962 228.01 971.221 L228.01 966.522 Q230.093 967.656 232.315 968.212 Q234.537 968.767 237.014 968.767 Q241.019 968.767 243.357 966.661 Q245.695 964.554 245.695 960.943 Q245.695 957.332 243.357 955.226 Q241.019 953.119 237.014 953.119 Q235.139 953.119 233.264 953.536 Q231.412 953.952 229.468 954.832 L229.468 937.471 Z\" fill=\"#000000\" fill-rule=\"nonzero\" fill-opacity=\"1\" /><path clip-path=\"url(#clip770)\" d=\"M269.583 940.55 Q265.972 940.55 264.144 944.115 Q262.338 947.656 262.338 954.786 Q262.338 961.892 264.144 965.457 Q265.972 968.999 269.583 968.999 Q273.218 968.999 275.023 965.457 Q276.852 961.892 276.852 954.786 Q276.852 947.656 275.023 944.115 Q273.218 940.55 269.583 940.55 M269.583 936.846 Q275.394 936.846 278.449 941.453 Q281.528 946.036 281.528 954.786 Q281.528 963.513 278.449 968.119 Q275.394 972.702 269.583 972.702 Q263.773 972.702 260.695 968.119 Q257.639 963.513 257.639 954.786 Q257.639 946.036 260.695 941.453 Q263.773 936.846 269.583 936.846 Z\" fill=\"#000000\" fill-rule=\"nonzero\" fill-opacity=\"1\" /><path clip-path=\"url(#clip770)\" d=\"M115.256 694.967 L144.931 694.967 L144.931 698.902 L115.256 698.902 L115.256 694.967 Z\" fill=\"#000000\" fill-rule=\"nonzero\" fill-opacity=\"1\" /><path clip-path=\"url(#clip770)\" d=\"M159.052 707.861 L175.371 707.861 L175.371 711.796 L153.427 711.796 L153.427 707.861 Q156.089 705.106 160.672 700.476 Q165.278 695.824 166.459 694.481 Q168.704 691.958 169.584 690.222 Q170.487 688.463 170.487 686.773 Q170.487 684.018 168.542 682.282 Q166.621 680.546 163.519 680.546 Q161.32 680.546 158.866 681.31 Q156.436 682.074 153.658 683.625 L153.658 678.902 Q156.482 677.768 158.936 677.19 Q161.39 676.611 163.427 676.611 Q168.797 676.611 171.991 679.296 Q175.186 681.981 175.186 686.472 Q175.186 688.602 174.376 690.523 Q173.589 692.421 171.482 695.014 Q170.903 695.685 167.802 698.902 Q164.7 702.097 159.052 707.861 Z\" fill=\"#000000\" fill-rule=\"nonzero\" fill-opacity=\"1\" /><path clip-path=\"url(#clip770)\" d=\"M185.186 705.916 L190.07 705.916 L190.07 711.796 L185.186 711.796 L185.186 705.916 Z\" fill=\"#000000\" fill-rule=\"nonzero\" fill-opacity=\"1\" /><path clip-path=\"url(#clip770)\" d=\"M210.255 680.315 Q206.644 680.315 204.815 683.879 Q203.01 687.421 203.01 694.551 Q203.01 701.657 204.815 705.222 Q206.644 708.763 210.255 708.763 Q213.889 708.763 215.695 705.222 Q217.523 701.657 217.523 694.551 Q217.523 687.421 215.695 683.879 Q213.889 680.315 210.255 680.315 M210.255 676.611 Q216.065 676.611 219.121 681.217 Q222.199 685.801 222.199 694.551 Q222.199 703.277 219.121 707.884 Q216.065 712.467 210.255 712.467 Q204.445 712.467 201.366 707.884 Q198.311 703.277 198.311 694.551 Q198.311 685.801 201.366 681.217 Q204.445 676.611 210.255 676.611 Z\" fill=\"#000000\" fill-rule=\"nonzero\" fill-opacity=\"1\" /><path clip-path=\"url(#clip770)\" d=\"M234.445 707.861 L250.764 707.861 L250.764 711.796 L228.82 711.796 L228.82 707.861 Q231.482 705.106 236.065 700.476 Q240.672 695.824 241.852 694.481 Q244.097 691.958 244.977 690.222 Q245.88 688.463 245.88 686.773 Q245.88 684.018 243.935 682.282 Q242.014 680.546 238.912 680.546 Q236.713 680.546 234.26 681.31 Q231.829 682.074 229.051 683.625 L229.051 678.902 Q231.875 677.768 234.329 677.19 Q236.783 676.611 238.82 676.611 Q244.19 676.611 247.384 679.296 Q250.579 681.981 250.579 686.472 Q250.579 688.602 249.769 690.523 Q248.982 692.421 246.875 695.014 Q246.296 695.685 243.195 698.902 Q240.093 702.097 234.445 707.861 Z\" fill=\"#000000\" fill-rule=\"nonzero\" fill-opacity=\"1\" /><path clip-path=\"url(#clip770)\" d=\"M260.625 677.236 L278.981 677.236 L278.981 681.171 L264.907 681.171 L264.907 689.643 Q265.926 689.296 266.945 689.134 Q267.963 688.949 268.982 688.949 Q274.769 688.949 278.148 692.12 Q281.528 695.291 281.528 700.708 Q281.528 706.287 278.056 709.388 Q274.583 712.467 268.264 712.467 Q266.088 712.467 263.82 712.097 Q261.574 711.726 259.167 710.986 L259.167 706.287 Q261.25 707.421 263.472 707.976 Q265.695 708.532 268.171 708.532 Q272.176 708.532 274.514 706.425 Q276.852 704.319 276.852 700.708 Q276.852 697.097 274.514 694.99 Q272.176 692.884 268.171 692.884 Q266.296 692.884 264.421 693.301 Q262.57 693.717 260.625 694.597 L260.625 677.236 Z\" fill=\"#000000\" fill-rule=\"nonzero\" fill-opacity=\"1\" /><path clip-path=\"url(#clip770)\" d=\"M114.26 434.732 L143.936 434.732 L143.936 438.667 L114.26 438.667 L114.26 434.732 Z\" fill=\"#000000\" fill-rule=\"nonzero\" fill-opacity=\"1\" /><path clip-path=\"url(#clip770)\" d=\"M158.056 447.625 L174.376 447.625 L174.376 451.561 L152.431 451.561 L152.431 447.625 Q155.093 444.871 159.677 440.241 Q164.283 435.588 165.464 434.246 Q167.709 431.723 168.589 429.987 Q169.491 428.227 169.491 426.538 Q169.491 423.783 167.547 422.047 Q165.626 420.311 162.524 420.311 Q160.325 420.311 157.871 421.075 Q155.44 421.839 152.663 423.389 L152.663 418.667 Q155.487 417.533 157.94 416.954 Q160.394 416.376 162.431 416.376 Q167.802 416.376 170.996 419.061 Q174.19 421.746 174.19 426.237 Q174.19 428.366 173.38 430.288 Q172.593 432.186 170.487 434.778 Q169.908 435.45 166.806 438.667 Q163.704 441.862 158.056 447.625 Z\" fill=\"#000000\" fill-rule=\"nonzero\" fill-opacity=\"1\" /><path clip-path=\"url(#clip770)\" d=\"M184.19 445.681 L189.075 445.681 L189.075 451.561 L184.19 451.561 L184.19 445.681 Z\" fill=\"#000000\" fill-rule=\"nonzero\" fill-opacity=\"1\" /><path clip-path=\"url(#clip770)\" d=\"M209.26 420.079 Q205.649 420.079 203.82 423.644 Q202.014 427.186 202.014 434.315 Q202.014 441.422 203.82 444.987 Q205.649 448.528 209.26 448.528 Q212.894 448.528 214.699 444.987 Q216.528 441.422 216.528 434.315 Q216.528 427.186 214.699 423.644 Q212.894 420.079 209.26 420.079 M209.26 416.376 Q215.07 416.376 218.125 420.982 Q221.204 425.565 221.204 434.315 Q221.204 443.042 218.125 447.649 Q215.07 452.232 209.26 452.232 Q203.449 452.232 200.371 447.649 Q197.315 443.042 197.315 434.315 Q197.315 425.565 200.371 420.982 Q203.449 416.376 209.26 416.376 Z\" fill=\"#000000\" fill-rule=\"nonzero\" fill-opacity=\"1\" /><path clip-path=\"url(#clip770)\" d=\"M239.422 420.079 Q235.81 420.079 233.982 423.644 Q232.176 427.186 232.176 434.315 Q232.176 441.422 233.982 444.987 Q235.81 448.528 239.422 448.528 Q243.056 448.528 244.861 444.987 Q246.69 441.422 246.69 434.315 Q246.69 427.186 244.861 423.644 Q243.056 420.079 239.422 420.079 M239.422 416.376 Q245.232 416.376 248.287 420.982 Q251.366 425.565 251.366 434.315 Q251.366 443.042 248.287 447.649 Q245.232 452.232 239.422 452.232 Q233.611 452.232 230.533 447.649 Q227.477 443.042 227.477 434.315 Q227.477 425.565 230.533 420.982 Q233.611 416.376 239.422 416.376 Z\" fill=\"#000000\" fill-rule=\"nonzero\" fill-opacity=\"1\" /><path clip-path=\"url(#clip770)\" d=\"M269.583 420.079 Q265.972 420.079 264.144 423.644 Q262.338 427.186 262.338 434.315 Q262.338 441.422 264.144 444.987 Q265.972 448.528 269.583 448.528 Q273.218 448.528 275.023 444.987 Q276.852 441.422 276.852 434.315 Q276.852 427.186 275.023 423.644 Q273.218 420.079 269.583 420.079 M269.583 416.376 Q275.394 416.376 278.449 420.982 Q281.528 425.565 281.528 434.315 Q281.528 443.042 278.449 447.649 Q275.394 452.232 269.583 452.232 Q263.773 452.232 260.695 447.649 Q257.639 443.042 257.639 434.315 Q257.639 425.565 260.695 420.982 Q263.773 416.376 269.583 416.376 Z\" fill=\"#000000\" fill-rule=\"nonzero\" fill-opacity=\"1\" /><path clip-path=\"url(#clip770)\" d=\"M115.256 174.497 L144.931 174.497 L144.931 178.432 L115.256 178.432 L115.256 174.497 Z\" fill=\"#000000\" fill-rule=\"nonzero\" fill-opacity=\"1\" /><path clip-path=\"url(#clip770)\" d=\"M155.834 187.39 L163.473 187.39 L163.473 161.025 L155.163 162.691 L155.163 158.432 L163.427 156.765 L168.102 156.765 L168.102 187.39 L175.741 187.39 L175.741 191.325 L155.834 191.325 L155.834 187.39 Z\" fill=\"#000000\" fill-rule=\"nonzero\" fill-opacity=\"1\" /><path clip-path=\"url(#clip770)\" d=\"M185.186 185.446 L190.07 185.446 L190.07 191.325 L185.186 191.325 L185.186 185.446 Z\" fill=\"#000000\" fill-rule=\"nonzero\" fill-opacity=\"1\" /><path clip-path=\"url(#clip770)\" d=\"M200.394 190.608 L200.394 186.349 Q202.153 187.182 203.959 187.622 Q205.764 188.062 207.5 188.062 Q212.13 188.062 214.561 184.96 Q217.014 181.835 217.361 175.492 Q216.019 177.483 213.959 178.548 Q211.899 179.612 209.399 179.612 Q204.213 179.612 201.181 176.488 Q198.172 173.339 198.172 167.9 Q198.172 162.576 201.32 159.358 Q204.468 156.14 209.699 156.14 Q215.695 156.14 218.843 160.747 Q222.014 165.33 222.014 174.08 Q222.014 182.251 218.125 187.136 Q214.26 191.997 207.709 191.997 Q205.949 191.997 204.144 191.649 Q202.338 191.302 200.394 190.608 M209.699 175.955 Q212.848 175.955 214.676 173.802 Q216.528 171.65 216.528 167.9 Q216.528 164.173 214.676 162.02 Q212.848 159.844 209.699 159.844 Q206.551 159.844 204.699 162.02 Q202.871 164.173 202.871 167.9 Q202.871 171.65 204.699 173.802 Q206.551 175.955 209.699 175.955 Z\" fill=\"#000000\" fill-rule=\"nonzero\" fill-opacity=\"1\" /><path clip-path=\"url(#clip770)\" d=\"M229.236 156.765 L251.458 156.765 L251.458 158.756 L238.912 191.325 L234.028 191.325 L245.834 160.701 L229.236 160.701 L229.236 156.765 Z\" fill=\"#000000\" fill-rule=\"nonzero\" fill-opacity=\"1\" /><path clip-path=\"url(#clip770)\" d=\"M260.625 156.765 L278.981 156.765 L278.981 160.701 L264.907 160.701 L264.907 169.173 Q265.926 168.826 266.945 168.663 Q267.963 168.478 268.982 168.478 Q274.769 168.478 278.148 171.65 Q281.528 174.821 281.528 180.237 Q281.528 185.816 278.056 188.918 Q274.583 191.997 268.264 191.997 Q266.088 191.997 263.82 191.626 Q261.574 191.256 259.167 190.515 L259.167 185.816 Q261.25 186.95 263.472 187.506 Q265.695 188.062 268.171 188.062 Q272.176 188.062 274.514 185.955 Q276.852 183.849 276.852 180.237 Q276.852 176.626 274.514 174.52 Q272.176 172.413 268.171 172.413 Q266.296 172.413 264.421 172.83 Q262.57 173.247 260.625 174.126 L260.625 156.765 Z\" fill=\"#000000\" fill-rule=\"nonzero\" fill-opacity=\"1\" /><path clip-path=\"url(#clip770)\" d=\"M16.4842 825.525 L16.4842 795.479 L21.895 795.479 L21.895 819.095 L35.9632 819.095 L35.9632 796.465 L41.3741 796.465 L41.3741 819.095 L58.5933 819.095 L58.5933 794.906 L64.0042 794.906 L64.0042 825.525 L16.4842 825.525 Z\" fill=\"#000000\" fill-rule=\"nonzero\" fill-opacity=\"1\" /><path clip-path=\"url(#clip770)\" d=\"M16.4842 774.185 L16.4842 768.775 L70.0516 785.325 L70.0516 790.736 L16.4842 774.185 Z\" fill=\"#000000\" fill-rule=\"nonzero\" fill-opacity=\"1\" /><path clip-path=\"url(#clip770)\" d=\"M20.8447 743.089 Q20.8447 750.091 26.0645 754.229 Q31.2844 758.335 40.2919 758.335 Q49.2675 758.335 54.4874 754.229 Q59.7073 750.091 59.7073 743.089 Q59.7073 736.087 54.4874 732.013 Q49.2675 727.907 40.2919 727.907 Q31.2844 727.907 26.0645 732.013 Q20.8447 736.087 20.8447 743.089 M63.1448 734.081 L72.4069 725.615 L72.4069 733.381 L64.7999 740.415 Q64.8635 741.466 64.8954 742.039 Q64.9272 742.58 64.9272 743.089 Q64.9272 753.115 58.2432 759.13 Q51.5274 765.114 40.2919 765.114 Q29.0246 765.114 22.3406 759.13 Q15.6248 753.115 15.6248 743.089 Q15.6248 733.095 22.3406 727.111 Q29.0246 721.127 40.2919 721.127 Q48.5673 721.127 54.4556 724.469 Q60.3439 727.779 63.1448 734.081 Z\" fill=\"#000000\" fill-rule=\"nonzero\" fill-opacity=\"1\" /><path clip-path=\"url(#clip770)\" d=\"M746.87 12.096 L785.11 12.096 L785.11 18.9825 L755.052 18.9825 L755.052 36.8875 L783.854 36.8875 L783.854 43.7741 L755.052 43.7741 L755.052 65.6895 L785.839 65.6895 L785.839 72.576 L746.87 72.576 L746.87 12.096 Z\" fill=\"#000000\" fill-rule=\"nonzero\" fill-opacity=\"1\" /><path clip-path=\"url(#clip770)\" d=\"M836.678 45.1919 L836.678 72.576 L829.224 72.576 L829.224 45.4349 Q829.224 38.994 826.713 35.7938 Q824.201 32.5936 819.178 32.5936 Q813.142 32.5936 809.659 36.4419 Q806.175 40.2903 806.175 46.9338 L806.175 72.576 L798.681 72.576 L798.681 27.2059 L806.175 27.2059 L806.175 34.2544 Q808.848 30.163 812.454 28.1376 Q816.099 26.1121 820.839 26.1121 Q828.657 26.1121 832.668 30.9732 Q836.678 35.7938 836.678 45.1919 Z\" fill=\"#000000\" fill-rule=\"nonzero\" fill-opacity=\"1\" /><path clip-path=\"url(#clip770)\" d=\"M890.353 48.0275 L890.353 51.6733 L856.082 51.6733 Q856.568 59.3701 860.7 63.421 Q864.872 67.4314 872.286 67.4314 Q876.579 67.4314 880.59 66.3781 Q884.641 65.3249 888.611 63.2184 L888.611 70.267 Q884.6 71.9684 880.387 72.8596 Q876.174 73.7508 871.84 73.7508 Q860.984 73.7508 854.624 67.4314 Q848.304 61.1119 848.304 50.3365 Q848.304 39.1965 854.3 32.6746 Q860.335 26.1121 870.544 26.1121 Q879.699 26.1121 885.005 32.0264 Q890.353 37.9003 890.353 48.0275 M882.899 45.84 Q882.818 39.7232 879.456 36.0774 Q876.134 32.4315 870.625 32.4315 Q864.386 32.4315 860.619 35.9558 Q856.892 39.4801 856.325 45.8805 L882.899 45.84 Z\" fill=\"#000000\" fill-rule=\"nonzero\" fill-opacity=\"1\" /><path clip-path=\"url(#clip770)\" d=\"M928.877 34.1734 Q927.621 33.4443 926.122 33.1202 Q924.664 32.7556 922.881 32.7556 Q916.562 32.7556 913.159 36.8875 Q909.797 40.9789 909.797 48.6757 L909.797 72.576 L902.303 72.576 L902.303 27.2059 L909.797 27.2059 L909.797 34.2544 Q912.146 30.1225 915.914 28.1376 Q919.681 26.1121 925.069 26.1121 Q925.838 26.1121 926.77 26.2337 Q927.702 26.3147 928.836 26.5172 L928.877 34.1734 Z\" fill=\"#000000\" fill-rule=\"nonzero\" fill-opacity=\"1\" /><path clip-path=\"url(#clip770)\" d=\"M965.092 49.3643 Q965.092 41.2625 961.729 36.8065 Q958.408 32.3505 952.372 32.3505 Q946.377 32.3505 943.014 36.8065 Q939.693 41.2625 939.693 49.3643 Q939.693 57.4256 943.014 61.8816 Q946.377 66.3376 952.372 66.3376 Q958.408 66.3376 961.729 61.8816 Q965.092 57.4256 965.092 49.3643 M972.545 66.9452 Q972.545 78.5308 967.401 84.1616 Q962.256 89.8329 951.643 89.8329 Q947.713 89.8329 944.23 89.2252 Q940.746 88.6581 937.465 87.4428 L937.465 80.1917 Q940.746 81.9741 943.946 82.8248 Q947.146 83.6755 950.468 83.6755 Q957.8 83.6755 961.446 79.8271 Q965.092 76.0193 965.092 68.282 L965.092 64.5957 Q962.783 68.6061 959.177 70.5911 Q955.572 72.576 950.549 72.576 Q942.204 72.576 937.1 66.2161 Q931.996 59.8562 931.996 49.3643 Q931.996 38.832 937.1 32.472 Q942.204 26.1121 950.549 26.1121 Q955.572 26.1121 959.177 28.0971 Q962.783 30.082 965.092 34.0924 L965.092 27.2059 L972.545 27.2059 L972.545 66.9452 Z\" fill=\"#000000\" fill-rule=\"nonzero\" fill-opacity=\"1\" /><path clip-path=\"url(#clip770)\" d=\"M1006.78 76.7889 Q1003.62 84.8907 1000.62 87.3618 Q997.621 89.8329 992.597 89.8329 L986.643 89.8329 L986.643 83.5945 L991.018 83.5945 Q994.096 83.5945 995.798 82.1361 Q997.499 80.6778 999.565 75.2496 L1000.9 71.8468 L982.551 27.2059 L990.45 27.2059 L1004.63 62.6918 L1018.81 27.2059 L1026.71 27.2059 L1006.78 76.7889 Z\" fill=\"#000000\" fill-rule=\"nonzero\" fill-opacity=\"1\" /><path clip-path=\"url(#clip770)\" d=\"M1080.95 32.4315 Q1074.95 32.4315 1071.47 37.1306 Q1067.98 41.7891 1067.98 49.9314 Q1067.98 58.0738 1071.43 62.7728 Q1074.91 67.4314 1080.95 67.4314 Q1086.9 67.4314 1090.39 62.7323 Q1093.87 58.0333 1093.87 49.9314 Q1093.87 41.8701 1090.39 37.1711 Q1086.9 32.4315 1080.95 32.4315 M1080.95 26.1121 Q1090.67 26.1121 1096.22 32.4315 Q1101.77 38.7509 1101.77 49.9314 Q1101.77 61.0714 1096.22 67.4314 Q1090.67 73.7508 1080.95 73.7508 Q1071.18 73.7508 1065.64 67.4314 Q1060.13 61.0714 1060.13 49.9314 Q1060.13 38.7509 1065.64 32.4315 Q1071.18 26.1121 1080.95 26.1121 Z\" fill=\"#000000\" fill-rule=\"nonzero\" fill-opacity=\"1\" /><path clip-path=\"url(#clip770)\" d=\"M1121.34 65.7705 L1121.34 89.8329 L1113.84 89.8329 L1113.84 27.2059 L1121.34 27.2059 L1121.34 34.0924 Q1123.68 30.0415 1127.25 28.0971 Q1130.85 26.1121 1135.84 26.1121 Q1144.1 26.1121 1149.25 32.6746 Q1154.43 39.2371 1154.43 49.9314 Q1154.43 60.6258 1149.25 67.1883 Q1144.1 73.7508 1135.84 73.7508 Q1130.85 73.7508 1127.25 71.8063 Q1123.68 69.8214 1121.34 65.7705 M1146.69 49.9314 Q1146.69 41.7081 1143.29 37.0496 Q1139.93 32.3505 1134.01 32.3505 Q1128.1 32.3505 1124.7 37.0496 Q1121.34 41.7081 1121.34 49.9314 Q1121.34 58.1548 1124.7 62.8538 Q1128.1 67.5124 1134.01 67.5124 Q1139.93 67.5124 1143.29 62.8538 Q1146.69 58.1548 1146.69 49.9314 Z\" fill=\"#000000\" fill-rule=\"nonzero\" fill-opacity=\"1\" /><path clip-path=\"url(#clip770)\" d=\"M1174.16 14.324 L1174.16 27.2059 L1189.51 27.2059 L1189.51 32.9987 L1174.16 32.9987 L1174.16 57.6282 Q1174.16 63.1779 1175.66 64.7578 Q1177.2 66.3376 1181.86 66.3376 L1189.51 66.3376 L1189.51 72.576 L1181.86 72.576 Q1173.23 72.576 1169.95 69.3758 Q1166.66 66.1351 1166.66 57.6282 L1166.66 32.9987 L1161.2 32.9987 L1161.2 27.2059 L1166.66 27.2059 L1166.66 14.324 L1174.16 14.324 Z\" fill=\"#000000\" fill-rule=\"nonzero\" fill-opacity=\"1\" /><path clip-path=\"url(#clip770)\" d=\"M1199.32 27.2059 L1206.77 27.2059 L1206.77 72.576 L1199.32 72.576 L1199.32 27.2059 M1199.32 9.54393 L1206.77 9.54393 L1206.77 18.9825 L1199.32 18.9825 L1199.32 9.54393 Z\" fill=\"#000000\" fill-rule=\"nonzero\" fill-opacity=\"1\" /><path clip-path=\"url(#clip770)\" d=\"M1257.69 35.9153 Q1260.48 30.8922 1264.37 28.5022 Q1268.26 26.1121 1273.53 26.1121 Q1280.62 26.1121 1284.47 31.0947 Q1288.31 36.0368 1288.31 45.1919 L1288.31 72.576 L1280.82 72.576 L1280.82 45.4349 Q1280.82 38.913 1278.51 35.7533 Q1276.2 32.5936 1271.46 32.5936 Q1265.67 32.5936 1262.31 36.4419 Q1258.94 40.2903 1258.94 46.9338 L1258.94 72.576 L1251.45 72.576 L1251.45 45.4349 Q1251.45 38.8725 1249.14 35.7533 Q1246.83 32.5936 1242.01 32.5936 Q1236.3 32.5936 1232.94 36.4824 Q1229.58 40.3308 1229.58 46.9338 L1229.58 72.576 L1222.08 72.576 L1222.08 27.2059 L1229.58 27.2059 L1229.58 34.2544 Q1232.13 30.082 1235.69 28.0971 Q1239.26 26.1121 1244.16 26.1121 Q1249.1 26.1121 1252.54 28.6237 Q1256.03 31.1352 1257.69 35.9153 Z\" fill=\"#000000\" fill-rule=\"nonzero\" fill-opacity=\"1\" /><path clip-path=\"url(#clip770)\" d=\"M1303.18 27.2059 L1310.63 27.2059 L1310.63 72.576 L1303.18 72.576 L1303.18 27.2059 M1303.18 9.54393 L1310.63 9.54393 L1310.63 18.9825 L1303.18 18.9825 L1303.18 9.54393 Z\" fill=\"#000000\" fill-rule=\"nonzero\" fill-opacity=\"1\" /><path clip-path=\"url(#clip770)\" d=\"M1355.15 28.5427 L1355.15 35.5912 Q1351.99 33.9709 1348.59 33.1607 Q1345.19 32.3505 1341.54 32.3505 Q1335.99 32.3505 1333.2 34.0519 Q1330.44 35.7533 1330.44 39.156 Q1330.44 41.7486 1332.43 43.2475 Q1334.41 44.7058 1340.41 46.0426 L1342.96 46.6097 Q1350.9 48.3111 1354.22 51.4303 Q1357.58 54.509 1357.58 60.0587 Q1357.58 66.3781 1352.56 70.0644 Q1347.58 73.7508 1338.83 73.7508 Q1335.18 73.7508 1331.21 73.0216 Q1327.28 72.3329 1322.91 70.9151 L1322.91 63.2184 Q1327.04 65.3654 1331.05 66.4591 Q1335.06 67.5124 1338.99 67.5124 Q1344.26 67.5124 1347.09 65.73 Q1349.93 63.9071 1349.93 60.6258 Q1349.93 57.5877 1347.86 55.9673 Q1345.84 54.3469 1338.91 52.8481 L1336.32 52.2405 Q1329.39 50.7821 1326.31 47.7845 Q1323.23 44.7463 1323.23 39.4801 Q1323.23 33.0797 1327.77 29.5959 Q1332.31 26.1121 1340.65 26.1121 Q1344.78 26.1121 1348.43 26.7198 Q1352.07 27.3274 1355.15 28.5427 Z\" fill=\"#000000\" fill-rule=\"nonzero\" fill-opacity=\"1\" /><path clip-path=\"url(#clip770)\" d=\"M1390.07 49.7694 Q1381.04 49.7694 1377.55 51.8354 Q1374.07 53.9013 1374.07 58.8839 Q1374.07 62.8538 1376.66 65.2034 Q1379.3 67.5124 1383.79 67.5124 Q1389.99 67.5124 1393.72 63.1374 Q1397.49 58.7219 1397.49 51.4303 L1397.49 49.7694 L1390.07 49.7694 M1404.94 46.6907 L1404.94 72.576 L1397.49 72.576 L1397.49 65.6895 Q1394.93 69.8214 1391.13 71.8063 Q1387.32 73.7508 1381.81 73.7508 Q1374.84 73.7508 1370.71 69.8619 Q1366.62 65.9325 1366.62 59.3701 Q1366.62 51.7138 1371.72 47.825 Q1376.87 43.9361 1387.03 43.9361 L1397.49 43.9361 L1397.49 43.2069 Q1397.49 38.0623 1394.08 35.2672 Q1390.72 32.4315 1384.6 32.4315 Q1380.71 32.4315 1377.03 33.3632 Q1373.34 34.295 1369.94 36.1584 L1369.94 29.2718 Q1374.03 27.692 1377.88 26.9223 Q1381.73 26.1121 1385.37 26.1121 Q1395.22 26.1121 1400.08 31.2163 Q1404.94 36.3204 1404.94 46.6907 Z\" fill=\"#000000\" fill-rule=\"nonzero\" fill-opacity=\"1\" /><path clip-path=\"url(#clip770)\" d=\"M1427.66 14.324 L1427.66 27.2059 L1443.02 27.2059 L1443.02 32.9987 L1427.66 32.9987 L1427.66 57.6282 Q1427.66 63.1779 1429.16 64.7578 Q1430.7 66.3376 1435.36 66.3376 L1443.02 66.3376 L1443.02 72.576 L1435.36 72.576 Q1426.73 72.576 1423.45 69.3758 Q1420.17 66.1351 1420.17 57.6282 L1420.17 32.9987 L1414.7 32.9987 L1414.7 27.2059 L1420.17 27.2059 L1420.17 14.324 L1427.66 14.324 Z\" fill=\"#000000\" fill-rule=\"nonzero\" fill-opacity=\"1\" /><path clip-path=\"url(#clip770)\" d=\"M1452.82 27.2059 L1460.27 27.2059 L1460.27 72.576 L1452.82 72.576 L1452.82 27.2059 M1452.82 9.54393 L1460.27 9.54393 L1460.27 18.9825 L1452.82 18.9825 L1452.82 9.54393 Z\" fill=\"#000000\" fill-rule=\"nonzero\" fill-opacity=\"1\" /><path clip-path=\"url(#clip770)\" d=\"M1493.45 32.4315 Q1487.46 32.4315 1483.97 37.1306 Q1480.49 41.7891 1480.49 49.9314 Q1480.49 58.0738 1483.93 62.7728 Q1487.42 67.4314 1493.45 67.4314 Q1499.41 67.4314 1502.89 62.7323 Q1506.37 58.0333 1506.37 49.9314 Q1506.37 41.8701 1502.89 37.1711 Q1499.41 32.4315 1493.45 32.4315 M1493.45 26.1121 Q1503.17 26.1121 1508.72 32.4315 Q1514.27 38.7509 1514.27 49.9314 Q1514.27 61.0714 1508.72 67.4314 Q1503.17 73.7508 1493.45 73.7508 Q1483.69 73.7508 1478.14 67.4314 Q1472.63 61.0714 1472.63 49.9314 Q1472.63 38.7509 1478.14 32.4315 Q1483.69 26.1121 1493.45 26.1121 Z\" fill=\"#000000\" fill-rule=\"nonzero\" fill-opacity=\"1\" /><path clip-path=\"url(#clip770)\" d=\"M1564.34 45.1919 L1564.34 72.576 L1556.89 72.576 L1556.89 45.4349 Q1556.89 38.994 1554.38 35.7938 Q1551.87 32.5936 1546.84 32.5936 Q1540.81 32.5936 1537.32 36.4419 Q1533.84 40.2903 1533.84 46.9338 L1533.84 72.576 L1526.34 72.576 L1526.34 27.2059 L1533.84 27.2059 L1533.84 34.2544 Q1536.51 30.163 1540.12 28.1376 Q1543.76 26.1121 1548.5 26.1121 Q1556.32 26.1121 1560.33 30.9732 Q1564.34 35.7938 1564.34 45.1919 Z\" fill=\"#000000\" fill-rule=\"nonzero\" fill-opacity=\"1\" /><path clip-path=\"url(#clip770)\" d=\"M1601.25 27.2059 L1608.7 27.2059 L1618.02 62.6108 L1627.29 27.2059 L1636.08 27.2059 L1645.4 62.6108 L1654.68 27.2059 L1662.13 27.2059 L1650.26 72.576 L1641.47 72.576 L1631.71 35.3887 L1621.91 72.576 L1613.11 72.576 L1601.25 27.2059 Z\" fill=\"#000000\" fill-rule=\"nonzero\" fill-opacity=\"1\" /><path clip-path=\"url(#clip770)\" d=\"M1673.43 27.2059 L1680.89 27.2059 L1680.89 72.576 L1673.43 72.576 L1673.43 27.2059 M1673.43 9.54393 L1680.89 9.54393 L1680.89 18.9825 L1673.43 18.9825 L1673.43 9.54393 Z\" fill=\"#000000\" fill-rule=\"nonzero\" fill-opacity=\"1\" /><path clip-path=\"url(#clip770)\" d=\"M1703.86 14.324 L1703.86 27.2059 L1719.21 27.2059 L1719.21 32.9987 L1703.86 32.9987 L1703.86 57.6282 Q1703.86 63.1779 1705.35 64.7578 Q1706.89 66.3376 1711.55 66.3376 L1719.21 66.3376 L1719.21 72.576 L1711.55 72.576 Q1702.92 72.576 1699.64 69.3758 Q1696.36 66.1351 1696.36 57.6282 L1696.36 32.9987 L1690.89 32.9987 L1690.89 27.2059 L1696.36 27.2059 L1696.36 14.324 L1703.86 14.324 Z\" fill=\"#000000\" fill-rule=\"nonzero\" fill-opacity=\"1\" /><path clip-path=\"url(#clip770)\" d=\"M1766.73 45.1919 L1766.73 72.576 L1759.27 72.576 L1759.27 45.4349 Q1759.27 38.994 1756.76 35.7938 Q1754.25 32.5936 1749.23 32.5936 Q1743.19 32.5936 1739.71 36.4419 Q1736.22 40.2903 1736.22 46.9338 L1736.22 72.576 L1728.73 72.576 L1728.73 9.54393 L1736.22 9.54393 L1736.22 34.2544 Q1738.9 30.163 1742.5 28.1376 Q1746.15 26.1121 1750.89 26.1121 Q1758.7 26.1121 1762.71 30.9732 Q1766.73 35.7938 1766.73 45.1919 Z\" fill=\"#000000\" fill-rule=\"nonzero\" fill-opacity=\"1\" /><path clip-path=\"url(#clip770)\" d=\"M1849.53 63.9476 L1849.53 47.7034 L1836.16 47.7034 L1836.16 40.9789 L1857.63 40.9789 L1857.63 66.9452 Q1852.89 70.3075 1847.18 72.0494 Q1841.46 73.7508 1834.98 73.7508 Q1820.8 73.7508 1812.78 65.4869 Q1804.8 57.1826 1804.8 42.3968 Q1804.8 27.5705 1812.78 19.3066 Q1820.8 11.0023 1834.98 11.0023 Q1840.9 11.0023 1846.2 12.4606 Q1851.55 13.9189 1856.05 16.7545 L1856.05 25.464 Q1851.51 21.6156 1846.41 19.6712 Q1841.3 17.7268 1835.67 17.7268 Q1824.57 17.7268 1818.98 23.9246 Q1813.43 30.1225 1813.43 42.3968 Q1813.43 54.6305 1818.98 60.8284 Q1824.57 67.0263 1835.67 67.0263 Q1840.01 67.0263 1843.41 66.2971 Q1846.81 65.5274 1849.53 63.9476 Z\" fill=\"#000000\" fill-rule=\"nonzero\" fill-opacity=\"1\" /><path clip-path=\"url(#clip770)\" d=\"M1880.76 18.8205 L1880.76 65.8515 L1890.64 65.8515 Q1903.16 65.8515 1908.95 60.1802 Q1914.79 54.509 1914.79 42.2752 Q1914.79 30.1225 1908.95 24.4918 Q1903.16 18.8205 1890.64 18.8205 L1880.76 18.8205 M1872.58 12.096 L1889.39 12.096 Q1906.97 12.096 1915.19 19.4281 Q1923.41 26.7198 1923.41 42.2752 Q1923.41 57.9117 1915.15 65.2439 Q1906.89 72.576 1889.39 72.576 L1872.58 72.576 L1872.58 12.096 Z\" fill=\"#000000\" fill-rule=\"nonzero\" fill-opacity=\"1\" /><polyline clip-path=\"url(#clip772)\" style=\"stroke:#009af9; stroke-linecap:round; stroke-linejoin:round; stroke-width:4; stroke-opacity:1; fill:none\" points=\"375.129,160.256 394.523,813.082 413.917,1054.64 433.311,1181.31 452.705,1253.1 472.1,1295.1 491.494,1320.25 510.888,1335.62 530.282,1345.25 549.676,1351.45 569.071,1355.6 588.465,1358.49 607.859,1360.62 627.253,1362.26 646.647,1363.59 666.042,1364.71 685.436,1365.69 704.83,1366.56 724.224,1367.36 743.619,1368.1 763.013,1368.78 782.407,1369.42 801.801,1370.03 821.195,1370.6 840.59,1371.14 859.984,1371.65 879.378,1372.14 898.772,1372.6 918.166,1373.04 937.561,1373.47 956.955,1373.87 976.349,1374.26 995.743,1374.63 1015.14,1374.98 1034.53,1375.33 1053.93,1375.66 1073.32,1375.97 1092.71,1376.28 1112.11,1376.58 1131.5,1376.86 1150.9,1377.14 1170.29,1377.41 1189.69,1377.67 1209.08,1377.92 1228.47,1378.17 1247.87,1378.41 1267.26,1378.64 1286.66,1378.86 1306.05,1379.08 1325.44,1379.3 1344.84,1379.51 1364.23,1379.71 1383.63,1379.92 1403.02,1380.11 1422.42,1380.3 1441.81,1380.49 1461.2,1380.68 1480.6,1380.86 1499.99,1381.03 1519.39,1381.21 1538.78,1381.38 1558.18,1381.55 1577.57,1381.71 1596.96,1381.87 1616.36,1382.03 1635.75,1382.19 1655.15,1382.34 1674.54,1382.49 1693.93,1382.64 1713.33,1382.79 1732.72,1382.94 1752.12,1383.08 1771.51,1383.22 1790.91,1383.36 1810.3,1383.5 1829.69,1383.63 1849.09,1383.76 1868.48,1383.89 1887.88,1384.02 1907.27,1384.15 1926.67,1384.28 1946.06,1384.4 1965.45,1384.53 1984.85,1384.65 2004.24,1384.77 2023.64,1384.88 2043.03,1385 2062.42,1385.12 2081.82,1385.23 2101.21,1385.34 2120.61,1385.45 2140,1385.56 2159.4,1385.67 2178.79,1385.78 2198.18,1385.89 2217.58,1385.99 2236.97,1386.09 2256.37,1386.2 2275.76,1386.3 2295.16,1386.4 \"/>\n",
       "<path clip-path=\"url(#clip770)\" d=\"M2028.96 270.476 L2284.91 270.476 L2284.91 166.796 L2028.96 166.796  Z\" fill=\"#ffffff\" fill-rule=\"evenodd\" fill-opacity=\"1\"/>\n",
       "<polyline clip-path=\"url(#clip770)\" style=\"stroke:#000000; stroke-linecap:round; stroke-linejoin:round; stroke-width:4; stroke-opacity:1; fill:none\" points=\"2028.96,270.476 2284.91,270.476 2284.91,166.796 2028.96,166.796 2028.96,270.476 \"/>\n",
       "<polyline clip-path=\"url(#clip770)\" style=\"stroke:#009af9; stroke-linecap:round; stroke-linejoin:round; stroke-width:4; stroke-opacity:1; fill:none\" points=\"2051.58,218.636 2187.26,218.636 \"/>\n",
       "<path clip-path=\"url(#clip770)\" d=\"M2223.71 238.323 Q2221.91 242.953 2220.2 244.365 Q2218.48 245.777 2215.61 245.777 L2212.21 245.777 L2212.21 242.212 L2214.71 242.212 Q2216.47 242.212 2217.44 241.379 Q2218.41 240.545 2219.59 237.443 L2220.36 235.499 L2209.87 209.99 L2214.38 209.99 L2222.49 230.268 L2230.59 209.99 L2235.1 209.99 L2223.71 238.323 Z\" fill=\"#000000\" fill-rule=\"nonzero\" fill-opacity=\"1\" /><path clip-path=\"url(#clip770)\" d=\"M2242.39 231.981 L2250.03 231.981 L2250.03 205.615 L2241.72 207.282 L2241.72 203.022 L2249.99 201.356 L2254.66 201.356 L2254.66 231.981 L2262.3 231.981 L2262.3 235.916 L2242.39 235.916 L2242.39 231.981 Z\" fill=\"#000000\" fill-rule=\"nonzero\" fill-opacity=\"1\" /></svg>\n"
      ]
     },
     "metadata": {},
     "output_type": "display_data"
    }
   ],
   "source": [
    "# gradient descent\n",
    "eta = 0.1\n",
    "opt_energy_gd = []\n",
    "thetas = thetas_init\n",
    "for i in 1:100 # steps\n",
    "    gradient!(grad_array_compiled, simulation_tape, thetas)\n",
    "    thetas .-= eta * grad_array_compiled\n",
    "    opt_energy_gd = push!(opt_energy_gd, lossfunction(thetas)/nq)\n",
    "end\n",
    "#println(thetas) #Why do the first few stay the same, while the end is strongly modified? Is this sth systematic?\n",
    "println(lossfunction(thetas)/nq)\n",
    "plot(opt_energy_gd)\n",
    "\n",
    "plot!(title = \"Energy optimisation with GD\", xlabel = \"runs of GD\", ylabel = \"E/Q\")"
   ]
  },
  {
   "cell_type": "code",
   "execution_count": 12,
   "metadata": {},
   "outputs": [],
   "source": [
    " #ADAM (this is suboptimal because we recalculate the gradients)\n",
    "# thetas = thetas_init\n",
    "# opt_energy_adam = []\n",
    "\n",
    "# opt_result = Optim.optimize(lossfunction, thetas, Adam(), Optim.Options(iterations=1000))\n",
    "# thetas .= Optim.minimizer(opt_result)\n",
    "\n",
    "# #println(thetas)  # Check the final optimized parameters\n",
    "# println(lossfunction(thetas)/nq)  # Check the final optimized energy (similar to GD)"
   ]
  },
  {
   "cell_type": "markdown",
   "metadata": {},
   "source": [
    "### Comments so far:\n",
    "\n",
    "- We have (2Q-1) non-Cliffords in the circuit so for Q=16 qubits, we have N=31 non-Cliffords already (this is quite high for a cl. simulation, state of the art is N<80 and Piotr used MPS with up to N=35)\n",
    "- When we initialise the parameters, they are fixed to have the same values in every RZZ and RZ layer, but later this changes during optimization. How can we keep this constraint during the optimization? (We need the constraint so it could be implementable as a \"real\" circuit, right?)\n",
    "- We get the warning `WARNING: redefinition of constant Main.simulation_tape.`, should we keep doing this like in the example notebooks?"
   ]
  },
  {
   "cell_type": "markdown",
   "metadata": {},
   "source": [
    "## MCMC - generating the set of test states\n",
    "- generate a set of classically efficiently simulable states $S_{\\psi} =\\{|\\phi_i>\\}$\n",
    "- the initial state `initialize_mcmc_circuit()` is chosen by finding a near-Clifford circuit wrt the target circuit `tfimqaoacircuit()`\n",
    "- update steps: randomly pick $n_p$ pairs of the circuits RZ rotations (RZZ are also just RZ rotations with CNOT before and after)\n",
    "- in each pair keep one gate as non-Clifford and replace the other by $S^n$, where $S$ is the $\\pi/2$ rotation gate, take an integer power $n$ (which we choose by sampling according to eq. 14)\n",
    "- this \"pair mechanism\" makes sure we don't replace too many gates with Clifford gates, which would lead to a larger distance from the target state $\\ket{\\psi}$."
   ]
  },
  {
   "cell_type": "markdown",
   "metadata": {},
   "source": [
    "### Initial circuit for MCMC with less non-Clifford gates "
   ]
  },
  {
   "cell_type": "code",
   "execution_count": 13,
   "metadata": {},
   "outputs": [
    {
     "data": {
      "text/plain": [
       "initialize_mcmc_circuit (generic function with 1 method)"
      ]
     },
     "metadata": {},
     "output_type": "display_data"
    }
   ],
   "source": [
    "function initialize_mcmc_circuit(circuit, nqubits::Integer, nlayers::Integer)\n",
    "    # Choose nq*nl/2 random Pauli rotations to replace with Clifford R_Z(k_p π/2) gates.\n",
    "    # The replacements are random for the whole circuit and don't repeat for each layer.\n",
    "\n",
    "    # Get indices of Pauli rotations\n",
    "    z_rot_indices = [i for i in eachindex(circuit) if isa(circuit[i], PauliRotation)]\n",
    "\n",
    "    num_to_replace = div(nqubits * nlayers, 2)\n",
    "    Random.shuffle!(z_rot_indices)\n",
    "    indices_replaced = z_rot_indices[1:num_to_replace]\n",
    "    #println(\"Indices to replace: \", indices_to_replace)\n",
    "\n",
    "    # Extract qubit indices for gates to be replaced\n",
    "    qubits = [circuit[i].qinds for i in indices_replaced]\n",
    "    #println(\"Qubits involved: \", qubits)\n",
    "\n",
    "    # Create a modified circuit\n",
    "    new_circuit = copy(circuit)\n",
    "\n",
    "    # Replace selected R_Z rotations with Clifford R_Z(k_p π/2)\n",
    "    for (j, i) in enumerate(indices_replaced)\n",
    "        k_p = rand(0:3)  ### Randomly select k_p from {0,1,2,3} ( NO CLEAR INDICATION in the paper)\n",
    "        if length(qubits[j]) == 1\n",
    "            new_circuit[i] = PauliRotation(:Z, qubits[j], k_p * π/2)  # Replace with Clifford rotation\n",
    "        else\n",
    "            new_circuit[i] = PauliRotation([:Z, :Z], qubits[j], k_p * π/2)  # Replace with Clifford rotation\n",
    "        end\n",
    "    end\n",
    "\n",
    "    return new_circuit, indices_replaced\n",
    "end"
   ]
  },
  {
   "cell_type": "code",
   "execution_count": 14,
   "metadata": {},
   "outputs": [
    {
     "data": {
      "text/plain": [
       "4-element Vector{Int64}:\n",
       " 26\n",
       "  3\n",
       " 29\n",
       " 24"
      ]
     },
     "metadata": {},
     "output_type": "display_data"
    }
   ],
   "source": [
    "init_circuit, indices_replaced = initialize_mcmc_circuit(circuit, nq, nl) #check\n",
    "init_circuit\n",
    "indices_replaced"
   ]
  },
  {
   "cell_type": "code",
   "execution_count": 15,
   "metadata": {},
   "outputs": [
    {
     "name": "stdout",
     "output_type": "stream",
     "text": [
      "Gate[PauliRotation([:Z, :Z], [1, 2]), PauliRotation([:Z, :Z], [3, 4]), PauliRotation([:Z, :Z], [2, 3]), CliffordGate(:S, [1]), FrozenGate(PauliRotation([:X], [1]), parameter = 1.57), PauliRotation([:Z], [1]), FrozenGate(PauliRotation([:X], [1]), parameter = 1.57), CliffordGate(:S, [1]), CliffordGate(:S, [2]), FrozenGate(PauliRotation([:X], [2]), parameter = 1.57), PauliRotation([:Z], [2]), FrozenGate(PauliRotation([:X], [2]), parameter = 1.57), CliffordGate(:S, [2]), CliffordGate(:S, [3]), FrozenGate(PauliRotation([:X], [3]), parameter = 1.57), PauliRotation([:Z], [3]), FrozenGate(PauliRotation([:X], [3]), parameter = 1.57), CliffordGate(:S, [3]), CliffordGate(:S, [4]), FrozenGate(PauliRotation([:X], [4]), parameter = 1.57), PauliRotation([:Z], [4]), FrozenGate(PauliRotation([:X], [4]), parameter = 1.57), CliffordGate(:S, [4]), PauliRotation([:Z, :Z], [1, 2]), PauliRotation([:Z, :Z], [3, 4]), PauliRotation([:Z, :Z], [2, 3]), CliffordGate(:S, [1]), FrozenGate(PauliRotation([:X], [1]), parameter = 1.57), PauliRotation([:Z], [1]), FrozenGate(PauliRotation([:X], [1]), parameter = 1.57), CliffordGate(:S, [1]), CliffordGate(:S, [2]), FrozenGate(PauliRotation([:X], [2]), parameter = 1.57), PauliRotation([:Z], [2]), FrozenGate(PauliRotation([:X], [2]), parameter = 1.57), CliffordGate(:S, [2]), CliffordGate(:S, [3]), FrozenGate(PauliRotation([:X], [3]), parameter = 1.57), PauliRotation([:Z], [3]), FrozenGate(PauliRotation([:X], [3]), parameter = 1.57), CliffordGate(:S, [3]), CliffordGate(:S, [4]), FrozenGate(PauliRotation([:X], [4]), parameter = 1.57), PauliRotation([:Z], [4]), FrozenGate(PauliRotation([:X], [4]), parameter = 1.57), CliffordGate(:S, [4])]\n",
      "Gate[PauliRotation([:Z, :Z], [1, 2]), PauliRotation([:Z, :Z], [3, 4]), FrozenGate(PauliRotation([:Z, :Z], [2, 3]), parameter = 3.14), CliffordGate(:S, [1]), FrozenGate(PauliRotation([:X], [1]), parameter = 1.57), PauliRotation([:Z], [1]), FrozenGate(PauliRotation([:X], [1]), parameter = 1.57), CliffordGate(:S, [1]), CliffordGate(:S, [2]), FrozenGate(PauliRotation([:X], [2]), parameter = 1.57), PauliRotation([:Z], [2]), FrozenGate(PauliRotation([:X], [2]), parameter = 1.57), CliffordGate(:S, [2]), CliffordGate(:S, [3]), FrozenGate(PauliRotation([:X], [3]), parameter = 1.57), PauliRotation([:Z], [3]), FrozenGate(PauliRotation([:X], [3]), parameter = 1.57), CliffordGate(:S, [3]), CliffordGate(:S, [4]), FrozenGate(PauliRotation([:X], [4]), parameter = 1.57), PauliRotation([:Z], [4]), FrozenGate(PauliRotation([:X], [4]), parameter = 1.57), CliffordGate(:S, [4]), FrozenGate(PauliRotation([:Z, :Z], [1, 2]), parameter = 4.71), PauliRotation([:Z, :Z], [3, 4]), FrozenGate(PauliRotation([:Z, :Z], [2, 3]), parameter = 4.71), CliffordGate(:S, [1]), FrozenGate(PauliRotation([:X], [1]), parameter = 1.57), FrozenGate(PauliRotation([:Z], [1]), parameter = 4.71), FrozenGate(PauliRotation([:X], [1]), parameter = 1.57), CliffordGate(:S, [1]), CliffordGate(:S, [2]), FrozenGate(PauliRotation([:X], [2]), parameter = 1.57), PauliRotation([:Z], [2]), FrozenGate(PauliRotation([:X], [2]), parameter = 1.57), CliffordGate(:S, [2]), CliffordGate(:S, [3]), FrozenGate(PauliRotation([:X], [3]), parameter = 1.57), PauliRotation([:Z], [3]), FrozenGate(PauliRotation([:X], [3]), parameter = 1.57), CliffordGate(:S, [3]), CliffordGate(:S, [4]), FrozenGate(PauliRotation([:X], [4]), parameter = 1.57), PauliRotation([:Z], [4]), FrozenGate(PauliRotation([:X], [4]), parameter = 1.57), CliffordGate(:S, [4])]\n"
     ]
    }
   ],
   "source": [
    "#test the init function:\n",
    "println(circuit)\n",
    "println(init_circuit)   "
   ]
  },
  {
   "cell_type": "markdown",
   "metadata": {},
   "source": [
    "### Proposal function with random sampling (TO BE REPLACED with eq 14)"
   ]
  },
  {
   "cell_type": "code",
   "execution_count": 16,
   "metadata": {},
   "outputs": [
    {
     "data": {
      "text/plain": [
       "proposal_tfimqaoacircuit (generic function with 2 methods)"
      ]
     },
     "metadata": {},
     "output_type": "display_data"
    }
   ],
   "source": [
    "# Define the function to apply circuit updates\n",
    "function proposal_tfimqaoacircuit(target_circuit::Vector{Gate},init_circuit::Vector{Gate},indices_replaced::Vector{Int},np::Integer=2)    \n",
    "    # Identify all Pauli Z rotations in the circuit (includes RZZ) (Pauli Z are only the non-Cifford's here)\n",
    "    init_circuit_copy = deepcopy(init_circuit)\n",
    "    z_rot_indices = [i for i in eachindex(init_circuit_copy) if isa(init_circuit_copy[i], PauliRotation)]\n",
    "\n",
    "    #println(\"Z rotation indices (Non-Cliffords): \", z_rot_indices)\n",
    "    #println(\"Indices replaced (Frozen Z rotations (Cliffords)): \", indices_replaced)  \n",
    "    # Ensure we have enough pairs\n",
    "    if length(indices_replaced) < np\n",
    "        error(\"Not enough frozen Pauli rotations in the initialized MCMC circuit to select the value of pairs.\")\n",
    "    end\n",
    "\n",
    "    # Shuffle and select n_p pairs\n",
    "    Random.shuffle!(z_rot_indices)\n",
    "    Random.shuffle!(indices_replaced)\n",
    "    selected_pairs = [(z_rot_indices[i], indices_replaced[i]) for i in 1:np] #\n",
    "    \n",
    "    #println(\"Selected pairs of Cliff. and non-Clifford: \", selected_pairs) \n",
    "    #println(\"Circuit before replacement: \", init_circuit_copy)\n",
    "\n",
    "    #choose left element of each pair and replace with Clifford gate S^n,sample n\n",
    "    for (i, j) in selected_pairs\n",
    "        qubits = init_circuit_copy[i].qinds\n",
    "        println(\"Qubits involved: \", qubits)\n",
    "        \n",
    "        k_p = rand(0:3) # SEE BELOW: we need to sample from eq 14\n",
    "        if length(qubits) == 1\n",
    "            init_circuit_copy[i] = PauliRotation(:Z, qubits, k_p * π/2)  # Replace with Clifford rotation\n",
    "        else\n",
    "            init_circuit_copy[i] = PauliRotation([:Z, :Z], qubits, k_p * π/2)  # Replace with Clifford rotation\n",
    "        end\n",
    "    end\n",
    "    #println(\"Circuit after first replacement: \", init_circuit_copy)\n",
    "\n",
    "\n",
    "    #then reset the right element (Clifford, FrozenGate[PauliRotation]]) to the one of the target circuit\n",
    "    for (i, j) in selected_pairs \n",
    "        qubits = init_circuit_copy[j].gate.qinds\n",
    "        init_circuit_copy[j] = target_circuit[j] \n",
    "    end\n",
    "    #println(\"Circuit after second replacement: \", init_circuit_copy)\n",
    "\n",
    "    return init_circuit_copy\n",
    "end"
   ]
  },
  {
   "cell_type": "markdown",
   "metadata": {},
   "source": [
    "### Isolated sampling function"
   ]
  },
  {
   "cell_type": "code",
   "execution_count": 17,
   "metadata": {},
   "outputs": [
    {
     "data": {
      "text/plain": [
       "sample_kn (generic function with 1 method)"
      ]
     },
     "metadata": {},
     "output_type": "display_data"
    }
   ],
   "source": [
    "    function compute_distance(alpha, n)\n",
    "        Pauli_z = [1 0; 0 -1]\n",
    "        S_n = exp(-im * n * π / 2 * Pauli_z)\n",
    "        println(\"S_n: \", S_n)\n",
    "        Rz_alpha = exp(-im * alpha * Pauli_z/2)\n",
    "        println(\"Rz_alpha: \", Rz_alpha)\n",
    "        return LinearAlgebra.norm(Rz_alpha - S_n)\n",
    "    end\n",
    "    \n",
    "    # Define probability distribution function\n",
    "    function sample_kn(alpha)\n",
    "        sigma = 0.5\n",
    "        n_vals =LinRange(0,7,8) # limit n values (they repeat after 2 pi)\n",
    "        distances = [compute_distance(alpha, n) for n in n_vals]\n",
    "        println(\"Distances: \", distances)\n",
    "        weights = exp.(-distances.^2 ./ sigma^2)\n",
    "        println(\"Weights: \", weights)\n",
    "        probs = ProbabilityWeights(weights ./ sum(weights)) \n",
    "        println(\"Probs\",probs) # Normalize probabilities\n",
    "        return StatsBase.sample(n_vals,probs,1)  # Sample from the distribution (using StatsBase)\n",
    "    end"
   ]
  },
  {
   "cell_type": "code",
   "execution_count": 18,
   "metadata": {},
   "outputs": [
    {
     "name": "stdout",
     "output_type": "stream",
     "text": [
      "Initial circuit: Gate[PauliRotation([:Z, :Z], [1, 2]), PauliRotation([:Z, :Z], [3, 4]), FrozenGate(PauliRotation([:Z, :Z], [2, 3]), parameter = 3.14), CliffordGate(:S, [1]), FrozenGate(PauliRotation([:X], [1]), parameter = 1.57), PauliRotation([:Z], [1]), FrozenGate(PauliRotation([:X], [1]), parameter = 1.57), CliffordGate(:S, [1]), CliffordGate(:S, [2]), FrozenGate(PauliRotation([:X], [2]), parameter = 1.57), PauliRotation([:Z], [2]), FrozenGate(PauliRotation([:X], [2]), parameter = 1.57), CliffordGate(:S, [2]), CliffordGate(:S, [3]), FrozenGate(PauliRotation([:X], [3]), parameter = 1.57), PauliRotation([:Z], [3]), FrozenGate(PauliRotation([:X], [3]), parameter = 1.57), CliffordGate(:S, [3]), CliffordGate(:S, [4]), FrozenGate(PauliRotation([:X], [4]), parameter = 1.57), PauliRotation([:Z], [4]), FrozenGate(PauliRotation([:X], [4]), parameter = 1.57), CliffordGate(:S, [4]), FrozenGate(PauliRotation([:Z, :Z], [1, 2]), parameter = 4.71), PauliRotation([:Z, :Z], [3, 4]), FrozenGate(PauliRotation([:Z, :Z], [2, 3]), parameter = 4.71), CliffordGate(:S, [1]), FrozenGate(PauliRotation([:X], [1]), parameter = 1.57), FrozenGate(PauliRotation([:Z], [1]), parameter = 4.71), FrozenGate(PauliRotation([:X], [1]), parameter = 1.57), CliffordGate(:S, [1]), CliffordGate(:S, [2]), FrozenGate(PauliRotation([:X], [2]), parameter = 1.57), PauliRotation([:Z], [2]), FrozenGate(PauliRotation([:X], [2]), parameter = 1.57), CliffordGate(:S, [2]), CliffordGate(:S, [3]), FrozenGate(PauliRotation([:X], [3]), parameter = 1.57), PauliRotation([:Z], [3]), FrozenGate(PauliRotation([:X], [3]), parameter = 1.57), CliffordGate(:S, [3]), CliffordGate(:S, [4]), FrozenGate(PauliRotation([:X], [4]), parameter = 1.57), PauliRotation([:Z], [4]), FrozenGate(PauliRotation([:X], [4]), parameter = 1.57), CliffordGate(:S, [4])]\n"
     ]
    }
   ],
   "source": [
    "println(\"Initial circuit: \", init_circuit)"
   ]
  },
  {
   "cell_type": "code",
   "execution_count": 19,
   "metadata": {},
   "outputs": [
    {
     "name": "stdout",
     "output_type": "stream",
     "text": [
      "Qubits involved: [1, 2]\n",
      "Qubits involved: [4]\n",
      "Initial circuitGate[PauliRotation([:Z, :Z], [1, 2]), PauliRotation([:Z, :Z], [3, 4]), FrozenGate(PauliRotation([:Z, :Z], [2, 3]), parameter = 3.14), CliffordGate(:S, [1]), FrozenGate(PauliRotation([:X], [1]), parameter = 1.57), PauliRotation([:Z], [1]), FrozenGate(PauliRotation([:X], [1]), parameter = 1.57), CliffordGate(:S, [1]), CliffordGate(:S, [2]), FrozenGate(PauliRotation([:X], [2]), parameter = 1.57), PauliRotation([:Z], [2]), FrozenGate(PauliRotation([:X], [2]), parameter = 1.57), CliffordGate(:S, [2]), CliffordGate(:S, [3]), FrozenGate(PauliRotation([:X], [3]), parameter = 1.57), PauliRotation([:Z], [3]), FrozenGate(PauliRotation([:X], [3]), parameter = 1.57), CliffordGate(:S, [3]), CliffordGate(:S, [4]), FrozenGate(PauliRotation([:X], [4]), parameter = 1.57), PauliRotation([:Z], [4]), FrozenGate(PauliRotation([:X], [4]), parameter = 1.57), CliffordGate(:S, [4]), FrozenGate(PauliRotation([:Z, :Z], [1, 2]), parameter = 4.71), PauliRotation([:Z, :Z], [3, 4]), FrozenGate(PauliRotation([:Z, :Z], [2, 3]), parameter = 4.71), CliffordGate(:S, [1]), FrozenGate(PauliRotation([:X], [1]), parameter = 1.57), FrozenGate(PauliRotation([:Z], [1]), parameter = 4.71), FrozenGate(PauliRotation([:X], [1]), parameter = 1.57), CliffordGate(:S, [1]), CliffordGate(:S, [2]), FrozenGate(PauliRotation([:X], [2]), parameter = 1.57), PauliRotation([:Z], [2]), FrozenGate(PauliRotation([:X], [2]), parameter = 1.57), CliffordGate(:S, [2]), CliffordGate(:S, [3]), FrozenGate(PauliRotation([:X], [3]), parameter = 1.57), PauliRotation([:Z], [3]), FrozenGate(PauliRotation([:X], [3]), parameter = 1.57), CliffordGate(:S, [3]), CliffordGate(:S, [4]), FrozenGate(PauliRotation([:X], [4]), parameter = 1.57), PauliRotation([:Z], [4]), FrozenGate(PauliRotation([:X], [4]), parameter = 1.57), CliffordGate(:S, [4])]"
     ]
    }
   ],
   "source": [
    "proposal_tfimqaoacircuit(circuit, init_circuit, indices_replaced, 2) #check\n",
    "print(\"Initial circuit\", init_circuit)\n"
   ]
  },
  {
   "cell_type": "code",
   "execution_count": 20,
   "metadata": {},
   "outputs": [
    {
     "name": "stdout",
     "output_type": "stream",
     "text": [
      "true\n",
      "false\n"
     ]
    }
   ],
   "source": [
    "#short check that our replacements FrozenGates[PauliRotation[]] are not PauliRotations anymore\n",
    "println(init_circuit[11] isa PauliRotation)\n",
    "println(init_circuit[11] isa FrozenGate)"
   ]
  },
  {
   "cell_type": "markdown",
   "metadata": {},
   "source": [
    "### Sample prob dist. eq 14\n",
    "- We don't know what $\\alpha$ in $R_z(\\alpha)$ should be here  (eq. 14) , so its set to a fixed value for now."
   ]
  },
  {
   "cell_type": "code",
   "execution_count": 21,
   "metadata": {},
   "outputs": [
    {
     "data": {
      "text/plain": [
       "proposal_tfimqaoacircuit (generic function with 2 methods)"
      ]
     },
     "metadata": {},
     "output_type": "display_data"
    }
   ],
   "source": [
    "function proposal_tfimqaoacircuit(target_circuit::Vector{Gate},init_circuit::Vector{Gate},indices_replaced::Vector{Int},np::Integer=2)    \n",
    "    # Identify all Pauli Z rotations in the circuit (includes RZZ) (Pauli Z are only the non-Cifford's here)\n",
    "    init_circuit_copy = deepcopy(init_circuit)\n",
    "    z_rot_indices = [i for i in eachindex(init_circuit_copy) if isa(init_circuit_copy[i], PauliRotation)]\n",
    "\n",
    "    println(\"Z rotation indices (Non-Cliffords): \", z_rot_indices)\n",
    "    println(\"Indices replaced (Frozen Z rotations (Cliffords)): \", indices_replaced)  \n",
    "    # Ensure we have enough pairs\n",
    "    if length(indices_replaced) < np\n",
    "        error(\"Not enough frozen Pauli rotations in the initialized MCMC circuit to select the value of pairs.\")\n",
    "    end\n",
    "\n",
    "    # Shuffle and select n_p pairs\n",
    "    Random.shuffle!(z_rot_indices)\n",
    "    Random.shuffle!(indices_replaced)\n",
    "    selected_pairs = [(z_rot_indices[i], indices_replaced[i]) for i in 1:np] #\n",
    "    \n",
    "    println(\"Selected pairs of Cliff. and non-Clifford: \", selected_pairs) \n",
    "    println(\"Circuit before replacement: \", init_circuit_copy)\n",
    "\n",
    "    # sample from {0,1,2,3} for each pair and replace the non-Clifford with Clifford R_Z(k_p π/2)\n",
    "    function compute_distance(alpha, n)\n",
    "        Pauli_z = [1 0; 0 -1]\n",
    "        S_n = exp(-im * n * π / 2 * Pauli_z)\n",
    "        #println(\"S_n: \", S_n)\n",
    "        Rz_alpha = exp(-im * alpha * Pauli_z/2)\n",
    "        #println(\"Rz_alpha: \", Rz_alpha)\n",
    "        return LinearAlgebra.norm(Rz_alpha - S_n)\n",
    "    end\n",
    "\n",
    "    # Define probability distribution function\n",
    "    function sample_kn(alpha)\n",
    "        sigma = 0.5\n",
    "        n_vals = LinRange(0,7,8) # limit n values\n",
    "        distances = [compute_distance(alpha, n) for n in n_vals]\n",
    "        \n",
    "        weights = exp.(-distances.^2 ./ sigma^2)\n",
    "        #println(\"Weights: \", weights)\n",
    "        probs = ProbabilityWeights(weights ./ sum(weights)) \n",
    "        #println(\"Probs\",probs) # Normalize probabilities\n",
    "        return first(StatsBase.sample(n_vals,probs,1))  # Sample from the distribution (using StatsBase)\n",
    "    end\n",
    "\n",
    "    #choose left element of each pair and replace with Clifford gate S^n, sample n\n",
    "    for (i, j) in selected_pairs\n",
    "        qubits = init_circuit_copy[i].qinds\n",
    "        #println(\"Qubits involved: \", qubits)\n",
    "        \n",
    "        #param_index = getparameterindices(init_circuit_copy,init_circuit_copy[i])\n",
    "\n",
    "        ## What is alpha??\n",
    "        alpha = pi/2 ### MISSING!!! \n",
    "        println(\"Alpha fixed (!!): \", alpha)\n",
    "\n",
    "        k_p = Int(sample_kn(alpha)) # Sample from (eq 14)\n",
    "        #println(\"k_p: \", k_p)\n",
    "        if length(qubits) == 1\n",
    "            init_circuit_copy[i] = PauliRotation(:Z, qubits, k_p * π/2)  # Replace with Clifford rotation\n",
    "        else\n",
    "            init_circuit_copy[i] = PauliRotation([:Z, :Z], qubits, k_p * π/2)  # Replace with Clifford rotation\n",
    "        end\n",
    "    end\n",
    "    #println(\"Circuit after first replacement: \", init_circuit_copy)\n",
    "\n",
    "\n",
    "    #then reset the right element (Clifford, FrozenGate[PauliRotation]]) to the one of the target circuit\n",
    "    for (i, j) in selected_pairs \n",
    "        qubits = init_circuit_copy[j].gate.qinds\n",
    "        init_circuit_copy[j] = target_circuit[j] \n",
    "    end\n",
    "    #println(\"Circuit after second replacement: \", init_circuit_copy)\n",
    "\n",
    "    return init_circuit_copy\n",
    "end"
   ]
  },
  {
   "cell_type": "code",
   "execution_count": 28,
   "metadata": {},
   "outputs": [
    {
     "name": "stdout",
     "output_type": "stream",
     "text": [
      "Z rotation indices (Non-Cliffords): [1, 2, 6, 11, 16, 21, 25, 34, 39, 44]\n",
      "Indices replaced (Frozen Z rotations (Cliffords)): [3, 24, 26, 29]\n",
      "Selected pairs of Cliff. and non-Clifford: [(16, 24), (39, 29)]\n",
      "Circuit before replacement: Gate[PauliRotation([:Z, :Z], [1, 2]), PauliRotation([:Z, :Z], [3, 4]), FrozenGate(PauliRotation([:Z, :Z], [2, 3]), parameter = 3.14), CliffordGate(:S, [1]), FrozenGate(PauliRotation([:X], [1]), parameter = 1.57), PauliRotation([:Z], [1]), FrozenGate(PauliRotation([:X], [1]), parameter = 1.57), CliffordGate(:S, [1]), CliffordGate(:S, [2]), FrozenGate(PauliRotation([:X], [2]), parameter = 1.57), PauliRotation([:Z], [2]), FrozenGate(PauliRotation([:X], [2]), parameter = 1.57), CliffordGate(:S, [2]), CliffordGate(:S, [3]), FrozenGate(PauliRotation([:X], [3]), parameter = 1.57), PauliRotation([:Z], [3]), FrozenGate(PauliRotation([:X], [3]), parameter = 1.57), CliffordGate(:S, [3]), CliffordGate(:S, [4]), FrozenGate(PauliRotation([:X], [4]), parameter = 1.57), PauliRotation([:Z], [4]), FrozenGate(PauliRotation([:X], [4]), parameter = 1.57), CliffordGate(:S, [4]), FrozenGate(PauliRotation([:Z, :Z], [1, 2]), parameter = 4.71), PauliRotation([:Z, :Z], [3, 4]), FrozenGate(PauliRotation([:Z, :Z], [2, 3]), parameter = 4.71), CliffordGate(:S, [1]), FrozenGate(PauliRotation([:X], [1]), parameter = 1.57), FrozenGate(PauliRotation([:Z], [1]), parameter = 4.71), FrozenGate(PauliRotation([:X], [1]), parameter = 1.57), CliffordGate(:S, [1]), CliffordGate(:S, [2]), FrozenGate(PauliRotation([:X], [2]), parameter = 1.57), PauliRotation([:Z], [2]), FrozenGate(PauliRotation([:X], [2]), parameter = 1.57), CliffordGate(:S, [2]), CliffordGate(:S, [3]), FrozenGate(PauliRotation([:X], [3]), parameter = 1.57), PauliRotation([:Z], [3]), FrozenGate(PauliRotation([:X], [3]), parameter = 1.57), CliffordGate(:S, [3]), CliffordGate(:S, [4]), FrozenGate(PauliRotation([:X], [4]), parameter = 1.57), PauliRotation([:Z], [4]), FrozenGate(PauliRotation([:X], [4]), parameter = 1.57), CliffordGate(:S, [4])]\n",
      "Alpha fixed (!!): 1.5707963267948966\n",
      "Alpha fixed (!!): 1.5707963267948966\n"
     ]
    },
    {
     "data": {
      "text/plain": [
       "46-element Vector{Gate}:\n",
       " PauliRotation([:Z, :Z], [1, 2])\n",
       " PauliRotation([:Z, :Z], [3, 4])\n",
       " FrozenGate(PauliRotation([:Z, :Z], [2, 3]), parameter = 3.14)\n",
       " CliffordGate(:S, [1])\n",
       " FrozenGate(PauliRotation([:X], [1]), parameter = 1.57)\n",
       " PauliRotation([:Z], [1])\n",
       " FrozenGate(PauliRotation([:X], [1]), parameter = 1.57)\n",
       " CliffordGate(:S, [1])\n",
       " CliffordGate(:S, [2])\n",
       " FrozenGate(PauliRotation([:X], [2]), parameter = 1.57)\n",
       " ⋮\n",
       " FrozenGate(PauliRotation([:X], [3]), parameter = 1.57)\n",
       " FrozenGate(PauliRotation([:Z], [3]), parameter = 1.57)\n",
       " FrozenGate(PauliRotation([:X], [3]), parameter = 1.57)\n",
       " CliffordGate(:S, [3])\n",
       " CliffordGate(:S, [4])\n",
       " FrozenGate(PauliRotation([:X], [4]), parameter = 1.57)\n",
       " PauliRotation([:Z], [4])\n",
       " FrozenGate(PauliRotation([:X], [4]), parameter = 1.57)\n",
       " CliffordGate(:S, [4])"
      ]
     },
     "metadata": {},
     "output_type": "display_data"
    }
   ],
   "source": [
    "proposal_tfimqaoacircuit(circuit, init_circuit, indices_replaced, 2) #check"
   ]
  },
  {
   "cell_type": "markdown",
   "metadata": {},
   "source": [
    "## Next steps: \n",
    "- find the parameter $\\alpha$ for the proposal function (sample n) (page 7 eq 14, Appendix B of paper)\n",
    "- define the MH algorithm (propose until a sample is accepted, then from this accepted sample start proposing again)\n",
    "- merge everything into one MCMC function"
   ]
  },
  {
   "cell_type": "markdown",
   "metadata": {},
   "source": []
  }
 ],
 "metadata": {
  "kernelspec": {
   "display_name": "Julia 1.11.3",
   "language": "julia",
   "name": "julia-1.11"
  },
  "language_info": {
   "file_extension": ".jl",
   "mimetype": "application/julia",
   "name": "julia",
   "version": "1.11.3"
  }
 },
 "nbformat": 4,
 "nbformat_minor": 2
}
