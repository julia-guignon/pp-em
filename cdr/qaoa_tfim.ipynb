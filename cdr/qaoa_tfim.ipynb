{
 "cells": [
  {
   "cell_type": "code",
   "execution_count": 51,
   "metadata": {},
   "outputs": [],
   "source": [
    "using PauliPropagation\n",
    "using Random\n",
    "using Optim\n",
    "using Plots\n",
    "#Random.seed!(43)\n",
    "using ReverseDiff: GradientTape, gradient!, compile\n",
    "using LinearAlgebra\n",
    "using StatsBase"
   ]
  },
  {
   "cell_type": "markdown",
   "metadata": {},
   "source": [
    "## CDR (Clifford Data Regression) \n",
    "This is the main idea:\n",
    "(https://arxiv.org/abs/2005.10189)\n",
    "\n",
    "- We create a training set consisting of classical \"exact\" expectation values using PP and noisy expectation values using a noisy simulator or a quantum device.\n",
    "- Then we fit a linear ansatz (and later a more complex noise model) in order to predict the correction to mitigate the errors on our noisy observables.\n",
    "- To create the training set, we use MCMC sampling.\n",
    "- Question: Could we use the noisy circuits within `PauliPropagation.jl` to generate our noisy expectation values?\n",
    "\n",
    "The first step is to implement the system they use in the paper, but replace the MPS with PP.\n"
   ]
  },
  {
   "cell_type": "markdown",
   "metadata": {},
   "source": [
    "### Functions for QAOA on Ising spin chain\n",
    "We take the same setup as in the paper:\n",
    "- TFIM with obc and even number of qubits\n",
    "- QAOA (Quantum Alternating Operator Ansatz) circuit\n",
    "- Parameter assignment function (each RZZ and each RZ layer has the same parameters)"
   ]
  },
  {
   "cell_type": "code",
   "execution_count": 52,
   "metadata": {},
   "outputs": [
    {
     "data": {
      "text/plain": [
       "tfimqaoacircuit (generic function with 1 method)"
      ]
     },
     "metadata": {},
     "output_type": "display_data"
    }
   ],
   "source": [
    "#QAOA circuit (Fig 10)\n",
    "function tfimqaoacircuit(nqubits::Integer, nlayers::Integer; topology=nothing)\n",
    "    circuit::Vector{Gate} = []\n",
    "\n",
    "    if isnothing(topology)\n",
    "        topology = bricklayertopology(nqubits;periodic=false) #chain with obc\n",
    "    end\n",
    "\n",
    "    for i in 1:nlayers\n",
    "        rzzlayer!(circuit, topology)\n",
    "        for qubit in 1:nqubits\n",
    "            push!(circuit, CliffordGate(:S, qubit))\n",
    "            push!(circuit, PauliRotation(:X, qubit, π/2)) # Fig 10: P=R_X(π/2)\n",
    "            push!(circuit, PauliRotation(:Z, qubit))\n",
    "            push!(circuit, PauliRotation(:X, qubit, π/2))\n",
    "            push!(circuit, CliffordGate(:S, qubit))\n",
    "\n",
    "        end\n",
    "    end\n",
    "    return circuit\n",
    "end"
   ]
  },
  {
   "cell_type": "code",
   "execution_count": 53,
   "metadata": {},
   "outputs": [
    {
     "data": {
      "text/plain": [
       "assign_qaoa_parameters (generic function with 1 method)"
      ]
     },
     "metadata": {},
     "output_type": "display_data"
    }
   ],
   "source": [
    "#grouped assignment of the params for QAOA circuit\n",
    "function assign_qaoa_parameters(circuit, nqubits::Integer, nlayers::Integer)\n",
    "    \n",
    "    rzz_indices = getparameterindices(circuit, PauliRotation, [:Z, :Z])\n",
    "    rz_indices = getparameterindices(circuit, PauliRotation, [:Z])\n",
    "\n",
    "    #group sizes\n",
    "    Q_minus_1 = (nqubits - 1) * nlayers  # RZZ parameters\n",
    "    Q = nqubits * nlayers                # RZ parameters\n",
    "\n",
    "    #group the random values according to circuit layout\n",
    "    thetas = zeros(maximum(vcat(rzz_indices, rz_indices)))\n",
    "    thetas[rzz_indices] .= repeat(randn(nlayers), inner=(Q_minus_1 ÷ nlayers))\n",
    "    thetas[rz_indices] .= repeat(randn(nlayers), inner=(Q ÷ nlayers))\n",
    "\n",
    "    return thetas\n",
    "end"
   ]
  },
  {
   "cell_type": "markdown",
   "metadata": {},
   "source": [
    "### Initialize circuit\n",
    "- initial parameters are set\n",
    "- define truncations dpending on the method of gradient computation\n",
    "- for `ReverseDiff`, better to use `max_weight` (number of non-Id in string), `max_freq`, and `max_sins`(number of sins - as in SPD) (see notebook 8)\n",
    "- define H within loss function"
   ]
  },
  {
   "cell_type": "code",
   "execution_count": 54,
   "metadata": {},
   "outputs": [
    {
     "name": "stderr",
     "output_type": "stream",
     "text": [
      "WARNING: redefinition of constant Main.topology. This may fail, cause incorrect answers, or produce other errors.\n"
     ]
    },
    {
     "data": {
      "text/plain": [
       "2"
      ]
     },
     "metadata": {},
     "output_type": "display_data"
    }
   ],
   "source": [
    "const nq = 4 #we set const for global vars in fcts to opt performance\n",
    "const nl = 2 #number of layers/rounds\n",
    "const topology = bricklayertopology(nq;periodic=false) #chain with obc  \n",
    "const g = 2 #paramagnetic phase"
   ]
  },
  {
   "cell_type": "code",
   "execution_count": 55,
   "metadata": {},
   "outputs": [
    {
     "name": "stdout",
     "output_type": "stream",
     "text": [
      "Number of parameters: 14"
     ]
    },
    {
     "name": "stderr",
     "output_type": "stream",
     "text": [
      "WARNING: redefinition of constant Main.circuit. This may fail, cause incorrect answers, or produce other errors.\n"
     ]
    },
    {
     "name": "stdout",
     "output_type": "stream",
     "text": [
      "\n",
      "Parameters: [1.0342696673459635, 1.0342696673459635, 1.0342696673459635, -0.5076722147929688, -0.5076722147929688, -0.5076722147929688, -0.5076722147929688, -1.0855519423538686, -1.0855519423538686, -1.0855519423538686, -0.7875475438710078, -0.7875475438710078, -0.7875475438710078, -0.7875475438710078]\n"
     ]
    }
   ],
   "source": [
    "const circuit = tfimqaoacircuit(nq, nl; topology=topology)\n",
    "nparams = countparameters(circuit)\n",
    "println(\"Number of parameters: \", nparams) \n",
    "#generate random parameters\n",
    "thetas_init = assign_qaoa_parameters(circuit, nq, nl)\n",
    "println(\"Parameters: \", thetas_init)"
   ]
  },
  {
   "cell_type": "code",
   "execution_count": 56,
   "metadata": {},
   "outputs": [
    {
     "data": {
      "text/plain": [
       "5"
      ]
     },
     "metadata": {},
     "output_type": "display_data"
    }
   ],
   "source": [
    "#define the truncations\n",
    "const max_freq = 30\n",
    "const max_weight = 5 #number of non-Id Paulis in string"
   ]
  },
  {
   "cell_type": "markdown",
   "metadata": {},
   "source": [
    "### Loss function for TFIM and classical optimization"
   ]
  },
  {
   "cell_type": "code",
   "execution_count": 57,
   "metadata": {},
   "outputs": [
    {
     "data": {
      "text/plain": [
       "lossfunction (generic function with 1 method)"
      ]
     },
     "metadata": {},
     "output_type": "display_data"
    }
   ],
   "source": [
    "function lossfunction(thetas)\n",
    "    type_of_coeff = eltype(thetas)\n",
    "    H = PauliSum(nq, type_of_coeff)\n",
    "    for qind in 1:nq\n",
    "        add!(H, :X, qind, type_of_coeff(-g))\n",
    "    end\n",
    "    for pair in topology\n",
    "        add!(H, [:Z, :Z], collect(pair), type_of_coeff(1.0))\n",
    "    end\n",
    "    \n",
    "    wrapped_H = wrapcoefficients(H, PauliFreqTracker) #wrap to keep track of path splitting\n",
    "\n",
    "    # We also need to run the in-place version with `!`, because by default we copy the Pauli sum\n",
    "    wrapped_H = propagate!(circuit, wrapped_H, thetas; max_freq, max_weight);\n",
    "    return overlapwithplus(wrapped_H)\n",
    "end"
   ]
  },
  {
   "cell_type": "code",
   "execution_count": 58,
   "metadata": {},
   "outputs": [
    {
     "name": "stdout",
     "output_type": "stream",
     "text": [
      "  0.033356 seconds (54.51 k allocations: 2.727 MiB, 99.17% compilation time)\n"
     ]
    },
    {
     "data": {
      "text/plain": [
       "-5.379420608809793"
      ]
     },
     "metadata": {},
     "output_type": "display_data"
    }
   ],
   "source": [
    "@time lossfunction(thetas_init) #check"
   ]
  },
  {
   "cell_type": "code",
   "execution_count": 59,
   "metadata": {},
   "outputs": [
    {
     "name": "stderr",
     "output_type": "stream",
     "text": [
      "WARNING: redefinition of constant Main.simulation_tape. This may fail, cause incorrect answers, or produce other errors.\n",
      "WARNING: redefinition of constant Main.compiled_simulation_tape. This may fail, cause incorrect answers, or produce other errors.\n"
     ]
    },
    {
     "data": {
      "text/plain": [
       "typename(ReverseDiff.CompiledTape)(lossfunction)"
      ]
     },
     "metadata": {},
     "output_type": "display_data"
    }
   ],
   "source": [
    "### This is following an ReverseDiff.jl example\n",
    "\n",
    "# some inputs and work buffer to play around with\n",
    "grad_array_compiled = similar(thetas_init);\n",
    "\n",
    "# pre-record a GradientTape for `gradsimulation` using inputs of length m with Float64 elements\n",
    "\n",
    "const simulation_tape = GradientTape(lossfunction, thetas_init)\n",
    "const compiled_simulation_tape = compile(simulation_tape)\n",
    "#graph for the chain rule is computed only once! (const)\n",
    "\n",
    "# first evaluation compiles and is slower\n",
    "#@time gradient!(grad_array_compiled, compiled_simulation_tape, thetas)\n",
    "# second evaluation\n",
    "#@time gradient!(grad_array_compiled, compiled_simulation_tape, thetas);"
   ]
  },
  {
   "cell_type": "code",
   "execution_count": 60,
   "metadata": {},
   "outputs": [
    {
     "name": "stdout",
     "output_type": "stream",
     "text": [
      "-2.093041412138235\n"
     ]
    },
    {
     "data": {
      "image/png": "[encoded data removed]",
      "image/svg+xml": [
       "<?xml version=\"1.0\" encoding=\"utf-8\"?>\n",
       "<svg xmlns=\"http://www.w3.org/2000/svg\" xmlns:xlink=\"http://www.w3.org/1999/xlink\" width=\"600\" height=\"400\" viewBox=\"0 0 2400 1600\">\n",
       "<defs>\n",
       "  <clipPath id=\"clip140\">\n",
       "    <rect x=\"0\" y=\"0\" width=\"2400\" height=\"1600\"/>\n",
       "  </clipPath>\n",
       "</defs>\n",
       "<path clip-path=\"url(#clip140)\" d=\"M0 1600 L2400 1600 L2400 0 L0 0  Z\" fill=\"#ffffff\" fill-rule=\"evenodd\" fill-opacity=\"1\"/>\n",
       "<defs>\n",
       "  <clipPath id=\"clip141\">\n",
       "    <rect x=\"480\" y=\"0\" width=\"1681\" height=\"1600\"/>\n",
       "  </clipPath>\n",
       "</defs>\n",
       "<path clip-path=\"url(#clip140)\" d=\"M287.366 1423.18 L2352.76 1423.18 L2352.76 123.472 L287.366 123.472  Z\" fill=\"#ffffff\" fill-rule=\"evenodd\" fill-opacity=\"1\"/>\n",
       "<defs>\n",
       "  <clipPath id=\"clip142\">\n",
       "    <rect x=\"287\" y=\"123\" width=\"2066\" height=\"1301\"/>\n",
       "  </clipPath>\n",
       "</defs>\n",
       "<polyline clip-path=\"url(#clip142)\" style=\"stroke:#000000; stroke-linecap:round; stroke-linejoin:round; stroke-width:2; stroke-opacity:0.1; fill:none\" points=\"326.139,1423.18 326.139,123.472 \"/>\n",
       "<polyline clip-path=\"url(#clip142)\" style=\"stroke:#000000; stroke-linecap:round; stroke-linejoin:round; stroke-width:2; stroke-opacity:0.1; fill:none\" points=\"818.179,1423.18 818.179,123.472 \"/>\n",
       "<polyline clip-path=\"url(#clip142)\" style=\"stroke:#000000; stroke-linecap:round; stroke-linejoin:round; stroke-width:2; stroke-opacity:0.1; fill:none\" points=\"1310.22,1423.18 1310.22,123.472 \"/>\n",
       "<polyline clip-path=\"url(#clip142)\" style=\"stroke:#000000; stroke-linecap:round; stroke-linejoin:round; stroke-width:2; stroke-opacity:0.1; fill:none\" points=\"1802.26,1423.18 1802.26,123.472 \"/>\n",
       "<polyline clip-path=\"url(#clip142)\" style=\"stroke:#000000; stroke-linecap:round; stroke-linejoin:round; stroke-width:2; stroke-opacity:0.1; fill:none\" points=\"2294.3,1423.18 2294.3,123.472 \"/>\n",
       "<polyline clip-path=\"url(#clip142)\" style=\"stroke:#000000; stroke-linecap:round; stroke-linejoin:round; stroke-width:2; stroke-opacity:0.1; fill:none\" points=\"287.366,1148.61 2352.76,1148.61 \"/>\n",
       "<polyline clip-path=\"url(#clip142)\" style=\"stroke:#000000; stroke-linecap:round; stroke-linejoin:round; stroke-width:2; stroke-opacity:0.1; fill:none\" points=\"287.366,872.375 2352.76,872.375 \"/>\n",
       "<polyline clip-path=\"url(#clip142)\" style=\"stroke:#000000; stroke-linecap:round; stroke-linejoin:round; stroke-width:2; stroke-opacity:0.1; fill:none\" points=\"287.366,596.142 2352.76,596.142 \"/>\n",
       "<polyline clip-path=\"url(#clip142)\" style=\"stroke:#000000; stroke-linecap:round; stroke-linejoin:round; stroke-width:2; stroke-opacity:0.1; fill:none\" points=\"287.366,319.91 2352.76,319.91 \"/>\n",
       "<polyline clip-path=\"url(#clip140)\" style=\"stroke:#000000; stroke-linecap:round; stroke-linejoin:round; stroke-width:4; stroke-opacity:1; fill:none\" points=\"287.366,1423.18 2352.76,1423.18 \"/>\n",
       "<polyline clip-path=\"url(#clip140)\" style=\"stroke:#000000; stroke-linecap:round; stroke-linejoin:round; stroke-width:4; stroke-opacity:1; fill:none\" points=\"326.139,1423.18 326.139,1404.28 \"/>\n",
       "<polyline clip-path=\"url(#clip140)\" style=\"stroke:#000000; stroke-linecap:round; stroke-linejoin:round; stroke-width:4; stroke-opacity:1; fill:none\" points=\"818.179,1423.18 818.179,1404.28 \"/>\n",
       "<polyline clip-path=\"url(#clip140)\" style=\"stroke:#000000; stroke-linecap:round; stroke-linejoin:round; stroke-width:4; stroke-opacity:1; fill:none\" points=\"1310.22,1423.18 1310.22,1404.28 \"/>\n",
       "<polyline clip-path=\"url(#clip140)\" style=\"stroke:#000000; stroke-linecap:round; stroke-linejoin:round; stroke-width:4; stroke-opacity:1; fill:none\" points=\"1802.26,1423.18 1802.26,1404.28 \"/>\n",
       "<polyline clip-path=\"url(#clip140)\" style=\"stroke:#000000; stroke-linecap:round; stroke-linejoin:round; stroke-width:4; stroke-opacity:1; fill:none\" points=\"2294.3,1423.18 2294.3,1404.28 \"/>\n",
       "<path clip-path=\"url(#clip140)\" d=\"M326.139 1454.1 Q322.528 1454.1 320.699 1457.66 Q318.893 1461.2 318.893 1468.33 Q318.893 1475.44 320.699 1479.01 Q322.528 1482.55 326.139 1482.55 Q329.773 1482.55 331.578 1479.01 Q333.407 1475.44 333.407 1468.33 Q333.407 1461.2 331.578 1457.66 Q329.773 1454.1 326.139 1454.1 M326.139 1450.39 Q331.949 1450.39 335.004 1455 Q338.083 1459.58 338.083 1468.33 Q338.083 1477.06 335.004 1481.67 Q331.949 1486.25 326.139 1486.25 Q320.329 1486.25 317.25 1481.67 Q314.194 1477.06 314.194 1468.33 Q314.194 1459.58 317.25 1455 Q320.329 1450.39 326.139 1450.39 Z\" fill=\"#000000\" fill-rule=\"nonzero\" fill-opacity=\"1\" /><path clip-path=\"url(#clip140)\" d=\"M797.45 1481.64 L813.77 1481.64 L813.77 1485.58 L791.825 1485.58 L791.825 1481.64 Q794.487 1478.89 799.071 1474.26 Q803.677 1469.61 804.858 1468.27 Q807.103 1465.74 807.983 1464.01 Q808.885 1462.25 808.885 1460.56 Q808.885 1457.8 806.941 1456.07 Q805.02 1454.33 801.918 1454.33 Q799.719 1454.33 797.265 1455.09 Q794.835 1455.86 792.057 1457.41 L792.057 1452.69 Q794.881 1451.55 797.335 1450.97 Q799.788 1450.39 801.825 1450.39 Q807.196 1450.39 810.39 1453.08 Q813.585 1455.77 813.585 1460.26 Q813.585 1462.39 812.774 1464.31 Q811.987 1466.2 809.881 1468.8 Q809.302 1469.47 806.2 1472.69 Q803.098 1475.88 797.45 1481.64 Z\" fill=\"#000000\" fill-rule=\"nonzero\" fill-opacity=\"1\" /><path clip-path=\"url(#clip140)\" d=\"M823.631 1451.02 L841.987 1451.02 L841.987 1454.96 L827.913 1454.96 L827.913 1463.43 Q828.932 1463.08 829.95 1462.92 Q830.969 1462.73 831.987 1462.73 Q837.774 1462.73 841.154 1465.9 Q844.533 1469.08 844.533 1474.49 Q844.533 1480.07 841.061 1483.17 Q837.589 1486.25 831.27 1486.25 Q829.094 1486.25 826.825 1485.88 Q824.58 1485.51 822.172 1484.77 L822.172 1480.07 Q824.256 1481.2 826.478 1481.76 Q828.7 1482.32 831.177 1482.32 Q835.182 1482.32 837.52 1480.21 Q839.858 1478.1 839.858 1474.49 Q839.858 1470.88 837.52 1468.77 Q835.182 1466.67 831.177 1466.67 Q829.302 1466.67 827.427 1467.08 Q825.575 1467.5 823.631 1468.38 L823.631 1451.02 Z\" fill=\"#000000\" fill-rule=\"nonzero\" fill-opacity=\"1\" /><path clip-path=\"url(#clip140)\" d=\"M1284.92 1451.02 L1303.28 1451.02 L1303.28 1454.96 L1289.2 1454.96 L1289.2 1463.43 Q1290.22 1463.08 1291.24 1462.92 Q1292.26 1462.73 1293.28 1462.73 Q1299.06 1462.73 1302.44 1465.9 Q1305.82 1469.08 1305.82 1474.49 Q1305.82 1480.07 1302.35 1483.17 Q1298.88 1486.25 1292.56 1486.25 Q1290.38 1486.25 1288.11 1485.88 Q1285.87 1485.51 1283.46 1484.77 L1283.46 1480.07 Q1285.54 1481.2 1287.77 1481.76 Q1289.99 1482.32 1292.47 1482.32 Q1296.47 1482.32 1298.81 1480.21 Q1301.15 1478.1 1301.15 1474.49 Q1301.15 1470.88 1298.81 1468.77 Q1296.47 1466.67 1292.47 1466.67 Q1290.59 1466.67 1288.72 1467.08 Q1286.86 1467.5 1284.92 1468.38 L1284.92 1451.02 Z\" fill=\"#000000\" fill-rule=\"nonzero\" fill-opacity=\"1\" /><path clip-path=\"url(#clip140)\" d=\"M1325.03 1454.1 Q1321.42 1454.1 1319.6 1457.66 Q1317.79 1461.2 1317.79 1468.33 Q1317.79 1475.44 1319.6 1479.01 Q1321.42 1482.55 1325.03 1482.55 Q1328.67 1482.55 1330.47 1479.01 Q1332.3 1475.44 1332.3 1468.33 Q1332.3 1461.2 1330.47 1457.66 Q1328.67 1454.1 1325.03 1454.1 M1325.03 1450.39 Q1330.84 1450.39 1333.9 1455 Q1336.98 1459.58 1336.98 1468.33 Q1336.98 1477.06 1333.9 1481.67 Q1330.84 1486.25 1325.03 1486.25 Q1319.22 1486.25 1316.15 1481.67 Q1313.09 1477.06 1313.09 1468.33 Q1313.09 1459.58 1316.15 1455 Q1319.22 1450.39 1325.03 1450.39 Z\" fill=\"#000000\" fill-rule=\"nonzero\" fill-opacity=\"1\" /><path clip-path=\"url(#clip140)\" d=\"M1776.12 1451.02 L1798.34 1451.02 L1798.34 1453.01 L1785.79 1485.58 L1780.91 1485.58 L1792.71 1454.96 L1776.12 1454.96 L1776.12 1451.02 Z\" fill=\"#000000\" fill-rule=\"nonzero\" fill-opacity=\"1\" /><path clip-path=\"url(#clip140)\" d=\"M1807.5 1451.02 L1825.86 1451.02 L1825.86 1454.96 L1811.79 1454.96 L1811.79 1463.43 Q1812.8 1463.08 1813.82 1462.92 Q1814.84 1462.73 1815.86 1462.73 Q1821.65 1462.73 1825.03 1465.9 Q1828.41 1469.08 1828.41 1474.49 Q1828.41 1480.07 1824.93 1483.17 Q1821.46 1486.25 1815.14 1486.25 Q1812.97 1486.25 1810.7 1485.88 Q1808.45 1485.51 1806.05 1484.77 L1806.05 1480.07 Q1808.13 1481.2 1810.35 1481.76 Q1812.57 1482.32 1815.05 1482.32 Q1819.05 1482.32 1821.39 1480.21 Q1823.73 1478.1 1823.73 1474.49 Q1823.73 1470.88 1821.39 1468.77 Q1819.05 1466.67 1815.05 1466.67 Q1813.18 1466.67 1811.3 1467.08 Q1809.45 1467.5 1807.5 1468.38 L1807.5 1451.02 Z\" fill=\"#000000\" fill-rule=\"nonzero\" fill-opacity=\"1\" /><path clip-path=\"url(#clip140)\" d=\"M2253.91 1481.64 L2261.55 1481.64 L2261.55 1455.28 L2253.24 1456.95 L2253.24 1452.69 L2261.5 1451.02 L2266.18 1451.02 L2266.18 1481.64 L2273.82 1481.64 L2273.82 1485.58 L2253.91 1485.58 L2253.91 1481.64 Z\" fill=\"#000000\" fill-rule=\"nonzero\" fill-opacity=\"1\" /><path clip-path=\"url(#clip140)\" d=\"M2293.26 1454.1 Q2289.65 1454.1 2287.82 1457.66 Q2286.01 1461.2 2286.01 1468.33 Q2286.01 1475.44 2287.82 1479.01 Q2289.65 1482.55 2293.26 1482.55 Q2296.89 1482.55 2298.7 1479.01 Q2300.53 1475.44 2300.53 1468.33 Q2300.53 1461.2 2298.7 1457.66 Q2296.89 1454.1 2293.26 1454.1 M2293.26 1450.39 Q2299.07 1450.39 2302.13 1455 Q2305.2 1459.58 2305.2 1468.33 Q2305.2 1477.06 2302.13 1481.67 Q2299.07 1486.25 2293.26 1486.25 Q2287.45 1486.25 2284.37 1481.67 Q2281.32 1477.06 2281.32 1468.33 Q2281.32 1459.58 2284.37 1455 Q2287.45 1450.39 2293.26 1450.39 Z\" fill=\"#000000\" fill-rule=\"nonzero\" fill-opacity=\"1\" /><path clip-path=\"url(#clip140)\" d=\"M2323.42 1454.1 Q2319.81 1454.1 2317.98 1457.66 Q2316.18 1461.2 2316.18 1468.33 Q2316.18 1475.44 2317.98 1479.01 Q2319.81 1482.55 2323.42 1482.55 Q2327.06 1482.55 2328.86 1479.01 Q2330.69 1475.44 2330.69 1468.33 Q2330.69 1461.2 2328.86 1457.66 Q2327.06 1454.1 2323.42 1454.1 M2323.42 1450.39 Q2329.23 1450.39 2332.29 1455 Q2335.37 1459.58 2335.37 1468.33 Q2335.37 1477.06 2332.29 1481.67 Q2329.23 1486.25 2323.42 1486.25 Q2317.61 1486.25 2314.53 1481.67 Q2311.48 1477.06 2311.48 1468.33 Q2311.48 1459.58 2314.53 1455 Q2317.61 1450.39 2323.42 1450.39 Z\" fill=\"#000000\" fill-rule=\"nonzero\" fill-opacity=\"1\" /><path clip-path=\"url(#clip140)\" d=\"M1171.64 1537.87 Q1170.66 1537.3 1169.48 1537.04 Q1168.33 1536.76 1166.93 1536.76 Q1161.97 1536.76 1159.29 1540 Q1156.65 1543.22 1156.65 1549.27 L1156.65 1568.04 L1150.76 1568.04 L1150.76 1532.4 L1156.65 1532.4 L1156.65 1537.93 Q1158.5 1534.69 1161.46 1533.13 Q1164.42 1531.54 1168.65 1531.54 Q1169.26 1531.54 1169.99 1531.63 Q1170.72 1531.7 1171.61 1531.85 L1171.64 1537.87 Z\" fill=\"#000000\" fill-rule=\"nonzero\" fill-opacity=\"1\" /><path clip-path=\"url(#clip140)\" d=\"M1177.18 1553.98 L1177.18 1532.4 L1183.04 1532.4 L1183.04 1553.75 Q1183.04 1558.81 1185.01 1561.36 Q1186.99 1563.87 1190.93 1563.87 Q1195.67 1563.87 1198.41 1560.85 Q1201.18 1557.83 1201.18 1552.61 L1201.18 1532.4 L1207.04 1532.4 L1207.04 1568.04 L1201.18 1568.04 L1201.18 1562.57 Q1199.05 1565.82 1196.22 1567.41 Q1193.42 1568.97 1189.69 1568.97 Q1183.55 1568.97 1180.37 1565.15 Q1177.18 1561.33 1177.18 1553.98 M1191.92 1531.54 L1191.92 1531.54 Z\" fill=\"#000000\" fill-rule=\"nonzero\" fill-opacity=\"1\" /><path clip-path=\"url(#clip140)\" d=\"M1248.73 1546.53 L1248.73 1568.04 L1242.88 1568.04 L1242.88 1546.72 Q1242.88 1541.66 1240.9 1539.14 Q1238.93 1536.63 1234.98 1536.63 Q1230.24 1536.63 1227.5 1539.65 Q1224.77 1542.68 1224.77 1547.9 L1224.77 1568.04 L1218.88 1568.04 L1218.88 1532.4 L1224.77 1532.4 L1224.77 1537.93 Q1226.87 1534.72 1229.7 1533.13 Q1232.56 1531.54 1236.29 1531.54 Q1242.43 1531.54 1245.58 1535.36 Q1248.73 1539.14 1248.73 1546.53 Z\" fill=\"#000000\" fill-rule=\"nonzero\" fill-opacity=\"1\" /><path clip-path=\"url(#clip140)\" d=\"M1283.14 1533.45 L1283.14 1538.98 Q1280.66 1537.71 1277.98 1537.07 Q1275.31 1536.44 1272.45 1536.44 Q1268.08 1536.44 1265.89 1537.77 Q1263.72 1539.11 1263.72 1541.79 Q1263.72 1543.82 1265.28 1545 Q1266.84 1546.15 1271.55 1547.2 L1273.56 1547.64 Q1279.8 1548.98 1282.41 1551.43 Q1285.05 1553.85 1285.05 1558.21 Q1285.05 1563.17 1281.1 1566.07 Q1277.19 1568.97 1270.31 1568.97 Q1267.45 1568.97 1264.33 1568.39 Q1261.24 1567.85 1257.8 1566.74 L1257.8 1560.69 Q1261.05 1562.38 1264.2 1563.24 Q1267.35 1564.07 1270.44 1564.07 Q1274.58 1564.07 1276.81 1562.66 Q1279.03 1561.23 1279.03 1558.65 Q1279.03 1556.27 1277.41 1554.99 Q1275.82 1553.72 1270.38 1552.54 L1268.34 1552.07 Q1262.9 1550.92 1260.48 1548.56 Q1258.06 1546.18 1258.06 1542.04 Q1258.06 1537.01 1261.62 1534.27 Q1265.19 1531.54 1271.75 1531.54 Q1274.99 1531.54 1277.86 1532.01 Q1280.72 1532.49 1283.14 1533.45 Z\" fill=\"#000000\" fill-rule=\"nonzero\" fill-opacity=\"1\" /><path clip-path=\"url(#clip140)\" d=\"M1328.91 1536.5 Q1324.2 1536.5 1321.46 1540.19 Q1318.72 1543.85 1318.72 1550.25 Q1318.72 1556.65 1321.43 1560.34 Q1324.17 1564 1328.91 1564 Q1333.59 1564 1336.33 1560.31 Q1339.06 1556.62 1339.06 1550.25 Q1339.06 1543.92 1336.33 1540.23 Q1333.59 1536.5 1328.91 1536.5 M1328.91 1531.54 Q1336.55 1531.54 1340.91 1536.5 Q1345.27 1541.47 1345.27 1550.25 Q1345.27 1559 1340.91 1564 Q1336.55 1568.97 1328.91 1568.97 Q1321.24 1568.97 1316.88 1564 Q1312.55 1559 1312.55 1550.25 Q1312.55 1541.47 1316.88 1536.5 Q1321.24 1531.54 1328.91 1531.54 Z\" fill=\"#000000\" fill-rule=\"nonzero\" fill-opacity=\"1\" /><path clip-path=\"url(#clip140)\" d=\"M1373.02 1518.52 L1373.02 1523.39 L1367.42 1523.39 Q1364.27 1523.39 1363.03 1524.66 Q1361.82 1525.93 1361.82 1529.24 L1361.82 1532.4 L1371.46 1532.4 L1371.46 1536.95 L1361.82 1536.95 L1361.82 1568.04 L1355.93 1568.04 L1355.93 1536.95 L1350.33 1536.95 L1350.33 1532.4 L1355.93 1532.4 L1355.93 1529.91 Q1355.93 1523.96 1358.7 1521.26 Q1361.47 1518.52 1367.49 1518.52 L1373.02 1518.52 Z\" fill=\"#000000\" fill-rule=\"nonzero\" fill-opacity=\"1\" /><path clip-path=\"url(#clip140)\" d=\"M1431.3 1561.26 L1431.3 1548.5 L1420.8 1548.5 L1420.8 1543.22 L1437.67 1543.22 L1437.67 1563.62 Q1433.94 1566.26 1429.46 1567.63 Q1424.97 1568.97 1419.88 1568.97 Q1408.74 1568.97 1402.43 1562.47 Q1396.16 1555.95 1396.16 1544.33 Q1396.16 1532.68 1402.43 1526.19 Q1408.74 1519.66 1419.88 1519.66 Q1424.52 1519.66 1428.69 1520.81 Q1432.89 1521.96 1436.43 1524.18 L1436.43 1531.03 Q1432.86 1528 1428.85 1526.48 Q1424.84 1524.95 1420.42 1524.95 Q1411.7 1524.95 1407.3 1529.82 Q1402.94 1534.69 1402.94 1544.33 Q1402.94 1553.94 1407.3 1558.81 Q1411.7 1563.68 1420.42 1563.68 Q1423.82 1563.68 1426.5 1563.11 Q1429.17 1562.51 1431.3 1561.26 Z\" fill=\"#000000\" fill-rule=\"nonzero\" fill-opacity=\"1\" /><path clip-path=\"url(#clip140)\" d=\"M1455.84 1525.81 L1455.84 1562.76 L1463.61 1562.76 Q1473.44 1562.76 1477.99 1558.3 Q1482.58 1553.85 1482.58 1544.24 Q1482.58 1534.69 1477.99 1530.26 Q1473.44 1525.81 1463.61 1525.81 L1455.84 1525.81 M1449.41 1520.52 L1462.62 1520.52 Q1476.43 1520.52 1482.9 1526.28 Q1489.36 1532.01 1489.36 1544.24 Q1489.36 1556.52 1482.86 1562.28 Q1476.37 1568.04 1462.62 1568.04 L1449.41 1568.04 L1449.41 1520.52 Z\" fill=\"#000000\" fill-rule=\"nonzero\" fill-opacity=\"1\" /><polyline clip-path=\"url(#clip140)\" style=\"stroke:#000000; stroke-linecap:round; stroke-linejoin:round; stroke-width:4; stroke-opacity:1; fill:none\" points=\"287.366,1423.18 287.366,123.472 \"/>\n",
       "<polyline clip-path=\"url(#clip140)\" style=\"stroke:#000000; stroke-linecap:round; stroke-linejoin:round; stroke-width:4; stroke-opacity:1; fill:none\" points=\"287.366,1148.61 306.264,1148.61 \"/>\n",
       "<polyline clip-path=\"url(#clip140)\" style=\"stroke:#000000; stroke-linecap:round; stroke-linejoin:round; stroke-width:4; stroke-opacity:1; fill:none\" points=\"287.366,872.375 306.264,872.375 \"/>\n",
       "<polyline clip-path=\"url(#clip140)\" style=\"stroke:#000000; stroke-linecap:round; stroke-linejoin:round; stroke-width:4; stroke-opacity:1; fill:none\" points=\"287.366,596.142 306.264,596.142 \"/>\n",
       "<polyline clip-path=\"url(#clip140)\" style=\"stroke:#000000; stroke-linecap:round; stroke-linejoin:round; stroke-width:4; stroke-opacity:1; fill:none\" points=\"287.366,319.91 306.264,319.91 \"/>\n",
       "<path clip-path=\"url(#clip140)\" d=\"M115.256 1149.06 L144.931 1149.06 L144.931 1152.99 L115.256 1152.99 L115.256 1149.06 Z\" fill=\"#000000\" fill-rule=\"nonzero\" fill-opacity=\"1\" /><path clip-path=\"url(#clip140)\" d=\"M159.052 1161.95 L175.371 1161.95 L175.371 1165.89 L153.427 1165.89 L153.427 1161.95 Q156.089 1159.2 160.672 1154.57 Q165.278 1149.91 166.459 1148.57 Q168.704 1146.05 169.584 1144.31 Q170.487 1142.55 170.487 1140.86 Q170.487 1138.11 168.542 1136.37 Q166.621 1134.64 163.519 1134.64 Q161.32 1134.64 158.866 1135.4 Q156.436 1136.16 153.658 1137.72 L153.658 1132.99 Q156.482 1131.86 158.936 1131.28 Q161.39 1130.7 163.427 1130.7 Q168.797 1130.7 171.991 1133.39 Q175.186 1136.07 175.186 1140.56 Q175.186 1142.69 174.376 1144.61 Q173.589 1146.51 171.482 1149.1 Q170.903 1149.78 167.802 1152.99 Q164.7 1156.19 159.052 1161.95 Z\" fill=\"#000000\" fill-rule=\"nonzero\" fill-opacity=\"1\" /><path clip-path=\"url(#clip140)\" d=\"M185.186 1160.01 L190.07 1160.01 L190.07 1165.89 L185.186 1165.89 L185.186 1160.01 Z\" fill=\"#000000\" fill-rule=\"nonzero\" fill-opacity=\"1\" /><path clip-path=\"url(#clip140)\" d=\"M210.255 1134.41 Q206.644 1134.41 204.815 1137.97 Q203.01 1141.51 203.01 1148.64 Q203.01 1155.75 204.815 1159.31 Q206.644 1162.85 210.255 1162.85 Q213.889 1162.85 215.695 1159.31 Q217.523 1155.75 217.523 1148.64 Q217.523 1141.51 215.695 1137.97 Q213.889 1134.41 210.255 1134.41 M210.255 1130.7 Q216.065 1130.7 219.121 1135.31 Q222.199 1139.89 222.199 1148.64 Q222.199 1157.37 219.121 1161.98 Q216.065 1166.56 210.255 1166.56 Q204.445 1166.56 201.366 1161.98 Q198.311 1157.37 198.311 1148.64 Q198.311 1139.89 201.366 1135.31 Q204.445 1130.7 210.255 1130.7 Z\" fill=\"#000000\" fill-rule=\"nonzero\" fill-opacity=\"1\" /><path clip-path=\"url(#clip140)\" d=\"M230.463 1131.33 L248.82 1131.33 L248.82 1135.26 L234.746 1135.26 L234.746 1143.73 Q235.764 1143.39 236.783 1143.23 Q237.801 1143.04 238.82 1143.04 Q244.607 1143.04 247.986 1146.21 Q251.366 1149.38 251.366 1154.8 Q251.366 1160.38 247.894 1163.48 Q244.421 1166.56 238.102 1166.56 Q235.926 1166.56 233.658 1166.19 Q231.412 1165.82 229.005 1165.08 L229.005 1160.38 Q231.088 1161.51 233.31 1162.07 Q235.533 1162.62 238.009 1162.62 Q242.014 1162.62 244.352 1160.52 Q246.69 1158.41 246.69 1154.8 Q246.69 1151.19 244.352 1149.08 Q242.014 1146.98 238.009 1146.98 Q236.135 1146.98 234.26 1147.39 Q232.408 1147.81 230.463 1148.69 L230.463 1131.33 Z\" fill=\"#000000\" fill-rule=\"nonzero\" fill-opacity=\"1\" /><path clip-path=\"url(#clip140)\" d=\"M114.26 872.826 L143.936 872.826 L143.936 876.761 L114.26 876.761 L114.26 872.826 Z\" fill=\"#000000\" fill-rule=\"nonzero\" fill-opacity=\"1\" /><path clip-path=\"url(#clip140)\" d=\"M158.056 885.719 L174.376 885.719 L174.376 889.655 L152.431 889.655 L152.431 885.719 Q155.093 882.965 159.677 878.335 Q164.283 873.683 165.464 872.34 Q167.709 869.817 168.589 868.081 Q169.491 866.321 169.491 864.632 Q169.491 861.877 167.547 860.141 Q165.626 858.405 162.524 858.405 Q160.325 858.405 157.871 859.169 Q155.44 859.933 152.663 861.484 L152.663 856.761 Q155.487 855.627 157.94 855.048 Q160.394 854.47 162.431 854.47 Q167.802 854.47 170.996 857.155 Q174.19 859.84 174.19 864.331 Q174.19 866.46 173.38 868.382 Q172.593 870.28 170.487 872.872 Q169.908 873.544 166.806 876.761 Q163.704 879.956 158.056 885.719 Z\" fill=\"#000000\" fill-rule=\"nonzero\" fill-opacity=\"1\" /><path clip-path=\"url(#clip140)\" d=\"M184.19 883.775 L189.075 883.775 L189.075 889.655 L184.19 889.655 L184.19 883.775 Z\" fill=\"#000000\" fill-rule=\"nonzero\" fill-opacity=\"1\" /><path clip-path=\"url(#clip140)\" d=\"M209.26 858.173 Q205.649 858.173 203.82 861.738 Q202.014 865.28 202.014 872.409 Q202.014 879.516 203.82 883.081 Q205.649 886.622 209.26 886.622 Q212.894 886.622 214.699 883.081 Q216.528 879.516 216.528 872.409 Q216.528 865.28 214.699 861.738 Q212.894 858.173 209.26 858.173 M209.26 854.47 Q215.07 854.47 218.125 859.076 Q221.204 863.659 221.204 872.409 Q221.204 881.136 218.125 885.743 Q215.07 890.326 209.26 890.326 Q203.449 890.326 200.371 885.743 Q197.315 881.136 197.315 872.409 Q197.315 863.659 200.371 859.076 Q203.449 854.47 209.26 854.47 Z\" fill=\"#000000\" fill-rule=\"nonzero\" fill-opacity=\"1\" /><path clip-path=\"url(#clip140)\" d=\"M239.422 858.173 Q235.81 858.173 233.982 861.738 Q232.176 865.28 232.176 872.409 Q232.176 879.516 233.982 883.081 Q235.81 886.622 239.422 886.622 Q243.056 886.622 244.861 883.081 Q246.69 879.516 246.69 872.409 Q246.69 865.28 244.861 861.738 Q243.056 858.173 239.422 858.173 M239.422 854.47 Q245.232 854.47 248.287 859.076 Q251.366 863.659 251.366 872.409 Q251.366 881.136 248.287 885.743 Q245.232 890.326 239.422 890.326 Q233.611 890.326 230.533 885.743 Q227.477 881.136 227.477 872.409 Q227.477 863.659 230.533 859.076 Q233.611 854.47 239.422 854.47 Z\" fill=\"#000000\" fill-rule=\"nonzero\" fill-opacity=\"1\" /><path clip-path=\"url(#clip140)\" d=\"M115.256 596.594 L144.931 596.594 L144.931 600.529 L115.256 600.529 L115.256 596.594 Z\" fill=\"#000000\" fill-rule=\"nonzero\" fill-opacity=\"1\" /><path clip-path=\"url(#clip140)\" d=\"M155.834 609.487 L163.473 609.487 L163.473 583.122 L155.163 584.788 L155.163 580.529 L163.427 578.862 L168.102 578.862 L168.102 609.487 L175.741 609.487 L175.741 613.422 L155.834 613.422 L155.834 609.487 Z\" fill=\"#000000\" fill-rule=\"nonzero\" fill-opacity=\"1\" /><path clip-path=\"url(#clip140)\" d=\"M185.186 607.543 L190.07 607.543 L190.07 613.422 L185.186 613.422 L185.186 607.543 Z\" fill=\"#000000\" fill-rule=\"nonzero\" fill-opacity=\"1\" /><path clip-path=\"url(#clip140)\" d=\"M200.394 612.705 L200.394 608.445 Q202.153 609.279 203.959 609.719 Q205.764 610.158 207.5 610.158 Q212.13 610.158 214.561 607.057 Q217.014 603.932 217.361 597.589 Q216.019 599.58 213.959 600.645 Q211.899 601.709 209.399 601.709 Q204.213 601.709 201.181 598.584 Q198.172 595.436 198.172 589.996 Q198.172 584.672 201.32 581.455 Q204.468 578.237 209.699 578.237 Q215.695 578.237 218.843 582.844 Q222.014 587.427 222.014 596.177 Q222.014 604.348 218.125 609.232 Q214.26 614.094 207.709 614.094 Q205.949 614.094 204.144 613.746 Q202.338 613.399 200.394 612.705 M209.699 598.052 Q212.848 598.052 214.676 595.899 Q216.528 593.746 216.528 589.996 Q216.528 586.27 214.676 584.117 Q212.848 581.941 209.699 581.941 Q206.551 581.941 204.699 584.117 Q202.871 586.27 202.871 589.996 Q202.871 593.746 204.699 595.899 Q206.551 598.052 209.699 598.052 Z\" fill=\"#000000\" fill-rule=\"nonzero\" fill-opacity=\"1\" /><path clip-path=\"url(#clip140)\" d=\"M230.463 578.862 L248.82 578.862 L248.82 582.797 L234.746 582.797 L234.746 591.27 Q235.764 590.922 236.783 590.76 Q237.801 590.575 238.82 590.575 Q244.607 590.575 247.986 593.746 Q251.366 596.918 251.366 602.334 Q251.366 607.913 247.894 611.015 Q244.421 614.094 238.102 614.094 Q235.926 614.094 233.658 613.723 Q231.412 613.353 229.005 612.612 L229.005 607.913 Q231.088 609.047 233.31 609.603 Q235.533 610.158 238.009 610.158 Q242.014 610.158 244.352 608.052 Q246.69 605.945 246.69 602.334 Q246.69 598.723 244.352 596.617 Q242.014 594.51 238.009 594.51 Q236.135 594.51 234.26 594.927 Q232.408 595.344 230.463 596.223 L230.463 578.862 Z\" fill=\"#000000\" fill-rule=\"nonzero\" fill-opacity=\"1\" /><path clip-path=\"url(#clip140)\" d=\"M114.26 320.361 L143.936 320.361 L143.936 324.296 L114.26 324.296 L114.26 320.361 Z\" fill=\"#000000\" fill-rule=\"nonzero\" fill-opacity=\"1\" /><path clip-path=\"url(#clip140)\" d=\"M154.839 333.255 L162.477 333.255 L162.477 306.889 L154.167 308.556 L154.167 304.297 L162.431 302.63 L167.107 302.63 L167.107 333.255 L174.746 333.255 L174.746 337.19 L154.839 337.19 L154.839 333.255 Z\" fill=\"#000000\" fill-rule=\"nonzero\" fill-opacity=\"1\" /><path clip-path=\"url(#clip140)\" d=\"M184.19 331.31 L189.075 331.31 L189.075 337.19 L184.19 337.19 L184.19 331.31 Z\" fill=\"#000000\" fill-rule=\"nonzero\" fill-opacity=\"1\" /><path clip-path=\"url(#clip140)\" d=\"M199.399 336.472 L199.399 332.213 Q201.158 333.046 202.963 333.486 Q204.769 333.926 206.505 333.926 Q211.135 333.926 213.565 330.824 Q216.019 327.699 216.366 321.357 Q215.024 323.347 212.963 324.412 Q210.903 325.477 208.403 325.477 Q203.218 325.477 200.186 322.352 Q197.176 319.204 197.176 313.764 Q197.176 308.44 200.325 305.222 Q203.473 302.005 208.704 302.005 Q214.699 302.005 217.848 306.611 Q221.019 311.195 221.019 319.945 Q221.019 328.116 217.13 333 Q213.264 337.861 206.713 337.861 Q204.954 337.861 203.149 337.514 Q201.343 337.167 199.399 336.472 M208.704 321.82 Q211.852 321.82 213.681 319.667 Q215.533 317.514 215.533 313.764 Q215.533 310.037 213.681 307.885 Q211.852 305.709 208.704 305.709 Q205.556 305.709 203.704 307.885 Q201.875 310.037 201.875 313.764 Q201.875 317.514 203.704 319.667 Q205.556 321.82 208.704 321.82 Z\" fill=\"#000000\" fill-rule=\"nonzero\" fill-opacity=\"1\" /><path clip-path=\"url(#clip140)\" d=\"M239.422 305.709 Q235.81 305.709 233.982 309.273 Q232.176 312.815 232.176 319.945 Q232.176 327.051 233.982 330.616 Q235.81 334.158 239.422 334.158 Q243.056 334.158 244.861 330.616 Q246.69 327.051 246.69 319.945 Q246.69 312.815 244.861 309.273 Q243.056 305.709 239.422 305.709 M239.422 302.005 Q245.232 302.005 248.287 306.611 Q251.366 311.195 251.366 319.945 Q251.366 328.671 248.287 333.278 Q245.232 337.861 239.422 337.861 Q233.611 337.861 230.533 333.278 Q227.477 328.671 227.477 319.945 Q227.477 311.195 230.533 306.611 Q233.611 302.005 239.422 302.005 Z\" fill=\"#000000\" fill-rule=\"nonzero\" fill-opacity=\"1\" /><path clip-path=\"url(#clip140)\" d=\"M16.4842 825.525 L16.4842 795.479 L21.895 795.479 L21.895 819.095 L35.9632 819.095 L35.9632 796.465 L41.3741 796.465 L41.3741 819.095 L58.5933 819.095 L58.5933 794.906 L64.0042 794.906 L64.0042 825.525 L16.4842 825.525 Z\" fill=\"#000000\" fill-rule=\"nonzero\" fill-opacity=\"1\" /><path clip-path=\"url(#clip140)\" d=\"M16.4842 774.185 L16.4842 768.775 L70.0516 785.325 L70.0516 790.736 L16.4842 774.185 Z\" fill=\"#000000\" fill-rule=\"nonzero\" fill-opacity=\"1\" /><path clip-path=\"url(#clip140)\" d=\"M20.8447 743.089 Q20.8447 750.091 26.0645 754.229 Q31.2844 758.335 40.2919 758.335 Q49.2675 758.335 54.4874 754.229 Q59.7073 750.091 59.7073 743.089 Q59.7073 736.087 54.4874 732.013 Q49.2675 727.907 40.2919 727.907 Q31.2844 727.907 26.0645 732.013 Q20.8447 736.087 20.8447 743.089 M63.1448 734.081 L72.4069 725.615 L72.4069 733.381 L64.7999 740.415 Q64.8635 741.466 64.8954 742.039 Q64.9272 742.58 64.9272 743.089 Q64.9272 753.115 58.2432 759.13 Q51.5274 765.114 40.2919 765.114 Q29.0246 765.114 22.3406 759.13 Q15.6248 753.115 15.6248 743.089 Q15.6248 733.095 22.3406 727.111 Q29.0246 721.127 40.2919 721.127 Q48.5673 721.127 54.4556 724.469 Q60.3439 727.779 63.1448 734.081 Z\" fill=\"#000000\" fill-rule=\"nonzero\" fill-opacity=\"1\" /><path clip-path=\"url(#clip140)\" d=\"M731.789 12.096 L770.029 12.096 L770.029 18.9825 L739.971 18.9825 L739.971 36.8875 L768.773 36.8875 L768.773 43.7741 L739.971 43.7741 L739.971 65.6895 L770.758 65.6895 L770.758 72.576 L731.789 72.576 L731.789 12.096 Z\" fill=\"#000000\" fill-rule=\"nonzero\" fill-opacity=\"1\" /><path clip-path=\"url(#clip140)\" d=\"M821.597 45.1919 L821.597 72.576 L814.143 72.576 L814.143 45.4349 Q814.143 38.994 811.632 35.7938 Q809.12 32.5936 804.097 32.5936 Q798.061 32.5936 794.578 36.4419 Q791.094 40.2903 791.094 46.9338 L791.094 72.576 L783.6 72.576 L783.6 27.2059 L791.094 27.2059 L791.094 34.2544 Q793.767 30.163 797.373 28.1376 Q801.019 26.1121 805.758 26.1121 Q813.576 26.1121 817.587 30.9732 Q821.597 35.7938 821.597 45.1919 Z\" fill=\"#000000\" fill-rule=\"nonzero\" fill-opacity=\"1\" /><path clip-path=\"url(#clip140)\" d=\"M875.272 48.0275 L875.272 51.6733 L841.001 51.6733 Q841.487 59.3701 845.619 63.421 Q849.791 67.4314 857.205 67.4314 Q861.499 67.4314 865.509 66.3781 Q869.56 65.3249 873.53 63.2184 L873.53 70.267 Q869.519 71.9684 865.306 72.8596 Q861.093 73.7508 856.759 73.7508 Q845.903 73.7508 839.543 67.4314 Q833.223 61.1119 833.223 50.3365 Q833.223 39.1965 839.219 32.6746 Q845.254 26.1121 855.463 26.1121 Q864.618 26.1121 869.924 32.0264 Q875.272 37.9003 875.272 48.0275 M867.818 45.84 Q867.737 39.7232 864.375 36.0774 Q861.053 32.4315 855.544 32.4315 Q849.305 32.4315 845.538 35.9558 Q841.811 39.4801 841.244 45.8805 L867.818 45.84 Z\" fill=\"#000000\" fill-rule=\"nonzero\" fill-opacity=\"1\" /><path clip-path=\"url(#clip140)\" d=\"M913.796 34.1734 Q912.54 33.4443 911.041 33.1202 Q909.583 32.7556 907.8 32.7556 Q901.481 32.7556 898.078 36.8875 Q894.716 40.9789 894.716 48.6757 L894.716 72.576 L887.222 72.576 L887.222 27.2059 L894.716 27.2059 L894.716 34.2544 Q897.065 30.1225 900.833 28.1376 Q904.6 26.1121 909.988 26.1121 Q910.758 26.1121 911.689 26.2337 Q912.621 26.3147 913.755 26.5172 L913.796 34.1734 Z\" fill=\"#000000\" fill-rule=\"nonzero\" fill-opacity=\"1\" /><path clip-path=\"url(#clip140)\" d=\"M950.011 49.3643 Q950.011 41.2625 946.649 36.8065 Q943.327 32.3505 937.291 32.3505 Q931.296 32.3505 927.933 36.8065 Q924.612 41.2625 924.612 49.3643 Q924.612 57.4256 927.933 61.8816 Q931.296 66.3376 937.291 66.3376 Q943.327 66.3376 946.649 61.8816 Q950.011 57.4256 950.011 49.3643 M957.464 66.9452 Q957.464 78.5308 952.32 84.1616 Q947.175 89.8329 936.562 89.8329 Q932.632 89.8329 929.149 89.2252 Q925.665 88.6581 922.384 87.4428 L922.384 80.1917 Q925.665 81.9741 928.865 82.8248 Q932.065 83.6755 935.387 83.6755 Q942.719 83.6755 946.365 79.8271 Q950.011 76.0193 950.011 68.282 L950.011 64.5957 Q947.702 68.6061 944.096 70.5911 Q940.491 72.576 935.468 72.576 Q927.123 72.576 922.019 66.2161 Q916.915 59.8562 916.915 49.3643 Q916.915 38.832 922.019 32.472 Q927.123 26.1121 935.468 26.1121 Q940.491 26.1121 944.096 28.0971 Q947.702 30.082 950.011 34.0924 L950.011 27.2059 L957.464 27.2059 L957.464 66.9452 Z\" fill=\"#000000\" fill-rule=\"nonzero\" fill-opacity=\"1\" /><path clip-path=\"url(#clip140)\" d=\"M991.695 76.7889 Q988.535 84.8907 985.537 87.3618 Q982.54 89.8329 977.516 89.8329 L971.562 89.8329 L971.562 83.5945 L975.937 83.5945 Q979.015 83.5945 980.717 82.1361 Q982.418 80.6778 984.484 75.2496 L985.821 71.8468 L967.47 27.2059 L975.369 27.2059 L989.548 62.6918 L1003.73 27.2059 L1011.63 27.2059 L991.695 76.7889 Z\" fill=\"#000000\" fill-rule=\"nonzero\" fill-opacity=\"1\" /><path clip-path=\"url(#clip140)\" d=\"M1065.87 32.4315 Q1059.87 32.4315 1056.39 37.1306 Q1052.9 41.7891 1052.9 49.9314 Q1052.9 58.0738 1056.35 62.7728 Q1059.83 67.4314 1065.87 67.4314 Q1071.82 67.4314 1075.31 62.7323 Q1078.79 58.0333 1078.79 49.9314 Q1078.79 41.8701 1075.31 37.1711 Q1071.82 32.4315 1065.87 32.4315 M1065.87 26.1121 Q1075.59 26.1121 1081.14 32.4315 Q1086.69 38.7509 1086.69 49.9314 Q1086.69 61.0714 1081.14 67.4314 Q1075.59 73.7508 1065.87 73.7508 Q1056.1 73.7508 1050.55 67.4314 Q1045.05 61.0714 1045.05 49.9314 Q1045.05 38.7509 1050.55 32.4315 Q1056.1 26.1121 1065.87 26.1121 Z\" fill=\"#000000\" fill-rule=\"nonzero\" fill-opacity=\"1\" /><path clip-path=\"url(#clip140)\" d=\"M1106.25 65.7705 L1106.25 89.8329 L1098.76 89.8329 L1098.76 27.2059 L1106.25 27.2059 L1106.25 34.0924 Q1108.6 30.0415 1112.17 28.0971 Q1115.77 26.1121 1120.76 26.1121 Q1129.02 26.1121 1134.16 32.6746 Q1139.35 39.2371 1139.35 49.9314 Q1139.35 60.6258 1134.16 67.1883 Q1129.02 73.7508 1120.76 73.7508 Q1115.77 73.7508 1112.17 71.8063 Q1108.6 69.8214 1106.25 65.7705 M1131.61 49.9314 Q1131.61 41.7081 1128.21 37.0496 Q1124.85 32.3505 1118.93 32.3505 Q1113.02 32.3505 1109.62 37.0496 Q1106.25 41.7081 1106.25 49.9314 Q1106.25 58.1548 1109.62 62.8538 Q1113.02 67.5124 1118.93 67.5124 Q1124.85 67.5124 1128.21 62.8538 Q1131.61 58.1548 1131.61 49.9314 Z\" fill=\"#000000\" fill-rule=\"nonzero\" fill-opacity=\"1\" /><path clip-path=\"url(#clip140)\" d=\"M1159.08 14.324 L1159.08 27.2059 L1174.43 27.2059 L1174.43 32.9987 L1159.08 32.9987 L1159.08 57.6282 Q1159.08 63.1779 1160.58 64.7578 Q1162.12 66.3376 1166.77 66.3376 L1174.43 66.3376 L1174.43 72.576 L1166.77 72.576 Q1158.15 72.576 1154.87 69.3758 Q1151.58 66.1351 1151.58 57.6282 L1151.58 32.9987 L1146.12 32.9987 L1146.12 27.2059 L1151.58 27.2059 L1151.58 14.324 L1159.08 14.324 Z\" fill=\"#000000\" fill-rule=\"nonzero\" fill-opacity=\"1\" /><path clip-path=\"url(#clip140)\" d=\"M1184.23 27.2059 L1191.69 27.2059 L1191.69 72.576 L1184.23 72.576 L1184.23 27.2059 M1184.23 9.54393 L1191.69 9.54393 L1191.69 18.9825 L1184.23 18.9825 L1184.23 9.54393 Z\" fill=\"#000000\" fill-rule=\"nonzero\" fill-opacity=\"1\" /><path clip-path=\"url(#clip140)\" d=\"M1242.61 35.9153 Q1245.4 30.8922 1249.29 28.5022 Q1253.18 26.1121 1258.45 26.1121 Q1265.54 26.1121 1269.38 31.0947 Q1273.23 36.0368 1273.23 45.1919 L1273.23 72.576 L1265.74 72.576 L1265.74 45.4349 Q1265.74 38.913 1263.43 35.7533 Q1261.12 32.5936 1256.38 32.5936 Q1250.59 32.5936 1247.23 36.4419 Q1243.86 40.2903 1243.86 46.9338 L1243.86 72.576 L1236.37 72.576 L1236.37 45.4349 Q1236.37 38.8725 1234.06 35.7533 Q1231.75 32.5936 1226.93 32.5936 Q1221.22 32.5936 1217.86 36.4824 Q1214.49 40.3308 1214.49 46.9338 L1214.49 72.576 L1207 72.576 L1207 27.2059 L1214.49 27.2059 L1214.49 34.2544 Q1217.05 30.082 1220.61 28.0971 Q1224.18 26.1121 1229.08 26.1121 Q1234.02 26.1121 1237.46 28.6237 Q1240.95 31.1352 1242.61 35.9153 Z\" fill=\"#000000\" fill-rule=\"nonzero\" fill-opacity=\"1\" /><path clip-path=\"url(#clip140)\" d=\"M1288.1 27.2059 L1295.55 27.2059 L1295.55 72.576 L1288.1 72.576 L1288.1 27.2059 M1288.1 9.54393 L1295.55 9.54393 L1295.55 18.9825 L1288.1 18.9825 L1288.1 9.54393 Z\" fill=\"#000000\" fill-rule=\"nonzero\" fill-opacity=\"1\" /><path clip-path=\"url(#clip140)\" d=\"M1340.07 28.5427 L1340.07 35.5912 Q1336.91 33.9709 1333.51 33.1607 Q1330.11 32.3505 1326.46 32.3505 Q1320.91 32.3505 1318.12 34.0519 Q1315.36 35.7533 1315.36 39.156 Q1315.36 41.7486 1317.35 43.2475 Q1319.33 44.7058 1325.33 46.0426 L1327.88 46.6097 Q1335.82 48.3111 1339.14 51.4303 Q1342.5 54.509 1342.5 60.0587 Q1342.5 66.3781 1337.48 70.0644 Q1332.5 73.7508 1323.75 73.7508 Q1320.1 73.7508 1316.13 73.0216 Q1312.2 72.3329 1307.83 70.9151 L1307.83 63.2184 Q1311.96 65.3654 1315.97 66.4591 Q1319.98 67.5124 1323.91 67.5124 Q1329.18 67.5124 1332.01 65.73 Q1334.85 63.9071 1334.85 60.6258 Q1334.85 57.5877 1332.78 55.9673 Q1330.76 54.3469 1323.83 52.8481 L1321.24 52.2405 Q1314.31 50.7821 1311.23 47.7845 Q1308.15 44.7463 1308.15 39.4801 Q1308.15 33.0797 1312.69 29.5959 Q1317.23 26.1121 1325.57 26.1121 Q1329.7 26.1121 1333.35 26.7198 Q1336.99 27.3274 1340.07 28.5427 Z\" fill=\"#000000\" fill-rule=\"nonzero\" fill-opacity=\"1\" /><path clip-path=\"url(#clip140)\" d=\"M1374.99 49.7694 Q1365.96 49.7694 1362.47 51.8354 Q1358.99 53.9013 1358.99 58.8839 Q1358.99 62.8538 1361.58 65.2034 Q1364.22 67.5124 1368.71 67.5124 Q1374.91 67.5124 1378.64 63.1374 Q1382.4 58.7219 1382.4 51.4303 L1382.4 49.7694 L1374.99 49.7694 M1389.86 46.6907 L1389.86 72.576 L1382.4 72.576 L1382.4 65.6895 Q1379.85 69.8214 1376.04 71.8063 Q1372.24 73.7508 1366.73 73.7508 Q1359.76 73.7508 1355.63 69.8619 Q1351.54 65.9325 1351.54 59.3701 Q1351.54 51.7138 1356.64 47.825 Q1361.79 43.9361 1371.95 43.9361 L1382.4 43.9361 L1382.4 43.2069 Q1382.4 38.0623 1379 35.2672 Q1375.64 32.4315 1369.52 32.4315 Q1365.63 32.4315 1361.95 33.3632 Q1358.26 34.295 1354.86 36.1584 L1354.86 29.2718 Q1358.95 27.692 1362.8 26.9223 Q1366.65 26.1121 1370.29 26.1121 Q1380.14 26.1121 1385 31.2163 Q1389.86 36.3204 1389.86 46.6907 Z\" fill=\"#000000\" fill-rule=\"nonzero\" fill-opacity=\"1\" /><path clip-path=\"url(#clip140)\" d=\"M1412.58 14.324 L1412.58 27.2059 L1427.94 27.2059 L1427.94 32.9987 L1412.58 32.9987 L1412.58 57.6282 Q1412.58 63.1779 1414.08 64.7578 Q1415.62 66.3376 1420.28 66.3376 L1427.94 66.3376 L1427.94 72.576 L1420.28 72.576 Q1411.65 72.576 1408.37 69.3758 Q1405.09 66.1351 1405.09 57.6282 L1405.09 32.9987 L1399.62 32.9987 L1399.62 27.2059 L1405.09 27.2059 L1405.09 14.324 L1412.58 14.324 Z\" fill=\"#000000\" fill-rule=\"nonzero\" fill-opacity=\"1\" /><path clip-path=\"url(#clip140)\" d=\"M1437.74 27.2059 L1445.19 27.2059 L1445.19 72.576 L1437.74 72.576 L1437.74 27.2059 M1437.74 9.54393 L1445.19 9.54393 L1445.19 18.9825 L1437.74 18.9825 L1437.74 9.54393 Z\" fill=\"#000000\" fill-rule=\"nonzero\" fill-opacity=\"1\" /><path clip-path=\"url(#clip140)\" d=\"M1478.37 32.4315 Q1472.37 32.4315 1468.89 37.1306 Q1465.41 41.7891 1465.41 49.9314 Q1465.41 58.0738 1468.85 62.7728 Q1472.33 67.4314 1478.37 67.4314 Q1484.33 67.4314 1487.81 62.7323 Q1491.29 58.0333 1491.29 49.9314 Q1491.29 41.8701 1487.81 37.1711 Q1484.33 32.4315 1478.37 32.4315 M1478.37 26.1121 Q1488.09 26.1121 1493.64 32.4315 Q1499.19 38.7509 1499.19 49.9314 Q1499.19 61.0714 1493.64 67.4314 Q1488.09 73.7508 1478.37 73.7508 Q1468.61 73.7508 1463.06 67.4314 Q1457.55 61.0714 1457.55 49.9314 Q1457.55 38.7509 1463.06 32.4315 Q1468.61 26.1121 1478.37 26.1121 Z\" fill=\"#000000\" fill-rule=\"nonzero\" fill-opacity=\"1\" /><path clip-path=\"url(#clip140)\" d=\"M1549.26 45.1919 L1549.26 72.576 L1541.81 72.576 L1541.81 45.4349 Q1541.81 38.994 1539.3 35.7938 Q1536.78 32.5936 1531.76 32.5936 Q1525.73 32.5936 1522.24 36.4419 Q1518.76 40.2903 1518.76 46.9338 L1518.76 72.576 L1511.26 72.576 L1511.26 27.2059 L1518.76 27.2059 L1518.76 34.2544 Q1521.43 30.163 1525.04 28.1376 Q1528.68 26.1121 1533.42 26.1121 Q1541.24 26.1121 1545.25 30.9732 Q1549.26 35.7938 1549.26 45.1919 Z\" fill=\"#000000\" fill-rule=\"nonzero\" fill-opacity=\"1\" /><path clip-path=\"url(#clip140)\" d=\"M1586.16 27.2059 L1593.62 27.2059 L1602.94 62.6108 L1612.21 27.2059 L1621 27.2059 L1630.32 62.6108 L1639.6 27.2059 L1647.05 27.2059 L1635.18 72.576 L1626.39 72.576 L1616.63 35.3887 L1606.82 72.576 L1598.03 72.576 L1586.16 27.2059 Z\" fill=\"#000000\" fill-rule=\"nonzero\" fill-opacity=\"1\" /><path clip-path=\"url(#clip140)\" d=\"M1658.35 27.2059 L1665.81 27.2059 L1665.81 72.576 L1658.35 72.576 L1658.35 27.2059 M1658.35 9.54393 L1665.81 9.54393 L1665.81 18.9825 L1658.35 18.9825 L1658.35 9.54393 Z\" fill=\"#000000\" fill-rule=\"nonzero\" fill-opacity=\"1\" /><path clip-path=\"url(#clip140)\" d=\"M1688.77 14.324 L1688.77 27.2059 L1704.13 27.2059 L1704.13 32.9987 L1688.77 32.9987 L1688.77 57.6282 Q1688.77 63.1779 1690.27 64.7578 Q1691.81 66.3376 1696.47 66.3376 L1704.13 66.3376 L1704.13 72.576 L1696.47 72.576 Q1687.84 72.576 1684.56 69.3758 Q1681.28 66.1351 1681.28 57.6282 L1681.28 32.9987 L1675.81 32.9987 L1675.81 27.2059 L1681.28 27.2059 L1681.28 14.324 L1688.77 14.324 Z\" fill=\"#000000\" fill-rule=\"nonzero\" fill-opacity=\"1\" /><path clip-path=\"url(#clip140)\" d=\"M1751.64 45.1919 L1751.64 72.576 L1744.19 72.576 L1744.19 45.4349 Q1744.19 38.994 1741.68 35.7938 Q1739.17 32.5936 1734.14 32.5936 Q1728.11 32.5936 1724.62 36.4419 Q1721.14 40.2903 1721.14 46.9338 L1721.14 72.576 L1713.65 72.576 L1713.65 9.54393 L1721.14 9.54393 L1721.14 34.2544 Q1723.81 30.163 1727.42 28.1376 Q1731.07 26.1121 1735.81 26.1121 Q1743.62 26.1121 1747.63 30.9732 Q1751.64 35.7938 1751.64 45.1919 Z\" fill=\"#000000\" fill-rule=\"nonzero\" fill-opacity=\"1\" /><path clip-path=\"url(#clip140)\" d=\"M1834.44 63.9476 L1834.44 47.7034 L1821.08 47.7034 L1821.08 40.9789 L1842.55 40.9789 L1842.55 66.9452 Q1837.81 70.3075 1832.1 72.0494 Q1826.38 73.7508 1819.9 73.7508 Q1805.72 73.7508 1797.7 65.4869 Q1789.72 57.1826 1789.72 42.3968 Q1789.72 27.5705 1797.7 19.3066 Q1805.72 11.0023 1819.9 11.0023 Q1825.82 11.0023 1831.12 12.4606 Q1836.47 13.9189 1840.97 16.7545 L1840.97 25.464 Q1836.43 21.6156 1831.33 19.6712 Q1826.22 17.7268 1820.59 17.7268 Q1809.49 17.7268 1803.9 23.9246 Q1798.35 30.1225 1798.35 42.3968 Q1798.35 54.6305 1803.9 60.8284 Q1809.49 67.0263 1820.59 67.0263 Q1824.93 67.0263 1828.33 66.2971 Q1831.73 65.5274 1834.44 63.9476 Z\" fill=\"#000000\" fill-rule=\"nonzero\" fill-opacity=\"1\" /><path clip-path=\"url(#clip140)\" d=\"M1865.68 18.8205 L1865.68 65.8515 L1875.56 65.8515 Q1888.08 65.8515 1893.87 60.1802 Q1899.7 54.509 1899.7 42.2752 Q1899.7 30.1225 1893.87 24.4918 Q1888.08 18.8205 1875.56 18.8205 L1865.68 18.8205 M1857.49 12.096 L1874.31 12.096 Q1891.89 12.096 1900.11 19.4281 Q1908.33 26.7198 1908.33 42.2752 Q1908.33 57.9117 1900.07 65.2439 Q1891.81 72.576 1874.31 72.576 L1857.49 72.576 L1857.49 12.096 Z\" fill=\"#000000\" fill-rule=\"nonzero\" fill-opacity=\"1\" /><polyline clip-path=\"url(#clip142)\" style=\"stroke:#009af9; stroke-linecap:round; stroke-linejoin:round; stroke-width:4; stroke-opacity:1; fill:none\" points=\"345.82,160.256 365.502,1118.15 385.184,1311.76 404.865,1346.29 424.547,1353.24 444.228,1355.39 463.91,1356.66 483.592,1357.74 503.273,1358.74 522.955,1359.7 542.637,1360.63 562.318,1361.53 582,1362.41 601.681,1363.26 621.363,1364.09 641.045,1364.89 660.726,1365.67 680.408,1366.43 700.09,1367.17 719.771,1367.88 739.453,1368.57 759.135,1369.24 778.816,1369.89 798.498,1370.52 818.179,1371.13 837.861,1371.72 857.543,1372.29 877.224,1372.84 896.906,1373.37 916.588,1373.89 936.269,1374.39 955.951,1374.87 975.632,1375.33 995.314,1375.78 1015,1376.21 1034.68,1376.63 1054.36,1377.03 1074.04,1377.42 1093.72,1377.79 1113.4,1378.15 1133.09,1378.5 1152.77,1378.83 1172.45,1379.15 1192.13,1379.46 1211.81,1379.76 1231.49,1380.05 1251.18,1380.32 1270.86,1380.59 1290.54,1380.84 1310.22,1381.09 1329.9,1381.33 1349.58,1381.55 1369.26,1381.77 1388.95,1381.98 1408.63,1382.18 1428.31,1382.38 1447.99,1382.57 1467.67,1382.74 1487.35,1382.92 1507.04,1383.08 1526.72,1383.24 1546.4,1383.4 1566.08,1383.54 1585.76,1383.69 1605.44,1383.82 1625.13,1383.95 1644.81,1384.08 1664.49,1384.2 1684.17,1384.32 1703.85,1384.43 1723.53,1384.53 1743.22,1384.64 1762.9,1384.74 1782.58,1384.83 1802.26,1384.92 1821.94,1385.01 1841.62,1385.1 1861.31,1385.18 1880.99,1385.26 1900.67,1385.34 1920.35,1385.41 1940.03,1385.48 1959.71,1385.55 1979.4,1385.61 1999.08,1385.67 2018.76,1385.74 2038.44,1385.79 2058.12,1385.85 2077.8,1385.9 2097.49,1385.96 2117.17,1386.01 2136.85,1386.06 2156.53,1386.1 2176.21,1386.15 2195.89,1386.19 2215.57,1386.24 2235.26,1386.28 2254.94,1386.32 2274.62,1386.36 2294.3,1386.4 \"/>\n",
       "<path clip-path=\"url(#clip140)\" d=\"M2024.94 270.476 L2283.91 270.476 L2283.91 166.796 L2024.94 166.796  Z\" fill=\"#ffffff\" fill-rule=\"evenodd\" fill-opacity=\"1\"/>\n",
       "<polyline clip-path=\"url(#clip140)\" style=\"stroke:#000000; stroke-linecap:round; stroke-linejoin:round; stroke-width:4; stroke-opacity:1; fill:none\" points=\"2024.94,270.476 2283.91,270.476 2283.91,166.796 2024.94,166.796 2024.94,270.476 \"/>\n",
       "<polyline clip-path=\"url(#clip140)\" style=\"stroke:#009af9; stroke-linecap:round; stroke-linejoin:round; stroke-width:4; stroke-opacity:1; fill:none\" points=\"2047.89,218.636 2185.58,218.636 \"/>\n",
       "<path clip-path=\"url(#clip140)\" d=\"M2222.37 238.323 Q2220.57 242.953 2218.85 244.365 Q2217.14 245.777 2214.27 245.777 L2210.87 245.777 L2210.87 242.212 L2213.37 242.212 Q2215.13 242.212 2216.1 241.379 Q2217.07 240.545 2218.25 237.443 L2219.02 235.499 L2208.53 209.99 L2213.04 209.99 L2221.15 230.268 L2229.25 209.99 L2233.76 209.99 L2222.37 238.323 Z\" fill=\"#000000\" fill-rule=\"nonzero\" fill-opacity=\"1\" /><path clip-path=\"url(#clip140)\" d=\"M2241.05 231.981 L2248.69 231.981 L2248.69 205.615 L2240.38 207.282 L2240.38 203.022 L2248.65 201.356 L2253.32 201.356 L2253.32 231.981 L2260.96 231.981 L2260.96 235.916 L2241.05 235.916 L2241.05 231.981 Z\" fill=\"#000000\" fill-rule=\"nonzero\" fill-opacity=\"1\" /></svg>\n"
      ],
      "text/html": [
       "<?xml version=\"1.0\" encoding=\"utf-8\"?>\n",
       "<svg xmlns=\"http://www.w3.org/2000/svg\" xmlns:xlink=\"http://www.w3.org/1999/xlink\" width=\"600\" height=\"400\" viewBox=\"0 0 2400 1600\">\n",
       "<defs>\n",
       "  <clipPath id=\"clip190\">\n",
       "    <rect x=\"0\" y=\"0\" width=\"2400\" height=\"1600\"/>\n",
       "  </clipPath>\n",
       "</defs>\n",
       "<path clip-path=\"url(#clip190)\" d=\"M0 1600 L2400 1600 L2400 0 L0 0  Z\" fill=\"#ffffff\" fill-rule=\"evenodd\" fill-opacity=\"1\"/>\n",
       "<defs>\n",
       "  <clipPath id=\"clip191\">\n",
       "    <rect x=\"480\" y=\"0\" width=\"1681\" height=\"1600\"/>\n",
       "  </clipPath>\n",
       "</defs>\n",
       "<path clip-path=\"url(#clip190)\" d=\"M287.366 1423.18 L2352.76 1423.18 L2352.76 123.472 L287.366 123.472  Z\" fill=\"#ffffff\" fill-rule=\"evenodd\" fill-opacity=\"1\"/>\n",
       "<defs>\n",
       "  <clipPath id=\"clip192\">\n",
       "    <rect x=\"287\" y=\"123\" width=\"2066\" height=\"1301\"/>\n",
       "  </clipPath>\n",
       "</defs>\n",
       "<polyline clip-path=\"url(#clip192)\" style=\"stroke:#000000; stroke-linecap:round; stroke-linejoin:round; stroke-width:2; stroke-opacity:0.1; fill:none\" points=\"326.139,1423.18 326.139,123.472 \"/>\n",
       "<polyline clip-path=\"url(#clip192)\" style=\"stroke:#000000; stroke-linecap:round; stroke-linejoin:round; stroke-width:2; stroke-opacity:0.1; fill:none\" points=\"818.179,1423.18 818.179,123.472 \"/>\n",
       "<polyline clip-path=\"url(#clip192)\" style=\"stroke:#000000; stroke-linecap:round; stroke-linejoin:round; stroke-width:2; stroke-opacity:0.1; fill:none\" points=\"1310.22,1423.18 1310.22,123.472 \"/>\n",
       "<polyline clip-path=\"url(#clip192)\" style=\"stroke:#000000; stroke-linecap:round; stroke-linejoin:round; stroke-width:2; stroke-opacity:0.1; fill:none\" points=\"1802.26,1423.18 1802.26,123.472 \"/>\n",
       "<polyline clip-path=\"url(#clip192)\" style=\"stroke:#000000; stroke-linecap:round; stroke-linejoin:round; stroke-width:2; stroke-opacity:0.1; fill:none\" points=\"2294.3,1423.18 2294.3,123.472 \"/>\n",
       "<polyline clip-path=\"url(#clip192)\" style=\"stroke:#000000; stroke-linecap:round; stroke-linejoin:round; stroke-width:2; stroke-opacity:0.1; fill:none\" points=\"287.366,1148.61 2352.76,1148.61 \"/>\n",
       "<polyline clip-path=\"url(#clip192)\" style=\"stroke:#000000; stroke-linecap:round; stroke-linejoin:round; stroke-width:2; stroke-opacity:0.1; fill:none\" points=\"287.366,872.375 2352.76,872.375 \"/>\n",
       "<polyline clip-path=\"url(#clip192)\" style=\"stroke:#000000; stroke-linecap:round; stroke-linejoin:round; stroke-width:2; stroke-opacity:0.1; fill:none\" points=\"287.366,596.142 2352.76,596.142 \"/>\n",
       "<polyline clip-path=\"url(#clip192)\" style=\"stroke:#000000; stroke-linecap:round; stroke-linejoin:round; stroke-width:2; stroke-opacity:0.1; fill:none\" points=\"287.366,319.91 2352.76,319.91 \"/>\n",
       "<polyline clip-path=\"url(#clip190)\" style=\"stroke:#000000; stroke-linecap:round; stroke-linejoin:round; stroke-width:4; stroke-opacity:1; fill:none\" points=\"287.366,1423.18 2352.76,1423.18 \"/>\n",
       "<polyline clip-path=\"url(#clip190)\" style=\"stroke:#000000; stroke-linecap:round; stroke-linejoin:round; stroke-width:4; stroke-opacity:1; fill:none\" points=\"326.139,1423.18 326.139,1404.28 \"/>\n",
       "<polyline clip-path=\"url(#clip190)\" style=\"stroke:#000000; stroke-linecap:round; stroke-linejoin:round; stroke-width:4; stroke-opacity:1; fill:none\" points=\"818.179,1423.18 818.179,1404.28 \"/>\n",
       "<polyline clip-path=\"url(#clip190)\" style=\"stroke:#000000; stroke-linecap:round; stroke-linejoin:round; stroke-width:4; stroke-opacity:1; fill:none\" points=\"1310.22,1423.18 1310.22,1404.28 \"/>\n",
       "<polyline clip-path=\"url(#clip190)\" style=\"stroke:#000000; stroke-linecap:round; stroke-linejoin:round; stroke-width:4; stroke-opacity:1; fill:none\" points=\"1802.26,1423.18 1802.26,1404.28 \"/>\n",
       "<polyline clip-path=\"url(#clip190)\" style=\"stroke:#000000; stroke-linecap:round; stroke-linejoin:round; stroke-width:4; stroke-opacity:1; fill:none\" points=\"2294.3,1423.18 2294.3,1404.28 \"/>\n",
       "<path clip-path=\"url(#clip190)\" d=\"M326.139 1454.1 Q322.528 1454.1 320.699 1457.66 Q318.893 1461.2 318.893 1468.33 Q318.893 1475.44 320.699 1479.01 Q322.528 1482.55 326.139 1482.55 Q329.773 1482.55 331.578 1479.01 Q333.407 1475.44 333.407 1468.33 Q333.407 1461.2 331.578 1457.66 Q329.773 1454.1 326.139 1454.1 M326.139 1450.39 Q331.949 1450.39 335.004 1455 Q338.083 1459.58 338.083 1468.33 Q338.083 1477.06 335.004 1481.67 Q331.949 1486.25 326.139 1486.25 Q320.329 1486.25 317.25 1481.67 Q314.194 1477.06 314.194 1468.33 Q314.194 1459.58 317.25 1455 Q320.329 1450.39 326.139 1450.39 Z\" fill=\"#000000\" fill-rule=\"nonzero\" fill-opacity=\"1\" /><path clip-path=\"url(#clip190)\" d=\"M797.45 1481.64 L813.77 1481.64 L813.77 1485.58 L791.825 1485.58 L791.825 1481.64 Q794.487 1478.89 799.071 1474.26 Q803.677 1469.61 804.858 1468.27 Q807.103 1465.74 807.983 1464.01 Q808.885 1462.25 808.885 1460.56 Q808.885 1457.8 806.941 1456.07 Q805.02 1454.33 801.918 1454.33 Q799.719 1454.33 797.265 1455.09 Q794.835 1455.86 792.057 1457.41 L792.057 1452.69 Q794.881 1451.55 797.335 1450.97 Q799.788 1450.39 801.825 1450.39 Q807.196 1450.39 810.39 1453.08 Q813.585 1455.77 813.585 1460.26 Q813.585 1462.39 812.774 1464.31 Q811.987 1466.2 809.881 1468.8 Q809.302 1469.47 806.2 1472.69 Q803.098 1475.88 797.45 1481.64 Z\" fill=\"#000000\" fill-rule=\"nonzero\" fill-opacity=\"1\" /><path clip-path=\"url(#clip190)\" d=\"M823.631 1451.02 L841.987 1451.02 L841.987 1454.96 L827.913 1454.96 L827.913 1463.43 Q828.932 1463.08 829.95 1462.92 Q830.969 1462.73 831.987 1462.73 Q837.774 1462.73 841.154 1465.9 Q844.533 1469.08 844.533 1474.49 Q844.533 1480.07 841.061 1483.17 Q837.589 1486.25 831.27 1486.25 Q829.094 1486.25 826.825 1485.88 Q824.58 1485.51 822.172 1484.77 L822.172 1480.07 Q824.256 1481.2 826.478 1481.76 Q828.7 1482.32 831.177 1482.32 Q835.182 1482.32 837.52 1480.21 Q839.858 1478.1 839.858 1474.49 Q839.858 1470.88 837.52 1468.77 Q835.182 1466.67 831.177 1466.67 Q829.302 1466.67 827.427 1467.08 Q825.575 1467.5 823.631 1468.38 L823.631 1451.02 Z\" fill=\"#000000\" fill-rule=\"nonzero\" fill-opacity=\"1\" /><path clip-path=\"url(#clip190)\" d=\"M1284.92 1451.02 L1303.28 1451.02 L1303.28 1454.96 L1289.2 1454.96 L1289.2 1463.43 Q1290.22 1463.08 1291.24 1462.92 Q1292.26 1462.73 1293.28 1462.73 Q1299.06 1462.73 1302.44 1465.9 Q1305.82 1469.08 1305.82 1474.49 Q1305.82 1480.07 1302.35 1483.17 Q1298.88 1486.25 1292.56 1486.25 Q1290.38 1486.25 1288.11 1485.88 Q1285.87 1485.51 1283.46 1484.77 L1283.46 1480.07 Q1285.54 1481.2 1287.77 1481.76 Q1289.99 1482.32 1292.47 1482.32 Q1296.47 1482.32 1298.81 1480.21 Q1301.15 1478.1 1301.15 1474.49 Q1301.15 1470.88 1298.81 1468.77 Q1296.47 1466.67 1292.47 1466.67 Q1290.59 1466.67 1288.72 1467.08 Q1286.86 1467.5 1284.92 1468.38 L1284.92 1451.02 Z\" fill=\"#000000\" fill-rule=\"nonzero\" fill-opacity=\"1\" /><path clip-path=\"url(#clip190)\" d=\"M1325.03 1454.1 Q1321.42 1454.1 1319.6 1457.66 Q1317.79 1461.2 1317.79 1468.33 Q1317.79 1475.44 1319.6 1479.01 Q1321.42 1482.55 1325.03 1482.55 Q1328.67 1482.55 1330.47 1479.01 Q1332.3 1475.44 1332.3 1468.33 Q1332.3 1461.2 1330.47 1457.66 Q1328.67 1454.1 1325.03 1454.1 M1325.03 1450.39 Q1330.84 1450.39 1333.9 1455 Q1336.98 1459.58 1336.98 1468.33 Q1336.98 1477.06 1333.9 1481.67 Q1330.84 1486.25 1325.03 1486.25 Q1319.22 1486.25 1316.15 1481.67 Q1313.09 1477.06 1313.09 1468.33 Q1313.09 1459.58 1316.15 1455 Q1319.22 1450.39 1325.03 1450.39 Z\" fill=\"#000000\" fill-rule=\"nonzero\" fill-opacity=\"1\" /><path clip-path=\"url(#clip190)\" d=\"M1776.12 1451.02 L1798.34 1451.02 L1798.34 1453.01 L1785.79 1485.58 L1780.91 1485.58 L1792.71 1454.96 L1776.12 1454.96 L1776.12 1451.02 Z\" fill=\"#000000\" fill-rule=\"nonzero\" fill-opacity=\"1\" /><path clip-path=\"url(#clip190)\" d=\"M1807.5 1451.02 L1825.86 1451.02 L1825.86 1454.96 L1811.79 1454.96 L1811.79 1463.43 Q1812.8 1463.08 1813.82 1462.92 Q1814.84 1462.73 1815.86 1462.73 Q1821.65 1462.73 1825.03 1465.9 Q1828.41 1469.08 1828.41 1474.49 Q1828.41 1480.07 1824.93 1483.17 Q1821.46 1486.25 1815.14 1486.25 Q1812.97 1486.25 1810.7 1485.88 Q1808.45 1485.51 1806.05 1484.77 L1806.05 1480.07 Q1808.13 1481.2 1810.35 1481.76 Q1812.57 1482.32 1815.05 1482.32 Q1819.05 1482.32 1821.39 1480.21 Q1823.73 1478.1 1823.73 1474.49 Q1823.73 1470.88 1821.39 1468.77 Q1819.05 1466.67 1815.05 1466.67 Q1813.18 1466.67 1811.3 1467.08 Q1809.45 1467.5 1807.5 1468.38 L1807.5 1451.02 Z\" fill=\"#000000\" fill-rule=\"nonzero\" fill-opacity=\"1\" /><path clip-path=\"url(#clip190)\" d=\"M2253.91 1481.64 L2261.55 1481.64 L2261.55 1455.28 L2253.24 1456.95 L2253.24 1452.69 L2261.5 1451.02 L2266.18 1451.02 L2266.18 1481.64 L2273.82 1481.64 L2273.82 1485.58 L2253.91 1485.58 L2253.91 1481.64 Z\" fill=\"#000000\" fill-rule=\"nonzero\" fill-opacity=\"1\" /><path clip-path=\"url(#clip190)\" d=\"M2293.26 1454.1 Q2289.65 1454.1 2287.82 1457.66 Q2286.01 1461.2 2286.01 1468.33 Q2286.01 1475.44 2287.82 1479.01 Q2289.65 1482.55 2293.26 1482.55 Q2296.89 1482.55 2298.7 1479.01 Q2300.53 1475.44 2300.53 1468.33 Q2300.53 1461.2 2298.7 1457.66 Q2296.89 1454.1 2293.26 1454.1 M2293.26 1450.39 Q2299.07 1450.39 2302.13 1455 Q2305.2 1459.58 2305.2 1468.33 Q2305.2 1477.06 2302.13 1481.67 Q2299.07 1486.25 2293.26 1486.25 Q2287.45 1486.25 2284.37 1481.67 Q2281.32 1477.06 2281.32 1468.33 Q2281.32 1459.58 2284.37 1455 Q2287.45 1450.39 2293.26 1450.39 Z\" fill=\"#000000\" fill-rule=\"nonzero\" fill-opacity=\"1\" /><path clip-path=\"url(#clip190)\" d=\"M2323.42 1454.1 Q2319.81 1454.1 2317.98 1457.66 Q2316.18 1461.2 2316.18 1468.33 Q2316.18 1475.44 2317.98 1479.01 Q2319.81 1482.55 2323.42 1482.55 Q2327.06 1482.55 2328.86 1479.01 Q2330.69 1475.44 2330.69 1468.33 Q2330.69 1461.2 2328.86 1457.66 Q2327.06 1454.1 2323.42 1454.1 M2323.42 1450.39 Q2329.23 1450.39 2332.29 1455 Q2335.37 1459.58 2335.37 1468.33 Q2335.37 1477.06 2332.29 1481.67 Q2329.23 1486.25 2323.42 1486.25 Q2317.61 1486.25 2314.53 1481.67 Q2311.48 1477.06 2311.48 1468.33 Q2311.48 1459.58 2314.53 1455 Q2317.61 1450.39 2323.42 1450.39 Z\" fill=\"#000000\" fill-rule=\"nonzero\" fill-opacity=\"1\" /><path clip-path=\"url(#clip190)\" d=\"M1171.64 1537.87 Q1170.66 1537.3 1169.48 1537.04 Q1168.33 1536.76 1166.93 1536.76 Q1161.97 1536.76 1159.29 1540 Q1156.65 1543.22 1156.65 1549.27 L1156.65 1568.04 L1150.76 1568.04 L1150.76 1532.4 L1156.65 1532.4 L1156.65 1537.93 Q1158.5 1534.69 1161.46 1533.13 Q1164.42 1531.54 1168.65 1531.54 Q1169.26 1531.54 1169.99 1531.63 Q1170.72 1531.7 1171.61 1531.85 L1171.64 1537.87 Z\" fill=\"#000000\" fill-rule=\"nonzero\" fill-opacity=\"1\" /><path clip-path=\"url(#clip190)\" d=\"M1177.18 1553.98 L1177.18 1532.4 L1183.04 1532.4 L1183.04 1553.75 Q1183.04 1558.81 1185.01 1561.36 Q1186.99 1563.87 1190.93 1563.87 Q1195.67 1563.87 1198.41 1560.85 Q1201.18 1557.83 1201.18 1552.61 L1201.18 1532.4 L1207.04 1532.4 L1207.04 1568.04 L1201.18 1568.04 L1201.18 1562.57 Q1199.05 1565.82 1196.22 1567.41 Q1193.42 1568.97 1189.69 1568.97 Q1183.55 1568.97 1180.37 1565.15 Q1177.18 1561.33 1177.18 1553.98 M1191.92 1531.54 L1191.92 1531.54 Z\" fill=\"#000000\" fill-rule=\"nonzero\" fill-opacity=\"1\" /><path clip-path=\"url(#clip190)\" d=\"M1248.73 1546.53 L1248.73 1568.04 L1242.88 1568.04 L1242.88 1546.72 Q1242.88 1541.66 1240.9 1539.14 Q1238.93 1536.63 1234.98 1536.63 Q1230.24 1536.63 1227.5 1539.65 Q1224.77 1542.68 1224.77 1547.9 L1224.77 1568.04 L1218.88 1568.04 L1218.88 1532.4 L1224.77 1532.4 L1224.77 1537.93 Q1226.87 1534.72 1229.7 1533.13 Q1232.56 1531.54 1236.29 1531.54 Q1242.43 1531.54 1245.58 1535.36 Q1248.73 1539.14 1248.73 1546.53 Z\" fill=\"#000000\" fill-rule=\"nonzero\" fill-opacity=\"1\" /><path clip-path=\"url(#clip190)\" d=\"M1283.14 1533.45 L1283.14 1538.98 Q1280.66 1537.71 1277.98 1537.07 Q1275.31 1536.44 1272.45 1536.44 Q1268.08 1536.44 1265.89 1537.77 Q1263.72 1539.11 1263.72 1541.79 Q1263.72 1543.82 1265.28 1545 Q1266.84 1546.15 1271.55 1547.2 L1273.56 1547.64 Q1279.8 1548.98 1282.41 1551.43 Q1285.05 1553.85 1285.05 1558.21 Q1285.05 1563.17 1281.1 1566.07 Q1277.19 1568.97 1270.31 1568.97 Q1267.45 1568.97 1264.33 1568.39 Q1261.24 1567.85 1257.8 1566.74 L1257.8 1560.69 Q1261.05 1562.38 1264.2 1563.24 Q1267.35 1564.07 1270.44 1564.07 Q1274.58 1564.07 1276.81 1562.66 Q1279.03 1561.23 1279.03 1558.65 Q1279.03 1556.27 1277.41 1554.99 Q1275.82 1553.72 1270.38 1552.54 L1268.34 1552.07 Q1262.9 1550.92 1260.48 1548.56 Q1258.06 1546.18 1258.06 1542.04 Q1258.06 1537.01 1261.62 1534.27 Q1265.19 1531.54 1271.75 1531.54 Q1274.99 1531.54 1277.86 1532.01 Q1280.72 1532.49 1283.14 1533.45 Z\" fill=\"#000000\" fill-rule=\"nonzero\" fill-opacity=\"1\" /><path clip-path=\"url(#clip190)\" d=\"M1328.91 1536.5 Q1324.2 1536.5 1321.46 1540.19 Q1318.72 1543.85 1318.72 1550.25 Q1318.72 1556.65 1321.43 1560.34 Q1324.17 1564 1328.91 1564 Q1333.59 1564 1336.33 1560.31 Q1339.06 1556.62 1339.06 1550.25 Q1339.06 1543.92 1336.33 1540.23 Q1333.59 1536.5 1328.91 1536.5 M1328.91 1531.54 Q1336.55 1531.54 1340.91 1536.5 Q1345.27 1541.47 1345.27 1550.25 Q1345.27 1559 1340.91 1564 Q1336.55 1568.97 1328.91 1568.97 Q1321.24 1568.97 1316.88 1564 Q1312.55 1559 1312.55 1550.25 Q1312.55 1541.47 1316.88 1536.5 Q1321.24 1531.54 1328.91 1531.54 Z\" fill=\"#000000\" fill-rule=\"nonzero\" fill-opacity=\"1\" /><path clip-path=\"url(#clip190)\" d=\"M1373.02 1518.52 L1373.02 1523.39 L1367.42 1523.39 Q1364.27 1523.39 1363.03 1524.66 Q1361.82 1525.93 1361.82 1529.24 L1361.82 1532.4 L1371.46 1532.4 L1371.46 1536.95 L1361.82 1536.95 L1361.82 1568.04 L1355.93 1568.04 L1355.93 1536.95 L1350.33 1536.95 L1350.33 1532.4 L1355.93 1532.4 L1355.93 1529.91 Q1355.93 1523.96 1358.7 1521.26 Q1361.47 1518.52 1367.49 1518.52 L1373.02 1518.52 Z\" fill=\"#000000\" fill-rule=\"nonzero\" fill-opacity=\"1\" /><path clip-path=\"url(#clip190)\" d=\"M1431.3 1561.26 L1431.3 1548.5 L1420.8 1548.5 L1420.8 1543.22 L1437.67 1543.22 L1437.67 1563.62 Q1433.94 1566.26 1429.46 1567.63 Q1424.97 1568.97 1419.88 1568.97 Q1408.74 1568.97 1402.43 1562.47 Q1396.16 1555.95 1396.16 1544.33 Q1396.16 1532.68 1402.43 1526.19 Q1408.74 1519.66 1419.88 1519.66 Q1424.52 1519.66 1428.69 1520.81 Q1432.89 1521.96 1436.43 1524.18 L1436.43 1531.03 Q1432.86 1528 1428.85 1526.48 Q1424.84 1524.95 1420.42 1524.95 Q1411.7 1524.95 1407.3 1529.82 Q1402.94 1534.69 1402.94 1544.33 Q1402.94 1553.94 1407.3 1558.81 Q1411.7 1563.68 1420.42 1563.68 Q1423.82 1563.68 1426.5 1563.11 Q1429.17 1562.51 1431.3 1561.26 Z\" fill=\"#000000\" fill-rule=\"nonzero\" fill-opacity=\"1\" /><path clip-path=\"url(#clip190)\" d=\"M1455.84 1525.81 L1455.84 1562.76 L1463.61 1562.76 Q1473.44 1562.76 1477.99 1558.3 Q1482.58 1553.85 1482.58 1544.24 Q1482.58 1534.69 1477.99 1530.26 Q1473.44 1525.81 1463.61 1525.81 L1455.84 1525.81 M1449.41 1520.52 L1462.62 1520.52 Q1476.43 1520.52 1482.9 1526.28 Q1489.36 1532.01 1489.36 1544.24 Q1489.36 1556.52 1482.86 1562.28 Q1476.37 1568.04 1462.62 1568.04 L1449.41 1568.04 L1449.41 1520.52 Z\" fill=\"#000000\" fill-rule=\"nonzero\" fill-opacity=\"1\" /><polyline clip-path=\"url(#clip190)\" style=\"stroke:#000000; stroke-linecap:round; stroke-linejoin:round; stroke-width:4; stroke-opacity:1; fill:none\" points=\"287.366,1423.18 287.366,123.472 \"/>\n",
       "<polyline clip-path=\"url(#clip190)\" style=\"stroke:#000000; stroke-linecap:round; stroke-linejoin:round; stroke-width:4; stroke-opacity:1; fill:none\" points=\"287.366,1148.61 306.264,1148.61 \"/>\n",
       "<polyline clip-path=\"url(#clip190)\" style=\"stroke:#000000; stroke-linecap:round; stroke-linejoin:round; stroke-width:4; stroke-opacity:1; fill:none\" points=\"287.366,872.375 306.264,872.375 \"/>\n",
       "<polyline clip-path=\"url(#clip190)\" style=\"stroke:#000000; stroke-linecap:round; stroke-linejoin:round; stroke-width:4; stroke-opacity:1; fill:none\" points=\"287.366,596.142 306.264,596.142 \"/>\n",
       "<polyline clip-path=\"url(#clip190)\" style=\"stroke:#000000; stroke-linecap:round; stroke-linejoin:round; stroke-width:4; stroke-opacity:1; fill:none\" points=\"287.366,319.91 306.264,319.91 \"/>\n",
       "<path clip-path=\"url(#clip190)\" d=\"M115.256 1149.06 L144.931 1149.06 L144.931 1152.99 L115.256 1152.99 L115.256 1149.06 Z\" fill=\"#000000\" fill-rule=\"nonzero\" fill-opacity=\"1\" /><path clip-path=\"url(#clip190)\" d=\"M159.052 1161.95 L175.371 1161.95 L175.371 1165.89 L153.427 1165.89 L153.427 1161.95 Q156.089 1159.2 160.672 1154.57 Q165.278 1149.91 166.459 1148.57 Q168.704 1146.05 169.584 1144.31 Q170.487 1142.55 170.487 1140.86 Q170.487 1138.11 168.542 1136.37 Q166.621 1134.64 163.519 1134.64 Q161.32 1134.64 158.866 1135.4 Q156.436 1136.16 153.658 1137.72 L153.658 1132.99 Q156.482 1131.86 158.936 1131.28 Q161.39 1130.7 163.427 1130.7 Q168.797 1130.7 171.991 1133.39 Q175.186 1136.07 175.186 1140.56 Q175.186 1142.69 174.376 1144.61 Q173.589 1146.51 171.482 1149.1 Q170.903 1149.78 167.802 1152.99 Q164.7 1156.19 159.052 1161.95 Z\" fill=\"#000000\" fill-rule=\"nonzero\" fill-opacity=\"1\" /><path clip-path=\"url(#clip190)\" d=\"M185.186 1160.01 L190.07 1160.01 L190.07 1165.89 L185.186 1165.89 L185.186 1160.01 Z\" fill=\"#000000\" fill-rule=\"nonzero\" fill-opacity=\"1\" /><path clip-path=\"url(#clip190)\" d=\"M210.255 1134.41 Q206.644 1134.41 204.815 1137.97 Q203.01 1141.51 203.01 1148.64 Q203.01 1155.75 204.815 1159.31 Q206.644 1162.85 210.255 1162.85 Q213.889 1162.85 215.695 1159.31 Q217.523 1155.75 217.523 1148.64 Q217.523 1141.51 215.695 1137.97 Q213.889 1134.41 210.255 1134.41 M210.255 1130.7 Q216.065 1130.7 219.121 1135.31 Q222.199 1139.89 222.199 1148.64 Q222.199 1157.37 219.121 1161.98 Q216.065 1166.56 210.255 1166.56 Q204.445 1166.56 201.366 1161.98 Q198.311 1157.37 198.311 1148.64 Q198.311 1139.89 201.366 1135.31 Q204.445 1130.7 210.255 1130.7 Z\" fill=\"#000000\" fill-rule=\"nonzero\" fill-opacity=\"1\" /><path clip-path=\"url(#clip190)\" d=\"M230.463 1131.33 L248.82 1131.33 L248.82 1135.26 L234.746 1135.26 L234.746 1143.73 Q235.764 1143.39 236.783 1143.23 Q237.801 1143.04 238.82 1143.04 Q244.607 1143.04 247.986 1146.21 Q251.366 1149.38 251.366 1154.8 Q251.366 1160.38 247.894 1163.48 Q244.421 1166.56 238.102 1166.56 Q235.926 1166.56 233.658 1166.19 Q231.412 1165.82 229.005 1165.08 L229.005 1160.38 Q231.088 1161.51 233.31 1162.07 Q235.533 1162.62 238.009 1162.62 Q242.014 1162.62 244.352 1160.52 Q246.69 1158.41 246.69 1154.8 Q246.69 1151.19 244.352 1149.08 Q242.014 1146.98 238.009 1146.98 Q236.135 1146.98 234.26 1147.39 Q232.408 1147.81 230.463 1148.69 L230.463 1131.33 Z\" fill=\"#000000\" fill-rule=\"nonzero\" fill-opacity=\"1\" /><path clip-path=\"url(#clip190)\" d=\"M114.26 872.826 L143.936 872.826 L143.936 876.761 L114.26 876.761 L114.26 872.826 Z\" fill=\"#000000\" fill-rule=\"nonzero\" fill-opacity=\"1\" /><path clip-path=\"url(#clip190)\" d=\"M158.056 885.719 L174.376 885.719 L174.376 889.655 L152.431 889.655 L152.431 885.719 Q155.093 882.965 159.677 878.335 Q164.283 873.683 165.464 872.34 Q167.709 869.817 168.589 868.081 Q169.491 866.321 169.491 864.632 Q169.491 861.877 167.547 860.141 Q165.626 858.405 162.524 858.405 Q160.325 858.405 157.871 859.169 Q155.44 859.933 152.663 861.484 L152.663 856.761 Q155.487 855.627 157.94 855.048 Q160.394 854.47 162.431 854.47 Q167.802 854.47 170.996 857.155 Q174.19 859.84 174.19 864.331 Q174.19 866.46 173.38 868.382 Q172.593 870.28 170.487 872.872 Q169.908 873.544 166.806 876.761 Q163.704 879.956 158.056 885.719 Z\" fill=\"#000000\" fill-rule=\"nonzero\" fill-opacity=\"1\" /><path clip-path=\"url(#clip190)\" d=\"M184.19 883.775 L189.075 883.775 L189.075 889.655 L184.19 889.655 L184.19 883.775 Z\" fill=\"#000000\" fill-rule=\"nonzero\" fill-opacity=\"1\" /><path clip-path=\"url(#clip190)\" d=\"M209.26 858.173 Q205.649 858.173 203.82 861.738 Q202.014 865.28 202.014 872.409 Q202.014 879.516 203.82 883.081 Q205.649 886.622 209.26 886.622 Q212.894 886.622 214.699 883.081 Q216.528 879.516 216.528 872.409 Q216.528 865.28 214.699 861.738 Q212.894 858.173 209.26 858.173 M209.26 854.47 Q215.07 854.47 218.125 859.076 Q221.204 863.659 221.204 872.409 Q221.204 881.136 218.125 885.743 Q215.07 890.326 209.26 890.326 Q203.449 890.326 200.371 885.743 Q197.315 881.136 197.315 872.409 Q197.315 863.659 200.371 859.076 Q203.449 854.47 209.26 854.47 Z\" fill=\"#000000\" fill-rule=\"nonzero\" fill-opacity=\"1\" /><path clip-path=\"url(#clip190)\" d=\"M239.422 858.173 Q235.81 858.173 233.982 861.738 Q232.176 865.28 232.176 872.409 Q232.176 879.516 233.982 883.081 Q235.81 886.622 239.422 886.622 Q243.056 886.622 244.861 883.081 Q246.69 879.516 246.69 872.409 Q246.69 865.28 244.861 861.738 Q243.056 858.173 239.422 858.173 M239.422 854.47 Q245.232 854.47 248.287 859.076 Q251.366 863.659 251.366 872.409 Q251.366 881.136 248.287 885.743 Q245.232 890.326 239.422 890.326 Q233.611 890.326 230.533 885.743 Q227.477 881.136 227.477 872.409 Q227.477 863.659 230.533 859.076 Q233.611 854.47 239.422 854.47 Z\" fill=\"#000000\" fill-rule=\"nonzero\" fill-opacity=\"1\" /><path clip-path=\"url(#clip190)\" d=\"M115.256 596.594 L144.931 596.594 L144.931 600.529 L115.256 600.529 L115.256 596.594 Z\" fill=\"#000000\" fill-rule=\"nonzero\" fill-opacity=\"1\" /><path clip-path=\"url(#clip190)\" d=\"M155.834 609.487 L163.473 609.487 L163.473 583.122 L155.163 584.788 L155.163 580.529 L163.427 578.862 L168.102 578.862 L168.102 609.487 L175.741 609.487 L175.741 613.422 L155.834 613.422 L155.834 609.487 Z\" fill=\"#000000\" fill-rule=\"nonzero\" fill-opacity=\"1\" /><path clip-path=\"url(#clip190)\" d=\"M185.186 607.543 L190.07 607.543 L190.07 613.422 L185.186 613.422 L185.186 607.543 Z\" fill=\"#000000\" fill-rule=\"nonzero\" fill-opacity=\"1\" /><path clip-path=\"url(#clip190)\" d=\"M200.394 612.705 L200.394 608.445 Q202.153 609.279 203.959 609.719 Q205.764 610.158 207.5 610.158 Q212.13 610.158 214.561 607.057 Q217.014 603.932 217.361 597.589 Q216.019 599.58 213.959 600.645 Q211.899 601.709 209.399 601.709 Q204.213 601.709 201.181 598.584 Q198.172 595.436 198.172 589.996 Q198.172 584.672 201.32 581.455 Q204.468 578.237 209.699 578.237 Q215.695 578.237 218.843 582.844 Q222.014 587.427 222.014 596.177 Q222.014 604.348 218.125 609.232 Q214.26 614.094 207.709 614.094 Q205.949 614.094 204.144 613.746 Q202.338 613.399 200.394 612.705 M209.699 598.052 Q212.848 598.052 214.676 595.899 Q216.528 593.746 216.528 589.996 Q216.528 586.27 214.676 584.117 Q212.848 581.941 209.699 581.941 Q206.551 581.941 204.699 584.117 Q202.871 586.27 202.871 589.996 Q202.871 593.746 204.699 595.899 Q206.551 598.052 209.699 598.052 Z\" fill=\"#000000\" fill-rule=\"nonzero\" fill-opacity=\"1\" /><path clip-path=\"url(#clip190)\" d=\"M230.463 578.862 L248.82 578.862 L248.82 582.797 L234.746 582.797 L234.746 591.27 Q235.764 590.922 236.783 590.76 Q237.801 590.575 238.82 590.575 Q244.607 590.575 247.986 593.746 Q251.366 596.918 251.366 602.334 Q251.366 607.913 247.894 611.015 Q244.421 614.094 238.102 614.094 Q235.926 614.094 233.658 613.723 Q231.412 613.353 229.005 612.612 L229.005 607.913 Q231.088 609.047 233.31 609.603 Q235.533 610.158 238.009 610.158 Q242.014 610.158 244.352 608.052 Q246.69 605.945 246.69 602.334 Q246.69 598.723 244.352 596.617 Q242.014 594.51 238.009 594.51 Q236.135 594.51 234.26 594.927 Q232.408 595.344 230.463 596.223 L230.463 578.862 Z\" fill=\"#000000\" fill-rule=\"nonzero\" fill-opacity=\"1\" /><path clip-path=\"url(#clip190)\" d=\"M114.26 320.361 L143.936 320.361 L143.936 324.296 L114.26 324.296 L114.26 320.361 Z\" fill=\"#000000\" fill-rule=\"nonzero\" fill-opacity=\"1\" /><path clip-path=\"url(#clip190)\" d=\"M154.839 333.255 L162.477 333.255 L162.477 306.889 L154.167 308.556 L154.167 304.297 L162.431 302.63 L167.107 302.63 L167.107 333.255 L174.746 333.255 L174.746 337.19 L154.839 337.19 L154.839 333.255 Z\" fill=\"#000000\" fill-rule=\"nonzero\" fill-opacity=\"1\" /><path clip-path=\"url(#clip190)\" d=\"M184.19 331.31 L189.075 331.31 L189.075 337.19 L184.19 337.19 L184.19 331.31 Z\" fill=\"#000000\" fill-rule=\"nonzero\" fill-opacity=\"1\" /><path clip-path=\"url(#clip190)\" d=\"M199.399 336.472 L199.399 332.213 Q201.158 333.046 202.963 333.486 Q204.769 333.926 206.505 333.926 Q211.135 333.926 213.565 330.824 Q216.019 327.699 216.366 321.357 Q215.024 323.347 212.963 324.412 Q210.903 325.477 208.403 325.477 Q203.218 325.477 200.186 322.352 Q197.176 319.204 197.176 313.764 Q197.176 308.44 200.325 305.222 Q203.473 302.005 208.704 302.005 Q214.699 302.005 217.848 306.611 Q221.019 311.195 221.019 319.945 Q221.019 328.116 217.13 333 Q213.264 337.861 206.713 337.861 Q204.954 337.861 203.149 337.514 Q201.343 337.167 199.399 336.472 M208.704 321.82 Q211.852 321.82 213.681 319.667 Q215.533 317.514 215.533 313.764 Q215.533 310.037 213.681 307.885 Q211.852 305.709 208.704 305.709 Q205.556 305.709 203.704 307.885 Q201.875 310.037 201.875 313.764 Q201.875 317.514 203.704 319.667 Q205.556 321.82 208.704 321.82 Z\" fill=\"#000000\" fill-rule=\"nonzero\" fill-opacity=\"1\" /><path clip-path=\"url(#clip190)\" d=\"M239.422 305.709 Q235.81 305.709 233.982 309.273 Q232.176 312.815 232.176 319.945 Q232.176 327.051 233.982 330.616 Q235.81 334.158 239.422 334.158 Q243.056 334.158 244.861 330.616 Q246.69 327.051 246.69 319.945 Q246.69 312.815 244.861 309.273 Q243.056 305.709 239.422 305.709 M239.422 302.005 Q245.232 302.005 248.287 306.611 Q251.366 311.195 251.366 319.945 Q251.366 328.671 248.287 333.278 Q245.232 337.861 239.422 337.861 Q233.611 337.861 230.533 333.278 Q227.477 328.671 227.477 319.945 Q227.477 311.195 230.533 306.611 Q233.611 302.005 239.422 302.005 Z\" fill=\"#000000\" fill-rule=\"nonzero\" fill-opacity=\"1\" /><path clip-path=\"url(#clip190)\" d=\"M16.4842 825.525 L16.4842 795.479 L21.895 795.479 L21.895 819.095 L35.9632 819.095 L35.9632 796.465 L41.3741 796.465 L41.3741 819.095 L58.5933 819.095 L58.5933 794.906 L64.0042 794.906 L64.0042 825.525 L16.4842 825.525 Z\" fill=\"#000000\" fill-rule=\"nonzero\" fill-opacity=\"1\" /><path clip-path=\"url(#clip190)\" d=\"M16.4842 774.185 L16.4842 768.775 L70.0516 785.325 L70.0516 790.736 L16.4842 774.185 Z\" fill=\"#000000\" fill-rule=\"nonzero\" fill-opacity=\"1\" /><path clip-path=\"url(#clip190)\" d=\"M20.8447 743.089 Q20.8447 750.091 26.0645 754.229 Q31.2844 758.335 40.2919 758.335 Q49.2675 758.335 54.4874 754.229 Q59.7073 750.091 59.7073 743.089 Q59.7073 736.087 54.4874 732.013 Q49.2675 727.907 40.2919 727.907 Q31.2844 727.907 26.0645 732.013 Q20.8447 736.087 20.8447 743.089 M63.1448 734.081 L72.4069 725.615 L72.4069 733.381 L64.7999 740.415 Q64.8635 741.466 64.8954 742.039 Q64.9272 742.58 64.9272 743.089 Q64.9272 753.115 58.2432 759.13 Q51.5274 765.114 40.2919 765.114 Q29.0246 765.114 22.3406 759.13 Q15.6248 753.115 15.6248 743.089 Q15.6248 733.095 22.3406 727.111 Q29.0246 721.127 40.2919 721.127 Q48.5673 721.127 54.4556 724.469 Q60.3439 727.779 63.1448 734.081 Z\" fill=\"#000000\" fill-rule=\"nonzero\" fill-opacity=\"1\" /><path clip-path=\"url(#clip190)\" d=\"M731.789 12.096 L770.029 12.096 L770.029 18.9825 L739.971 18.9825 L739.971 36.8875 L768.773 36.8875 L768.773 43.7741 L739.971 43.7741 L739.971 65.6895 L770.758 65.6895 L770.758 72.576 L731.789 72.576 L731.789 12.096 Z\" fill=\"#000000\" fill-rule=\"nonzero\" fill-opacity=\"1\" /><path clip-path=\"url(#clip190)\" d=\"M821.597 45.1919 L821.597 72.576 L814.143 72.576 L814.143 45.4349 Q814.143 38.994 811.632 35.7938 Q809.12 32.5936 804.097 32.5936 Q798.061 32.5936 794.578 36.4419 Q791.094 40.2903 791.094 46.9338 L791.094 72.576 L783.6 72.576 L783.6 27.2059 L791.094 27.2059 L791.094 34.2544 Q793.767 30.163 797.373 28.1376 Q801.019 26.1121 805.758 26.1121 Q813.576 26.1121 817.587 30.9732 Q821.597 35.7938 821.597 45.1919 Z\" fill=\"#000000\" fill-rule=\"nonzero\" fill-opacity=\"1\" /><path clip-path=\"url(#clip190)\" d=\"M875.272 48.0275 L875.272 51.6733 L841.001 51.6733 Q841.487 59.3701 845.619 63.421 Q849.791 67.4314 857.205 67.4314 Q861.499 67.4314 865.509 66.3781 Q869.56 65.3249 873.53 63.2184 L873.53 70.267 Q869.519 71.9684 865.306 72.8596 Q861.093 73.7508 856.759 73.7508 Q845.903 73.7508 839.543 67.4314 Q833.223 61.1119 833.223 50.3365 Q833.223 39.1965 839.219 32.6746 Q845.254 26.1121 855.463 26.1121 Q864.618 26.1121 869.924 32.0264 Q875.272 37.9003 875.272 48.0275 M867.818 45.84 Q867.737 39.7232 864.375 36.0774 Q861.053 32.4315 855.544 32.4315 Q849.305 32.4315 845.538 35.9558 Q841.811 39.4801 841.244 45.8805 L867.818 45.84 Z\" fill=\"#000000\" fill-rule=\"nonzero\" fill-opacity=\"1\" /><path clip-path=\"url(#clip190)\" d=\"M913.796 34.1734 Q912.54 33.4443 911.041 33.1202 Q909.583 32.7556 907.8 32.7556 Q901.481 32.7556 898.078 36.8875 Q894.716 40.9789 894.716 48.6757 L894.716 72.576 L887.222 72.576 L887.222 27.2059 L894.716 27.2059 L894.716 34.2544 Q897.065 30.1225 900.833 28.1376 Q904.6 26.1121 909.988 26.1121 Q910.758 26.1121 911.689 26.2337 Q912.621 26.3147 913.755 26.5172 L913.796 34.1734 Z\" fill=\"#000000\" fill-rule=\"nonzero\" fill-opacity=\"1\" /><path clip-path=\"url(#clip190)\" d=\"M950.011 49.3643 Q950.011 41.2625 946.649 36.8065 Q943.327 32.3505 937.291 32.3505 Q931.296 32.3505 927.933 36.8065 Q924.612 41.2625 924.612 49.3643 Q924.612 57.4256 927.933 61.8816 Q931.296 66.3376 937.291 66.3376 Q943.327 66.3376 946.649 61.8816 Q950.011 57.4256 950.011 49.3643 M957.464 66.9452 Q957.464 78.5308 952.32 84.1616 Q947.175 89.8329 936.562 89.8329 Q932.632 89.8329 929.149 89.2252 Q925.665 88.6581 922.384 87.4428 L922.384 80.1917 Q925.665 81.9741 928.865 82.8248 Q932.065 83.6755 935.387 83.6755 Q942.719 83.6755 946.365 79.8271 Q950.011 76.0193 950.011 68.282 L950.011 64.5957 Q947.702 68.6061 944.096 70.5911 Q940.491 72.576 935.468 72.576 Q927.123 72.576 922.019 66.2161 Q916.915 59.8562 916.915 49.3643 Q916.915 38.832 922.019 32.472 Q927.123 26.1121 935.468 26.1121 Q940.491 26.1121 944.096 28.0971 Q947.702 30.082 950.011 34.0924 L950.011 27.2059 L957.464 27.2059 L957.464 66.9452 Z\" fill=\"#000000\" fill-rule=\"nonzero\" fill-opacity=\"1\" /><path clip-path=\"url(#clip190)\" d=\"M991.695 76.7889 Q988.535 84.8907 985.537 87.3618 Q982.54 89.8329 977.516 89.8329 L971.562 89.8329 L971.562 83.5945 L975.937 83.5945 Q979.015 83.5945 980.717 82.1361 Q982.418 80.6778 984.484 75.2496 L985.821 71.8468 L967.47 27.2059 L975.369 27.2059 L989.548 62.6918 L1003.73 27.2059 L1011.63 27.2059 L991.695 76.7889 Z\" fill=\"#000000\" fill-rule=\"nonzero\" fill-opacity=\"1\" /><path clip-path=\"url(#clip190)\" d=\"M1065.87 32.4315 Q1059.87 32.4315 1056.39 37.1306 Q1052.9 41.7891 1052.9 49.9314 Q1052.9 58.0738 1056.35 62.7728 Q1059.83 67.4314 1065.87 67.4314 Q1071.82 67.4314 1075.31 62.7323 Q1078.79 58.0333 1078.79 49.9314 Q1078.79 41.8701 1075.31 37.1711 Q1071.82 32.4315 1065.87 32.4315 M1065.87 26.1121 Q1075.59 26.1121 1081.14 32.4315 Q1086.69 38.7509 1086.69 49.9314 Q1086.69 61.0714 1081.14 67.4314 Q1075.59 73.7508 1065.87 73.7508 Q1056.1 73.7508 1050.55 67.4314 Q1045.05 61.0714 1045.05 49.9314 Q1045.05 38.7509 1050.55 32.4315 Q1056.1 26.1121 1065.87 26.1121 Z\" fill=\"#000000\" fill-rule=\"nonzero\" fill-opacity=\"1\" /><path clip-path=\"url(#clip190)\" d=\"M1106.25 65.7705 L1106.25 89.8329 L1098.76 89.8329 L1098.76 27.2059 L1106.25 27.2059 L1106.25 34.0924 Q1108.6 30.0415 1112.17 28.0971 Q1115.77 26.1121 1120.76 26.1121 Q1129.02 26.1121 1134.16 32.6746 Q1139.35 39.2371 1139.35 49.9314 Q1139.35 60.6258 1134.16 67.1883 Q1129.02 73.7508 1120.76 73.7508 Q1115.77 73.7508 1112.17 71.8063 Q1108.6 69.8214 1106.25 65.7705 M1131.61 49.9314 Q1131.61 41.7081 1128.21 37.0496 Q1124.85 32.3505 1118.93 32.3505 Q1113.02 32.3505 1109.62 37.0496 Q1106.25 41.7081 1106.25 49.9314 Q1106.25 58.1548 1109.62 62.8538 Q1113.02 67.5124 1118.93 67.5124 Q1124.85 67.5124 1128.21 62.8538 Q1131.61 58.1548 1131.61 49.9314 Z\" fill=\"#000000\" fill-rule=\"nonzero\" fill-opacity=\"1\" /><path clip-path=\"url(#clip190)\" d=\"M1159.08 14.324 L1159.08 27.2059 L1174.43 27.2059 L1174.43 32.9987 L1159.08 32.9987 L1159.08 57.6282 Q1159.08 63.1779 1160.58 64.7578 Q1162.12 66.3376 1166.77 66.3376 L1174.43 66.3376 L1174.43 72.576 L1166.77 72.576 Q1158.15 72.576 1154.87 69.3758 Q1151.58 66.1351 1151.58 57.6282 L1151.58 32.9987 L1146.12 32.9987 L1146.12 27.2059 L1151.58 27.2059 L1151.58 14.324 L1159.08 14.324 Z\" fill=\"#000000\" fill-rule=\"nonzero\" fill-opacity=\"1\" /><path clip-path=\"url(#clip190)\" d=\"M1184.23 27.2059 L1191.69 27.2059 L1191.69 72.576 L1184.23 72.576 L1184.23 27.2059 M1184.23 9.54393 L1191.69 9.54393 L1191.69 18.9825 L1184.23 18.9825 L1184.23 9.54393 Z\" fill=\"#000000\" fill-rule=\"nonzero\" fill-opacity=\"1\" /><path clip-path=\"url(#clip190)\" d=\"M1242.61 35.9153 Q1245.4 30.8922 1249.29 28.5022 Q1253.18 26.1121 1258.45 26.1121 Q1265.54 26.1121 1269.38 31.0947 Q1273.23 36.0368 1273.23 45.1919 L1273.23 72.576 L1265.74 72.576 L1265.74 45.4349 Q1265.74 38.913 1263.43 35.7533 Q1261.12 32.5936 1256.38 32.5936 Q1250.59 32.5936 1247.23 36.4419 Q1243.86 40.2903 1243.86 46.9338 L1243.86 72.576 L1236.37 72.576 L1236.37 45.4349 Q1236.37 38.8725 1234.06 35.7533 Q1231.75 32.5936 1226.93 32.5936 Q1221.22 32.5936 1217.86 36.4824 Q1214.49 40.3308 1214.49 46.9338 L1214.49 72.576 L1207 72.576 L1207 27.2059 L1214.49 27.2059 L1214.49 34.2544 Q1217.05 30.082 1220.61 28.0971 Q1224.18 26.1121 1229.08 26.1121 Q1234.02 26.1121 1237.46 28.6237 Q1240.95 31.1352 1242.61 35.9153 Z\" fill=\"#000000\" fill-rule=\"nonzero\" fill-opacity=\"1\" /><path clip-path=\"url(#clip190)\" d=\"M1288.1 27.2059 L1295.55 27.2059 L1295.55 72.576 L1288.1 72.576 L1288.1 27.2059 M1288.1 9.54393 L1295.55 9.54393 L1295.55 18.9825 L1288.1 18.9825 L1288.1 9.54393 Z\" fill=\"#000000\" fill-rule=\"nonzero\" fill-opacity=\"1\" /><path clip-path=\"url(#clip190)\" d=\"M1340.07 28.5427 L1340.07 35.5912 Q1336.91 33.9709 1333.51 33.1607 Q1330.11 32.3505 1326.46 32.3505 Q1320.91 32.3505 1318.12 34.0519 Q1315.36 35.7533 1315.36 39.156 Q1315.36 41.7486 1317.35 43.2475 Q1319.33 44.7058 1325.33 46.0426 L1327.88 46.6097 Q1335.82 48.3111 1339.14 51.4303 Q1342.5 54.509 1342.5 60.0587 Q1342.5 66.3781 1337.48 70.0644 Q1332.5 73.7508 1323.75 73.7508 Q1320.1 73.7508 1316.13 73.0216 Q1312.2 72.3329 1307.83 70.9151 L1307.83 63.2184 Q1311.96 65.3654 1315.97 66.4591 Q1319.98 67.5124 1323.91 67.5124 Q1329.18 67.5124 1332.01 65.73 Q1334.85 63.9071 1334.85 60.6258 Q1334.85 57.5877 1332.78 55.9673 Q1330.76 54.3469 1323.83 52.8481 L1321.24 52.2405 Q1314.31 50.7821 1311.23 47.7845 Q1308.15 44.7463 1308.15 39.4801 Q1308.15 33.0797 1312.69 29.5959 Q1317.23 26.1121 1325.57 26.1121 Q1329.7 26.1121 1333.35 26.7198 Q1336.99 27.3274 1340.07 28.5427 Z\" fill=\"#000000\" fill-rule=\"nonzero\" fill-opacity=\"1\" /><path clip-path=\"url(#clip190)\" d=\"M1374.99 49.7694 Q1365.96 49.7694 1362.47 51.8354 Q1358.99 53.9013 1358.99 58.8839 Q1358.99 62.8538 1361.58 65.2034 Q1364.22 67.5124 1368.71 67.5124 Q1374.91 67.5124 1378.64 63.1374 Q1382.4 58.7219 1382.4 51.4303 L1382.4 49.7694 L1374.99 49.7694 M1389.86 46.6907 L1389.86 72.576 L1382.4 72.576 L1382.4 65.6895 Q1379.85 69.8214 1376.04 71.8063 Q1372.24 73.7508 1366.73 73.7508 Q1359.76 73.7508 1355.63 69.8619 Q1351.54 65.9325 1351.54 59.3701 Q1351.54 51.7138 1356.64 47.825 Q1361.79 43.9361 1371.95 43.9361 L1382.4 43.9361 L1382.4 43.2069 Q1382.4 38.0623 1379 35.2672 Q1375.64 32.4315 1369.52 32.4315 Q1365.63 32.4315 1361.95 33.3632 Q1358.26 34.295 1354.86 36.1584 L1354.86 29.2718 Q1358.95 27.692 1362.8 26.9223 Q1366.65 26.1121 1370.29 26.1121 Q1380.14 26.1121 1385 31.2163 Q1389.86 36.3204 1389.86 46.6907 Z\" fill=\"#000000\" fill-rule=\"nonzero\" fill-opacity=\"1\" /><path clip-path=\"url(#clip190)\" d=\"M1412.58 14.324 L1412.58 27.2059 L1427.94 27.2059 L1427.94 32.9987 L1412.58 32.9987 L1412.58 57.6282 Q1412.58 63.1779 1414.08 64.7578 Q1415.62 66.3376 1420.28 66.3376 L1427.94 66.3376 L1427.94 72.576 L1420.28 72.576 Q1411.65 72.576 1408.37 69.3758 Q1405.09 66.1351 1405.09 57.6282 L1405.09 32.9987 L1399.62 32.9987 L1399.62 27.2059 L1405.09 27.2059 L1405.09 14.324 L1412.58 14.324 Z\" fill=\"#000000\" fill-rule=\"nonzero\" fill-opacity=\"1\" /><path clip-path=\"url(#clip190)\" d=\"M1437.74 27.2059 L1445.19 27.2059 L1445.19 72.576 L1437.74 72.576 L1437.74 27.2059 M1437.74 9.54393 L1445.19 9.54393 L1445.19 18.9825 L1437.74 18.9825 L1437.74 9.54393 Z\" fill=\"#000000\" fill-rule=\"nonzero\" fill-opacity=\"1\" /><path clip-path=\"url(#clip190)\" d=\"M1478.37 32.4315 Q1472.37 32.4315 1468.89 37.1306 Q1465.41 41.7891 1465.41 49.9314 Q1465.41 58.0738 1468.85 62.7728 Q1472.33 67.4314 1478.37 67.4314 Q1484.33 67.4314 1487.81 62.7323 Q1491.29 58.0333 1491.29 49.9314 Q1491.29 41.8701 1487.81 37.1711 Q1484.33 32.4315 1478.37 32.4315 M1478.37 26.1121 Q1488.09 26.1121 1493.64 32.4315 Q1499.19 38.7509 1499.19 49.9314 Q1499.19 61.0714 1493.64 67.4314 Q1488.09 73.7508 1478.37 73.7508 Q1468.61 73.7508 1463.06 67.4314 Q1457.55 61.0714 1457.55 49.9314 Q1457.55 38.7509 1463.06 32.4315 Q1468.61 26.1121 1478.37 26.1121 Z\" fill=\"#000000\" fill-rule=\"nonzero\" fill-opacity=\"1\" /><path clip-path=\"url(#clip190)\" d=\"M1549.26 45.1919 L1549.26 72.576 L1541.81 72.576 L1541.81 45.4349 Q1541.81 38.994 1539.3 35.7938 Q1536.78 32.5936 1531.76 32.5936 Q1525.73 32.5936 1522.24 36.4419 Q1518.76 40.2903 1518.76 46.9338 L1518.76 72.576 L1511.26 72.576 L1511.26 27.2059 L1518.76 27.2059 L1518.76 34.2544 Q1521.43 30.163 1525.04 28.1376 Q1528.68 26.1121 1533.42 26.1121 Q1541.24 26.1121 1545.25 30.9732 Q1549.26 35.7938 1549.26 45.1919 Z\" fill=\"#000000\" fill-rule=\"nonzero\" fill-opacity=\"1\" /><path clip-path=\"url(#clip190)\" d=\"M1586.16 27.2059 L1593.62 27.2059 L1602.94 62.6108 L1612.21 27.2059 L1621 27.2059 L1630.32 62.6108 L1639.6 27.2059 L1647.05 27.2059 L1635.18 72.576 L1626.39 72.576 L1616.63 35.3887 L1606.82 72.576 L1598.03 72.576 L1586.16 27.2059 Z\" fill=\"#000000\" fill-rule=\"nonzero\" fill-opacity=\"1\" /><path clip-path=\"url(#clip190)\" d=\"M1658.35 27.2059 L1665.81 27.2059 L1665.81 72.576 L1658.35 72.576 L1658.35 27.2059 M1658.35 9.54393 L1665.81 9.54393 L1665.81 18.9825 L1658.35 18.9825 L1658.35 9.54393 Z\" fill=\"#000000\" fill-rule=\"nonzero\" fill-opacity=\"1\" /><path clip-path=\"url(#clip190)\" d=\"M1688.77 14.324 L1688.77 27.2059 L1704.13 27.2059 L1704.13 32.9987 L1688.77 32.9987 L1688.77 57.6282 Q1688.77 63.1779 1690.27 64.7578 Q1691.81 66.3376 1696.47 66.3376 L1704.13 66.3376 L1704.13 72.576 L1696.47 72.576 Q1687.84 72.576 1684.56 69.3758 Q1681.28 66.1351 1681.28 57.6282 L1681.28 32.9987 L1675.81 32.9987 L1675.81 27.2059 L1681.28 27.2059 L1681.28 14.324 L1688.77 14.324 Z\" fill=\"#000000\" fill-rule=\"nonzero\" fill-opacity=\"1\" /><path clip-path=\"url(#clip190)\" d=\"M1751.64 45.1919 L1751.64 72.576 L1744.19 72.576 L1744.19 45.4349 Q1744.19 38.994 1741.68 35.7938 Q1739.17 32.5936 1734.14 32.5936 Q1728.11 32.5936 1724.62 36.4419 Q1721.14 40.2903 1721.14 46.9338 L1721.14 72.576 L1713.65 72.576 L1713.65 9.54393 L1721.14 9.54393 L1721.14 34.2544 Q1723.81 30.163 1727.42 28.1376 Q1731.07 26.1121 1735.81 26.1121 Q1743.62 26.1121 1747.63 30.9732 Q1751.64 35.7938 1751.64 45.1919 Z\" fill=\"#000000\" fill-rule=\"nonzero\" fill-opacity=\"1\" /><path clip-path=\"url(#clip190)\" d=\"M1834.44 63.9476 L1834.44 47.7034 L1821.08 47.7034 L1821.08 40.9789 L1842.55 40.9789 L1842.55 66.9452 Q1837.81 70.3075 1832.1 72.0494 Q1826.38 73.7508 1819.9 73.7508 Q1805.72 73.7508 1797.7 65.4869 Q1789.72 57.1826 1789.72 42.3968 Q1789.72 27.5705 1797.7 19.3066 Q1805.72 11.0023 1819.9 11.0023 Q1825.82 11.0023 1831.12 12.4606 Q1836.47 13.9189 1840.97 16.7545 L1840.97 25.464 Q1836.43 21.6156 1831.33 19.6712 Q1826.22 17.7268 1820.59 17.7268 Q1809.49 17.7268 1803.9 23.9246 Q1798.35 30.1225 1798.35 42.3968 Q1798.35 54.6305 1803.9 60.8284 Q1809.49 67.0263 1820.59 67.0263 Q1824.93 67.0263 1828.33 66.2971 Q1831.73 65.5274 1834.44 63.9476 Z\" fill=\"#000000\" fill-rule=\"nonzero\" fill-opacity=\"1\" /><path clip-path=\"url(#clip190)\" d=\"M1865.68 18.8205 L1865.68 65.8515 L1875.56 65.8515 Q1888.08 65.8515 1893.87 60.1802 Q1899.7 54.509 1899.7 42.2752 Q1899.7 30.1225 1893.87 24.4918 Q1888.08 18.8205 1875.56 18.8205 L1865.68 18.8205 M1857.49 12.096 L1874.31 12.096 Q1891.89 12.096 1900.11 19.4281 Q1908.33 26.7198 1908.33 42.2752 Q1908.33 57.9117 1900.07 65.2439 Q1891.81 72.576 1874.31 72.576 L1857.49 72.576 L1857.49 12.096 Z\" fill=\"#000000\" fill-rule=\"nonzero\" fill-opacity=\"1\" /><polyline clip-path=\"url(#clip192)\" style=\"stroke:#009af9; stroke-linecap:round; stroke-linejoin:round; stroke-width:4; stroke-opacity:1; fill:none\" points=\"345.82,160.256 365.502,1118.15 385.184,1311.76 404.865,1346.29 424.547,1353.24 444.228,1355.39 463.91,1356.66 483.592,1357.74 503.273,1358.74 522.955,1359.7 542.637,1360.63 562.318,1361.53 582,1362.41 601.681,1363.26 621.363,1364.09 641.045,1364.89 660.726,1365.67 680.408,1366.43 700.09,1367.17 719.771,1367.88 739.453,1368.57 759.135,1369.24 778.816,1369.89 798.498,1370.52 818.179,1371.13 837.861,1371.72 857.543,1372.29 877.224,1372.84 896.906,1373.37 916.588,1373.89 936.269,1374.39 955.951,1374.87 975.632,1375.33 995.314,1375.78 1015,1376.21 1034.68,1376.63 1054.36,1377.03 1074.04,1377.42 1093.72,1377.79 1113.4,1378.15 1133.09,1378.5 1152.77,1378.83 1172.45,1379.15 1192.13,1379.46 1211.81,1379.76 1231.49,1380.05 1251.18,1380.32 1270.86,1380.59 1290.54,1380.84 1310.22,1381.09 1329.9,1381.33 1349.58,1381.55 1369.26,1381.77 1388.95,1381.98 1408.63,1382.18 1428.31,1382.38 1447.99,1382.57 1467.67,1382.74 1487.35,1382.92 1507.04,1383.08 1526.72,1383.24 1546.4,1383.4 1566.08,1383.54 1585.76,1383.69 1605.44,1383.82 1625.13,1383.95 1644.81,1384.08 1664.49,1384.2 1684.17,1384.32 1703.85,1384.43 1723.53,1384.53 1743.22,1384.64 1762.9,1384.74 1782.58,1384.83 1802.26,1384.92 1821.94,1385.01 1841.62,1385.1 1861.31,1385.18 1880.99,1385.26 1900.67,1385.34 1920.35,1385.41 1940.03,1385.48 1959.71,1385.55 1979.4,1385.61 1999.08,1385.67 2018.76,1385.74 2038.44,1385.79 2058.12,1385.85 2077.8,1385.9 2097.49,1385.96 2117.17,1386.01 2136.85,1386.06 2156.53,1386.1 2176.21,1386.15 2195.89,1386.19 2215.57,1386.24 2235.26,1386.28 2254.94,1386.32 2274.62,1386.36 2294.3,1386.4 \"/>\n",
       "<path clip-path=\"url(#clip190)\" d=\"M2024.94 270.476 L2283.91 270.476 L2283.91 166.796 L2024.94 166.796  Z\" fill=\"#ffffff\" fill-rule=\"evenodd\" fill-opacity=\"1\"/>\n",
       "<polyline clip-path=\"url(#clip190)\" style=\"stroke:#000000; stroke-linecap:round; stroke-linejoin:round; stroke-width:4; stroke-opacity:1; fill:none\" points=\"2024.94,270.476 2283.91,270.476 2283.91,166.796 2024.94,166.796 2024.94,270.476 \"/>\n",
       "<polyline clip-path=\"url(#clip190)\" style=\"stroke:#009af9; stroke-linecap:round; stroke-linejoin:round; stroke-width:4; stroke-opacity:1; fill:none\" points=\"2047.89,218.636 2185.58,218.636 \"/>\n",
       "<path clip-path=\"url(#clip190)\" d=\"M2222.37 238.323 Q2220.57 242.953 2218.85 244.365 Q2217.14 245.777 2214.27 245.777 L2210.87 245.777 L2210.87 242.212 L2213.37 242.212 Q2215.13 242.212 2216.1 241.379 Q2217.07 240.545 2218.25 237.443 L2219.02 235.499 L2208.53 209.99 L2213.04 209.99 L2221.15 230.268 L2229.25 209.99 L2233.76 209.99 L2222.37 238.323 Z\" fill=\"#000000\" fill-rule=\"nonzero\" fill-opacity=\"1\" /><path clip-path=\"url(#clip190)\" d=\"M2241.05 231.981 L2248.69 231.981 L2248.69 205.615 L2240.38 207.282 L2240.38 203.022 L2248.65 201.356 L2253.32 201.356 L2253.32 231.981 L2260.96 231.981 L2260.96 235.916 L2241.05 235.916 L2241.05 231.981 Z\" fill=\"#000000\" fill-rule=\"nonzero\" fill-opacity=\"1\" /></svg>\n"
      ]
     },
     "metadata": {},
     "output_type": "display_data"
    }
   ],
   "source": [
    "# gradient descent\n",
    "eta = 0.1\n",
    "opt_energy_gd = []\n",
    "thetas = thetas_init\n",
    "for i in 1:100 # steps\n",
    "    gradient!(grad_array_compiled, simulation_tape, thetas)\n",
    "    thetas .-= eta * grad_array_compiled\n",
    "    opt_energy_gd = push!(opt_energy_gd, lossfunction(thetas)/nq)\n",
    "end\n",
    "#println(thetas) #Why do the first few stay the same, while the end is strongly modified? Is this sth systematic?\n",
    "println(lossfunction(thetas)/nq)\n",
    "plot(opt_energy_gd)\n",
    "\n",
    "plot!(title = \"Energy optimisation with GD\", xlabel = \"runs of GD\", ylabel = \"E/Q\")"
   ]
  },
  {
   "cell_type": "code",
   "execution_count": 61,
   "metadata": {},
   "outputs": [],
   "source": [
    " #ADAM (this is suboptimal because we recalculate the gradients)\n",
    "# thetas = thetas_init\n",
    "# opt_energy_adam = []\n",
    "\n",
    "# opt_result = Optim.optimize(lossfunction, thetas, Adam(), Optim.Options(iterations=1000))\n",
    "# thetas .= Optim.minimizer(opt_result)\n",
    "\n",
    "# #println(thetas)  # Check the final optimized parameters\n",
    "# println(lossfunction(thetas)/nq)  # Check the final optimized energy (similar to GD)"
   ]
  },
  {
   "cell_type": "markdown",
   "metadata": {},
   "source": [
    "### Comments so far:\n",
    "\n",
    "- We have (2Q-1) non-Cliffords in the circuit so for Q=16 qubits, we have N=31 non-Cliffords already (this is quite high for a cl. simulation, state of the art is N<80 and Piotr used MPS with up to N=35)\n",
    "- When we initialise the parameters, they are fixed to have the same values in every RZZ and RZ layer, but later this changes during optimization. How can we keep this constraint during the optimization? (We need the constraint so it could be implementable as a \"real\" circuit, right?)\n",
    "- We get the warning `WARNING: redefinition of constant Main.simulation_tape.`, should we keep doing this like in the example notebooks?"
   ]
  },
  {
   "cell_type": "markdown",
   "metadata": {},
   "source": [
    "## Generating the set of test states - Isolated functions\n",
    "- generate a set of classically efficiently simulable states $S_{\\psi} =\\{|\\phi_i>\\}$\n",
    "- the initial state `initialize_mcmc_circuit()` is chosen by finding a near-Clifford circuit wrt the target circuit `tfimqaoacircuit()`\n",
    "- update steps: randomly pick $n_p$ pairs of the circuits RZ rotations (RZZ are also just RZ rotations with CNOT before and after)\n",
    "- in each pair keep one gate as non-Clifford and replace the other by $S^n$, where $S$ is the $\\pi/2$ rotation gate, take an integer power $n$ (which we choose by sampling according to eq. 14)\n",
    "- this \"pair mechanism\" makes sure we don't replace too many gates with Clifford gates, which would lead to a larger distance from the target state $\\ket{\\psi}$."
   ]
  },
  {
   "cell_type": "markdown",
   "metadata": {},
   "source": [
    "### Initial circuit for MCMC with less non-Clifford gates "
   ]
  },
  {
   "cell_type": "code",
   "execution_count": 62,
   "metadata": {},
   "outputs": [
    {
     "data": {
      "text/plain": [
       "initialize_mcmc_circuit (generic function with 1 method)"
      ]
     },
     "metadata": {},
     "output_type": "display_data"
    }
   ],
   "source": [
    "function initialize_mcmc_circuit(circuit, nqubits::Integer, nlayers::Integer)\n",
    "    # Choose nq*nl/2 random Pauli rotations to replace with Clifford R_Z(k_p π/2) gates.\n",
    "    # The replacements are random for the whole circuit and don't repeat for each layer.\n",
    "\n",
    "    # Get indices of Pauli rotations\n",
    "    z_rot_indices = [i for i in eachindex(circuit) if isa(circuit[i], PauliRotation)]\n",
    "\n",
    "    num_to_replace = div(nqubits * nlayers, 2)\n",
    "    Random.shuffle!(z_rot_indices)\n",
    "    indices_replaced = z_rot_indices[1:num_to_replace]\n",
    "    #println(\"Indices to replace: \", indices_to_replace)\n",
    "\n",
    "    # Extract qubit indices for gates to be replaced\n",
    "    qubits = [circuit[i].qinds for i in indices_replaced]\n",
    "    #println(\"Qubits involved: \", qubits)\n",
    "\n",
    "    # Create a modified circuit\n",
    "    new_circuit = copy(circuit)\n",
    "\n",
    "    # Replace selected R_Z rotations with Clifford R_Z(k_p π/2)\n",
    "    for (j, i) in enumerate(indices_replaced)\n",
    "        k_p = rand(0:3)  ### Randomly select k_p from {0,1,2,3} ( NO CLEAR INDICATION in the paper)\n",
    "        if length(qubits[j]) == 1\n",
    "            new_circuit[i] = PauliRotation(:Z, qubits[j], k_p * π/2)  # Replace with Clifford rotation\n",
    "        else\n",
    "            new_circuit[i] = PauliRotation([:Z, :Z], qubits[j], k_p * π/2)  # Replace with Clifford rotation\n",
    "        end\n",
    "    end\n",
    "\n",
    "    return new_circuit, indices_replaced\n",
    "end"
   ]
  },
  {
   "cell_type": "code",
   "execution_count": 63,
   "metadata": {},
   "outputs": [
    {
     "data": {
      "text/plain": [
       "4-element Vector{Int64}:\n",
       " 34\n",
       " 26\n",
       " 25\n",
       " 11"
      ]
     },
     "metadata": {},
     "output_type": "display_data"
    }
   ],
   "source": [
    "init_circuit, indices_replaced = initialize_mcmc_circuit(circuit, nq, nl) #check\n",
    "init_circuit\n",
    "indices_replaced\n",
    "current_cicuit = deepcopy(init_circuit)\n",
    "current_replaced_indices = deepcopy(indices_replaced)   "
   ]
  },
  {
   "cell_type": "code",
   "execution_count": 64,
   "metadata": {},
   "outputs": [
    {
     "name": "stdout",
     "output_type": "stream",
     "text": [
      "Gate[PauliRotation([:Z, :Z], [1, 2]), PauliRotation([:Z, :Z], [3, 4]), PauliRotation([:Z, :Z], [2, 3]), CliffordGate(:S, [1]), FrozenGate(PauliRotation([:X], [1]), parameter = 1.57), PauliRotation([:Z], [1]), FrozenGate(PauliRotation([:X], [1]), parameter = 1.57), CliffordGate(:S, [1]), CliffordGate(:S, [2]), FrozenGate(PauliRotation([:X], [2]), parameter = 1.57), PauliRotation([:Z], [2]), FrozenGate(PauliRotation([:X], [2]), parameter = 1.57), CliffordGate(:S, [2]), CliffordGate(:S, [3]), FrozenGate(PauliRotation([:X], [3]), parameter = 1.57), PauliRotation([:Z], [3]), FrozenGate(PauliRotation([:X], [3]), parameter = 1.57), CliffordGate(:S, [3]), CliffordGate(:S, [4]), FrozenGate(PauliRotation([:X], [4]), parameter = 1.57), PauliRotation([:Z], [4]), FrozenGate(PauliRotation([:X], [4]), parameter = 1.57), CliffordGate(:S, [4]), PauliRotation([:Z, :Z], [1, 2]), PauliRotation([:Z, :Z], [3, 4]), PauliRotation([:Z, :Z], [2, 3]), CliffordGate(:S, [1]), FrozenGate(PauliRotation([:X], [1]), parameter = 1.57), PauliRotation([:Z], [1]), FrozenGate(PauliRotation([:X], [1]), parameter = 1.57), CliffordGate(:S, [1]), CliffordGate(:S, [2]), FrozenGate(PauliRotation([:X], [2]), parameter = 1.57), PauliRotation([:Z], [2]), FrozenGate(PauliRotation([:X], [2]), parameter = 1.57), CliffordGate(:S, [2]), CliffordGate(:S, [3]), FrozenGate(PauliRotation([:X], [3]), parameter = 1.57), PauliRotation([:Z], [3]), FrozenGate(PauliRotation([:X], [3]), parameter = 1.57), CliffordGate(:S, [3]), CliffordGate(:S, [4]), FrozenGate(PauliRotation([:X], [4]), parameter = 1.57), PauliRotation([:Z], [4]), FrozenGate(PauliRotation([:X], [4]), parameter = 1.57), CliffordGate(:S, [4])]\n",
      "Gate[PauliRotation([:Z, :Z], [1, 2]), PauliRotation([:Z, :Z], [3, 4]), PauliRotation([:Z, :Z], [2, 3]), CliffordGate(:S, [1]), FrozenGate(PauliRotation([:X], [1]), parameter = 1.57), PauliRotation([:Z], [1]), FrozenGate(PauliRotation([:X], [1]), parameter = 1.57), CliffordGate(:S, [1]), CliffordGate(:S, [2]), FrozenGate(PauliRotation([:X], [2]), parameter = 1.57), FrozenGate(PauliRotation([:Z], [2]), parameter = 4.71), FrozenGate(PauliRotation([:X], [2]), parameter = 1.57), CliffordGate(:S, [2]), CliffordGate(:S, [3]), FrozenGate(PauliRotation([:X], [3]), parameter = 1.57), PauliRotation([:Z], [3]), FrozenGate(PauliRotation([:X], [3]), parameter = 1.57), CliffordGate(:S, [3]), CliffordGate(:S, [4]), FrozenGate(PauliRotation([:X], [4]), parameter = 1.57), PauliRotation([:Z], [4]), FrozenGate(PauliRotation([:X], [4]), parameter = 1.57), CliffordGate(:S, [4]), PauliRotation([:Z, :Z], [1, 2]), FrozenGate(PauliRotation([:Z, :Z], [3, 4]), parameter = 0.0), FrozenGate(PauliRotation([:Z, :Z], [2, 3]), parameter = 1.57), CliffordGate(:S, [1]), FrozenGate(PauliRotation([:X], [1]), parameter = 1.57), PauliRotation([:Z], [1]), FrozenGate(PauliRotation([:X], [1]), parameter = 1.57), CliffordGate(:S, [1]), CliffordGate(:S, [2]), FrozenGate(PauliRotation([:X], [2]), parameter = 1.57), FrozenGate(PauliRotation([:Z], [2]), parameter = 0.0), FrozenGate(PauliRotation([:X], [2]), parameter = 1.57), CliffordGate(:S, [2]), CliffordGate(:S, [3]), FrozenGate(PauliRotation([:X], [3]), parameter = 1.57), PauliRotation([:Z], [3]), FrozenGate(PauliRotation([:X], [3]), parameter = 1.57), CliffordGate(:S, [3]), CliffordGate(:S, [4]), FrozenGate(PauliRotation([:X], [4]), parameter = 1.57), PauliRotation([:Z], [4]), FrozenGate(PauliRotation([:X], [4]), parameter = 1.57), CliffordGate(:S, [4])]\n"
     ]
    }
   ],
   "source": [
    "#test the init function:\n",
    "println(circuit)\n",
    "println(init_circuit)   "
   ]
  },
  {
   "cell_type": "markdown",
   "metadata": {},
   "source": [
    "### Proposal function with random sampling (TO BE REPLACED with eq 14)"
   ]
  },
  {
   "cell_type": "code",
   "execution_count": 65,
   "metadata": {},
   "outputs": [
    {
     "data": {
      "text/plain": [
       "proposal_random_tfimqaoacircuit (generic function with 2 methods)"
      ]
     },
     "metadata": {},
     "output_type": "display_data"
    }
   ],
   "source": [
    "# Define the function to apply circuit updates\n",
    "function proposal_random_tfimqaoacircuit(target_circuit::Vector{Gate},current_circuit::Vector{Gate},current_replaced_indices::Vector{Int},np::Integer=2)    \n",
    "    # Identify all Pauli Z rotations in the circuit (includes RZZ) (Pauli Z are only the non-Cifford's here)\n",
    "    proposal_circuit = deepcopy(current_circuit)\n",
    "    z_rot_indices = [i for i in eachindex(proposal_circuit) if isa(proposal_circuit[i], PauliRotation)]\n",
    "\n",
    "    println(\"Z rotation indices (Non-Cliffords): \", z_rot_indices)\n",
    "    println(\"Indices replaced (Frozen Z rotations (Cliffords)): \", current_replaced_indices)  \n",
    "    # Ensure we have enough pairs\n",
    "    if length(current_replaced_indices) < np\n",
    "        error(\"Not enough frozen Pauli rotations in the initialized MCMC circuit to select the value of pairs.\")\n",
    "    end\n",
    "\n",
    "    # Shuffle and select n_p pairs\n",
    "    Random.shuffle!(z_rot_indices)\n",
    "    Random.shuffle!(current_replaced_indices)\n",
    "    selected_pairs = [(z_rot_indices[i], current_replaced_indices[i]) for i in 1:np] #\n",
    "    \n",
    "    println(\"Selected pairs of Cliff. and non-Clifford: \", selected_pairs) \n",
    "    #println(\"Circuit before replacement: \", proposal_circuit)\n",
    "\n",
    "    #choose left element of each pair and replace with Clifford gate S^n,sample n\n",
    "    for (i, j) in selected_pairs\n",
    "        qubits = proposal_circuit[i].qinds\n",
    "        #println(\"Qubits involved: \", qubits)\n",
    "        \n",
    "        k_p = rand(0:3) # SEE BELOW: we need to sample from eq 14\n",
    "        if length(qubits) == 1\n",
    "            proposal_circuit[i] = PauliRotation(:Z, qubits, k_p * π/2)  # Replace with Clifford rotation\n",
    "        else\n",
    "            proposal_circuit[i] = PauliRotation([:Z, :Z], qubits, k_p * π/2)  # Replace with Clifford rotation\n",
    "        end\n",
    "    end\n",
    "    #println(\"Circuit after first replacement: \", proposal_circuit)\n",
    "\n",
    "\n",
    "    #then reset the right element (Clifford, FrozenGate[PauliRotation]]) to the one of the target circuit\n",
    "    for (i, j) in selected_pairs \n",
    "        qubits = proposal_circuit[j].gate.qinds\n",
    "        proposal_circuit[j] = target_circuit[j] \n",
    "    end\n",
    "    #println(\"Circuit after second replacement: \", proposal_circuit)\n",
    "    ##TODO: \n",
    "    #set new current_replaced_indices (non-replaced ones and the new ones)\n",
    "    #delete the ( , j) items from current_replaced_indices, add the (i, ) items\n",
    "    updated_replaced_indices = setdiff(current_replaced_indices, [j for (_, j) in selected_pairs])\n",
    "    append!(updated_replaced_indices, [i for (i, _) in selected_pairs])\n",
    "\n",
    "    return proposal_circuit, updated_replaced_indices\n",
    "end"
   ]
  },
  {
   "cell_type": "markdown",
   "metadata": {},
   "source": [
    "### Isolated sampling function"
   ]
  },
  {
   "cell_type": "code",
   "execution_count": 66,
   "metadata": {},
   "outputs": [
    {
     "data": {
      "text/plain": [
       "sample_kn (generic function with 1 method)"
      ]
     },
     "metadata": {},
     "output_type": "display_data"
    }
   ],
   "source": [
    "    function compute_distance(alpha, n)\n",
    "        Pauli_z = [1 0; 0 -1]\n",
    "        S_n = exp(-im * n * π / 2 * Pauli_z)\n",
    "        println(\"S_n: \", S_n)\n",
    "        Rz_alpha = exp(-im * alpha * Pauli_z/2)\n",
    "        println(\"Rz_alpha: \", Rz_alpha)\n",
    "        return LinearAlgebra.norm(Rz_alpha - S_n)\n",
    "    end\n",
    "    \n",
    "    # Define probability distribution function\n",
    "    function sample_kn(alpha)\n",
    "        sigma = 0.5\n",
    "        n_vals =LinRange(0,7,8) # limit n values (they repeat after 2 pi)\n",
    "        distances = [compute_distance(alpha, n) for n in n_vals]\n",
    "        println(\"Distances: \", distances)\n",
    "        weights = exp.(-distances.^2 ./ sigma^2)\n",
    "        println(\"Weights: \", weights)\n",
    "        probs = ProbabilityWeights(weights ./ sum(weights)) \n",
    "        println(\"Probs\",probs) # Normalize probabilities\n",
    "        return StatsBase.sample(n_vals,probs,1)  # Sample from the distribution (using StatsBase)\n",
    "    end"
   ]
  },
  {
   "cell_type": "code",
   "execution_count": 67,
   "metadata": {},
   "outputs": [
    {
     "name": "stdout",
     "output_type": "stream",
     "text": [
      "Initial circuit: Gate[PauliRotation([:Z, :Z], [1, 2]), PauliRotation([:Z, :Z], [3, 4]), PauliRotation([:Z, :Z], [2, 3]), CliffordGate(:S, [1]), FrozenGate(PauliRotation([:X], [1]), parameter = 1.57), PauliRotation([:Z], [1]), FrozenGate(PauliRotation([:X], [1]), parameter = 1.57), CliffordGate(:S, [1]), CliffordGate(:S, [2]), FrozenGate(PauliRotation([:X], [2]), parameter = 1.57), FrozenGate(PauliRotation([:Z], [2]), parameter = 4.71), FrozenGate(PauliRotation([:X], [2]), parameter = 1.57), CliffordGate(:S, [2]), CliffordGate(:S, [3]), FrozenGate(PauliRotation([:X], [3]), parameter = 1.57), PauliRotation([:Z], [3]), FrozenGate(PauliRotation([:X], [3]), parameter = 1.57), CliffordGate(:S, [3]), CliffordGate(:S, [4]), FrozenGate(PauliRotation([:X], [4]), parameter = 1.57), PauliRotation([:Z], [4]), FrozenGate(PauliRotation([:X], [4]), parameter = 1.57), CliffordGate(:S, [4]), PauliRotation([:Z, :Z], [1, 2]), FrozenGate(PauliRotation([:Z, :Z], [3, 4]), parameter = 0.0), FrozenGate(PauliRotation([:Z, :Z], [2, 3]), parameter = 1.57), CliffordGate(:S, [1]), FrozenGate(PauliRotation([:X], [1]), parameter = 1.57), PauliRotation([:Z], [1]), FrozenGate(PauliRotation([:X], [1]), parameter = 1.57), CliffordGate(:S, [1]), CliffordGate(:S, [2]), FrozenGate(PauliRotation([:X], [2]), parameter = 1.57), FrozenGate(PauliRotation([:Z], [2]), parameter = 0.0), FrozenGate(PauliRotation([:X], [2]), parameter = 1.57), CliffordGate(:S, [2]), CliffordGate(:S, [3]), FrozenGate(PauliRotation([:X], [3]), parameter = 1.57), PauliRotation([:Z], [3]), FrozenGate(PauliRotation([:X], [3]), parameter = 1.57), CliffordGate(:S, [3]), CliffordGate(:S, [4]), FrozenGate(PauliRotation([:X], [4]), parameter = 1.57), PauliRotation([:Z], [4]), FrozenGate(PauliRotation([:X], [4]), parameter = 1.57), CliffordGate(:S, [4])]\n"
     ]
    }
   ],
   "source": [
    "println(\"Initial circuit: \", init_circuit)\n"
   ]
  },
  {
   "cell_type": "code",
   "execution_count": 68,
   "metadata": {},
   "outputs": [
    {
     "name": "stdout",
     "output_type": "stream",
     "text": [
      "Z rotation indices (Non-Cliffords): [1, 2, 3, 6, 16, 21, 24, 29, 39, 44]\n",
      "Indices replaced (Frozen Z rotations (Cliffords)): [34, 26, 25, 11]\n",
      "Selected pairs of Cliff. and non-Clifford: [(16, 11), (6, 34)]\n",
      "Updated indices: [25, 26, 16, 6]Z rotation indices (Non-Cliffords): [1, 2, 3, 11, 21, 24, 29, 34, 39, 44]\n",
      "Indices replaced (Frozen Z rotations (Cliffords)): [25, 26, 16, 6]\n",
      "Selected pairs of Cliff. and non-Clifford: [(29, 26), (24, 25)]\n",
      "Updated indices: [16, 6, 29, 24]"
     ]
    }
   ],
   "source": [
    "proposal_circuit, updated_replaced_indices = proposal_random_tfimqaoacircuit(circuit, init_circuit, indices_replaced, 2) #check\n",
    "print(\"Updated indices: \", updated_replaced_indices)\n",
    "\n",
    "prop_2, update_2 = proposal_random_tfimqaoacircuit(circuit, proposal_circuit, updated_replaced_indices, 2) \n",
    "print(\"Updated indices: \", update_2)"
   ]
  },
  {
   "cell_type": "code",
   "execution_count": 69,
   "metadata": {},
   "outputs": [
    {
     "name": "stdout",
     "output_type": "stream",
     "text": [
      "false\n",
      "true\n"
     ]
    }
   ],
   "source": [
    "#short check that our replacements FrozenGates[PauliRotation[]] are not PauliRotations anymore\n",
    "println(init_circuit[11] isa PauliRotation)\n",
    "println(init_circuit[11] isa FrozenGate)"
   ]
  },
  {
   "cell_type": "markdown",
   "metadata": {},
   "source": [
    "### Under construction from here: Sample prob dist. eq 14\n",
    "- We don't know what $\\alpha$ in $R_z(\\alpha)$ should be here  (eq. 14) , so its set to a fixed value for now."
   ]
  },
  {
   "cell_type": "code",
   "execution_count": 78,
   "metadata": {},
   "outputs": [
    {
     "data": {
      "text/plain": [
       "proposal_tfimqaoacircuit (generic function with 2 methods)"
      ]
     },
     "metadata": {},
     "output_type": "display_data"
    }
   ],
   "source": [
    "# Define the function to apply circuit updates\n",
    "function proposal_tfimqaoacircuit(target_circuit::Vector{Gate},current_circuit::Vector{Gate},current_replaced_indices::Vector{Int},np::Integer=2)    \n",
    "    # Identify all Pauli Z rotations in the circuit (includes RZZ) (Pauli Z are only the non-Cifford's here)\n",
    "    proposal_circuit = deepcopy(current_circuit)\n",
    "    z_rot_indices = [i for i in eachindex(proposal_circuit) if isa(proposal_circuit[i], PauliRotation)]\n",
    "\n",
    "    println(\"Z rotation indices (Non-Cliffords): \", z_rot_indices)\n",
    "    println(\"Indices replaced (Frozen Z rotations (Cliffords)): \", current_replaced_indices)  \n",
    "    # Ensure we have enough pairs\n",
    "    if length(current_replaced_indices) < np\n",
    "        error(\"Not enough frozen Pauli rotations in the initialized MCMC circuit to select the value of pairs.\")\n",
    "    end\n",
    "\n",
    "    # Shuffle and select n_p pairs\n",
    "    Random.shuffle!(z_rot_indices)\n",
    "    Random.shuffle!(current_replaced_indices)\n",
    "    selected_pairs = [(z_rot_indices[i], current_replaced_indices[i]) for i in 1:np] #\n",
    "    \n",
    "    println(\"Selected pairs of Cliff. and non-Clifford: \", selected_pairs) \n",
    "    #println(\"Circuit before replacement: \", proposal_circuit)\n",
    "\n",
    "    function compute_distance(alpha, n)\n",
    "        Pauli_z = [1 0; 0 -1]\n",
    "        S_n = exp(-im * n * π / 2 * Pauli_z)\n",
    "        #println(\"S_n: \", S_n)\n",
    "        Rz_alpha = exp(-im * alpha * Pauli_z/2)\n",
    "        #println(\"Rz_alpha: \", Rz_alpha)\n",
    "        return LinearAlgebra.norm(Rz_alpha - S_n)\n",
    "    end\n",
    "    \n",
    "    # Define probability distribution function\n",
    "    function sample_kn(alpha)\n",
    "        sigma = 0.5\n",
    "        n_vals =LinRange(0,7,8) # limit n values (they repeat after 2 pi)\n",
    "        distances = [compute_distance(alpha, n) for n in n_vals]\n",
    "        #println(\"Distances: \", distances)\n",
    "        weights = exp.(-distances.^2 ./ sigma^2)\n",
    "        #println(\"Weights: \", weights)\n",
    "        probs = ProbabilityWeights(weights ./ sum(weights)) \n",
    "        #println(\"Probs\",probs) # Normalize probabilities\n",
    "        return first(StatsBase.sample(n_vals,probs,1))  # Sample from the distribution (using StatsBase)\n",
    "    end\n",
    "\n",
    "    alpha = 0.5 ###!! MISSING\n",
    "    #choose left element of each pair and replace with Clifford gate S^n,sample n\n",
    "    for (i, j) in selected_pairs\n",
    "        qubits = proposal_circuit[i].qinds\n",
    "        #println(\"Qubits involved: \", qubits)\n",
    "        \n",
    "        k_p = sample_kn(alpha)\n",
    "        print(k_p) # SEE BELOW: we need to sample from eq 14\n",
    "        if length(qubits) == 1\n",
    "            proposal_circuit[i] = PauliRotation(:Z, qubits, k_p * π/2)  # Replace with Clifford rotation\n",
    "        else\n",
    "            proposal_circuit[i] = PauliRotation([:Z, :Z], qubits, k_p * π/2)  # Replace with Clifford rotation\n",
    "        end\n",
    "    end\n",
    "    #println(\"Circuit after first replacement: \", proposal_circuit)\n",
    "\n",
    "\n",
    "    #then reset the right element (Clifford, FrozenGate[PauliRotation]]) to the one of the target circuit\n",
    "    for (i, j) in selected_pairs \n",
    "        qubits = proposal_circuit[j].gate.qinds\n",
    "        proposal_circuit[j] = target_circuit[j] \n",
    "    end\n",
    "    #println(\"Circuit after second replacement: \", proposal_circuit)\n",
    "    \n",
    "    #update the replaced indices\n",
    "    updated_replaced_indices = setdiff(current_replaced_indices, [j for (_, j) in selected_pairs])\n",
    "    append!(updated_replaced_indices, [i for (i, _) in selected_pairs])\n",
    "\n",
    "    return proposal_circuit, updated_replaced_indices\n",
    "end"
   ]
  },
  {
   "cell_type": "code",
   "execution_count": 79,
   "metadata": {},
   "outputs": [
    {
     "name": "stdout",
     "output_type": "stream",
     "text": [
      "Z rotation indices (Non-Cliffords): [1, 2, 3, 6, 16, 21, 24, 29, 39, 44]\n",
      "Indices replaced (Frozen Z rotations (Cliffords)): [11, 25, 34, 26]\n",
      "Selected pairs of Cliff. and non-Clifford: [(21, 25), (6, 34)]\n",
      "0.04.0Z rotation indices (Non-Cliffords): [1, 2, 3, 16, 24, 25, 29, 34, 39, 44]\n",
      "Indices replaced (Frozen Z rotations (Cliffords)): [26, 11, 21, 6]\n",
      "Selected pairs of Cliff. and non-Clifford: [(2, 21), (25, 6)]\n",
      "0.04.0New proposal 1: Gate[PauliRotation([:Z, :Z], [1, 2]), FrozenGate(PauliRotation([:Z, :Z], [3, 4]), parameter = 0.0), PauliRotation([:Z, :Z], [2, 3]), CliffordGate(:S, [1]), FrozenGate(PauliRotation([:X], [1]), parameter = 1.57), PauliRotation([:Z], [1]), FrozenGate(PauliRotation([:X], [1]), parameter = 1.57), CliffordGate(:S, [1]), CliffordGate(:S, [2]), FrozenGate(PauliRotation([:X], [2]), parameter = 1.57), FrozenGate(PauliRotation([:Z], [2]), parameter = 4.71), FrozenGate(PauliRotation([:X], [2]), parameter = 1.57), CliffordGate(:S, [2]), CliffordGate(:S, [3]), FrozenGate(PauliRotation([:X], [3]), parameter = 1.57), PauliRotation([:Z], [3]), FrozenGate(PauliRotation([:X], [3]), parameter = 1.57), CliffordGate(:S, [3]), CliffordGate(:S, [4]), FrozenGate(PauliRotation([:X], [4]), parameter = 1.57), PauliRotation([:Z], [4]), FrozenGate(PauliRotation([:X], [4]), parameter = 1.57), CliffordGate(:S, [4]), PauliRotation([:Z, :Z], [1, 2]), FrozenGate(PauliRotation([:Z, :Z], [3, 4]), parameter = 6.28), FrozenGate(PauliRotation([:Z, :Z], [2, 3]), parameter = 1.57), CliffordGate(:S, [1]), FrozenGate(PauliRotation([:X], [1]), parameter = 1.57), PauliRotation([:Z], [1]), FrozenGate(PauliRotation([:X], [1]), parameter = 1.57), CliffordGate(:S, [1]), CliffordGate(:S, [2]), FrozenGate(PauliRotation([:X], [2]), parameter = 1.57), PauliRotation([:Z], [2]), FrozenGate(PauliRotation([:X], [2]), parameter = 1.57), CliffordGate(:S, [2]), CliffordGate(:S, [3]), FrozenGate(PauliRotation([:X], [3]), parameter = 1.57), PauliRotation([:Z], [3]), FrozenGate(PauliRotation([:X], [3]), parameter = 1.57), CliffordGate(:S, [3]), CliffordGate(:S, [4]), FrozenGate(PauliRotation([:X], [4]), parameter = 1.57), PauliRotation([:Z], [4]), FrozenGate(PauliRotation([:X], [4]), parameter = 1.57), CliffordGate(:S, [4])]\n",
      "Z rotation indices (Non-Cliffords): [1, 3, 6, 16, 21, 24, 29, 34, 39, 44]\n",
      "Indices replaced (Frozen Z rotations (Cliffords)): [26, 11, 2, 25]\n",
      "Selected pairs of Cliff. and non-Clifford: [(16, 26), (39, 2)]\n",
      "4.00.0New proposal 2: Gate[PauliRotation([:Z, :Z], [1, 2]), PauliRotation([:Z, :Z], [3, 4]), PauliRotation([:Z, :Z], [2, 3]), CliffordGate(:S, [1]), FrozenGate(PauliRotation([:X], [1]), parameter = 1.57), PauliRotation([:Z], [1]), FrozenGate(PauliRotation([:X], [1]), parameter = 1.57), CliffordGate(:S, [1]), CliffordGate(:S, [2]), FrozenGate(PauliRotation([:X], [2]), parameter = 1.57), FrozenGate(PauliRotation([:Z], [2]), parameter = 4.71), FrozenGate(PauliRotation([:X], [2]), parameter = 1.57), CliffordGate(:S, [2]), CliffordGate(:S, [3]), FrozenGate(PauliRotation([:X], [3]), parameter = 1.57), FrozenGate(PauliRotation([:Z], [3]), parameter = 6.28), FrozenGate(PauliRotation([:X], [3]), parameter = 1.57), CliffordGate(:S, [3]), CliffordGate(:S, [4]), FrozenGate(PauliRotation([:X], [4]), parameter = 1.57), PauliRotation([:Z], [4]), FrozenGate(PauliRotation([:X], [4]), parameter = 1.57), CliffordGate(:S, [4]), PauliRotation([:Z, :Z], [1, 2]), FrozenGate(PauliRotation([:Z, :Z], [3, 4]), parameter = 6.28), PauliRotation([:Z, :Z], [2, 3]), CliffordGate(:S, [1]), FrozenGate(PauliRotation([:X], [1]), parameter = 1.57), PauliRotation([:Z], [1]), FrozenGate(PauliRotation([:X], [1]), parameter = 1.57), CliffordGate(:S, [1]), CliffordGate(:S, [2]), FrozenGate(PauliRotation([:X], [2]), parameter = 1.57), PauliRotation([:Z], [2]), FrozenGate(PauliRotation([:X], [2]), parameter = 1.57), CliffordGate(:S, [2]), CliffordGate(:S, [3]), FrozenGate(PauliRotation([:X], [3]), parameter = 1.57), FrozenGate(PauliRotation([:Z], [3]), parameter = 0.0), FrozenGate(PauliRotation([:X], [3]), parameter = 1.57), CliffordGate(:S, [3]), CliffordGate(:S, [4]), FrozenGate(PauliRotation([:X], [4]), parameter = 1.57), PauliRotation([:Z], [4]), FrozenGate(PauliRotation([:X], [4]), parameter = 1.57), CliffordGate(:S, [4])]\n"
     ]
    }
   ],
   "source": [
    "proposal_circuit, ind_repl = proposal_tfimqaoacircuit(circuit, init_circuit, indices_replaced, 2) #check this works iteratively\n",
    "new_proposal, new_ind_repl = proposal_tfimqaoacircuit(circuit, proposal_circuit, ind_repl, 2)\n",
    "println(\"New proposal 1: \", new_proposal) #we need to name a variable to keep the new proposal\n",
    "new_proposal_2, ind_repl_2 = proposal_tfimqaoacircuit(circuit, new_proposal, new_ind_repl, 2)\n",
    "println(\"New proposal 2: \", new_proposal_2) "
   ]
  },
  {
   "cell_type": "markdown",
   "metadata": {},
   "source": [
    "## Next steps: \n",
    "- constrain the parameters in loss function (dict or as Manuel suggested)\n",
    "- closure thing (code loss function, add closure outside to optimize) , so far no exact position of this closure\n",
    "- find the parameter $\\alpha$ (optimised $\\alpha$ from target circuit of that exact gate)  for the proposal function (sample n) (page 7 eq 14, Appendix B of paper)\n",
    "\n",
    "- define the MH algorithm (propose until a sample is accepted, then from this accepted sample start proposing again)\n",
    "- merge everything into one MCMC function"
   ]
  },
  {
   "cell_type": "markdown",
   "metadata": {},
   "source": [
    "### Under construction: Merged MCMC function"
   ]
  },
  {
   "cell_type": "code",
   "execution_count": 72,
   "metadata": {},
   "outputs": [
    {
     "data": {
      "text/plain": [
       "MCMC (generic function with 2 methods)"
      ]
     },
     "metadata": {},
     "output_type": "display_data"
    }
   ],
   "source": [
    "function MCMC(target_circuit::Vector{Gate},current_circuit::Vector{Gate},nqubits::Integer,nlayers::Integer,current_replaced_indices::Vector{Int},np::Integer=2)\n",
    "    #init the MCMC\n",
    "    initial_cicuit, initial_replaced_indices = initialize_mcmc_circuit(target_circuit, nq, nl)\n",
    "    n_accepted = 0 \n",
    "    n_total = 0\n",
    "    if n_accepted < 10 # we want 10 samples of the circuit\n",
    "        #generate a proposal step\n",
    "        proposal_circuit, updated_replaced_indices = proposal_tfimqaoacircuit(target_circuit, current_circuit, current_replaced_indices, np)\n",
    "        #compute the acceptance probability\n",
    "        #accept or reject the proposal\n",
    "        #update the current circuit\n",
    "        #update the acceptance rate\n",
    "    end\n",
    "    #generate a proposal step\n",
    "    proposal_circuit, updated_replaced_indices = proposal_tfimqaoacircuit(target_circuit, current_circuit, current_replaced_indices, np)\n",
    "\n",
    "    return initial_cicuit, initial_replaced_indices\n",
    "end"
   ]
  },
  {
   "cell_type": "code",
   "execution_count": 73,
   "metadata": {},
   "outputs": [
    {
     "name": "stdout",
     "output_type": "stream",
     "text": [
      "Z rotation indices (Non-Cliffords): [1, 2, 3, 6, 16, 21, 24, 29, 39, 44]\n",
      "Indices replaced (Frozen Z rotations (Cliffords)): [26, 25, 34, 11]\n",
      "Selected pairs of Cliff. and non-Clifford: [(24, 26), (44, 34)]\n",
      "S_n: ComplexF64[1.0 + 0.0im 0.0 + 0.0im; 0.0 - 0.0im 1.0 + 0.0im]\n",
      "Rz_alpha: ComplexF64[0.9689124217106446 - 0.24740395925452285im 0.0 + 0.0im; 0.0 + 0.0im 0.9689124217106446 + 0.24740395925452285im]\n",
      "S_n: ComplexF64[2.220446049250313e-16 - 1.0im 0.0 + 0.0im; 0.0 + 0.0im 2.220446049250313e-16 + 1.0im]\n",
      "Rz_alpha: ComplexF64[0.9689124217106446 - 0.24740395925452285im 0.0 + 0.0im; 0.0 + 0.0im 0.9689124217106446 + 0.24740395925452285im]\n",
      "S_n: ComplexF64[-0.9999999999999999 - 1.5269510447359755e-16im 0.0 + 0.0im; 0.0 + 0.0im -0.9999999999999999 + 1.5269510447359755e-16im]\n",
      "Rz_alpha: ComplexF64[0.9689124217106446 - 0.24740395925452285im 0.0 + 0.0im; 0.0 + 0.0im 0.9689124217106446 + 0.24740395925452285im]\n",
      "S_n: ComplexF64[-4.996003610813204e-16 + 0.9999999999999999im 0.0 - 0.0im; -0.0 + 0.0im -4.996003610813204e-16 - 0.9999999999999999im]\n",
      "Rz_alpha: ComplexF64[0.9689124217106446 - 0.24740395925452285im 0.0 + 0.0im; 0.0 + 0.0im 0.9689124217106446 + 0.24740395925452285im]\n",
      "S_n: ComplexF64[0.9999999999999998 + 3.0539020894719504e-16im 0.0 + 0.0im; 0.0 + 0.0im 0.9999999999999998 - 3.0539020894719504e-16im]\n",
      "Rz_alpha: ComplexF64[0.9689124217106446 - 0.24740395925452285im 0.0 + 0.0im; 0.0 + 0.0im 0.9689124217106446 + 0.24740395925452285im]\n",
      "S_n: ComplexF64[-3.3306690738754696e-16 - 1.0000000000000002im 0.0 + 0.0im; 0.0 + 0.0im -3.3306690738754696e-16 + 1.0000000000000002im]\n",
      "Rz_alpha: ComplexF64[0.9689124217106446 - 0.24740395925452285im 0.0 + 0.0im; 0.0 + 0.0im 0.9689124217106446 + 0.24740395925452285im]\n",
      "S_n: ComplexF64[-0.9999999999999998 - 9.992007221626407e-16im 0.0 + 0.0im; 0.0 + 0.0im -0.9999999999999998 + 9.992007221626407e-16im]\n",
      "Rz_alpha: ComplexF64[0.9689124217106446 - 0.24740395925452285im 0.0 + 0.0im; 0.0 + 0.0im 0.9689124217106446 + 0.24740395925452285im]\n",
      "S_n: ComplexF64[-7.771561172376096e-16 + 1.0000000000000002im 0.0 + 0.0im; 0.0 + 0.0im -7.771561172376096e-16 - 1.0000000000000002im]\n",
      "Rz_alpha: ComplexF64[0.9689124217106446 - 0.24740395925452285im 0.0 + 0.0im; 0.0 + 0.0im 0.9689124217106446 + 0.24740395925452285im]\n",
      "Distances: [0.3526333976772773, 1.7350458676882023, 2.8063587951013282, 2.2337448012291135, 0.3526333976772777, 1.7350458676882032, 2.8063587951013274, 2.2337448012291143]\n",
      "Weights: [0.6081089295436292, 5.894229998511862e-6, 2.0825488549556996e-14, 2.148569966270677e-9, 0.6081089295436285, 5.894229998511788e-6, 2.0825488549557365e-14, 2.1485699662706465e-9]\n",
      "Probs[0.4999951519200505, 4.846313350092349e-6, 1.712299031517175e-14, 1.7665824567032451e-9, 0.49999515192005, 4.8463133500922885e-6, 1.7122990315172053e-14, 1.76658245670322e-9]\n"
     ]
    },
    {
     "ename": "MethodError",
     "evalue": "MethodError: no method matching FrozenGate(::PauliRotation, ::Vector{Float64})\nThe type `FrozenGate` exists, but no method is defined for this combination of argument types when trying to construct it.\n\nClosest candidates are:\n  FrozenGate(::GateType, !Matched::T) where {GateType<:ParametrizedGate, T<:Number}\n   @ PauliPropagation ~/.julia/packages/PauliPropagation/S3AWL/src/Gates/frozengates.jl:17\n",
     "output_type": "error",
     "traceback": [
      "MethodError: no method matching FrozenGate(::PauliRotation, ::Vector{Float64})\n",
      "The type `FrozenGate` exists, but no method is defined for this combination of argument types when trying to construct it.\n",
      "\n",
      "Closest candidates are:\n",
      "  FrozenGate(::GateType, !Matched::T) where {GateType<:ParametrizedGate, T<:Number}\n",
      "   @ PauliPropagation ~/.julia/packages/PauliPropagation/S3AWL/src/Gates/frozengates.jl:17\n",
      "\n",
      "\n",
      "Stacktrace:\n",
      " [1] PauliRotation(symbols::Vector{Symbol}, qinds::Vector{Int64}, theta::Vector{Float64})\n",
      "   @ PauliPropagation ~/.julia/packages/PauliPropagation/S3AWL/src/Gates/paulirotations.jl:60\n",
      " [2] proposal_tfimqaoacircuit(target_circuit::Vector{Gate}, current_circuit::Vector{Gate}, current_replaced_indices::Vector{Int64}, np::Int64)\n",
      "   @ Main ~/julia_scripts/pp-em/cdr/jl_notebook_cell_df34fa98e69747e1a8f8a730347b8e2f_Y164sdnNjb2RlLXJlbW90ZQ==.jl:54\n",
      " [3] MCMC(target_circuit::Vector{Gate}, current_circuit::Vector{Gate}, nqubits::Int64, nlayers::Int64, current_replaced_indices::Vector{Int64}, np::Int64)\n",
      "   @ Main ~/julia_scripts/pp-em/cdr/jl_notebook_cell_df34fa98e69747e1a8f8a730347b8e2f_X46sdnNjb2RlLXJlbW90ZQ==.jl:8\n",
      " [4] top-level scope\n",
      "   @ ~/julia_scripts/pp-em/cdr/jl_notebook_cell_df34fa98e69747e1a8f8a730347b8e2f_X45sdnNjb2RlLXJlbW90ZQ==.jl:1"
     ]
    }
   ],
   "source": [
    "MCMC(circuit, init_circuit, nq, nl, indices_replaced, 2) #check"
   ]
  },
  {
   "cell_type": "code",
   "execution_count": 74,
   "metadata": {},
   "outputs": [
    {
     "name": "stdout",
     "output_type": "stream",
     "text": [
      "Z rotation indices (Non-Cliffords): [1, 2, 3, 6, 16, 21, 24, 29, 39, 44]\n",
      "Indices replaced (Frozen Z rotations (Cliffords)): [26, 34, 11, 25]\n",
      "Selected pairs of Cliff. and non-Clifford: [(24, 11), (2, 34)]\n",
      "S_n: ComplexF64[1.0 + 0.0im 0.0 + 0.0im; 0.0 - 0.0im 1.0 + 0.0im]\n",
      "Rz_alpha: ComplexF64[0.9689124217106446 - 0.24740395925452285im 0.0 + 0.0im; 0.0 + 0.0im 0.9689124217106446 + 0.24740395925452285im]\n",
      "S_n: ComplexF64[2.220446049250313e-16 - 1.0im 0.0 + 0.0im; 0.0 + 0.0im 2.220446049250313e-16 + 1.0im]\n",
      "Rz_alpha: ComplexF64[0.9689124217106446 - 0.24740395925452285im 0.0 + 0.0im; 0.0 + 0.0im 0.9689124217106446 + 0.24740395925452285im]\n",
      "S_n: ComplexF64[-0.9999999999999999 - 1.5269510447359755e-16im 0.0 + 0.0im; 0.0 + 0.0im -0.9999999999999999 + 1.5269510447359755e-16im]\n",
      "Rz_alpha: ComplexF64[0.9689124217106446 - 0.24740395925452285im 0.0 + 0.0im; 0.0 + 0.0im 0.9689124217106446 + 0.24740395925452285im]\n",
      "S_n: ComplexF64[-4.996003610813204e-16 + 0.9999999999999999im 0.0 - 0.0im; -0.0 + 0.0im -4.996003610813204e-16 - 0.9999999999999999im]\n",
      "Rz_alpha: ComplexF64[0.9689124217106446 - 0.24740395925452285im 0.0 + 0.0im; 0.0 + 0.0im 0.9689124217106446 + 0.24740395925452285im]\n",
      "S_n: ComplexF64[0.9999999999999998 + 3.0539020894719504e-16im 0.0 + 0.0im; 0.0 + 0.0im 0.9999999999999998 - 3.0539020894719504e-16im]\n",
      "Rz_alpha: ComplexF64[0.9689124217106446 - 0.24740395925452285im 0.0 + 0.0im; 0.0 + 0.0im 0.9689124217106446 + 0.24740395925452285im]\n",
      "S_n: ComplexF64[-3.3306690738754696e-16 - 1.0000000000000002im 0.0 + 0.0im; 0.0 + 0.0im -3.3306690738754696e-16 + 1.0000000000000002im]\n",
      "Rz_alpha: ComplexF64[0.9689124217106446 - 0.24740395925452285im 0.0 + 0.0im; 0.0 + 0.0im 0.9689124217106446 + 0.24740395925452285im]\n",
      "S_n: ComplexF64[-0.9999999999999998 - 9.992007221626407e-16im 0.0 + 0.0im; 0.0 + 0.0im -0.9999999999999998 + 9.992007221626407e-16im]\n",
      "Rz_alpha: ComplexF64[0.9689124217106446 - 0.24740395925452285im 0.0 + 0.0im; 0.0 + 0.0im 0.9689124217106446 + 0.24740395925452285im]\n",
      "S_n: ComplexF64[-7.771561172376096e-16 + 1.0000000000000002im 0.0 + 0.0im; 0.0 + 0.0im -7.771561172376096e-16 - 1.0000000000000002im]\n",
      "Rz_alpha: ComplexF64[0.9689124217106446 - 0.24740395925452285im 0.0 + 0.0im; 0.0 + 0.0im 0.9689124217106446 + 0.24740395925452285im]\n",
      "Distances: [0.3526333976772773, 1.7350458676882023, 2.8063587951013282, 2.2337448012291135, 0.3526333976772777, 1.7350458676882032, 2.8063587951013274, 2.2337448012291143]\n",
      "Weights: [0.6081089295436292, 5.894229998511862e-6, 2.0825488549556996e-14, 2.148569966270677e-9, 0.6081089295436285, 5.894229998511788e-6, 2.0825488549557365e-14, 2.1485699662706465e-9]\n",
      "Probs[0.4999951519200505, 4.846313350092349e-6, 1.712299031517175e-14, 1.7665824567032451e-9, 0.49999515192005, 4.8463133500922885e-6, 1.7122990315172053e-14, 1.76658245670322e-9]\n"
     ]
    },
    {
     "ename": "MethodError",
     "evalue": "MethodError: no method matching FrozenGate(::PauliRotation, ::Vector{Float64})\nThe type `FrozenGate` exists, but no method is defined for this combination of argument types when trying to construct it.\n\nClosest candidates are:\n  FrozenGate(::GateType, !Matched::T) where {GateType<:ParametrizedGate, T<:Number}\n   @ PauliPropagation ~/.julia/packages/PauliPropagation/S3AWL/src/Gates/frozengates.jl:17\n",
     "output_type": "error",
     "traceback": [
      "MethodError: no method matching FrozenGate(::PauliRotation, ::Vector{Float64})\n",
      "The type `FrozenGate` exists, but no method is defined for this combination of argument types when trying to construct it.\n",
      "\n",
      "Closest candidates are:\n",
      "  FrozenGate(::GateType, !Matched::T) where {GateType<:ParametrizedGate, T<:Number}\n",
      "   @ PauliPropagation ~/.julia/packages/PauliPropagation/S3AWL/src/Gates/frozengates.jl:17\n",
      "\n",
      "\n",
      "Stacktrace:\n",
      " [1] PauliRotation(symbols::Vector{Symbol}, qinds::Vector{Int64}, theta::Vector{Float64})\n",
      "   @ PauliPropagation ~/.julia/packages/PauliPropagation/S3AWL/src/Gates/paulirotations.jl:60\n",
      " [2] proposal_tfimqaoacircuit(target_circuit::Vector{Gate}, current_circuit::Vector{Gate}, current_replaced_indices::Vector{Int64}, np::Int64)\n",
      "   @ Main ~/julia_scripts/pp-em/cdr/jl_notebook_cell_df34fa98e69747e1a8f8a730347b8e2f_Y164sdnNjb2RlLXJlbW90ZQ==.jl:54\n",
      " [3] top-level scope\n",
      "   @ ~/julia_scripts/pp-em/cdr/jl_notebook_cell_df34fa98e69747e1a8f8a730347b8e2f_X52sdnNjb2RlLXJlbW90ZQ==.jl:1"
     ]
    }
   ],
   "source": [
    "proposal_circuit, ind_repl = proposal_tfimqaoacircuit(circuit, init_circuit, indices_replaced, 2) #check this works iteratively"
   ]
  },
  {
   "cell_type": "code",
   "execution_count": 75,
   "metadata": {},
   "outputs": [
    {
     "ename": "UndefVarError",
     "evalue": "UndefVarError: `ind_repl` not defined in `Main`\nSuggestion: check for spelling errors or missing imports.",
     "output_type": "error",
     "traceback": [
      "UndefVarError: `ind_repl` not defined in `Main`\n",
      "Suggestion: check for spelling errors or missing imports.\n",
      "\n",
      "Stacktrace:\n",
      " [1] top-level scope\n",
      "   @ ~/julia_scripts/pp-em/cdr/jl_notebook_cell_df34fa98e69747e1a8f8a730347b8e2f_X53sdnNjb2RlLXJlbW90ZQ==.jl:1"
     ]
    }
   ],
   "source": [
    "new_proposal, new_ind_repl = proposal_tfimqaoacircuit(circuit, proposal_circuit, ind_repl, 2)"
   ]
  }
 ],
 "metadata": {
  "kernelspec": {
   "display_name": "Julia 1.11.3",
   "language": "julia",
   "name": "julia-1.11"
  },
  "language_info": {
   "file_extension": ".jl",
   "mimetype": "application/julia",
   "name": "julia",
   "version": "1.11.3"
  }
 },
 "nbformat": 4,
 "nbformat_minor": 2
}
