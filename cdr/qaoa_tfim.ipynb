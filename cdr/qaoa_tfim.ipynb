{
 "cells": [
  {
   "cell_type": "code",
   "execution_count": 1,
   "metadata": {},
   "outputs": [],
   "source": [
    "using PauliPropagation\n",
    "using Random\n",
    "using Optim\n",
    "using Plots\n",
    "#Random.seed!(43)\n",
    "using ReverseDiff: GradientTape, gradient!, compile\n",
    "using LinearAlgebra\n",
    "using StatsBase"
   ]
  },
  {
   "cell_type": "markdown",
   "metadata": {},
   "source": [
    "## CDR (Clifford Data Regression) \n",
    "This is the main idea:\n",
    "(https://arxiv.org/abs/2005.10189)\n",
    "\n",
    "- We create a training set consisting of classical \"exact\" expectation values using PP and noisy expectation values using a noisy simulator or a quantum device.\n",
    "- Then we fit a linear ansatz (and later a more complex noise model) in order to predict the correction to mitigate the errors on our noisy observables.\n",
    "- To create the training set, we use MCMC sampling.\n",
    "- Question: Could we use the noisy circuits within `PauliPropagation.jl` to generate our noisy expectation values? -Yes we can, we can model our noise using gates, in the case of global noise, the linear fit will give us the exact correction. We can also apply local noise and try to find a better model (Lindblad) to correct for this.\n",
    "\n",
    "In the first step we implement the system they use in the paper, but replace the MPS with PP.\n"
   ]
  },
  {
   "cell_type": "markdown",
   "metadata": {},
   "source": [
    "### Functions for QAOA on Ising spin chain\n",
    "We take the same setup as in the paper:\n",
    "- TFIM with obc and even number of qubits\n",
    "- QAOA (Quantum Alternating Operator Ansatz) circuit\n",
    "- Parameter assignment function (each RZZ and each RZ layer has the same parameters)"
   ]
  },
  {
   "cell_type": "code",
   "execution_count": 2,
   "metadata": {},
   "outputs": [
    {
     "data": {
      "text/plain": [
       "tfimqaoacircuit (generic function with 1 method)"
      ]
     },
     "metadata": {},
     "output_type": "display_data"
    }
   ],
   "source": [
    "#QAOA circuit (Fig 10)\n",
    "function tfimqaoacircuit(nqubits::Integer, nlayers::Integer; topology=nothing)\n",
    "    circuit::Vector{Gate} = []\n",
    "\n",
    "    if isnothing(topology)\n",
    "        topology = bricklayertopology(nqubits;periodic=false) #chain with obc\n",
    "    end\n",
    "\n",
    "    for i in 1:nlayers\n",
    "        rzzlayer!(circuit, topology)\n",
    "        for qubit in 1:nqubits\n",
    "            push!(circuit, CliffordGate(:S, qubit))\n",
    "            push!(circuit, PauliRotation(:X, qubit, π/2)) # Fig 10: P=R_X(π/2)\n",
    "            push!(circuit, PauliRotation(:Z, qubit))\n",
    "            push!(circuit, PauliRotation(:X, qubit, π/2))\n",
    "            push!(circuit, CliffordGate(:S, qubit))\n",
    "\n",
    "        end\n",
    "    end\n",
    "    return circuit\n",
    "end"
   ]
  },
  {
   "cell_type": "code",
   "execution_count": 3,
   "metadata": {},
   "outputs": [
    {
     "data": {
      "text/plain": [
       "assign_qaoa_parameters (generic function with 1 method)"
      ]
     },
     "metadata": {},
     "output_type": "display_data"
    }
   ],
   "source": [
    "#grouped assignment of the params for QAOA circuit\n",
    "function assign_qaoa_parameters(circuit, nqubits::Integer, nlayers::Integer)\n",
    "    \n",
    "    rzz_indices = getparameterindices(circuit, PauliRotation, [:Z, :Z])\n",
    "    rz_indices = getparameterindices(circuit, PauliRotation, [:Z])\n",
    "\n",
    "    #group sizes\n",
    "    Q_minus_1 = (nqubits - 1) * nlayers  # RZZ parameters\n",
    "    Q = nqubits * nlayers                # RZ parameters\n",
    "\n",
    "    #group the random values according to circuit layout\n",
    "    thetas = zeros(maximum(vcat(rzz_indices, rz_indices)))\n",
    "    thetas[rzz_indices] .= repeat(randn(nlayers), inner=(Q_minus_1 ÷ nlayers))\n",
    "    thetas[rz_indices] .= repeat(randn(nlayers), inner=(Q ÷ nlayers))\n",
    "\n",
    "    return thetas\n",
    "end"
   ]
  },
  {
   "cell_type": "markdown",
   "metadata": {},
   "source": [
    "### Initialize circuit\n",
    "- initial parameters are set\n",
    "- define truncations dpending on the method of gradient computation\n",
    "- for `ReverseDiff`, better to use `max_weight` (number of non-Id in string), `max_freq`, and `max_sins`(number of sins - as in SPD) (see notebook 8)\n",
    "- define H within loss function"
   ]
  },
  {
   "cell_type": "code",
   "execution_count": 4,
   "metadata": {},
   "outputs": [
    {
     "data": {
      "text/plain": [
       "2"
      ]
     },
     "metadata": {},
     "output_type": "display_data"
    }
   ],
   "source": [
    "const nq = 4 #we set const for global vars in fcts to opt performance\n",
    "const nl = 2 #number of layers/rounds\n",
    "const topology = bricklayertopology(nq;periodic=false) #chain with obc  \n",
    "const g = 2 #paramagnetic phase"
   ]
  },
  {
   "cell_type": "code",
   "execution_count": 5,
   "metadata": {},
   "outputs": [
    {
     "name": "stdout",
     "output_type": "stream",
     "text": [
      "Number of parameters: 14\n",
      "Parameters: [-0.17480467989177167, -0.17480467989177167, -0.17480467989177167, -0.400791928851502, -0.400791928851502, -0.400791928851502, -0.400791928851502, 1.1269435626072213, 1.1269435626072213, 1.1269435626072213, -0.5094857492239786, -0.5094857492239786, -0.5094857492239786, -0.5094857492239786]\n"
     ]
    }
   ],
   "source": [
    "const circuit = tfimqaoacircuit(nq, nl; topology=topology)\n",
    "nparams = countparameters(circuit)\n",
    "println(\"Number of parameters: \", nparams) \n",
    "#generate random parameters\n",
    "thetas_init = assign_qaoa_parameters(circuit, nq, nl)\n",
    "println(\"Parameters: \", thetas_init)"
   ]
  },
  {
   "cell_type": "code",
   "execution_count": 6,
   "metadata": {},
   "outputs": [
    {
     "data": {
      "text/plain": [
       "5"
      ]
     },
     "metadata": {},
     "output_type": "display_data"
    }
   ],
   "source": [
    "#define the truncations\n",
    "const max_freq = 30\n",
    "const max_weight = 5 #number of non-Id Paulis in string"
   ]
  },
  {
   "cell_type": "markdown",
   "metadata": {},
   "source": [
    "### Loss function for TFIM and classical optimization"
   ]
  },
  {
   "cell_type": "code",
   "execution_count": 7,
   "metadata": {},
   "outputs": [
    {
     "data": {
      "text/plain": [
       "lossfunction (generic function with 1 method)"
      ]
     },
     "metadata": {},
     "output_type": "display_data"
    }
   ],
   "source": [
    "# function lossfunction(thetas)\n",
    "#     type_of_coeff = eltype(thetas)\n",
    "#     H = PauliSum(nq, type_of_coeff)\n",
    "#     for qind in 1:nq\n",
    "#         add!(H, :X, qind, type_of_coeff(-g))\n",
    "#     end\n",
    "#     for pair in topology\n",
    "#         add!(H, [:Z, :Z], collect(pair), type_of_coeff(1.0))\n",
    "#     end\n",
    "    \n",
    "#     wrapped_H = wrapcoefficients(H, PauliFreqTracker) #wrap to keep track of path splitting\n",
    "\n",
    "#     # We also need to run the in-place version with `!`, because by default we copy the Pauli sum\n",
    "#     wrapped_H = propagate!(circuit, wrapped_H, thetas; max_freq, max_weight);\n",
    "#     return overlapwithplus(wrapped_H)\n",
    "# end\n",
    "\n",
    "function fulllossfunction(thetas, circuit, topology, nq; max_freq=Inf, max_weight=Inf)\n",
    "    type_of_coeff = eltype(thetas)\n",
    "    H = PauliSum(nq, type_of_coeff)\n",
    "    for qind in 1:nq\n",
    "        add!(H, :X, qind, type_of_coeff(-g))\n",
    "    end\n",
    "    for pair in topology\n",
    "        add!(H, [:Z, :Z], collect(pair), type_of_coeff(1.0))\n",
    "    end\n",
    "    \n",
    "    wrapped_H = wrapcoefficients(H, PauliFreqTracker) #wrap to keep track of path splitting\n",
    "\n",
    "    # We also need to run the in-place version with `!`, because by default we copy the Pauli sum\n",
    "    wrapped_H = propagate!(circuit, wrapped_H, thetas; max_freq, max_weight);\n",
    "\n",
    "    # MR: Shouldn't this be plus for QAOA?\n",
    "    return overlapwithplus(wrapped_H)\n",
    "end\n",
    "\n",
    "lossfunction = let const_circuit=circuit, const_topology=topology, const_nq=nq, const_max_freq=max_freq,  const_max_weight=max_weight\n",
    "    # these are now all captured variables with known types and we return a function that only takes thetas\n",
    "    # See also \"closures\"\n",
    "    thetas -> fulllossfunction(thetas, const_circuit, const_topology, const_nq; max_freq=const_max_freq, max_weight=const_max_weight)\n",
    "end\n"
   ]
  },
  {
   "cell_type": "code",
   "execution_count": 8,
   "metadata": {},
   "outputs": [
    {
     "name": "stdout",
     "output_type": "stream",
     "text": [
      "  1.004631 seconds (1.80 M allocations: 89.464 MiB, 1.72% gc time, 99.97% compilation time)\n"
     ]
    },
    {
     "data": {
      "text/plain": [
       "-4.516893652626697"
      ]
     },
     "metadata": {},
     "output_type": "display_data"
    }
   ],
   "source": [
    "@time lossfunction(thetas_init) #check"
   ]
  },
  {
   "cell_type": "code",
   "execution_count": 9,
   "metadata": {},
   "outputs": [
    {
     "data": {
      "text/plain": [
       "typename(ReverseDiff.CompiledTape)(lossfunction)"
      ]
     },
     "metadata": {},
     "output_type": "display_data"
    }
   ],
   "source": [
    "### This is following an ReverseDiff.jl example\n",
    "\n",
    "# some inputs and work buffer to play around with\n",
    "# grad_array_compiled = similar(thetas_init);\n",
    "\n",
    "# # pre-record a GradientTape for `gradsimulation` using inputs of length m with Float64 elements\n",
    "\n",
    "# const simulation_tape = GradientTape(lossfunction, thetas_init)\n",
    "# const compiled_simulation_tape = compile(simulation_tape)\n",
    "#graph for the chain rule is computed only once! (const)\n",
    "\n",
    "# first evaluation compiles and is slower\n",
    "#@time gradient!(grad_array_compiled, compiled_simulation_tape, thetas)\n",
    "# second evaluation\n",
    "#@time gradient!(grad_array_compiled, compiled_simulation_tape, thetas);"
   ]
  },
  {
   "cell_type": "code",
   "execution_count": 10,
   "metadata": {},
   "outputs": [
    {
     "data": {
      "text/plain": [
       "constrain_params (generic function with 1 method)"
      ]
     },
     "metadata": {},
     "output_type": "display_data"
    }
   ],
   "source": [
    "function constrain_params(thetas, repartition)\n",
    "    for r in repartition\n",
    "        for q in r\n",
    "            thetas[q] = thetas[r[1]]\n",
    "        end\n",
    "    end\n",
    "end"
   ]
  },
  {
   "cell_type": "code",
   "execution_count": 11,
   "metadata": {},
   "outputs": [
    {
     "name": "stdout",
     "output_type": "stream",
     "text": [
      "-2.089329457006629\n"
     ]
    },
    {
     "data": {
      "image/png": "[encoded data removed]",
      "image/svg+xml": [
       "<?xml version=\"1.0\" encoding=\"utf-8\"?>\n",
       "<svg xmlns=\"http://www.w3.org/2000/svg\" xmlns:xlink=\"http://www.w3.org/1999/xlink\" width=\"600\" height=\"400\" viewBox=\"0 0 2400 1600\">\n",
       "<defs>\n",
       "  <clipPath id=\"clip900\">\n",
       "    <rect x=\"0\" y=\"0\" width=\"2400\" height=\"1600\"/>\n",
       "  </clipPath>\n",
       "</defs>\n",
       "<path clip-path=\"url(#clip900)\" d=\"M0 1600 L2400 1600 L2400 0 L0 0  Z\" fill=\"#ffffff\" fill-rule=\"evenodd\" fill-opacity=\"1\"/>\n",
       "<defs>\n",
       "  <clipPath id=\"clip901\">\n",
       "    <rect x=\"480\" y=\"0\" width=\"1681\" height=\"1600\"/>\n",
       "  </clipPath>\n",
       "</defs>\n",
       "<path clip-path=\"url(#clip900)\" d=\"M257.204 1423.18 L2352.76 1423.18 L2352.76 123.472 L257.204 123.472  Z\" fill=\"#ffffff\" fill-rule=\"evenodd\" fill-opacity=\"1\"/>\n",
       "<defs>\n",
       "  <clipPath id=\"clip902\">\n",
       "    <rect x=\"257\" y=\"123\" width=\"2097\" height=\"1301\"/>\n",
       "  </clipPath>\n",
       "</defs>\n",
       "<polyline clip-path=\"url(#clip902)\" style=\"stroke:#000000; stroke-linecap:round; stroke-linejoin:round; stroke-width:2; stroke-opacity:0.1; fill:none\" points=\"296.543,1423.18 296.543,123.472 \"/>\n",
       "<polyline clip-path=\"url(#clip902)\" style=\"stroke:#000000; stroke-linecap:round; stroke-linejoin:round; stroke-width:2; stroke-opacity:0.1; fill:none\" points=\"795.769,1423.18 795.769,123.472 \"/>\n",
       "<polyline clip-path=\"url(#clip902)\" style=\"stroke:#000000; stroke-linecap:round; stroke-linejoin:round; stroke-width:2; stroke-opacity:0.1; fill:none\" points=\"1295,1423.18 1295,123.472 \"/>\n",
       "<polyline clip-path=\"url(#clip902)\" style=\"stroke:#000000; stroke-linecap:round; stroke-linejoin:round; stroke-width:2; stroke-opacity:0.1; fill:none\" points=\"1794.22,1423.18 1794.22,123.472 \"/>\n",
       "<polyline clip-path=\"url(#clip902)\" style=\"stroke:#000000; stroke-linecap:round; stroke-linejoin:round; stroke-width:2; stroke-opacity:0.1; fill:none\" points=\"2293.45,1423.18 2293.45,123.472 \"/>\n",
       "<polyline clip-path=\"url(#clip902)\" style=\"stroke:#000000; stroke-linecap:round; stroke-linejoin:round; stroke-width:2; stroke-opacity:0.1; fill:none\" points=\"257.204,1418.18 2352.76,1418.18 \"/>\n",
       "<polyline clip-path=\"url(#clip902)\" style=\"stroke:#000000; stroke-linecap:round; stroke-linejoin:round; stroke-width:2; stroke-opacity:0.1; fill:none\" points=\"257.204,1120.3 2352.76,1120.3 \"/>\n",
       "<polyline clip-path=\"url(#clip902)\" style=\"stroke:#000000; stroke-linecap:round; stroke-linejoin:round; stroke-width:2; stroke-opacity:0.1; fill:none\" points=\"257.204,822.414 2352.76,822.414 \"/>\n",
       "<polyline clip-path=\"url(#clip902)\" style=\"stroke:#000000; stroke-linecap:round; stroke-linejoin:round; stroke-width:2; stroke-opacity:0.1; fill:none\" points=\"257.204,524.531 2352.76,524.531 \"/>\n",
       "<polyline clip-path=\"url(#clip902)\" style=\"stroke:#000000; stroke-linecap:round; stroke-linejoin:round; stroke-width:2; stroke-opacity:0.1; fill:none\" points=\"257.204,226.647 2352.76,226.647 \"/>\n",
       "<polyline clip-path=\"url(#clip900)\" style=\"stroke:#000000; stroke-linecap:round; stroke-linejoin:round; stroke-width:4; stroke-opacity:1; fill:none\" points=\"257.204,1423.18 2352.76,1423.18 \"/>\n",
       "<polyline clip-path=\"url(#clip900)\" style=\"stroke:#000000; stroke-linecap:round; stroke-linejoin:round; stroke-width:4; stroke-opacity:1; fill:none\" points=\"296.543,1423.18 296.543,1404.28 \"/>\n",
       "<polyline clip-path=\"url(#clip900)\" style=\"stroke:#000000; stroke-linecap:round; stroke-linejoin:round; stroke-width:4; stroke-opacity:1; fill:none\" points=\"795.769,1423.18 795.769,1404.28 \"/>\n",
       "<polyline clip-path=\"url(#clip900)\" style=\"stroke:#000000; stroke-linecap:round; stroke-linejoin:round; stroke-width:4; stroke-opacity:1; fill:none\" points=\"1295,1423.18 1295,1404.28 \"/>\n",
       "<polyline clip-path=\"url(#clip900)\" style=\"stroke:#000000; stroke-linecap:round; stroke-linejoin:round; stroke-width:4; stroke-opacity:1; fill:none\" points=\"1794.22,1423.18 1794.22,1404.28 \"/>\n",
       "<polyline clip-path=\"url(#clip900)\" style=\"stroke:#000000; stroke-linecap:round; stroke-linejoin:round; stroke-width:4; stroke-opacity:1; fill:none\" points=\"2293.45,1423.18 2293.45,1404.28 \"/>\n",
       "<path clip-path=\"url(#clip900)\" d=\"M296.543 1454.1 Q292.932 1454.1 291.103 1457.66 Q289.298 1461.2 289.298 1468.33 Q289.298 1475.44 291.103 1479.01 Q292.932 1482.55 296.543 1482.55 Q300.177 1482.55 301.983 1479.01 Q303.812 1475.44 303.812 1468.33 Q303.812 1461.2 301.983 1457.66 Q300.177 1454.1 296.543 1454.1 M296.543 1450.39 Q302.353 1450.39 305.409 1455 Q308.487 1459.58 308.487 1468.33 Q308.487 1477.06 305.409 1481.67 Q302.353 1486.25 296.543 1486.25 Q290.733 1486.25 287.654 1481.67 Q284.599 1477.06 284.599 1468.33 Q284.599 1459.58 287.654 1455 Q290.733 1450.39 296.543 1450.39 Z\" fill=\"#000000\" fill-rule=\"nonzero\" fill-opacity=\"1\" /><path clip-path=\"url(#clip900)\" d=\"M775.04 1481.64 L791.36 1481.64 L791.36 1485.58 L769.415 1485.58 L769.415 1481.64 Q772.077 1478.89 776.661 1474.26 Q781.267 1469.61 782.448 1468.27 Q784.693 1465.74 785.573 1464.01 Q786.475 1462.25 786.475 1460.56 Q786.475 1457.8 784.531 1456.07 Q782.61 1454.33 779.508 1454.33 Q777.309 1454.33 774.855 1455.09 Q772.424 1455.86 769.647 1457.41 L769.647 1452.69 Q772.471 1451.55 774.924 1450.97 Q777.378 1450.39 779.415 1450.39 Q784.786 1450.39 787.98 1453.08 Q791.174 1455.77 791.174 1460.26 Q791.174 1462.39 790.364 1464.31 Q789.577 1466.2 787.471 1468.8 Q786.892 1469.47 783.79 1472.69 Q780.688 1475.88 775.04 1481.64 Z\" fill=\"#000000\" fill-rule=\"nonzero\" fill-opacity=\"1\" /><path clip-path=\"url(#clip900)\" d=\"M801.221 1451.02 L819.577 1451.02 L819.577 1454.96 L805.503 1454.96 L805.503 1463.43 Q806.522 1463.08 807.54 1462.92 Q808.559 1462.73 809.577 1462.73 Q815.364 1462.73 818.744 1465.9 Q822.123 1469.08 822.123 1474.49 Q822.123 1480.07 818.651 1483.17 Q815.179 1486.25 808.859 1486.25 Q806.684 1486.25 804.415 1485.88 Q802.17 1485.51 799.762 1484.77 L799.762 1480.07 Q801.846 1481.2 804.068 1481.76 Q806.29 1482.32 808.767 1482.32 Q812.771 1482.32 815.109 1480.21 Q817.447 1478.1 817.447 1474.49 Q817.447 1470.88 815.109 1468.77 Q812.771 1466.67 808.767 1466.67 Q806.892 1466.67 805.017 1467.08 Q803.165 1467.5 801.221 1468.38 L801.221 1451.02 Z\" fill=\"#000000\" fill-rule=\"nonzero\" fill-opacity=\"1\" /><path clip-path=\"url(#clip900)\" d=\"M1269.69 1451.02 L1288.05 1451.02 L1288.05 1454.96 L1273.98 1454.96 L1273.98 1463.43 Q1275 1463.08 1276.01 1462.92 Q1277.03 1462.73 1278.05 1462.73 Q1283.84 1462.73 1287.22 1465.9 Q1290.6 1469.08 1290.6 1474.49 Q1290.6 1480.07 1287.13 1483.17 Q1283.65 1486.25 1277.33 1486.25 Q1275.16 1486.25 1272.89 1485.88 Q1270.64 1485.51 1268.24 1484.77 L1268.24 1480.07 Q1270.32 1481.2 1272.54 1481.76 Q1274.76 1482.32 1277.24 1482.32 Q1281.25 1482.32 1283.58 1480.21 Q1285.92 1478.1 1285.92 1474.49 Q1285.92 1470.88 1283.58 1468.77 Q1281.25 1466.67 1277.24 1466.67 Q1275.37 1466.67 1273.49 1467.08 Q1271.64 1467.5 1269.69 1468.38 L1269.69 1451.02 Z\" fill=\"#000000\" fill-rule=\"nonzero\" fill-opacity=\"1\" /><path clip-path=\"url(#clip900)\" d=\"M1309.81 1454.1 Q1306.2 1454.1 1304.37 1457.66 Q1302.56 1461.2 1302.56 1468.33 Q1302.56 1475.44 1304.37 1479.01 Q1306.2 1482.55 1309.81 1482.55 Q1313.44 1482.55 1315.25 1479.01 Q1317.08 1475.44 1317.08 1468.33 Q1317.08 1461.2 1315.25 1457.66 Q1313.44 1454.1 1309.81 1454.1 M1309.81 1450.39 Q1315.62 1450.39 1318.68 1455 Q1321.75 1459.58 1321.75 1468.33 Q1321.75 1477.06 1318.68 1481.67 Q1315.62 1486.25 1309.81 1486.25 Q1304 1486.25 1300.92 1481.67 Q1297.87 1477.06 1297.87 1468.33 Q1297.87 1459.58 1300.92 1455 Q1304 1450.39 1309.81 1450.39 Z\" fill=\"#000000\" fill-rule=\"nonzero\" fill-opacity=\"1\" /><path clip-path=\"url(#clip900)\" d=\"M1768.08 1451.02 L1790.3 1451.02 L1790.3 1453.01 L1777.75 1485.58 L1772.87 1485.58 L1784.67 1454.96 L1768.08 1454.96 L1768.08 1451.02 Z\" fill=\"#000000\" fill-rule=\"nonzero\" fill-opacity=\"1\" /><path clip-path=\"url(#clip900)\" d=\"M1799.46 1451.02 L1817.82 1451.02 L1817.82 1454.96 L1803.75 1454.96 L1803.75 1463.43 Q1804.77 1463.08 1805.78 1462.92 Q1806.8 1462.73 1807.82 1462.73 Q1813.61 1462.73 1816.99 1465.9 Q1820.37 1469.08 1820.37 1474.49 Q1820.37 1480.07 1816.9 1483.17 Q1813.42 1486.25 1807.1 1486.25 Q1804.93 1486.25 1802.66 1485.88 Q1800.41 1485.51 1798.01 1484.77 L1798.01 1480.07 Q1800.09 1481.2 1802.31 1481.76 Q1804.53 1482.32 1807.01 1482.32 Q1811.02 1482.32 1813.35 1480.21 Q1815.69 1478.1 1815.69 1474.49 Q1815.69 1470.88 1813.35 1468.77 Q1811.02 1466.67 1807.01 1466.67 Q1805.14 1466.67 1803.26 1467.08 Q1801.41 1467.5 1799.46 1468.38 L1799.46 1451.02 Z\" fill=\"#000000\" fill-rule=\"nonzero\" fill-opacity=\"1\" /><path clip-path=\"url(#clip900)\" d=\"M2253.05 1481.64 L2260.69 1481.64 L2260.69 1455.28 L2252.38 1456.95 L2252.38 1452.69 L2260.65 1451.02 L2265.32 1451.02 L2265.32 1481.64 L2272.96 1481.64 L2272.96 1485.58 L2253.05 1485.58 L2253.05 1481.64 Z\" fill=\"#000000\" fill-rule=\"nonzero\" fill-opacity=\"1\" /><path clip-path=\"url(#clip900)\" d=\"M2292.41 1454.1 Q2288.8 1454.1 2286.97 1457.66 Q2285.16 1461.2 2285.16 1468.33 Q2285.16 1475.44 2286.97 1479.01 Q2288.8 1482.55 2292.41 1482.55 Q2296.04 1482.55 2297.85 1479.01 Q2299.67 1475.44 2299.67 1468.33 Q2299.67 1461.2 2297.85 1457.66 Q2296.04 1454.1 2292.41 1454.1 M2292.41 1450.39 Q2298.22 1450.39 2301.27 1455 Q2304.35 1459.58 2304.35 1468.33 Q2304.35 1477.06 2301.27 1481.67 Q2298.22 1486.25 2292.41 1486.25 Q2286.6 1486.25 2283.52 1481.67 Q2280.46 1477.06 2280.46 1468.33 Q2280.46 1459.58 2283.52 1455 Q2286.6 1450.39 2292.41 1450.39 Z\" fill=\"#000000\" fill-rule=\"nonzero\" fill-opacity=\"1\" /><path clip-path=\"url(#clip900)\" d=\"M2322.57 1454.1 Q2318.96 1454.1 2317.13 1457.66 Q2315.32 1461.2 2315.32 1468.33 Q2315.32 1475.44 2317.13 1479.01 Q2318.96 1482.55 2322.57 1482.55 Q2326.2 1482.55 2328.01 1479.01 Q2329.84 1475.44 2329.84 1468.33 Q2329.84 1461.2 2328.01 1457.66 Q2326.2 1454.1 2322.57 1454.1 M2322.57 1450.39 Q2328.38 1450.39 2331.43 1455 Q2334.51 1459.58 2334.51 1468.33 Q2334.51 1477.06 2331.43 1481.67 Q2328.38 1486.25 2322.57 1486.25 Q2316.76 1486.25 2313.68 1481.67 Q2310.62 1477.06 2310.62 1468.33 Q2310.62 1459.58 2313.68 1455 Q2316.76 1450.39 2322.57 1450.39 Z\" fill=\"#000000\" fill-rule=\"nonzero\" fill-opacity=\"1\" /><path clip-path=\"url(#clip900)\" d=\"M1156.56 1537.87 Q1155.58 1537.3 1154.4 1537.04 Q1153.25 1536.76 1151.85 1536.76 Q1146.89 1536.76 1144.21 1540 Q1141.57 1543.22 1141.57 1549.27 L1141.57 1568.04 L1135.68 1568.04 L1135.68 1532.4 L1141.57 1532.4 L1141.57 1537.93 Q1143.42 1534.69 1146.38 1533.13 Q1149.34 1531.54 1153.57 1531.54 Q1154.18 1531.54 1154.91 1531.63 Q1155.64 1531.7 1156.53 1531.85 L1156.56 1537.87 Z\" fill=\"#000000\" fill-rule=\"nonzero\" fill-opacity=\"1\" /><path clip-path=\"url(#clip900)\" d=\"M1162.1 1553.98 L1162.1 1532.4 L1167.96 1532.4 L1167.96 1553.75 Q1167.96 1558.81 1169.93 1561.36 Q1171.9 1563.87 1175.85 1563.87 Q1180.59 1563.87 1183.33 1560.85 Q1186.1 1557.83 1186.1 1552.61 L1186.1 1532.4 L1191.96 1532.4 L1191.96 1568.04 L1186.1 1568.04 L1186.1 1562.57 Q1183.97 1565.82 1181.14 1567.41 Q1178.33 1568.97 1174.61 1568.97 Q1168.47 1568.97 1165.28 1565.15 Q1162.1 1561.33 1162.1 1553.98 M1176.84 1531.54 L1176.84 1531.54 Z\" fill=\"#000000\" fill-rule=\"nonzero\" fill-opacity=\"1\" /><path clip-path=\"url(#clip900)\" d=\"M1233.65 1546.53 L1233.65 1568.04 L1227.8 1568.04 L1227.8 1546.72 Q1227.8 1541.66 1225.82 1539.14 Q1223.85 1536.63 1219.9 1536.63 Q1215.16 1536.63 1212.42 1539.65 Q1209.69 1542.68 1209.69 1547.9 L1209.69 1568.04 L1203.8 1568.04 L1203.8 1532.4 L1209.69 1532.4 L1209.69 1537.93 Q1211.79 1534.72 1214.62 1533.13 Q1217.48 1531.54 1221.21 1531.54 Q1227.35 1531.54 1230.5 1535.36 Q1233.65 1539.14 1233.65 1546.53 Z\" fill=\"#000000\" fill-rule=\"nonzero\" fill-opacity=\"1\" /><path clip-path=\"url(#clip900)\" d=\"M1268.06 1533.45 L1268.06 1538.98 Q1265.58 1537.71 1262.9 1537.07 Q1260.23 1536.44 1257.36 1536.44 Q1253 1536.44 1250.81 1537.77 Q1248.64 1539.11 1248.64 1541.79 Q1248.64 1543.82 1250.2 1545 Q1251.76 1546.15 1256.47 1547.2 L1258.48 1547.64 Q1264.72 1548.98 1267.33 1551.43 Q1269.97 1553.85 1269.97 1558.21 Q1269.97 1563.17 1266.02 1566.07 Q1262.11 1568.97 1255.23 1568.97 Q1252.37 1568.97 1249.25 1568.39 Q1246.16 1567.85 1242.72 1566.74 L1242.72 1560.69 Q1245.97 1562.38 1249.12 1563.24 Q1252.27 1564.07 1255.36 1564.07 Q1259.5 1564.07 1261.72 1562.66 Q1263.95 1561.23 1263.95 1558.65 Q1263.95 1556.27 1262.33 1554.99 Q1260.74 1553.72 1255.3 1552.54 L1253.26 1552.07 Q1247.82 1550.92 1245.4 1548.56 Q1242.98 1546.18 1242.98 1542.04 Q1242.98 1537.01 1246.54 1534.27 Q1250.11 1531.54 1256.66 1531.54 Q1259.91 1531.54 1262.78 1532.01 Q1265.64 1532.49 1268.06 1533.45 Z\" fill=\"#000000\" fill-rule=\"nonzero\" fill-opacity=\"1\" /><path clip-path=\"url(#clip900)\" d=\"M1313.83 1536.5 Q1309.12 1536.5 1306.38 1540.19 Q1303.64 1543.85 1303.64 1550.25 Q1303.64 1556.65 1306.35 1560.34 Q1309.09 1564 1313.83 1564 Q1318.51 1564 1321.24 1560.31 Q1323.98 1556.62 1323.98 1550.25 Q1323.98 1543.92 1321.24 1540.23 Q1318.51 1536.5 1313.83 1536.5 M1313.83 1531.54 Q1321.47 1531.54 1325.83 1536.5 Q1330.19 1541.47 1330.19 1550.25 Q1330.19 1559 1325.83 1564 Q1321.47 1568.97 1313.83 1568.97 Q1306.16 1568.97 1301.8 1564 Q1297.47 1559 1297.47 1550.25 Q1297.47 1541.47 1301.8 1536.5 Q1306.16 1531.54 1313.83 1531.54 Z\" fill=\"#000000\" fill-rule=\"nonzero\" fill-opacity=\"1\" /><path clip-path=\"url(#clip900)\" d=\"M1357.94 1518.52 L1357.94 1523.39 L1352.34 1523.39 Q1349.19 1523.39 1347.95 1524.66 Q1346.74 1525.93 1346.74 1529.24 L1346.74 1532.4 L1356.38 1532.4 L1356.38 1536.95 L1346.74 1536.95 L1346.74 1568.04 L1340.85 1568.04 L1340.85 1536.95 L1335.25 1536.95 L1335.25 1532.4 L1340.85 1532.4 L1340.85 1529.91 Q1340.85 1523.96 1343.62 1521.26 Q1346.39 1518.52 1352.4 1518.52 L1357.94 1518.52 Z\" fill=\"#000000\" fill-rule=\"nonzero\" fill-opacity=\"1\" /><path clip-path=\"url(#clip900)\" d=\"M1416.22 1561.26 L1416.22 1548.5 L1405.72 1548.5 L1405.72 1543.22 L1422.59 1543.22 L1422.59 1563.62 Q1418.86 1566.26 1414.37 1567.63 Q1409.89 1568.97 1404.79 1568.97 Q1393.65 1568.97 1387.35 1562.47 Q1381.08 1555.95 1381.08 1544.33 Q1381.08 1532.68 1387.35 1526.19 Q1393.65 1519.66 1404.79 1519.66 Q1409.44 1519.66 1413.61 1520.81 Q1417.81 1521.96 1421.35 1524.18 L1421.35 1531.03 Q1417.78 1528 1413.77 1526.48 Q1409.76 1524.95 1405.34 1524.95 Q1396.61 1524.95 1392.22 1529.82 Q1387.86 1534.69 1387.86 1544.33 Q1387.86 1553.94 1392.22 1558.81 Q1396.61 1563.68 1405.34 1563.68 Q1408.74 1563.68 1411.41 1563.11 Q1414.09 1562.51 1416.22 1561.26 Z\" fill=\"#000000\" fill-rule=\"nonzero\" fill-opacity=\"1\" /><path clip-path=\"url(#clip900)\" d=\"M1440.76 1525.81 L1440.76 1562.76 L1448.53 1562.76 Q1458.36 1562.76 1462.91 1558.3 Q1467.5 1553.85 1467.5 1544.24 Q1467.5 1534.69 1462.91 1530.26 Q1458.36 1525.81 1448.53 1525.81 L1440.76 1525.81 M1434.33 1520.52 L1447.54 1520.52 Q1461.35 1520.52 1467.81 1526.28 Q1474.28 1532.01 1474.28 1544.24 Q1474.28 1556.52 1467.78 1562.28 Q1461.29 1568.04 1447.54 1568.04 L1434.33 1568.04 L1434.33 1520.52 Z\" fill=\"#000000\" fill-rule=\"nonzero\" fill-opacity=\"1\" /><polyline clip-path=\"url(#clip900)\" style=\"stroke:#000000; stroke-linecap:round; stroke-linejoin:round; stroke-width:4; stroke-opacity:1; fill:none\" points=\"257.204,1423.18 257.204,123.472 \"/>\n",
       "<polyline clip-path=\"url(#clip900)\" style=\"stroke:#000000; stroke-linecap:round; stroke-linejoin:round; stroke-width:4; stroke-opacity:1; fill:none\" points=\"257.204,1418.18 276.102,1418.18 \"/>\n",
       "<polyline clip-path=\"url(#clip900)\" style=\"stroke:#000000; stroke-linecap:round; stroke-linejoin:round; stroke-width:4; stroke-opacity:1; fill:none\" points=\"257.204,1120.3 276.102,1120.3 \"/>\n",
       "<polyline clip-path=\"url(#clip900)\" style=\"stroke:#000000; stroke-linecap:round; stroke-linejoin:round; stroke-width:4; stroke-opacity:1; fill:none\" points=\"257.204,822.414 276.102,822.414 \"/>\n",
       "<polyline clip-path=\"url(#clip900)\" style=\"stroke:#000000; stroke-linecap:round; stroke-linejoin:round; stroke-width:4; stroke-opacity:1; fill:none\" points=\"257.204,524.531 276.102,524.531 \"/>\n",
       "<polyline clip-path=\"url(#clip900)\" style=\"stroke:#000000; stroke-linecap:round; stroke-linejoin:round; stroke-width:4; stroke-opacity:1; fill:none\" points=\"257.204,226.647 276.102,226.647 \"/>\n",
       "<path clip-path=\"url(#clip900)\" d=\"M115.487 1418.63 L145.163 1418.63 L145.163 1422.57 L115.487 1422.57 L115.487 1418.63 Z\" fill=\"#000000\" fill-rule=\"nonzero\" fill-opacity=\"1\" /><path clip-path=\"url(#clip900)\" d=\"M159.283 1431.53 L175.602 1431.53 L175.602 1435.46 L153.658 1435.46 L153.658 1431.53 Q156.32 1428.77 160.903 1424.14 Q165.51 1419.49 166.69 1418.15 Q168.936 1415.62 169.815 1413.89 Q170.718 1412.13 170.718 1410.44 Q170.718 1407.68 168.774 1405.95 Q166.852 1404.21 163.751 1404.21 Q161.552 1404.21 159.098 1404.98 Q156.667 1405.74 153.89 1407.29 L153.89 1402.57 Q156.714 1401.43 159.167 1400.86 Q161.621 1400.28 163.658 1400.28 Q169.028 1400.28 172.223 1402.96 Q175.417 1405.65 175.417 1410.14 Q175.417 1412.27 174.607 1414.19 Q173.82 1416.09 171.714 1418.68 Q171.135 1419.35 168.033 1422.57 Q164.931 1425.76 159.283 1431.53 Z\" fill=\"#000000\" fill-rule=\"nonzero\" fill-opacity=\"1\" /><path clip-path=\"url(#clip900)\" d=\"M185.417 1429.58 L190.301 1429.58 L190.301 1435.46 L185.417 1435.46 L185.417 1429.58 Z\" fill=\"#000000\" fill-rule=\"nonzero\" fill-opacity=\"1\" /><path clip-path=\"url(#clip900)\" d=\"M201.297 1431.53 L208.936 1431.53 L208.936 1405.16 L200.625 1406.83 L200.625 1402.57 L208.889 1400.9 L213.565 1400.9 L213.565 1431.53 L221.204 1431.53 L221.204 1435.46 L201.297 1435.46 L201.297 1431.53 Z\" fill=\"#000000\" fill-rule=\"nonzero\" fill-opacity=\"1\" /><path clip-path=\"url(#clip900)\" d=\"M114.26 1120.75 L143.936 1120.75 L143.936 1124.68 L114.26 1124.68 L114.26 1120.75 Z\" fill=\"#000000\" fill-rule=\"nonzero\" fill-opacity=\"1\" /><path clip-path=\"url(#clip900)\" d=\"M158.056 1133.64 L174.376 1133.64 L174.376 1137.58 L152.431 1137.58 L152.431 1133.64 Q155.093 1130.89 159.677 1126.26 Q164.283 1121.61 165.464 1120.26 Q167.709 1117.74 168.589 1116 Q169.491 1114.24 169.491 1112.55 Q169.491 1109.8 167.547 1108.06 Q165.626 1106.33 162.524 1106.33 Q160.325 1106.33 157.871 1107.09 Q155.44 1107.86 152.663 1109.41 L152.663 1104.68 Q155.487 1103.55 157.94 1102.97 Q160.394 1102.39 162.431 1102.39 Q167.802 1102.39 170.996 1105.08 Q174.19 1107.76 174.19 1112.25 Q174.19 1114.38 173.38 1116.3 Q172.593 1118.2 170.487 1120.8 Q169.908 1121.47 166.806 1124.68 Q163.704 1127.88 158.056 1133.64 Z\" fill=\"#000000\" fill-rule=\"nonzero\" fill-opacity=\"1\" /><path clip-path=\"url(#clip900)\" d=\"M184.19 1131.7 L189.075 1131.7 L189.075 1137.58 L184.19 1137.58 L184.19 1131.7 Z\" fill=\"#000000\" fill-rule=\"nonzero\" fill-opacity=\"1\" /><path clip-path=\"url(#clip900)\" d=\"M209.26 1106.1 Q205.649 1106.1 203.82 1109.66 Q202.014 1113.2 202.014 1120.33 Q202.014 1127.44 203.82 1131 Q205.649 1134.55 209.26 1134.55 Q212.894 1134.55 214.699 1131 Q216.528 1127.44 216.528 1120.33 Q216.528 1113.2 214.699 1109.66 Q212.894 1106.1 209.26 1106.1 M209.26 1102.39 Q215.07 1102.39 218.125 1107 Q221.204 1111.58 221.204 1120.33 Q221.204 1129.06 218.125 1133.67 Q215.07 1138.25 209.26 1138.25 Q203.449 1138.25 200.371 1133.67 Q197.315 1129.06 197.315 1120.33 Q197.315 1111.58 200.371 1107 Q203.449 1102.39 209.26 1102.39 Z\" fill=\"#000000\" fill-rule=\"nonzero\" fill-opacity=\"1\" /><path clip-path=\"url(#clip900)\" d=\"M114.445 822.866 L144.121 822.866 L144.121 826.801 L114.445 826.801 L114.445 822.866 Z\" fill=\"#000000\" fill-rule=\"nonzero\" fill-opacity=\"1\" /><path clip-path=\"url(#clip900)\" d=\"M155.024 835.759 L162.663 835.759 L162.663 809.394 L154.353 811.06 L154.353 806.801 L162.616 805.134 L167.292 805.134 L167.292 835.759 L174.931 835.759 L174.931 839.694 L155.024 839.694 L155.024 835.759 Z\" fill=\"#000000\" fill-rule=\"nonzero\" fill-opacity=\"1\" /><path clip-path=\"url(#clip900)\" d=\"M184.376 833.815 L189.26 833.815 L189.26 839.694 L184.376 839.694 L184.376 833.815 Z\" fill=\"#000000\" fill-rule=\"nonzero\" fill-opacity=\"1\" /><path clip-path=\"url(#clip900)\" d=\"M199.584 838.977 L199.584 834.717 Q201.343 835.551 203.149 835.991 Q204.954 836.43 206.69 836.43 Q211.32 836.43 213.75 833.329 Q216.204 830.204 216.551 823.861 Q215.209 825.852 213.149 826.917 Q211.088 827.981 208.588 827.981 Q203.403 827.981 200.371 824.856 Q197.362 821.708 197.362 816.268 Q197.362 810.944 200.51 807.727 Q203.658 804.509 208.889 804.509 Q214.885 804.509 218.033 809.116 Q221.204 813.699 221.204 822.449 Q221.204 830.62 217.315 835.504 Q213.449 840.366 206.899 840.366 Q205.139 840.366 203.334 840.018 Q201.528 839.671 199.584 838.977 M208.889 824.324 Q212.037 824.324 213.866 822.171 Q215.718 820.018 215.718 816.268 Q215.718 812.542 213.866 810.389 Q212.037 808.213 208.889 808.213 Q205.741 808.213 203.889 810.389 Q202.061 812.542 202.061 816.268 Q202.061 820.018 203.889 822.171 Q205.741 824.324 208.889 824.324 Z\" fill=\"#000000\" fill-rule=\"nonzero\" fill-opacity=\"1\" /><path clip-path=\"url(#clip900)\" d=\"M114.353 524.982 L144.029 524.982 L144.029 528.917 L114.353 528.917 L114.353 524.982 Z\" fill=\"#000000\" fill-rule=\"nonzero\" fill-opacity=\"1\" /><path clip-path=\"url(#clip900)\" d=\"M154.931 537.876 L162.57 537.876 L162.57 511.51 L154.26 513.177 L154.26 508.917 L162.524 507.251 L167.2 507.251 L167.2 537.876 L174.839 537.876 L174.839 541.811 L154.931 541.811 L154.931 537.876 Z\" fill=\"#000000\" fill-rule=\"nonzero\" fill-opacity=\"1\" /><path clip-path=\"url(#clip900)\" d=\"M184.283 535.931 L189.167 535.931 L189.167 541.811 L184.283 541.811 L184.283 535.931 Z\" fill=\"#000000\" fill-rule=\"nonzero\" fill-opacity=\"1\" /><path clip-path=\"url(#clip900)\" d=\"M209.352 525.399 Q206.019 525.399 204.098 527.181 Q202.2 528.964 202.2 532.089 Q202.2 535.214 204.098 536.996 Q206.019 538.778 209.352 538.778 Q212.686 538.778 214.607 536.996 Q216.528 535.19 216.528 532.089 Q216.528 528.964 214.607 527.181 Q212.709 525.399 209.352 525.399 M204.676 523.408 Q201.667 522.667 199.977 520.607 Q198.311 518.547 198.311 515.584 Q198.311 511.44 201.25 509.033 Q204.213 506.626 209.352 506.626 Q214.514 506.626 217.454 509.033 Q220.394 511.44 220.394 515.584 Q220.394 518.547 218.704 520.607 Q217.037 522.667 214.051 523.408 Q217.431 524.195 219.306 526.487 Q221.204 528.778 221.204 532.089 Q221.204 537.112 218.125 539.797 Q215.07 542.482 209.352 542.482 Q203.635 542.482 200.556 539.797 Q197.5 537.112 197.5 532.089 Q197.5 528.778 199.399 526.487 Q201.297 524.195 204.676 523.408 M202.963 516.024 Q202.963 518.709 204.63 520.214 Q206.32 521.718 209.352 521.718 Q212.361 521.718 214.051 520.214 Q215.764 518.709 215.764 516.024 Q215.764 513.339 214.051 511.834 Q212.361 510.329 209.352 510.329 Q206.32 510.329 204.63 511.834 Q202.963 513.339 202.963 516.024 Z\" fill=\"#000000\" fill-rule=\"nonzero\" fill-opacity=\"1\" /><path clip-path=\"url(#clip900)\" d=\"M115.163 227.098 L144.839 227.098 L144.839 231.034 L115.163 231.034 L115.163 227.098 Z\" fill=\"#000000\" fill-rule=\"nonzero\" fill-opacity=\"1\" /><path clip-path=\"url(#clip900)\" d=\"M155.741 239.992 L163.38 239.992 L163.38 213.626 L155.07 215.293 L155.07 211.034 L163.334 209.367 L168.01 209.367 L168.01 239.992 L175.649 239.992 L175.649 243.927 L155.741 243.927 L155.741 239.992 Z\" fill=\"#000000\" fill-rule=\"nonzero\" fill-opacity=\"1\" /><path clip-path=\"url(#clip900)\" d=\"M185.093 238.048 L189.977 238.048 L189.977 243.927 L185.093 243.927 L185.093 238.048 Z\" fill=\"#000000\" fill-rule=\"nonzero\" fill-opacity=\"1\" /><path clip-path=\"url(#clip900)\" d=\"M198.982 209.367 L221.204 209.367 L221.204 211.358 L208.658 243.927 L203.774 243.927 L215.579 213.302 L198.982 213.302 L198.982 209.367 Z\" fill=\"#000000\" fill-rule=\"nonzero\" fill-opacity=\"1\" /><path clip-path=\"url(#clip900)\" d=\"M16.4842 825.525 L16.4842 795.479 L21.895 795.479 L21.895 819.095 L35.9632 819.095 L35.9632 796.465 L41.3741 796.465 L41.3741 819.095 L58.5933 819.095 L58.5933 794.906 L64.0042 794.906 L64.0042 825.525 L16.4842 825.525 Z\" fill=\"#000000\" fill-rule=\"nonzero\" fill-opacity=\"1\" /><path clip-path=\"url(#clip900)\" d=\"M16.4842 774.185 L16.4842 768.775 L70.0516 785.325 L70.0516 790.736 L16.4842 774.185 Z\" fill=\"#000000\" fill-rule=\"nonzero\" fill-opacity=\"1\" /><path clip-path=\"url(#clip900)\" d=\"M20.8447 743.089 Q20.8447 750.091 26.0645 754.229 Q31.2844 758.335 40.2919 758.335 Q49.2675 758.335 54.4874 754.229 Q59.7073 750.091 59.7073 743.089 Q59.7073 736.087 54.4874 732.013 Q49.2675 727.907 40.2919 727.907 Q31.2844 727.907 26.0645 732.013 Q20.8447 736.087 20.8447 743.089 M63.1448 734.081 L72.4069 725.615 L72.4069 733.381 L64.7999 740.415 Q64.8635 741.466 64.8954 742.039 Q64.9272 742.58 64.9272 743.089 Q64.9272 753.115 58.2432 759.13 Q51.5274 765.114 40.2919 765.114 Q29.0246 765.114 22.3406 759.13 Q15.6248 753.115 15.6248 743.089 Q15.6248 733.095 22.3406 727.111 Q29.0246 721.127 40.2919 721.127 Q48.5673 721.127 54.4556 724.469 Q60.3439 727.779 63.1448 734.081 Z\" fill=\"#000000\" fill-rule=\"nonzero\" fill-opacity=\"1\" /><path clip-path=\"url(#clip900)\" d=\"M716.708 12.096 L754.948 12.096 L754.948 18.9825 L724.89 18.9825 L724.89 36.8875 L753.692 36.8875 L753.692 43.7741 L724.89 43.7741 L724.89 65.6895 L755.677 65.6895 L755.677 72.576 L716.708 72.576 L716.708 12.096 Z\" fill=\"#000000\" fill-rule=\"nonzero\" fill-opacity=\"1\" /><path clip-path=\"url(#clip900)\" d=\"M806.516 45.1919 L806.516 72.576 L799.063 72.576 L799.063 45.4349 Q799.063 38.994 796.551 35.7938 Q794.039 32.5936 789.016 32.5936 Q782.98 32.5936 779.497 36.4419 Q776.013 40.2903 776.013 46.9338 L776.013 72.576 L768.519 72.576 L768.519 27.2059 L776.013 27.2059 L776.013 34.2544 Q778.686 30.163 782.292 28.1376 Q785.938 26.1121 790.677 26.1121 Q798.495 26.1121 802.506 30.9732 Q806.516 35.7938 806.516 45.1919 Z\" fill=\"#000000\" fill-rule=\"nonzero\" fill-opacity=\"1\" /><path clip-path=\"url(#clip900)\" d=\"M860.191 48.0275 L860.191 51.6733 L825.92 51.6733 Q826.406 59.3701 830.538 63.421 Q834.71 67.4314 842.124 67.4314 Q846.418 67.4314 850.428 66.3781 Q854.479 65.3249 858.449 63.2184 L858.449 70.267 Q854.438 71.9684 850.225 72.8596 Q846.013 73.7508 841.678 73.7508 Q830.822 73.7508 824.462 67.4314 Q818.142 61.1119 818.142 50.3365 Q818.142 39.1965 824.138 32.6746 Q830.173 26.1121 840.382 26.1121 Q849.537 26.1121 854.843 32.0264 Q860.191 37.9003 860.191 48.0275 M852.737 45.84 Q852.656 39.7232 849.294 36.0774 Q845.972 32.4315 840.463 32.4315 Q834.224 32.4315 830.457 35.9558 Q826.73 39.4801 826.163 45.8805 L852.737 45.84 Z\" fill=\"#000000\" fill-rule=\"nonzero\" fill-opacity=\"1\" /><path clip-path=\"url(#clip900)\" d=\"M898.715 34.1734 Q897.459 33.4443 895.96 33.1202 Q894.502 32.7556 892.719 32.7556 Q886.4 32.7556 882.997 36.8875 Q879.635 40.9789 879.635 48.6757 L879.635 72.576 L872.141 72.576 L872.141 27.2059 L879.635 27.2059 L879.635 34.2544 Q881.985 30.1225 885.752 28.1376 Q889.519 26.1121 894.907 26.1121 Q895.677 26.1121 896.608 26.2337 Q897.54 26.3147 898.674 26.5172 L898.715 34.1734 Z\" fill=\"#000000\" fill-rule=\"nonzero\" fill-opacity=\"1\" /><path clip-path=\"url(#clip900)\" d=\"M934.93 49.3643 Q934.93 41.2625 931.568 36.8065 Q928.246 32.3505 922.21 32.3505 Q916.215 32.3505 912.852 36.8065 Q909.531 41.2625 909.531 49.3643 Q909.531 57.4256 912.852 61.8816 Q916.215 66.3376 922.21 66.3376 Q928.246 66.3376 931.568 61.8816 Q934.93 57.4256 934.93 49.3643 M942.384 66.9452 Q942.384 78.5308 937.239 84.1616 Q932.094 89.8329 921.481 89.8329 Q917.551 89.8329 914.068 89.2252 Q910.584 88.6581 907.303 87.4428 L907.303 80.1917 Q910.584 81.9741 913.784 82.8248 Q916.984 83.6755 920.306 83.6755 Q927.638 83.6755 931.284 79.8271 Q934.93 76.0193 934.93 68.282 L934.93 64.5957 Q932.621 68.6061 929.016 70.5911 Q925.41 72.576 920.387 72.576 Q912.042 72.576 906.938 66.2161 Q901.834 59.8562 901.834 49.3643 Q901.834 38.832 906.938 32.472 Q912.042 26.1121 920.387 26.1121 Q925.41 26.1121 929.016 28.0971 Q932.621 30.082 934.93 34.0924 L934.93 27.2059 L942.384 27.2059 L942.384 66.9452 Z\" fill=\"#000000\" fill-rule=\"nonzero\" fill-opacity=\"1\" /><path clip-path=\"url(#clip900)\" d=\"M976.614 76.7889 Q973.454 84.8907 970.456 87.3618 Q967.459 89.8329 962.436 89.8329 L956.481 89.8329 L956.481 83.5945 L960.856 83.5945 Q963.934 83.5945 965.636 82.1361 Q967.337 80.6778 969.403 75.2496 L970.74 71.8468 L952.389 27.2059 L960.289 27.2059 L974.467 62.6918 L988.645 27.2059 L996.544 27.2059 L976.614 76.7889 Z\" fill=\"#000000\" fill-rule=\"nonzero\" fill-opacity=\"1\" /><path clip-path=\"url(#clip900)\" d=\"M1050.79 32.4315 Q1044.79 32.4315 1041.31 37.1306 Q1037.82 41.7891 1037.82 49.9314 Q1037.82 58.0738 1041.27 62.7728 Q1044.75 67.4314 1050.79 67.4314 Q1056.74 67.4314 1060.22 62.7323 Q1063.71 58.0333 1063.71 49.9314 Q1063.71 41.8701 1060.22 37.1711 Q1056.74 32.4315 1050.79 32.4315 M1050.79 26.1121 Q1060.51 26.1121 1066.06 32.4315 Q1071.61 38.7509 1071.61 49.9314 Q1071.61 61.0714 1066.06 67.4314 Q1060.51 73.7508 1050.79 73.7508 Q1041.02 73.7508 1035.47 67.4314 Q1029.96 61.0714 1029.96 49.9314 Q1029.96 38.7509 1035.47 32.4315 Q1041.02 26.1121 1050.79 26.1121 Z\" fill=\"#000000\" fill-rule=\"nonzero\" fill-opacity=\"1\" /><path clip-path=\"url(#clip900)\" d=\"M1091.17 65.7705 L1091.17 89.8329 L1083.68 89.8329 L1083.68 27.2059 L1091.17 27.2059 L1091.17 34.0924 Q1093.52 30.0415 1097.09 28.0971 Q1100.69 26.1121 1105.68 26.1121 Q1113.94 26.1121 1119.08 32.6746 Q1124.27 39.2371 1124.27 49.9314 Q1124.27 60.6258 1119.08 67.1883 Q1113.94 73.7508 1105.68 73.7508 Q1100.69 73.7508 1097.09 71.8063 Q1093.52 69.8214 1091.17 65.7705 M1116.53 49.9314 Q1116.53 41.7081 1113.13 37.0496 Q1109.77 32.3505 1103.85 32.3505 Q1097.94 32.3505 1094.54 37.0496 Q1091.17 41.7081 1091.17 49.9314 Q1091.17 58.1548 1094.54 62.8538 Q1097.94 67.5124 1103.85 67.5124 Q1109.77 67.5124 1113.13 62.8538 Q1116.53 58.1548 1116.53 49.9314 Z\" fill=\"#000000\" fill-rule=\"nonzero\" fill-opacity=\"1\" /><path clip-path=\"url(#clip900)\" d=\"M1144 14.324 L1144 27.2059 L1159.35 27.2059 L1159.35 32.9987 L1144 32.9987 L1144 57.6282 Q1144 63.1779 1145.5 64.7578 Q1147.04 66.3376 1151.69 66.3376 L1159.35 66.3376 L1159.35 72.576 L1151.69 72.576 Q1143.07 72.576 1139.78 69.3758 Q1136.5 66.1351 1136.5 57.6282 L1136.5 32.9987 L1131.03 32.9987 L1131.03 27.2059 L1136.5 27.2059 L1136.5 14.324 L1144 14.324 Z\" fill=\"#000000\" fill-rule=\"nonzero\" fill-opacity=\"1\" /><path clip-path=\"url(#clip900)\" d=\"M1169.15 27.2059 L1176.61 27.2059 L1176.61 72.576 L1169.15 72.576 L1169.15 27.2059 M1169.15 9.54393 L1176.61 9.54393 L1176.61 18.9825 L1169.15 18.9825 L1169.15 9.54393 Z\" fill=\"#000000\" fill-rule=\"nonzero\" fill-opacity=\"1\" /><path clip-path=\"url(#clip900)\" d=\"M1227.53 35.9153 Q1230.32 30.8922 1234.21 28.5022 Q1238.1 26.1121 1243.37 26.1121 Q1250.45 26.1121 1254.3 31.0947 Q1258.15 36.0368 1258.15 45.1919 L1258.15 72.576 L1250.66 72.576 L1250.66 45.4349 Q1250.66 38.913 1248.35 35.7533 Q1246.04 32.5936 1241.3 32.5936 Q1235.51 32.5936 1232.14 36.4419 Q1228.78 40.2903 1228.78 46.9338 L1228.78 72.576 L1221.29 72.576 L1221.29 45.4349 Q1221.29 38.8725 1218.98 35.7533 Q1216.67 32.5936 1211.85 32.5936 Q1206.14 32.5936 1202.78 36.4824 Q1199.41 40.3308 1199.41 46.9338 L1199.41 72.576 L1191.92 72.576 L1191.92 27.2059 L1199.41 27.2059 L1199.41 34.2544 Q1201.97 30.082 1205.53 28.0971 Q1209.1 26.1121 1214 26.1121 Q1218.94 26.1121 1222.38 28.6237 Q1225.87 31.1352 1227.53 35.9153 Z\" fill=\"#000000\" fill-rule=\"nonzero\" fill-opacity=\"1\" /><path clip-path=\"url(#clip900)\" d=\"M1273.02 27.2059 L1280.47 27.2059 L1280.47 72.576 L1273.02 72.576 L1273.02 27.2059 M1273.02 9.54393 L1280.47 9.54393 L1280.47 18.9825 L1273.02 18.9825 L1273.02 9.54393 Z\" fill=\"#000000\" fill-rule=\"nonzero\" fill-opacity=\"1\" /><path clip-path=\"url(#clip900)\" d=\"M1324.99 28.5427 L1324.99 35.5912 Q1321.83 33.9709 1318.43 33.1607 Q1315.03 32.3505 1311.38 32.3505 Q1305.83 32.3505 1303.04 34.0519 Q1300.28 35.7533 1300.28 39.156 Q1300.28 41.7486 1302.27 43.2475 Q1304.25 44.7058 1310.25 46.0426 L1312.8 46.6097 Q1320.74 48.3111 1324.06 51.4303 Q1327.42 54.509 1327.42 60.0587 Q1327.42 66.3781 1322.4 70.0644 Q1317.42 73.7508 1308.67 73.7508 Q1305.02 73.7508 1301.05 73.0216 Q1297.12 72.3329 1292.75 70.9151 L1292.75 63.2184 Q1296.88 65.3654 1300.89 66.4591 Q1304.9 67.5124 1308.83 67.5124 Q1314.09 67.5124 1316.93 65.73 Q1319.77 63.9071 1319.77 60.6258 Q1319.77 57.5877 1317.7 55.9673 Q1315.67 54.3469 1308.75 52.8481 L1306.15 52.2405 Q1299.23 50.7821 1296.15 47.7845 Q1293.07 44.7463 1293.07 39.4801 Q1293.07 33.0797 1297.61 29.5959 Q1302.14 26.1121 1310.49 26.1121 Q1314.62 26.1121 1318.27 26.7198 Q1321.91 27.3274 1324.99 28.5427 Z\" fill=\"#000000\" fill-rule=\"nonzero\" fill-opacity=\"1\" /><path clip-path=\"url(#clip900)\" d=\"M1359.91 49.7694 Q1350.88 49.7694 1347.39 51.8354 Q1343.91 53.9013 1343.91 58.8839 Q1343.91 62.8538 1346.5 65.2034 Q1349.13 67.5124 1353.63 67.5124 Q1359.83 67.5124 1363.56 63.1374 Q1367.32 58.7219 1367.32 51.4303 L1367.32 49.7694 L1359.91 49.7694 M1374.78 46.6907 L1374.78 72.576 L1367.32 72.576 L1367.32 65.6895 Q1364.77 69.8214 1360.96 71.8063 Q1357.16 73.7508 1351.65 73.7508 Q1344.68 73.7508 1340.55 69.8619 Q1336.46 65.9325 1336.46 59.3701 Q1336.46 51.7138 1341.56 47.825 Q1346.7 43.9361 1356.87 43.9361 L1367.32 43.9361 L1367.32 43.2069 Q1367.32 38.0623 1363.92 35.2672 Q1360.56 32.4315 1354.44 32.4315 Q1350.55 32.4315 1346.87 33.3632 Q1343.18 34.295 1339.78 36.1584 L1339.78 29.2718 Q1343.87 27.692 1347.72 26.9223 Q1351.57 26.1121 1355.21 26.1121 Q1365.05 26.1121 1369.92 31.2163 Q1374.78 36.3204 1374.78 46.6907 Z\" fill=\"#000000\" fill-rule=\"nonzero\" fill-opacity=\"1\" /><path clip-path=\"url(#clip900)\" d=\"M1397.5 14.324 L1397.5 27.2059 L1412.86 27.2059 L1412.86 32.9987 L1397.5 32.9987 L1397.5 57.6282 Q1397.5 63.1779 1399 64.7578 Q1400.54 66.3376 1405.2 66.3376 L1412.86 66.3376 L1412.86 72.576 L1405.2 72.576 Q1396.57 72.576 1393.29 69.3758 Q1390.01 66.1351 1390.01 57.6282 L1390.01 32.9987 L1384.54 32.9987 L1384.54 27.2059 L1390.01 27.2059 L1390.01 14.324 L1397.5 14.324 Z\" fill=\"#000000\" fill-rule=\"nonzero\" fill-opacity=\"1\" /><path clip-path=\"url(#clip900)\" d=\"M1422.66 27.2059 L1430.11 27.2059 L1430.11 72.576 L1422.66 72.576 L1422.66 27.2059 M1422.66 9.54393 L1430.11 9.54393 L1430.11 18.9825 L1422.66 18.9825 L1422.66 9.54393 Z\" fill=\"#000000\" fill-rule=\"nonzero\" fill-opacity=\"1\" /><path clip-path=\"url(#clip900)\" d=\"M1463.29 32.4315 Q1457.29 32.4315 1453.81 37.1306 Q1450.33 41.7891 1450.33 49.9314 Q1450.33 58.0738 1453.77 62.7728 Q1457.25 67.4314 1463.29 67.4314 Q1469.24 67.4314 1472.73 62.7323 Q1476.21 58.0333 1476.21 49.9314 Q1476.21 41.8701 1472.73 37.1711 Q1469.24 32.4315 1463.29 32.4315 M1463.29 26.1121 Q1473.01 26.1121 1478.56 32.4315 Q1484.11 38.7509 1484.11 49.9314 Q1484.11 61.0714 1478.56 67.4314 Q1473.01 73.7508 1463.29 73.7508 Q1453.53 73.7508 1447.98 67.4314 Q1442.47 61.0714 1442.47 49.9314 Q1442.47 38.7509 1447.98 32.4315 Q1453.53 26.1121 1463.29 26.1121 Z\" fill=\"#000000\" fill-rule=\"nonzero\" fill-opacity=\"1\" /><path clip-path=\"url(#clip900)\" d=\"M1534.18 45.1919 L1534.18 72.576 L1526.73 72.576 L1526.73 45.4349 Q1526.73 38.994 1524.21 35.7938 Q1521.7 32.5936 1516.68 32.5936 Q1510.64 32.5936 1507.16 36.4419 Q1503.68 40.2903 1503.68 46.9338 L1503.68 72.576 L1496.18 72.576 L1496.18 27.2059 L1503.68 27.2059 L1503.68 34.2544 Q1506.35 30.163 1509.96 28.1376 Q1513.6 26.1121 1518.34 26.1121 Q1526.16 26.1121 1530.17 30.9732 Q1534.18 35.7938 1534.18 45.1919 Z\" fill=\"#000000\" fill-rule=\"nonzero\" fill-opacity=\"1\" /><path clip-path=\"url(#clip900)\" d=\"M1571.08 27.2059 L1578.54 27.2059 L1587.85 62.6108 L1597.13 27.2059 L1605.92 27.2059 L1615.24 62.6108 L1624.52 27.2059 L1631.97 27.2059 L1620.1 72.576 L1611.31 72.576 L1601.55 35.3887 L1591.74 72.576 L1582.95 72.576 L1571.08 27.2059 Z\" fill=\"#000000\" fill-rule=\"nonzero\" fill-opacity=\"1\" /><path clip-path=\"url(#clip900)\" d=\"M1643.27 27.2059 L1650.72 27.2059 L1650.72 72.576 L1643.27 72.576 L1643.27 27.2059 M1643.27 9.54393 L1650.72 9.54393 L1650.72 18.9825 L1643.27 18.9825 L1643.27 9.54393 Z\" fill=\"#000000\" fill-rule=\"nonzero\" fill-opacity=\"1\" /><path clip-path=\"url(#clip900)\" d=\"M1673.69 14.324 L1673.69 27.2059 L1689.05 27.2059 L1689.05 32.9987 L1673.69 32.9987 L1673.69 57.6282 Q1673.69 63.1779 1675.19 64.7578 Q1676.73 66.3376 1681.39 66.3376 L1689.05 66.3376 L1689.05 72.576 L1681.39 72.576 Q1672.76 72.576 1669.48 69.3758 Q1666.2 66.1351 1666.2 57.6282 L1666.2 32.9987 L1660.73 32.9987 L1660.73 27.2059 L1666.2 27.2059 L1666.2 14.324 L1673.69 14.324 Z\" fill=\"#000000\" fill-rule=\"nonzero\" fill-opacity=\"1\" /><path clip-path=\"url(#clip900)\" d=\"M1736.56 45.1919 L1736.56 72.576 L1729.11 72.576 L1729.11 45.4349 Q1729.11 38.994 1726.6 35.7938 Q1724.09 32.5936 1719.06 32.5936 Q1713.03 32.5936 1709.54 36.4419 Q1706.06 40.2903 1706.06 46.9338 L1706.06 72.576 L1698.57 72.576 L1698.57 9.54393 L1706.06 9.54393 L1706.06 34.2544 Q1708.73 30.163 1712.34 28.1376 Q1715.98 26.1121 1720.72 26.1121 Q1728.54 26.1121 1732.55 30.9732 Q1736.56 35.7938 1736.56 45.1919 Z\" fill=\"#000000\" fill-rule=\"nonzero\" fill-opacity=\"1\" /><path clip-path=\"url(#clip900)\" d=\"M1819.36 63.9476 L1819.36 47.7034 L1806 47.7034 L1806 40.9789 L1827.47 40.9789 L1827.47 66.9452 Q1822.73 70.3075 1817.01 72.0494 Q1811.3 73.7508 1804.82 73.7508 Q1790.64 73.7508 1782.62 65.4869 Q1774.64 57.1826 1774.64 42.3968 Q1774.64 27.5705 1782.62 19.3066 Q1790.64 11.0023 1804.82 11.0023 Q1810.74 11.0023 1816.04 12.4606 Q1821.39 13.9189 1825.89 16.7545 L1825.89 25.464 Q1821.35 21.6156 1816.24 19.6712 Q1811.14 17.7268 1805.51 17.7268 Q1794.41 17.7268 1788.82 23.9246 Q1783.27 30.1225 1783.27 42.3968 Q1783.27 54.6305 1788.82 60.8284 Q1794.41 67.0263 1805.51 67.0263 Q1809.84 67.0263 1813.25 66.2971 Q1816.65 65.5274 1819.36 63.9476 Z\" fill=\"#000000\" fill-rule=\"nonzero\" fill-opacity=\"1\" /><path clip-path=\"url(#clip900)\" d=\"M1850.6 18.8205 L1850.6 65.8515 L1860.48 65.8515 Q1873 65.8515 1878.79 60.1802 Q1884.62 54.509 1884.62 42.2752 Q1884.62 30.1225 1878.79 24.4918 Q1873 18.8205 1860.48 18.8205 L1850.6 18.8205 M1842.41 12.096 L1859.22 12.096 Q1876.81 12.096 1885.03 19.4281 Q1893.25 26.7198 1893.25 42.2752 Q1893.25 57.9117 1884.99 65.2439 Q1876.72 72.576 1859.22 72.576 L1842.41 72.576 L1842.41 12.096 Z\" fill=\"#000000\" fill-rule=\"nonzero\" fill-opacity=\"1\" /><polyline clip-path=\"url(#clip902)\" style=\"stroke:#009af9; stroke-linecap:round; stroke-linejoin:round; stroke-width:4; stroke-opacity:1; fill:none\" points=\"316.512,160.256 336.481,858.037 356.45,1081.52 376.419,1184.77 396.388,1246.07 416.357,1285.7 436.326,1312.52 456.295,1331.28 476.264,1344.73 496.234,1354.57 516.203,1361.87 536.172,1367.36 556.141,1371.53 576.11,1374.73 596.079,1377.19 616.048,1379.1 636.017,1380.59 655.986,1381.75 675.955,1382.67 695.924,1383.39 715.893,1383.96 735.862,1384.41 755.831,1384.78 775.8,1385.06 795.769,1385.3 815.738,1385.48 835.707,1385.63 855.676,1385.75 875.645,1385.85 895.614,1385.93 915.584,1386 935.553,1386.05 955.522,1386.1 975.491,1386.13 995.46,1386.16 1015.43,1386.19 1035.4,1386.21 1055.37,1386.23 1075.34,1386.24 1095.3,1386.26 1115.27,1386.27 1135.24,1386.28 1155.21,1386.29 1175.18,1386.29 1195.15,1386.3 1215.12,1386.31 1235.09,1386.31 1255.06,1386.32 1275.03,1386.32 1295,1386.32 1314.96,1386.33 1334.93,1386.33 1354.9,1386.33 1374.87,1386.34 1394.84,1386.34 1414.81,1386.34 1434.78,1386.34 1454.75,1386.34 1474.72,1386.35 1494.69,1386.35 1514.65,1386.35 1534.62,1386.35 1554.59,1386.35 1574.56,1386.35 1594.53,1386.36 1614.5,1386.36 1634.47,1386.36 1654.44,1386.36 1674.41,1386.36 1694.38,1386.36 1714.35,1386.36 1734.31,1386.36 1754.28,1386.37 1774.25,1386.37 1794.22,1386.37 1814.19,1386.37 1834.16,1386.37 1854.13,1386.37 1874.1,1386.37 1894.07,1386.37 1914.04,1386.38 1934,1386.38 1953.97,1386.38 1973.94,1386.38 1993.91,1386.38 2013.88,1386.38 2033.85,1386.38 2053.82,1386.38 2073.79,1386.38 2093.76,1386.38 2113.73,1386.39 2133.7,1386.39 2153.66,1386.39 2173.63,1386.39 2193.6,1386.39 2213.57,1386.39 2233.54,1386.39 2253.51,1386.39 2273.48,1386.39 2293.45,1386.4 \"/>\n",
       "<path clip-path=\"url(#clip900)\" d=\"M2020.92 270.476 L2282.9 270.476 L2282.9 166.796 L2020.92 166.796  Z\" fill=\"#ffffff\" fill-rule=\"evenodd\" fill-opacity=\"1\"/>\n",
       "<polyline clip-path=\"url(#clip900)\" style=\"stroke:#000000; stroke-linecap:round; stroke-linejoin:round; stroke-width:4; stroke-opacity:1; fill:none\" points=\"2020.92,270.476 2282.9,270.476 2282.9,166.796 2020.92,166.796 2020.92,270.476 \"/>\n",
       "<polyline clip-path=\"url(#clip900)\" style=\"stroke:#009af9; stroke-linecap:round; stroke-linejoin:round; stroke-width:4; stroke-opacity:1; fill:none\" points=\"2044.2,218.636 2183.91,218.636 \"/>\n",
       "<path clip-path=\"url(#clip900)\" d=\"M2221.03 238.323 Q2219.23 242.953 2217.51 244.365 Q2215.8 245.777 2212.93 245.777 L2209.53 245.777 L2209.53 242.212 L2212.03 242.212 Q2213.79 242.212 2214.76 241.379 Q2215.73 240.545 2216.91 237.443 L2217.68 235.499 L2207.19 209.99 L2211.7 209.99 L2219.81 230.268 L2227.91 209.99 L2232.42 209.99 L2221.03 238.323 Z\" fill=\"#000000\" fill-rule=\"nonzero\" fill-opacity=\"1\" /><path clip-path=\"url(#clip900)\" d=\"M2239.71 231.981 L2247.35 231.981 L2247.35 205.615 L2239.04 207.282 L2239.04 203.022 L2247.31 201.356 L2251.98 201.356 L2251.98 231.981 L2259.62 231.981 L2259.62 235.916 L2239.71 235.916 L2239.71 231.981 Z\" fill=\"#000000\" fill-rule=\"nonzero\" fill-opacity=\"1\" /></svg>\n"
      ],
      "text/html": [
       "<?xml version=\"1.0\" encoding=\"utf-8\"?>\n",
       "<svg xmlns=\"http://www.w3.org/2000/svg\" xmlns:xlink=\"http://www.w3.org/1999/xlink\" width=\"600\" height=\"400\" viewBox=\"0 0 2400 1600\">\n",
       "<defs>\n",
       "  <clipPath id=\"clip950\">\n",
       "    <rect x=\"0\" y=\"0\" width=\"2400\" height=\"1600\"/>\n",
       "  </clipPath>\n",
       "</defs>\n",
       "<path clip-path=\"url(#clip950)\" d=\"M0 1600 L2400 1600 L2400 0 L0 0  Z\" fill=\"#ffffff\" fill-rule=\"evenodd\" fill-opacity=\"1\"/>\n",
       "<defs>\n",
       "  <clipPath id=\"clip951\">\n",
       "    <rect x=\"480\" y=\"0\" width=\"1681\" height=\"1600\"/>\n",
       "  </clipPath>\n",
       "</defs>\n",
       "<path clip-path=\"url(#clip950)\" d=\"M257.204 1423.18 L2352.76 1423.18 L2352.76 123.472 L257.204 123.472  Z\" fill=\"#ffffff\" fill-rule=\"evenodd\" fill-opacity=\"1\"/>\n",
       "<defs>\n",
       "  <clipPath id=\"clip952\">\n",
       "    <rect x=\"257\" y=\"123\" width=\"2097\" height=\"1301\"/>\n",
       "  </clipPath>\n",
       "</defs>\n",
       "<polyline clip-path=\"url(#clip952)\" style=\"stroke:#000000; stroke-linecap:round; stroke-linejoin:round; stroke-width:2; stroke-opacity:0.1; fill:none\" points=\"296.543,1423.18 296.543,123.472 \"/>\n",
       "<polyline clip-path=\"url(#clip952)\" style=\"stroke:#000000; stroke-linecap:round; stroke-linejoin:round; stroke-width:2; stroke-opacity:0.1; fill:none\" points=\"795.769,1423.18 795.769,123.472 \"/>\n",
       "<polyline clip-path=\"url(#clip952)\" style=\"stroke:#000000; stroke-linecap:round; stroke-linejoin:round; stroke-width:2; stroke-opacity:0.1; fill:none\" points=\"1295,1423.18 1295,123.472 \"/>\n",
       "<polyline clip-path=\"url(#clip952)\" style=\"stroke:#000000; stroke-linecap:round; stroke-linejoin:round; stroke-width:2; stroke-opacity:0.1; fill:none\" points=\"1794.22,1423.18 1794.22,123.472 \"/>\n",
       "<polyline clip-path=\"url(#clip952)\" style=\"stroke:#000000; stroke-linecap:round; stroke-linejoin:round; stroke-width:2; stroke-opacity:0.1; fill:none\" points=\"2293.45,1423.18 2293.45,123.472 \"/>\n",
       "<polyline clip-path=\"url(#clip952)\" style=\"stroke:#000000; stroke-linecap:round; stroke-linejoin:round; stroke-width:2; stroke-opacity:0.1; fill:none\" points=\"257.204,1418.18 2352.76,1418.18 \"/>\n",
       "<polyline clip-path=\"url(#clip952)\" style=\"stroke:#000000; stroke-linecap:round; stroke-linejoin:round; stroke-width:2; stroke-opacity:0.1; fill:none\" points=\"257.204,1120.3 2352.76,1120.3 \"/>\n",
       "<polyline clip-path=\"url(#clip952)\" style=\"stroke:#000000; stroke-linecap:round; stroke-linejoin:round; stroke-width:2; stroke-opacity:0.1; fill:none\" points=\"257.204,822.414 2352.76,822.414 \"/>\n",
       "<polyline clip-path=\"url(#clip952)\" style=\"stroke:#000000; stroke-linecap:round; stroke-linejoin:round; stroke-width:2; stroke-opacity:0.1; fill:none\" points=\"257.204,524.531 2352.76,524.531 \"/>\n",
       "<polyline clip-path=\"url(#clip952)\" style=\"stroke:#000000; stroke-linecap:round; stroke-linejoin:round; stroke-width:2; stroke-opacity:0.1; fill:none\" points=\"257.204,226.647 2352.76,226.647 \"/>\n",
       "<polyline clip-path=\"url(#clip950)\" style=\"stroke:#000000; stroke-linecap:round; stroke-linejoin:round; stroke-width:4; stroke-opacity:1; fill:none\" points=\"257.204,1423.18 2352.76,1423.18 \"/>\n",
       "<polyline clip-path=\"url(#clip950)\" style=\"stroke:#000000; stroke-linecap:round; stroke-linejoin:round; stroke-width:4; stroke-opacity:1; fill:none\" points=\"296.543,1423.18 296.543,1404.28 \"/>\n",
       "<polyline clip-path=\"url(#clip950)\" style=\"stroke:#000000; stroke-linecap:round; stroke-linejoin:round; stroke-width:4; stroke-opacity:1; fill:none\" points=\"795.769,1423.18 795.769,1404.28 \"/>\n",
       "<polyline clip-path=\"url(#clip950)\" style=\"stroke:#000000; stroke-linecap:round; stroke-linejoin:round; stroke-width:4; stroke-opacity:1; fill:none\" points=\"1295,1423.18 1295,1404.28 \"/>\n",
       "<polyline clip-path=\"url(#clip950)\" style=\"stroke:#000000; stroke-linecap:round; stroke-linejoin:round; stroke-width:4; stroke-opacity:1; fill:none\" points=\"1794.22,1423.18 1794.22,1404.28 \"/>\n",
       "<polyline clip-path=\"url(#clip950)\" style=\"stroke:#000000; stroke-linecap:round; stroke-linejoin:round; stroke-width:4; stroke-opacity:1; fill:none\" points=\"2293.45,1423.18 2293.45,1404.28 \"/>\n",
       "<path clip-path=\"url(#clip950)\" d=\"M296.543 1454.1 Q292.932 1454.1 291.103 1457.66 Q289.298 1461.2 289.298 1468.33 Q289.298 1475.44 291.103 1479.01 Q292.932 1482.55 296.543 1482.55 Q300.177 1482.55 301.983 1479.01 Q303.812 1475.44 303.812 1468.33 Q303.812 1461.2 301.983 1457.66 Q300.177 1454.1 296.543 1454.1 M296.543 1450.39 Q302.353 1450.39 305.409 1455 Q308.487 1459.58 308.487 1468.33 Q308.487 1477.06 305.409 1481.67 Q302.353 1486.25 296.543 1486.25 Q290.733 1486.25 287.654 1481.67 Q284.599 1477.06 284.599 1468.33 Q284.599 1459.58 287.654 1455 Q290.733 1450.39 296.543 1450.39 Z\" fill=\"#000000\" fill-rule=\"nonzero\" fill-opacity=\"1\" /><path clip-path=\"url(#clip950)\" d=\"M775.04 1481.64 L791.36 1481.64 L791.36 1485.58 L769.415 1485.58 L769.415 1481.64 Q772.077 1478.89 776.661 1474.26 Q781.267 1469.61 782.448 1468.27 Q784.693 1465.74 785.573 1464.01 Q786.475 1462.25 786.475 1460.56 Q786.475 1457.8 784.531 1456.07 Q782.61 1454.33 779.508 1454.33 Q777.309 1454.33 774.855 1455.09 Q772.424 1455.86 769.647 1457.41 L769.647 1452.69 Q772.471 1451.55 774.924 1450.97 Q777.378 1450.39 779.415 1450.39 Q784.786 1450.39 787.98 1453.08 Q791.174 1455.77 791.174 1460.26 Q791.174 1462.39 790.364 1464.31 Q789.577 1466.2 787.471 1468.8 Q786.892 1469.47 783.79 1472.69 Q780.688 1475.88 775.04 1481.64 Z\" fill=\"#000000\" fill-rule=\"nonzero\" fill-opacity=\"1\" /><path clip-path=\"url(#clip950)\" d=\"M801.221 1451.02 L819.577 1451.02 L819.577 1454.96 L805.503 1454.96 L805.503 1463.43 Q806.522 1463.08 807.54 1462.92 Q808.559 1462.73 809.577 1462.73 Q815.364 1462.73 818.744 1465.9 Q822.123 1469.08 822.123 1474.49 Q822.123 1480.07 818.651 1483.17 Q815.179 1486.25 808.859 1486.25 Q806.684 1486.25 804.415 1485.88 Q802.17 1485.51 799.762 1484.77 L799.762 1480.07 Q801.846 1481.2 804.068 1481.76 Q806.29 1482.32 808.767 1482.32 Q812.771 1482.32 815.109 1480.21 Q817.447 1478.1 817.447 1474.49 Q817.447 1470.88 815.109 1468.77 Q812.771 1466.67 808.767 1466.67 Q806.892 1466.67 805.017 1467.08 Q803.165 1467.5 801.221 1468.38 L801.221 1451.02 Z\" fill=\"#000000\" fill-rule=\"nonzero\" fill-opacity=\"1\" /><path clip-path=\"url(#clip950)\" d=\"M1269.69 1451.02 L1288.05 1451.02 L1288.05 1454.96 L1273.98 1454.96 L1273.98 1463.43 Q1275 1463.08 1276.01 1462.92 Q1277.03 1462.73 1278.05 1462.73 Q1283.84 1462.73 1287.22 1465.9 Q1290.6 1469.08 1290.6 1474.49 Q1290.6 1480.07 1287.13 1483.17 Q1283.65 1486.25 1277.33 1486.25 Q1275.16 1486.25 1272.89 1485.88 Q1270.64 1485.51 1268.24 1484.77 L1268.24 1480.07 Q1270.32 1481.2 1272.54 1481.76 Q1274.76 1482.32 1277.24 1482.32 Q1281.25 1482.32 1283.58 1480.21 Q1285.92 1478.1 1285.92 1474.49 Q1285.92 1470.88 1283.58 1468.77 Q1281.25 1466.67 1277.24 1466.67 Q1275.37 1466.67 1273.49 1467.08 Q1271.64 1467.5 1269.69 1468.38 L1269.69 1451.02 Z\" fill=\"#000000\" fill-rule=\"nonzero\" fill-opacity=\"1\" /><path clip-path=\"url(#clip950)\" d=\"M1309.81 1454.1 Q1306.2 1454.1 1304.37 1457.66 Q1302.56 1461.2 1302.56 1468.33 Q1302.56 1475.44 1304.37 1479.01 Q1306.2 1482.55 1309.81 1482.55 Q1313.44 1482.55 1315.25 1479.01 Q1317.08 1475.44 1317.08 1468.33 Q1317.08 1461.2 1315.25 1457.66 Q1313.44 1454.1 1309.81 1454.1 M1309.81 1450.39 Q1315.62 1450.39 1318.68 1455 Q1321.75 1459.58 1321.75 1468.33 Q1321.75 1477.06 1318.68 1481.67 Q1315.62 1486.25 1309.81 1486.25 Q1304 1486.25 1300.92 1481.67 Q1297.87 1477.06 1297.87 1468.33 Q1297.87 1459.58 1300.92 1455 Q1304 1450.39 1309.81 1450.39 Z\" fill=\"#000000\" fill-rule=\"nonzero\" fill-opacity=\"1\" /><path clip-path=\"url(#clip950)\" d=\"M1768.08 1451.02 L1790.3 1451.02 L1790.3 1453.01 L1777.75 1485.58 L1772.87 1485.58 L1784.67 1454.96 L1768.08 1454.96 L1768.08 1451.02 Z\" fill=\"#000000\" fill-rule=\"nonzero\" fill-opacity=\"1\" /><path clip-path=\"url(#clip950)\" d=\"M1799.46 1451.02 L1817.82 1451.02 L1817.82 1454.96 L1803.75 1454.96 L1803.75 1463.43 Q1804.77 1463.08 1805.78 1462.92 Q1806.8 1462.73 1807.82 1462.73 Q1813.61 1462.73 1816.99 1465.9 Q1820.37 1469.08 1820.37 1474.49 Q1820.37 1480.07 1816.9 1483.17 Q1813.42 1486.25 1807.1 1486.25 Q1804.93 1486.25 1802.66 1485.88 Q1800.41 1485.51 1798.01 1484.77 L1798.01 1480.07 Q1800.09 1481.2 1802.31 1481.76 Q1804.53 1482.32 1807.01 1482.32 Q1811.02 1482.32 1813.35 1480.21 Q1815.69 1478.1 1815.69 1474.49 Q1815.69 1470.88 1813.35 1468.77 Q1811.02 1466.67 1807.01 1466.67 Q1805.14 1466.67 1803.26 1467.08 Q1801.41 1467.5 1799.46 1468.38 L1799.46 1451.02 Z\" fill=\"#000000\" fill-rule=\"nonzero\" fill-opacity=\"1\" /><path clip-path=\"url(#clip950)\" d=\"M2253.05 1481.64 L2260.69 1481.64 L2260.69 1455.28 L2252.38 1456.95 L2252.38 1452.69 L2260.65 1451.02 L2265.32 1451.02 L2265.32 1481.64 L2272.96 1481.64 L2272.96 1485.58 L2253.05 1485.58 L2253.05 1481.64 Z\" fill=\"#000000\" fill-rule=\"nonzero\" fill-opacity=\"1\" /><path clip-path=\"url(#clip950)\" d=\"M2292.41 1454.1 Q2288.8 1454.1 2286.97 1457.66 Q2285.16 1461.2 2285.16 1468.33 Q2285.16 1475.44 2286.97 1479.01 Q2288.8 1482.55 2292.41 1482.55 Q2296.04 1482.55 2297.85 1479.01 Q2299.67 1475.44 2299.67 1468.33 Q2299.67 1461.2 2297.85 1457.66 Q2296.04 1454.1 2292.41 1454.1 M2292.41 1450.39 Q2298.22 1450.39 2301.27 1455 Q2304.35 1459.58 2304.35 1468.33 Q2304.35 1477.06 2301.27 1481.67 Q2298.22 1486.25 2292.41 1486.25 Q2286.6 1486.25 2283.52 1481.67 Q2280.46 1477.06 2280.46 1468.33 Q2280.46 1459.58 2283.52 1455 Q2286.6 1450.39 2292.41 1450.39 Z\" fill=\"#000000\" fill-rule=\"nonzero\" fill-opacity=\"1\" /><path clip-path=\"url(#clip950)\" d=\"M2322.57 1454.1 Q2318.96 1454.1 2317.13 1457.66 Q2315.32 1461.2 2315.32 1468.33 Q2315.32 1475.44 2317.13 1479.01 Q2318.96 1482.55 2322.57 1482.55 Q2326.2 1482.55 2328.01 1479.01 Q2329.84 1475.44 2329.84 1468.33 Q2329.84 1461.2 2328.01 1457.66 Q2326.2 1454.1 2322.57 1454.1 M2322.57 1450.39 Q2328.38 1450.39 2331.43 1455 Q2334.51 1459.58 2334.51 1468.33 Q2334.51 1477.06 2331.43 1481.67 Q2328.38 1486.25 2322.57 1486.25 Q2316.76 1486.25 2313.68 1481.67 Q2310.62 1477.06 2310.62 1468.33 Q2310.62 1459.58 2313.68 1455 Q2316.76 1450.39 2322.57 1450.39 Z\" fill=\"#000000\" fill-rule=\"nonzero\" fill-opacity=\"1\" /><path clip-path=\"url(#clip950)\" d=\"M1156.56 1537.87 Q1155.58 1537.3 1154.4 1537.04 Q1153.25 1536.76 1151.85 1536.76 Q1146.89 1536.76 1144.21 1540 Q1141.57 1543.22 1141.57 1549.27 L1141.57 1568.04 L1135.68 1568.04 L1135.68 1532.4 L1141.57 1532.4 L1141.57 1537.93 Q1143.42 1534.69 1146.38 1533.13 Q1149.34 1531.54 1153.57 1531.54 Q1154.18 1531.54 1154.91 1531.63 Q1155.64 1531.7 1156.53 1531.85 L1156.56 1537.87 Z\" fill=\"#000000\" fill-rule=\"nonzero\" fill-opacity=\"1\" /><path clip-path=\"url(#clip950)\" d=\"M1162.1 1553.98 L1162.1 1532.4 L1167.96 1532.4 L1167.96 1553.75 Q1167.96 1558.81 1169.93 1561.36 Q1171.9 1563.87 1175.85 1563.87 Q1180.59 1563.87 1183.33 1560.85 Q1186.1 1557.83 1186.1 1552.61 L1186.1 1532.4 L1191.96 1532.4 L1191.96 1568.04 L1186.1 1568.04 L1186.1 1562.57 Q1183.97 1565.82 1181.14 1567.41 Q1178.33 1568.97 1174.61 1568.97 Q1168.47 1568.97 1165.28 1565.15 Q1162.1 1561.33 1162.1 1553.98 M1176.84 1531.54 L1176.84 1531.54 Z\" fill=\"#000000\" fill-rule=\"nonzero\" fill-opacity=\"1\" /><path clip-path=\"url(#clip950)\" d=\"M1233.65 1546.53 L1233.65 1568.04 L1227.8 1568.04 L1227.8 1546.72 Q1227.8 1541.66 1225.82 1539.14 Q1223.85 1536.63 1219.9 1536.63 Q1215.16 1536.63 1212.42 1539.65 Q1209.69 1542.68 1209.69 1547.9 L1209.69 1568.04 L1203.8 1568.04 L1203.8 1532.4 L1209.69 1532.4 L1209.69 1537.93 Q1211.79 1534.72 1214.62 1533.13 Q1217.48 1531.54 1221.21 1531.54 Q1227.35 1531.54 1230.5 1535.36 Q1233.65 1539.14 1233.65 1546.53 Z\" fill=\"#000000\" fill-rule=\"nonzero\" fill-opacity=\"1\" /><path clip-path=\"url(#clip950)\" d=\"M1268.06 1533.45 L1268.06 1538.98 Q1265.58 1537.71 1262.9 1537.07 Q1260.23 1536.44 1257.36 1536.44 Q1253 1536.44 1250.81 1537.77 Q1248.64 1539.11 1248.64 1541.79 Q1248.64 1543.82 1250.2 1545 Q1251.76 1546.15 1256.47 1547.2 L1258.48 1547.64 Q1264.72 1548.98 1267.33 1551.43 Q1269.97 1553.85 1269.97 1558.21 Q1269.97 1563.17 1266.02 1566.07 Q1262.11 1568.97 1255.23 1568.97 Q1252.37 1568.97 1249.25 1568.39 Q1246.16 1567.85 1242.72 1566.74 L1242.72 1560.69 Q1245.97 1562.38 1249.12 1563.24 Q1252.27 1564.07 1255.36 1564.07 Q1259.5 1564.07 1261.72 1562.66 Q1263.95 1561.23 1263.95 1558.65 Q1263.95 1556.27 1262.33 1554.99 Q1260.74 1553.72 1255.3 1552.54 L1253.26 1552.07 Q1247.82 1550.92 1245.4 1548.56 Q1242.98 1546.18 1242.98 1542.04 Q1242.98 1537.01 1246.54 1534.27 Q1250.11 1531.54 1256.66 1531.54 Q1259.91 1531.54 1262.78 1532.01 Q1265.64 1532.49 1268.06 1533.45 Z\" fill=\"#000000\" fill-rule=\"nonzero\" fill-opacity=\"1\" /><path clip-path=\"url(#clip950)\" d=\"M1313.83 1536.5 Q1309.12 1536.5 1306.38 1540.19 Q1303.64 1543.85 1303.64 1550.25 Q1303.64 1556.65 1306.35 1560.34 Q1309.09 1564 1313.83 1564 Q1318.51 1564 1321.24 1560.31 Q1323.98 1556.62 1323.98 1550.25 Q1323.98 1543.92 1321.24 1540.23 Q1318.51 1536.5 1313.83 1536.5 M1313.83 1531.54 Q1321.47 1531.54 1325.83 1536.5 Q1330.19 1541.47 1330.19 1550.25 Q1330.19 1559 1325.83 1564 Q1321.47 1568.97 1313.83 1568.97 Q1306.16 1568.97 1301.8 1564 Q1297.47 1559 1297.47 1550.25 Q1297.47 1541.47 1301.8 1536.5 Q1306.16 1531.54 1313.83 1531.54 Z\" fill=\"#000000\" fill-rule=\"nonzero\" fill-opacity=\"1\" /><path clip-path=\"url(#clip950)\" d=\"M1357.94 1518.52 L1357.94 1523.39 L1352.34 1523.39 Q1349.19 1523.39 1347.95 1524.66 Q1346.74 1525.93 1346.74 1529.24 L1346.74 1532.4 L1356.38 1532.4 L1356.38 1536.95 L1346.74 1536.95 L1346.74 1568.04 L1340.85 1568.04 L1340.85 1536.95 L1335.25 1536.95 L1335.25 1532.4 L1340.85 1532.4 L1340.85 1529.91 Q1340.85 1523.96 1343.62 1521.26 Q1346.39 1518.52 1352.4 1518.52 L1357.94 1518.52 Z\" fill=\"#000000\" fill-rule=\"nonzero\" fill-opacity=\"1\" /><path clip-path=\"url(#clip950)\" d=\"M1416.22 1561.26 L1416.22 1548.5 L1405.72 1548.5 L1405.72 1543.22 L1422.59 1543.22 L1422.59 1563.62 Q1418.86 1566.26 1414.37 1567.63 Q1409.89 1568.97 1404.79 1568.97 Q1393.65 1568.97 1387.35 1562.47 Q1381.08 1555.95 1381.08 1544.33 Q1381.08 1532.68 1387.35 1526.19 Q1393.65 1519.66 1404.79 1519.66 Q1409.44 1519.66 1413.61 1520.81 Q1417.81 1521.96 1421.35 1524.18 L1421.35 1531.03 Q1417.78 1528 1413.77 1526.48 Q1409.76 1524.95 1405.34 1524.95 Q1396.61 1524.95 1392.22 1529.82 Q1387.86 1534.69 1387.86 1544.33 Q1387.86 1553.94 1392.22 1558.81 Q1396.61 1563.68 1405.34 1563.68 Q1408.74 1563.68 1411.41 1563.11 Q1414.09 1562.51 1416.22 1561.26 Z\" fill=\"#000000\" fill-rule=\"nonzero\" fill-opacity=\"1\" /><path clip-path=\"url(#clip950)\" d=\"M1440.76 1525.81 L1440.76 1562.76 L1448.53 1562.76 Q1458.36 1562.76 1462.91 1558.3 Q1467.5 1553.85 1467.5 1544.24 Q1467.5 1534.69 1462.91 1530.26 Q1458.36 1525.81 1448.53 1525.81 L1440.76 1525.81 M1434.33 1520.52 L1447.54 1520.52 Q1461.35 1520.52 1467.81 1526.28 Q1474.28 1532.01 1474.28 1544.24 Q1474.28 1556.52 1467.78 1562.28 Q1461.29 1568.04 1447.54 1568.04 L1434.33 1568.04 L1434.33 1520.52 Z\" fill=\"#000000\" fill-rule=\"nonzero\" fill-opacity=\"1\" /><polyline clip-path=\"url(#clip950)\" style=\"stroke:#000000; stroke-linecap:round; stroke-linejoin:round; stroke-width:4; stroke-opacity:1; fill:none\" points=\"257.204,1423.18 257.204,123.472 \"/>\n",
       "<polyline clip-path=\"url(#clip950)\" style=\"stroke:#000000; stroke-linecap:round; stroke-linejoin:round; stroke-width:4; stroke-opacity:1; fill:none\" points=\"257.204,1418.18 276.102,1418.18 \"/>\n",
       "<polyline clip-path=\"url(#clip950)\" style=\"stroke:#000000; stroke-linecap:round; stroke-linejoin:round; stroke-width:4; stroke-opacity:1; fill:none\" points=\"257.204,1120.3 276.102,1120.3 \"/>\n",
       "<polyline clip-path=\"url(#clip950)\" style=\"stroke:#000000; stroke-linecap:round; stroke-linejoin:round; stroke-width:4; stroke-opacity:1; fill:none\" points=\"257.204,822.414 276.102,822.414 \"/>\n",
       "<polyline clip-path=\"url(#clip950)\" style=\"stroke:#000000; stroke-linecap:round; stroke-linejoin:round; stroke-width:4; stroke-opacity:1; fill:none\" points=\"257.204,524.531 276.102,524.531 \"/>\n",
       "<polyline clip-path=\"url(#clip950)\" style=\"stroke:#000000; stroke-linecap:round; stroke-linejoin:round; stroke-width:4; stroke-opacity:1; fill:none\" points=\"257.204,226.647 276.102,226.647 \"/>\n",
       "<path clip-path=\"url(#clip950)\" d=\"M115.487 1418.63 L145.163 1418.63 L145.163 1422.57 L115.487 1422.57 L115.487 1418.63 Z\" fill=\"#000000\" fill-rule=\"nonzero\" fill-opacity=\"1\" /><path clip-path=\"url(#clip950)\" d=\"M159.283 1431.53 L175.602 1431.53 L175.602 1435.46 L153.658 1435.46 L153.658 1431.53 Q156.32 1428.77 160.903 1424.14 Q165.51 1419.49 166.69 1418.15 Q168.936 1415.62 169.815 1413.89 Q170.718 1412.13 170.718 1410.44 Q170.718 1407.68 168.774 1405.95 Q166.852 1404.21 163.751 1404.21 Q161.552 1404.21 159.098 1404.98 Q156.667 1405.74 153.89 1407.29 L153.89 1402.57 Q156.714 1401.43 159.167 1400.86 Q161.621 1400.28 163.658 1400.28 Q169.028 1400.28 172.223 1402.96 Q175.417 1405.65 175.417 1410.14 Q175.417 1412.27 174.607 1414.19 Q173.82 1416.09 171.714 1418.68 Q171.135 1419.35 168.033 1422.57 Q164.931 1425.76 159.283 1431.53 Z\" fill=\"#000000\" fill-rule=\"nonzero\" fill-opacity=\"1\" /><path clip-path=\"url(#clip950)\" d=\"M185.417 1429.58 L190.301 1429.58 L190.301 1435.46 L185.417 1435.46 L185.417 1429.58 Z\" fill=\"#000000\" fill-rule=\"nonzero\" fill-opacity=\"1\" /><path clip-path=\"url(#clip950)\" d=\"M201.297 1431.53 L208.936 1431.53 L208.936 1405.16 L200.625 1406.83 L200.625 1402.57 L208.889 1400.9 L213.565 1400.9 L213.565 1431.53 L221.204 1431.53 L221.204 1435.46 L201.297 1435.46 L201.297 1431.53 Z\" fill=\"#000000\" fill-rule=\"nonzero\" fill-opacity=\"1\" /><path clip-path=\"url(#clip950)\" d=\"M114.26 1120.75 L143.936 1120.75 L143.936 1124.68 L114.26 1124.68 L114.26 1120.75 Z\" fill=\"#000000\" fill-rule=\"nonzero\" fill-opacity=\"1\" /><path clip-path=\"url(#clip950)\" d=\"M158.056 1133.64 L174.376 1133.64 L174.376 1137.58 L152.431 1137.58 L152.431 1133.64 Q155.093 1130.89 159.677 1126.26 Q164.283 1121.61 165.464 1120.26 Q167.709 1117.74 168.589 1116 Q169.491 1114.24 169.491 1112.55 Q169.491 1109.8 167.547 1108.06 Q165.626 1106.33 162.524 1106.33 Q160.325 1106.33 157.871 1107.09 Q155.44 1107.86 152.663 1109.41 L152.663 1104.68 Q155.487 1103.55 157.94 1102.97 Q160.394 1102.39 162.431 1102.39 Q167.802 1102.39 170.996 1105.08 Q174.19 1107.76 174.19 1112.25 Q174.19 1114.38 173.38 1116.3 Q172.593 1118.2 170.487 1120.8 Q169.908 1121.47 166.806 1124.68 Q163.704 1127.88 158.056 1133.64 Z\" fill=\"#000000\" fill-rule=\"nonzero\" fill-opacity=\"1\" /><path clip-path=\"url(#clip950)\" d=\"M184.19 1131.7 L189.075 1131.7 L189.075 1137.58 L184.19 1137.58 L184.19 1131.7 Z\" fill=\"#000000\" fill-rule=\"nonzero\" fill-opacity=\"1\" /><path clip-path=\"url(#clip950)\" d=\"M209.26 1106.1 Q205.649 1106.1 203.82 1109.66 Q202.014 1113.2 202.014 1120.33 Q202.014 1127.44 203.82 1131 Q205.649 1134.55 209.26 1134.55 Q212.894 1134.55 214.699 1131 Q216.528 1127.44 216.528 1120.33 Q216.528 1113.2 214.699 1109.66 Q212.894 1106.1 209.26 1106.1 M209.26 1102.39 Q215.07 1102.39 218.125 1107 Q221.204 1111.58 221.204 1120.33 Q221.204 1129.06 218.125 1133.67 Q215.07 1138.25 209.26 1138.25 Q203.449 1138.25 200.371 1133.67 Q197.315 1129.06 197.315 1120.33 Q197.315 1111.58 200.371 1107 Q203.449 1102.39 209.26 1102.39 Z\" fill=\"#000000\" fill-rule=\"nonzero\" fill-opacity=\"1\" /><path clip-path=\"url(#clip950)\" d=\"M114.445 822.866 L144.121 822.866 L144.121 826.801 L114.445 826.801 L114.445 822.866 Z\" fill=\"#000000\" fill-rule=\"nonzero\" fill-opacity=\"1\" /><path clip-path=\"url(#clip950)\" d=\"M155.024 835.759 L162.663 835.759 L162.663 809.394 L154.353 811.06 L154.353 806.801 L162.616 805.134 L167.292 805.134 L167.292 835.759 L174.931 835.759 L174.931 839.694 L155.024 839.694 L155.024 835.759 Z\" fill=\"#000000\" fill-rule=\"nonzero\" fill-opacity=\"1\" /><path clip-path=\"url(#clip950)\" d=\"M184.376 833.815 L189.26 833.815 L189.26 839.694 L184.376 839.694 L184.376 833.815 Z\" fill=\"#000000\" fill-rule=\"nonzero\" fill-opacity=\"1\" /><path clip-path=\"url(#clip950)\" d=\"M199.584 838.977 L199.584 834.717 Q201.343 835.551 203.149 835.991 Q204.954 836.43 206.69 836.43 Q211.32 836.43 213.75 833.329 Q216.204 830.204 216.551 823.861 Q215.209 825.852 213.149 826.917 Q211.088 827.981 208.588 827.981 Q203.403 827.981 200.371 824.856 Q197.362 821.708 197.362 816.268 Q197.362 810.944 200.51 807.727 Q203.658 804.509 208.889 804.509 Q214.885 804.509 218.033 809.116 Q221.204 813.699 221.204 822.449 Q221.204 830.62 217.315 835.504 Q213.449 840.366 206.899 840.366 Q205.139 840.366 203.334 840.018 Q201.528 839.671 199.584 838.977 M208.889 824.324 Q212.037 824.324 213.866 822.171 Q215.718 820.018 215.718 816.268 Q215.718 812.542 213.866 810.389 Q212.037 808.213 208.889 808.213 Q205.741 808.213 203.889 810.389 Q202.061 812.542 202.061 816.268 Q202.061 820.018 203.889 822.171 Q205.741 824.324 208.889 824.324 Z\" fill=\"#000000\" fill-rule=\"nonzero\" fill-opacity=\"1\" /><path clip-path=\"url(#clip950)\" d=\"M114.353 524.982 L144.029 524.982 L144.029 528.917 L114.353 528.917 L114.353 524.982 Z\" fill=\"#000000\" fill-rule=\"nonzero\" fill-opacity=\"1\" /><path clip-path=\"url(#clip950)\" d=\"M154.931 537.876 L162.57 537.876 L162.57 511.51 L154.26 513.177 L154.26 508.917 L162.524 507.251 L167.2 507.251 L167.2 537.876 L174.839 537.876 L174.839 541.811 L154.931 541.811 L154.931 537.876 Z\" fill=\"#000000\" fill-rule=\"nonzero\" fill-opacity=\"1\" /><path clip-path=\"url(#clip950)\" d=\"M184.283 535.931 L189.167 535.931 L189.167 541.811 L184.283 541.811 L184.283 535.931 Z\" fill=\"#000000\" fill-rule=\"nonzero\" fill-opacity=\"1\" /><path clip-path=\"url(#clip950)\" d=\"M209.352 525.399 Q206.019 525.399 204.098 527.181 Q202.2 528.964 202.2 532.089 Q202.2 535.214 204.098 536.996 Q206.019 538.778 209.352 538.778 Q212.686 538.778 214.607 536.996 Q216.528 535.19 216.528 532.089 Q216.528 528.964 214.607 527.181 Q212.709 525.399 209.352 525.399 M204.676 523.408 Q201.667 522.667 199.977 520.607 Q198.311 518.547 198.311 515.584 Q198.311 511.44 201.25 509.033 Q204.213 506.626 209.352 506.626 Q214.514 506.626 217.454 509.033 Q220.394 511.44 220.394 515.584 Q220.394 518.547 218.704 520.607 Q217.037 522.667 214.051 523.408 Q217.431 524.195 219.306 526.487 Q221.204 528.778 221.204 532.089 Q221.204 537.112 218.125 539.797 Q215.07 542.482 209.352 542.482 Q203.635 542.482 200.556 539.797 Q197.5 537.112 197.5 532.089 Q197.5 528.778 199.399 526.487 Q201.297 524.195 204.676 523.408 M202.963 516.024 Q202.963 518.709 204.63 520.214 Q206.32 521.718 209.352 521.718 Q212.361 521.718 214.051 520.214 Q215.764 518.709 215.764 516.024 Q215.764 513.339 214.051 511.834 Q212.361 510.329 209.352 510.329 Q206.32 510.329 204.63 511.834 Q202.963 513.339 202.963 516.024 Z\" fill=\"#000000\" fill-rule=\"nonzero\" fill-opacity=\"1\" /><path clip-path=\"url(#clip950)\" d=\"M115.163 227.098 L144.839 227.098 L144.839 231.034 L115.163 231.034 L115.163 227.098 Z\" fill=\"#000000\" fill-rule=\"nonzero\" fill-opacity=\"1\" /><path clip-path=\"url(#clip950)\" d=\"M155.741 239.992 L163.38 239.992 L163.38 213.626 L155.07 215.293 L155.07 211.034 L163.334 209.367 L168.01 209.367 L168.01 239.992 L175.649 239.992 L175.649 243.927 L155.741 243.927 L155.741 239.992 Z\" fill=\"#000000\" fill-rule=\"nonzero\" fill-opacity=\"1\" /><path clip-path=\"url(#clip950)\" d=\"M185.093 238.048 L189.977 238.048 L189.977 243.927 L185.093 243.927 L185.093 238.048 Z\" fill=\"#000000\" fill-rule=\"nonzero\" fill-opacity=\"1\" /><path clip-path=\"url(#clip950)\" d=\"M198.982 209.367 L221.204 209.367 L221.204 211.358 L208.658 243.927 L203.774 243.927 L215.579 213.302 L198.982 213.302 L198.982 209.367 Z\" fill=\"#000000\" fill-rule=\"nonzero\" fill-opacity=\"1\" /><path clip-path=\"url(#clip950)\" d=\"M16.4842 825.525 L16.4842 795.479 L21.895 795.479 L21.895 819.095 L35.9632 819.095 L35.9632 796.465 L41.3741 796.465 L41.3741 819.095 L58.5933 819.095 L58.5933 794.906 L64.0042 794.906 L64.0042 825.525 L16.4842 825.525 Z\" fill=\"#000000\" fill-rule=\"nonzero\" fill-opacity=\"1\" /><path clip-path=\"url(#clip950)\" d=\"M16.4842 774.185 L16.4842 768.775 L70.0516 785.325 L70.0516 790.736 L16.4842 774.185 Z\" fill=\"#000000\" fill-rule=\"nonzero\" fill-opacity=\"1\" /><path clip-path=\"url(#clip950)\" d=\"M20.8447 743.089 Q20.8447 750.091 26.0645 754.229 Q31.2844 758.335 40.2919 758.335 Q49.2675 758.335 54.4874 754.229 Q59.7073 750.091 59.7073 743.089 Q59.7073 736.087 54.4874 732.013 Q49.2675 727.907 40.2919 727.907 Q31.2844 727.907 26.0645 732.013 Q20.8447 736.087 20.8447 743.089 M63.1448 734.081 L72.4069 725.615 L72.4069 733.381 L64.7999 740.415 Q64.8635 741.466 64.8954 742.039 Q64.9272 742.58 64.9272 743.089 Q64.9272 753.115 58.2432 759.13 Q51.5274 765.114 40.2919 765.114 Q29.0246 765.114 22.3406 759.13 Q15.6248 753.115 15.6248 743.089 Q15.6248 733.095 22.3406 727.111 Q29.0246 721.127 40.2919 721.127 Q48.5673 721.127 54.4556 724.469 Q60.3439 727.779 63.1448 734.081 Z\" fill=\"#000000\" fill-rule=\"nonzero\" fill-opacity=\"1\" /><path clip-path=\"url(#clip950)\" d=\"M716.708 12.096 L754.948 12.096 L754.948 18.9825 L724.89 18.9825 L724.89 36.8875 L753.692 36.8875 L753.692 43.7741 L724.89 43.7741 L724.89 65.6895 L755.677 65.6895 L755.677 72.576 L716.708 72.576 L716.708 12.096 Z\" fill=\"#000000\" fill-rule=\"nonzero\" fill-opacity=\"1\" /><path clip-path=\"url(#clip950)\" d=\"M806.516 45.1919 L806.516 72.576 L799.063 72.576 L799.063 45.4349 Q799.063 38.994 796.551 35.7938 Q794.039 32.5936 789.016 32.5936 Q782.98 32.5936 779.497 36.4419 Q776.013 40.2903 776.013 46.9338 L776.013 72.576 L768.519 72.576 L768.519 27.2059 L776.013 27.2059 L776.013 34.2544 Q778.686 30.163 782.292 28.1376 Q785.938 26.1121 790.677 26.1121 Q798.495 26.1121 802.506 30.9732 Q806.516 35.7938 806.516 45.1919 Z\" fill=\"#000000\" fill-rule=\"nonzero\" fill-opacity=\"1\" /><path clip-path=\"url(#clip950)\" d=\"M860.191 48.0275 L860.191 51.6733 L825.92 51.6733 Q826.406 59.3701 830.538 63.421 Q834.71 67.4314 842.124 67.4314 Q846.418 67.4314 850.428 66.3781 Q854.479 65.3249 858.449 63.2184 L858.449 70.267 Q854.438 71.9684 850.225 72.8596 Q846.013 73.7508 841.678 73.7508 Q830.822 73.7508 824.462 67.4314 Q818.142 61.1119 818.142 50.3365 Q818.142 39.1965 824.138 32.6746 Q830.173 26.1121 840.382 26.1121 Q849.537 26.1121 854.843 32.0264 Q860.191 37.9003 860.191 48.0275 M852.737 45.84 Q852.656 39.7232 849.294 36.0774 Q845.972 32.4315 840.463 32.4315 Q834.224 32.4315 830.457 35.9558 Q826.73 39.4801 826.163 45.8805 L852.737 45.84 Z\" fill=\"#000000\" fill-rule=\"nonzero\" fill-opacity=\"1\" /><path clip-path=\"url(#clip950)\" d=\"M898.715 34.1734 Q897.459 33.4443 895.96 33.1202 Q894.502 32.7556 892.719 32.7556 Q886.4 32.7556 882.997 36.8875 Q879.635 40.9789 879.635 48.6757 L879.635 72.576 L872.141 72.576 L872.141 27.2059 L879.635 27.2059 L879.635 34.2544 Q881.985 30.1225 885.752 28.1376 Q889.519 26.1121 894.907 26.1121 Q895.677 26.1121 896.608 26.2337 Q897.54 26.3147 898.674 26.5172 L898.715 34.1734 Z\" fill=\"#000000\" fill-rule=\"nonzero\" fill-opacity=\"1\" /><path clip-path=\"url(#clip950)\" d=\"M934.93 49.3643 Q934.93 41.2625 931.568 36.8065 Q928.246 32.3505 922.21 32.3505 Q916.215 32.3505 912.852 36.8065 Q909.531 41.2625 909.531 49.3643 Q909.531 57.4256 912.852 61.8816 Q916.215 66.3376 922.21 66.3376 Q928.246 66.3376 931.568 61.8816 Q934.93 57.4256 934.93 49.3643 M942.384 66.9452 Q942.384 78.5308 937.239 84.1616 Q932.094 89.8329 921.481 89.8329 Q917.551 89.8329 914.068 89.2252 Q910.584 88.6581 907.303 87.4428 L907.303 80.1917 Q910.584 81.9741 913.784 82.8248 Q916.984 83.6755 920.306 83.6755 Q927.638 83.6755 931.284 79.8271 Q934.93 76.0193 934.93 68.282 L934.93 64.5957 Q932.621 68.6061 929.016 70.5911 Q925.41 72.576 920.387 72.576 Q912.042 72.576 906.938 66.2161 Q901.834 59.8562 901.834 49.3643 Q901.834 38.832 906.938 32.472 Q912.042 26.1121 920.387 26.1121 Q925.41 26.1121 929.016 28.0971 Q932.621 30.082 934.93 34.0924 L934.93 27.2059 L942.384 27.2059 L942.384 66.9452 Z\" fill=\"#000000\" fill-rule=\"nonzero\" fill-opacity=\"1\" /><path clip-path=\"url(#clip950)\" d=\"M976.614 76.7889 Q973.454 84.8907 970.456 87.3618 Q967.459 89.8329 962.436 89.8329 L956.481 89.8329 L956.481 83.5945 L960.856 83.5945 Q963.934 83.5945 965.636 82.1361 Q967.337 80.6778 969.403 75.2496 L970.74 71.8468 L952.389 27.2059 L960.289 27.2059 L974.467 62.6918 L988.645 27.2059 L996.544 27.2059 L976.614 76.7889 Z\" fill=\"#000000\" fill-rule=\"nonzero\" fill-opacity=\"1\" /><path clip-path=\"url(#clip950)\" d=\"M1050.79 32.4315 Q1044.79 32.4315 1041.31 37.1306 Q1037.82 41.7891 1037.82 49.9314 Q1037.82 58.0738 1041.27 62.7728 Q1044.75 67.4314 1050.79 67.4314 Q1056.74 67.4314 1060.22 62.7323 Q1063.71 58.0333 1063.71 49.9314 Q1063.71 41.8701 1060.22 37.1711 Q1056.74 32.4315 1050.79 32.4315 M1050.79 26.1121 Q1060.51 26.1121 1066.06 32.4315 Q1071.61 38.7509 1071.61 49.9314 Q1071.61 61.0714 1066.06 67.4314 Q1060.51 73.7508 1050.79 73.7508 Q1041.02 73.7508 1035.47 67.4314 Q1029.96 61.0714 1029.96 49.9314 Q1029.96 38.7509 1035.47 32.4315 Q1041.02 26.1121 1050.79 26.1121 Z\" fill=\"#000000\" fill-rule=\"nonzero\" fill-opacity=\"1\" /><path clip-path=\"url(#clip950)\" d=\"M1091.17 65.7705 L1091.17 89.8329 L1083.68 89.8329 L1083.68 27.2059 L1091.17 27.2059 L1091.17 34.0924 Q1093.52 30.0415 1097.09 28.0971 Q1100.69 26.1121 1105.68 26.1121 Q1113.94 26.1121 1119.08 32.6746 Q1124.27 39.2371 1124.27 49.9314 Q1124.27 60.6258 1119.08 67.1883 Q1113.94 73.7508 1105.68 73.7508 Q1100.69 73.7508 1097.09 71.8063 Q1093.52 69.8214 1091.17 65.7705 M1116.53 49.9314 Q1116.53 41.7081 1113.13 37.0496 Q1109.77 32.3505 1103.85 32.3505 Q1097.94 32.3505 1094.54 37.0496 Q1091.17 41.7081 1091.17 49.9314 Q1091.17 58.1548 1094.54 62.8538 Q1097.94 67.5124 1103.85 67.5124 Q1109.77 67.5124 1113.13 62.8538 Q1116.53 58.1548 1116.53 49.9314 Z\" fill=\"#000000\" fill-rule=\"nonzero\" fill-opacity=\"1\" /><path clip-path=\"url(#clip950)\" d=\"M1144 14.324 L1144 27.2059 L1159.35 27.2059 L1159.35 32.9987 L1144 32.9987 L1144 57.6282 Q1144 63.1779 1145.5 64.7578 Q1147.04 66.3376 1151.69 66.3376 L1159.35 66.3376 L1159.35 72.576 L1151.69 72.576 Q1143.07 72.576 1139.78 69.3758 Q1136.5 66.1351 1136.5 57.6282 L1136.5 32.9987 L1131.03 32.9987 L1131.03 27.2059 L1136.5 27.2059 L1136.5 14.324 L1144 14.324 Z\" fill=\"#000000\" fill-rule=\"nonzero\" fill-opacity=\"1\" /><path clip-path=\"url(#clip950)\" d=\"M1169.15 27.2059 L1176.61 27.2059 L1176.61 72.576 L1169.15 72.576 L1169.15 27.2059 M1169.15 9.54393 L1176.61 9.54393 L1176.61 18.9825 L1169.15 18.9825 L1169.15 9.54393 Z\" fill=\"#000000\" fill-rule=\"nonzero\" fill-opacity=\"1\" /><path clip-path=\"url(#clip950)\" d=\"M1227.53 35.9153 Q1230.32 30.8922 1234.21 28.5022 Q1238.1 26.1121 1243.37 26.1121 Q1250.45 26.1121 1254.3 31.0947 Q1258.15 36.0368 1258.15 45.1919 L1258.15 72.576 L1250.66 72.576 L1250.66 45.4349 Q1250.66 38.913 1248.35 35.7533 Q1246.04 32.5936 1241.3 32.5936 Q1235.51 32.5936 1232.14 36.4419 Q1228.78 40.2903 1228.78 46.9338 L1228.78 72.576 L1221.29 72.576 L1221.29 45.4349 Q1221.29 38.8725 1218.98 35.7533 Q1216.67 32.5936 1211.85 32.5936 Q1206.14 32.5936 1202.78 36.4824 Q1199.41 40.3308 1199.41 46.9338 L1199.41 72.576 L1191.92 72.576 L1191.92 27.2059 L1199.41 27.2059 L1199.41 34.2544 Q1201.97 30.082 1205.53 28.0971 Q1209.1 26.1121 1214 26.1121 Q1218.94 26.1121 1222.38 28.6237 Q1225.87 31.1352 1227.53 35.9153 Z\" fill=\"#000000\" fill-rule=\"nonzero\" fill-opacity=\"1\" /><path clip-path=\"url(#clip950)\" d=\"M1273.02 27.2059 L1280.47 27.2059 L1280.47 72.576 L1273.02 72.576 L1273.02 27.2059 M1273.02 9.54393 L1280.47 9.54393 L1280.47 18.9825 L1273.02 18.9825 L1273.02 9.54393 Z\" fill=\"#000000\" fill-rule=\"nonzero\" fill-opacity=\"1\" /><path clip-path=\"url(#clip950)\" d=\"M1324.99 28.5427 L1324.99 35.5912 Q1321.83 33.9709 1318.43 33.1607 Q1315.03 32.3505 1311.38 32.3505 Q1305.83 32.3505 1303.04 34.0519 Q1300.28 35.7533 1300.28 39.156 Q1300.28 41.7486 1302.27 43.2475 Q1304.25 44.7058 1310.25 46.0426 L1312.8 46.6097 Q1320.74 48.3111 1324.06 51.4303 Q1327.42 54.509 1327.42 60.0587 Q1327.42 66.3781 1322.4 70.0644 Q1317.42 73.7508 1308.67 73.7508 Q1305.02 73.7508 1301.05 73.0216 Q1297.12 72.3329 1292.75 70.9151 L1292.75 63.2184 Q1296.88 65.3654 1300.89 66.4591 Q1304.9 67.5124 1308.83 67.5124 Q1314.09 67.5124 1316.93 65.73 Q1319.77 63.9071 1319.77 60.6258 Q1319.77 57.5877 1317.7 55.9673 Q1315.67 54.3469 1308.75 52.8481 L1306.15 52.2405 Q1299.23 50.7821 1296.15 47.7845 Q1293.07 44.7463 1293.07 39.4801 Q1293.07 33.0797 1297.61 29.5959 Q1302.14 26.1121 1310.49 26.1121 Q1314.62 26.1121 1318.27 26.7198 Q1321.91 27.3274 1324.99 28.5427 Z\" fill=\"#000000\" fill-rule=\"nonzero\" fill-opacity=\"1\" /><path clip-path=\"url(#clip950)\" d=\"M1359.91 49.7694 Q1350.88 49.7694 1347.39 51.8354 Q1343.91 53.9013 1343.91 58.8839 Q1343.91 62.8538 1346.5 65.2034 Q1349.13 67.5124 1353.63 67.5124 Q1359.83 67.5124 1363.56 63.1374 Q1367.32 58.7219 1367.32 51.4303 L1367.32 49.7694 L1359.91 49.7694 M1374.78 46.6907 L1374.78 72.576 L1367.32 72.576 L1367.32 65.6895 Q1364.77 69.8214 1360.96 71.8063 Q1357.16 73.7508 1351.65 73.7508 Q1344.68 73.7508 1340.55 69.8619 Q1336.46 65.9325 1336.46 59.3701 Q1336.46 51.7138 1341.56 47.825 Q1346.7 43.9361 1356.87 43.9361 L1367.32 43.9361 L1367.32 43.2069 Q1367.32 38.0623 1363.92 35.2672 Q1360.56 32.4315 1354.44 32.4315 Q1350.55 32.4315 1346.87 33.3632 Q1343.18 34.295 1339.78 36.1584 L1339.78 29.2718 Q1343.87 27.692 1347.72 26.9223 Q1351.57 26.1121 1355.21 26.1121 Q1365.05 26.1121 1369.92 31.2163 Q1374.78 36.3204 1374.78 46.6907 Z\" fill=\"#000000\" fill-rule=\"nonzero\" fill-opacity=\"1\" /><path clip-path=\"url(#clip950)\" d=\"M1397.5 14.324 L1397.5 27.2059 L1412.86 27.2059 L1412.86 32.9987 L1397.5 32.9987 L1397.5 57.6282 Q1397.5 63.1779 1399 64.7578 Q1400.54 66.3376 1405.2 66.3376 L1412.86 66.3376 L1412.86 72.576 L1405.2 72.576 Q1396.57 72.576 1393.29 69.3758 Q1390.01 66.1351 1390.01 57.6282 L1390.01 32.9987 L1384.54 32.9987 L1384.54 27.2059 L1390.01 27.2059 L1390.01 14.324 L1397.5 14.324 Z\" fill=\"#000000\" fill-rule=\"nonzero\" fill-opacity=\"1\" /><path clip-path=\"url(#clip950)\" d=\"M1422.66 27.2059 L1430.11 27.2059 L1430.11 72.576 L1422.66 72.576 L1422.66 27.2059 M1422.66 9.54393 L1430.11 9.54393 L1430.11 18.9825 L1422.66 18.9825 L1422.66 9.54393 Z\" fill=\"#000000\" fill-rule=\"nonzero\" fill-opacity=\"1\" /><path clip-path=\"url(#clip950)\" d=\"M1463.29 32.4315 Q1457.29 32.4315 1453.81 37.1306 Q1450.33 41.7891 1450.33 49.9314 Q1450.33 58.0738 1453.77 62.7728 Q1457.25 67.4314 1463.29 67.4314 Q1469.24 67.4314 1472.73 62.7323 Q1476.21 58.0333 1476.21 49.9314 Q1476.21 41.8701 1472.73 37.1711 Q1469.24 32.4315 1463.29 32.4315 M1463.29 26.1121 Q1473.01 26.1121 1478.56 32.4315 Q1484.11 38.7509 1484.11 49.9314 Q1484.11 61.0714 1478.56 67.4314 Q1473.01 73.7508 1463.29 73.7508 Q1453.53 73.7508 1447.98 67.4314 Q1442.47 61.0714 1442.47 49.9314 Q1442.47 38.7509 1447.98 32.4315 Q1453.53 26.1121 1463.29 26.1121 Z\" fill=\"#000000\" fill-rule=\"nonzero\" fill-opacity=\"1\" /><path clip-path=\"url(#clip950)\" d=\"M1534.18 45.1919 L1534.18 72.576 L1526.73 72.576 L1526.73 45.4349 Q1526.73 38.994 1524.21 35.7938 Q1521.7 32.5936 1516.68 32.5936 Q1510.64 32.5936 1507.16 36.4419 Q1503.68 40.2903 1503.68 46.9338 L1503.68 72.576 L1496.18 72.576 L1496.18 27.2059 L1503.68 27.2059 L1503.68 34.2544 Q1506.35 30.163 1509.96 28.1376 Q1513.6 26.1121 1518.34 26.1121 Q1526.16 26.1121 1530.17 30.9732 Q1534.18 35.7938 1534.18 45.1919 Z\" fill=\"#000000\" fill-rule=\"nonzero\" fill-opacity=\"1\" /><path clip-path=\"url(#clip950)\" d=\"M1571.08 27.2059 L1578.54 27.2059 L1587.85 62.6108 L1597.13 27.2059 L1605.92 27.2059 L1615.24 62.6108 L1624.52 27.2059 L1631.97 27.2059 L1620.1 72.576 L1611.31 72.576 L1601.55 35.3887 L1591.74 72.576 L1582.95 72.576 L1571.08 27.2059 Z\" fill=\"#000000\" fill-rule=\"nonzero\" fill-opacity=\"1\" /><path clip-path=\"url(#clip950)\" d=\"M1643.27 27.2059 L1650.72 27.2059 L1650.72 72.576 L1643.27 72.576 L1643.27 27.2059 M1643.27 9.54393 L1650.72 9.54393 L1650.72 18.9825 L1643.27 18.9825 L1643.27 9.54393 Z\" fill=\"#000000\" fill-rule=\"nonzero\" fill-opacity=\"1\" /><path clip-path=\"url(#clip950)\" d=\"M1673.69 14.324 L1673.69 27.2059 L1689.05 27.2059 L1689.05 32.9987 L1673.69 32.9987 L1673.69 57.6282 Q1673.69 63.1779 1675.19 64.7578 Q1676.73 66.3376 1681.39 66.3376 L1689.05 66.3376 L1689.05 72.576 L1681.39 72.576 Q1672.76 72.576 1669.48 69.3758 Q1666.2 66.1351 1666.2 57.6282 L1666.2 32.9987 L1660.73 32.9987 L1660.73 27.2059 L1666.2 27.2059 L1666.2 14.324 L1673.69 14.324 Z\" fill=\"#000000\" fill-rule=\"nonzero\" fill-opacity=\"1\" /><path clip-path=\"url(#clip950)\" d=\"M1736.56 45.1919 L1736.56 72.576 L1729.11 72.576 L1729.11 45.4349 Q1729.11 38.994 1726.6 35.7938 Q1724.09 32.5936 1719.06 32.5936 Q1713.03 32.5936 1709.54 36.4419 Q1706.06 40.2903 1706.06 46.9338 L1706.06 72.576 L1698.57 72.576 L1698.57 9.54393 L1706.06 9.54393 L1706.06 34.2544 Q1708.73 30.163 1712.34 28.1376 Q1715.98 26.1121 1720.72 26.1121 Q1728.54 26.1121 1732.55 30.9732 Q1736.56 35.7938 1736.56 45.1919 Z\" fill=\"#000000\" fill-rule=\"nonzero\" fill-opacity=\"1\" /><path clip-path=\"url(#clip950)\" d=\"M1819.36 63.9476 L1819.36 47.7034 L1806 47.7034 L1806 40.9789 L1827.47 40.9789 L1827.47 66.9452 Q1822.73 70.3075 1817.01 72.0494 Q1811.3 73.7508 1804.82 73.7508 Q1790.64 73.7508 1782.62 65.4869 Q1774.64 57.1826 1774.64 42.3968 Q1774.64 27.5705 1782.62 19.3066 Q1790.64 11.0023 1804.82 11.0023 Q1810.74 11.0023 1816.04 12.4606 Q1821.39 13.9189 1825.89 16.7545 L1825.89 25.464 Q1821.35 21.6156 1816.24 19.6712 Q1811.14 17.7268 1805.51 17.7268 Q1794.41 17.7268 1788.82 23.9246 Q1783.27 30.1225 1783.27 42.3968 Q1783.27 54.6305 1788.82 60.8284 Q1794.41 67.0263 1805.51 67.0263 Q1809.84 67.0263 1813.25 66.2971 Q1816.65 65.5274 1819.36 63.9476 Z\" fill=\"#000000\" fill-rule=\"nonzero\" fill-opacity=\"1\" /><path clip-path=\"url(#clip950)\" d=\"M1850.6 18.8205 L1850.6 65.8515 L1860.48 65.8515 Q1873 65.8515 1878.79 60.1802 Q1884.62 54.509 1884.62 42.2752 Q1884.62 30.1225 1878.79 24.4918 Q1873 18.8205 1860.48 18.8205 L1850.6 18.8205 M1842.41 12.096 L1859.22 12.096 Q1876.81 12.096 1885.03 19.4281 Q1893.25 26.7198 1893.25 42.2752 Q1893.25 57.9117 1884.99 65.2439 Q1876.72 72.576 1859.22 72.576 L1842.41 72.576 L1842.41 12.096 Z\" fill=\"#000000\" fill-rule=\"nonzero\" fill-opacity=\"1\" /><polyline clip-path=\"url(#clip952)\" style=\"stroke:#009af9; stroke-linecap:round; stroke-linejoin:round; stroke-width:4; stroke-opacity:1; fill:none\" points=\"316.512,160.256 336.481,858.037 356.45,1081.52 376.419,1184.77 396.388,1246.07 416.357,1285.7 436.326,1312.52 456.295,1331.28 476.264,1344.73 496.234,1354.57 516.203,1361.87 536.172,1367.36 556.141,1371.53 576.11,1374.73 596.079,1377.19 616.048,1379.1 636.017,1380.59 655.986,1381.75 675.955,1382.67 695.924,1383.39 715.893,1383.96 735.862,1384.41 755.831,1384.78 775.8,1385.06 795.769,1385.3 815.738,1385.48 835.707,1385.63 855.676,1385.75 875.645,1385.85 895.614,1385.93 915.584,1386 935.553,1386.05 955.522,1386.1 975.491,1386.13 995.46,1386.16 1015.43,1386.19 1035.4,1386.21 1055.37,1386.23 1075.34,1386.24 1095.3,1386.26 1115.27,1386.27 1135.24,1386.28 1155.21,1386.29 1175.18,1386.29 1195.15,1386.3 1215.12,1386.31 1235.09,1386.31 1255.06,1386.32 1275.03,1386.32 1295,1386.32 1314.96,1386.33 1334.93,1386.33 1354.9,1386.33 1374.87,1386.34 1394.84,1386.34 1414.81,1386.34 1434.78,1386.34 1454.75,1386.34 1474.72,1386.35 1494.69,1386.35 1514.65,1386.35 1534.62,1386.35 1554.59,1386.35 1574.56,1386.35 1594.53,1386.36 1614.5,1386.36 1634.47,1386.36 1654.44,1386.36 1674.41,1386.36 1694.38,1386.36 1714.35,1386.36 1734.31,1386.36 1754.28,1386.37 1774.25,1386.37 1794.22,1386.37 1814.19,1386.37 1834.16,1386.37 1854.13,1386.37 1874.1,1386.37 1894.07,1386.37 1914.04,1386.38 1934,1386.38 1953.97,1386.38 1973.94,1386.38 1993.91,1386.38 2013.88,1386.38 2033.85,1386.38 2053.82,1386.38 2073.79,1386.38 2093.76,1386.38 2113.73,1386.39 2133.7,1386.39 2153.66,1386.39 2173.63,1386.39 2193.6,1386.39 2213.57,1386.39 2233.54,1386.39 2253.51,1386.39 2273.48,1386.39 2293.45,1386.4 \"/>\n",
       "<path clip-path=\"url(#clip950)\" d=\"M2020.92 270.476 L2282.9 270.476 L2282.9 166.796 L2020.92 166.796  Z\" fill=\"#ffffff\" fill-rule=\"evenodd\" fill-opacity=\"1\"/>\n",
       "<polyline clip-path=\"url(#clip950)\" style=\"stroke:#000000; stroke-linecap:round; stroke-linejoin:round; stroke-width:4; stroke-opacity:1; fill:none\" points=\"2020.92,270.476 2282.9,270.476 2282.9,166.796 2020.92,166.796 2020.92,270.476 \"/>\n",
       "<polyline clip-path=\"url(#clip950)\" style=\"stroke:#009af9; stroke-linecap:round; stroke-linejoin:round; stroke-width:4; stroke-opacity:1; fill:none\" points=\"2044.2,218.636 2183.91,218.636 \"/>\n",
       "<path clip-path=\"url(#clip950)\" d=\"M2221.03 238.323 Q2219.23 242.953 2217.51 244.365 Q2215.8 245.777 2212.93 245.777 L2209.53 245.777 L2209.53 242.212 L2212.03 242.212 Q2213.79 242.212 2214.76 241.379 Q2215.73 240.545 2216.91 237.443 L2217.68 235.499 L2207.19 209.99 L2211.7 209.99 L2219.81 230.268 L2227.91 209.99 L2232.42 209.99 L2221.03 238.323 Z\" fill=\"#000000\" fill-rule=\"nonzero\" fill-opacity=\"1\" /><path clip-path=\"url(#clip950)\" d=\"M2239.71 231.981 L2247.35 231.981 L2247.35 205.615 L2239.04 207.282 L2239.04 203.022 L2247.31 201.356 L2251.98 201.356 L2251.98 231.981 L2259.62 231.981 L2259.62 235.916 L2239.71 235.916 L2239.71 231.981 Z\" fill=\"#000000\" fill-rule=\"nonzero\" fill-opacity=\"1\" /></svg>\n"
      ]
     },
     "metadata": {},
     "output_type": "display_data"
    }
   ],
   "source": [
    "function gd(thetas_init, repartition, eta=0.1)\n",
    "    # some inputs and work buffer to play around with\n",
    "    grad_array_compiled = similar(thetas_init);\n",
    "    \n",
    "    # pre-record a GradientTape for `gradsimulation` using inputs of length m with Float64 elements\n",
    "    \n",
    "    simulation_tape = GradientTape(lossfunction, thetas_init)\n",
    "    compiled_simulation_tape = compile(simulation_tape)\n",
    "\n",
    "    opt_energy_gd = []\n",
    "    thetas = thetas_init\n",
    "    for i in 1:100 # steps\n",
    "        gradient!(grad_array_compiled, simulation_tape, thetas)\n",
    "        thetas .-= eta * grad_array_compiled\n",
    "        constrain_params(thetas, repartition)\n",
    "        opt_energy_gd = push!(opt_energy_gd, lossfunction(thetas)/nq)\n",
    "    end\n",
    "\n",
    "    return thetas, opt_energy_gd\n",
    "end"
   ]
  },
  {
   "cell_type": "code",
   "execution_count": null,
   "metadata": {},
   "outputs": [],
   "source": [
    "# gradient descent\n",
    "# eta = 0.1\n",
    "# opt_energy_gd = []\n",
    "# thetas = thetas_init\n",
    "# for i in 1:100 # steps\n",
    "#     gradient!(grad_array_compiled, simulation_tape, thetas)\n",
    "#     thetas .-= eta * grad_array_compiled\n",
    "#     constrain_params(thetas, [[1,2, 3], [4, 5, 6, 7], [8, 9, 10], [11, 12, 13, 14]])\n",
    "#     opt_energy_gd = push!(opt_energy_gd, lossfunction(thetas)/nq)\n",
    "# end\n",
    "#println(thetas) #Why do the first few stay the same, while the end is strongly modified? Is this sth systematic?\n",
    "thetas, opt_energy_gd = gd(thetas_init, [[1,2, 3], [4, 5, 6, 7], [8, 9, 10], [11, 12, 13, 14]])\n",
    "println(lossfunction(thetas)/nq)\n",
    "plot(opt_energy_gd)\n",
    "\n",
    "plot!(title = \"Energy optimisation with GD\", xlabel = \"runs of GD\", ylabel = \"E/Q\")"
   ]
  },
  {
   "cell_type": "code",
   "execution_count": 12,
   "metadata": {},
   "outputs": [],
   "source": [
    " #ADAM (this is suboptimal because we recalculate the gradients)\n",
    "# thetas = thetas_init\n",
    "# opt_energy_adam = []\n",
    "\n",
    "# opt_result = Optim.optimize(lossfunction, thetas, Adam(), Optim.Options(iterations=1000))\n",
    "# thetas .= Optim.minimizer(opt_result)\n",
    "\n",
    "# #println(thetas)  # Check the final optimized parameters\n",
    "# println(lossfunction(thetas)/nq)  # Check the final optimized energy (similar to GD)"
   ]
  },
  {
   "cell_type": "markdown",
   "metadata": {},
   "source": [
    "### Comments so far:\n",
    "\n",
    "- We have (2Q-1) non-Cliffords in the circuit so for Q=16 qubits, we have N=31 non-Cliffords already (this is quite high for a cl. simulation, state of the art is N<80 and Piotr used MPS with up to N=35)\n",
    "- When we initialise the parameters, they are fixed to have the same values in every RZZ and RZ layer, but later this changes during optimization. How can we keep this constraint during the optimization? (We need the constraint so it could be implementable as a \"real\" circuit, right?)\n",
    "- We get the warning `WARNING: redefinition of constant Main.simulation_tape.`, should we keep doing this like in the example notebooks?"
   ]
  },
  {
   "cell_type": "markdown",
   "metadata": {},
   "source": [
    "## Generating the set of test states - Isolated functions\n",
    "- generate a set of classically efficiently simulable states $S_{\\psi} =\\{|\\phi_i>\\}$\n",
    "- the initial state `initialize_mcmc_circuit()` is chosen by finding a near-Clifford circuit wrt the target circuit `tfimqaoacircuit()`\n",
    "- update steps: randomly pick $n_p$ pairs of the circuits RZ rotations (RZZ are also just RZ rotations with CNOT before and after)\n",
    "- in each pair keep one gate as non-Clifford and replace the other by $S^n$, where $S$ is the $\\pi/2$ rotation gate, take an integer power $n$ (which we choose by sampling according to eq. 14)\n",
    "- this \"pair mechanism\" makes sure we don't replace too many gates with Clifford gates, which would lead to a larger distance from the target state $\\ket{\\psi}$."
   ]
  },
  {
   "cell_type": "markdown",
   "metadata": {},
   "source": [
    "### Initial circuit for MCMC with less non-Clifford gates "
   ]
  },
  {
   "cell_type": "code",
   "execution_count": 13,
   "metadata": {},
   "outputs": [
    {
     "data": {
      "text/plain": [
       "initialize_mcmc_circuit (generic function with 1 method)"
      ]
     },
     "metadata": {},
     "output_type": "display_data"
    }
   ],
   "source": [
    "function initialize_mcmc_circuit(circuit, nqubits::Integer, nlayers::Integer)\n",
    "    # Choose nq*nl/2 random Pauli rotations to replace with Clifford R_Z(k_p π/2) gates.\n",
    "    # The replacements are random for the whole circuit and don't repeat for each layer.\n",
    "\n",
    "    # Get indices of Pauli rotations\n",
    "    z_rot_indices = [i for i in eachindex(circuit) if isa(circuit[i], PauliRotation)]\n",
    "\n",
    "    num_to_replace = div(nqubits * nlayers, 2)\n",
    "    Random.shuffle!(z_rot_indices)\n",
    "    indices_replaced = z_rot_indices[1:num_to_replace]\n",
    "    #println(\"Indices to replace: \", indices_to_replace)\n",
    "\n",
    "    # Extract qubit indices for gates to be replaced\n",
    "    qubits = [circuit[i].qinds for i in indices_replaced]\n",
    "    #println(\"Qubits involved: \", qubits)\n",
    "\n",
    "    # Create a modified circuit\n",
    "    new_circuit = copy(circuit)\n",
    "\n",
    "    # Replace selected R_Z rotations with Clifford R_Z(k_p π/2)\n",
    "    for (j, i) in enumerate(indices_replaced)\n",
    "        k_p = rand(0:3)  ### Randomly select k_p from {0,1,2,3} ( NO CLEAR INDICATION in the paper)\n",
    "        if length(qubits[j]) == 1\n",
    "            new_circuit[i] = PauliRotation(:Z, qubits[j], k_p * π/2)  # Replace with Clifford rotation\n",
    "        else\n",
    "            new_circuit[i] = PauliRotation([:Z, :Z], qubits[j], k_p * π/2)  # Replace with Clifford rotation\n",
    "        end\n",
    "    end\n",
    "\n",
    "    return new_circuit, indices_replaced\n",
    "end"
   ]
  },
  {
   "cell_type": "code",
   "execution_count": 14,
   "metadata": {},
   "outputs": [
    {
     "data": {
      "text/plain": [
       "4-element Vector{Int64}:\n",
       " 39\n",
       " 26\n",
       " 44\n",
       "  3"
      ]
     },
     "metadata": {},
     "output_type": "display_data"
    }
   ],
   "source": [
    "init_circuit, indices_replaced = initialize_mcmc_circuit(circuit, nq, nl) #check\n",
    "init_circuit\n",
    "indices_replaced\n",
    "current_cicuit = deepcopy(init_circuit)\n",
    "current_replaced_indices = deepcopy(indices_replaced)   "
   ]
  },
  {
   "cell_type": "code",
   "execution_count": 15,
   "metadata": {},
   "outputs": [
    {
     "name": "stdout",
     "output_type": "stream",
     "text": [
      "Gate[PauliRotation([:Z, :Z], [1, 2]), PauliRotation([:Z, :Z], [3, 4]), PauliRotation([:Z, :Z], [2, 3]), CliffordGate(:S, [1]), FrozenGate(PauliRotation([:X], [1]), parameter = 1.57), PauliRotation([:Z], [1]), FrozenGate(PauliRotation([:X], [1]), parameter = 1.57), CliffordGate(:S, [1]), CliffordGate(:S, [2]), FrozenGate(PauliRotation([:X], [2]), parameter = 1.57), PauliRotation([:Z], [2]), FrozenGate(PauliRotation([:X], [2]), parameter = 1.57), CliffordGate(:S, [2]), CliffordGate(:S, [3]), FrozenGate(PauliRotation([:X], [3]), parameter = 1.57), PauliRotation([:Z], [3]), FrozenGate(PauliRotation([:X], [3]), parameter = 1.57), CliffordGate(:S, [3]), CliffordGate(:S, [4]), FrozenGate(PauliRotation([:X], [4]), parameter = 1.57), PauliRotation([:Z], [4]), FrozenGate(PauliRotation([:X], [4]), parameter = 1.57), CliffordGate(:S, [4]), PauliRotation([:Z, :Z], [1, 2]), PauliRotation([:Z, :Z], [3, 4]), PauliRotation([:Z, :Z], [2, 3]), CliffordGate(:S, [1]), FrozenGate(PauliRotation([:X], [1]), parameter = 1.57), PauliRotation([:Z], [1]), FrozenGate(PauliRotation([:X], [1]), parameter = 1.57), CliffordGate(:S, [1]), CliffordGate(:S, [2]), FrozenGate(PauliRotation([:X], [2]), parameter = 1.57), PauliRotation([:Z], [2]), FrozenGate(PauliRotation([:X], [2]), parameter = 1.57), CliffordGate(:S, [2]), CliffordGate(:S, [3]), FrozenGate(PauliRotation([:X], [3]), parameter = 1.57), PauliRotation([:Z], [3]), FrozenGate(PauliRotation([:X], [3]), parameter = 1.57), CliffordGate(:S, [3]), CliffordGate(:S, [4]), FrozenGate(PauliRotation([:X], [4]), parameter = 1.57), PauliRotation([:Z], [4]), FrozenGate(PauliRotation([:X], [4]), parameter = 1.57), CliffordGate(:S, [4])]\n",
      "Gate[PauliRotation([:Z, :Z], [1, 2]), PauliRotation([:Z, :Z], [3, 4]), FrozenGate(PauliRotation([:Z, :Z], [2, 3]), parameter = 4.71), CliffordGate(:S, [1]), FrozenGate(PauliRotation([:X], [1]), parameter = 1.57), PauliRotation([:Z], [1]), FrozenGate(PauliRotation([:X], [1]), parameter = 1.57), CliffordGate(:S, [1]), CliffordGate(:S, [2]), FrozenGate(PauliRotation([:X], [2]), parameter = 1.57), PauliRotation([:Z], [2]), FrozenGate(PauliRotation([:X], [2]), parameter = 1.57), CliffordGate(:S, [2]), CliffordGate(:S, [3]), FrozenGate(PauliRotation([:X], [3]), parameter = 1.57), PauliRotation([:Z], [3]), FrozenGate(PauliRotation([:X], [3]), parameter = 1.57), CliffordGate(:S, [3]), CliffordGate(:S, [4]), FrozenGate(PauliRotation([:X], [4]), parameter = 1.57), PauliRotation([:Z], [4]), FrozenGate(PauliRotation([:X], [4]), parameter = 1.57), CliffordGate(:S, [4]), PauliRotation([:Z, :Z], [1, 2]), PauliRotation([:Z, :Z], [3, 4]), FrozenGate(PauliRotation([:Z, :Z], [2, 3]), parameter = 0.0), CliffordGate(:S, [1]), FrozenGate(PauliRotation([:X], [1]), parameter = 1.57), PauliRotation([:Z], [1]), FrozenGate(PauliRotation([:X], [1]), parameter = 1.57), CliffordGate(:S, [1]), CliffordGate(:S, [2]), FrozenGate(PauliRotation([:X], [2]), parameter = 1.57), PauliRotation([:Z], [2]), FrozenGate(PauliRotation([:X], [2]), parameter = 1.57), CliffordGate(:S, [2]), CliffordGate(:S, [3]), FrozenGate(PauliRotation([:X], [3]), parameter = 1.57), FrozenGate(PauliRotation([:Z], [3]), parameter = 3.14), FrozenGate(PauliRotation([:X], [3]), parameter = 1.57), CliffordGate(:S, [3]), CliffordGate(:S, [4]), FrozenGate(PauliRotation([:X], [4]), parameter = 1.57), FrozenGate(PauliRotation([:Z], [4]), parameter = 1.57), FrozenGate(PauliRotation([:X], [4]), parameter = 1.57), CliffordGate(:S, [4])]\n"
     ]
    }
   ],
   "source": [
    "#test the init function:\n",
    "println(circuit)\n",
    "println(init_circuit)   "
   ]
  },
  {
   "cell_type": "markdown",
   "metadata": {},
   "source": [
    "### Proposal function with random sampling (TO BE REPLACED with eq 14)"
   ]
  },
  {
   "cell_type": "code",
   "execution_count": 16,
   "metadata": {},
   "outputs": [
    {
     "data": {
      "text/plain": [
       "proposal_random_tfimqaoacircuit (generic function with 2 methods)"
      ]
     },
     "metadata": {},
     "output_type": "display_data"
    }
   ],
   "source": [
    "# Define the function to apply circuit updates\n",
    "function proposal_random_tfimqaoacircuit(target_circuit::Vector{Gate},current_circuit::Vector{Gate},current_replaced_indices::Vector{Int},np::Integer=2)    \n",
    "    # Identify all Pauli Z rotations in the circuit (includes RZZ) (Pauli Z are only the non-Cifford's here)\n",
    "    proposal_circuit = deepcopy(current_circuit)\n",
    "    z_rot_indices = [i for i in eachindex(proposal_circuit) if isa(proposal_circuit[i], PauliRotation)]\n",
    "\n",
    "    println(\"Z rotation indices (Non-Cliffords): \", z_rot_indices)\n",
    "    println(\"Indices replaced (Frozen Z rotations (Cliffords)): \", current_replaced_indices)  \n",
    "    # Ensure we have enough pairs\n",
    "    if length(current_replaced_indices) < np\n",
    "        error(\"Not enough frozen Pauli rotations in the initialized MCMC circuit to select the value of pairs.\")\n",
    "    end\n",
    "\n",
    "    # Shuffle and select n_p pairs\n",
    "    Random.shuffle!(z_rot_indices)\n",
    "    Random.shuffle!(current_replaced_indices)\n",
    "    selected_pairs = [(z_rot_indices[i], current_replaced_indices[i]) for i in 1:np] #\n",
    "    \n",
    "    println(\"Selected pairs of Cliff. and non-Clifford: \", selected_pairs) \n",
    "    #println(\"Circuit before replacement: \", proposal_circuit)\n",
    "\n",
    "    #choose left element of each pair and replace with Clifford gate S^n,sample n\n",
    "    for (i, j) in selected_pairs\n",
    "        qubits = proposal_circuit[i].qinds\n",
    "        #println(\"Qubits involved: \", qubits)\n",
    "        \n",
    "        k_p = rand(0:3) # SEE BELOW: we need to sample from eq 14\n",
    "        if length(qubits) == 1\n",
    "            proposal_circuit[i] = PauliRotation(:Z, qubits, k_p * π/2)  # Replace with Clifford rotation\n",
    "        else\n",
    "            proposal_circuit[i] = PauliRotation([:Z, :Z], qubits, k_p * π/2)  # Replace with Clifford rotation\n",
    "        end\n",
    "    end\n",
    "    #println(\"Circuit after first replacement: \", proposal_circuit)\n",
    "\n",
    "\n",
    "    #then reset the right element (Clifford, FrozenGate[PauliRotation]]) to the one of the target circuit\n",
    "    for (i, j) in selected_pairs \n",
    "        qubits = proposal_circuit[j].gate.qinds\n",
    "        proposal_circuit[j] = target_circuit[j] \n",
    "    end\n",
    "    #println(\"Circuit after second replacement: \", proposal_circuit)\n",
    "    ##TODO: \n",
    "    #set new current_replaced_indices (non-replaced ones and the new ones)\n",
    "    #delete the ( , j) items from current_replaced_indices, add the (i, ) items\n",
    "    updated_replaced_indices = setdiff(current_replaced_indices, [j for (_, j) in selected_pairs])\n",
    "    append!(updated_replaced_indices, [i for (i, _) in selected_pairs])\n",
    "\n",
    "    return proposal_circuit, updated_replaced_indices\n",
    "end"
   ]
  },
  {
   "cell_type": "markdown",
   "metadata": {},
   "source": [
    "### Isolated sampling function"
   ]
  },
  {
   "cell_type": "code",
   "execution_count": 17,
   "metadata": {},
   "outputs": [
    {
     "data": {
      "text/plain": [
       "sample_kn (generic function with 1 method)"
      ]
     },
     "metadata": {},
     "output_type": "display_data"
    }
   ],
   "source": [
    "    function compute_distance(alpha, n)\n",
    "        Pauli_z = [1 0; 0 -1]\n",
    "        S_n = exp(-im * n * π / 2 * Pauli_z)\n",
    "        println(\"S_n: \", S_n)\n",
    "        Rz_alpha = exp(-im * alpha * Pauli_z/2)\n",
    "        println(\"Rz_alpha: \", Rz_alpha)\n",
    "        return LinearAlgebra.norm(Rz_alpha - S_n)\n",
    "    end\n",
    "    \n",
    "    # Define probability distribution function\n",
    "    function sample_kn(alpha)\n",
    "        sigma = 0.5\n",
    "        n_vals =LinRange(0,7,8) # limit n values (they repeat after 2 pi)\n",
    "        distances = [compute_distance(alpha, n) for n in n_vals]\n",
    "        println(\"Distances: \", distances)\n",
    "        weights = exp.(-distances.^2 ./ sigma^2)\n",
    "        println(\"Weights: \", weights)\n",
    "        probs = ProbabilityWeights(weights ./ sum(weights)) \n",
    "        println(\"Probs\",probs) # Normalize probabilities\n",
    "        return StatsBase.sample(n_vals,probs,1)  # Sample from the distribution (using StatsBase)\n",
    "    end"
   ]
  },
  {
   "cell_type": "code",
   "execution_count": 18,
   "metadata": {},
   "outputs": [
    {
     "name": "stdout",
     "output_type": "stream",
     "text": [
      "Initial circuit: Gate[PauliRotation([:Z, :Z], [1, 2]), PauliRotation([:Z, :Z], [3, 4]), FrozenGate(PauliRotation([:Z, :Z], [2, 3]), parameter = 4.71), CliffordGate(:S, [1]), FrozenGate(PauliRotation([:X], [1]), parameter = 1.57), PauliRotation([:Z], [1]), FrozenGate(PauliRotation([:X], [1]), parameter = 1.57), CliffordGate(:S, [1]), CliffordGate(:S, [2]), FrozenGate(PauliRotation([:X], [2]), parameter = 1.57), PauliRotation([:Z], [2]), FrozenGate(PauliRotation([:X], [2]), parameter = 1.57), CliffordGate(:S, [2]), CliffordGate(:S, [3]), FrozenGate(PauliRotation([:X], [3]), parameter = 1.57), PauliRotation([:Z], [3]), FrozenGate(PauliRotation([:X], [3]), parameter = 1.57), CliffordGate(:S, [3]), CliffordGate(:S, [4]), FrozenGate(PauliRotation([:X], [4]), parameter = 1.57), PauliRotation([:Z], [4]), FrozenGate(PauliRotation([:X], [4]), parameter = 1.57), CliffordGate(:S, [4]), PauliRotation([:Z, :Z], [1, 2]), PauliRotation([:Z, :Z], [3, 4]), FrozenGate(PauliRotation([:Z, :Z], [2, 3]), parameter = 0.0), CliffordGate(:S, [1]), FrozenGate(PauliRotation([:X], [1]), parameter = 1.57), PauliRotation([:Z], [1]), FrozenGate(PauliRotation([:X], [1]), parameter = 1.57), CliffordGate(:S, [1]), CliffordGate(:S, [2]), FrozenGate(PauliRotation([:X], [2]), parameter = 1.57), PauliRotation([:Z], [2]), FrozenGate(PauliRotation([:X], [2]), parameter = 1.57), CliffordGate(:S, [2]), CliffordGate(:S, [3]), FrozenGate(PauliRotation([:X], [3]), parameter = 1.57), FrozenGate(PauliRotation([:Z], [3]), parameter = 3.14), FrozenGate(PauliRotation([:X], [3]), parameter = 1.57), CliffordGate(:S, [3]), CliffordGate(:S, [4]), FrozenGate(PauliRotation([:X], [4]), parameter = 1.57), FrozenGate(PauliRotation([:Z], [4]), parameter = 1.57), FrozenGate(PauliRotation([:X], [4]), parameter = 1.57), CliffordGate(:S, [4])]\n"
     ]
    }
   ],
   "source": [
    "println(\"Initial circuit: \", init_circuit)\n"
   ]
  },
  {
   "cell_type": "code",
   "execution_count": 19,
   "metadata": {},
   "outputs": [
    {
     "name": "stdout",
     "output_type": "stream",
     "text": [
      "Z rotation indices (Non-Cliffords): [1, 2, 6, 11, 16, 21, 24, 25, 29, 34]\n",
      "Indices replaced (Frozen Z rotations (Cliffords)): [39, 26, 44, 3]\n",
      "Selected pairs of Cliff. and non-Clifford: [(21, 44), (1, 39)]\n",
      "Updated indices: [26, 3, 21, 1]Z rotation indices (Non-Cliffords): [2, 6, 11, 16, 24, 25, 29, 34, 39, 44]\n",
      "Indices replaced (Frozen Z rotations (Cliffords)): [26, 3, 21, 1]\n",
      "Selected pairs of Cliff. and non-Clifford: [(24, 1), (39, 3)]\n",
      "Updated indices: [26, 21, 24, 39]"
     ]
    }
   ],
   "source": [
    "proposal_circuit, updated_replaced_indices = proposal_random_tfimqaoacircuit(circuit, init_circuit, indices_replaced, 2) #check\n",
    "print(\"Updated indices: \", updated_replaced_indices)\n",
    "\n",
    "prop_2, update_2 = proposal_random_tfimqaoacircuit(circuit, proposal_circuit, updated_replaced_indices, 2) \n",
    "print(\"Updated indices: \", update_2)"
   ]
  },
  {
   "cell_type": "code",
   "execution_count": 20,
   "metadata": {},
   "outputs": [
    {
     "name": "stdout",
     "output_type": "stream",
     "text": [
      "true\n",
      "false\n"
     ]
    }
   ],
   "source": [
    "#short check that our replacements FrozenGates[PauliRotation[]] are not PauliRotations anymore\n",
    "println(init_circuit[11] isa PauliRotation)\n",
    "println(init_circuit[11] isa FrozenGate)"
   ]
  },
  {
   "cell_type": "markdown",
   "metadata": {},
   "source": [
    "###  Sample prob dist. eq 14\n",
    "- FIXED: We don't know what $\\alpha$ in $R_z(\\alpha)$ should be here  (eq. 14) , so its set to a fixed value for now."
   ]
  },
  {
   "cell_type": "code",
   "execution_count": 21,
   "metadata": {},
   "outputs": [
    {
     "data": {
      "text/plain": [
       "proposal_tfimqaoacircuit (generic function with 2 methods)"
      ]
     },
     "metadata": {},
     "output_type": "display_data"
    }
   ],
   "source": [
    "# Define the function to apply circuit updates\n",
    "function proposal_tfimqaoacircuit(target_circuit::Vector{Gate},current_circuit::Vector{Gate},current_replaced_indices::Vector{Int},thetas::Vector{Float64},repartition::Vector{Vector{Int}},np::Integer=2)    \n",
    "    # Identify all Pauli Z rotations in the circuit (includes RZZ) (Pauli Z are only the non-Cifford's here)\n",
    "    proposal_circuit = deepcopy(current_circuit)\n",
    "    z_rot_indices = [i for i in eachindex(proposal_circuit) if isa(proposal_circuit[i], PauliRotation)]\n",
    "\n",
    "    println(\"Z rotation indices (Non-Cliffords): \", z_rot_indices)\n",
    "    println(\"Indices replaced (Frozen Z rotations (Cliffords)): \", current_replaced_indices)  \n",
    "    # Ensure we have enough pairs\n",
    "    if length(current_replaced_indices) < np\n",
    "        error(\"Not enough frozen Pauli rotations in the initialized MCMC circuit to select the value of pairs.\")\n",
    "    end\n",
    "\n",
    "    # Shuffle and select n_p pairs\n",
    "    Random.shuffle!(z_rot_indices)\n",
    "    Random.shuffle!(current_replaced_indices)\n",
    "    selected_pairs = [(z_rot_indices[i], current_replaced_indices[i]) for i in 1:np] #\n",
    "    \n",
    "    println(\"Selected pairs of Cliff. and non-Clifford: \", selected_pairs) \n",
    "    #println(\"Circuit before replacement: \", proposal_circuit)\n",
    "\n",
    "    function compute_distance(alpha, n)\n",
    "        Pauli_z = [1 0; 0 -1]\n",
    "        S_n = exp(-im * n * π / 2 * Pauli_z)\n",
    "        #println(\"S_n: \", S_n)\n",
    "        Rz_alpha = exp(-im * alpha * Pauli_z/2)\n",
    "        #println(\"Rz_alpha: \", Rz_alpha)\n",
    "        return LinearAlgebra.norm(Rz_alpha - S_n)\n",
    "    end\n",
    "    \n",
    "    # Define probability distribution function\n",
    "    function sample_kn(alpha)\n",
    "        sigma = 0.5\n",
    "        n_vals =LinRange(0,7,8) # limit n values (they repeat after 2 pi)\n",
    "        distances = [compute_distance(alpha, n) for n in n_vals]\n",
    "        #println(\"Distances: \", distances)\n",
    "        weights = exp.(-distances.^2 ./ sigma^2)\n",
    "        #println(\"Weights: \", weights)\n",
    "        probs = ProbabilityWeights(weights ./ sum(weights)) \n",
    "        #println(\"Probs\",probs) # Normalize probabilities\n",
    "        return first(StatsBase.sample(n_vals,probs,1))  # Sample from the distribution (using StatsBase)\n",
    "    end\n",
    "\n",
    "    function get_alpha(qubits, thetas, repartition)\n",
    "        # allows to break from nested loops\n",
    "        function find_alpha()\n",
    "            found = false\n",
    "            alpha = 0\n",
    "            for k in qubits\n",
    "                for (i, r) in enumerate(repartition)\n",
    "                    for q in r\n",
    "                        if q==k\n",
    "                            alpha = thetas[i]\n",
    "                            found = true\n",
    "                            return alpha, found\n",
    "                        end\n",
    "                    end\n",
    "                end\n",
    "            end\n",
    "            return alpha, found\n",
    "        end\n",
    "\n",
    "        alpha, found = find_alpha()\n",
    "        if !found\n",
    "            throw(\"qubits $qubits not found in repartition\")\n",
    "        else\n",
    "            return alpha\n",
    "        end\n",
    "    end\n",
    "\n",
    "    #choose left element of each pair and replace with Clifford gate S^n,sample n\n",
    "    for (i, j) in selected_pairs\n",
    "        qubits = proposal_circuit[i].qinds\n",
    "        #println(\"Qubits involved: \", qubits)\n",
    "        alpha = get_alpha(qubits, thetas, repartition)\n",
    "        \n",
    "        k_p = sample_kn(alpha)\n",
    "        # print(k_p) # SEE BELOW: we need to sample from eq 14\n",
    "        if length(qubits) == 1\n",
    "            proposal_circuit[i] = PauliRotation(:Z, qubits, k_p * π/2)  # Replace with Clifford rotation\n",
    "        else\n",
    "            proposal_circuit[i] = PauliRotation([:Z, :Z], qubits, k_p * π/2)  # Replace with Clifford rotation\n",
    "        end\n",
    "    end\n",
    "    #println(\"Circuit after first replacement: \", proposal_circuit)\n",
    "\n",
    "\n",
    "    #then reset the right element (Clifford, FrozenGate[PauliRotation]]) to the one of the target circuit\n",
    "    for (i, j) in selected_pairs \n",
    "        qubits = proposal_circuit[j].gate.qinds\n",
    "        proposal_circuit[j] = target_circuit[j] \n",
    "    end\n",
    "    #println(\"Circuit after second replacement: \", proposal_circuit)\n",
    "    \n",
    "    #update the replaced indices\n",
    "    updated_replaced_indices = setdiff(current_replaced_indices, [j for (_, j) in selected_pairs])\n",
    "    append!(updated_replaced_indices, [i for (i, _) in selected_pairs])\n",
    "\n",
    "    return proposal_circuit, updated_replaced_indices\n",
    "end"
   ]
  },
  {
   "cell_type": "code",
   "execution_count": 22,
   "metadata": {},
   "outputs": [
    {
     "name": "stdout",
     "output_type": "stream",
     "text": [
      "Z rotation indices (Non-Cliffords): [1, 2, 6, 11, 16, 21, 24, 25, 29, 34]\n",
      "Indices replaced (Frozen Z rotations (Cliffords)): [44, 39, 26, 3]\n",
      "Selected pairs of Cliff. and non-Clifford: [(16, 44), (2, 3)]\n",
      "4.00.0Z rotation indices (Non-Cliffords): [1, 3, 6, 11, 21, 24, 25, 29, 34, 44]\n",
      "Indices replaced (Frozen Z rotations (Cliffords)): [39, 26, 16, 2]\n",
      "Selected pairs of Cliff. and non-Clifford: [(29, 2), (6, 39)]\n",
      "4.04.0New proposal 1: Gate[PauliRotation([:Z, :Z], [1, 2]), PauliRotation([:Z, :Z], [3, 4]), PauliRotation([:Z, :Z], [2, 3]), CliffordGate(:S, [1]), FrozenGate(PauliRotation([:X], [1]), parameter = 1.57), FrozenGate(PauliRotation([:Z], [1]), parameter = 6.28), FrozenGate(PauliRotation([:X], [1]), parameter = 1.57), CliffordGate(:S, [1]), CliffordGate(:S, [2]), FrozenGate(PauliRotation([:X], [2]), parameter = 1.57), PauliRotation([:Z], [2]), FrozenGate(PauliRotation([:X], [2]), parameter = 1.57), CliffordGate(:S, [2]), CliffordGate(:S, [3]), FrozenGate(PauliRotation([:X], [3]), parameter = 1.57), FrozenGate(PauliRotation([:Z], [3]), parameter = 6.28), FrozenGate(PauliRotation([:X], [3]), parameter = 1.57), CliffordGate(:S, [3]), CliffordGate(:S, [4]), FrozenGate(PauliRotation([:X], [4]), parameter = 1.57), PauliRotation([:Z], [4]), FrozenGate(PauliRotation([:X], [4]), parameter = 1.57), CliffordGate(:S, [4]), PauliRotation([:Z, :Z], [1, 2]), PauliRotation([:Z, :Z], [3, 4]), FrozenGate(PauliRotation([:Z, :Z], [2, 3]), parameter = 0.0), CliffordGate(:S, [1]), FrozenGate(PauliRotation([:X], [1]), parameter = 1.57), FrozenGate(PauliRotation([:Z], [1]), parameter = 6.28), FrozenGate(PauliRotation([:X], [1]), parameter = 1.57), CliffordGate(:S, [1]), CliffordGate(:S, [2]), FrozenGate(PauliRotation([:X], [2]), parameter = 1.57), PauliRotation([:Z], [2]), FrozenGate(PauliRotation([:X], [2]), parameter = 1.57), CliffordGate(:S, [2]), CliffordGate(:S, [3]), FrozenGate(PauliRotation([:X], [3]), parameter = 1.57), PauliRotation([:Z], [3]), FrozenGate(PauliRotation([:X], [3]), parameter = 1.57), CliffordGate(:S, [3]), CliffordGate(:S, [4]), FrozenGate(PauliRotation([:X], [4]), parameter = 1.57), PauliRotation([:Z], [4]), FrozenGate(PauliRotation([:X], [4]), parameter = 1.57), CliffordGate(:S, [4])]\n",
      "Z rotation indices (Non-Cliffords): [1, 2, 3, 11, 21, 24, 25, 34, 39, 44]\n",
      "Indices replaced (Frozen Z rotations (Cliffords)): [16, 26, 29, 6]\n",
      "Selected pairs of Cliff. and non-Clifford: [(2, 16), (39, 29)]\n",
      "4.04.0New proposal 2: Gate[PauliRotation([:Z, :Z], [1, 2]), FrozenGate(PauliRotation([:Z, :Z], [3, 4]), parameter = 6.28), PauliRotation([:Z, :Z], [2, 3]), CliffordGate(:S, [1]), FrozenGate(PauliRotation([:X], [1]), parameter = 1.57), FrozenGate(PauliRotation([:Z], [1]), parameter = 6.28), FrozenGate(PauliRotation([:X], [1]), parameter = 1.57), CliffordGate(:S, [1]), CliffordGate(:S, [2]), FrozenGate(PauliRotation([:X], [2]), parameter = 1.57), PauliRotation([:Z], [2]), FrozenGate(PauliRotation([:X], [2]), parameter = 1.57), CliffordGate(:S, [2]), CliffordGate(:S, [3]), FrozenGate(PauliRotation([:X], [3]), parameter = 1.57), PauliRotation([:Z], [3]), FrozenGate(PauliRotation([:X], [3]), parameter = 1.57), CliffordGate(:S, [3]), CliffordGate(:S, [4]), FrozenGate(PauliRotation([:X], [4]), parameter = 1.57), PauliRotation([:Z], [4]), FrozenGate(PauliRotation([:X], [4]), parameter = 1.57), CliffordGate(:S, [4]), PauliRotation([:Z, :Z], [1, 2]), PauliRotation([:Z, :Z], [3, 4]), FrozenGate(PauliRotation([:Z, :Z], [2, 3]), parameter = 0.0), CliffordGate(:S, [1]), FrozenGate(PauliRotation([:X], [1]), parameter = 1.57), PauliRotation([:Z], [1]), FrozenGate(PauliRotation([:X], [1]), parameter = 1.57), CliffordGate(:S, [1]), CliffordGate(:S, [2]), FrozenGate(PauliRotation([:X], [2]), parameter = 1.57), PauliRotation([:Z], [2]), FrozenGate(PauliRotation([:X], [2]), parameter = 1.57), CliffordGate(:S, [2]), CliffordGate(:S, [3]), FrozenGate(PauliRotation([:X], [3]), parameter = 1.57), FrozenGate(PauliRotation([:Z], [3]), parameter = 6.28), FrozenGate(PauliRotation([:X], [3]), parameter = 1.57), CliffordGate(:S, [3]), CliffordGate(:S, [4]), FrozenGate(PauliRotation([:X], [4]), parameter = 1.57), PauliRotation([:Z], [4]), FrozenGate(PauliRotation([:X], [4]), parameter = 1.57), CliffordGate(:S, [4])]\n"
     ]
    }
   ],
   "source": [
    "repartition = [[1,2, 3], [4, 5, 6, 7], [8, 9, 10], [11, 12, 13, 14]]\n",
    "proposal_circuit, ind_repl = proposal_tfimqaoacircuit(circuit, init_circuit, indices_replaced, thetas, repartition, 2) #check this works iteratively\n",
    "new_proposal, new_ind_repl = proposal_tfimqaoacircuit(circuit, proposal_circuit, ind_repl, thetas, repartition, 2)\n",
    "println(\"New proposal 1: \", new_proposal) #we need to name a variable to keep the new proposal\n",
    "new_proposal_2, ind_repl_2 = proposal_tfimqaoacircuit(circuit, new_proposal, new_ind_repl, thetas, repartition, 2)\n",
    "println(\"New proposal 2: \", new_proposal_2) "
   ]
  },
  {
   "cell_type": "markdown",
   "metadata": {},
   "source": [
    "## Next steps: \n",
    "JERG:\n",
    "- DONE: constrain the parameters in loss function (dict or as Manuel suggested)\n",
    "- DONE: closure thing (code loss function, add closure outside to optimize) , so far no exact position of this closure\n",
    "- find the parameter $\\alpha$ (optimised $\\alpha$ from target circuit of that exact gate)  for the proposal function (sample n) (page 7 eq 14, Appendix B of paper)\n",
    "\n",
    "Yulia:\n",
    "- define the MH algorithm (propose until a sample is accepted, then from this accepted sample start proposing again)\n",
    "- merge everything into one MCMC function"
   ]
  },
  {
   "cell_type": "markdown",
   "metadata": {},
   "source": [
    "### Under construction: Merged MCMC function\n",
    "- list with acceptance rate\n",
    "- n_sweeps to decorrelate\n",
    "- burn-in time (additional percent)"
   ]
  },
  {
   "cell_type": "code",
   "execution_count": null,
   "metadata": {},
   "outputs": [
    {
     "data": {
      "text/plain": [
       "MCMC (generic function with 2 methods)"
      ]
     },
     "metadata": {},
     "output_type": "display_data"
    }
   ],
   "source": [
    "function MCMC(target_circuit::Vector{Gate},current_circuit::Vector{Gate},nqubits::Integer,nlayers::Integer,current_replaced_indices::Vector{Int},num_samples::Integer = 1000,burn_in_per =0.2,n_sweeps::Integer =1, np::Integer=2, x_sigma::Float64=0.5,x_0::Float64 =-2.1)\n",
    "    #init the MCMC\n",
    "    initial_circuit, initial_replaced_indices = initialize_mcmc_circuit(target_circuit, nq, nl)\n",
    "    n_accepted = 0 \n",
    "    rounded_burn_in = Int(round(burn_in_per * num_samples)) \n",
    "\n",
    "    current_circuit = deepcopy(initial_circuit)\n",
    "    current_replaced_indices = deepcopy(initial_replaced_indices)\n",
    "    #add burn-in time\n",
    "\n",
    "    acceptance_rates = []\n",
    "    acc_samples = []\n",
    "    exact_energies = []\n",
    "    for i in range(1,Int(num_samples+rounded_burn_in))\n",
    "\n",
    "        proposal_circuit, updated_replaced_indices = proposal_tfimqaoacircuit(target_circuit, current_circuit, current_replaced_indices, np)\n",
    "        \n",
    "        #calc x_exact normalised (loss fct and gd)\n",
    "        \n",
    "        #acceptance ratio\n",
    "        acc_ratio = min(1,exp(-x_exact-x_0)**2/exp(x_sigma)**2)\n",
    "\n",
    "        if rand() < acc_ratio\n",
    "            current_circuit = deepcopy(proposal_circuit)\n",
    "            current_replaced_indices = deepcopy(updated_replaced_indices)\n",
    "            n_accepted += 1\n",
    "        end\n",
    "        acceptance_rate = n_accepted/i\n",
    "\n",
    "        #only record after burn-in\n",
    "        #only record every n_th sample (n_sweeps)\n",
    "        if i > rounded_burn_in\n",
    "            if i%n_sweeps == 0\n",
    "                push!(acc_samples, current_circuit)\n",
    "                push!(exact_energies, x_exact)\n",
    "                push!(acceptance_rates,acceptance_rate)\n",
    "        end\n",
    "\n",
    "        \n",
    "    end\n",
    "\n",
    "    return acc_samples,exact_energies,acceptance_rates\n",
    "end\n",
    "\n"
   ]
  },
  {
   "cell_type": "code",
   "execution_count": null,
   "metadata": {},
   "outputs": [],
   "source": [
    "function plot_MCMC(acc_samples,exact_energies,acceptance_rates)\n",
    "    #plot the acceptance rates\n",
    "    plot(acceptance_rates)\n",
    "    plot!(title = \"Acceptance rates\", xlabel = \"runs of MCMC\", ylabel = \"Acceptance rate\")\n",
    "\n",
    "    #plot the energy (not correlated if n_sweeps large enough)\n",
    "    plot(exact_energies)\n",
    "    plot!(title = \"Energy optimisation with MCMC\", xlabel = \"runs of MCMC\", ylabel = \"E/Q\",)\n",
    "end"
   ]
  },
  {
   "cell_type": "code",
   "execution_count": 28,
   "metadata": {},
   "outputs": [
    {
     "name": "stdout",
     "output_type": "stream",
     "text": [
      "Z rotation indices (Non-Cliffords): [1, 2, 6, 11, 16, 21, 24, 25, 29, 34]\n",
      "Indices replaced (Frozen Z rotations (Cliffords)): [26, 39, 44, 3]\n",
      "Selected pairs of Cliff. and non-Clifford: [(29, 26), (2, 39)]\n",
      "0.00.0Z rotation indices (Non-Cliffords): [1, 2, 6, 11, 16, 21, 24, 25, 29, 34]\n",
      "Indices replaced (Frozen Z rotations (Cliffords)): [26, 39, 44, 3]\n",
      "Selected pairs of Cliff. and non-Clifford: [(34, 39), (6, 3)]\n",
      "4.04.0"
     ]
    },
    {
     "data": {
      "text/plain": [
       "(Gate[PauliRotation([:Z, :Z], [1, 2]), FrozenGate(PauliRotation([:Z, :Z], [3, 4]), parameter = 3.14), PauliRotation([:Z, :Z], [2, 3]), CliffordGate(:S, [1]), FrozenGate(PauliRotation([:X], [1]), parameter = 1.57), FrozenGate(PauliRotation([:Z], [1]), parameter = 3.14), FrozenGate(PauliRotation([:X], [1]), parameter = 1.57), CliffordGate(:S, [1]), CliffordGate(:S, [2]), FrozenGate(PauliRotation([:X], [2]), parameter = 1.57)  …  CliffordGate(:S, [3]), FrozenGate(PauliRotation([:X], [3]), parameter = 1.57), PauliRotation([:Z], [3]), FrozenGate(PauliRotation([:X], [3]), parameter = 1.57), CliffordGate(:S, [3]), CliffordGate(:S, [4]), FrozenGate(PauliRotation([:X], [4]), parameter = 1.57), FrozenGate(PauliRotation([:Z], [4]), parameter = 3.14), FrozenGate(PauliRotation([:X], [4]), parameter = 1.57), CliffordGate(:S, [4])], [6, 25, 44, 2])"
      ]
     },
     "metadata": {},
     "output_type": "display_data"
    }
   ],
   "source": [
    "MCMC(circuit, init_circuit, nq, nl, indices_replaced, 2) #check"
   ]
  },
  {
   "cell_type": "code",
   "execution_count": 25,
   "metadata": {},
   "outputs": [
    {
     "name": "stdout",
     "output_type": "stream",
     "text": [
      "Z rotation indices (Non-Cliffords): [1, 2, 6, 11, 16, 21, 24, 25, 29, 34]\n",
      "Indices replaced (Frozen Z rotations (Cliffords)): [39, 44, 3, 26]\n",
      "Selected pairs of Cliff. and non-Clifford: [(29, 26), (6, 39)]\n",
      "0.00.0"
     ]
    },
    {
     "data": {
      "text/plain": [
       "(Gate[PauliRotation([:Z, :Z], [1, 2]), PauliRotation([:Z, :Z], [3, 4]), FrozenGate(PauliRotation([:Z, :Z], [2, 3]), parameter = 4.71), CliffordGate(:S, [1]), FrozenGate(PauliRotation([:X], [1]), parameter = 1.57), FrozenGate(PauliRotation([:Z], [1]), parameter = 0.0), FrozenGate(PauliRotation([:X], [1]), parameter = 1.57), CliffordGate(:S, [1]), CliffordGate(:S, [2]), FrozenGate(PauliRotation([:X], [2]), parameter = 1.57)  …  CliffordGate(:S, [3]), FrozenGate(PauliRotation([:X], [3]), parameter = 1.57), PauliRotation([:Z], [3]), FrozenGate(PauliRotation([:X], [3]), parameter = 1.57), CliffordGate(:S, [3]), CliffordGate(:S, [4]), FrozenGate(PauliRotation([:X], [4]), parameter = 1.57), FrozenGate(PauliRotation([:Z], [4]), parameter = 1.57), FrozenGate(PauliRotation([:X], [4]), parameter = 1.57), CliffordGate(:S, [4])], [44, 3, 29, 6])"
      ]
     },
     "metadata": {},
     "output_type": "display_data"
    }
   ],
   "source": [
    "proposal_circuit, ind_repl = proposal_tfimqaoacircuit(circuit, init_circuit, indices_replaced, 2) #check this works iteratively"
   ]
  },
  {
   "cell_type": "code",
   "execution_count": 26,
   "metadata": {},
   "outputs": [
    {
     "name": "stdout",
     "output_type": "stream",
     "text": [
      "Z rotation indices (Non-Cliffords): [1, 2, 11, 16, 21, 24, 25, 26, 34, 39]\n",
      "Indices replaced (Frozen Z rotations (Cliffords)): [44, 3, 29, 6]\n",
      "Selected pairs of Cliff. and non-Clifford: [(25, 29), (34, 3)]\n",
      "4.04.0"
     ]
    },
    {
     "data": {
      "text/plain": [
       "(Gate[PauliRotation([:Z, :Z], [1, 2]), PauliRotation([:Z, :Z], [3, 4]), PauliRotation([:Z, :Z], [2, 3]), CliffordGate(:S, [1]), FrozenGate(PauliRotation([:X], [1]), parameter = 1.57), FrozenGate(PauliRotation([:Z], [1]), parameter = 0.0), FrozenGate(PauliRotation([:X], [1]), parameter = 1.57), CliffordGate(:S, [1]), CliffordGate(:S, [2]), FrozenGate(PauliRotation([:X], [2]), parameter = 1.57)  …  CliffordGate(:S, [3]), FrozenGate(PauliRotation([:X], [3]), parameter = 1.57), PauliRotation([:Z], [3]), FrozenGate(PauliRotation([:X], [3]), parameter = 1.57), CliffordGate(:S, [3]), CliffordGate(:S, [4]), FrozenGate(PauliRotation([:X], [4]), parameter = 1.57), FrozenGate(PauliRotation([:Z], [4]), parameter = 1.57), FrozenGate(PauliRotation([:X], [4]), parameter = 1.57), CliffordGate(:S, [4])], [44, 6, 25, 34])"
      ]
     },
     "metadata": {},
     "output_type": "display_data"
    }
   ],
   "source": [
    "new_proposal, new_ind_repl = proposal_tfimqaoacircuit(circuit, proposal_circuit, ind_repl, 2)"
   ]
  }
 ],
 "metadata": {
  "kernelspec": {
   "display_name": "Julia 1.11.3",
   "language": "julia",
   "name": "julia-1.11"
  },
  "language_info": {
   "file_extension": ".jl",
   "mimetype": "application/julia",
   "name": "julia",
   "version": "1.11.3"
  }
 },
 "nbformat": 4,
 "nbformat_minor": 2
}
