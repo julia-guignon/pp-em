{
 "cells": [
  {
   "cell_type": "code",
   "execution_count": null,
   "metadata": {},
   "outputs": [],
   "source": [
    "using PauliPropagation\n",
    "using Random\n",
    "using Optim\n",
    "using Plots\n",
    "#Random.seed!(43)\n",
    "using ReverseDiff: GradientTape, gradient!, compile\n",
    "using LinearAlgebra\n",
    "using StatsBase\n",
    "#test"
   ]
  },
  {
   "cell_type": "markdown",
   "metadata": {},
   "source": [
    "## CDR (Clifford Data Regression) \n",
    "This is the main idea:\n",
    "(https://arxiv.org/abs/2005.10189)\n",
    "\n",
    "- We create a training set consisting of classical \"exact\" expectation values using PP and noisy expectation values using a noisy simulator or a quantum device.\n",
    "- Then we fit a linear ansatz (and later a more complex noise model) in order to predict the correction to mitigate the errors on our noisy observables.\n",
    "- To create the training set, we use MCMC sampling.\n",
    "- Question: Could we use the noisy circuits within `PauliPropagation.jl` to generate our noisy expectation values?\n",
    "\n",
    "The first step is to implement the system they use in the paper, but replace the MPS with PP.\n"
   ]
  },
  {
   "cell_type": "markdown",
   "metadata": {},
   "source": [
    "### Functions for QAOA on Ising spin chain\n",
    "We take the same setup as in the paper:\n",
    "- TFIM with obc and even number of qubits\n",
    "- QAOA (Quantum Alternating Operator Ansatz) circuit\n",
    "- Parameter assignment function (each RZZ and each RZ layer has the same parameters)"
   ]
  },
  {
   "cell_type": "code",
   "execution_count": null,
   "metadata": {},
   "outputs": [],
   "source": [
    "#QAOA circuit (Fig 10)\n",
    "function tfimqaoacircuit(nqubits::Integer, nlayers::Integer; topology=nothing)\n",
    "    circuit::Vector{Gate} = []\n",
    "\n",
    "    if isnothing(topology)\n",
    "        topology = bricklayertopology(nqubits;periodic=false) #chain with obc\n",
    "    end\n",
    "\n",
    "    for i in 1:nlayers\n",
    "        rzzlayer!(circuit, topology)\n",
    "        for qubit in 1:nqubits\n",
    "            push!(circuit, CliffordGate(:S, qubit))\n",
    "            push!(circuit, PauliRotation(:X, qubit, π/2)) # Fig 10: P=R_X(π/2)\n",
    "            push!(circuit, PauliRotation(:Z, qubit))\n",
    "            push!(circuit, PauliRotation(:X, qubit, π/2))\n",
    "            push!(circuit, CliffordGate(:S, qubit))\n",
    "\n",
    "        end\n",
    "    end\n",
    "    return circuit\n",
    "end\n",
    "println(\"done\")\n",
    "println(\"not done\")"
   ]
  },
  {
   "cell_type": "code",
   "execution_count": null,
   "metadata": {},
   "outputs": [],
   "source": [
    "#grouped assignment of the params for QAOA circuit\n",
    "function assign_qaoa_parameters(circuit, nqubits::Integer, nlayers::Integer)\n",
    "    \n",
    "    rzz_indices = getparameterindices(circuit, PauliRotation, [:Z, :Z])\n",
    "    rz_indices = getparameterindices(circuit, PauliRotation, [:Z])\n",
    "\n",
    "    #group sizes\n",
    "    Q_minus_1 = (nqubits - 1) * nlayers  # RZZ parameters\n",
    "    Q = nqubits * nlayers                # RZ parameters\n",
    "\n",
    "    #group the random values according to circuit layout\n",
    "    thetas = zeros(maximum(vcat(rzz_indices, rz_indices)))\n",
    "    thetas[rzz_indices] .= repeat(randn(nlayers), inner=(Q_minus_1 ÷ nlayers))\n",
    "    thetas[rz_indices] .= repeat(randn(nlayers), inner=(Q ÷ nlayers))\n",
    "\n",
    "    return thetas\n",
    "end"
   ]
  },
  {
   "cell_type": "markdown",
   "metadata": {},
   "source": [
    "### Initialize circuit\n",
    "- initial parameters are set\n",
    "- define truncations dpending on the method of gradient computation\n",
    "- for `ReverseDiff`, better to use `max_weight` (number of non-Id in string), `max_freq`, and `max_sins`(number of sins - as in SPD) (see notebook 8)\n",
    "- define H within loss function"
   ]
  },
  {
   "cell_type": "code",
   "execution_count": null,
   "metadata": {},
   "outputs": [],
   "source": [
    "const nq = 4 #we set const for global vars in fcts to opt performance\n",
    "const nl = 2 #number of layers/rounds\n",
    "const topology = bricklayertopology(nq;periodic=false) #chain with obc  \n",
    "const g = 2 #paramagnetic phase"
   ]
  },
  {
   "cell_type": "code",
   "execution_count": null,
   "metadata": {},
   "outputs": [],
   "source": [
    "const circuit = tfimqaoacircuit(nq, nl; topology=topology)\n",
    "nparams = countparameters(circuit)\n",
    "println(\"Number of parameters: \", nparams) \n",
    "#generate random parameters\n",
    "thetas_init = assign_qaoa_parameters(circuit, nq, nl)\n",
    "println(\"Parameters: \", thetas_init)"
   ]
  },
  {
   "cell_type": "code",
   "execution_count": null,
   "metadata": {},
   "outputs": [],
   "source": [
    "#define the truncations\n",
    "const max_freq = 30\n",
    "const max_weight = 5 #number of non-Id Paulis in string"
   ]
  },
  {
   "cell_type": "markdown",
   "metadata": {},
   "source": [
    "### Loss function for TFIM and classical optimization"
   ]
  },
  {
   "cell_type": "code",
   "execution_count": null,
   "metadata": {},
   "outputs": [],
   "source": [
    "function lossfunction(thetas)\n",
    "    type_of_coeff = eltype(thetas)\n",
    "    H = PauliSum(nq, type_of_coeff)\n",
    "    for qind in 1:nq\n",
    "        add!(H, :X, qind, type_of_coeff(-g))\n",
    "    end\n",
    "    for pair in topology\n",
    "        add!(H, [:Z, :Z], collect(pair), type_of_coeff(1.0))\n",
    "    end\n",
    "    \n",
    "    wrapped_H = wrapcoefficients(H, PauliFreqTracker) #wrap to keep track of path splitting\n",
    "\n",
    "    # We also need to run the in-place version with `!`, because by default we copy the Pauli sum\n",
    "    wrapped_H = propagate!(circuit, wrapped_H, thetas; max_freq, max_weight);\n",
    "    return overlapwithplus(wrapped_H)\n",
    "end"
   ]
  },
  {
   "cell_type": "code",
   "execution_count": null,
   "metadata": {},
   "outputs": [],
   "source": [
    "@time lossfunction(thetas_init) #check"
   ]
  },
  {
   "cell_type": "code",
   "execution_count": null,
   "metadata": {},
   "outputs": [],
   "source": [
    "### This is following an ReverseDiff.jl example\n",
    "\n",
    "# some inputs and work buffer to play around with\n",
    "grad_array_compiled = similar(thetas_init);\n",
    "\n",
    "# pre-record a GradientTape for `gradsimulation` using inputs of length m with Float64 elements\n",
    "\n",
    "const simulation_tape = GradientTape(lossfunction, thetas_init)\n",
    "const compiled_simulation_tape = compile(simulation_tape)\n",
    "#graph for the chain rule is computed only once! (const)\n",
    "\n",
    "# first evaluation compiles and is slower\n",
    "#@time gradient!(grad_array_compiled, compiled_simulation_tape, thetas)\n",
    "# second evaluation\n",
    "#@time gradient!(grad_array_compiled, compiled_simulation_tape, thetas);"
   ]
  },
  {
   "cell_type": "code",
   "execution_count": null,
   "metadata": {},
   "outputs": [],
   "source": [
    "# gradient descent\n",
    "eta = 0.1\n",
    "opt_energy_gd = []\n",
    "thetas = thetas_init\n",
    "for i in 1:100 # steps\n",
    "    gradient!(grad_array_compiled, simulation_tape, thetas)\n",
    "    thetas .-= eta * grad_array_compiled\n",
    "    opt_energy_gd = push!(opt_energy_gd, lossfunction(thetas)/nq)\n",
    "end\n",
    "#println(thetas) #Why do the first few stay the same, while the end is strongly modified? Is this sth systematic?\n",
    "println(lossfunction(thetas)/nq)\n",
    "plot(opt_energy_gd)\n",
    "\n",
    "plot!(title = \"Energy optimisation with GD\", xlabel = \"runs of GD\", ylabel = \"E/Q\")"
   ]
  },
  {
   "cell_type": "code",
   "execution_count": null,
   "metadata": {},
   "outputs": [],
   "source": [
    " #ADAM (this is suboptimal because we recalculate the gradients)\n",
    "# thetas = thetas_init\n",
    "# opt_energy_adam = []\n",
    "\n",
    "# opt_result = Optim.optimize(lossfunction, thetas, Adam(), Optim.Options(iterations=1000))\n",
    "# thetas .= Optim.minimizer(opt_result)\n",
    "\n",
    "# #println(thetas)  # Check the final optimized parameters\n",
    "# println(lossfunction(thetas)/nq)  # Check the final optimized energy (similar to GD)"
   ]
  },
  {
   "cell_type": "markdown",
   "metadata": {},
   "source": [
    "### Comments so far:\n",
    "\n",
    "- We have (2Q-1) non-Cliffords in the circuit so for Q=16 qubits, we have N=31 non-Cliffords already (this is quite high for a cl. simulation, state of the art is N<80 and Piotr used MPS with up to N=35)\n",
    "- When we initialise the parameters, they are fixed to have the same values in every RZZ and RZ layer, but later this changes during optimization. How can we keep this constraint during the optimization? (We need the constraint so it could be implementable as a \"real\" circuit, right?)\n",
    "- We get the warning `WARNING: redefinition of constant Main.simulation_tape.`, should we keep doing this like in the example notebooks?"
   ]
  },
  {
   "cell_type": "markdown",
   "metadata": {},
   "source": [
    "## Generating the set of test states - Isolated functions\n",
    "- generate a set of classically efficiently simulable states $S_{\\psi} =\\{|\\phi_i>\\}$\n",
    "- the initial state `initialize_mcmc_circuit()` is chosen by finding a near-Clifford circuit wrt the target circuit `tfimqaoacircuit()`\n",
    "- update steps: randomly pick $n_p$ pairs of the circuits RZ rotations (RZZ are also just RZ rotations with CNOT before and after)\n",
    "- in each pair keep one gate as non-Clifford and replace the other by $S^n$, where $S$ is the $\\pi/2$ rotation gate, take an integer power $n$ (which we choose by sampling according to eq. 14)\n",
    "- this \"pair mechanism\" makes sure we don't replace too many gates with Clifford gates, which would lead to a larger distance from the target state $\\ket{\\psi}$."
   ]
  },
  {
   "cell_type": "markdown",
   "metadata": {},
   "source": [
    "### Initial circuit for MCMC with less non-Clifford gates "
   ]
  },
  {
   "cell_type": "code",
   "execution_count": null,
   "metadata": {},
   "outputs": [],
   "source": [
    "function initialize_mcmc_circuit(circuit, nqubits::Integer, nlayers::Integer)\n",
    "    # Choose nq*nl/2 random Pauli rotations to replace with Clifford R_Z(k_p π/2) gates.\n",
    "    # The replacements are random for the whole circuit and don't repeat for each layer.\n",
    "\n",
    "    # Get indices of Pauli rotations\n",
    "    z_rot_indices = [i for i in eachindex(circuit) if isa(circuit[i], PauliRotation)]\n",
    "\n",
    "    num_to_replace = div(nqubits * nlayers, 2)\n",
    "    Random.shuffle!(z_rot_indices)\n",
    "    indices_replaced = z_rot_indices[1:num_to_replace]\n",
    "    #println(\"Indices to replace: \", indices_to_replace)\n",
    "\n",
    "    # Extract qubit indices for gates to be replaced\n",
    "    qubits = [circuit[i].qinds for i in indices_replaced]\n",
    "    #println(\"Qubits involved: \", qubits)\n",
    "\n",
    "    # Create a modified circuit\n",
    "    new_circuit = copy(circuit)\n",
    "\n",
    "    # Replace selected R_Z rotations with Clifford R_Z(k_p π/2)\n",
    "    for (j, i) in enumerate(indices_replaced)\n",
    "        k_p = rand(0:3)  ### Randomly select k_p from {0,1,2,3} ( NO CLEAR INDICATION in the paper)\n",
    "        if length(qubits[j]) == 1\n",
    "            new_circuit[i] = PauliRotation(:Z, qubits[j], k_p * π/2)  # Replace with Clifford rotation\n",
    "        else\n",
    "            new_circuit[i] = PauliRotation([:Z, :Z], qubits[j], k_p * π/2)  # Replace with Clifford rotation\n",
    "        end\n",
    "    end\n",
    "\n",
    "    return new_circuit, indices_replaced\n",
    "end"
   ]
  },
  {
   "cell_type": "code",
   "execution_count": null,
   "metadata": {},
   "outputs": [],
   "source": [
    "init_circuit, indices_replaced = initialize_mcmc_circuit(circuit, nq, nl) #check\n",
    "init_circuit\n",
    "indices_replaced\n",
    "current_cicuit = deepcopy(init_circuit)\n",
    "current_replaced_indices = deepcopy(indices_replaced)   "
   ]
  },
  {
   "cell_type": "code",
   "execution_count": null,
   "metadata": {},
   "outputs": [],
   "source": [
    "#test the init function:\n",
    "println(circuit)\n",
    "println(init_circuit)   "
   ]
  },
  {
   "cell_type": "markdown",
   "metadata": {},
   "source": [
    "### Proposal function with random sampling (TO BE REPLACED with eq 14)"
   ]
  },
  {
   "cell_type": "code",
   "execution_count": null,
   "metadata": {},
   "outputs": [],
   "source": [
    "# Define the function to apply circuit updates\n",
    "function proposal_random_tfimqaoacircuit(target_circuit::Vector{Gate},current_circuit::Vector{Gate},current_replaced_indices::Vector{Int},np::Integer=2)    \n",
    "    # Identify all Pauli Z rotations in the circuit (includes RZZ) (Pauli Z are only the non-Cifford's here)\n",
    "    proposal_circuit = deepcopy(current_circuit)\n",
    "    z_rot_indices = [i for i in eachindex(proposal_circuit) if isa(proposal_circuit[i], PauliRotation)]\n",
    "\n",
    "    println(\"Z rotation indices (Non-Cliffords): \", z_rot_indices)\n",
    "    println(\"Indices replaced (Frozen Z rotations (Cliffords)): \", current_replaced_indices)  \n",
    "    # Ensure we have enough pairs\n",
    "    if length(current_replaced_indices) < np\n",
    "        error(\"Not enough frozen Pauli rotations in the initialized MCMC circuit to select the value of pairs.\")\n",
    "    end\n",
    "\n",
    "    # Shuffle and select n_p pairs\n",
    "    Random.shuffle!(z_rot_indices)\n",
    "    Random.shuffle!(current_replaced_indices)\n",
    "    selected_pairs = [(z_rot_indices[i], current_replaced_indices[i]) for i in 1:np] #\n",
    "    \n",
    "    println(\"Selected pairs of Cliff. and non-Clifford: \", selected_pairs) \n",
    "    #println(\"Circuit before replacement: \", proposal_circuit)\n",
    "\n",
    "    #choose left element of each pair and replace with Clifford gate S^n,sample n\n",
    "    for (i, j) in selected_pairs\n",
    "        qubits = proposal_circuit[i].qinds\n",
    "        #println(\"Qubits involved: \", qubits)\n",
    "        \n",
    "        k_p = rand(0:3) # SEE BELOW: we need to sample from eq 14\n",
    "        if length(qubits) == 1\n",
    "            proposal_circuit[i] = PauliRotation(:Z, qubits, k_p * π/2)  # Replace with Clifford rotation\n",
    "        else\n",
    "            proposal_circuit[i] = PauliRotation([:Z, :Z], qubits, k_p * π/2)  # Replace with Clifford rotation\n",
    "        end\n",
    "    end\n",
    "    #println(\"Circuit after first replacement: \", proposal_circuit)\n",
    "\n",
    "\n",
    "    #then reset the right element (Clifford, FrozenGate[PauliRotation]]) to the one of the target circuit\n",
    "    for (i, j) in selected_pairs \n",
    "        qubits = proposal_circuit[j].gate.qinds\n",
    "        proposal_circuit[j] = target_circuit[j] \n",
    "    end\n",
    "    #println(\"Circuit after second replacement: \", proposal_circuit)\n",
    "    ##TODO: \n",
    "    #set new current_replaced_indices (non-replaced ones and the new ones)\n",
    "    #delete the ( , j) items from current_replaced_indices, add the (i, ) items\n",
    "    updated_replaced_indices = setdiff(current_replaced_indices, [j for (_, j) in selected_pairs])\n",
    "    append!(updated_replaced_indices, [i for (i, _) in selected_pairs])\n",
    "\n",
    "    return proposal_circuit, updated_replaced_indices\n",
    "end"
   ]
  },
  {
   "cell_type": "markdown",
   "metadata": {},
   "source": [
    "### Isolated sampling function"
   ]
  },
  {
   "cell_type": "code",
   "execution_count": null,
   "metadata": {},
   "outputs": [],
   "source": [
    "    function compute_distance(alpha, n)\n",
    "        Pauli_z = [1 0; 0 -1]\n",
    "        S_n = exp(-im * n * π / 2 * Pauli_z)\n",
    "        println(\"S_n: \", S_n)\n",
    "        Rz_alpha = exp(-im * alpha * Pauli_z/2)\n",
    "        println(\"Rz_alpha: \", Rz_alpha)\n",
    "        return LinearAlgebra.norm(Rz_alpha - S_n)\n",
    "    end\n",
    "    \n",
    "    # Define probability distribution function\n",
    "    function sample_kn(alpha)\n",
    "        sigma = 0.5\n",
    "        n_vals =LinRange(0,7,8) # limit n values (they repeat after 2 pi)\n",
    "        distances = [compute_distance(alpha, n) for n in n_vals]\n",
    "        println(\"Distances: \", distances)\n",
    "        weights = exp.(-distances.^2 ./ sigma^2)\n",
    "        println(\"Weights: \", weights)\n",
    "        probs = ProbabilityWeights(weights ./ sum(weights)) \n",
    "        println(\"Probs\",probs) # Normalize probabilities\n",
    "        return StatsBase.sample(n_vals,probs,1)  # Sample from the distribution (using StatsBase)\n",
    "    end"
   ]
  },
  {
   "cell_type": "code",
   "execution_count": null,
   "metadata": {},
   "outputs": [],
   "source": [
    "println(\"Initial circuit: \", init_circuit)\n"
   ]
  },
  {
   "cell_type": "code",
   "execution_count": null,
   "metadata": {},
   "outputs": [],
   "source": [
    "proposal_circuit, updated_replaced_indices = proposal_random_tfimqaoacircuit(circuit, init_circuit, indices_replaced, 2) #check\n",
    "print(\"Updated indices: \", updated_replaced_indices)\n",
    "\n",
    "prop_2, update_2 = proposal_random_tfimqaoacircuit(circuit, proposal_circuit, updated_replaced_indices, 2) \n",
    "print(\"Updated indices: \", update_2)"
   ]
  },
  {
   "cell_type": "code",
   "execution_count": null,
   "metadata": {},
   "outputs": [],
   "source": [
    "#short check that our replacements FrozenGates[PauliRotation[]] are not PauliRotations anymore\n",
    "println(init_circuit[11] isa PauliRotation)\n",
    "println(init_circuit[11] isa FrozenGate)"
   ]
  },
  {
   "cell_type": "markdown",
   "metadata": {},
   "source": [
    "### Under construction from here: Sample prob dist. eq 14\n",
    "- We don't know what $\\alpha$ in $R_z(\\alpha)$ should be here  (eq. 14) , so its set to a fixed value for now."
   ]
  },
  {
   "cell_type": "code",
   "execution_count": null,
   "metadata": {},
   "outputs": [],
   "source": [
    "# Define the function to apply circuit updates\n",
    "function proposal_tfimqaoacircuit(target_circuit::Vector{Gate},current_circuit::Vector{Gate},current_replaced_indices::Vector{Int},np::Integer=2)    \n",
    "    # Identify all Pauli Z rotations in the circuit (includes RZZ) (Pauli Z are only the non-Cifford's here)\n",
    "    proposal_circuit = deepcopy(current_circuit)\n",
    "    z_rot_indices = [i for i in eachindex(proposal_circuit) if isa(proposal_circuit[i], PauliRotation)]\n",
    "\n",
    "    println(\"Z rotation indices (Non-Cliffords): \", z_rot_indices)\n",
    "    println(\"Indices replaced (Frozen Z rotations (Cliffords)): \", current_replaced_indices)  \n",
    "    # Ensure we have enough pairs\n",
    "    if length(current_replaced_indices) < np\n",
    "        error(\"Not enough frozen Pauli rotations in the initialized MCMC circuit to select the value of pairs.\")\n",
    "    end\n",
    "\n",
    "    # Shuffle and select n_p pairs\n",
    "    Random.shuffle!(z_rot_indices)\n",
    "    Random.shuffle!(current_replaced_indices)\n",
    "    selected_pairs = [(z_rot_indices[i], current_replaced_indices[i]) for i in 1:np] #\n",
    "    \n",
    "    println(\"Selected pairs of Cliff. and non-Clifford: \", selected_pairs) \n",
    "    #println(\"Circuit before replacement: \", proposal_circuit)\n",
    "\n",
    "    function compute_distance(alpha, n)\n",
    "        Pauli_z = [1 0; 0 -1]\n",
    "        S_n = exp(-im * n * π / 2 * Pauli_z)\n",
    "        println(\"S_n: \", S_n)\n",
    "        Rz_alpha = exp(-im * alpha * Pauli_z/2)\n",
    "        println(\"Rz_alpha: \", Rz_alpha)\n",
    "        return LinearAlgebra.norm(Rz_alpha - S_n)\n",
    "    end\n",
    "    \n",
    "    # Define probability distribution function\n",
    "    function sample_kn(alpha)\n",
    "        sigma = 0.5\n",
    "        n_vals =LinRange(0,7,8) # limit n values (they repeat after 2 pi)\n",
    "        distances = [compute_distance(alpha, n) for n in n_vals]\n",
    "        println(\"Distances: \", distances)\n",
    "        weights = exp.(-distances.^2 ./ sigma^2)\n",
    "        println(\"Weights: \", weights)\n",
    "        probs = ProbabilityWeights(weights ./ sum(weights)) \n",
    "        println(\"Probs\",probs) # Normalize probabilities\n",
    "        return StatsBase.sample(n_vals,probs,1)  # Sample from the distribution (using StatsBase)\n",
    "    end\n",
    "\n",
    "    alpha = 0.5 ###!! MISSING\n",
    "    #choose left element of each pair and replace with Clifford gate S^n,sample n\n",
    "    for (i, j) in selected_pairs\n",
    "        qubits = proposal_circuit[i].qinds\n",
    "        #println(\"Qubits involved: \", qubits)\n",
    "        \n",
    "        k_p = sample_kn(alpha) # SEE BELOW: we need to sample from eq 14\n",
    "        if length(qubits) == 1\n",
    "            proposal_circuit[i] = PauliRotation(:Z, qubits, k_p * π/2)  # Replace with Clifford rotation\n",
    "        else\n",
    "            proposal_circuit[i] = PauliRotation([:Z, :Z], qubits, k_p * π/2)  # Replace with Clifford rotation\n",
    "        end\n",
    "    end\n",
    "    #println(\"Circuit after first replacement: \", proposal_circuit)\n",
    "\n",
    "\n",
    "    #then reset the right element (Clifford, FrozenGate[PauliRotation]]) to the one of the target circuit\n",
    "    for (i, j) in selected_pairs \n",
    "        qubits = proposal_circuit[j].gate.qinds\n",
    "        proposal_circuit[j] = target_circuit[j] \n",
    "    end\n",
    "    #println(\"Circuit after second replacement: \", proposal_circuit)\n",
    "    \n",
    "    #update the replaced indices\n",
    "    updated_replaced_indices = setdiff(current_replaced_indices, [j for (_, j) in selected_pairs])\n",
    "    append!(updated_replaced_indices, [i for (i, _) in selected_pairs])\n",
    "\n",
    "    return proposal_circuit, updated_replaced_indices\n",
    "end\n",
    "#testsomewhereelse"
   ]
  },
  {
   "cell_type": "code",
   "execution_count": null,
   "metadata": {},
   "outputs": [],
   "source": [
    "proposal_circuit, ind_repl = proposal_tfimqaoacircuit(circuit, init_circuit, indices_replaced, 2) #check this works iteratively\n",
    "new_proposal, new_ind_repl = proposal_tfimqaoacircuit(circuit, proposal_circuit, ind_repl, 2)\n",
    "println(\"New proposal 1: \", new_proposal) #we need to name a variable to keep the new proposal\n",
    "new_proposal_2, ind_repl_2 = proposal_tfimqaoacircuit(circuit, new_proposal, new_ind_repl, 2)\n",
    "println(\"New proposal 2: \", new_proposal_2) "
   ]
  },
  {
   "cell_type": "markdown",
   "metadata": {},
   "source": [
    "## Next steps: \n",
    "- constrain the parameters in loss function (dict or as Manuel suggested)\n",
    "- closure thing (code loss function, add closure outside to optimize) , so far no exact position of this closure\n",
    "- find the parameter $\\alpha$ (optimised $\\alpha$ from target circuit of that exact gate)  for the proposal function (sample n) (page 7 eq 14, Appendix B of paper)\n",
    "\n",
    "- define the MH algorithm (propose until a sample is accepted, then from this accepted sample start proposing again)\n",
    "- merge everything into one MCMC function"
   ]
  },
  {
   "cell_type": "markdown",
   "metadata": {},
   "source": [
    "### Under construction: Merged MCMC function"
   ]
  },
  {
   "cell_type": "code",
   "execution_count": null,
   "metadata": {},
   "outputs": [],
   "source": [
    "function MCMC(target_circuit::Vector{Gate},current_circuit::Vector{Gate},nqubits::Integer,nlayers::Integer,current_replaced_indices::Vector{Int},np::Integer=2)\n",
    "    #init the MCMC\n",
    "    initial_cicuit, initial_replaced_indices = initialize_mcmc_circuit(target_circuit, nq, nl)\n",
    "    n_accepted = 0 \n",
    "    n_total = 0\n",
    "    if n_accepted < 10 # we want 10 samples of the circuit\n",
    "        #generate a proposal step\n",
    "        proposal_circuit, updated_replaced_indices = proposal_tfimqaoacircuit(target_circuit, current_circuit, current_replaced_indices, np)\n",
    "        #compute the acceptance probability\n",
    "        #accept or reject the proposal\n",
    "        #update the current circuit\n",
    "        #update the acceptance rate\n",
    "    end\n",
    "    #generate a proposal step\n",
    "    proposal_circuit, updated_replaced_indices = proposal_tfimqaoacircuit(target_circuit, current_circuit, current_replaced_indices, np)\n",
    "\n",
    "    return initial_cicuit, initial_replaced_indices\n",
    "end"
   ]
  },
  {
   "cell_type": "code",
   "execution_count": null,
   "metadata": {},
   "outputs": [],
   "source": [
    "MCMC(circuit, init_circuit, nq, nl, indices_replaced, 2) #check"
   ]
  },
  {
   "cell_type": "code",
   "execution_count": null,
   "metadata": {},
   "outputs": [],
   "source": [
    "proposal_circuit, ind_repl = proposal_tfimqaoacircuit(circuit, init_circuit, indices_replaced, 2) #check this works iteratively"
   ]
  },
  {
   "cell_type": "code",
   "execution_count": null,
   "metadata": {},
   "outputs": [],
   "source": [
    "new_proposal, new_ind_repl = proposal_tfimqaoacircuit(circuit, proposal_circuit, ind_repl, 2)"
   ]
  }
 ],
 "metadata": {
  "kernelspec": {
   "display_name": "Julia 1.11.3",
   "language": "julia",
   "name": "julia-1.11"
  },
  "language_info": {
   "file_extension": ".jl",
   "mimetype": "application/julia",
   "name": "julia",
   "version": "1.11.3"
  }
 },
 "nbformat": 4,
 "nbformat_minor": 2
}
