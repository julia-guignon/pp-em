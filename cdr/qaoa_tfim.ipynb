{
 "cells": [
  {
   "cell_type": "code",
   "execution_count": 78,
   "metadata": {},
   "outputs": [
    {
     "data": {
      "text/plain": [
       "TaskLocalRNG()"
      ]
     },
     "metadata": {},
     "output_type": "display_data"
    }
   ],
   "source": [
    "using PauliPropagation\n",
    "using Random\n",
    "Random.seed!(42)"
   ]
  },
  {
   "cell_type": "markdown",
   "metadata": {},
   "source": [
    "### Functions for QAOA on Ising spin chain\n",
    "- TFIM with obc\n",
    "- QAOA circuit\n",
    "- Parameter assignment function"
   ]
  },
  {
   "cell_type": "code",
   "execution_count": 79,
   "metadata": {},
   "outputs": [
    {
     "data": {
      "text/plain": [
       "tfimqaoacircuit (generic function with 1 method)"
      ]
     },
     "metadata": {},
     "output_type": "display_data"
    }
   ],
   "source": [
    "#QAOA circuit\n",
    "function tfimqaoacircuit(nqubits::Integer, nlayers::Integer; topology=nothing)\n",
    "    circuit::Vector{Gate} = []\n",
    "\n",
    "    if isnothing(topology)\n",
    "        topology = bricklayertopology(nqubits;periodic=false) #chain with obc\n",
    "    end\n",
    "\n",
    "    for i in 1:nlayers\n",
    "        rzzlayer!(circuit, topology)\n",
    "        for qubit in 1:nqubits\n",
    "            push!(circuit, CliffordGate(:S, qubit))\n",
    "            push!(circuit, PauliRotation(:X, qubit, π/2)) # Fig7: P=R_X(π/2)\n",
    "            push!(circuit, PauliRotation(:Z, qubit))\n",
    "            push!(circuit, PauliRotation(:X, qubit, π/2))\n",
    "            push!(circuit, CliffordGate(:S, qubit))\n",
    "\n",
    "        end\n",
    "    end\n",
    "    return circuit\n",
    "end"
   ]
  },
  {
   "cell_type": "code",
   "execution_count": 80,
   "metadata": {},
   "outputs": [
    {
     "data": {
      "text/plain": [
       "assign_qaoa_parameters (generic function with 1 method)"
      ]
     },
     "metadata": {},
     "output_type": "display_data"
    }
   ],
   "source": [
    "#grouped assignment of the params for QAOA circuit\n",
    "function assign_qaoa_parameters(circuit, nqubits::Integer, nlayers::Integer)\n",
    "    \n",
    "    rzz_indices = getparameterindices(circuit, PauliRotation, [:Z, :Z])\n",
    "    rz_indices = getparameterindices(circuit, PauliRotation, [:Z])\n",
    "\n",
    "    #group sizes\n",
    "    Q_minus_1 = (nqubits - 1) * nlayers  # RZZ parameters\n",
    "    Q = nqubits * nlayers                # RZ parameters\n",
    "\n",
    "    #group the random values according to circuit layout\n",
    "    thetas = zeros(maximum(vcat(rzz_indices, rz_indices)))\n",
    "    thetas[rzz_indices] .= repeat(randn(nlayers), inner=(Q_minus_1 ÷ nlayers))\n",
    "    thetas[rz_indices] .= repeat(randn(nlayers), inner=(Q ÷ nlayers))\n",
    "\n",
    "    return thetas\n",
    "end"
   ]
  },
  {
   "cell_type": "markdown",
   "metadata": {},
   "source": [
    "### Initialize circuit\n",
    "- initial parameters\n",
    "- define truncations dpending on the method of gradient computation\n",
    "- for `ReverseDiff`, better to use `max_weight` (number of non-Id in string), `max_freq`, and `max_sins`(number of sins - as in SPD) (see notebook 8)\n",
    "- define H within loss function"
   ]
  },
  {
   "cell_type": "code",
   "execution_count": 92,
   "metadata": {},
   "outputs": [
    {
     "name": "stderr",
     "output_type": "stream",
     "text": [
      "WARNING: redefinition of constant Main.nq. This may fail, cause incorrect answers, or produce other errors.\n",
      "WARNING: redefinition of constant Main.topology. This may fail, cause incorrect answers, or produce other errors.\n"
     ]
    },
    {
     "data": {
      "text/plain": [
       "2"
      ]
     },
     "metadata": {},
     "output_type": "display_data"
    }
   ],
   "source": [
    "const nq = 16 #we set const for global vars in fcts to opt performance\n",
    "const nl = 2 #number of layers\n",
    "const topology = bricklayertopology(nq;periodic=false) #chain with obc  \n",
    "const g = 2 #paramagnetic phase"
   ]
  },
  {
   "cell_type": "code",
   "execution_count": 93,
   "metadata": {},
   "outputs": [
    {
     "name": "stdout",
     "output_type": "stream",
     "text": [
      "Number of parameters: 62\n",
      "Parameters: [-0.7021951987576804, -0.7021951987576804, -0.7021951987576804, -0.7021951987576804, -0.7021951987576804, -0.7021951987576804, -0.7021951987576804, -0.7021951987576804, -0.7021951987576804, -0.7021951987576804, -0.7021951987576804, -0.7021951987576804, -0.7021951987576804, -0.7021951987576804, -0.7021951987576804, -0.9129233863399265, -0.9129233863399265, -0.9129233863399265, -0.9129233863399265, -0.9129233863399265, -0.9129233863399265, -0.9129233863399265, -0.9129233863399265, -0.9129233863399265, -0.9129233863399265, -0.9129233863399265, -0.9129233863399265, -0.9129233863399265, -0.9129233863399265, -0.9129233863399265, -0.9129233863399265, -0.07258186804586991, -0.07258186804586991, -0.07258186804586991, -0.07258186804586991, -0.07258186804586991, -0.07258186804586991, -0.07258186804586991, -0.07258186804586991, -0.07258186804586991, -0.07258186804586991, -0.07258186804586991, -0.07258186804586991, -0.07258186804586991, -0.07258186804586991, -0.07258186804586991, 0.6316208311167526, 0.6316208311167526, 0.6316208311167526, 0.6316208311167526, 0.6316208311167526, 0.6316208311167526, 0.6316208311167526, 0.6316208311167526, 0.6316208311167526, 0.6316208311167526, 0.6316208311167526, 0.6316208311167526, 0.6316208311167526, 0.6316208311167526, 0.6316208311167526, 0.6316208311167526]\n"
     ]
    },
    {
     "name": "stderr",
     "output_type": "stream",
     "text": [
      "WARNING: redefinition of constant Main.circuit. This may fail, cause incorrect answers, or produce other errors.\n"
     ]
    }
   ],
   "source": [
    "const circuit = tfimqaoacircuit(nq, nl; topology=topology)\n",
    "nparams = countparameters(circuit)\n",
    "println(\"Number of parameters: \", nparams) \n",
    "#generate random parameters\n",
    "thetas = assign_qaoa_parameters(circuit, nq, nl)\n",
    "println(\"Parameters: \", thetas)"
   ]
  },
  {
   "cell_type": "code",
   "execution_count": 94,
   "metadata": {},
   "outputs": [
    {
     "data": {
      "text/plain": [
       "5"
      ]
     },
     "metadata": {},
     "output_type": "display_data"
    }
   ],
   "source": [
    "#define the truncations\n",
    "const max_freq = 30\n",
    "const max_weight = 5 #number of non-Id Paulis in string"
   ]
  },
  {
   "cell_type": "code",
   "execution_count": 95,
   "metadata": {},
   "outputs": [
    {
     "name": "stdout",
     "output_type": "stream",
     "text": [
      "  0.000272 seconds (792 allocations: 45.297 KiB)\n"
     ]
    },
    {
     "data": {
      "text/plain": [
       "2.4507500860863285"
      ]
     },
     "metadata": {},
     "output_type": "display_data"
    }
   ],
   "source": [
    "#one expectation value (check everything works so far)\n",
    "@time psum = propagate(circuit, wrapped_H, thetas; max_freq, max_weight);\n",
    "overlapwithzero(psum)"
   ]
  },
  {
   "cell_type": "markdown",
   "metadata": {},
   "source": [
    "### Loss function and TFIM"
   ]
  },
  {
   "cell_type": "code",
   "execution_count": 96,
   "metadata": {},
   "outputs": [
    {
     "data": {
      "text/plain": [
       "lossfunction (generic function with 1 method)"
      ]
     },
     "metadata": {},
     "output_type": "display_data"
    }
   ],
   "source": [
    "function lossfunction(thetas)\n",
    "    coefftype = eltype(thetas)\n",
    "\n",
    "    H = PauliSum(nq, coefftype)\n",
    "    for qind in 1:nq\n",
    "        add!(H, :X, qind, coefftype(-g))\n",
    "    end\n",
    "    for pair in topology\n",
    "        add!(H, [:Z, :Z], collect(pair), coefftype(1.0))\n",
    "    end\n",
    "    \n",
    "    wrapped_H = wrapcoefficients(H, PauliFreqTracker) #wrap to keep track of path splitting\n",
    "\n",
    "    # be also need to run the in-place version with `!`, because by default we copy the Pauli sum\n",
    "    wrapped_H = propagate!(circuit, wrapped_H, thetas; max_freq, max_weight);\n",
    "    return overlapwithzero(wrapped_H)\n",
    "end"
   ]
  },
  {
   "cell_type": "code",
   "execution_count": 97,
   "metadata": {},
   "outputs": [
    {
     "name": "stdout",
     "output_type": "stream",
     "text": [
      "  0.618803 seconds (771.99 k allocations: 38.177 MiB, 3.83% gc time, 99.79% compilation time)\n"
     ]
    },
    {
     "data": {
      "text/plain": [
       "11.658832118986854"
      ]
     },
     "metadata": {},
     "output_type": "display_data"
    }
   ],
   "source": [
    "@time lossfunction(thetas)"
   ]
  },
  {
   "cell_type": "code",
   "execution_count": 98,
   "metadata": {},
   "outputs": [],
   "source": [
    "using ReverseDiff: GradientTape, gradient!, compile"
   ]
  },
  {
   "cell_type": "code",
   "execution_count": 99,
   "metadata": {},
   "outputs": [
    {
     "name": "stdout",
     "output_type": "stream",
     "text": [
      "  0.770832 seconds (852.77 k allocations: 40.919 MiB, 2.07% gc time, 98.98% compilation time: 55% of which was recompilation)\n",
      "  0.003403 seconds\n"
     ]
    },
    {
     "name": "stderr",
     "output_type": "stream",
     "text": [
      "WARNING: redefinition of constant Main.simulation_tape. This may fail, cause incorrect answers, or produce other errors.\n"
     ]
    },
    {
     "name": "stdout",
     "output_type": "stream",
     "text": [
      "  0.003403 seconds\n"
     ]
    }
   ],
   "source": [
    "### This is following an ReverseDiff.jl example\n",
    "\n",
    "# some inputs and work buffer to play around with\n",
    "grad_array = similar(thetas);\n",
    "\n",
    "# pre-record a GradientTape for `gradsimulation` using inputs of length m with Float64 elements\n",
    "@time const simulation_tape = GradientTape(lossfunction, thetas)\n",
    "\n",
    "# first evaluation compiles and is slower\n",
    "@time gradient!(grad_array, simulation_tape, thetas)\n",
    "# second evaluation\n",
    "@time gradient!(grad_array, simulation_tape, thetas);"
   ]
  },
  {
   "cell_type": "code",
   "execution_count": 100,
   "metadata": {},
   "outputs": [
    {
     "name": "stdout",
     "output_type": "stream",
     "text": [
      "Loss: 4.298454396808317\n",
      "Loss: -2.721288589809033\n",
      "Loss: -7.259280371534892\n",
      "Loss: -9.425226116845376\n",
      "Loss: -10.354350678623405\n",
      "Loss: -10.824226799621245\n",
      "Loss: -11.157401341519547\n",
      "Loss: -11.46216842216913\n",
      "Loss: -11.772011543574738\n",
      "Loss: -12.096103779887097\n",
      "Loss: -12.435131681982243\n",
      "Loss: -12.786307045458\n",
      "Loss: -13.145297961754597\n",
      "Loss: -13.50730236172797\n",
      "Loss: -13.867811976524164\n",
      "Loss: -14.223144390536078\n",
      "Loss: -14.570730206842688\n",
      "Loss: -14.909168408074834\n",
      "Loss: -15.238111052989872\n",
      "Loss: -15.558067754459717\n",
      "Loss: -15.870211809472455\n",
      "Loss: -16.17622514796421\n",
      "Loss: -16.478164386112837\n",
      "Loss: -16.77830024215599\n",
      "Loss: -17.078893367689307\n",
      "Loss: -17.38190598363639\n",
      "Loss: -17.68868227111924\n",
      "Loss: -17.999647165136395\n",
      "Loss: -18.314079101844253\n",
      "Loss: -18.630016092244155\n",
      "Loss: -18.944350930549902\n",
      "Loss: -19.253144608995253\n",
      "Loss: -19.55213050871184\n",
      "Loss: -19.837313880996955\n",
      "Loss: -20.105528380952407\n",
      "Loss: -20.354822834572865\n",
      "Loss: -20.58461359100211\n",
      "Loss: -20.79561671052118\n",
      "Loss: -20.989631194474434\n",
      "Loss: -21.16926118221685\n",
      "Loss: -21.337647961655364\n",
      "Loss: -21.498250120356527\n",
      "Loss: -21.654678190692312\n",
      "Loss: -21.8105663073767\n",
      "Loss: -21.969448506939468\n",
      "Loss: -22.13459991068377\n",
      "Loss: -22.308803561131754\n",
      "Loss: -22.494016818065564\n",
      "Loss: -22.690945489961894\n",
      "Loss: -22.89859577237014\n",
      "Loss: -23.113954372938363\n",
      "Loss: -23.332004724780486\n",
      "Loss: -23.546251761708227\n",
      "Loss: -23.749750792097913\n",
      "Loss: -23.93637290067645\n",
      "Loss: -24.10186488343902\n",
      "Loss: -24.244335264538847\n",
      "Loss: -24.364086506036173\n",
      "Loss: -24.463003975327208\n",
      "Loss: -24.5438212211332\n",
      "Loss: -24.6095043265052\n",
      "Loss: -24.662852640396054\n",
      "Loss: -24.706301807240994\n",
      "Loss: -24.74186785894094\n",
      "Loss: -24.771169895132797\n",
      "Loss: -24.7954863276931\n",
      "Loss: -24.815818478525625\n",
      "Loss: -24.832949004125783\n",
      "Loss: -24.847490703650173\n",
      "Loss: -24.859925307923508\n",
      "Loss: -24.870633500128537\n",
      "Loss: -24.87991785610768\n",
      "Loss: -24.888020299243518\n",
      "Loss: -24.895135393469936\n",
      "Loss: -24.901420506465005\n",
      "Loss: -24.90700362275005\n",
      "Loss: -24.91198938710244\n",
      "Loss: -24.91646380822452\n",
      "Loss: -24.9204979415356\n",
      "Loss: -24.92415078870811\n",
      "Loss: -24.927471592211322\n",
      "Loss: -24.930501659600978\n",
      "Loss: -24.93327582016848\n",
      "Loss: -24.935823592666026\n",
      "Loss: -24.938170124897546\n",
      "Loss: -24.94033695240752\n",
      "Loss: -24.94234261316604\n",
      "Loss: -24.94420314721689\n",
      "Loss: -24.945932504127846\n",
      "Loss: -24.947542876322515\n",
      "Loss: -24.949044972655386\n",
      "Loss: -24.950448243676238\n",
      "Loss: -24.95176106773318\n",
      "Loss: -24.952990905248207\n",
      "Loss: -24.95414442705883\n",
      "Loss: -24.955227621573883\n",
      "Loss: -24.956245884577356\n",
      "Loss: -24.95720409478284\n",
      "Loss: -24.95810667765508\n",
      "Loss: -24.958957659543852\n"
     ]
    }
   ],
   "source": [
    "# gradient descent\n",
    "eta = 0.1\n",
    "for i in 1:100\n",
    "    gradient!(grad_array, simulation_tape, thetas)\n",
    "    thetas .-= eta * grad_array\n",
    "    println(\"Loss: \", lossfunction(thetas))\n",
    "end"
   ]
  },
  {
   "cell_type": "code",
   "execution_count": null,
   "metadata": {},
   "outputs": [],
   "source": []
  }
 ],
 "metadata": {
  "kernelspec": {
   "display_name": "Julia 1.11.3",
   "language": "julia",
   "name": "julia-1.11"
  },
  "language_info": {
   "file_extension": ".jl",
   "mimetype": "application/julia",
   "name": "julia",
   "version": "1.11.3"
  }
 },
 "nbformat": 4,
 "nbformat_minor": 2
}
