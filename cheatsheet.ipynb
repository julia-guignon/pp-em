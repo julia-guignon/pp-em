{
 "cells": [
  {
   "cell_type": "code",
   "execution_count": null,
   "metadata": {},
   "outputs": [],
   "source": [
    "# type is infered by compilator\n",
    "# AVOID TYPE CHANGE DURING EXECUTION for performance\n",
    "# for ex., initialize at 42.0 if var is a float  \n",
    "var = 42\n",
    "typeof(var)\n",
    "\n",
    "varint = convert(Int64, var)"
   ]
  },
  {
   "cell_type": "code",
   "execution_count": null,
   "metadata": {},
   "outputs": [],
   "source": [
    "\"\"\"\n",
    "DOCSTRING\n",
    "\"\"\"\n",
    "function hello(y, z=42)\n",
    "    # do something\n",
    "    return y + 2 + z\n",
    "end\n",
    "\n",
    "# inline\n",
    "inline_hello(y) = y+2\n",
    "# not recommended: anonymous function\n",
    "anonymous_function = y -> y+2\n",
    "\n",
    "# function without argument\n",
    "function say_hi()\n",
    "    println(\"Hello from TechyTok!\")\n",
    "    return # not necessay. If ommited, return last computed value\n",
    "end\n",
    "\n",
    "# positional VS optional VS keyword arguments\n",
    "# positional: order matters, must be specified PREFERRED FOR PERFORMANCE\n",
    "# optional: has a default value, order matters, don't have to specify its name when given\n",
    "# keyword: all arguements after a ; order doesn't matter but have to precise the name of the variable we initialize.\n",
    "# Can have a default value or not.\n",
    "\n",
    "function my_long_function(a, b=2; c, d=3)\n",
    "    return a + b + c + d\n",
    "end\n",
    "# c and d keyword arguments\n",
    "my_long_function(1, c=3)            # works\n",
    "my_long_function(1, 2, c=3)         # works\n",
    "my_long_function(1, 2, d=5, c=3)    # works\n",
    "my_long_function(1, 2, d=5)         # not possible! c must be specified\n",
    "\n",
    "\n",
    "# convention: functions of the type name!(arg1, arg2) modify the first argument"
   ]
  },
  {
   "cell_type": "code",
   "execution_count": null,
   "metadata": {},
   "outputs": [],
   "source": [
    "# vectors: all elements should have same type\n",
    "a = [1,2,3,4,5]\n",
    "b = [1.2, 3,4,5]\n",
    "c = [\"Hello\", \"it's me\", \"TechyTok\"]\n",
    "\n",
    "# to specify the type of the elements\n",
    "d = Int[1, 2, 5, 2]\n",
    "\n",
    "# INDENTATION STARTS AT 1\n",
    "append!(a, 42) # appends 42 at the end of a\n",
    "\n",
    "# matrices (2D arrays)\n",
    "mat1 = [1 2 3; 4 5 6]\n",
    "\n",
    "# N-dimensional arrays\n",
    "table = zeros(2,3,8) \n",
    "for k in 1:8\n",
    "    for j in 1:3\n",
    "        for i in 1:2\n",
    "            table[i,j,k] = i*j*k\n",
    "        end\n",
    "    end\n",
    "end\n"
   ]
  }
 ],
 "metadata": {
  "kernelspec": {
   "display_name": "Julia 1.11.3",
   "language": "julia",
   "name": "julia-1.11"
  },
  "language_info": {
   "file_extension": ".jl",
   "mimetype": "application/julia",
   "name": "julia",
   "version": "1.11.3"
  }
 },
 "nbformat": 4,
 "nbformat_minor": 2
}
